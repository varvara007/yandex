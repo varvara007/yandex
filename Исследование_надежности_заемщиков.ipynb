{
  "cells": [
    {
      "cell_type": "markdown",
      "metadata": {
        "id": "view-in-github",
        "colab_type": "text"
      },
      "source": [
        "<a href=\"https://colab.research.google.com/github/varvara007/yandex/blob/main/%D0%98%D1%81%D1%81%D0%BB%D0%B5%D0%B4%D0%BE%D0%B2%D0%B0%D0%BD%D0%B8%D0%B5_%D0%BD%D0%B0%D0%B4%D0%B5%D0%B6%D0%BD%D0%BE%D1%81%D1%82%D0%B8_%D0%B7%D0%B0%D0%B5%D0%BC%D1%89%D0%B8%D0%BA%D0%BE%D0%B2.ipynb\" target=\"_parent\"><img src=\"https://colab.research.google.com/assets/colab-badge.svg\" alt=\"Open In Colab\"/></a>"
      ]
    },
    {
      "cell_type": "markdown",
      "id": "386f2ae7",
      "metadata": {
        "deletable": false,
        "editable": false,
        "id": "386f2ae7"
      },
      "source": [
        "# Исследование надежности заемщиков\n"
      ]
    },
    {
      "cell_type": "markdown",
      "id": "26613308",
      "metadata": {
        "deletable": false,
        "editable": false,
        "id": "26613308"
      },
      "source": [
        "## Откройте таблицу и изучите общую информацию о данных"
      ]
    },
    {
      "cell_type": "markdown",
      "id": "3c9f838e",
      "metadata": {
        "deletable": false,
        "editable": false,
        "id": "3c9f838e"
      },
      "source": [
        "**Задание 1. Импортируйте библиотеку pandas. Считайте данные из csv-файла в датафрейм и сохраните в переменную `data`. Путь к файлу:**\n",
        "\n",
        "`/datasets/data.csv`"
      ]
    },
    {
      "cell_type": "code",
      "execution_count": null,
      "id": "77a68a90",
      "metadata": {
        "deletable": false,
        "id": "77a68a90"
      },
      "outputs": [],
      "source": [
        "import pandas as pd\n",
        "import matplotlib.pyplot as plt\n",
        "try:\n",
        "    data = pd.read_csv('/datasets/data.csv')\n",
        "except:\n",
        "    data = pd.read_csv('https://code.s3.yandex.net/datasets/data.csv')"
      ]
    },
    {
      "cell_type": "markdown",
      "id": "45365635",
      "metadata": {
        "deletable": false,
        "editable": false,
        "id": "45365635"
      },
      "source": [
        "**Задание 2. Выведите первые 20 строчек датафрейма `data` на экран.**"
      ]
    },
    {
      "cell_type": "code",
      "execution_count": null,
      "id": "b0451a9a",
      "metadata": {
        "deletable": false,
        "id": "b0451a9a",
        "outputId": "1a8f3ef2-d323-4ec2-ddf7-89670b5944c4"
      },
      "outputs": [
        {
          "data": {
            "text/html": [
              "<div>\n",
              "<style scoped>\n",
              "    .dataframe tbody tr th:only-of-type {\n",
              "        vertical-align: middle;\n",
              "    }\n",
              "\n",
              "    .dataframe tbody tr th {\n",
              "        vertical-align: top;\n",
              "    }\n",
              "\n",
              "    .dataframe thead th {\n",
              "        text-align: right;\n",
              "    }\n",
              "</style>\n",
              "<table border=\"1\" class=\"dataframe\">\n",
              "  <thead>\n",
              "    <tr style=\"text-align: right;\">\n",
              "      <th></th>\n",
              "      <th>children</th>\n",
              "      <th>days_employed</th>\n",
              "      <th>dob_years</th>\n",
              "      <th>education</th>\n",
              "      <th>education_id</th>\n",
              "      <th>family_status</th>\n",
              "      <th>family_status_id</th>\n",
              "      <th>gender</th>\n",
              "      <th>income_type</th>\n",
              "      <th>debt</th>\n",
              "      <th>total_income</th>\n",
              "      <th>purpose</th>\n",
              "    </tr>\n",
              "  </thead>\n",
              "  <tbody>\n",
              "    <tr>\n",
              "      <th>0</th>\n",
              "      <td>1</td>\n",
              "      <td>-8437.673028</td>\n",
              "      <td>42</td>\n",
              "      <td>высшее</td>\n",
              "      <td>0</td>\n",
              "      <td>женат / замужем</td>\n",
              "      <td>0</td>\n",
              "      <td>F</td>\n",
              "      <td>сотрудник</td>\n",
              "      <td>0</td>\n",
              "      <td>253875.639453</td>\n",
              "      <td>покупка жилья</td>\n",
              "    </tr>\n",
              "    <tr>\n",
              "      <th>1</th>\n",
              "      <td>1</td>\n",
              "      <td>-4024.803754</td>\n",
              "      <td>36</td>\n",
              "      <td>среднее</td>\n",
              "      <td>1</td>\n",
              "      <td>женат / замужем</td>\n",
              "      <td>0</td>\n",
              "      <td>F</td>\n",
              "      <td>сотрудник</td>\n",
              "      <td>0</td>\n",
              "      <td>112080.014102</td>\n",
              "      <td>приобретение автомобиля</td>\n",
              "    </tr>\n",
              "    <tr>\n",
              "      <th>2</th>\n",
              "      <td>0</td>\n",
              "      <td>-5623.422610</td>\n",
              "      <td>33</td>\n",
              "      <td>Среднее</td>\n",
              "      <td>1</td>\n",
              "      <td>женат / замужем</td>\n",
              "      <td>0</td>\n",
              "      <td>M</td>\n",
              "      <td>сотрудник</td>\n",
              "      <td>0</td>\n",
              "      <td>145885.952297</td>\n",
              "      <td>покупка жилья</td>\n",
              "    </tr>\n",
              "    <tr>\n",
              "      <th>3</th>\n",
              "      <td>3</td>\n",
              "      <td>-4124.747207</td>\n",
              "      <td>32</td>\n",
              "      <td>среднее</td>\n",
              "      <td>1</td>\n",
              "      <td>женат / замужем</td>\n",
              "      <td>0</td>\n",
              "      <td>M</td>\n",
              "      <td>сотрудник</td>\n",
              "      <td>0</td>\n",
              "      <td>267628.550329</td>\n",
              "      <td>дополнительное образование</td>\n",
              "    </tr>\n",
              "    <tr>\n",
              "      <th>4</th>\n",
              "      <td>0</td>\n",
              "      <td>340266.072047</td>\n",
              "      <td>53</td>\n",
              "      <td>среднее</td>\n",
              "      <td>1</td>\n",
              "      <td>гражданский брак</td>\n",
              "      <td>1</td>\n",
              "      <td>F</td>\n",
              "      <td>пенсионер</td>\n",
              "      <td>0</td>\n",
              "      <td>158616.077870</td>\n",
              "      <td>сыграть свадьбу</td>\n",
              "    </tr>\n",
              "    <tr>\n",
              "      <th>5</th>\n",
              "      <td>0</td>\n",
              "      <td>-926.185831</td>\n",
              "      <td>27</td>\n",
              "      <td>высшее</td>\n",
              "      <td>0</td>\n",
              "      <td>гражданский брак</td>\n",
              "      <td>1</td>\n",
              "      <td>M</td>\n",
              "      <td>компаньон</td>\n",
              "      <td>0</td>\n",
              "      <td>255763.565419</td>\n",
              "      <td>покупка жилья</td>\n",
              "    </tr>\n",
              "    <tr>\n",
              "      <th>6</th>\n",
              "      <td>0</td>\n",
              "      <td>-2879.202052</td>\n",
              "      <td>43</td>\n",
              "      <td>высшее</td>\n",
              "      <td>0</td>\n",
              "      <td>женат / замужем</td>\n",
              "      <td>0</td>\n",
              "      <td>F</td>\n",
              "      <td>компаньон</td>\n",
              "      <td>0</td>\n",
              "      <td>240525.971920</td>\n",
              "      <td>операции с жильем</td>\n",
              "    </tr>\n",
              "    <tr>\n",
              "      <th>7</th>\n",
              "      <td>0</td>\n",
              "      <td>-152.779569</td>\n",
              "      <td>50</td>\n",
              "      <td>СРЕДНЕЕ</td>\n",
              "      <td>1</td>\n",
              "      <td>женат / замужем</td>\n",
              "      <td>0</td>\n",
              "      <td>M</td>\n",
              "      <td>сотрудник</td>\n",
              "      <td>0</td>\n",
              "      <td>135823.934197</td>\n",
              "      <td>образование</td>\n",
              "    </tr>\n",
              "    <tr>\n",
              "      <th>8</th>\n",
              "      <td>2</td>\n",
              "      <td>-6929.865299</td>\n",
              "      <td>35</td>\n",
              "      <td>ВЫСШЕЕ</td>\n",
              "      <td>0</td>\n",
              "      <td>гражданский брак</td>\n",
              "      <td>1</td>\n",
              "      <td>F</td>\n",
              "      <td>сотрудник</td>\n",
              "      <td>0</td>\n",
              "      <td>95856.832424</td>\n",
              "      <td>на проведение свадьбы</td>\n",
              "    </tr>\n",
              "    <tr>\n",
              "      <th>9</th>\n",
              "      <td>0</td>\n",
              "      <td>-2188.756445</td>\n",
              "      <td>41</td>\n",
              "      <td>среднее</td>\n",
              "      <td>1</td>\n",
              "      <td>женат / замужем</td>\n",
              "      <td>0</td>\n",
              "      <td>M</td>\n",
              "      <td>сотрудник</td>\n",
              "      <td>0</td>\n",
              "      <td>144425.938277</td>\n",
              "      <td>покупка жилья для семьи</td>\n",
              "    </tr>\n",
              "    <tr>\n",
              "      <th>10</th>\n",
              "      <td>2</td>\n",
              "      <td>-4171.483647</td>\n",
              "      <td>36</td>\n",
              "      <td>высшее</td>\n",
              "      <td>0</td>\n",
              "      <td>женат / замужем</td>\n",
              "      <td>0</td>\n",
              "      <td>M</td>\n",
              "      <td>компаньон</td>\n",
              "      <td>0</td>\n",
              "      <td>113943.491460</td>\n",
              "      <td>покупка недвижимости</td>\n",
              "    </tr>\n",
              "    <tr>\n",
              "      <th>11</th>\n",
              "      <td>0</td>\n",
              "      <td>-792.701887</td>\n",
              "      <td>40</td>\n",
              "      <td>среднее</td>\n",
              "      <td>1</td>\n",
              "      <td>женат / замужем</td>\n",
              "      <td>0</td>\n",
              "      <td>F</td>\n",
              "      <td>сотрудник</td>\n",
              "      <td>0</td>\n",
              "      <td>77069.234271</td>\n",
              "      <td>покупка коммерческой недвижимости</td>\n",
              "    </tr>\n",
              "    <tr>\n",
              "      <th>12</th>\n",
              "      <td>0</td>\n",
              "      <td>NaN</td>\n",
              "      <td>65</td>\n",
              "      <td>среднее</td>\n",
              "      <td>1</td>\n",
              "      <td>гражданский брак</td>\n",
              "      <td>1</td>\n",
              "      <td>M</td>\n",
              "      <td>пенсионер</td>\n",
              "      <td>0</td>\n",
              "      <td>NaN</td>\n",
              "      <td>сыграть свадьбу</td>\n",
              "    </tr>\n",
              "    <tr>\n",
              "      <th>13</th>\n",
              "      <td>0</td>\n",
              "      <td>-1846.641941</td>\n",
              "      <td>54</td>\n",
              "      <td>неоконченное высшее</td>\n",
              "      <td>2</td>\n",
              "      <td>женат / замужем</td>\n",
              "      <td>0</td>\n",
              "      <td>F</td>\n",
              "      <td>сотрудник</td>\n",
              "      <td>0</td>\n",
              "      <td>130458.228857</td>\n",
              "      <td>приобретение автомобиля</td>\n",
              "    </tr>\n",
              "    <tr>\n",
              "      <th>14</th>\n",
              "      <td>0</td>\n",
              "      <td>-1844.956182</td>\n",
              "      <td>56</td>\n",
              "      <td>высшее</td>\n",
              "      <td>0</td>\n",
              "      <td>гражданский брак</td>\n",
              "      <td>1</td>\n",
              "      <td>F</td>\n",
              "      <td>компаньон</td>\n",
              "      <td>1</td>\n",
              "      <td>165127.911772</td>\n",
              "      <td>покупка жилой недвижимости</td>\n",
              "    </tr>\n",
              "    <tr>\n",
              "      <th>15</th>\n",
              "      <td>1</td>\n",
              "      <td>-972.364419</td>\n",
              "      <td>26</td>\n",
              "      <td>среднее</td>\n",
              "      <td>1</td>\n",
              "      <td>женат / замужем</td>\n",
              "      <td>0</td>\n",
              "      <td>F</td>\n",
              "      <td>сотрудник</td>\n",
              "      <td>0</td>\n",
              "      <td>116820.904450</td>\n",
              "      <td>строительство собственной недвижимости</td>\n",
              "    </tr>\n",
              "    <tr>\n",
              "      <th>16</th>\n",
              "      <td>0</td>\n",
              "      <td>-1719.934226</td>\n",
              "      <td>35</td>\n",
              "      <td>среднее</td>\n",
              "      <td>1</td>\n",
              "      <td>женат / замужем</td>\n",
              "      <td>0</td>\n",
              "      <td>F</td>\n",
              "      <td>сотрудник</td>\n",
              "      <td>0</td>\n",
              "      <td>289202.704229</td>\n",
              "      <td>недвижимость</td>\n",
              "    </tr>\n",
              "    <tr>\n",
              "      <th>17</th>\n",
              "      <td>0</td>\n",
              "      <td>-2369.999720</td>\n",
              "      <td>33</td>\n",
              "      <td>высшее</td>\n",
              "      <td>0</td>\n",
              "      <td>гражданский брак</td>\n",
              "      <td>1</td>\n",
              "      <td>M</td>\n",
              "      <td>сотрудник</td>\n",
              "      <td>0</td>\n",
              "      <td>90410.586745</td>\n",
              "      <td>строительство недвижимости</td>\n",
              "    </tr>\n",
              "    <tr>\n",
              "      <th>18</th>\n",
              "      <td>0</td>\n",
              "      <td>400281.136913</td>\n",
              "      <td>53</td>\n",
              "      <td>среднее</td>\n",
              "      <td>1</td>\n",
              "      <td>вдовец / вдова</td>\n",
              "      <td>2</td>\n",
              "      <td>F</td>\n",
              "      <td>пенсионер</td>\n",
              "      <td>0</td>\n",
              "      <td>56823.777243</td>\n",
              "      <td>на покупку подержанного автомобиля</td>\n",
              "    </tr>\n",
              "    <tr>\n",
              "      <th>19</th>\n",
              "      <td>0</td>\n",
              "      <td>-10038.818549</td>\n",
              "      <td>48</td>\n",
              "      <td>СРЕДНЕЕ</td>\n",
              "      <td>1</td>\n",
              "      <td>в разводе</td>\n",
              "      <td>3</td>\n",
              "      <td>F</td>\n",
              "      <td>сотрудник</td>\n",
              "      <td>0</td>\n",
              "      <td>242831.107982</td>\n",
              "      <td>на покупку своего автомобиля</td>\n",
              "    </tr>\n",
              "  </tbody>\n",
              "</table>\n",
              "</div>"
            ],
            "text/plain": [
              "    children  days_employed  dob_years            education  education_id  \\\n",
              "0          1   -8437.673028         42               высшее             0   \n",
              "1          1   -4024.803754         36              среднее             1   \n",
              "2          0   -5623.422610         33              Среднее             1   \n",
              "3          3   -4124.747207         32              среднее             1   \n",
              "4          0  340266.072047         53              среднее             1   \n",
              "5          0    -926.185831         27               высшее             0   \n",
              "6          0   -2879.202052         43               высшее             0   \n",
              "7          0    -152.779569         50              СРЕДНЕЕ             1   \n",
              "8          2   -6929.865299         35               ВЫСШЕЕ             0   \n",
              "9          0   -2188.756445         41              среднее             1   \n",
              "10         2   -4171.483647         36               высшее             0   \n",
              "11         0    -792.701887         40              среднее             1   \n",
              "12         0            NaN         65              среднее             1   \n",
              "13         0   -1846.641941         54  неоконченное высшее             2   \n",
              "14         0   -1844.956182         56               высшее             0   \n",
              "15         1    -972.364419         26              среднее             1   \n",
              "16         0   -1719.934226         35              среднее             1   \n",
              "17         0   -2369.999720         33               высшее             0   \n",
              "18         0  400281.136913         53              среднее             1   \n",
              "19         0  -10038.818549         48              СРЕДНЕЕ             1   \n",
              "\n",
              "       family_status  family_status_id gender income_type  debt  \\\n",
              "0    женат / замужем                 0      F   сотрудник     0   \n",
              "1    женат / замужем                 0      F   сотрудник     0   \n",
              "2    женат / замужем                 0      M   сотрудник     0   \n",
              "3    женат / замужем                 0      M   сотрудник     0   \n",
              "4   гражданский брак                 1      F   пенсионер     0   \n",
              "5   гражданский брак                 1      M   компаньон     0   \n",
              "6    женат / замужем                 0      F   компаньон     0   \n",
              "7    женат / замужем                 0      M   сотрудник     0   \n",
              "8   гражданский брак                 1      F   сотрудник     0   \n",
              "9    женат / замужем                 0      M   сотрудник     0   \n",
              "10   женат / замужем                 0      M   компаньон     0   \n",
              "11   женат / замужем                 0      F   сотрудник     0   \n",
              "12  гражданский брак                 1      M   пенсионер     0   \n",
              "13   женат / замужем                 0      F   сотрудник     0   \n",
              "14  гражданский брак                 1      F   компаньон     1   \n",
              "15   женат / замужем                 0      F   сотрудник     0   \n",
              "16   женат / замужем                 0      F   сотрудник     0   \n",
              "17  гражданский брак                 1      M   сотрудник     0   \n",
              "18    вдовец / вдова                 2      F   пенсионер     0   \n",
              "19         в разводе                 3      F   сотрудник     0   \n",
              "\n",
              "     total_income                                 purpose  \n",
              "0   253875.639453                           покупка жилья  \n",
              "1   112080.014102                 приобретение автомобиля  \n",
              "2   145885.952297                           покупка жилья  \n",
              "3   267628.550329              дополнительное образование  \n",
              "4   158616.077870                         сыграть свадьбу  \n",
              "5   255763.565419                           покупка жилья  \n",
              "6   240525.971920                       операции с жильем  \n",
              "7   135823.934197                             образование  \n",
              "8    95856.832424                   на проведение свадьбы  \n",
              "9   144425.938277                 покупка жилья для семьи  \n",
              "10  113943.491460                    покупка недвижимости  \n",
              "11   77069.234271       покупка коммерческой недвижимости  \n",
              "12            NaN                         сыграть свадьбу  \n",
              "13  130458.228857                 приобретение автомобиля  \n",
              "14  165127.911772              покупка жилой недвижимости  \n",
              "15  116820.904450  строительство собственной недвижимости  \n",
              "16  289202.704229                            недвижимость  \n",
              "17   90410.586745              строительство недвижимости  \n",
              "18   56823.777243      на покупку подержанного автомобиля  \n",
              "19  242831.107982            на покупку своего автомобиля  "
            ]
          },
          "execution_count": 3,
          "metadata": {},
          "output_type": "execute_result"
        }
      ],
      "source": [
        "data.head(20)"
      ]
    },
    {
      "cell_type": "markdown",
      "id": "0ed8f27f",
      "metadata": {
        "deletable": false,
        "editable": false,
        "id": "0ed8f27f"
      },
      "source": [
        "**Задание 3. Выведите основную информацию о датафрейме с помощью метода `info()`.**"
      ]
    },
    {
      "cell_type": "code",
      "execution_count": null,
      "id": "ab3f863b",
      "metadata": {
        "deletable": false,
        "id": "ab3f863b",
        "outputId": "15376089-8dad-46c9-b520-c05248d43158"
      },
      "outputs": [
        {
          "name": "stdout",
          "output_type": "stream",
          "text": [
            "<class 'pandas.core.frame.DataFrame'>\n",
            "RangeIndex: 21525 entries, 0 to 21524\n",
            "Data columns (total 12 columns):\n",
            " #   Column            Non-Null Count  Dtype  \n",
            "---  ------            --------------  -----  \n",
            " 0   children          21525 non-null  int64  \n",
            " 1   days_employed     19351 non-null  float64\n",
            " 2   dob_years         21525 non-null  int64  \n",
            " 3   education         21525 non-null  object \n",
            " 4   education_id      21525 non-null  int64  \n",
            " 5   family_status     21525 non-null  object \n",
            " 6   family_status_id  21525 non-null  int64  \n",
            " 7   gender            21525 non-null  object \n",
            " 8   income_type       21525 non-null  object \n",
            " 9   debt              21525 non-null  int64  \n",
            " 10  total_income      19351 non-null  float64\n",
            " 11  purpose           21525 non-null  object \n",
            "dtypes: float64(2), int64(5), object(5)\n",
            "memory usage: 2.0+ MB\n"
          ]
        }
      ],
      "source": [
        "data.info()"
      ]
    },
    {
      "cell_type": "markdown",
      "id": "60e3e22d",
      "metadata": {
        "deletable": false,
        "editable": false,
        "id": "60e3e22d"
      },
      "source": [
        "## Предобработка данных"
      ]
    },
    {
      "cell_type": "markdown",
      "id": "03dc170c",
      "metadata": {
        "deletable": false,
        "editable": false,
        "id": "03dc170c"
      },
      "source": [
        "### Удаление пропусков"
      ]
    },
    {
      "cell_type": "markdown",
      "id": "a4f54eef",
      "metadata": {
        "deletable": false,
        "editable": false,
        "id": "a4f54eef"
      },
      "source": [
        "**Задание 4. Выведите количество пропущенных значений для каждого столбца. Используйте комбинацию двух методов.**"
      ]
    },
    {
      "cell_type": "code",
      "execution_count": null,
      "id": "2dc372b2",
      "metadata": {
        "deletable": false,
        "id": "2dc372b2",
        "outputId": "81f4d817-781c-465c-ed15-91ce4446810d"
      },
      "outputs": [
        {
          "data": {
            "text/plain": [
              "children               0\n",
              "days_employed       2174\n",
              "dob_years              0\n",
              "education              0\n",
              "education_id           0\n",
              "family_status          0\n",
              "family_status_id       0\n",
              "gender                 0\n",
              "income_type            0\n",
              "debt                   0\n",
              "total_income        2174\n",
              "purpose                0\n",
              "dtype: int64"
            ]
          },
          "execution_count": 5,
          "metadata": {},
          "output_type": "execute_result"
        }
      ],
      "source": [
        "data.isna().sum()"
      ]
    },
    {
      "cell_type": "markdown",
      "id": "14f011b1",
      "metadata": {
        "deletable": false,
        "editable": false,
        "id": "14f011b1"
      },
      "source": [
        "**Задание 5. В двух столбцах есть пропущенные значения. Один из них — `days_employed`. Пропуски в этом столбце вы обработаете на следующем этапе. Другой столбец с пропущенными значениями — `total_income` — хранит данные о доходах. На сумму дохода сильнее всего влияет тип занятости, поэтому заполнить пропуски в этом столбце нужно медианным значением по каждому типу из столбца `income_type`. Например, у человека с типом занятости `сотрудник` пропуск в столбце `total_income` должен быть заполнен медианным доходом среди всех записей с тем же типом.**"
      ]
    },
    {
      "cell_type": "code",
      "execution_count": null,
      "id": "bdabfb6e",
      "metadata": {
        "deletable": false,
        "id": "bdabfb6e"
      },
      "outputs": [],
      "source": [
        "for t in data['income_type'].unique():\n",
        "    data.loc[(data['income_type'] == t) & (data['total_income'].isna()), 'total_income'] = \\\n",
        "    data.loc[(data['income_type'] == t), 'total_income'].median()"
      ]
    },
    {
      "cell_type": "markdown",
      "id": "5be34059",
      "metadata": {
        "deletable": false,
        "editable": false,
        "id": "5be34059"
      },
      "source": [
        "### Обработка аномальных значений"
      ]
    },
    {
      "cell_type": "markdown",
      "id": "a87606cb",
      "metadata": {
        "deletable": false,
        "editable": false,
        "id": "a87606cb"
      },
      "source": [
        "**Задание 6. В данных могут встречаться артефакты (аномалии) — значения, которые не отражают действительность и появились по какой-то ошибке. таким артефактом будет отрицательное количество дней трудового стажа в столбце `days_employed`. Для реальных данных это нормально. Обработайте значения в этом столбце: замените все отрицательные значения положительными с помощью метода `abs()`.**"
      ]
    },
    {
      "cell_type": "code",
      "execution_count": null,
      "id": "020c46cc",
      "metadata": {
        "deletable": false,
        "id": "020c46cc"
      },
      "outputs": [],
      "source": [
        "data['days_employed'] = data['days_employed'].abs()"
      ]
    },
    {
      "cell_type": "markdown",
      "id": "45538a3a",
      "metadata": {
        "deletable": false,
        "editable": false,
        "id": "45538a3a"
      },
      "source": [
        "**Задание 7. Для каждого типа занятости выведите медианное значение трудового стажа `days_employed` в днях.**"
      ]
    },
    {
      "cell_type": "code",
      "execution_count": null,
      "id": "cd3e6328",
      "metadata": {
        "deletable": false,
        "id": "cd3e6328",
        "outputId": "801ef80e-522b-4668-f34e-565af7432bcf"
      },
      "outputs": [
        {
          "data": {
            "text/plain": [
              "income_type\n",
              "безработный        366413.652744\n",
              "в декрете            3296.759962\n",
              "госслужащий          2689.368353\n",
              "компаньон            1547.382223\n",
              "пенсионер          365213.306266\n",
              "предприниматель       520.848083\n",
              "сотрудник            1574.202821\n",
              "студент               578.751554\n",
              "Name: days_employed, dtype: float64"
            ]
          },
          "execution_count": 8,
          "metadata": {},
          "output_type": "execute_result"
        }
      ],
      "source": [
        "data.groupby('income_type')['days_employed'].agg('median')"
      ]
    },
    {
      "cell_type": "markdown",
      "id": "90c5f058",
      "metadata": {
        "deletable": false,
        "editable": false,
        "id": "90c5f058"
      },
      "source": [
        "У двух типов (безработные и пенсионеры) получатся аномально большие значения. Исправить такие значения сложно, поэтому оставьте их как есть."
      ]
    },
    {
      "cell_type": "markdown",
      "id": "9652e50d",
      "metadata": {
        "deletable": false,
        "editable": false,
        "id": "9652e50d"
      },
      "source": [
        "**Задание 8. Выведите перечень уникальных значений столбца `children`.**"
      ]
    },
    {
      "cell_type": "code",
      "execution_count": null,
      "id": "dbb37b8e",
      "metadata": {
        "deletable": false,
        "id": "dbb37b8e",
        "outputId": "6975b15c-7f95-4697-d16d-a0c79b657b03"
      },
      "outputs": [
        {
          "data": {
            "text/plain": [
              "array([ 1,  0,  3,  2, -1,  4, 20,  5])"
            ]
          },
          "execution_count": 9,
          "metadata": {},
          "output_type": "execute_result"
        }
      ],
      "source": [
        "data['children'].unique()"
      ]
    },
    {
      "cell_type": "markdown",
      "id": "2b8b0715",
      "metadata": {
        "deletable": false,
        "editable": false,
        "id": "2b8b0715"
      },
      "source": [
        "**Задание 9. В столбце `children` есть два аномальных значения. Удалите строки, в которых встречаются такие аномальные значения из датафрейма `data`.**"
      ]
    },
    {
      "cell_type": "code",
      "execution_count": null,
      "id": "20009df8",
      "metadata": {
        "deletable": false,
        "id": "20009df8"
      },
      "outputs": [],
      "source": [
        "data = data[(data['children'] != -1) & (data['children'] != 20)]"
      ]
    },
    {
      "cell_type": "markdown",
      "id": "8c6ac9f1",
      "metadata": {
        "deletable": false,
        "editable": false,
        "id": "8c6ac9f1"
      },
      "source": [
        "**Задание 10. Ещё раз выведите перечень уникальных значений столбца `children`, чтобы убедиться, что артефакты удалены.**"
      ]
    },
    {
      "cell_type": "code",
      "execution_count": null,
      "id": "07337b81",
      "metadata": {
        "deletable": false,
        "id": "07337b81",
        "outputId": "b2097101-d49d-44d9-901b-32a65c9463d1"
      },
      "outputs": [
        {
          "data": {
            "text/plain": [
              "array([1, 0, 3, 2, 4, 5])"
            ]
          },
          "execution_count": 11,
          "metadata": {},
          "output_type": "execute_result"
        }
      ],
      "source": [
        "data['children'].unique()"
      ]
    },
    {
      "cell_type": "markdown",
      "id": "ee3f52d4",
      "metadata": {
        "deletable": false,
        "editable": false,
        "id": "ee3f52d4"
      },
      "source": [
        "### Удаление пропусков (продолжение)"
      ]
    },
    {
      "cell_type": "markdown",
      "id": "a700b0e4",
      "metadata": {
        "deletable": false,
        "editable": false,
        "id": "a700b0e4"
      },
      "source": [
        "**Задание 11. Заполните пропуски в столбце `days_employed` медианными значениями по каждого типа занятости `income_type`.**"
      ]
    },
    {
      "cell_type": "code",
      "execution_count": null,
      "id": "61946b83",
      "metadata": {
        "deletable": false,
        "id": "61946b83"
      },
      "outputs": [],
      "source": [
        "for t in data['income_type'].unique():\n",
        "    data.loc[(data['income_type'] == t) & (data['days_employed'].isna()), 'days_employed'] = \\\n",
        "    data.loc[(data['income_type'] == t), 'days_employed'].median()"
      ]
    },
    {
      "cell_type": "markdown",
      "id": "550dcd9b",
      "metadata": {
        "deletable": false,
        "editable": false,
        "id": "550dcd9b"
      },
      "source": [
        "**Задание 12. Убедитесь, что все пропуски заполнены. Проверьте себя и ещё раз выведите количество пропущенных значений для каждого столбца с помощью двух методов.**"
      ]
    },
    {
      "cell_type": "code",
      "execution_count": null,
      "id": "937c7014",
      "metadata": {
        "deletable": false,
        "id": "937c7014",
        "outputId": "8da1e4e1-358e-4e87-98c9-f261bce0a7b2"
      },
      "outputs": [
        {
          "data": {
            "text/plain": [
              "children            0\n",
              "days_employed       0\n",
              "dob_years           0\n",
              "education           0\n",
              "education_id        0\n",
              "family_status       0\n",
              "family_status_id    0\n",
              "gender              0\n",
              "income_type         0\n",
              "debt                0\n",
              "total_income        0\n",
              "purpose             0\n",
              "dtype: int64"
            ]
          },
          "execution_count": 13,
          "metadata": {},
          "output_type": "execute_result"
        }
      ],
      "source": [
        "data.isna().sum()"
      ]
    },
    {
      "cell_type": "markdown",
      "id": "d522e295",
      "metadata": {
        "deletable": false,
        "editable": false,
        "id": "d522e295"
      },
      "source": [
        "### Изменение типов данных"
      ]
    },
    {
      "cell_type": "markdown",
      "id": "c229c581",
      "metadata": {
        "deletable": false,
        "editable": false,
        "id": "c229c581"
      },
      "source": [
        "**Задание 13. Замените вещественный тип данных в столбце `total_income` на целочисленный с помощью метода `astype()`.**"
      ]
    },
    {
      "cell_type": "code",
      "execution_count": null,
      "id": "31036462",
      "metadata": {
        "deletable": false,
        "id": "31036462"
      },
      "outputs": [],
      "source": [
        "data['total_income'] = data['total_income'].astype(int)"
      ]
    },
    {
      "cell_type": "markdown",
      "id": "b8e3d1d9",
      "metadata": {
        "deletable": false,
        "editable": false,
        "id": "b8e3d1d9"
      },
      "source": [
        "### Обработка дубликатов"
      ]
    },
    {
      "cell_type": "markdown",
      "id": "9be53c49",
      "metadata": {
        "deletable": false,
        "editable": false,
        "id": "9be53c49"
      },
      "source": [
        "**Задание 14. Обработайте неявные дубликаты в столбце `education`. В этом столбце есть одни и те же значения, но записанные по-разному: с использованием заглавных и строчных букв. Приведите их к нижнему регистру.**"
      ]
    },
    {
      "cell_type": "code",
      "execution_count": null,
      "id": "d89e73e1",
      "metadata": {
        "deletable": false,
        "id": "d89e73e1"
      },
      "outputs": [],
      "source": [
        "data['education'] = data['education'].str.lower()"
      ]
    },
    {
      "cell_type": "markdown",
      "id": "01d4500e",
      "metadata": {
        "deletable": false,
        "editable": false,
        "id": "01d4500e"
      },
      "source": [
        "**Задание 15. Выведите на экран количество строк-дубликатов в данных. Если такие строки присутствуют, удалите их.**"
      ]
    },
    {
      "cell_type": "code",
      "execution_count": null,
      "id": "e10efb23",
      "metadata": {
        "deletable": false,
        "id": "e10efb23",
        "outputId": "9684deba-1934-42d1-99e1-cda61740f822"
      },
      "outputs": [
        {
          "data": {
            "text/plain": [
              "71"
            ]
          },
          "execution_count": 16,
          "metadata": {},
          "output_type": "execute_result"
        }
      ],
      "source": [
        "data.duplicated().sum()"
      ]
    },
    {
      "cell_type": "code",
      "execution_count": null,
      "id": "df853f20",
      "metadata": {
        "deletable": false,
        "id": "df853f20"
      },
      "outputs": [],
      "source": [
        "data = data.drop_duplicates()"
      ]
    },
    {
      "cell_type": "markdown",
      "id": "627be38f",
      "metadata": {
        "deletable": false,
        "editable": false,
        "id": "627be38f"
      },
      "source": [
        "### Категоризация данных"
      ]
    },
    {
      "cell_type": "markdown",
      "id": "4684c3e0",
      "metadata": {
        "deletable": false,
        "editable": false,
        "id": "4684c3e0"
      },
      "source": [
        "**Задание 16. На основании диапазонов, указанных ниже, создайте в датафрейме `data` столбец `total_income_category` с категориями:**\n",
        "\n",
        "- 0–30000 — `'E'`;\n",
        "- 30001–50000 — `'D'`;\n",
        "- 50001–200000 — `'C'`;\n",
        "- 200001–1000000 — `'B'`;\n",
        "- 1000001 и выше — `'A'`.\n",
        "\n",
        "\n",
        "**Например, кредитополучателю с доходом 25000 нужно назначить категорию `'E'`, а клиенту, получающему 235000, — `'B'`. Используйте собственную функцию с именем `categorize_income()` и метод `apply()`.**"
      ]
    },
    {
      "cell_type": "code",
      "execution_count": null,
      "id": "78965238",
      "metadata": {
        "deletable": false,
        "id": "78965238"
      },
      "outputs": [],
      "source": [
        "def categorize_income(income):\n",
        "    try:\n",
        "        if 0 <= income <= 30000:\n",
        "            return 'E'\n",
        "        elif 30001 <= income <= 50000:\n",
        "            return 'D'\n",
        "        elif 50001 <= income <= 200000:\n",
        "            return 'C'\n",
        "        elif 200001 <= income <= 1000000:\n",
        "            return 'B'\n",
        "        elif income >= 1000001:\n",
        "            return 'A'\n",
        "    except:\n",
        "        pass"
      ]
    },
    {
      "cell_type": "code",
      "execution_count": null,
      "id": "0980ada1",
      "metadata": {
        "deletable": false,
        "id": "0980ada1"
      },
      "outputs": [],
      "source": [
        "data['total_income_category'] = data['total_income'].apply(categorize_income)"
      ]
    },
    {
      "cell_type": "markdown",
      "id": "9917bba0",
      "metadata": {
        "deletable": false,
        "editable": false,
        "id": "9917bba0"
      },
      "source": [
        "**Задание 17. Выведите на экран перечень уникальных целей взятия кредита из столбца `purpose`.**"
      ]
    },
    {
      "cell_type": "code",
      "execution_count": null,
      "id": "ee07b65e",
      "metadata": {
        "deletable": false,
        "id": "ee07b65e",
        "outputId": "673c12d9-7d7e-4ae0-9812-c622c89dd244"
      },
      "outputs": [
        {
          "data": {
            "text/plain": [
              "array(['покупка жилья', 'приобретение автомобиля',\n",
              "       'дополнительное образование', 'сыграть свадьбу',\n",
              "       'операции с жильем', 'образование', 'на проведение свадьбы',\n",
              "       'покупка жилья для семьи', 'покупка недвижимости',\n",
              "       'покупка коммерческой недвижимости', 'покупка жилой недвижимости',\n",
              "       'строительство собственной недвижимости', 'недвижимость',\n",
              "       'строительство недвижимости', 'на покупку подержанного автомобиля',\n",
              "       'на покупку своего автомобиля',\n",
              "       'операции с коммерческой недвижимостью',\n",
              "       'строительство жилой недвижимости', 'жилье',\n",
              "       'операции со своей недвижимостью', 'автомобили',\n",
              "       'заняться образованием', 'сделка с подержанным автомобилем',\n",
              "       'получение образования', 'автомобиль', 'свадьба',\n",
              "       'получение дополнительного образования', 'покупка своего жилья',\n",
              "       'операции с недвижимостью', 'получение высшего образования',\n",
              "       'свой автомобиль', 'сделка с автомобилем',\n",
              "       'профильное образование', 'высшее образование',\n",
              "       'покупка жилья для сдачи', 'на покупку автомобиля', 'ремонт жилью',\n",
              "       'заняться высшим образованием'], dtype=object)"
            ]
          },
          "execution_count": 20,
          "metadata": {},
          "output_type": "execute_result"
        }
      ],
      "source": [
        "data['purpose'].unique()"
      ]
    },
    {
      "cell_type": "markdown",
      "id": "52b79d56",
      "metadata": {
        "deletable": false,
        "editable": false,
        "id": "52b79d56"
      },
      "source": [
        "**Задание 18. Создайте функцию, которая на основании данных из столбца `purpose` сформирует новый столбец `purpose_category`, в который войдут следующие категории:**\n",
        "\n",
        "- `'операции с автомобилем'`,\n",
        "- `'операции с недвижимостью'`,\n",
        "- `'проведение свадьбы'`,\n",
        "- `'получение образования'`.\n",
        "\n",
        "**Например, если в столбце `purpose` находится подстрока `'на покупку автомобиля'`, то в столбце `purpose_category` должна появиться строка `'операции с автомобилем'`.**\n",
        "\n",
        "**Используйте собственную функцию с именем `categorize_purpose()` и метод `apply()`. Изучите данные в столбце `purpose` и определите, какие подстроки помогут вам правильно определить категорию.**"
      ]
    },
    {
      "cell_type": "code",
      "execution_count": null,
      "id": "be41da5d",
      "metadata": {
        "deletable": false,
        "id": "be41da5d"
      },
      "outputs": [],
      "source": [
        "def categorize_purpose(row):\n",
        "    try:\n",
        "        if 'автом' in row:\n",
        "            return 'операции с автомобилем'\n",
        "        elif 'жил' in row or 'недвиж' in row:\n",
        "            return 'операции с недвижимостью'\n",
        "        elif 'свад' in row:\n",
        "            return 'проведение свадьбы'\n",
        "        elif 'образов' in row:\n",
        "            return 'получение образования'\n",
        "    except:\n",
        "        return 'нет категории'"
      ]
    },
    {
      "cell_type": "code",
      "execution_count": null,
      "id": "94c4a19a",
      "metadata": {
        "deletable": false,
        "id": "94c4a19a"
      },
      "outputs": [],
      "source": [
        "data['purpose_category'] = data['purpose'].apply(categorize_purpose)"
      ]
    },
    {
      "cell_type": "markdown",
      "id": "3d596c34",
      "metadata": {
        "deletable": false,
        "editable": false,
        "id": "3d596c34"
      },
      "source": [
        "### Шаг 3. Исследуйте данные и ответьте на вопросы"
      ]
    },
    {
      "cell_type": "markdown",
      "id": "648db036",
      "metadata": {
        "deletable": false,
        "editable": false,
        "id": "648db036"
      },
      "source": [
        "#### 3.1 Есть ли зависимость между количеством детей и возвратом кредита в срок?"
      ]
    },
    {
      "cell_type": "code",
      "execution_count": null,
      "id": "7fcff25e",
      "metadata": {
        "deletable": false,
        "id": "7fcff25e",
        "outputId": "3931f342-4f42-4b8d-88af-e01e2597267f"
      },
      "outputs": [
        {
          "name": "stdout",
          "output_type": "stream",
          "text": [
            "debt          0     1  % людей, который не выплатили в срок\n",
            "children                                                   \n",
            "0         13028  1063                              7.543822\n",
            "1          4364   444                              9.234609\n",
            "2          1858   194                              9.454191\n"
          ]
        }
      ],
      "source": [
        "# Ваш код будет здесь. Вы можете создавать новые ячейки.\n",
        "pivot_table = data[data['children'] < 3].pivot_table(index='children', columns='debt', aggfunc='size', fill_value=0)\n",
        "pivot_table['% людей, который не выплатили в срок'] = pivot_table[1] / (pivot_table[0] + pivot_table[1]) * 100\n",
        "print(pivot_table)\n"
      ]
    },
    {
      "cell_type": "markdown",
      "id": "faae61c2",
      "metadata": {
        "deletable": false,
        "id": "faae61c2"
      },
      "source": [
        "**Вывод:** Между этими переменными есть очень слабая положительная корреляция, что приводит к выводу о том, что зависимость между количеством детей и возвратом кредита в срок есть, но она мала, что также можно наблюдать по сводной таблице, так как нет какой-то четкой закономерности."
      ]
    },
    {
      "cell_type": "markdown",
      "id": "e297cf28",
      "metadata": {
        "id": "e297cf28"
      },
      "source": [
        "<div class=\"alert alert-block alert-info\">\n",
        "    \n",
        "<h3> Комментарий студента  <a class=\"tocSkip\"></h3>\n",
        "Зависимость между количеством детей и возвратом кредита в срок есть, по сводной таблице можно наблюдать,что процент выплаты у людей без детей больше на 2%, чем у тех, у кого есть дети.\n",
        "\n",
        "</div>"
      ]
    },
    {
      "cell_type": "markdown",
      "id": "74c9b3a7",
      "metadata": {
        "deletable": false,
        "editable": false,
        "id": "74c9b3a7"
      },
      "source": [
        "#### 3.2 Есть ли зависимость между семейным положением и возвратом кредита в срок?"
      ]
    },
    {
      "cell_type": "code",
      "execution_count": null,
      "id": "8098ab3b",
      "metadata": {
        "deletable": false,
        "id": "8098ab3b",
        "outputId": "c5e48d62-6571-45ac-9997-f2dcb2c32e2a"
      },
      "outputs": [
        {
          "name": "stdout",
          "output_type": "stream",
          "text": [
            "debt                       0    1  % людей, который не выплатили в срок\n",
            "family_status                                                          \n",
            "Не женат / не замужем   2523  273                              9.763948\n",
            "в разводе               1105   84                              7.064760\n",
            "вдовец / вдова           888   63                              6.624606\n",
            "гражданский брак        3749  385                              9.313014\n",
            "женат / замужем        11334  927                              7.560558\n"
          ]
        }
      ],
      "source": [
        "# Ваш код будет здесь. Вы можете создавать новые ячейки.\n",
        "pivot_table = data.pivot_table(index='family_status', columns='debt', aggfunc='size', fill_value=0)\n",
        "pivot_table['% людей, который не выплатили в срок'] = pivot_table[1] / (pivot_table[0] + pivot_table[1]) * 100\n",
        "print(pivot_table)"
      ]
    },
    {
      "cell_type": "code",
      "execution_count": null,
      "id": "749323b8",
      "metadata": {
        "id": "749323b8",
        "outputId": "b5c3e01e-d30a-4d8a-a80f-74343832c3a3"
      },
      "outputs": [
        {
          "name": "stdout",
          "output_type": "stream",
          "text": [
            "debt                0     1  % людей, которые не выплатили в срок\n",
            "marital_status                                                   \n",
            "В браке         15083  1312                              8.002440\n",
            "Не в браке       4516   420                              8.508914\n"
          ]
        }
      ],
      "source": [
        "data['marital_status'] = data['family_status'].apply(lambda x: 'В браке' if x in ['женат / замужем', 'гражданский брак'] else 'Не в браке')\n",
        "\n",
        "pivot_table_marital = data.pivot_table(index='marital_status', columns='debt', aggfunc='size', fill_value=0)\n",
        "pivot_table_marital['% людей, которые не выплатили в срок'] = pivot_table_marital[1] / (pivot_table_marital[0] + pivot_table_marital[1]) * 100\n",
        "print(pivot_table_marital)\n"
      ]
    },
    {
      "cell_type": "markdown",
      "id": "c389ca63",
      "metadata": {
        "deletable": false,
        "id": "c389ca63"
      },
      "source": [
        "**Вывод:** Исходя из данных, представленных в сводной таблице, можно сделать вывод, что люди, не состоящие в браке, менее ответственно относятся к выплате кредита."
      ]
    },
    {
      "cell_type": "markdown",
      "id": "c8dd3a6c",
      "metadata": {
        "id": "c8dd3a6c"
      },
      "source": [
        "<div class=\"alert alert-block alert-info\">\n",
        "    \n",
        "<h3> Комментарий студента  <a class=\"tocSkip\"></h3>\n",
        "Сводная таблица показывает, что семейное положение влияет на своевременность возврата кредита. Люди, состоящие в браке, обычно более ответственно относятся к своим финансовым обязательствам и вовремя выплачивают кредиты.\n",
        "</div>"
      ]
    },
    {
      "cell_type": "markdown",
      "id": "9529de68",
      "metadata": {
        "deletable": false,
        "editable": false,
        "id": "9529de68"
      },
      "source": [
        "#### 3.3 Есть ли зависимость между уровнем дохода и возвратом кредита в срок?"
      ]
    },
    {
      "cell_type": "code",
      "execution_count": null,
      "id": "8787f44a",
      "metadata": {
        "deletable": false,
        "id": "8787f44a",
        "outputId": "593de5e7-74c5-4ca8-ce8d-7191daf4a071"
      },
      "outputs": [
        {
          "name": "stdout",
          "output_type": "stream",
          "text": [
            "debt                       0     1  % людей, который не выплатили в срок\n",
            "total_income_category                                                   \n",
            "A                         23     2                              8.000000\n",
            "B                       4660   354                              7.060231\n",
            "C                      14568  1353                              8.498210\n",
            "D                        328    21                              6.017192\n",
            "E                         20     2                              9.090909\n"
          ]
        }
      ],
      "source": [
        "# Ваш код будет здесь. Вы можете создавать новые ячейки.\n",
        "pivot_table = data.pivot_table(index='total_income_category', columns='debt', aggfunc='size', fill_value=0)\n",
        "pivot_table['% людей, который не выплатили в срок'] = pivot_table[1] / (pivot_table[0] + pivot_table[1]) * 100\n",
        "print(pivot_table)"
      ]
    },
    {
      "cell_type": "markdown",
      "id": "6dd14b57",
      "metadata": {
        "deletable": false,
        "id": "6dd14b57"
      },
      "source": [
        "**Вывод:** Если разделить зарплату на категории:\n",
        "\n",
        "0–30 000 — «E»;\n",
        "30 001–50 000 — «D»;\n",
        "50 001–200 000 — «C»;\n",
        "200 001–1 000 000 — «B»;\n",
        "1 000 001 и более — «A»,\n",
        "\n",
        "то можно составить сводную таблицу, которая покажет процент возврата кредитов для каждой категории. Процент не возврата для категории «С» оказывается достаточно небольшим по сравнению с другими категориями. Это позволяет предположить, что существует связь между уровнем дохода и своевременным возвратом кредита. Однако по категориям «A» и «E» сложно сделать какие-либо выводы, так как данных для анализа недостаточно."
      ]
    },
    {
      "cell_type": "markdown",
      "id": "a67c060c",
      "metadata": {
        "id": "a67c060c"
      },
      "source": [
        "<div class=\"alert alert-block alert-info\">\n",
        "    \n",
        "<h3> Комментарий студента  <a class=\"tocSkip\"></h3>\n",
        "\n",
        "0–30 000 — категория «E»;\n",
        "30 001–50 000 — категория «D»;\n",
        "50 001–200 000 — категория «C»;\n",
        "200 001–1 000 000 — категория «B»;\n",
        "1 000 001 и более — категория «A».\n",
        "\n",
        "Если составить сводную таблицу, можно увидеть процент возврата кредитов для каждой категории. Процент невозврата кредитов в категории «С» довольно низкий по сравнению с другими категориями. Это может указывать на связь между уровнем дохода и своевременностью возврата кредита. Однако по категориям «A» и «E» сложно делать выводы, так как данных для анализа недостаточно.\n",
        "\n",
        "Также сравним две наиболее большие группы B  и C:\n",
        "\n",
        "* В группе C больше людей, которые не выплатили долг в срок, чем в группе B (8,50% против 7,06%).\n",
        "* В группе C больше общее количество людей и больше невыплативших долг в срок по сравнению с группой B.\n",
        "* В группе B немного меньший процент невыплативших долг в срок, что может указывать на более высокую финансовую дисциплину этой группы.\n",
        "    \n",
        "    \n",
        "Можно прийти к выводу о том, что уровень дохода, влияет на надежность кредитора, чем выше заработок, тем процент не выплаты меньше.\n",
        "</div>\n"
      ]
    },
    {
      "cell_type": "markdown",
      "id": "1dcc9b12",
      "metadata": {
        "deletable": false,
        "editable": false,
        "id": "1dcc9b12"
      },
      "source": [
        "#### 3.4 Как разные цели кредита влияют на его возврат в срок?"
      ]
    },
    {
      "cell_type": "code",
      "execution_count": null,
      "id": "c602bc8b",
      "metadata": {
        "deletable": false,
        "id": "c602bc8b",
        "outputId": "7eb75d97-1e41-4cb3-a355-d00e373557aa"
      },
      "outputs": [
        {
          "name": "stdout",
          "output_type": "stream",
          "text": [
            "debt                         0    1  % людей, который не выплатили в срок\n",
            "purpose_category                                                         \n",
            "операции с автомобилем    3879  400                              9.347978\n",
            "операции с недвижимостью  9971  780                              7.255139\n",
            "получение образования     3619  369                              9.252758\n",
            "проведение свадьбы        2130  183                              7.911803\n"
          ]
        }
      ],
      "source": [
        "# Ваш код будет здесь. Вы можете создавать новые ячейки.\n",
        "pivot_table = data.pivot_table(index='purpose_category', columns='debt', aggfunc='size', fill_value=0)\n",
        "pivot_table['% людей, который не выплатили в срок'] = pivot_table[1] / (pivot_table[0] + pivot_table[1]) * 100\n",
        "print(pivot_table)"
      ]
    },
    {
      "cell_type": "markdown",
      "id": "cf05ed63",
      "metadata": {
        "deletable": false,
        "id": "cf05ed63"
      },
      "source": [
        "**Вывод:**\n",
        "\n",
        "Из анализа данных в свободной таблице можно сделать следующие выводы:\n",
        "\n",
        "1.Операции с автомобилем: Процент людей, которые не выплатили кредит в срок, составляет 9,35%. Это означает, что примерно 9,35% заёмщиков, берущих кредит на операции с автомобилями, имеют задолженности. Данный процент немного выше среднего, что может указывать на определённые риски, связанные с кредитами на операции с автомобилями.\n",
        "\n",
        "2.Операции с недвижимостью: Процент людей, не выплативших кредит в срок, составляет 7,25%. Это самый низкий процент задолженности среди всех категорий. Такой результат может свидетельствовать о том, что кредиты на операции с недвижимостью обычно возвращаются успешнее.\n",
        "\n",
        "3.Получение образования: Процент людей, не выплативших кредит в срок, составляет 9,25%. Этот процент почти  равен проценту задолженности по кредитам на операции с автомобилями, что может указывать на схожую надёжность возврата этих видов кредитов.\n",
        "\n",
        "4.Проведение свадьбы: Процент людей, не выплативших кредит в срок, составляет 7,91%. Этот процент также ниже среднего и близок к проценту задолженности по кредитам на операции с недвижимостью. Это может говорить о хорошем возврате кредитов на проведение свадьбы.\n",
        "\n",
        "Таким образом, цель кредита может оказывать влияние на вероятность его возврата. Лучше всего возвращаются кредиты на операции с недвижимостью и проведение свадьбы."
      ]
    },
    {
      "cell_type": "markdown",
      "id": "46c1f10b",
      "metadata": {
        "deletable": false,
        "editable": false,
        "id": "46c1f10b"
      },
      "source": [
        "#### 3.5 Приведите возможные причины появления пропусков в исходных данных."
      ]
    },
    {
      "cell_type": "markdown",
      "id": "3697d2a9",
      "metadata": {
        "deletable": false,
        "id": "3697d2a9"
      },
      "source": [
        "*Ответ:*  Возможные причины появления пропусков в исходных данных:\n",
        "\n",
        "1.Пропуски могут возникать из-за ошибок, допущенных при ручном вводе данных или при считывании информации из источника.\n",
        "\n",
        "2.Иногда данные могут быть неполными из-за ошибок, возникших в процессе сбора информации.\n",
        "\n",
        "3.Пропуски могут появляться, если определённые данные недоступны из-за технических проблем или ограничений доступа.\n",
        "\n",
        "4.В некоторых случаях данные могут содержать ошибки форматирования, что приводит к появлению пропусков при их обработке.\n",
        "\n",
        "5.Пропуски также могут возникать в результате обработки данных, например, при объединении различных наборов данных, фильтрации или группировки."
      ]
    },
    {
      "cell_type": "markdown",
      "id": "3137d257",
      "metadata": {
        "deletable": false,
        "editable": false,
        "id": "3137d257"
      },
      "source": [
        "#### 3.6 Объясните, почему заполнить пропуски медианным значением — лучшее решение для количественных переменных."
      ]
    },
    {
      "cell_type": "markdown",
      "id": "cf40012a",
      "metadata": {
        "deletable": false,
        "id": "cf40012a"
      },
      "source": [
        "*Ответ:*\n",
        "\n",
        "1. Медиана является устойчивым показателем, не чувствительным к выбросам в данных, что позволяет избежать искажений в распределении переменной при заполнении пропущенных значений.\n",
        "\n",
        "2. Заполнение пропусков средним значением может привести к искажению данных, особенно если они содержат выбросы. Использование медианы помогает сохранить общую структуру данных и уменьшить возможные искажения.\n",
        "\n",
        "3. Вычисление медианы — относительно простой и быстрый процесс, что делает этот метод удобным для практического применения, особенно при работе с большими объёмами данных.\n",
        "\n",
        "4. Медиана применима для различных типов распределений данных, например, для нормального и дискретного распределения.\n",
        "\n",
        "5. Заполнение пропущенных значений медианой помогает сохранить корреляционные связи между переменными."
      ]
    },
    {
      "cell_type": "markdown",
      "id": "57bc304e",
      "metadata": {
        "deletable": false,
        "editable": false,
        "id": "57bc304e"
      },
      "source": [
        "### Шаг 4: общий вывод."
      ]
    },
    {
      "cell_type": "markdown",
      "id": "353366ff",
      "metadata": {
        "deletable": false,
        "id": "353366ff"
      },
      "source": [
        "Необходимо было разобраться, влияет ли семейное положение и количество детей клиента на факт погашения кредита в срок. Проведя анализ статистики о платёжеспособности клиентов, можно сделать вывод о том, что количество детей клиента влияет на факт погащения кредита в срок незначительно, в совсем малой степени. Семейное положение влияет в большей степени, клиенты, которые не состоят в браке (не женаты и не замужем),  а также находятся в гражданском браке менее эффективно выплачивают кредит.Также необходимо упоминуть, что разные цели кредита влияют на его возврат в срок. Так, например,  кредиты на операции с недвижимостью обычно возвращаются успешнее. Все эти результаты были получены из свободных таблиц."
      ]
    },
    {
      "cell_type": "markdown",
      "id": "0073fca7",
      "metadata": {
        "id": "0073fca7"
      },
      "source": [
        "<div class=\"alert alert-block alert-info\">\n",
        "    \n",
        "<h3> Комментарий студента  <a class=\"tocSkip\"></h3>\n",
        "Необходимо было разобраться, влияет ли семейное положение и количество детей клиента на факт погашения кредита в срок.\n",
        "\n",
        "В ходе анализа платёжеспособности клиентов было выявлено, что количество детей клиента может влиять на факт погашения кредита в срок. Для анализа были выбраны клиенты без детей, а также клиенты, имеющие одного или двух детей. Эти категории были выбраны, так как они содержат большую часть клиентов.\n",
        "\n",
        "Оказалось, что клиенты с одним или двумя детьми почти на 20% чаще не возвращают кредит, чем клиенты без детей. Таким образом, можно сделать вывод, что заёмщики с детьми менее надёжны, чем бездетные.\n",
        "\n",
        "Семейное положение также играет роль. Клиенты, которые не состоят в браке (не женаты или не замужем, находятся в гражданском браке), менее эффективно выплачивают кредит. Чтобы уменьшить разброс в данных, семейные статусы были сгруппированы по принципу: состоит ли клиент в данный момент в браке (любого вида) или нет.\n",
        "\n",
        "Так, у нас получились две группы: не в браке (не женат/не замужем, в разводе, вдовец/вдова) и в браке (гражданский брак, женат/замужем). По сводной таблице можно заметить, что клиенты без брака на 6% чаще не возвращают кредит, чем клиенты, состоящие в одной из форм брака.\n",
        "\n",
        "Также было выявлено, что разные цели кредита влияют на его возврат в срок. Например, кредиты на операции с недвижимостью обычно возвращаются успешнее. Кроме того, заметна явная связь между уровнем дохода и шансом на успешное погашение кредита: клиенты с более высоким уровнем дохода возвращают кредиты на 18% чаще.\n",
        "\n",
        "На основе этих результатов рекомендуется выдавать кредит людям в браке, без детей и с доходом выше 200 тысяч рублей, которые берут кредит на покупку недвижимости.\n",
        "    </div>"
      ]
    }
  ],
  "metadata": {
    "ExecuteTimeLog": [
      {
        "duration": 482,
        "start_time": "2024-05-25T16:44:08.675Z"
      },
      {
        "duration": 24,
        "start_time": "2024-05-25T16:44:11.967Z"
      },
      {
        "duration": 17,
        "start_time": "2024-05-25T16:44:13.590Z"
      },
      {
        "duration": 11,
        "start_time": "2024-05-25T16:44:15.594Z"
      },
      {
        "duration": 31,
        "start_time": "2024-05-25T16:44:16.647Z"
      },
      {
        "duration": 3,
        "start_time": "2024-05-25T16:44:18.242Z"
      },
      {
        "duration": 7,
        "start_time": "2024-05-25T16:44:19.247Z"
      },
      {
        "duration": 4,
        "start_time": "2024-05-25T16:44:20.698Z"
      },
      {
        "duration": 6,
        "start_time": "2024-05-25T16:44:21.485Z"
      },
      {
        "duration": 6,
        "start_time": "2024-05-25T16:44:22.306Z"
      },
      {
        "duration": 30,
        "start_time": "2024-05-25T16:44:23.798Z"
      },
      {
        "duration": 9,
        "start_time": "2024-05-25T16:44:24.746Z"
      },
      {
        "duration": 4,
        "start_time": "2024-05-25T16:44:26.038Z"
      },
      {
        "duration": 11,
        "start_time": "2024-05-25T16:44:27.439Z"
      },
      {
        "duration": 20,
        "start_time": "2024-05-25T16:44:28.946Z"
      },
      {
        "duration": 17,
        "start_time": "2024-05-25T16:44:29.294Z"
      },
      {
        "duration": 4,
        "start_time": "2024-05-25T16:44:30.511Z"
      },
      {
        "duration": 10,
        "start_time": "2024-05-25T16:44:30.870Z"
      },
      {
        "duration": 5,
        "start_time": "2024-05-25T16:44:31.490Z"
      },
      {
        "duration": 3,
        "start_time": "2024-05-25T16:44:32.063Z"
      },
      {
        "duration": 8,
        "start_time": "2024-05-25T16:44:32.356Z"
      },
      {
        "duration": 3,
        "start_time": "2024-05-25T16:44:33.298Z"
      },
      {
        "duration": 2,
        "start_time": "2024-05-25T16:44:34.531Z"
      },
      {
        "duration": 61,
        "start_time": "2024-05-25T16:47:41.781Z"
      },
      {
        "duration": 4,
        "start_time": "2024-05-25T16:47:51.103Z"
      },
      {
        "duration": 11,
        "start_time": "2024-05-25T16:50:54.248Z"
      },
      {
        "duration": 471,
        "start_time": "2024-05-25T16:51:14.846Z"
      },
      {
        "duration": 15,
        "start_time": "2024-05-25T16:51:22.185Z"
      },
      {
        "duration": 19,
        "start_time": "2024-05-25T16:51:22.902Z"
      },
      {
        "duration": 10,
        "start_time": "2024-05-25T16:51:24.254Z"
      },
      {
        "duration": 32,
        "start_time": "2024-05-25T16:51:24.922Z"
      },
      {
        "duration": 4,
        "start_time": "2024-05-25T16:51:25.882Z"
      },
      {
        "duration": 8,
        "start_time": "2024-05-25T16:51:26.622Z"
      },
      {
        "duration": 12,
        "start_time": "2024-05-25T16:51:27.910Z"
      },
      {
        "duration": 6,
        "start_time": "2024-05-25T16:51:30.598Z"
      },
      {
        "duration": 4,
        "start_time": "2024-05-25T16:51:31.247Z"
      },
      {
        "duration": 30,
        "start_time": "2024-05-25T16:51:32.171Z"
      },
      {
        "duration": 8,
        "start_time": "2024-05-25T16:51:32.638Z"
      },
      {
        "duration": 4,
        "start_time": "2024-05-25T16:51:33.423Z"
      },
      {
        "duration": 10,
        "start_time": "2024-05-25T16:51:34.194Z"
      },
      {
        "duration": 19,
        "start_time": "2024-05-25T16:51:34.770Z"
      },
      {
        "duration": 18,
        "start_time": "2024-05-25T16:51:35.022Z"
      },
      {
        "duration": 3,
        "start_time": "2024-05-25T16:51:35.834Z"
      },
      {
        "duration": 10,
        "start_time": "2024-05-25T16:51:36.095Z"
      },
      {
        "duration": 6,
        "start_time": "2024-05-25T16:51:36.774Z"
      },
      {
        "duration": 4,
        "start_time": "2024-05-25T16:51:37.326Z"
      },
      {
        "duration": 8,
        "start_time": "2024-05-25T16:51:37.882Z"
      },
      {
        "duration": 167,
        "start_time": "2024-05-25T16:51:39.623Z"
      },
      {
        "duration": 5,
        "start_time": "2024-05-25T16:53:29.766Z"
      },
      {
        "duration": 16,
        "start_time": "2024-05-25T16:58:16.129Z"
      },
      {
        "duration": 701,
        "start_time": "2024-05-25T16:58:30.225Z"
      },
      {
        "duration": 10,
        "start_time": "2024-05-25T16:58:46.066Z"
      },
      {
        "duration": 648,
        "start_time": "2024-05-25T16:59:35.746Z"
      },
      {
        "duration": 657,
        "start_time": "2024-05-25T16:59:47.814Z"
      },
      {
        "duration": 12,
        "start_time": "2024-05-25T17:00:24.849Z"
      },
      {
        "duration": 11,
        "start_time": "2024-05-25T17:00:35.566Z"
      },
      {
        "duration": 11,
        "start_time": "2024-05-25T17:01:15.150Z"
      },
      {
        "duration": 12,
        "start_time": "2024-05-25T17:03:05.645Z"
      },
      {
        "duration": 15,
        "start_time": "2024-05-25T17:08:01.991Z"
      },
      {
        "duration": 470,
        "start_time": "2024-05-25T17:13:19.331Z"
      },
      {
        "duration": 13,
        "start_time": "2024-05-25T17:13:31.760Z"
      },
      {
        "duration": 21,
        "start_time": "2024-05-25T17:14:02.750Z"
      },
      {
        "duration": 11,
        "start_time": "2024-05-25T17:21:29.112Z"
      },
      {
        "duration": 12,
        "start_time": "2024-05-25T17:21:40.720Z"
      },
      {
        "duration": 12,
        "start_time": "2024-05-25T17:32:21.469Z"
      },
      {
        "duration": 11,
        "start_time": "2024-05-25T17:44:32.285Z"
      },
      {
        "duration": 13,
        "start_time": "2024-05-25T17:45:02.229Z"
      },
      {
        "duration": 17,
        "start_time": "2024-05-25T17:53:20.017Z"
      },
      {
        "duration": 15,
        "start_time": "2024-05-25T17:54:41.732Z"
      },
      {
        "duration": 13,
        "start_time": "2024-05-25T17:54:50.860Z"
      },
      {
        "duration": 12,
        "start_time": "2024-05-25T17:56:23.401Z"
      },
      {
        "duration": 11,
        "start_time": "2024-05-25T17:56:38.240Z"
      },
      {
        "duration": 12,
        "start_time": "2024-05-25T17:57:00.672Z"
      },
      {
        "duration": 11,
        "start_time": "2024-05-25T17:57:15.446Z"
      },
      {
        "duration": 12,
        "start_time": "2024-05-25T17:59:59.093Z"
      },
      {
        "duration": 11,
        "start_time": "2024-05-25T18:00:27.796Z"
      },
      {
        "duration": 12,
        "start_time": "2024-05-25T18:00:42.360Z"
      },
      {
        "duration": 13,
        "start_time": "2024-05-25T18:03:50.398Z"
      },
      {
        "duration": 1085,
        "start_time": "2024-05-26T08:15:46.806Z"
      },
      {
        "duration": 21,
        "start_time": "2024-05-26T08:15:47.894Z"
      },
      {
        "duration": 20,
        "start_time": "2024-05-26T08:15:47.917Z"
      },
      {
        "duration": 24,
        "start_time": "2024-05-26T08:15:47.939Z"
      },
      {
        "duration": 55,
        "start_time": "2024-05-26T08:15:47.965Z"
      },
      {
        "duration": 5,
        "start_time": "2024-05-26T08:15:48.021Z"
      },
      {
        "duration": 12,
        "start_time": "2024-05-26T08:15:48.027Z"
      },
      {
        "duration": 5,
        "start_time": "2024-05-26T08:15:48.041Z"
      },
      {
        "duration": 10,
        "start_time": "2024-05-26T08:15:48.047Z"
      },
      {
        "duration": 21,
        "start_time": "2024-05-26T08:15:48.060Z"
      },
      {
        "duration": 36,
        "start_time": "2024-05-26T08:15:48.092Z"
      },
      {
        "duration": 11,
        "start_time": "2024-05-26T08:15:48.130Z"
      },
      {
        "duration": 13,
        "start_time": "2024-05-26T08:15:48.143Z"
      },
      {
        "duration": 23,
        "start_time": "2024-05-26T08:15:48.157Z"
      },
      {
        "duration": 27,
        "start_time": "2024-05-26T08:15:48.182Z"
      },
      {
        "duration": 18,
        "start_time": "2024-05-26T08:15:48.210Z"
      },
      {
        "duration": 9,
        "start_time": "2024-05-26T08:15:48.229Z"
      },
      {
        "duration": 28,
        "start_time": "2024-05-26T08:15:48.240Z"
      },
      {
        "duration": 16,
        "start_time": "2024-05-26T08:15:48.270Z"
      },
      {
        "duration": 15,
        "start_time": "2024-05-26T08:15:48.288Z"
      },
      {
        "duration": 15,
        "start_time": "2024-05-26T08:15:48.304Z"
      },
      {
        "duration": 23,
        "start_time": "2024-05-26T08:15:48.320Z"
      },
      {
        "duration": 14,
        "start_time": "2024-05-26T08:15:48.345Z"
      },
      {
        "duration": 12,
        "start_time": "2024-05-26T08:15:48.361Z"
      },
      {
        "duration": 31,
        "start_time": "2024-05-26T08:15:48.375Z"
      },
      {
        "duration": 82,
        "start_time": "2024-05-26T08:16:09.528Z"
      },
      {
        "duration": 4,
        "start_time": "2024-05-26T08:16:20.252Z"
      },
      {
        "duration": 193,
        "start_time": "2024-05-26T08:17:01.074Z"
      },
      {
        "duration": 50,
        "start_time": "2024-06-02T18:25:56.971Z"
      },
      {
        "duration": 1075,
        "start_time": "2024-06-02T18:26:11.477Z"
      },
      {
        "duration": 22,
        "start_time": "2024-06-02T18:26:12.554Z"
      },
      {
        "duration": 17,
        "start_time": "2024-06-02T18:26:12.577Z"
      },
      {
        "duration": 11,
        "start_time": "2024-06-02T18:26:12.596Z"
      },
      {
        "duration": 59,
        "start_time": "2024-06-02T18:26:12.609Z"
      },
      {
        "duration": 3,
        "start_time": "2024-06-02T18:26:12.670Z"
      },
      {
        "duration": 8,
        "start_time": "2024-06-02T18:26:12.675Z"
      },
      {
        "duration": 3,
        "start_time": "2024-06-02T18:26:12.685Z"
      },
      {
        "duration": 6,
        "start_time": "2024-06-02T18:26:12.690Z"
      },
      {
        "duration": 4,
        "start_time": "2024-06-02T18:26:12.698Z"
      },
      {
        "duration": 68,
        "start_time": "2024-06-02T18:26:12.703Z"
      },
      {
        "duration": 11,
        "start_time": "2024-06-02T18:26:12.772Z"
      },
      {
        "duration": 3,
        "start_time": "2024-06-02T18:26:12.785Z"
      },
      {
        "duration": 13,
        "start_time": "2024-06-02T18:26:12.790Z"
      },
      {
        "duration": 20,
        "start_time": "2024-06-02T18:26:12.805Z"
      },
      {
        "duration": 39,
        "start_time": "2024-06-02T18:26:12.827Z"
      },
      {
        "duration": 3,
        "start_time": "2024-06-02T18:26:12.868Z"
      },
      {
        "duration": 26,
        "start_time": "2024-06-02T18:26:12.873Z"
      },
      {
        "duration": 6,
        "start_time": "2024-06-02T18:26:12.901Z"
      },
      {
        "duration": 4,
        "start_time": "2024-06-02T18:26:12.908Z"
      },
      {
        "duration": 12,
        "start_time": "2024-06-02T18:26:12.913Z"
      },
      {
        "duration": 13,
        "start_time": "2024-06-02T18:26:13.576Z"
      },
      {
        "duration": 18,
        "start_time": "2024-06-02T18:27:27.842Z"
      },
      {
        "duration": 46,
        "start_time": "2024-06-02T18:41:36.072Z"
      },
      {
        "duration": 41,
        "start_time": "2024-06-02T18:43:53.106Z"
      },
      {
        "duration": 46,
        "start_time": "2024-06-02T18:44:00.031Z"
      },
      {
        "duration": 48,
        "start_time": "2024-06-02T18:44:09.288Z"
      },
      {
        "duration": 19,
        "start_time": "2024-06-02T19:01:29.267Z"
      },
      {
        "duration": 5,
        "start_time": "2024-06-02T19:38:24.315Z"
      },
      {
        "duration": 4,
        "start_time": "2024-06-02T19:38:41.012Z"
      },
      {
        "duration": 4,
        "start_time": "2024-06-02T19:45:09.860Z"
      },
      {
        "duration": 4,
        "start_time": "2024-06-02T19:46:44.631Z"
      },
      {
        "duration": 4,
        "start_time": "2024-06-02T19:48:07.636Z"
      },
      {
        "duration": 4,
        "start_time": "2024-06-02T19:48:52.457Z"
      },
      {
        "duration": 45,
        "start_time": "2024-06-02T19:59:19.860Z"
      }
    ],
    "colab": {
      "provenance": [],
      "include_colab_link": true
    },
    "kernelspec": {
      "display_name": "Python 3 (ipykernel)",
      "language": "python",
      "name": "python3"
    },
    "language_info": {
      "codemirror_mode": {
        "name": "ipython",
        "version": 3
      },
      "file_extension": ".py",
      "mimetype": "text/x-python",
      "name": "python",
      "nbconvert_exporter": "python",
      "pygments_lexer": "ipython3",
      "version": "3.9.5"
    },
    "toc": {
      "base_numbering": 1,
      "nav_menu": {},
      "number_sections": true,
      "sideBar": true,
      "skip_h1_title": true,
      "title_cell": "Table of Contents",
      "title_sidebar": "Contents",
      "toc_cell": false,
      "toc_position": {},
      "toc_section_display": true,
      "toc_window_display": false
    }
  },
  "nbformat": 4,
  "nbformat_minor": 5
}