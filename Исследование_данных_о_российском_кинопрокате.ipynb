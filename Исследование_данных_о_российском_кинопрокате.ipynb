{
  "cells": [
    {
      "cell_type": "markdown",
      "metadata": {
        "id": "view-in-github",
        "colab_type": "text"
      },
      "source": [
        "<a href=\"https://colab.research.google.com/github/varvara007/yandex/blob/main/%D0%98%D1%81%D1%81%D0%BB%D0%B5%D0%B4%D0%BE%D0%B2%D0%B0%D0%BD%D0%B8%D0%B5_%D0%B4%D0%B0%D0%BD%D0%BD%D1%8B%D1%85_%D0%BE_%D1%80%D0%BE%D1%81%D1%81%D0%B8%D0%B9%D1%81%D0%BA%D0%BE%D0%BC_%D0%BA%D0%B8%D0%BD%D0%BE%D0%BF%D1%80%D0%BE%D0%BA%D0%B0%D1%82%D0%B5.ipynb\" target=\"_parent\"><img src=\"https://colab.research.google.com/assets/colab-badge.svg\" alt=\"Open In Colab\"/></a>"
      ]
    },
    {
      "cell_type": "markdown",
      "metadata": {
        "id": "sIfNaMOxgFyK"
      },
      "source": [
        "## Исследование данных о российском кинопрокате\n",
        "\n"
      ]
    },
    {
      "cell_type": "markdown",
      "metadata": {
        "id": "3bSlkCsbgFyL"
      },
      "source": [
        "### Шаг 1. Откройте файлы с данными и объедините их в один датафрейм.\n",
        "\n",
        "Объедините данные таким образом, чтобы все объекты из датасета `mkrf_movies` обязательно вошли в получившийся датафрейм.\n",
        "\n",
        "<div id=\"accordion\">\n",
        "    <div class=\"card\">\n",
        "        <div class=\"card-header\" id=\"headingThree\">\n",
        "            <button class=\"btn btn-link collapsed\" data-toggle=\"collapse\" data-target=\"#collapseHint_0\" aria-expanded=\"false\" aria-controls=\"collapseHint_0\">Подсказка</button>\n",
        "        </div>\n",
        "        <div id=\"collapseHint_0\" class=\"collapse\" aria-labelledby=\"headingThree\" data-parent=\"#accordion\">\n",
        "            <div class=\"card-body\">\n",
        "Обратите внимание на тип данных столбца, по которому будете соединять датафреймы. Тип данных этих столбцов должен быть одинаковым в обоих датафреймах.\n",
        "            </div>\n",
        "        </div>\n",
        "    </div>\n",
        "</div>"
      ]
    },
    {
      "cell_type": "markdown",
      "metadata": {
        "id": "Qyz7yrRJ3Dr7"
      },
      "source": [
        "# Задача"
      ]
    },
    {
      "cell_type": "markdown",
      "metadata": {
        "id": "m0qVy3bC3Dr7"
      },
      "source": [
        "Нужно изучить рынок российского кинопроката и выявить текущие тренды. Уделим внимание фильмам, которые получили государственную поддержку. Попробуем ответить на вопрос, насколько такие фильмы интересны зрителю.\n",
        "Будем работать с данными, опубликованными на портале открытых данных Министерства культуры. Набор данных содержит информацию о прокатных удостоверениях, сборах и государственной поддержке фильмов, а также информацию с сайта КиноПоиск."
      ]
    },
    {
      "cell_type": "code",
      "execution_count": null,
      "metadata": {
        "id": "vZal2mRB3Dr7"
      },
      "outputs": [],
      "source": [
        "#импортируем нужные библиотеки"
      ]
    },
    {
      "cell_type": "code",
      "execution_count": null,
      "metadata": {
        "id": "o-hOeYjT3Dr8"
      },
      "outputs": [],
      "source": [
        "import pandas as pd\n",
        "import numpy as np\n",
        "import matplotlib.pyplot as plt\n",
        "from datetime import datetime\n",
        "import seaborn as sns"
      ]
    },
    {
      "cell_type": "code",
      "execution_count": null,
      "metadata": {
        "id": "dw87FlzMgFyM",
        "outputId": "bb46af5c-d6e7-4e59-b282-894047bc772d"
      },
      "outputs": [
        {
          "data": {
            "text/html": [
              "<div>\n",
              "<style scoped>\n",
              "    .dataframe tbody tr th:only-of-type {\n",
              "        vertical-align: middle;\n",
              "    }\n",
              "\n",
              "    .dataframe tbody tr th {\n",
              "        vertical-align: top;\n",
              "    }\n",
              "\n",
              "    .dataframe thead th {\n",
              "        text-align: right;\n",
              "    }\n",
              "</style>\n",
              "<table border=\"1\" class=\"dataframe\">\n",
              "  <thead>\n",
              "    <tr style=\"text-align: right;\">\n",
              "      <th></th>\n",
              "      <th>title</th>\n",
              "      <th>puNumber</th>\n",
              "      <th>show_start_date</th>\n",
              "      <th>type</th>\n",
              "      <th>film_studio</th>\n",
              "      <th>production_country</th>\n",
              "      <th>director</th>\n",
              "      <th>producer</th>\n",
              "      <th>age_restriction</th>\n",
              "      <th>refundable_support</th>\n",
              "      <th>nonrefundable_support</th>\n",
              "      <th>budget</th>\n",
              "      <th>financing_source</th>\n",
              "      <th>ratings</th>\n",
              "      <th>genres</th>\n",
              "    </tr>\n",
              "  </thead>\n",
              "  <tbody>\n",
              "    <tr>\n",
              "      <th>0</th>\n",
              "      <td>Открытый простор</td>\n",
              "      <td>221048915</td>\n",
              "      <td>2015-11-27T12:00:00.000Z</td>\n",
              "      <td>Художественный</td>\n",
              "      <td>Тачстоун Пикчерз, Кобальт Пикчерз, Бикон Пикче...</td>\n",
              "      <td>США</td>\n",
              "      <td>Кевин Костнер</td>\n",
              "      <td>Дэвид Валдес, Кевин Костнер, Джейк Эбертс</td>\n",
              "      <td>«18+» - запрещено для детей</td>\n",
              "      <td>NaN</td>\n",
              "      <td>NaN</td>\n",
              "      <td>NaN</td>\n",
              "      <td>NaN</td>\n",
              "      <td>7.2</td>\n",
              "      <td>боевик,драма,мелодрама</td>\n",
              "    </tr>\n",
              "    <tr>\n",
              "      <th>1</th>\n",
              "      <td>Особо важное задание</td>\n",
              "      <td>111013716</td>\n",
              "      <td>2016-09-13T12:00:00.000Z</td>\n",
              "      <td>Художественный</td>\n",
              "      <td>Киностудия \"Мосфильм\"</td>\n",
              "      <td>СССР</td>\n",
              "      <td>Е.Матвеев</td>\n",
              "      <td>NaN</td>\n",
              "      <td>«6+» - для детей старше 6 лет</td>\n",
              "      <td>NaN</td>\n",
              "      <td>NaN</td>\n",
              "      <td>NaN</td>\n",
              "      <td>NaN</td>\n",
              "      <td>6.6</td>\n",
              "      <td>драма,военный</td>\n",
              "    </tr>\n",
              "    <tr>\n",
              "      <th>2</th>\n",
              "      <td>Особо опасен</td>\n",
              "      <td>221038416</td>\n",
              "      <td>2016-10-10T12:00:00.000Z</td>\n",
              "      <td>Художественный</td>\n",
              "      <td>Юниверсал Пикчерз, Кикстарт Продакшнз, Марк Пл...</td>\n",
              "      <td>США</td>\n",
              "      <td>Тимур Бекмамбетов</td>\n",
              "      <td>Джим Лемли, Джейсон Нетер, Марк Е.Платт, Яйн Смит</td>\n",
              "      <td>«18+» - запрещено для детей</td>\n",
              "      <td>NaN</td>\n",
              "      <td>NaN</td>\n",
              "      <td>NaN</td>\n",
              "      <td>NaN</td>\n",
              "      <td>6.8</td>\n",
              "      <td>фантастика,боевик,триллер</td>\n",
              "    </tr>\n",
              "    <tr>\n",
              "      <th>3</th>\n",
              "      <td>Особо опасен</td>\n",
              "      <td>221026916</td>\n",
              "      <td>2016-06-10T12:00:00.000Z</td>\n",
              "      <td>Художественный</td>\n",
              "      <td>Юниверсал Пикчерз, Кикстарт Продакшнз, Марк Пл...</td>\n",
              "      <td>США</td>\n",
              "      <td>Тимур Бекмамбетов</td>\n",
              "      <td>Джим Лемли, Джейсон Нетер, Марк Е.Платт, Яйн Смит</td>\n",
              "      <td>«18+» - запрещено для детей</td>\n",
              "      <td>NaN</td>\n",
              "      <td>NaN</td>\n",
              "      <td>NaN</td>\n",
              "      <td>NaN</td>\n",
              "      <td>6.8</td>\n",
              "      <td>фантастика,боевик,триллер</td>\n",
              "    </tr>\n",
              "    <tr>\n",
              "      <th>4</th>\n",
              "      <td>Особо опасен</td>\n",
              "      <td>221030815</td>\n",
              "      <td>2015-07-29T12:00:00.000Z</td>\n",
              "      <td>Художественный</td>\n",
              "      <td>Юниверсал Пикчерз, Кикстарт Продакшнз, Марк Пл...</td>\n",
              "      <td>США</td>\n",
              "      <td>Тимур Бекмамбетов</td>\n",
              "      <td>Джим Лемли, Джейсон Нетер, Марк Е.Платт, Яйн Смит</td>\n",
              "      <td>«18+» - запрещено для детей</td>\n",
              "      <td>NaN</td>\n",
              "      <td>NaN</td>\n",
              "      <td>NaN</td>\n",
              "      <td>NaN</td>\n",
              "      <td>6.8</td>\n",
              "      <td>фантастика,боевик,триллер</td>\n",
              "    </tr>\n",
              "  </tbody>\n",
              "</table>\n",
              "</div>"
            ],
            "text/plain": [
              "                  title   puNumber           show_start_date            type  \\\n",
              "0      Открытый простор  221048915  2015-11-27T12:00:00.000Z  Художественный   \n",
              "1  Особо важное задание  111013716  2016-09-13T12:00:00.000Z  Художественный   \n",
              "2          Особо опасен  221038416  2016-10-10T12:00:00.000Z  Художественный   \n",
              "3          Особо опасен  221026916  2016-06-10T12:00:00.000Z  Художественный   \n",
              "4          Особо опасен  221030815  2015-07-29T12:00:00.000Z  Художественный   \n",
              "\n",
              "                                         film_studio production_country  \\\n",
              "0  Тачстоун Пикчерз, Кобальт Пикчерз, Бикон Пикче...                США   \n",
              "1                              Киностудия \"Мосфильм\"               СССР   \n",
              "2  Юниверсал Пикчерз, Кикстарт Продакшнз, Марк Пл...                США   \n",
              "3  Юниверсал Пикчерз, Кикстарт Продакшнз, Марк Пл...                США   \n",
              "4  Юниверсал Пикчерз, Кикстарт Продакшнз, Марк Пл...                США   \n",
              "\n",
              "            director                                           producer  \\\n",
              "0      Кевин Костнер          Дэвид Валдес, Кевин Костнер, Джейк Эбертс   \n",
              "1          Е.Матвеев                                                NaN   \n",
              "2  Тимур Бекмамбетов  Джим Лемли, Джейсон Нетер, Марк Е.Платт, Яйн Смит   \n",
              "3  Тимур Бекмамбетов  Джим Лемли, Джейсон Нетер, Марк Е.Платт, Яйн Смит   \n",
              "4  Тимур Бекмамбетов  Джим Лемли, Джейсон Нетер, Марк Е.Платт, Яйн Смит   \n",
              "\n",
              "                 age_restriction  refundable_support  nonrefundable_support  \\\n",
              "0    «18+» - запрещено для детей                 NaN                    NaN   \n",
              "1  «6+» - для детей старше 6 лет                 NaN                    NaN   \n",
              "2    «18+» - запрещено для детей                 NaN                    NaN   \n",
              "3    «18+» - запрещено для детей                 NaN                    NaN   \n",
              "4    «18+» - запрещено для детей                 NaN                    NaN   \n",
              "\n",
              "   budget financing_source ratings                     genres  \n",
              "0     NaN              NaN     7.2     боевик,драма,мелодрама  \n",
              "1     NaN              NaN     6.6              драма,военный  \n",
              "2     NaN              NaN     6.8  фантастика,боевик,триллер  \n",
              "3     NaN              NaN     6.8  фантастика,боевик,триллер  \n",
              "4     NaN              NaN     6.8  фантастика,боевик,триллер  "
            ]
          },
          "metadata": {},
          "output_type": "display_data"
        },
        {
          "name": "stdout",
          "output_type": "stream",
          "text": [
            "<class 'pandas.core.frame.DataFrame'>\n",
            "RangeIndex: 7486 entries, 0 to 7485\n",
            "Data columns (total 15 columns):\n",
            " #   Column                 Non-Null Count  Dtype  \n",
            "---  ------                 --------------  -----  \n",
            " 0   title                  7486 non-null   object \n",
            " 1   puNumber               7486 non-null   object \n",
            " 2   show_start_date        7486 non-null   object \n",
            " 3   type                   7486 non-null   object \n",
            " 4   film_studio            7468 non-null   object \n",
            " 5   production_country     7484 non-null   object \n",
            " 6   director               7477 non-null   object \n",
            " 7   producer               6918 non-null   object \n",
            " 8   age_restriction        7486 non-null   object \n",
            " 9   refundable_support     332 non-null    float64\n",
            " 10  nonrefundable_support  332 non-null    float64\n",
            " 11  budget                 332 non-null    float64\n",
            " 12  financing_source       332 non-null    object \n",
            " 13  ratings                6519 non-null   object \n",
            " 14  genres                 6510 non-null   object \n",
            "dtypes: float64(3), object(12)\n",
            "memory usage: 877.4+ KB\n"
          ]
        },
        {
          "data": {
            "text/html": [
              "<div>\n",
              "<style scoped>\n",
              "    .dataframe tbody tr th:only-of-type {\n",
              "        vertical-align: middle;\n",
              "    }\n",
              "\n",
              "    .dataframe tbody tr th {\n",
              "        vertical-align: top;\n",
              "    }\n",
              "\n",
              "    .dataframe thead th {\n",
              "        text-align: right;\n",
              "    }\n",
              "</style>\n",
              "<table border=\"1\" class=\"dataframe\">\n",
              "  <thead>\n",
              "    <tr style=\"text-align: right;\">\n",
              "      <th></th>\n",
              "      <th>puNumber</th>\n",
              "      <th>box_office</th>\n",
              "    </tr>\n",
              "  </thead>\n",
              "  <tbody>\n",
              "    <tr>\n",
              "      <th>0</th>\n",
              "      <td>111000113</td>\n",
              "      <td>2.450000e+03</td>\n",
              "    </tr>\n",
              "    <tr>\n",
              "      <th>1</th>\n",
              "      <td>111000115</td>\n",
              "      <td>6.104000e+04</td>\n",
              "    </tr>\n",
              "    <tr>\n",
              "      <th>2</th>\n",
              "      <td>111000116</td>\n",
              "      <td>1.530300e+08</td>\n",
              "    </tr>\n",
              "    <tr>\n",
              "      <th>3</th>\n",
              "      <td>111000117</td>\n",
              "      <td>1.226096e+07</td>\n",
              "    </tr>\n",
              "    <tr>\n",
              "      <th>4</th>\n",
              "      <td>111000118</td>\n",
              "      <td>1.636841e+08</td>\n",
              "    </tr>\n",
              "  </tbody>\n",
              "</table>\n",
              "</div>"
            ],
            "text/plain": [
              "    puNumber    box_office\n",
              "0  111000113  2.450000e+03\n",
              "1  111000115  6.104000e+04\n",
              "2  111000116  1.530300e+08\n",
              "3  111000117  1.226096e+07\n",
              "4  111000118  1.636841e+08"
            ]
          },
          "metadata": {},
          "output_type": "display_data"
        },
        {
          "name": "stdout",
          "output_type": "stream",
          "text": [
            "<class 'pandas.core.frame.DataFrame'>\n",
            "RangeIndex: 3158 entries, 0 to 3157\n",
            "Data columns (total 2 columns):\n",
            " #   Column      Non-Null Count  Dtype  \n",
            "---  ------      --------------  -----  \n",
            " 0   puNumber    3158 non-null   int64  \n",
            " 1   box_office  3158 non-null   float64\n",
            "dtypes: float64(1), int64(1)\n",
            "memory usage: 49.5 KB\n"
          ]
        }
      ],
      "source": [
        "\n",
        "mkrf_movies=pd.read_csv('/datasets/mkrf_movies.csv')\n",
        "mkrf_shows=pd.read_csv('/datasets/mkrf_shows.csv')\n",
        "\n",
        "display(mkrf_movies.head())\n",
        "mkrf_movies.info()\n",
        "display(mkrf_shows.head())\n",
        "mkrf_shows.info()"
      ]
    },
    {
      "cell_type": "markdown",
      "metadata": {
        "id": "XMf9eyVo3Dr8"
      },
      "source": [
        "# Описание данных:\n",
        "Таблица mkrf_movies содержит информацию из реестра прокатных удостоверений. У одного фильма может быть несколько прокатных удостоверений.\n",
        "- title — название фильма;\n",
        "- puNumber — номер прокатного удостоверения;\n",
        "- show_start_date — дата премьеры фильма;\n",
        "- type — тип фильма;\n",
        "- film_studio — студия-производитель;\n",
        "- production_country — страна-производитель;\n",
        "- director — режиссёр;\n",
        "- producer — продюсер;\n",
        "- age_restriction — возрастная категория;\n",
        "- refundable_support — объём возвратных средств государственной поддержки;\n",
        "- nonrefundable_support — объём невозвратных средств государственной поддержки;\n",
        "- financing_source — источник государственного финансирования;\n",
        "- budget — общий бюджет фильма;\n",
        "- ratings — рейтинг фильма на КиноПоиске;\n",
        "- genres — жанр фильма.\n",
        "Cтолбец budget уже включает в себя полный объём государственной поддержки. Данные в этом столбце указаны только для тех фильмов, которые получили государственную поддержку.\n",
        "\n",
        "\n",
        "Таблица mkrf_shows содержит сведения о показах фильмов в российских кинотеатрах.\n",
        "- puNumber — номер прокатного удостоверения;\n",
        "- box_office — сборы в рублях."
      ]
    },
    {
      "cell_type": "markdown",
      "metadata": {
        "id": "_u7PK1eJ3Dr8"
      },
      "source": [
        "Объединять  две таблицы будем по столбцу puNumber, для этого необходимо, чтобы у puNumber был одинаковый тип данных. Однако   у них разных тип данных. Mkrf_shows у puNumber тип int64, Mkrf_movies тип object. Преобразуем puNumber mkrf_movies на тип int."
      ]
    },
    {
      "cell_type": "code",
      "execution_count": null,
      "metadata": {
        "id": "-0_hONZY3Dr9",
        "outputId": "cd338882-6777-43cd-ce2b-a611b08db9ce"
      },
      "outputs": [
        {
          "data": {
            "text/html": [
              "<div>\n",
              "<style scoped>\n",
              "    .dataframe tbody tr th:only-of-type {\n",
              "        vertical-align: middle;\n",
              "    }\n",
              "\n",
              "    .dataframe tbody tr th {\n",
              "        vertical-align: top;\n",
              "    }\n",
              "\n",
              "    .dataframe thead th {\n",
              "        text-align: right;\n",
              "    }\n",
              "</style>\n",
              "<table border=\"1\" class=\"dataframe\">\n",
              "  <thead>\n",
              "    <tr style=\"text-align: right;\">\n",
              "      <th></th>\n",
              "      <th>puNumber</th>\n",
              "      <th>box_office</th>\n",
              "    </tr>\n",
              "  </thead>\n",
              "  <tbody>\n",
              "    <tr>\n",
              "      <th>0</th>\n",
              "      <td>111000113</td>\n",
              "      <td>2.450000e+03</td>\n",
              "    </tr>\n",
              "    <tr>\n",
              "      <th>1</th>\n",
              "      <td>111000115</td>\n",
              "      <td>6.104000e+04</td>\n",
              "    </tr>\n",
              "    <tr>\n",
              "      <th>2</th>\n",
              "      <td>111000116</td>\n",
              "      <td>1.530300e+08</td>\n",
              "    </tr>\n",
              "    <tr>\n",
              "      <th>3</th>\n",
              "      <td>111000117</td>\n",
              "      <td>1.226096e+07</td>\n",
              "    </tr>\n",
              "    <tr>\n",
              "      <th>4</th>\n",
              "      <td>111000118</td>\n",
              "      <td>1.636841e+08</td>\n",
              "    </tr>\n",
              "  </tbody>\n",
              "</table>\n",
              "</div>"
            ],
            "text/plain": [
              "    puNumber    box_office\n",
              "0  111000113  2.450000e+03\n",
              "1  111000115  6.104000e+04\n",
              "2  111000116  1.530300e+08\n",
              "3  111000117  1.226096e+07\n",
              "4  111000118  1.636841e+08"
            ]
          },
          "metadata": {},
          "output_type": "display_data"
        },
        {
          "name": "stdout",
          "output_type": "stream",
          "text": [
            "<class 'pandas.core.frame.DataFrame'>\n",
            "RangeIndex: 3158 entries, 0 to 3157\n",
            "Data columns (total 2 columns):\n",
            " #   Column      Non-Null Count  Dtype  \n",
            "---  ------      --------------  -----  \n",
            " 0   puNumber    3158 non-null   int64  \n",
            " 1   box_office  3158 non-null   float64\n",
            "dtypes: float64(1), int64(1)\n",
            "memory usage: 49.5 KB\n"
          ]
        }
      ],
      "source": [
        "display(mkrf_shows.head())\n",
        "mkrf_shows.info()"
      ]
    },
    {
      "cell_type": "code",
      "execution_count": null,
      "metadata": {
        "id": "uDqyRssR3Dr9"
      },
      "outputs": [],
      "source": [
        "mkrf_movies = mkrf_movies[~mkrf_movies['puNumber'].str.contains('нет')]\n",
        "mkrf_movies['puNumber'] = mkrf_movies['puNumber'].astype(int)"
      ]
    },
    {
      "cell_type": "code",
      "execution_count": null,
      "metadata": {
        "id": "VZNNfEbU3Dr9",
        "outputId": "a5cd08a1-6a0b-40e8-f183-f7d3d847a511"
      },
      "outputs": [
        {
          "name": "stdout",
          "output_type": "stream",
          "text": [
            "<class 'pandas.core.frame.DataFrame'>\n",
            "Int64Index: 7485 entries, 0 to 7485\n",
            "Data columns (total 15 columns):\n",
            " #   Column                 Non-Null Count  Dtype  \n",
            "---  ------                 --------------  -----  \n",
            " 0   title                  7485 non-null   object \n",
            " 1   puNumber               7485 non-null   int64  \n",
            " 2   show_start_date        7485 non-null   object \n",
            " 3   type                   7485 non-null   object \n",
            " 4   film_studio            7467 non-null   object \n",
            " 5   production_country     7483 non-null   object \n",
            " 6   director               7476 non-null   object \n",
            " 7   producer               6917 non-null   object \n",
            " 8   age_restriction        7485 non-null   object \n",
            " 9   refundable_support     332 non-null    float64\n",
            " 10  nonrefundable_support  332 non-null    float64\n",
            " 11  budget                 332 non-null    float64\n",
            " 12  financing_source       332 non-null    object \n",
            " 13  ratings                6519 non-null   object \n",
            " 14  genres                 6510 non-null   object \n",
            "dtypes: float64(3), int64(1), object(11)\n",
            "memory usage: 935.6+ KB\n"
          ]
        }
      ],
      "source": [
        "mkrf_movies.info()"
      ]
    },
    {
      "cell_type": "markdown",
      "metadata": {
        "id": "RSPWmYIQ3Dr9"
      },
      "source": [
        "Объединим две таблицы"
      ]
    },
    {
      "cell_type": "code",
      "execution_count": null,
      "metadata": {
        "id": "0rMa0lJy3Dr9",
        "outputId": "23af06c8-3e19-4288-e51e-bcd2c4ffe681"
      },
      "outputs": [
        {
          "data": {
            "text/html": [
              "<div>\n",
              "<style scoped>\n",
              "    .dataframe tbody tr th:only-of-type {\n",
              "        vertical-align: middle;\n",
              "    }\n",
              "\n",
              "    .dataframe tbody tr th {\n",
              "        vertical-align: top;\n",
              "    }\n",
              "\n",
              "    .dataframe thead th {\n",
              "        text-align: right;\n",
              "    }\n",
              "</style>\n",
              "<table border=\"1\" class=\"dataframe\">\n",
              "  <thead>\n",
              "    <tr style=\"text-align: right;\">\n",
              "      <th></th>\n",
              "      <th>title</th>\n",
              "      <th>puNumber</th>\n",
              "      <th>show_start_date</th>\n",
              "      <th>type</th>\n",
              "      <th>film_studio</th>\n",
              "      <th>production_country</th>\n",
              "      <th>director</th>\n",
              "      <th>producer</th>\n",
              "      <th>age_restriction</th>\n",
              "      <th>refundable_support</th>\n",
              "      <th>nonrefundable_support</th>\n",
              "      <th>budget</th>\n",
              "      <th>financing_source</th>\n",
              "      <th>ratings</th>\n",
              "      <th>genres</th>\n",
              "      <th>box_office</th>\n",
              "    </tr>\n",
              "  </thead>\n",
              "  <tbody>\n",
              "    <tr>\n",
              "      <th>0</th>\n",
              "      <td>Открытый простор</td>\n",
              "      <td>221048915</td>\n",
              "      <td>2015-11-27T12:00:00.000Z</td>\n",
              "      <td>Художественный</td>\n",
              "      <td>Тачстоун Пикчерз, Кобальт Пикчерз, Бикон Пикче...</td>\n",
              "      <td>США</td>\n",
              "      <td>Кевин Костнер</td>\n",
              "      <td>Дэвид Валдес, Кевин Костнер, Джейк Эбертс</td>\n",
              "      <td>«18+» - запрещено для детей</td>\n",
              "      <td>NaN</td>\n",
              "      <td>NaN</td>\n",
              "      <td>NaN</td>\n",
              "      <td>NaN</td>\n",
              "      <td>7.2</td>\n",
              "      <td>боевик,драма,мелодрама</td>\n",
              "      <td>NaN</td>\n",
              "    </tr>\n",
              "    <tr>\n",
              "      <th>1</th>\n",
              "      <td>Особо важное задание</td>\n",
              "      <td>111013716</td>\n",
              "      <td>2016-09-13T12:00:00.000Z</td>\n",
              "      <td>Художественный</td>\n",
              "      <td>Киностудия \"Мосфильм\"</td>\n",
              "      <td>СССР</td>\n",
              "      <td>Е.Матвеев</td>\n",
              "      <td>NaN</td>\n",
              "      <td>«6+» - для детей старше 6 лет</td>\n",
              "      <td>NaN</td>\n",
              "      <td>NaN</td>\n",
              "      <td>NaN</td>\n",
              "      <td>NaN</td>\n",
              "      <td>6.6</td>\n",
              "      <td>драма,военный</td>\n",
              "      <td>NaN</td>\n",
              "    </tr>\n",
              "    <tr>\n",
              "      <th>2</th>\n",
              "      <td>Особо опасен</td>\n",
              "      <td>221038416</td>\n",
              "      <td>2016-10-10T12:00:00.000Z</td>\n",
              "      <td>Художественный</td>\n",
              "      <td>Юниверсал Пикчерз, Кикстарт Продакшнз, Марк Пл...</td>\n",
              "      <td>США</td>\n",
              "      <td>Тимур Бекмамбетов</td>\n",
              "      <td>Джим Лемли, Джейсон Нетер, Марк Е.Платт, Яйн Смит</td>\n",
              "      <td>«18+» - запрещено для детей</td>\n",
              "      <td>NaN</td>\n",
              "      <td>NaN</td>\n",
              "      <td>NaN</td>\n",
              "      <td>NaN</td>\n",
              "      <td>6.8</td>\n",
              "      <td>фантастика,боевик,триллер</td>\n",
              "      <td>NaN</td>\n",
              "    </tr>\n",
              "    <tr>\n",
              "      <th>3</th>\n",
              "      <td>Особо опасен</td>\n",
              "      <td>221026916</td>\n",
              "      <td>2016-06-10T12:00:00.000Z</td>\n",
              "      <td>Художественный</td>\n",
              "      <td>Юниверсал Пикчерз, Кикстарт Продакшнз, Марк Пл...</td>\n",
              "      <td>США</td>\n",
              "      <td>Тимур Бекмамбетов</td>\n",
              "      <td>Джим Лемли, Джейсон Нетер, Марк Е.Платт, Яйн Смит</td>\n",
              "      <td>«18+» - запрещено для детей</td>\n",
              "      <td>NaN</td>\n",
              "      <td>NaN</td>\n",
              "      <td>NaN</td>\n",
              "      <td>NaN</td>\n",
              "      <td>6.8</td>\n",
              "      <td>фантастика,боевик,триллер</td>\n",
              "      <td>NaN</td>\n",
              "    </tr>\n",
              "    <tr>\n",
              "      <th>4</th>\n",
              "      <td>Особо опасен</td>\n",
              "      <td>221030815</td>\n",
              "      <td>2015-07-29T12:00:00.000Z</td>\n",
              "      <td>Художественный</td>\n",
              "      <td>Юниверсал Пикчерз, Кикстарт Продакшнз, Марк Пл...</td>\n",
              "      <td>США</td>\n",
              "      <td>Тимур Бекмамбетов</td>\n",
              "      <td>Джим Лемли, Джейсон Нетер, Марк Е.Платт, Яйн Смит</td>\n",
              "      <td>«18+» - запрещено для детей</td>\n",
              "      <td>NaN</td>\n",
              "      <td>NaN</td>\n",
              "      <td>NaN</td>\n",
              "      <td>NaN</td>\n",
              "      <td>6.8</td>\n",
              "      <td>фантастика,боевик,триллер</td>\n",
              "      <td>NaN</td>\n",
              "    </tr>\n",
              "  </tbody>\n",
              "</table>\n",
              "</div>"
            ],
            "text/plain": [
              "                  title   puNumber           show_start_date            type  \\\n",
              "0      Открытый простор  221048915  2015-11-27T12:00:00.000Z  Художественный   \n",
              "1  Особо важное задание  111013716  2016-09-13T12:00:00.000Z  Художественный   \n",
              "2          Особо опасен  221038416  2016-10-10T12:00:00.000Z  Художественный   \n",
              "3          Особо опасен  221026916  2016-06-10T12:00:00.000Z  Художественный   \n",
              "4          Особо опасен  221030815  2015-07-29T12:00:00.000Z  Художественный   \n",
              "\n",
              "                                         film_studio production_country  \\\n",
              "0  Тачстоун Пикчерз, Кобальт Пикчерз, Бикон Пикче...                США   \n",
              "1                              Киностудия \"Мосфильм\"               СССР   \n",
              "2  Юниверсал Пикчерз, Кикстарт Продакшнз, Марк Пл...                США   \n",
              "3  Юниверсал Пикчерз, Кикстарт Продакшнз, Марк Пл...                США   \n",
              "4  Юниверсал Пикчерз, Кикстарт Продакшнз, Марк Пл...                США   \n",
              "\n",
              "            director                                           producer  \\\n",
              "0      Кевин Костнер          Дэвид Валдес, Кевин Костнер, Джейк Эбертс   \n",
              "1          Е.Матвеев                                                NaN   \n",
              "2  Тимур Бекмамбетов  Джим Лемли, Джейсон Нетер, Марк Е.Платт, Яйн Смит   \n",
              "3  Тимур Бекмамбетов  Джим Лемли, Джейсон Нетер, Марк Е.Платт, Яйн Смит   \n",
              "4  Тимур Бекмамбетов  Джим Лемли, Джейсон Нетер, Марк Е.Платт, Яйн Смит   \n",
              "\n",
              "                 age_restriction  refundable_support  nonrefundable_support  \\\n",
              "0    «18+» - запрещено для детей                 NaN                    NaN   \n",
              "1  «6+» - для детей старше 6 лет                 NaN                    NaN   \n",
              "2    «18+» - запрещено для детей                 NaN                    NaN   \n",
              "3    «18+» - запрещено для детей                 NaN                    NaN   \n",
              "4    «18+» - запрещено для детей                 NaN                    NaN   \n",
              "\n",
              "   budget financing_source ratings                     genres  box_office  \n",
              "0     NaN              NaN     7.2     боевик,драма,мелодрама         NaN  \n",
              "1     NaN              NaN     6.6              драма,военный         NaN  \n",
              "2     NaN              NaN     6.8  фантастика,боевик,триллер         NaN  \n",
              "3     NaN              NaN     6.8  фантастика,боевик,триллер         NaN  \n",
              "4     NaN              NaN     6.8  фантастика,боевик,триллер         NaN  "
            ]
          },
          "execution_count": 7,
          "metadata": {},
          "output_type": "execute_result"
        }
      ],
      "source": [
        "data = mkrf_movies.merge(mkrf_shows, on='puNumber', how='left')\n",
        "data.head()"
      ]
    },
    {
      "cell_type": "code",
      "execution_count": null,
      "metadata": {
        "id": "hLEmEpto3Dr9",
        "outputId": "0a111016-a463-4846-99fc-ec30ba396467"
      },
      "outputs": [
        {
          "name": "stdout",
          "output_type": "stream",
          "text": [
            "<class 'pandas.core.frame.DataFrame'>\n",
            "Int64Index: 7485 entries, 0 to 7484\n",
            "Data columns (total 16 columns):\n",
            " #   Column                 Non-Null Count  Dtype  \n",
            "---  ------                 --------------  -----  \n",
            " 0   title                  7485 non-null   object \n",
            " 1   puNumber               7485 non-null   int64  \n",
            " 2   show_start_date        7485 non-null   object \n",
            " 3   type                   7485 non-null   object \n",
            " 4   film_studio            7467 non-null   object \n",
            " 5   production_country     7483 non-null   object \n",
            " 6   director               7476 non-null   object \n",
            " 7   producer               6917 non-null   object \n",
            " 8   age_restriction        7485 non-null   object \n",
            " 9   refundable_support     332 non-null    float64\n",
            " 10  nonrefundable_support  332 non-null    float64\n",
            " 11  budget                 332 non-null    float64\n",
            " 12  financing_source       332 non-null    object \n",
            " 13  ratings                6519 non-null   object \n",
            " 14  genres                 6510 non-null   object \n",
            " 15  box_office             3158 non-null   float64\n",
            "dtypes: float64(4), int64(1), object(11)\n",
            "memory usage: 994.1+ KB\n"
          ]
        }
      ],
      "source": [
        "data.info()"
      ]
    },
    {
      "cell_type": "markdown",
      "metadata": {
        "id": "LCH2gAl-3Dr9"
      },
      "source": [
        " </font><font color='Blue'><b>Комментарий студента</b></font><br>\n",
        " Сделаем проверку, что все данные корректно объединились."
      ]
    },
    {
      "cell_type": "code",
      "execution_count": null,
      "metadata": {
        "id": "O4NknKVN3Dr9",
        "outputId": "7c6ed21a-a493-4bb0-8556-4347aa2975ae"
      },
      "outputs": [
        {
          "data": {
            "text/plain": [
              "(7485, 15)"
            ]
          },
          "execution_count": 9,
          "metadata": {},
          "output_type": "execute_result"
        }
      ],
      "source": [
        "mkrf_movies.shape"
      ]
    },
    {
      "cell_type": "code",
      "execution_count": null,
      "metadata": {
        "id": "_s9b_kE93Dr9",
        "outputId": "abdf3642-4752-44ac-e378-8ec6f2176b37"
      },
      "outputs": [
        {
          "data": {
            "text/plain": [
              "(3158, 2)"
            ]
          },
          "execution_count": 10,
          "metadata": {},
          "output_type": "execute_result"
        }
      ],
      "source": [
        "mkrf_shows.shape"
      ]
    },
    {
      "cell_type": "code",
      "execution_count": null,
      "metadata": {
        "id": "k-HQS_Xe3Dr-",
        "outputId": "bcbb31e9-95c2-4866-886a-4073c68e3794"
      },
      "outputs": [
        {
          "data": {
            "text/plain": [
              "(7485, 16)"
            ]
          },
          "execution_count": 11,
          "metadata": {},
          "output_type": "execute_result"
        }
      ],
      "source": [
        "data.shape"
      ]
    },
    {
      "cell_type": "code",
      "execution_count": null,
      "metadata": {
        "id": "EZjfyR7j3Dr-",
        "outputId": "a9ef5db0-2fdf-4c5b-84f2-12552cb4a432"
      },
      "outputs": [
        {
          "data": {
            "text/plain": [
              "title                    0\n",
              "puNumber                 0\n",
              "show_start_date          0\n",
              "type                     0\n",
              "film_studio              0\n",
              "production_country       0\n",
              "director                 0\n",
              "producer                 0\n",
              "age_restriction          0\n",
              "refundable_support       0\n",
              "nonrefundable_support    0\n",
              "budget                   0\n",
              "financing_source         0\n",
              "ratings                  0\n",
              "genres                   0\n",
              "dtype: int64"
            ]
          },
          "execution_count": 12,
          "metadata": {},
          "output_type": "execute_result"
        }
      ],
      "source": [
        "mkrf_movies[~mkrf_movies['puNumber'].isin(data['puNumber'])].count()"
      ]
    },
    {
      "cell_type": "markdown",
      "metadata": {
        "id": "OYbyRKT53Dr-"
      },
      "source": [
        "# Вывод\n",
        "Все объекты из датасета mkrf_movies вошли в получившийся датафрейм. Количество объектов осталось прежним, и так как использовался left, все объекты из mkrf_movies сохранились, но данные из mkrf_shows неполные, есть  информация не обо всех фильмах. Подсчитали сколько фильмом не вошли и получили 0."
      ]
    },
    {
      "cell_type": "markdown",
      "metadata": {
        "id": "KLDGpPG0gFyM"
      },
      "source": [
        "### Шаг 2. Предобработка данных"
      ]
    },
    {
      "cell_type": "markdown",
      "metadata": {
        "id": "ssWwKXsxgFyO"
      },
      "source": [
        "#### Шаг 2.1. Проверьте типы данных\n",
        "\n",
        "- Проверьте типы данных в датафрейме и преобразуйте их там, где это необходимо."
      ]
    },
    {
      "cell_type": "code",
      "execution_count": null,
      "metadata": {
        "id": "kVGSplJOgFyO",
        "outputId": "91bd0e83-ba39-4522-ba06-c20fbe08fdff"
      },
      "outputs": [
        {
          "name": "stdout",
          "output_type": "stream",
          "text": [
            "<class 'pandas.core.frame.DataFrame'>\n",
            "Int64Index: 7485 entries, 0 to 7484\n",
            "Data columns (total 16 columns):\n",
            " #   Column                 Non-Null Count  Dtype  \n",
            "---  ------                 --------------  -----  \n",
            " 0   title                  7485 non-null   object \n",
            " 1   puNumber               7485 non-null   int64  \n",
            " 2   show_start_date        7485 non-null   object \n",
            " 3   type                   7485 non-null   object \n",
            " 4   film_studio            7467 non-null   object \n",
            " 5   production_country     7483 non-null   object \n",
            " 6   director               7476 non-null   object \n",
            " 7   producer               6917 non-null   object \n",
            " 8   age_restriction        7485 non-null   object \n",
            " 9   refundable_support     332 non-null    float64\n",
            " 10  nonrefundable_support  332 non-null    float64\n",
            " 11  budget                 332 non-null    float64\n",
            " 12  financing_source       332 non-null    object \n",
            " 13  ratings                6519 non-null   object \n",
            " 14  genres                 6510 non-null   object \n",
            " 15  box_office             3158 non-null   float64\n",
            "dtypes: float64(4), int64(1), object(11)\n",
            "memory usage: 994.1+ KB\n"
          ]
        }
      ],
      "source": [
        "data.info()"
      ]
    },
    {
      "cell_type": "markdown",
      "metadata": {
        "id": "NYJg1SvR3Dr-"
      },
      "source": [
        " show_start_date и ratings имеют тип object."
      ]
    },
    {
      "cell_type": "markdown",
      "metadata": {
        "id": "qJ71QYoH3Dr-"
      },
      "source": [
        "Поменяем их тип данных, так как ratings может понадобиться для сравнений рейтингов у фильмов. С датами легче работать, когда они в формате даты."
      ]
    },
    {
      "cell_type": "code",
      "execution_count": null,
      "metadata": {
        "id": "GrjrUcXZ3Dr-",
        "outputId": "ed54798f-05c2-42fa-9eee-9190346a894c"
      },
      "outputs": [
        {
          "name": "stdout",
          "output_type": "stream",
          "text": [
            "<class 'pandas.core.frame.DataFrame'>\n",
            "Int64Index: 7485 entries, 0 to 7484\n",
            "Data columns (total 16 columns):\n",
            " #   Column                 Non-Null Count  Dtype              \n",
            "---  ------                 --------------  -----              \n",
            " 0   title                  7485 non-null   object             \n",
            " 1   puNumber               7485 non-null   int64              \n",
            " 2   show_start_date        7485 non-null   datetime64[ns, UTC]\n",
            " 3   type                   7485 non-null   object             \n",
            " 4   film_studio            7467 non-null   object             \n",
            " 5   production_country     7483 non-null   object             \n",
            " 6   director               7476 non-null   object             \n",
            " 7   producer               6917 non-null   object             \n",
            " 8   age_restriction        7485 non-null   object             \n",
            " 9   refundable_support     332 non-null    float64            \n",
            " 10  nonrefundable_support  332 non-null    float64            \n",
            " 11  budget                 332 non-null    float64            \n",
            " 12  financing_source       332 non-null    object             \n",
            " 13  ratings                6490 non-null   float64            \n",
            " 14  genres                 6510 non-null   object             \n",
            " 15  box_office             3158 non-null   float64            \n",
            "dtypes: datetime64[ns, UTC](1), float64(5), int64(1), object(9)\n",
            "memory usage: 994.1+ KB\n"
          ]
        }
      ],
      "source": [
        "# Переведем значения в столбце show_start_date в формат даты:\n",
        "data['show_start_date']=pd.to_datetime(data['show_start_date'])\n",
        "\n",
        "# Изменим тип данных столбца ratings:\n",
        "data['ratings']=pd.to_numeric(data['ratings'],errors='coerce')\n",
        "\n",
        "data.info()"
      ]
    },
    {
      "cell_type": "markdown",
      "metadata": {
        "id": "i0MOLbF-gFyP"
      },
      "source": [
        "#### Шаг 2.2. Изучите пропуски в датафрейме\n",
        "\n",
        "- Объясните, почему заполнили пропуски определённым образом или почему не стали этого делать."
      ]
    },
    {
      "cell_type": "code",
      "execution_count": null,
      "metadata": {
        "id": "PQqXRfH13Dr_",
        "outputId": "3edfda25-14b6-43aa-8fc6-a4f7f20c7c80"
      },
      "outputs": [
        {
          "data": {
            "text/plain": [
              "7485"
            ]
          },
          "execution_count": 15,
          "metadata": {},
          "output_type": "execute_result"
        }
      ],
      "source": [
        "# Комментарий ревьюера\n",
        "temp = data.copy() # создаем копию датасета до преобразования\n",
        "len(temp)"
      ]
    },
    {
      "cell_type": "code",
      "execution_count": null,
      "metadata": {
        "id": "Ytktf0PP3Dr_",
        "outputId": "809475c3-9288-4406-8a26-c94c2f429a70"
      },
      "outputs": [
        {
          "name": "stdout",
          "output_type": "stream",
          "text": [
            "film_studio                18\n",
            "production_country          2\n",
            "director                    9\n",
            "producer                  568\n",
            "refundable_support       7153\n",
            "nonrefundable_support    7153\n",
            "budget                   7153\n",
            "financing_source         7153\n",
            "ratings                   995\n",
            "genres                    975\n",
            "box_office               4327\n",
            "dtype: int64\n"
          ]
        }
      ],
      "source": [
        "# Определение пропущенных значений\n",
        "missing_values = data.isnull().sum()\n",
        "\n",
        "# Вывод столбцов с пропущенными значениями\n",
        "print(missing_values[missing_values > 0])"
      ]
    },
    {
      "cell_type": "code",
      "execution_count": null,
      "metadata": {
        "id": "XjHZYwtS3Dr_",
        "outputId": "810d6157-e9e9-4a2b-fdd7-f10f8d45c616"
      },
      "outputs": [
        {
          "name": "stdout",
          "output_type": "stream",
          "text": [
            "production_country          1\n",
            "director                    8\n",
            "producer                  567\n",
            "refundable_support       7135\n",
            "nonrefundable_support    7135\n",
            "budget                   7135\n",
            "financing_source         7135\n",
            "ratings                   982\n",
            "genres                    962\n",
            "box_office               4310\n",
            "dtype: int64\n"
          ]
        }
      ],
      "source": [
        "data = data.dropna(subset=['film_studio'])\n",
        " # Определение пропущенных значений\n",
        "missing_values = data.isnull().sum()\n",
        "\n",
        "# Вывод столбцов с пропущенными значениями\n",
        "print(missing_values[missing_values > 0])"
      ]
    },
    {
      "cell_type": "code",
      "execution_count": null,
      "metadata": {
        "id": "W1IzhH6f3Dr_",
        "outputId": "0e7dab25-182a-40c8-e6ef-e52ec0739e08"
      },
      "outputs": [
        {
          "name": "stdout",
          "output_type": "stream",
          "text": [
            "director                    8\n",
            "producer                  567\n",
            "refundable_support       7134\n",
            "nonrefundable_support    7134\n",
            "budget                   7134\n",
            "financing_source         7134\n",
            "ratings                   982\n",
            "genres                    962\n",
            "box_office               4310\n",
            "dtype: int64\n"
          ]
        }
      ],
      "source": [
        "data = data.dropna(subset=['production_country'])\n",
        " # Определение пропущенных значений\n",
        "missing_values = data.isnull().sum()\n",
        "\n",
        "# Вывод столбцов с пропущенными значениями\n",
        "print(missing_values[missing_values > 0])"
      ]
    },
    {
      "cell_type": "code",
      "execution_count": null,
      "metadata": {
        "id": "M8fCMHkc3DsA",
        "outputId": "459d6efa-ea22-45ff-8920-0b05567eef01"
      },
      "outputs": [
        {
          "name": "stdout",
          "output_type": "stream",
          "text": [
            "producer                  564\n",
            "refundable_support       7126\n",
            "nonrefundable_support    7126\n",
            "budget                   7126\n",
            "financing_source         7126\n",
            "ratings                   976\n",
            "genres                    956\n",
            "box_office               4303\n",
            "dtype: int64\n"
          ]
        }
      ],
      "source": [
        "data = data.dropna(subset=['director'])\n",
        " # Определение пропущенных значений\n",
        "missing_values = data.isnull().sum()\n",
        "\n",
        "# Вывод столбцов с пропущенными значениями\n",
        "print(missing_values[missing_values > 0])"
      ]
    },
    {
      "cell_type": "code",
      "execution_count": null,
      "metadata": {
        "id": "CVv4i5X33DsA",
        "outputId": "63432eda-e6fe-4698-c687-ce980927ee60"
      },
      "outputs": [
        {
          "name": "stdout",
          "output_type": "stream",
          "text": [
            "<class 'pandas.core.frame.DataFrame'>\n",
            "Int64Index: 7458 entries, 0 to 7484\n",
            "Data columns (total 16 columns):\n",
            " #   Column                 Non-Null Count  Dtype              \n",
            "---  ------                 --------------  -----              \n",
            " 0   title                  7458 non-null   object             \n",
            " 1   puNumber               7458 non-null   int64              \n",
            " 2   show_start_date        7458 non-null   datetime64[ns, UTC]\n",
            " 3   type                   7458 non-null   object             \n",
            " 4   film_studio            7458 non-null   object             \n",
            " 5   production_country     7458 non-null   object             \n",
            " 6   director               7458 non-null   object             \n",
            " 7   producer               6894 non-null   object             \n",
            " 8   age_restriction        7458 non-null   object             \n",
            " 9   refundable_support     332 non-null    float64            \n",
            " 10  nonrefundable_support  332 non-null    float64            \n",
            " 11  budget                 332 non-null    float64            \n",
            " 12  financing_source       332 non-null    object             \n",
            " 13  ratings                6482 non-null   float64            \n",
            " 14  genres                 6502 non-null   object             \n",
            " 15  box_office             3155 non-null   float64            \n",
            "dtypes: datetime64[ns, UTC](1), float64(5), int64(1), object(9)\n",
            "memory usage: 990.5+ KB\n"
          ]
        }
      ],
      "source": [
        "data.info()"
      ]
    },
    {
      "cell_type": "markdown",
      "metadata": {
        "id": "7XonwvgG3DsA"
      },
      "source": [
        "Удалили строки с столбцами у которых малое количество пропусков: film_studio, production_country, director."
      ]
    },
    {
      "cell_type": "code",
      "execution_count": null,
      "metadata": {
        "id": "_k0aATAE3DsA",
        "outputId": "00083614-2a4d-4c2e-a581-da5bb8615d74"
      },
      "outputs": [
        {
          "name": "stdout",
          "output_type": "stream",
          "text": [
            "producer                  564\n",
            "refundable_support       7126\n",
            "nonrefundable_support    7126\n",
            "budget                   7126\n",
            "financing_source         7126\n",
            "ratings                   976\n",
            "genres                    956\n",
            "box_office               4303\n",
            "dtype: int64\n"
          ]
        }
      ],
      "source": [
        " # Определение пропущенных значений\n",
        "missing_values = data.isnull().sum()\n",
        "\n",
        "# Вывод столбцов с пропущенными значениями\n",
        "print(missing_values[missing_values > 0])"
      ]
    },
    {
      "cell_type": "code",
      "execution_count": null,
      "metadata": {
        "id": "IUwn1TT73DsA"
      },
      "outputs": [],
      "source": [
        "data['refundable_support'] = data['refundable_support'].fillna(0)\n",
        "data['nonrefundable_support'] = data['nonrefundable_support'].fillna(0)"
      ]
    },
    {
      "cell_type": "markdown",
      "metadata": {
        "id": "3olKITsG3DsA"
      },
      "source": [
        "Заполним 'refundable_support' и 'nonrefundable_support' 0. Так как скорее всего это фильмы, на которые не тратились государственные деньги."
      ]
    },
    {
      "cell_type": "code",
      "execution_count": null,
      "metadata": {
        "id": "alFC8Uri3DsA",
        "outputId": "9317015c-8b70-4b18-bb0c-9718517d290d"
      },
      "outputs": [
        {
          "name": "stdout",
          "output_type": "stream",
          "text": [
            "producer             564\n",
            "budget              7126\n",
            "financing_source    7126\n",
            "ratings              976\n",
            "genres               956\n",
            "box_office          4303\n",
            "dtype: int64\n"
          ]
        }
      ],
      "source": [
        " # Определение пропущенных значений\n",
        "missing_values = data.isnull().sum()\n",
        "\n",
        "# Вывод столбцов с пропущенными значениями\n",
        "print(missing_values[missing_values > 0])"
      ]
    },
    {
      "cell_type": "markdown",
      "metadata": {
        "id": "6kx1gpfo3DsB"
      },
      "source": [
        "# Вывод\n",
        "Были удалены строки, у которых не было известно об film_studio, production_country, director, так как там было мало пропусков.\n",
        "Об остальных:\n",
        "- producer: не указан для 564 фильмах - оставим как есть;\n",
        "- только у 332 фильмов есть информация о бюджете фильма. Это связано с тем, что для фильмов, которые не получали государственную поддержку, данные о бюджете не указаны. Оставим пропуски как есть;\n",
        "- ratings: для 976 фильмов рейтинги не указаны - оставим пропуски как есть;\n",
        "- genres: 956 фильмов остались без информации о жанре - оставим пропуски как есть;\n",
        "- box_office: 4303 записей о кассовых сборах не заполнены. Возможно произошел сбой в выгрузке информации. Также оставим пропуски, чтобы не было искажения информации о кассовых сборах."
      ]
    },
    {
      "cell_type": "markdown",
      "metadata": {
        "id": "4c6k1t9ygFyQ"
      },
      "source": [
        "#### Шаг 2.3. Изучите дубликаты в датафрейме\n",
        "- Проверьте, есть ли в данных дубликаты. Опишите причины, которые могли повлиять на появление дублей."
      ]
    },
    {
      "cell_type": "markdown",
      "metadata": {
        "id": "aKck8RIdgFyQ"
      },
      "source": [
        "# Проверим на явные дубликаты:\n",
        "data.duplicated().sum()"
      ]
    },
    {
      "cell_type": "markdown",
      "metadata": {
        "id": "xOgJyRFW3DsB"
      },
      "source": [
        " </font><font color='Blue'><b>Комментарий студента</b></font><br>\n",
        "    Была сделана проверка явных дубликатов. Явных дубликатов не обнаружилось."
      ]
    },
    {
      "cell_type": "code",
      "execution_count": null,
      "metadata": {
        "id": "nN8qFrUV3DsB",
        "outputId": "d854c9f7-a9ee-45dc-fc86-f8fdcd50f872"
      },
      "outputs": [
        {
          "name": "stdout",
          "output_type": "stream",
          "text": [
            "Дубликаты:\n",
            "Empty DataFrame\n",
            "Columns: [title, puNumber, show_start_date, type, film_studio, production_country, director, producer, age_restriction, refundable_support, nonrefundable_support, budget, financing_source, ratings, genres, box_office]\n",
            "Index: []\n"
          ]
        }
      ],
      "source": [
        "# Проверка на полные дубликаты\n",
        "duplicates = data.duplicated()\n",
        "\n",
        "# Выводим дубликаты\n",
        "print(\"Дубликаты:\")\n",
        "print(data[duplicates])"
      ]
    },
    {
      "cell_type": "code",
      "execution_count": null,
      "metadata": {
        "id": "IYUrujam3DsB",
        "outputId": "8db50a36-2b9f-486b-a9da-307c1add41db"
      },
      "outputs": [
        {
          "data": {
            "text/plain": [
              "2"
            ]
          },
          "execution_count": 25,
          "metadata": {},
          "output_type": "execute_result"
        }
      ],
      "source": [
        "# Проверим теперь, есть ли дубликаты в столбце с номером прокатного удостоверения:\n",
        "data['puNumber'].duplicated().sum()"
      ]
    },
    {
      "cell_type": "code",
      "execution_count": null,
      "metadata": {
        "id": "P-l3aIUO3DsB",
        "outputId": "64d3bdf6-c322-416d-d631-1bfb47b34766"
      },
      "outputs": [
        {
          "data": {
            "text/html": [
              "<div>\n",
              "<style scoped>\n",
              "    .dataframe tbody tr th:only-of-type {\n",
              "        vertical-align: middle;\n",
              "    }\n",
              "\n",
              "    .dataframe tbody tr th {\n",
              "        vertical-align: top;\n",
              "    }\n",
              "\n",
              "    .dataframe thead th {\n",
              "        text-align: right;\n",
              "    }\n",
              "</style>\n",
              "<table border=\"1\" class=\"dataframe\">\n",
              "  <thead>\n",
              "    <tr style=\"text-align: right;\">\n",
              "      <th></th>\n",
              "      <th>title</th>\n",
              "      <th>puNumber</th>\n",
              "      <th>show_start_date</th>\n",
              "      <th>type</th>\n",
              "      <th>film_studio</th>\n",
              "      <th>production_country</th>\n",
              "      <th>director</th>\n",
              "      <th>producer</th>\n",
              "      <th>age_restriction</th>\n",
              "      <th>refundable_support</th>\n",
              "      <th>nonrefundable_support</th>\n",
              "      <th>budget</th>\n",
              "      <th>financing_source</th>\n",
              "      <th>ratings</th>\n",
              "      <th>genres</th>\n",
              "      <th>box_office</th>\n",
              "    </tr>\n",
              "  </thead>\n",
              "  <tbody>\n",
              "    <tr>\n",
              "      <th>4637</th>\n",
              "      <td>Как жениться и остаться холостым</td>\n",
              "      <td>221154310</td>\n",
              "      <td>2010-12-17 12:00:00+00:00</td>\n",
              "      <td>Художественный</td>\n",
              "      <td>Ше Вам, Скрипт Ассосье, Тэ Фэ 1 Фильм Продюксь...</td>\n",
              "      <td>Франция</td>\n",
              "      <td>Эрик Лартиго</td>\n",
              "      <td>Амандин Било, Алан Шаба</td>\n",
              "      <td>«16+» - для детей старше 16 лет</td>\n",
              "      <td>0.0</td>\n",
              "      <td>0.0</td>\n",
              "      <td>NaN</td>\n",
              "      <td>NaN</td>\n",
              "      <td>7.0</td>\n",
              "      <td>мелодрама,комедия</td>\n",
              "      <td>NaN</td>\n",
              "    </tr>\n",
              "    <tr>\n",
              "      <th>4638</th>\n",
              "      <td>Иоанна - женщина на папском престоле /По роман...</td>\n",
              "      <td>221154310</td>\n",
              "      <td>2010-12-17 12:00:00+00:00</td>\n",
              "      <td>Художественный</td>\n",
              "      <td>Константин Фильм, А Эр Ди Дегето Фильм, Дюне ...</td>\n",
              "      <td>Германия - Великобритания - Италия - Испания</td>\n",
              "      <td>Зенке Вортманн</td>\n",
              "      <td>Оливер Бербен, Дорис Д.Хайнце, Фарук Элтан</td>\n",
              "      <td>«16+» - для детей старше 16 лет</td>\n",
              "      <td>0.0</td>\n",
              "      <td>0.0</td>\n",
              "      <td>NaN</td>\n",
              "      <td>NaN</td>\n",
              "      <td>7.6</td>\n",
              "      <td>драма,мелодрама,история</td>\n",
              "      <td>NaN</td>\n",
              "    </tr>\n",
              "    <tr>\n",
              "      <th>5066</th>\n",
              "      <td>Анализируй это!</td>\n",
              "      <td>221054410</td>\n",
              "      <td>2010-05-25 12:00:00+00:00</td>\n",
              "      <td>Художественный</td>\n",
              "      <td>Уорнер Бразерс, Вилладж Роудшоу Филмз ЛТД</td>\n",
              "      <td>США-Австралия</td>\n",
              "      <td>ХЭрольд Рэмис</td>\n",
              "      <td>Джейн Розенталь, Пола Уейнстейн</td>\n",
              "      <td>«16+» - для детей старше 16 лет</td>\n",
              "      <td>0.0</td>\n",
              "      <td>0.0</td>\n",
              "      <td>NaN</td>\n",
              "      <td>NaN</td>\n",
              "      <td>7.4</td>\n",
              "      <td>комедия,криминал</td>\n",
              "      <td>NaN</td>\n",
              "    </tr>\n",
              "    <tr>\n",
              "      <th>5067</th>\n",
              "      <td>Анализируй то!</td>\n",
              "      <td>221054410</td>\n",
              "      <td>2010-05-25 12:00:00+00:00</td>\n",
              "      <td>Художественный</td>\n",
              "      <td>Уорнер Бразерс, Виллидж Роадшоу Пикчерз, Эн-Пи...</td>\n",
              "      <td>США</td>\n",
              "      <td>Гарольд Реймис</td>\n",
              "      <td>Джейн Розенталь, Паул Уэйнстейн</td>\n",
              "      <td>«12+» - для детей старше 12 лет</td>\n",
              "      <td>0.0</td>\n",
              "      <td>0.0</td>\n",
              "      <td>NaN</td>\n",
              "      <td>NaN</td>\n",
              "      <td>6.8</td>\n",
              "      <td>комедия,криминал</td>\n",
              "      <td>NaN</td>\n",
              "    </tr>\n",
              "  </tbody>\n",
              "</table>\n",
              "</div>"
            ],
            "text/plain": [
              "                                                  title   puNumber  \\\n",
              "4637                   Как жениться и остаться холостым  221154310   \n",
              "4638  Иоанна - женщина на папском престоле /По роман...  221154310   \n",
              "5066                                    Анализируй это!  221054410   \n",
              "5067                                     Анализируй то!  221054410   \n",
              "\n",
              "               show_start_date            type  \\\n",
              "4637 2010-12-17 12:00:00+00:00  Художественный   \n",
              "4638 2010-12-17 12:00:00+00:00  Художественный   \n",
              "5066 2010-05-25 12:00:00+00:00  Художественный   \n",
              "5067 2010-05-25 12:00:00+00:00  Художественный   \n",
              "\n",
              "                                            film_studio  \\\n",
              "4637  Ше Вам, Скрипт Ассосье, Тэ Фэ 1 Фильм Продюксь...   \n",
              "4638   Константин Фильм, А Эр Ди Дегето Фильм, Дюне ...   \n",
              "5066          Уорнер Бразерс, Вилладж Роудшоу Филмз ЛТД   \n",
              "5067  Уорнер Бразерс, Виллидж Роадшоу Пикчерз, Эн-Пи...   \n",
              "\n",
              "                                production_country        director  \\\n",
              "4637                                       Франция    Эрик Лартиго   \n",
              "4638  Германия - Великобритания - Италия - Испания  Зенке Вортманн   \n",
              "5066                                 США-Австралия   ХЭрольд Рэмис   \n",
              "5067                                           США  Гарольд Реймис   \n",
              "\n",
              "                                        producer  \\\n",
              "4637                     Амандин Било, Алан Шаба   \n",
              "4638  Оливер Бербен, Дорис Д.Хайнце, Фарук Элтан   \n",
              "5066             Джейн Розенталь, Пола Уейнстейн   \n",
              "5067             Джейн Розенталь, Паул Уэйнстейн   \n",
              "\n",
              "                      age_restriction  refundable_support  \\\n",
              "4637  «16+» - для детей старше 16 лет                 0.0   \n",
              "4638  «16+» - для детей старше 16 лет                 0.0   \n",
              "5066  «16+» - для детей старше 16 лет                 0.0   \n",
              "5067  «12+» - для детей старше 12 лет                 0.0   \n",
              "\n",
              "      nonrefundable_support  budget financing_source  ratings  \\\n",
              "4637                    0.0     NaN              NaN      7.0   \n",
              "4638                    0.0     NaN              NaN      7.6   \n",
              "5066                    0.0     NaN              NaN      7.4   \n",
              "5067                    0.0     NaN              NaN      6.8   \n",
              "\n",
              "                       genres  box_office  \n",
              "4637        мелодрама,комедия         NaN  \n",
              "4638  драма,мелодрама,история         NaN  \n",
              "5066         комедия,криминал         NaN  \n",
              "5067         комедия,криминал         NaN  "
            ]
          },
          "execution_count": 26,
          "metadata": {},
          "output_type": "execute_result"
        }
      ],
      "source": [
        "data[data.duplicated(subset=['puNumber'], keep = False)]"
      ]
    },
    {
      "cell_type": "markdown",
      "metadata": {
        "id": "8B1gICbU3DsB"
      },
      "source": [
        "Номер прокатного удостоверения должен быть индивидуальный у каждого фильма. Повторений быть не должно."
      ]
    },
    {
      "cell_type": "code",
      "execution_count": null,
      "metadata": {
        "id": "jPQWm7yT3DsB"
      },
      "outputs": [],
      "source": [
        "# Удаление дубликатов из столбца\n",
        "data = data[data['puNumber'] != 221154310]\n",
        "data = data[data['puNumber'] != 221054410]"
      ]
    },
    {
      "cell_type": "code",
      "execution_count": null,
      "metadata": {
        "id": "nyxBhvvA3DsC",
        "outputId": "43dd64ca-978a-41a2-ec9b-b93f862b71f0"
      },
      "outputs": [
        {
          "data": {
            "text/html": [
              "<div>\n",
              "<style scoped>\n",
              "    .dataframe tbody tr th:only-of-type {\n",
              "        vertical-align: middle;\n",
              "    }\n",
              "\n",
              "    .dataframe tbody tr th {\n",
              "        vertical-align: top;\n",
              "    }\n",
              "\n",
              "    .dataframe thead th {\n",
              "        text-align: right;\n",
              "    }\n",
              "</style>\n",
              "<table border=\"1\" class=\"dataframe\">\n",
              "  <thead>\n",
              "    <tr style=\"text-align: right;\">\n",
              "      <th></th>\n",
              "      <th>title</th>\n",
              "      <th>puNumber</th>\n",
              "      <th>show_start_date</th>\n",
              "      <th>type</th>\n",
              "      <th>film_studio</th>\n",
              "      <th>production_country</th>\n",
              "      <th>director</th>\n",
              "      <th>producer</th>\n",
              "      <th>age_restriction</th>\n",
              "      <th>refundable_support</th>\n",
              "      <th>nonrefundable_support</th>\n",
              "      <th>budget</th>\n",
              "      <th>financing_source</th>\n",
              "      <th>ratings</th>\n",
              "      <th>genres</th>\n",
              "      <th>box_office</th>\n",
              "    </tr>\n",
              "  </thead>\n",
              "  <tbody>\n",
              "  </tbody>\n",
              "</table>\n",
              "</div>"
            ],
            "text/plain": [
              "Empty DataFrame\n",
              "Columns: [title, puNumber, show_start_date, type, film_studio, production_country, director, producer, age_restriction, refundable_support, nonrefundable_support, budget, financing_source, ratings, genres, box_office]\n",
              "Index: []"
            ]
          },
          "execution_count": 28,
          "metadata": {},
          "output_type": "execute_result"
        }
      ],
      "source": [
        "data[data.duplicated(subset=['puNumber'], keep = False)]"
      ]
    },
    {
      "cell_type": "code",
      "execution_count": null,
      "metadata": {
        "id": "-PTCpy3T3DsC"
      },
      "outputs": [],
      "source": [
        "#Проверим теперь, есть ли дубликаты в столбце с названием\n",
        "#data['title'].duplicated().sum()"
      ]
    },
    {
      "cell_type": "code",
      "execution_count": null,
      "metadata": {
        "id": "T6UvAYDF3DsC"
      },
      "outputs": [],
      "source": [
        "#data = data.drop_duplicates(subset = ['title','puNumber'], keep ='first')"
      ]
    },
    {
      "cell_type": "markdown",
      "metadata": {
        "id": "aYRcDk6L3DsC"
      },
      "source": [
        "</font><font color='Blue'><b>Комментарий студента</b></font><br>  \n",
        "Были закомментрированы удаления фильмов с одинаковыми названиями."
      ]
    },
    {
      "cell_type": "code",
      "execution_count": null,
      "metadata": {
        "id": "Qvj7garl3DsC",
        "outputId": "c331f614-3445-493c-981a-8e72772d6779"
      },
      "outputs": [
        {
          "name": "stdout",
          "output_type": "stream",
          "text": [
            "Количество строк исходное 7485, Количество строк после обработки 7454, % потерянных строк 0.41\n",
            "Колонка refundable_support: сумма исходная 3939000000.0, сумма после обработки 3939000000.0, % потерь 0.0\n",
            "Колонка nonrefundable_support: сумма исходная 16261688312.0, сумма после обработки 16261688312.0, % потерь 0.0\n",
            "Колонка budget: сумма исходная 42240265939.0, сумма после обработки 42240265939.0, % потерь 0.0\n",
            "Колонка box_office: сумма исходная 241519442375.13, сумма после обработки 241519722477.13, % потерь 0.0\n"
          ]
        }
      ],
      "source": [
        "# Комментарий ревьюера\n",
        "# Проверим сколько удалено строк датасета и финансовых данных\n",
        "data_set = data.copy()           # создаем копию текущего датасета\n",
        "a, b  = len(temp), len(data_set)\n",
        "print(f'Количество строк исходное {a}, Количество строк после обработки {b}, % потерянных строк', round((a-b)/a*100, 2))\n",
        "fin_list = ['refundable_support', 'nonrefundable_support', 'budget', 'box_office']\n",
        "for i in fin_list:\n",
        "    temp1, temp2 = data_set[i].sum(), temp[i].sum()\n",
        "    print(f'Колонка {i}: сумма исходная {temp1}, сумма после обработки {temp2}, % потерь', round((temp2-temp1)/temp2*100, 2))"
      ]
    },
    {
      "cell_type": "code",
      "execution_count": null,
      "metadata": {
        "id": "_WG7BFwA3DsC",
        "outputId": "98cedcc6-24da-4b0d-a71a-40d5b0bab44e"
      },
      "outputs": [
        {
          "data": {
            "text/html": [
              "<div>\n",
              "<style scoped>\n",
              "    .dataframe tbody tr th:only-of-type {\n",
              "        vertical-align: middle;\n",
              "    }\n",
              "\n",
              "    .dataframe tbody tr th {\n",
              "        vertical-align: top;\n",
              "    }\n",
              "\n",
              "    .dataframe thead th {\n",
              "        text-align: right;\n",
              "    }\n",
              "</style>\n",
              "<table border=\"1\" class=\"dataframe\">\n",
              "  <thead>\n",
              "    <tr style=\"text-align: right;\">\n",
              "      <th></th>\n",
              "      <th>title</th>\n",
              "      <th>puNumber</th>\n",
              "      <th>show_start_date</th>\n",
              "      <th>type</th>\n",
              "      <th>film_studio</th>\n",
              "      <th>production_country</th>\n",
              "      <th>director</th>\n",
              "      <th>producer</th>\n",
              "      <th>age_restriction</th>\n",
              "      <th>refundable_support</th>\n",
              "      <th>nonrefundable_support</th>\n",
              "      <th>budget</th>\n",
              "      <th>financing_source</th>\n",
              "      <th>ratings</th>\n",
              "      <th>genres</th>\n",
              "      <th>box_office</th>\n",
              "    </tr>\n",
              "  </thead>\n",
              "  <tbody>\n",
              "    <tr>\n",
              "      <th>2</th>\n",
              "      <td>Особо опасен</td>\n",
              "      <td>221038416</td>\n",
              "      <td>2016-10-10 12:00:00+00:00</td>\n",
              "      <td>Художественный</td>\n",
              "      <td>Юниверсал Пикчерз, Кикстарт Продакшнз, Марк Пл...</td>\n",
              "      <td>США</td>\n",
              "      <td>Тимур Бекмамбетов</td>\n",
              "      <td>Джим Лемли, Джейсон Нетер, Марк Е.Платт, Яйн Смит</td>\n",
              "      <td>«18+» - запрещено для детей</td>\n",
              "      <td>0.0</td>\n",
              "      <td>0.0</td>\n",
              "      <td>NaN</td>\n",
              "      <td>NaN</td>\n",
              "      <td>6.8</td>\n",
              "      <td>фантастика,боевик,триллер</td>\n",
              "      <td>NaN</td>\n",
              "    </tr>\n",
              "    <tr>\n",
              "      <th>3</th>\n",
              "      <td>Особо опасен</td>\n",
              "      <td>221026916</td>\n",
              "      <td>2016-06-10 12:00:00+00:00</td>\n",
              "      <td>Художественный</td>\n",
              "      <td>Юниверсал Пикчерз, Кикстарт Продакшнз, Марк Пл...</td>\n",
              "      <td>США</td>\n",
              "      <td>Тимур Бекмамбетов</td>\n",
              "      <td>Джим Лемли, Джейсон Нетер, Марк Е.Платт, Яйн Смит</td>\n",
              "      <td>«18+» - запрещено для детей</td>\n",
              "      <td>0.0</td>\n",
              "      <td>0.0</td>\n",
              "      <td>NaN</td>\n",
              "      <td>NaN</td>\n",
              "      <td>6.8</td>\n",
              "      <td>фантастика,боевик,триллер</td>\n",
              "      <td>NaN</td>\n",
              "    </tr>\n",
              "    <tr>\n",
              "      <th>4</th>\n",
              "      <td>Особо опасен</td>\n",
              "      <td>221030815</td>\n",
              "      <td>2015-07-29 12:00:00+00:00</td>\n",
              "      <td>Художественный</td>\n",
              "      <td>Юниверсал Пикчерз, Кикстарт Продакшнз, Марк Пл...</td>\n",
              "      <td>США</td>\n",
              "      <td>Тимур Бекмамбетов</td>\n",
              "      <td>Джим Лемли, Джейсон Нетер, Марк Е.Платт, Яйн Смит</td>\n",
              "      <td>«18+» - запрещено для детей</td>\n",
              "      <td>0.0</td>\n",
              "      <td>0.0</td>\n",
              "      <td>NaN</td>\n",
              "      <td>NaN</td>\n",
              "      <td>6.8</td>\n",
              "      <td>фантастика,боевик,триллер</td>\n",
              "      <td>NaN</td>\n",
              "    </tr>\n",
              "    <tr>\n",
              "      <th>12</th>\n",
              "      <td>Малышка на миллион /По мотивам рассказов Ф.Х.Т...</td>\n",
              "      <td>221011415</td>\n",
              "      <td>2015-04-03 12:00:00+00:00</td>\n",
              "      <td>Художественный</td>\n",
              "      <td>Уорнер Бразерс, Лейкшор Интертейнмент, Малпасо...</td>\n",
              "      <td>США</td>\n",
              "      <td>Клинт Иствуд</td>\n",
              "      <td>Клинт Иствуд, Том Розенберг, Альберт С.Рудди, ...</td>\n",
              "      <td>«16+» - для детей старше 16 лет</td>\n",
              "      <td>0.0</td>\n",
              "      <td>0.0</td>\n",
              "      <td>NaN</td>\n",
              "      <td>NaN</td>\n",
              "      <td>8.1</td>\n",
              "      <td>драма,спорт</td>\n",
              "      <td>NaN</td>\n",
              "    </tr>\n",
              "    <tr>\n",
              "      <th>26</th>\n",
              "      <td>Оружейный барон</td>\n",
              "      <td>221012515</td>\n",
              "      <td>2015-04-03 12:00:00+00:00</td>\n",
              "      <td>Художественный</td>\n",
              "      <td>Вэ И Пэ Медиенфондс 3, Асендант Пикчерз, Сатур...</td>\n",
              "      <td>США - Франция - Турция</td>\n",
              "      <td>Эндрю Никкол</td>\n",
              "      <td>Норман Голуайтли, Энди Грош, Николас Кейдж, Эн...</td>\n",
              "      <td>«18+» - запрещено для детей</td>\n",
              "      <td>0.0</td>\n",
              "      <td>0.0</td>\n",
              "      <td>NaN</td>\n",
              "      <td>NaN</td>\n",
              "      <td>7.7</td>\n",
              "      <td>боевик,драма,криминал</td>\n",
              "      <td>NaN</td>\n",
              "    </tr>\n",
              "    <tr>\n",
              "      <th>...</th>\n",
              "      <td>...</td>\n",
              "      <td>...</td>\n",
              "      <td>...</td>\n",
              "      <td>...</td>\n",
              "      <td>...</td>\n",
              "      <td>...</td>\n",
              "      <td>...</td>\n",
              "      <td>...</td>\n",
              "      <td>...</td>\n",
              "      <td>...</td>\n",
              "      <td>...</td>\n",
              "      <td>...</td>\n",
              "      <td>...</td>\n",
              "      <td>...</td>\n",
              "      <td>...</td>\n",
              "      <td>...</td>\n",
              "    </tr>\n",
              "    <tr>\n",
              "      <th>7368</th>\n",
              "      <td>Невиновен</td>\n",
              "      <td>111019319</td>\n",
              "      <td>2019-11-07 12:00:00+00:00</td>\n",
              "      <td>Художественный</td>\n",
              "      <td>ООО \"Кавказфильм\"</td>\n",
              "      <td>Россия</td>\n",
              "      <td>А.Емкужев</td>\n",
              "      <td>А.Емкужев, А.Хуажева, ООО \"Корпорация Русская ...</td>\n",
              "      <td>«16+» - для детей старше 16 лет</td>\n",
              "      <td>0.0</td>\n",
              "      <td>0.0</td>\n",
              "      <td>NaN</td>\n",
              "      <td>NaN</td>\n",
              "      <td>7.5</td>\n",
              "      <td>триллер,детектив,криминал</td>\n",
              "      <td>NaN</td>\n",
              "    </tr>\n",
              "    <tr>\n",
              "      <th>7415</th>\n",
              "      <td>Отель \"Гранд Будапешт\"</td>\n",
              "      <td>121035119</td>\n",
              "      <td>2019-12-13 12:00:00+00:00</td>\n",
              "      <td>Художественный</td>\n",
              "      <td>Американ Эмпирикал, Индиан Пэинтбраш, Скотт Ру...</td>\n",
              "      <td>Германия, США</td>\n",
              "      <td>Уэс Андерсен</td>\n",
              "      <td>Уэс Андерсон, Джереми Доусон, Стивен Рейлс</td>\n",
              "      <td>«16+» - для детей старше 16 лет</td>\n",
              "      <td>0.0</td>\n",
              "      <td>0.0</td>\n",
              "      <td>NaN</td>\n",
              "      <td>NaN</td>\n",
              "      <td>7.9</td>\n",
              "      <td>комедия,приключения,детектив</td>\n",
              "      <td>NaN</td>\n",
              "    </tr>\n",
              "    <tr>\n",
              "      <th>7437</th>\n",
              "      <td>Зверь</td>\n",
              "      <td>121035919</td>\n",
              "      <td>2019-12-05 12:00:00+00:00</td>\n",
              "      <td>Художественный</td>\n",
              "      <td>Студио энд Нью</td>\n",
              "      <td>Южная Корея</td>\n",
              "      <td>Ли Джон-хо</td>\n",
              "      <td>Чан Гён-ик, Чон Джи-хун, Пэк Кён сук</td>\n",
              "      <td>«18+» - запрещено для детей</td>\n",
              "      <td>0.0</td>\n",
              "      <td>0.0</td>\n",
              "      <td>NaN</td>\n",
              "      <td>NaN</td>\n",
              "      <td>6.5</td>\n",
              "      <td>триллер,драма</td>\n",
              "      <td>175003.51</td>\n",
              "    </tr>\n",
              "    <tr>\n",
              "      <th>7449</th>\n",
              "      <td>В тихом омуте</td>\n",
              "      <td>121036919</td>\n",
              "      <td>2019-12-09 12:00:00+00:00</td>\n",
              "      <td>Художественный</td>\n",
              "      <td>Хэд Гир Филмз, Крео Филмз, Локал Хироу, Метрол...</td>\n",
              "      <td>США</td>\n",
              "      <td>Адам Рэндолл</td>\n",
              "      <td>Мэтт Уолдек</td>\n",
              "      <td>«18+» - запрещено для детей</td>\n",
              "      <td>0.0</td>\n",
              "      <td>0.0</td>\n",
              "      <td>NaN</td>\n",
              "      <td>NaN</td>\n",
              "      <td>6.8</td>\n",
              "      <td>триллер,криминал,детектив</td>\n",
              "      <td>NaN</td>\n",
              "    </tr>\n",
              "    <tr>\n",
              "      <th>7473</th>\n",
              "      <td>Вторжение</td>\n",
              "      <td>111022519</td>\n",
              "      <td>2019-12-23 12:00:00+00:00</td>\n",
              "      <td>Художественный</td>\n",
              "      <td>ООО \"Арт Пикчерс Студия\", ООО \"Водород 2011\"</td>\n",
              "      <td>Россия</td>\n",
              "      <td>Ф.Бондарчук</td>\n",
              "      <td>Ф.Бондарчук, М.Врубель, А.Андрющенко, Д.Рудовский</td>\n",
              "      <td>«12+» - для детей старше 12 лет</td>\n",
              "      <td>100000000.0</td>\n",
              "      <td>400000000.0</td>\n",
              "      <td>944000000.0</td>\n",
              "      <td>Фонд кино</td>\n",
              "      <td>5.7</td>\n",
              "      <td>фантастика,боевик</td>\n",
              "      <td>NaN</td>\n",
              "    </tr>\n",
              "  </tbody>\n",
              "</table>\n",
              "<p>1265 rows × 16 columns</p>\n",
              "</div>"
            ],
            "text/plain": [
              "                                                  title   puNumber  \\\n",
              "2                                          Особо опасен  221038416   \n",
              "3                                          Особо опасен  221026916   \n",
              "4                                          Особо опасен  221030815   \n",
              "12    Малышка на миллион /По мотивам рассказов Ф.Х.Т...  221011415   \n",
              "26                                      Оружейный барон  221012515   \n",
              "...                                                 ...        ...   \n",
              "7368                                          Невиновен  111019319   \n",
              "7415                             Отель \"Гранд Будапешт\"  121035119   \n",
              "7437                                              Зверь  121035919   \n",
              "7449                                      В тихом омуте  121036919   \n",
              "7473                                          Вторжение  111022519   \n",
              "\n",
              "               show_start_date             type  \\\n",
              "2    2016-10-10 12:00:00+00:00   Художественный   \n",
              "3    2016-06-10 12:00:00+00:00   Художественный   \n",
              "4    2015-07-29 12:00:00+00:00   Художественный   \n",
              "12   2015-04-03 12:00:00+00:00   Художественный   \n",
              "26   2015-04-03 12:00:00+00:00   Художественный   \n",
              "...                        ...              ...   \n",
              "7368 2019-11-07 12:00:00+00:00   Художественный   \n",
              "7415 2019-12-13 12:00:00+00:00   Художественный   \n",
              "7437 2019-12-05 12:00:00+00:00   Художественный   \n",
              "7449 2019-12-09 12:00:00+00:00   Художественный   \n",
              "7473 2019-12-23 12:00:00+00:00   Художественный   \n",
              "\n",
              "                                            film_studio  \\\n",
              "2     Юниверсал Пикчерз, Кикстарт Продакшнз, Марк Пл...   \n",
              "3     Юниверсал Пикчерз, Кикстарт Продакшнз, Марк Пл...   \n",
              "4     Юниверсал Пикчерз, Кикстарт Продакшнз, Марк Пл...   \n",
              "12    Уорнер Бразерс, Лейкшор Интертейнмент, Малпасо...   \n",
              "26    Вэ И Пэ Медиенфондс 3, Асендант Пикчерз, Сатур...   \n",
              "...                                                 ...   \n",
              "7368                                  ООО \"Кавказфильм\"   \n",
              "7415  Американ Эмпирикал, Индиан Пэинтбраш, Скотт Ру...   \n",
              "7437                                     Студио энд Нью   \n",
              "7449  Хэд Гир Филмз, Крео Филмз, Локал Хироу, Метрол...   \n",
              "7473       ООО \"Арт Пикчерс Студия\", ООО \"Водород 2011\"   \n",
              "\n",
              "          production_country           director  \\\n",
              "2                        США  Тимур Бекмамбетов   \n",
              "3                        США  Тимур Бекмамбетов   \n",
              "4                        США  Тимур Бекмамбетов   \n",
              "12                       США       Клинт Иствуд   \n",
              "26    США - Франция - Турция       Эндрю Никкол   \n",
              "...                      ...                ...   \n",
              "7368                  Россия          А.Емкужев   \n",
              "7415           Германия, США       Уэс Андерсен   \n",
              "7437             Южная Корея         Ли Джон-хо   \n",
              "7449                     США       Адам Рэндолл   \n",
              "7473                  Россия        Ф.Бондарчук   \n",
              "\n",
              "                                               producer  \\\n",
              "2     Джим Лемли, Джейсон Нетер, Марк Е.Платт, Яйн Смит   \n",
              "3     Джим Лемли, Джейсон Нетер, Марк Е.Платт, Яйн Смит   \n",
              "4     Джим Лемли, Джейсон Нетер, Марк Е.Платт, Яйн Смит   \n",
              "12    Клинт Иствуд, Том Розенберг, Альберт С.Рудди, ...   \n",
              "26    Норман Голуайтли, Энди Грош, Николас Кейдж, Эн...   \n",
              "...                                                 ...   \n",
              "7368  А.Емкужев, А.Хуажева, ООО \"Корпорация Русская ...   \n",
              "7415         Уэс Андерсон, Джереми Доусон, Стивен Рейлс   \n",
              "7437               Чан Гён-ик, Чон Джи-хун, Пэк Кён сук   \n",
              "7449                                        Мэтт Уолдек   \n",
              "7473  Ф.Бондарчук, М.Врубель, А.Андрющенко, Д.Рудовский   \n",
              "\n",
              "                      age_restriction  refundable_support  \\\n",
              "2         «18+» - запрещено для детей                 0.0   \n",
              "3         «18+» - запрещено для детей                 0.0   \n",
              "4         «18+» - запрещено для детей                 0.0   \n",
              "12    «16+» - для детей старше 16 лет                 0.0   \n",
              "26        «18+» - запрещено для детей                 0.0   \n",
              "...                               ...                 ...   \n",
              "7368  «16+» - для детей старше 16 лет                 0.0   \n",
              "7415  «16+» - для детей старше 16 лет                 0.0   \n",
              "7437      «18+» - запрещено для детей                 0.0   \n",
              "7449      «18+» - запрещено для детей                 0.0   \n",
              "7473  «12+» - для детей старше 12 лет         100000000.0   \n",
              "\n",
              "      nonrefundable_support       budget financing_source  ratings  \\\n",
              "2                       0.0          NaN              NaN      6.8   \n",
              "3                       0.0          NaN              NaN      6.8   \n",
              "4                       0.0          NaN              NaN      6.8   \n",
              "12                      0.0          NaN              NaN      8.1   \n",
              "26                      0.0          NaN              NaN      7.7   \n",
              "...                     ...          ...              ...      ...   \n",
              "7368                    0.0          NaN              NaN      7.5   \n",
              "7415                    0.0          NaN              NaN      7.9   \n",
              "7437                    0.0          NaN              NaN      6.5   \n",
              "7449                    0.0          NaN              NaN      6.8   \n",
              "7473            400000000.0  944000000.0        Фонд кино      5.7   \n",
              "\n",
              "                            genres  box_office  \n",
              "2        фантастика,боевик,триллер         NaN  \n",
              "3        фантастика,боевик,триллер         NaN  \n",
              "4        фантастика,боевик,триллер         NaN  \n",
              "12                     драма,спорт         NaN  \n",
              "26           боевик,драма,криминал         NaN  \n",
              "...                            ...         ...  \n",
              "7368     триллер,детектив,криминал         NaN  \n",
              "7415  комедия,приключения,детектив         NaN  \n",
              "7437                 триллер,драма   175003.51  \n",
              "7449     триллер,криминал,детектив         NaN  \n",
              "7473             фантастика,боевик         NaN  \n",
              "\n",
              "[1265 rows x 16 columns]"
            ]
          },
          "execution_count": 32,
          "metadata": {},
          "output_type": "execute_result"
        }
      ],
      "source": [
        "data[data.duplicated(subset=['title'], keep = False)]"
      ]
    },
    {
      "cell_type": "code",
      "execution_count": null,
      "metadata": {
        "id": "Y88XNsLx3DsC",
        "outputId": "bb50741e-a941-4134-93d2-c3b5de5af2ef"
      },
      "outputs": [
        {
          "name": "stdout",
          "output_type": "stream",
          "text": [
            "<class 'pandas.core.frame.DataFrame'>\n",
            "Int64Index: 7454 entries, 0 to 7484\n",
            "Data columns (total 16 columns):\n",
            " #   Column                 Non-Null Count  Dtype              \n",
            "---  ------                 --------------  -----              \n",
            " 0   title                  7454 non-null   object             \n",
            " 1   puNumber               7454 non-null   int64              \n",
            " 2   show_start_date        7454 non-null   datetime64[ns, UTC]\n",
            " 3   type                   7454 non-null   object             \n",
            " 4   film_studio            7454 non-null   object             \n",
            " 5   production_country     7454 non-null   object             \n",
            " 6   director               7454 non-null   object             \n",
            " 7   producer               6890 non-null   object             \n",
            " 8   age_restriction        7454 non-null   object             \n",
            " 9   refundable_support     7454 non-null   float64            \n",
            " 10  nonrefundable_support  7454 non-null   float64            \n",
            " 11  budget                 332 non-null    float64            \n",
            " 12  financing_source       332 non-null    object             \n",
            " 13  ratings                6478 non-null   float64            \n",
            " 14  genres                 6498 non-null   object             \n",
            " 15  box_office             3155 non-null   float64            \n",
            "dtypes: datetime64[ns, UTC](1), float64(5), int64(1), object(9)\n",
            "memory usage: 990.0+ KB\n"
          ]
        }
      ],
      "source": [
        "data.info()"
      ]
    },
    {
      "cell_type": "markdown",
      "metadata": {
        "id": "RSH4XEiK3DsC"
      },
      "source": [
        "# Вывод\n",
        "Всевозможные дубликаты были удалены."
      ]
    },
    {
      "cell_type": "markdown",
      "metadata": {
        "id": "52fOPrEBgFyQ"
      },
      "source": [
        "#### Шаг 2.4. Изучите категориальные значения\n",
        "\n",
        "- Посмотрите, какая общая проблема встречается почти во всех категориальных столбцах;\n",
        "- Исправьте проблемные значения в поле `type`.\n",
        "\n",
        "<div id=\"accordion\">\n",
        "    <div class=\"card\">\n",
        "        <div class=\"card-header\" id=\"headingThree\">\n",
        "            <button class=\"btn btn-link collapsed\" data-toggle=\"collapse\" data-target=\"#collapseHint_1\" aria-expanded=\"false\" aria-controls=\"collapseHint_1\">Подсказка</button>\n",
        "        </div>\n",
        "        <div id=\"collapseHint_1\" class=\"collapse\" aria-labelledby=\"headingThree\" data-parent=\"#accordion\">\n",
        "            <div class=\"card-body\">\n",
        "В поле <code>type</code> есть несколько значений, у которых появился пробел в начале строки. Самый простой способ их «починить» -- использовать метод <a href=\"https://pandas.pydata.org/docs/reference/api/pandas.Series.str.strip.html#pandas.Series.str.strip\">.str.strip</a>. Этот метод удаляет все пробелы, которые встречаются в начале и в конце строки. Применяют его таким образом:<br>\n",
        "<code>df['type'].str.strip()</code>\n",
        "            </div>\n",
        "        </div>\n",
        "    </div>\n",
        "</div>"
      ]
    },
    {
      "cell_type": "code",
      "execution_count": null,
      "metadata": {
        "id": "PnXKIVdFgFyR"
      },
      "outputs": [],
      "source": [
        "data['type'] = data['type'].str.strip()"
      ]
    },
    {
      "cell_type": "code",
      "execution_count": null,
      "metadata": {
        "id": "yllg8-8H3DsD",
        "outputId": "f3486bd7-0410-4b50-a8a2-a1f05c20c514"
      },
      "outputs": [
        {
          "data": {
            "text/html": [
              "<div>\n",
              "<style scoped>\n",
              "    .dataframe tbody tr th:only-of-type {\n",
              "        vertical-align: middle;\n",
              "    }\n",
              "\n",
              "    .dataframe tbody tr th {\n",
              "        vertical-align: top;\n",
              "    }\n",
              "\n",
              "    .dataframe thead th {\n",
              "        text-align: right;\n",
              "    }\n",
              "</style>\n",
              "<table border=\"1\" class=\"dataframe\">\n",
              "  <thead>\n",
              "    <tr style=\"text-align: right;\">\n",
              "      <th></th>\n",
              "      <th>title</th>\n",
              "      <th>type</th>\n",
              "      <th>film_studio</th>\n",
              "      <th>production_country</th>\n",
              "      <th>director</th>\n",
              "      <th>producer</th>\n",
              "      <th>age_restriction</th>\n",
              "      <th>financing_source</th>\n",
              "      <th>genres</th>\n",
              "    </tr>\n",
              "  </thead>\n",
              "  <tbody>\n",
              "    <tr>\n",
              "      <th>count</th>\n",
              "      <td>7454</td>\n",
              "      <td>7454</td>\n",
              "      <td>7454</td>\n",
              "      <td>7454</td>\n",
              "      <td>7454</td>\n",
              "      <td>6890</td>\n",
              "      <td>7454</td>\n",
              "      <td>332</td>\n",
              "      <td>6498</td>\n",
              "    </tr>\n",
              "    <tr>\n",
              "      <th>unique</th>\n",
              "      <td>6744</td>\n",
              "      <td>6</td>\n",
              "      <td>5484</td>\n",
              "      <td>950</td>\n",
              "      <td>4795</td>\n",
              "      <td>5328</td>\n",
              "      <td>5</td>\n",
              "      <td>3</td>\n",
              "      <td>741</td>\n",
              "    </tr>\n",
              "    <tr>\n",
              "      <th>top</th>\n",
              "      <td>День святого Валентина_</td>\n",
              "      <td>Художественный</td>\n",
              "      <td>Киностудия \"Мосфильм\"</td>\n",
              "      <td>США</td>\n",
              "      <td>О.Семёнова</td>\n",
              "      <td>П.Смирнов</td>\n",
              "      <td>«16+» - для детей старше 16 лет</td>\n",
              "      <td>Министерство культуры</td>\n",
              "      <td>драма</td>\n",
              "    </tr>\n",
              "    <tr>\n",
              "      <th>freq</th>\n",
              "      <td>5</td>\n",
              "      <td>5893</td>\n",
              "      <td>341</td>\n",
              "      <td>2170</td>\n",
              "      <td>47</td>\n",
              "      <td>67</td>\n",
              "      <td>2845</td>\n",
              "      <td>164</td>\n",
              "      <td>476</td>\n",
              "    </tr>\n",
              "  </tbody>\n",
              "</table>\n",
              "</div>"
            ],
            "text/plain": [
              "                          title            type            film_studio  \\\n",
              "count                      7454            7454                   7454   \n",
              "unique                     6744               6                   5484   \n",
              "top     День святого Валентина_  Художественный  Киностудия \"Мосфильм\"   \n",
              "freq                          5            5893                    341   \n",
              "\n",
              "       production_country    director   producer  \\\n",
              "count                7454        7454       6890   \n",
              "unique                950        4795       5328   \n",
              "top                   США  О.Семёнова  П.Смирнов   \n",
              "freq                 2170          47         67   \n",
              "\n",
              "                        age_restriction       financing_source genres  \n",
              "count                              7454                    332   6498  \n",
              "unique                                5                      3    741  \n",
              "top     «16+» - для детей старше 16 лет  Министерство культуры  драма  \n",
              "freq                               2845                    164    476  "
            ]
          },
          "execution_count": 35,
          "metadata": {},
          "output_type": "execute_result"
        }
      ],
      "source": [
        "data.describe(include = 'object')"
      ]
    },
    {
      "cell_type": "code",
      "execution_count": null,
      "metadata": {
        "id": "zwWZZJRW3DsD"
      },
      "outputs": [],
      "source": [
        "data['production_country']=data['production_country'].replace(' ','', regex=True)"
      ]
    },
    {
      "cell_type": "code",
      "execution_count": null,
      "metadata": {
        "id": "kXl6bSbT3DsD"
      },
      "outputs": [],
      "source": [
        "for col in ['title', 'type', 'film_studio', 'production_country', 'director', 'producer', 'age_restriction', 'financing_source', 'genres']:\n",
        "  data[col] = data[col].str.replace(r'[^а-яА-Яa-zA-Z0-9!&?.,+()-/ ]', '', regex=True)"
      ]
    },
    {
      "cell_type": "markdown",
      "metadata": {
        "id": "2uLkfGuO3DsD"
      },
      "source": [
        " </font><font color='Blue'><b>Комментарий студента</b></font><br>\n",
        "    Были удалены лишние пробелы, а также были удалены лишние знаки пунктуации, как например День святого Валентина_, что уменьшить количество дубликатов."
      ]
    },
    {
      "cell_type": "markdown",
      "metadata": {
        "id": "XFSN5lrEgFyR"
      },
      "source": [
        "#### Шаг 2.5. Проверьте количественные значения\n",
        "\n",
        "- Проверьте, обнаружились ли в таких столбцах подозрительные данные. Как с такими данными лучше поступить?\n",
        "\n",
        "<div id=\"accordion\">\n",
        "    <div class=\"card\">\n",
        "        <div class=\"card-header\" id=\"headingThree\">\n",
        "            <button class=\"btn btn-link collapsed\" data-toggle=\"collapse\" data-target=\"#collapseHint_budget\" aria-expanded=\"false\" aria-controls=\"collapseHint_budget\">Подсказка</button>\n",
        "        </div>\n",
        "        <div id=\"collapseHint_budget\" class=\"collapse\" aria-labelledby=\"headingThree\" data-parent=\"#accordion\">\n",
        "            <div class=\"card-body\">\n",
        "Обратите внимание на описание столбца <code>budget</code>. Как этот столбец соотносится с двумя другими: <code>refundable_support</code> и <code>nonrefundable_support</code>?\n",
        "            </div>\n",
        "        </div>\n",
        "    </div>\n",
        "</div>"
      ]
    },
    {
      "cell_type": "code",
      "execution_count": null,
      "metadata": {
        "id": "YbzClBxagFyS",
        "outputId": "bd8c1245-8a4f-4f37-bf7b-110b1b51dde7"
      },
      "outputs": [
        {
          "data": {
            "text/html": [
              "<div>\n",
              "<style scoped>\n",
              "    .dataframe tbody tr th:only-of-type {\n",
              "        vertical-align: middle;\n",
              "    }\n",
              "\n",
              "    .dataframe tbody tr th {\n",
              "        vertical-align: top;\n",
              "    }\n",
              "\n",
              "    .dataframe thead th {\n",
              "        text-align: right;\n",
              "    }\n",
              "</style>\n",
              "<table border=\"1\" class=\"dataframe\">\n",
              "  <thead>\n",
              "    <tr style=\"text-align: right;\">\n",
              "      <th></th>\n",
              "      <th>puNumber</th>\n",
              "      <th>refundable_support</th>\n",
              "      <th>nonrefundable_support</th>\n",
              "      <th>budget</th>\n",
              "      <th>ratings</th>\n",
              "      <th>box_office</th>\n",
              "    </tr>\n",
              "  </thead>\n",
              "  <tbody>\n",
              "    <tr>\n",
              "      <th>count</th>\n",
              "      <td>7.454000e+03</td>\n",
              "      <td>7.454000e+03</td>\n",
              "      <td>7.454000e+03</td>\n",
              "      <td>3.320000e+02</td>\n",
              "      <td>6478.000000</td>\n",
              "      <td>3.155000e+03</td>\n",
              "    </tr>\n",
              "    <tr>\n",
              "      <th>mean</th>\n",
              "      <td>1.351683e+08</td>\n",
              "      <td>5.284411e+05</td>\n",
              "      <td>2.181606e+06</td>\n",
              "      <td>1.272297e+08</td>\n",
              "      <td>6.478466</td>\n",
              "      <td>7.655133e+07</td>\n",
              "    </tr>\n",
              "    <tr>\n",
              "      <th>std</th>\n",
              "      <td>3.831768e+07</td>\n",
              "      <td>5.793403e+06</td>\n",
              "      <td>1.618294e+07</td>\n",
              "      <td>1.885883e+08</td>\n",
              "      <td>1.101688</td>\n",
              "      <td>2.404559e+08</td>\n",
              "    </tr>\n",
              "    <tr>\n",
              "      <th>min</th>\n",
              "      <td>1.811096e+06</td>\n",
              "      <td>0.000000e+00</td>\n",
              "      <td>0.000000e+00</td>\n",
              "      <td>0.000000e+00</td>\n",
              "      <td>1.000000</td>\n",
              "      <td>0.000000e+00</td>\n",
              "    </tr>\n",
              "    <tr>\n",
              "      <th>25%</th>\n",
              "      <td>1.130001e+08</td>\n",
              "      <td>0.000000e+00</td>\n",
              "      <td>0.000000e+00</td>\n",
              "      <td>4.200000e+07</td>\n",
              "      <td>5.900000</td>\n",
              "      <td>8.709050e+04</td>\n",
              "    </tr>\n",
              "    <tr>\n",
              "      <th>50%</th>\n",
              "      <td>1.210155e+08</td>\n",
              "      <td>0.000000e+00</td>\n",
              "      <td>0.000000e+00</td>\n",
              "      <td>6.864992e+07</td>\n",
              "      <td>6.600000</td>\n",
              "      <td>2.338050e+06</td>\n",
              "    </tr>\n",
              "    <tr>\n",
              "      <th>75%</th>\n",
              "      <td>1.240032e+08</td>\n",
              "      <td>0.000000e+00</td>\n",
              "      <td>0.000000e+00</td>\n",
              "      <td>1.419853e+08</td>\n",
              "      <td>7.200000</td>\n",
              "      <td>2.399546e+07</td>\n",
              "    </tr>\n",
              "    <tr>\n",
              "      <th>max</th>\n",
              "      <td>2.310011e+08</td>\n",
              "      <td>1.800000e+08</td>\n",
              "      <td>4.000000e+08</td>\n",
              "      <td>2.305074e+09</td>\n",
              "      <td>9.200000</td>\n",
              "      <td>3.073569e+09</td>\n",
              "    </tr>\n",
              "  </tbody>\n",
              "</table>\n",
              "</div>"
            ],
            "text/plain": [
              "           puNumber  refundable_support  nonrefundable_support        budget  \\\n",
              "count  7.454000e+03        7.454000e+03           7.454000e+03  3.320000e+02   \n",
              "mean   1.351683e+08        5.284411e+05           2.181606e+06  1.272297e+08   \n",
              "std    3.831768e+07        5.793403e+06           1.618294e+07  1.885883e+08   \n",
              "min    1.811096e+06        0.000000e+00           0.000000e+00  0.000000e+00   \n",
              "25%    1.130001e+08        0.000000e+00           0.000000e+00  4.200000e+07   \n",
              "50%    1.210155e+08        0.000000e+00           0.000000e+00  6.864992e+07   \n",
              "75%    1.240032e+08        0.000000e+00           0.000000e+00  1.419853e+08   \n",
              "max    2.310011e+08        1.800000e+08           4.000000e+08  2.305074e+09   \n",
              "\n",
              "           ratings    box_office  \n",
              "count  6478.000000  3.155000e+03  \n",
              "mean      6.478466  7.655133e+07  \n",
              "std       1.101688  2.404559e+08  \n",
              "min       1.000000  0.000000e+00  \n",
              "25%       5.900000  8.709050e+04  \n",
              "50%       6.600000  2.338050e+06  \n",
              "75%       7.200000  2.399546e+07  \n",
              "max       9.200000  3.073569e+09  "
            ]
          },
          "execution_count": 38,
          "metadata": {},
          "output_type": "execute_result"
        }
      ],
      "source": [
        "data.describe()"
      ]
    },
    {
      "cell_type": "code",
      "execution_count": null,
      "metadata": {
        "id": "3RCP29Q03DsD",
        "outputId": "6907d098-3607-4db0-f893-82dbd5759af5"
      },
      "outputs": [
        {
          "data": {
            "text/html": [
              "<div>\n",
              "<style scoped>\n",
              "    .dataframe tbody tr th:only-of-type {\n",
              "        vertical-align: middle;\n",
              "    }\n",
              "\n",
              "    .dataframe tbody tr th {\n",
              "        vertical-align: top;\n",
              "    }\n",
              "\n",
              "    .dataframe thead th {\n",
              "        text-align: right;\n",
              "    }\n",
              "</style>\n",
              "<table border=\"1\" class=\"dataframe\">\n",
              "  <thead>\n",
              "    <tr style=\"text-align: right;\">\n",
              "      <th></th>\n",
              "      <th>title</th>\n",
              "      <th>puNumber</th>\n",
              "      <th>show_start_date</th>\n",
              "      <th>type</th>\n",
              "      <th>film_studio</th>\n",
              "      <th>production_country</th>\n",
              "      <th>director</th>\n",
              "      <th>producer</th>\n",
              "      <th>age_restriction</th>\n",
              "      <th>refundable_support</th>\n",
              "      <th>nonrefundable_support</th>\n",
              "      <th>budget</th>\n",
              "      <th>financing_source</th>\n",
              "      <th>ratings</th>\n",
              "      <th>genres</th>\n",
              "      <th>box_office</th>\n",
              "      <th>year</th>\n",
              "    </tr>\n",
              "  </thead>\n",
              "  <tbody>\n",
              "    <tr>\n",
              "      <th>0</th>\n",
              "      <td>Открытый простор</td>\n",
              "      <td>221048915</td>\n",
              "      <td>2015-11-27 12:00:00+00:00</td>\n",
              "      <td>Художественный</td>\n",
              "      <td>Тачстоун Пикчерз, Кобальт Пикчерз, Бикон Пикче...</td>\n",
              "      <td>США</td>\n",
              "      <td>Кевин Костнер</td>\n",
              "      <td>Дэвид Валдес, Кевин Костнер, Джейк Эбертс</td>\n",
              "      <td>18+ - запрещено для детей</td>\n",
              "      <td>0.0</td>\n",
              "      <td>0.0</td>\n",
              "      <td>NaN</td>\n",
              "      <td>NaN</td>\n",
              "      <td>7.2</td>\n",
              "      <td>боевик,драма,мелодрама</td>\n",
              "      <td>NaN</td>\n",
              "      <td>2015</td>\n",
              "    </tr>\n",
              "    <tr>\n",
              "      <th>1</th>\n",
              "      <td>Особо важное задание</td>\n",
              "      <td>111013716</td>\n",
              "      <td>2016-09-13 12:00:00+00:00</td>\n",
              "      <td>Художественный</td>\n",
              "      <td>Киностудия Мосфильм</td>\n",
              "      <td>СССР</td>\n",
              "      <td>Е.Матвеев</td>\n",
              "      <td>NaN</td>\n",
              "      <td>6+ - для детей старше 6 лет</td>\n",
              "      <td>0.0</td>\n",
              "      <td>0.0</td>\n",
              "      <td>NaN</td>\n",
              "      <td>NaN</td>\n",
              "      <td>6.6</td>\n",
              "      <td>драма,военный</td>\n",
              "      <td>NaN</td>\n",
              "      <td>2016</td>\n",
              "    </tr>\n",
              "    <tr>\n",
              "      <th>2</th>\n",
              "      <td>Особо опасен</td>\n",
              "      <td>221038416</td>\n",
              "      <td>2016-10-10 12:00:00+00:00</td>\n",
              "      <td>Художественный</td>\n",
              "      <td>Юниверсал Пикчерз, Кикстарт Продакшнз, Марк Пл...</td>\n",
              "      <td>США</td>\n",
              "      <td>Тимур Бекмамбетов</td>\n",
              "      <td>Джим Лемли, Джейсон Нетер, Марк Е.Платт, Яйн Смит</td>\n",
              "      <td>18+ - запрещено для детей</td>\n",
              "      <td>0.0</td>\n",
              "      <td>0.0</td>\n",
              "      <td>NaN</td>\n",
              "      <td>NaN</td>\n",
              "      <td>6.8</td>\n",
              "      <td>фантастика,боевик,триллер</td>\n",
              "      <td>NaN</td>\n",
              "      <td>2016</td>\n",
              "    </tr>\n",
              "    <tr>\n",
              "      <th>3</th>\n",
              "      <td>Особо опасен</td>\n",
              "      <td>221026916</td>\n",
              "      <td>2016-06-10 12:00:00+00:00</td>\n",
              "      <td>Художественный</td>\n",
              "      <td>Юниверсал Пикчерз, Кикстарт Продакшнз, Марк Пл...</td>\n",
              "      <td>США</td>\n",
              "      <td>Тимур Бекмамбетов</td>\n",
              "      <td>Джим Лемли, Джейсон Нетер, Марк Е.Платт, Яйн Смит</td>\n",
              "      <td>18+ - запрещено для детей</td>\n",
              "      <td>0.0</td>\n",
              "      <td>0.0</td>\n",
              "      <td>NaN</td>\n",
              "      <td>NaN</td>\n",
              "      <td>6.8</td>\n",
              "      <td>фантастика,боевик,триллер</td>\n",
              "      <td>NaN</td>\n",
              "      <td>2016</td>\n",
              "    </tr>\n",
              "    <tr>\n",
              "      <th>4</th>\n",
              "      <td>Особо опасен</td>\n",
              "      <td>221030815</td>\n",
              "      <td>2015-07-29 12:00:00+00:00</td>\n",
              "      <td>Художественный</td>\n",
              "      <td>Юниверсал Пикчерз, Кикстарт Продакшнз, Марк Пл...</td>\n",
              "      <td>США</td>\n",
              "      <td>Тимур Бекмамбетов</td>\n",
              "      <td>Джим Лемли, Джейсон Нетер, Марк Е.Платт, Яйн Смит</td>\n",
              "      <td>18+ - запрещено для детей</td>\n",
              "      <td>0.0</td>\n",
              "      <td>0.0</td>\n",
              "      <td>NaN</td>\n",
              "      <td>NaN</td>\n",
              "      <td>6.8</td>\n",
              "      <td>фантастика,боевик,триллер</td>\n",
              "      <td>NaN</td>\n",
              "      <td>2015</td>\n",
              "    </tr>\n",
              "  </tbody>\n",
              "</table>\n",
              "</div>"
            ],
            "text/plain": [
              "                  title   puNumber           show_start_date            type  \\\n",
              "0      Открытый простор  221048915 2015-11-27 12:00:00+00:00  Художественный   \n",
              "1  Особо важное задание  111013716 2016-09-13 12:00:00+00:00  Художественный   \n",
              "2          Особо опасен  221038416 2016-10-10 12:00:00+00:00  Художественный   \n",
              "3          Особо опасен  221026916 2016-06-10 12:00:00+00:00  Художественный   \n",
              "4          Особо опасен  221030815 2015-07-29 12:00:00+00:00  Художественный   \n",
              "\n",
              "                                         film_studio production_country  \\\n",
              "0  Тачстоун Пикчерз, Кобальт Пикчерз, Бикон Пикче...                США   \n",
              "1                                Киностудия Мосфильм               СССР   \n",
              "2  Юниверсал Пикчерз, Кикстарт Продакшнз, Марк Пл...                США   \n",
              "3  Юниверсал Пикчерз, Кикстарт Продакшнз, Марк Пл...                США   \n",
              "4  Юниверсал Пикчерз, Кикстарт Продакшнз, Марк Пл...                США   \n",
              "\n",
              "            director                                           producer  \\\n",
              "0      Кевин Костнер          Дэвид Валдес, Кевин Костнер, Джейк Эбертс   \n",
              "1          Е.Матвеев                                                NaN   \n",
              "2  Тимур Бекмамбетов  Джим Лемли, Джейсон Нетер, Марк Е.Платт, Яйн Смит   \n",
              "3  Тимур Бекмамбетов  Джим Лемли, Джейсон Нетер, Марк Е.Платт, Яйн Смит   \n",
              "4  Тимур Бекмамбетов  Джим Лемли, Джейсон Нетер, Марк Е.Платт, Яйн Смит   \n",
              "\n",
              "               age_restriction  refundable_support  nonrefundable_support  \\\n",
              "0    18+ - запрещено для детей                 0.0                    0.0   \n",
              "1  6+ - для детей старше 6 лет                 0.0                    0.0   \n",
              "2    18+ - запрещено для детей                 0.0                    0.0   \n",
              "3    18+ - запрещено для детей                 0.0                    0.0   \n",
              "4    18+ - запрещено для детей                 0.0                    0.0   \n",
              "\n",
              "   budget financing_source  ratings                     genres  box_office  \\\n",
              "0     NaN              NaN      7.2     боевик,драма,мелодрама         NaN   \n",
              "1     NaN              NaN      6.6              драма,военный         NaN   \n",
              "2     NaN              NaN      6.8  фантастика,боевик,триллер         NaN   \n",
              "3     NaN              NaN      6.8  фантастика,боевик,триллер         NaN   \n",
              "4     NaN              NaN      6.8  фантастика,боевик,триллер         NaN   \n",
              "\n",
              "   year  \n",
              "0  2015  \n",
              "1  2016  \n",
              "2  2016  \n",
              "3  2016  \n",
              "4  2015  "
            ]
          },
          "metadata": {},
          "output_type": "display_data"
        }
      ],
      "source": [
        "# Создадим столбец с годом премьеры фильма:\n",
        "data['year']=pd.DatetimeIndex(data['show_start_date']).year\n",
        "display(data.head())"
      ]
    },
    {
      "cell_type": "code",
      "execution_count": null,
      "metadata": {
        "id": "uo1kpz1U3DsE",
        "outputId": "5fb6a40e-d7ab-45bc-ad82-52af1faca2b6"
      },
      "outputs": [
        {
          "data": {
            "text/plain": [
              "year\n",
              "2010    976\n",
              "2011    620\n",
              "2012    592\n",
              "2013    629\n",
              "2014    805\n",
              "2015    705\n",
              "2016    817\n",
              "2017    505\n",
              "2018    879\n",
              "2019    926\n",
              "Name: title, dtype: int64"
            ]
          },
          "execution_count": 40,
          "metadata": {},
          "output_type": "execute_result"
        }
      ],
      "source": [
        "data.groupby('year')['title'].count()\n"
      ]
    },
    {
      "cell_type": "code",
      "execution_count": null,
      "metadata": {
        "id": "07HFyZTI3DsE",
        "outputId": "4dd0ba90-9192-4151-a783-c3337fd6466d"
      },
      "outputs": [
        {
          "data": {
            "text/plain": [
              "(7454, 17)"
            ]
          },
          "execution_count": 41,
          "metadata": {},
          "output_type": "execute_result"
        }
      ],
      "source": [
        "data.shape"
      ]
    },
    {
      "cell_type": "code",
      "execution_count": null,
      "metadata": {
        "id": "IvhSHoNd3DsE",
        "outputId": "eff08dee-6f6c-4a5b-f66c-f23f9a5b83eb"
      },
      "outputs": [
        {
          "data": {
            "text/plain": [
              "745.4"
            ]
          },
          "execution_count": 42,
          "metadata": {},
          "output_type": "execute_result"
        }
      ],
      "source": [
        "data.groupby('year')['title'].count().reset_index()['title'].mean()"
      ]
    },
    {
      "cell_type": "code",
      "execution_count": null,
      "metadata": {
        "id": "XpSHNDyB3DsE",
        "outputId": "e844dff8-41f3-4439-f2b2-c335be3dec76"
      },
      "outputs": [
        {
          "data": {
            "text/html": [
              "<div>\n",
              "<style scoped>\n",
              "    .dataframe tbody tr th:only-of-type {\n",
              "        vertical-align: middle;\n",
              "    }\n",
              "\n",
              "    .dataframe tbody tr th {\n",
              "        vertical-align: top;\n",
              "    }\n",
              "\n",
              "    .dataframe thead th {\n",
              "        text-align: right;\n",
              "    }\n",
              "</style>\n",
              "<table border=\"1\" class=\"dataframe\">\n",
              "  <thead>\n",
              "    <tr style=\"text-align: right;\">\n",
              "      <th></th>\n",
              "      <th>count</th>\n",
              "      <th>unique</th>\n",
              "      <th>top</th>\n",
              "      <th>freq</th>\n",
              "    </tr>\n",
              "    <tr>\n",
              "      <th>year</th>\n",
              "      <th></th>\n",
              "      <th></th>\n",
              "      <th></th>\n",
              "      <th></th>\n",
              "    </tr>\n",
              "  </thead>\n",
              "  <tbody>\n",
              "    <tr>\n",
              "      <th>2010</th>\n",
              "      <td>976</td>\n",
              "      <td>812</td>\n",
              "      <td>День святого Валентина</td>\n",
              "      <td>5</td>\n",
              "    </tr>\n",
              "    <tr>\n",
              "      <th>2011</th>\n",
              "      <td>620</td>\n",
              "      <td>556</td>\n",
              "      <td>Хочу как ты</td>\n",
              "      <td>3</td>\n",
              "    </tr>\n",
              "    <tr>\n",
              "      <th>2012</th>\n",
              "      <td>592</td>\n",
              "      <td>555</td>\n",
              "      <td>Морской бой.</td>\n",
              "      <td>3</td>\n",
              "    </tr>\n",
              "    <tr>\n",
              "      <th>2013</th>\n",
              "      <td>629</td>\n",
              "      <td>614</td>\n",
              "      <td>Гадкий Я 2</td>\n",
              "      <td>3</td>\n",
              "    </tr>\n",
              "    <tr>\n",
              "      <th>2014</th>\n",
              "      <td>805</td>\n",
              "      <td>763</td>\n",
              "      <td>Планета обезьян Революция</td>\n",
              "      <td>3</td>\n",
              "    </tr>\n",
              "    <tr>\n",
              "      <th>2015</th>\n",
              "      <td>705</td>\n",
              "      <td>687</td>\n",
              "      <td>Фокус</td>\n",
              "      <td>3</td>\n",
              "    </tr>\n",
              "    <tr>\n",
              "      <th>2016</th>\n",
              "      <td>817</td>\n",
              "      <td>781</td>\n",
              "      <td>Образцовый самец 2</td>\n",
              "      <td>3</td>\n",
              "    </tr>\n",
              "    <tr>\n",
              "      <th>2017</th>\n",
              "      <td>505</td>\n",
              "      <td>505</td>\n",
              "      <td>МУЛЬТ в кино. Выпуск  61</td>\n",
              "      <td>1</td>\n",
              "    </tr>\n",
              "    <tr>\n",
              "      <th>2018</th>\n",
              "      <td>879</td>\n",
              "      <td>873</td>\n",
              "      <td>Забытые войны России</td>\n",
              "      <td>2</td>\n",
              "    </tr>\n",
              "    <tr>\n",
              "      <th>2019</th>\n",
              "      <td>926</td>\n",
              "      <td>921</td>\n",
              "      <td>Любовницы</td>\n",
              "      <td>2</td>\n",
              "    </tr>\n",
              "  </tbody>\n",
              "</table>\n",
              "</div>"
            ],
            "text/plain": [
              "     count unique                        top freq\n",
              "year                                             \n",
              "2010   976    812     День святого Валентина    5\n",
              "2011   620    556                Хочу как ты    3\n",
              "2012   592    555               Морской бой.    3\n",
              "2013   629    614                 Гадкий Я 2    3\n",
              "2014   805    763  Планета обезьян Революция    3\n",
              "2015   705    687                      Фокус    3\n",
              "2016   817    781         Образцовый самец 2    3\n",
              "2017   505    505   МУЛЬТ в кино. Выпуск  61    1\n",
              "2018   879    873       Забытые войны России    2\n",
              "2019   926    921                  Любовницы    2"
            ]
          },
          "execution_count": 43,
          "metadata": {},
          "output_type": "execute_result"
        }
      ],
      "source": [
        "data.groupby('year')['title'].describe()"
      ]
    },
    {
      "cell_type": "markdown",
      "metadata": {
        "id": "0VhH0ZkL3DsE"
      },
      "source": [
        "Сколько всего фильмов  было выпущено каждый год."
      ]
    },
    {
      "cell_type": "code",
      "execution_count": null,
      "metadata": {
        "id": "UcgrTNtN3DsE",
        "outputId": "46c6bed5-6d7f-4ef6-f50f-464ebbf3c06c"
      },
      "outputs": [
        {
          "data": {
            "text/plain": [
              "16"
            ]
          },
          "execution_count": 44,
          "metadata": {},
          "output_type": "execute_result"
        }
      ],
      "source": [
        "# Посчитаем количество фильмов, в которых бюджет составляет 0 руб, несмотря на наличие nonrefundable_support:\n",
        "data[(data['nonrefundable_support'] != 0)&(data['budget']==0)]['title'].count()"
      ]
    },
    {
      "cell_type": "code",
      "execution_count": null,
      "metadata": {
        "id": "L-Og6_8H3DsE",
        "outputId": "8b68debf-d30e-4ffc-f471-e831cdb5821d"
      },
      "outputs": [
        {
          "data": {
            "text/plain": [
              "(7438, 17)"
            ]
          },
          "execution_count": 45,
          "metadata": {},
          "output_type": "execute_result"
        }
      ],
      "source": [
        "data = data[~((data['nonrefundable_support'] != 0)&(data['budget']==0))]\n",
        "data.shape"
      ]
    },
    {
      "cell_type": "markdown",
      "metadata": {
        "id": "-SqdRh6P3DsF"
      },
      "source": [
        "Есть фильмы, которые получали господдержку, но в бюджете стоит 0, уберем их."
      ]
    },
    {
      "cell_type": "code",
      "execution_count": null,
      "metadata": {
        "id": "EmwEiMLi3DsF",
        "outputId": "d0f3a592-2f28-41c2-c16d-68f3e38c6257"
      },
      "outputs": [
        {
          "name": "stdout",
          "output_type": "stream",
          "text": [
            "7485 7438 0.63\n"
          ]
        }
      ],
      "source": [
        "# Комментарий ревьюера\n",
        "# Проверим сколько удалено строк датасета\n",
        "a, b = len(temp), len(data)\n",
        "print(a, b, round((a-b)/a*100, 2))"
      ]
    },
    {
      "cell_type": "code",
      "execution_count": null,
      "metadata": {
        "id": "ubw4tCFZ3DsF",
        "outputId": "0d5182c7-5a51-4a20-89bb-fa5faa7ecd88"
      },
      "outputs": [
        {
          "data": {
            "text/plain": [
              "year\n",
              "2010    976\n",
              "2011    620\n",
              "2012    592\n",
              "2013    629\n",
              "2014    804\n",
              "2015    700\n",
              "2016    814\n",
              "2017    503\n",
              "2018    875\n",
              "2019    925\n",
              "Name: title, dtype: int64"
            ]
          },
          "execution_count": 47,
          "metadata": {},
          "output_type": "execute_result"
        }
      ],
      "source": [
        "data.groupby('year')['title'].count()"
      ]
    },
    {
      "cell_type": "markdown",
      "metadata": {
        "id": "bOlP1Sy53DsF"
      },
      "source": [
        "</font><font color='Blue'><b>Комментарий студента</b></font><br>\n",
        "Были удалены данные, в которых был бюджет равен 0, а гос. поддержка была больше 0. Столбец budget уже включает в себя полный объём государственной поддержки, и эти данные противоречили этому."
      ]
    },
    {
      "cell_type": "code",
      "execution_count": null,
      "metadata": {
        "id": "jEkz_VkY3DsF",
        "outputId": "0f319bdb-49be-40cf-9d05-f74b59bdb445"
      },
      "outputs": [
        {
          "name": "stdout",
          "output_type": "stream",
          "text": [
            "7485 7438 0.63\n"
          ]
        }
      ],
      "source": [
        "# Комментарий ревьюера\n",
        "# Проверим сколько удалено строк датасета\n",
        "a, b = len(temp), len(data)\n",
        "print(a, b, round((a-b)/a*100, 2))"
      ]
    },
    {
      "cell_type": "markdown",
      "metadata": {
        "id": "Eu6oWp2CgFyS"
      },
      "source": [
        "#### Шаг 2.6. Добавьте новые столбцы\n",
        "\n",
        "\n",
        "\n"
      ]
    },
    {
      "cell_type": "markdown",
      "metadata": {
        "id": "7GgW-UpAgFyS"
      },
      "source": [
        "- Создайте столбец с информацией о годе проката. Выделите год из даты премьеры фильма."
      ]
    },
    {
      "cell_type": "code",
      "execution_count": null,
      "metadata": {
        "id": "I-yd1DkWgFyT",
        "outputId": "bc437996-0304-4f3a-9107-9eb3386a4635"
      },
      "outputs": [
        {
          "data": {
            "text/html": [
              "<div>\n",
              "<style scoped>\n",
              "    .dataframe tbody tr th:only-of-type {\n",
              "        vertical-align: middle;\n",
              "    }\n",
              "\n",
              "    .dataframe tbody tr th {\n",
              "        vertical-align: top;\n",
              "    }\n",
              "\n",
              "    .dataframe thead th {\n",
              "        text-align: right;\n",
              "    }\n",
              "</style>\n",
              "<table border=\"1\" class=\"dataframe\">\n",
              "  <thead>\n",
              "    <tr style=\"text-align: right;\">\n",
              "      <th></th>\n",
              "      <th>title</th>\n",
              "      <th>puNumber</th>\n",
              "      <th>show_start_date</th>\n",
              "      <th>type</th>\n",
              "      <th>film_studio</th>\n",
              "      <th>production_country</th>\n",
              "      <th>director</th>\n",
              "      <th>producer</th>\n",
              "      <th>age_restriction</th>\n",
              "      <th>refundable_support</th>\n",
              "      <th>nonrefundable_support</th>\n",
              "      <th>budget</th>\n",
              "      <th>financing_source</th>\n",
              "      <th>ratings</th>\n",
              "      <th>genres</th>\n",
              "      <th>box_office</th>\n",
              "      <th>year</th>\n",
              "    </tr>\n",
              "  </thead>\n",
              "  <tbody>\n",
              "    <tr>\n",
              "      <th>0</th>\n",
              "      <td>Открытый простор</td>\n",
              "      <td>221048915</td>\n",
              "      <td>2015-11-27 12:00:00+00:00</td>\n",
              "      <td>Художественный</td>\n",
              "      <td>Тачстоун Пикчерз, Кобальт Пикчерз, Бикон Пикче...</td>\n",
              "      <td>США</td>\n",
              "      <td>Кевин Костнер</td>\n",
              "      <td>Дэвид Валдес, Кевин Костнер, Джейк Эбертс</td>\n",
              "      <td>18+ - запрещено для детей</td>\n",
              "      <td>0.0</td>\n",
              "      <td>0.0</td>\n",
              "      <td>NaN</td>\n",
              "      <td>NaN</td>\n",
              "      <td>7.2</td>\n",
              "      <td>боевик,драма,мелодрама</td>\n",
              "      <td>NaN</td>\n",
              "      <td>2015</td>\n",
              "    </tr>\n",
              "    <tr>\n",
              "      <th>1</th>\n",
              "      <td>Особо важное задание</td>\n",
              "      <td>111013716</td>\n",
              "      <td>2016-09-13 12:00:00+00:00</td>\n",
              "      <td>Художественный</td>\n",
              "      <td>Киностудия Мосфильм</td>\n",
              "      <td>СССР</td>\n",
              "      <td>Е.Матвеев</td>\n",
              "      <td>NaN</td>\n",
              "      <td>6+ - для детей старше 6 лет</td>\n",
              "      <td>0.0</td>\n",
              "      <td>0.0</td>\n",
              "      <td>NaN</td>\n",
              "      <td>NaN</td>\n",
              "      <td>6.6</td>\n",
              "      <td>драма,военный</td>\n",
              "      <td>NaN</td>\n",
              "      <td>2016</td>\n",
              "    </tr>\n",
              "    <tr>\n",
              "      <th>2</th>\n",
              "      <td>Особо опасен</td>\n",
              "      <td>221038416</td>\n",
              "      <td>2016-10-10 12:00:00+00:00</td>\n",
              "      <td>Художественный</td>\n",
              "      <td>Юниверсал Пикчерз, Кикстарт Продакшнз, Марк Пл...</td>\n",
              "      <td>США</td>\n",
              "      <td>Тимур Бекмамбетов</td>\n",
              "      <td>Джим Лемли, Джейсон Нетер, Марк Е.Платт, Яйн Смит</td>\n",
              "      <td>18+ - запрещено для детей</td>\n",
              "      <td>0.0</td>\n",
              "      <td>0.0</td>\n",
              "      <td>NaN</td>\n",
              "      <td>NaN</td>\n",
              "      <td>6.8</td>\n",
              "      <td>фантастика,боевик,триллер</td>\n",
              "      <td>NaN</td>\n",
              "      <td>2016</td>\n",
              "    </tr>\n",
              "    <tr>\n",
              "      <th>3</th>\n",
              "      <td>Особо опасен</td>\n",
              "      <td>221026916</td>\n",
              "      <td>2016-06-10 12:00:00+00:00</td>\n",
              "      <td>Художественный</td>\n",
              "      <td>Юниверсал Пикчерз, Кикстарт Продакшнз, Марк Пл...</td>\n",
              "      <td>США</td>\n",
              "      <td>Тимур Бекмамбетов</td>\n",
              "      <td>Джим Лемли, Джейсон Нетер, Марк Е.Платт, Яйн Смит</td>\n",
              "      <td>18+ - запрещено для детей</td>\n",
              "      <td>0.0</td>\n",
              "      <td>0.0</td>\n",
              "      <td>NaN</td>\n",
              "      <td>NaN</td>\n",
              "      <td>6.8</td>\n",
              "      <td>фантастика,боевик,триллер</td>\n",
              "      <td>NaN</td>\n",
              "      <td>2016</td>\n",
              "    </tr>\n",
              "    <tr>\n",
              "      <th>4</th>\n",
              "      <td>Особо опасен</td>\n",
              "      <td>221030815</td>\n",
              "      <td>2015-07-29 12:00:00+00:00</td>\n",
              "      <td>Художественный</td>\n",
              "      <td>Юниверсал Пикчерз, Кикстарт Продакшнз, Марк Пл...</td>\n",
              "      <td>США</td>\n",
              "      <td>Тимур Бекмамбетов</td>\n",
              "      <td>Джим Лемли, Джейсон Нетер, Марк Е.Платт, Яйн Смит</td>\n",
              "      <td>18+ - запрещено для детей</td>\n",
              "      <td>0.0</td>\n",
              "      <td>0.0</td>\n",
              "      <td>NaN</td>\n",
              "      <td>NaN</td>\n",
              "      <td>6.8</td>\n",
              "      <td>фантастика,боевик,триллер</td>\n",
              "      <td>NaN</td>\n",
              "      <td>2015</td>\n",
              "    </tr>\n",
              "  </tbody>\n",
              "</table>\n",
              "</div>"
            ],
            "text/plain": [
              "                  title   puNumber           show_start_date            type  \\\n",
              "0      Открытый простор  221048915 2015-11-27 12:00:00+00:00  Художественный   \n",
              "1  Особо важное задание  111013716 2016-09-13 12:00:00+00:00  Художественный   \n",
              "2          Особо опасен  221038416 2016-10-10 12:00:00+00:00  Художественный   \n",
              "3          Особо опасен  221026916 2016-06-10 12:00:00+00:00  Художественный   \n",
              "4          Особо опасен  221030815 2015-07-29 12:00:00+00:00  Художественный   \n",
              "\n",
              "                                         film_studio production_country  \\\n",
              "0  Тачстоун Пикчерз, Кобальт Пикчерз, Бикон Пикче...                США   \n",
              "1                                Киностудия Мосфильм               СССР   \n",
              "2  Юниверсал Пикчерз, Кикстарт Продакшнз, Марк Пл...                США   \n",
              "3  Юниверсал Пикчерз, Кикстарт Продакшнз, Марк Пл...                США   \n",
              "4  Юниверсал Пикчерз, Кикстарт Продакшнз, Марк Пл...                США   \n",
              "\n",
              "            director                                           producer  \\\n",
              "0      Кевин Костнер          Дэвид Валдес, Кевин Костнер, Джейк Эбертс   \n",
              "1          Е.Матвеев                                                NaN   \n",
              "2  Тимур Бекмамбетов  Джим Лемли, Джейсон Нетер, Марк Е.Платт, Яйн Смит   \n",
              "3  Тимур Бекмамбетов  Джим Лемли, Джейсон Нетер, Марк Е.Платт, Яйн Смит   \n",
              "4  Тимур Бекмамбетов  Джим Лемли, Джейсон Нетер, Марк Е.Платт, Яйн Смит   \n",
              "\n",
              "               age_restriction  refundable_support  nonrefundable_support  \\\n",
              "0    18+ - запрещено для детей                 0.0                    0.0   \n",
              "1  6+ - для детей старше 6 лет                 0.0                    0.0   \n",
              "2    18+ - запрещено для детей                 0.0                    0.0   \n",
              "3    18+ - запрещено для детей                 0.0                    0.0   \n",
              "4    18+ - запрещено для детей                 0.0                    0.0   \n",
              "\n",
              "   budget financing_source  ratings                     genres  box_office  \\\n",
              "0     NaN              NaN      7.2     боевик,драма,мелодрама         NaN   \n",
              "1     NaN              NaN      6.6              драма,военный         NaN   \n",
              "2     NaN              NaN      6.8  фантастика,боевик,триллер         NaN   \n",
              "3     NaN              NaN      6.8  фантастика,боевик,триллер         NaN   \n",
              "4     NaN              NaN      6.8  фантастика,боевик,триллер         NaN   \n",
              "\n",
              "   year  \n",
              "0  2015  \n",
              "1  2016  \n",
              "2  2016  \n",
              "3  2016  \n",
              "4  2015  "
            ]
          },
          "execution_count": 49,
          "metadata": {},
          "output_type": "execute_result"
        }
      ],
      "source": [
        "# Было создано ранее для более детального анализа бюджета фильмов\n",
        "data.head()"
      ]
    },
    {
      "cell_type": "markdown",
      "metadata": {
        "id": "nFTDLDYOgFyT"
      },
      "source": [
        "- Создайте два столбца: с именем и фамилией главного режиссёра и основным жанром фильма. В столбцы войдут первые значения из списка режиссёров и жанров соответственно.\n",
        "\n",
        "<div id=\"accordion\">\n",
        "    <div class=\"card\">\n",
        "        <div class=\"card-header\" id=\"headingThree\">\n",
        "            <button class=\"btn btn-link collapsed\" data-toggle=\"collapse\" data-target=\"#collapseHint_2\" aria-expanded=\"false\" aria-controls=\"collapseHint_2\">Подсказка</button>\n",
        "        </div>\n",
        "        <div id=\"collapseHint_2\" class=\"collapse\" aria-labelledby=\"headingThree\" data-parent=\"#accordion\">\n",
        "            <div class=\"card-body\">\n",
        "Чтобы создать такие столбцы, лучше всего использовать собственную функцию. Эту функцию можно применить к двум столбцам сразу.\n",
        "            </div>\n",
        "        </div>\n",
        "    </div>\n",
        "</div>"
      ]
    },
    {
      "cell_type": "code",
      "execution_count": null,
      "metadata": {
        "id": "LSbRZKbMgFyU",
        "outputId": "c1749adf-71ae-4d1f-a96b-f540aff152d6"
      },
      "outputs": [
        {
          "data": {
            "text/html": [
              "<div>\n",
              "<style scoped>\n",
              "    .dataframe tbody tr th:only-of-type {\n",
              "        vertical-align: middle;\n",
              "    }\n",
              "\n",
              "    .dataframe tbody tr th {\n",
              "        vertical-align: top;\n",
              "    }\n",
              "\n",
              "    .dataframe thead th {\n",
              "        text-align: right;\n",
              "    }\n",
              "</style>\n",
              "<table border=\"1\" class=\"dataframe\">\n",
              "  <thead>\n",
              "    <tr style=\"text-align: right;\">\n",
              "      <th></th>\n",
              "      <th>title</th>\n",
              "      <th>puNumber</th>\n",
              "      <th>show_start_date</th>\n",
              "      <th>type</th>\n",
              "      <th>film_studio</th>\n",
              "      <th>production_country</th>\n",
              "      <th>director</th>\n",
              "      <th>producer</th>\n",
              "      <th>age_restriction</th>\n",
              "      <th>refundable_support</th>\n",
              "      <th>nonrefundable_support</th>\n",
              "      <th>budget</th>\n",
              "      <th>financing_source</th>\n",
              "      <th>ratings</th>\n",
              "      <th>genres</th>\n",
              "      <th>box_office</th>\n",
              "      <th>year</th>\n",
              "      <th>director_first</th>\n",
              "      <th>genres_first</th>\n",
              "    </tr>\n",
              "  </thead>\n",
              "  <tbody>\n",
              "    <tr>\n",
              "      <th>0</th>\n",
              "      <td>Открытый простор</td>\n",
              "      <td>221048915</td>\n",
              "      <td>2015-11-27 12:00:00+00:00</td>\n",
              "      <td>Художественный</td>\n",
              "      <td>Тачстоун Пикчерз, Кобальт Пикчерз, Бикон Пикче...</td>\n",
              "      <td>США</td>\n",
              "      <td>Кевин Костнер</td>\n",
              "      <td>Дэвид Валдес, Кевин Костнер, Джейк Эбертс</td>\n",
              "      <td>18+ - запрещено для детей</td>\n",
              "      <td>0.0</td>\n",
              "      <td>0.0</td>\n",
              "      <td>NaN</td>\n",
              "      <td>NaN</td>\n",
              "      <td>7.2</td>\n",
              "      <td>боевик,драма,мелодрама</td>\n",
              "      <td>NaN</td>\n",
              "      <td>2015</td>\n",
              "      <td>Кевин Костнер</td>\n",
              "      <td>боевик</td>\n",
              "    </tr>\n",
              "    <tr>\n",
              "      <th>1</th>\n",
              "      <td>Особо важное задание</td>\n",
              "      <td>111013716</td>\n",
              "      <td>2016-09-13 12:00:00+00:00</td>\n",
              "      <td>Художественный</td>\n",
              "      <td>Киностудия Мосфильм</td>\n",
              "      <td>СССР</td>\n",
              "      <td>Е.Матвеев</td>\n",
              "      <td>NaN</td>\n",
              "      <td>6+ - для детей старше 6 лет</td>\n",
              "      <td>0.0</td>\n",
              "      <td>0.0</td>\n",
              "      <td>NaN</td>\n",
              "      <td>NaN</td>\n",
              "      <td>6.6</td>\n",
              "      <td>драма,военный</td>\n",
              "      <td>NaN</td>\n",
              "      <td>2016</td>\n",
              "      <td>Е.Матвеев</td>\n",
              "      <td>драма</td>\n",
              "    </tr>\n",
              "    <tr>\n",
              "      <th>2</th>\n",
              "      <td>Особо опасен</td>\n",
              "      <td>221038416</td>\n",
              "      <td>2016-10-10 12:00:00+00:00</td>\n",
              "      <td>Художественный</td>\n",
              "      <td>Юниверсал Пикчерз, Кикстарт Продакшнз, Марк Пл...</td>\n",
              "      <td>США</td>\n",
              "      <td>Тимур Бекмамбетов</td>\n",
              "      <td>Джим Лемли, Джейсон Нетер, Марк Е.Платт, Яйн Смит</td>\n",
              "      <td>18+ - запрещено для детей</td>\n",
              "      <td>0.0</td>\n",
              "      <td>0.0</td>\n",
              "      <td>NaN</td>\n",
              "      <td>NaN</td>\n",
              "      <td>6.8</td>\n",
              "      <td>фантастика,боевик,триллер</td>\n",
              "      <td>NaN</td>\n",
              "      <td>2016</td>\n",
              "      <td>Тимур Бекмамбетов</td>\n",
              "      <td>фантастика</td>\n",
              "    </tr>\n",
              "    <tr>\n",
              "      <th>3</th>\n",
              "      <td>Особо опасен</td>\n",
              "      <td>221026916</td>\n",
              "      <td>2016-06-10 12:00:00+00:00</td>\n",
              "      <td>Художественный</td>\n",
              "      <td>Юниверсал Пикчерз, Кикстарт Продакшнз, Марк Пл...</td>\n",
              "      <td>США</td>\n",
              "      <td>Тимур Бекмамбетов</td>\n",
              "      <td>Джим Лемли, Джейсон Нетер, Марк Е.Платт, Яйн Смит</td>\n",
              "      <td>18+ - запрещено для детей</td>\n",
              "      <td>0.0</td>\n",
              "      <td>0.0</td>\n",
              "      <td>NaN</td>\n",
              "      <td>NaN</td>\n",
              "      <td>6.8</td>\n",
              "      <td>фантастика,боевик,триллер</td>\n",
              "      <td>NaN</td>\n",
              "      <td>2016</td>\n",
              "      <td>Тимур Бекмамбетов</td>\n",
              "      <td>фантастика</td>\n",
              "    </tr>\n",
              "    <tr>\n",
              "      <th>4</th>\n",
              "      <td>Особо опасен</td>\n",
              "      <td>221030815</td>\n",
              "      <td>2015-07-29 12:00:00+00:00</td>\n",
              "      <td>Художественный</td>\n",
              "      <td>Юниверсал Пикчерз, Кикстарт Продакшнз, Марк Пл...</td>\n",
              "      <td>США</td>\n",
              "      <td>Тимур Бекмамбетов</td>\n",
              "      <td>Джим Лемли, Джейсон Нетер, Марк Е.Платт, Яйн Смит</td>\n",
              "      <td>18+ - запрещено для детей</td>\n",
              "      <td>0.0</td>\n",
              "      <td>0.0</td>\n",
              "      <td>NaN</td>\n",
              "      <td>NaN</td>\n",
              "      <td>6.8</td>\n",
              "      <td>фантастика,боевик,триллер</td>\n",
              "      <td>NaN</td>\n",
              "      <td>2015</td>\n",
              "      <td>Тимур Бекмамбетов</td>\n",
              "      <td>фантастика</td>\n",
              "    </tr>\n",
              "  </tbody>\n",
              "</table>\n",
              "</div>"
            ],
            "text/plain": [
              "                  title   puNumber           show_start_date            type  \\\n",
              "0      Открытый простор  221048915 2015-11-27 12:00:00+00:00  Художественный   \n",
              "1  Особо важное задание  111013716 2016-09-13 12:00:00+00:00  Художественный   \n",
              "2          Особо опасен  221038416 2016-10-10 12:00:00+00:00  Художественный   \n",
              "3          Особо опасен  221026916 2016-06-10 12:00:00+00:00  Художественный   \n",
              "4          Особо опасен  221030815 2015-07-29 12:00:00+00:00  Художественный   \n",
              "\n",
              "                                         film_studio production_country  \\\n",
              "0  Тачстоун Пикчерз, Кобальт Пикчерз, Бикон Пикче...                США   \n",
              "1                                Киностудия Мосфильм               СССР   \n",
              "2  Юниверсал Пикчерз, Кикстарт Продакшнз, Марк Пл...                США   \n",
              "3  Юниверсал Пикчерз, Кикстарт Продакшнз, Марк Пл...                США   \n",
              "4  Юниверсал Пикчерз, Кикстарт Продакшнз, Марк Пл...                США   \n",
              "\n",
              "            director                                           producer  \\\n",
              "0      Кевин Костнер          Дэвид Валдес, Кевин Костнер, Джейк Эбертс   \n",
              "1          Е.Матвеев                                                NaN   \n",
              "2  Тимур Бекмамбетов  Джим Лемли, Джейсон Нетер, Марк Е.Платт, Яйн Смит   \n",
              "3  Тимур Бекмамбетов  Джим Лемли, Джейсон Нетер, Марк Е.Платт, Яйн Смит   \n",
              "4  Тимур Бекмамбетов  Джим Лемли, Джейсон Нетер, Марк Е.Платт, Яйн Смит   \n",
              "\n",
              "               age_restriction  refundable_support  nonrefundable_support  \\\n",
              "0    18+ - запрещено для детей                 0.0                    0.0   \n",
              "1  6+ - для детей старше 6 лет                 0.0                    0.0   \n",
              "2    18+ - запрещено для детей                 0.0                    0.0   \n",
              "3    18+ - запрещено для детей                 0.0                    0.0   \n",
              "4    18+ - запрещено для детей                 0.0                    0.0   \n",
              "\n",
              "   budget financing_source  ratings                     genres  box_office  \\\n",
              "0     NaN              NaN      7.2     боевик,драма,мелодрама         NaN   \n",
              "1     NaN              NaN      6.6              драма,военный         NaN   \n",
              "2     NaN              NaN      6.8  фантастика,боевик,триллер         NaN   \n",
              "3     NaN              NaN      6.8  фантастика,боевик,триллер         NaN   \n",
              "4     NaN              NaN      6.8  фантастика,боевик,триллер         NaN   \n",
              "\n",
              "   year     director_first genres_first  \n",
              "0  2015      Кевин Костнер       боевик  \n",
              "1  2016          Е.Матвеев        драма  \n",
              "2  2016  Тимур Бекмамбетов   фантастика  \n",
              "3  2016  Тимур Бекмамбетов   фантастика  \n",
              "4  2015  Тимур Бекмамбетов   фантастика  "
            ]
          },
          "execution_count": 50,
          "metadata": {},
          "output_type": "execute_result"
        }
      ],
      "source": [
        "# Создадим столбец с именем главного режиссера:\n",
        "data_director=data['director'].str.split(',',expand=True)\n",
        "data['director_first']=data_director[0]\n",
        "\n",
        "# Создадим столбец с названием главного жанра:\n",
        "data_genres=data['genres'].str.split(',',expand=True)\n",
        "data['genres_first']=data_genres[0]\n",
        "\n",
        "data.head()"
      ]
    },
    {
      "cell_type": "markdown",
      "metadata": {
        "id": "1FsCXHwdgFyU"
      },
      "source": [
        "- Посчитайте, какую долю от общего бюджета фильма составляет государственная поддержка."
      ]
    },
    {
      "cell_type": "code",
      "execution_count": null,
      "metadata": {
        "id": "LV6qFuZLgFyV",
        "outputId": "9eec557a-8fb5-497b-cc02-398c8ad1a8e2"
      },
      "outputs": [
        {
          "data": {
            "text/html": [
              "<div>\n",
              "<style scoped>\n",
              "    .dataframe tbody tr th:only-of-type {\n",
              "        vertical-align: middle;\n",
              "    }\n",
              "\n",
              "    .dataframe tbody tr th {\n",
              "        vertical-align: top;\n",
              "    }\n",
              "\n",
              "    .dataframe thead th {\n",
              "        text-align: right;\n",
              "    }\n",
              "</style>\n",
              "<table border=\"1\" class=\"dataframe\">\n",
              "  <thead>\n",
              "    <tr style=\"text-align: right;\">\n",
              "      <th></th>\n",
              "      <th>title</th>\n",
              "      <th>puNumber</th>\n",
              "      <th>show_start_date</th>\n",
              "      <th>type</th>\n",
              "      <th>film_studio</th>\n",
              "      <th>production_country</th>\n",
              "      <th>director</th>\n",
              "      <th>producer</th>\n",
              "      <th>age_restriction</th>\n",
              "      <th>refundable_support</th>\n",
              "      <th>...</th>\n",
              "      <th>ratings</th>\n",
              "      <th>genres</th>\n",
              "      <th>box_office</th>\n",
              "      <th>year</th>\n",
              "      <th>director_first</th>\n",
              "      <th>genres_first</th>\n",
              "      <th>total_support</th>\n",
              "      <th>%_total_support</th>\n",
              "      <th>%_refundable_support</th>\n",
              "      <th>%_nonrefundable_support</th>\n",
              "    </tr>\n",
              "  </thead>\n",
              "  <tbody>\n",
              "    <tr>\n",
              "      <th>1281</th>\n",
              "      <td>Пока еще жива</td>\n",
              "      <td>111005313</td>\n",
              "      <td>2013-10-11 12:00:00+00:00</td>\n",
              "      <td>Художественный</td>\n",
              "      <td>АНО содействия развитию кинематографии Ангел-Ф...</td>\n",
              "      <td>Россия</td>\n",
              "      <td>А.Атанесян</td>\n",
              "      <td>А.Атанесян, М.Бабаханов, Р.Бутко</td>\n",
              "      <td>16+ - для детей старше 16 лет</td>\n",
              "      <td>0.0</td>\n",
              "      <td>...</td>\n",
              "      <td>8.1</td>\n",
              "      <td>драма,мелодрама</td>\n",
              "      <td>365353.6</td>\n",
              "      <td>2013</td>\n",
              "      <td>А.Атанесян</td>\n",
              "      <td>драма</td>\n",
              "      <td>26500000.0</td>\n",
              "      <td>0.333703</td>\n",
              "      <td>0.0</td>\n",
              "      <td>0.333703</td>\n",
              "    </tr>\n",
              "    <tr>\n",
              "      <th>1448</th>\n",
              "      <td>Бесславные придурки</td>\n",
              "      <td>111003314</td>\n",
              "      <td>2014-03-28 12:00:00+00:00</td>\n",
              "      <td>Художественный</td>\n",
              "      <td>ООО Компания АТК-Студио</td>\n",
              "      <td>Россия</td>\n",
              "      <td>А.Якимчук</td>\n",
              "      <td>А.Тютрюмов</td>\n",
              "      <td>12+ - для детей старше 12 лет</td>\n",
              "      <td>0.0</td>\n",
              "      <td>...</td>\n",
              "      <td>NaN</td>\n",
              "      <td>NaN</td>\n",
              "      <td>28140.0</td>\n",
              "      <td>2014</td>\n",
              "      <td>А.Якимчук</td>\n",
              "      <td>NaN</td>\n",
              "      <td>26000000.0</td>\n",
              "      <td>0.700000</td>\n",
              "      <td>0.0</td>\n",
              "      <td>0.700000</td>\n",
              "    </tr>\n",
              "    <tr>\n",
              "      <th>1498</th>\n",
              "      <td>Невидимки</td>\n",
              "      <td>111004213</td>\n",
              "      <td>2013-09-10 12:00:00+00:00</td>\n",
              "      <td>Художественный</td>\n",
              "      <td>ООО Компания РЕАЛ-ДАКОТА</td>\n",
              "      <td>Россия</td>\n",
              "      <td>Р.Давлетьяров, С.Комаров</td>\n",
              "      <td>Р.Давлетьяров, А.Котелевский, А.Олейников</td>\n",
              "      <td>12+ - для детей старше 12 лет</td>\n",
              "      <td>0.0</td>\n",
              "      <td>...</td>\n",
              "      <td>5.3</td>\n",
              "      <td>комедия,фантастика</td>\n",
              "      <td>19957031.5</td>\n",
              "      <td>2013</td>\n",
              "      <td>Р.Давлетьяров</td>\n",
              "      <td>комедия</td>\n",
              "      <td>107847945.0</td>\n",
              "      <td>0.612691</td>\n",
              "      <td>0.0</td>\n",
              "      <td>0.612691</td>\n",
              "    </tr>\n",
              "    <tr>\n",
              "      <th>1524</th>\n",
              "      <td>БЕРЦЫ</td>\n",
              "      <td>111004314</td>\n",
              "      <td>2014-05-05 12:00:00+00:00</td>\n",
              "      <td>Художественный</td>\n",
              "      <td>ООО Студия Пассажир</td>\n",
              "      <td>Россия</td>\n",
              "      <td>Е.Миндадзе (псевдоним Катя Шагалова)</td>\n",
              "      <td>Л.Антонова</td>\n",
              "      <td>16+ - для детей старше 16 лет</td>\n",
              "      <td>0.0</td>\n",
              "      <td>...</td>\n",
              "      <td>4.2</td>\n",
              "      <td>драма</td>\n",
              "      <td>55917.5</td>\n",
              "      <td>2014</td>\n",
              "      <td>Е.Миндадзе (псевдоним Катя Шагалова)</td>\n",
              "      <td>драма</td>\n",
              "      <td>28000000.0</td>\n",
              "      <td>0.690095</td>\n",
              "      <td>0.0</td>\n",
              "      <td>0.690095</td>\n",
              "    </tr>\n",
              "    <tr>\n",
              "      <th>1792</th>\n",
              "      <td>Братья Ч</td>\n",
              "      <td>111004414</td>\n",
              "      <td>2014-04-23 12:00:00+00:00</td>\n",
              "      <td>Художественный</td>\n",
              "      <td>ООО Студия Пассажир</td>\n",
              "      <td>Россия</td>\n",
              "      <td>М.Угаров</td>\n",
              "      <td>А.Миндадзе, Л.Антонова</td>\n",
              "      <td>16+ - для детей старше 16 лет</td>\n",
              "      <td>0.0</td>\n",
              "      <td>...</td>\n",
              "      <td>6.4</td>\n",
              "      <td>драма</td>\n",
              "      <td>232100.0</td>\n",
              "      <td>2014</td>\n",
              "      <td>М.Угаров</td>\n",
              "      <td>драма</td>\n",
              "      <td>25000000.0</td>\n",
              "      <td>0.624764</td>\n",
              "      <td>0.0</td>\n",
              "      <td>0.624764</td>\n",
              "    </tr>\n",
              "  </tbody>\n",
              "</table>\n",
              "<p>5 rows × 23 columns</p>\n",
              "</div>"
            ],
            "text/plain": [
              "                    title   puNumber           show_start_date  \\\n",
              "1281        Пока еще жива  111005313 2013-10-11 12:00:00+00:00   \n",
              "1448  Бесславные придурки  111003314 2014-03-28 12:00:00+00:00   \n",
              "1498            Невидимки  111004213 2013-09-10 12:00:00+00:00   \n",
              "1524                БЕРЦЫ  111004314 2014-05-05 12:00:00+00:00   \n",
              "1792             Братья Ч  111004414 2014-04-23 12:00:00+00:00   \n",
              "\n",
              "                type                                        film_studio  \\\n",
              "1281  Художественный  АНО содействия развитию кинематографии Ангел-Ф...   \n",
              "1448  Художественный                            ООО Компания АТК-Студио   \n",
              "1498  Художественный                           ООО Компания РЕАЛ-ДАКОТА   \n",
              "1524  Художественный                                ООО Студия Пассажир   \n",
              "1792  Художественный                                ООО Студия Пассажир   \n",
              "\n",
              "     production_country                              director  \\\n",
              "1281             Россия                            А.Атанесян   \n",
              "1448             Россия                             А.Якимчук   \n",
              "1498             Россия              Р.Давлетьяров, С.Комаров   \n",
              "1524             Россия  Е.Миндадзе (псевдоним Катя Шагалова)   \n",
              "1792             Россия                              М.Угаров   \n",
              "\n",
              "                                       producer  \\\n",
              "1281           А.Атанесян, М.Бабаханов, Р.Бутко   \n",
              "1448                                 А.Тютрюмов   \n",
              "1498  Р.Давлетьяров, А.Котелевский, А.Олейников   \n",
              "1524                                 Л.Антонова   \n",
              "1792                     А.Миндадзе, Л.Антонова   \n",
              "\n",
              "                    age_restriction  refundable_support  ...  ratings  \\\n",
              "1281  16+ - для детей старше 16 лет                 0.0  ...      8.1   \n",
              "1448  12+ - для детей старше 12 лет                 0.0  ...      NaN   \n",
              "1498  12+ - для детей старше 12 лет                 0.0  ...      5.3   \n",
              "1524  16+ - для детей старше 16 лет                 0.0  ...      4.2   \n",
              "1792  16+ - для детей старше 16 лет                 0.0  ...      6.4   \n",
              "\n",
              "                  genres  box_office  year  \\\n",
              "1281     драма,мелодрама    365353.6  2013   \n",
              "1448                 NaN     28140.0  2014   \n",
              "1498  комедия,фантастика  19957031.5  2013   \n",
              "1524               драма     55917.5  2014   \n",
              "1792               драма    232100.0  2014   \n",
              "\n",
              "                            director_first  genres_first  total_support  \\\n",
              "1281                            А.Атанесян         драма     26500000.0   \n",
              "1448                             А.Якимчук           NaN     26000000.0   \n",
              "1498                         Р.Давлетьяров       комедия    107847945.0   \n",
              "1524  Е.Миндадзе (псевдоним Катя Шагалова)         драма     28000000.0   \n",
              "1792                              М.Угаров         драма     25000000.0   \n",
              "\n",
              "     %_total_support %_refundable_support  %_nonrefundable_support  \n",
              "1281        0.333703                  0.0                 0.333703  \n",
              "1448        0.700000                  0.0                 0.700000  \n",
              "1498        0.612691                  0.0                 0.612691  \n",
              "1524        0.690095                  0.0                 0.690095  \n",
              "1792        0.624764                  0.0                 0.624764  \n",
              "\n",
              "[5 rows x 23 columns]"
            ]
          },
          "execution_count": 51,
          "metadata": {},
          "output_type": "execute_result"
        }
      ],
      "source": [
        "\n",
        "data['total_support']=data['refundable_support']+data['nonrefundable_support']\n",
        "\n",
        "# Добавим столбец с расчетом доли каждого вида гос.поддержки от общего бюджета фильма:\n",
        "data['%_total_support']=data['total_support']/data['budget']\n",
        "data['%_refundable_support']=data['refundable_support']/data['budget']\n",
        "data['%_nonrefundable_support']=data['nonrefundable_support']/data['budget']\n",
        "\n",
        "data[(data['budget']>0)].head()"
      ]
    },
    {
      "cell_type": "code",
      "execution_count": null,
      "metadata": {
        "id": "tJsV56Tv3DsG",
        "outputId": "46adc31d-cb51-4901-8b35-9cfacd11d1da"
      },
      "outputs": [
        {
          "data": {
            "text/plain": [
              "count    316.000000\n",
              "mean            inf\n",
              "std             NaN\n",
              "min        0.044043\n",
              "25%        0.373620\n",
              "50%        0.592714\n",
              "75%        0.657194\n",
              "max             inf\n",
              "Name: %_total_support, dtype: float64"
            ]
          },
          "execution_count": 52,
          "metadata": {},
          "output_type": "execute_result"
        }
      ],
      "source": [
        "data['%_total_support'].describe()"
      ]
    },
    {
      "cell_type": "markdown",
      "metadata": {
        "id": "nIrpdUzT3DsG"
      },
      "source": [
        " 0.59 — это средний уровень наблюдаемых значений, что указывает на то, что в целом данные находятся чуть выше среднего уровня. Достаточно высокий уровень финансовой поддержки государства."
      ]
    },
    {
      "cell_type": "markdown",
      "metadata": {
        "id": "1d1kx9Oy3DsG"
      },
      "source": [
        " </font><font color='Blue'><b>Комментарий студента</b></font><br>\n",
        " # Вывод\n",
        " Была выполнена предобработка данных. Были заполнены 0 пропуски в столбцах refundable_support' и 'nonrefundable_support'. Была выполнена проверка на наличие явных дубликатов. А также была проведена проверка на неявные дубликаты. Удалили фильмы с одинаковым puNumber. Также были добавлены новые столбцы с годом,с именем главного режиссера и с долью государственной поддержки от общего бюджета фильма. Были удалены лишние пробелы в столбцах с категориальнами признаками."
      ]
    },
    {
      "cell_type": "markdown",
      "metadata": {
        "id": "6t4EukPLgFyV"
      },
      "source": [
        "### Шаг 3. Проведите исследовательский анализ данных\n"
      ]
    },
    {
      "cell_type": "markdown",
      "metadata": {
        "id": "vAH8WCzugFyV"
      },
      "source": [
        "- Посмотрите, сколько фильмов выходило в прокат каждый год. Обратите внимание, что данные о прокате в кинотеатрах известны не для всех фильмов. Посчитайте, какую долю составляют фильмы с указанной информацией о прокате в кинотеатрах. Проанализируйте, как эта доля менялась по годам. Сделайте вывод о том, какой период полнее всего представлен в данных."
      ]
    },
    {
      "cell_type": "code",
      "execution_count": null,
      "metadata": {
        "id": "efcj3hSN3DsH",
        "outputId": "c71c3c5c-463a-4246-db3a-eae6459db64d"
      },
      "outputs": [
        {
          "data": {
            "text/html": [
              "<div>\n",
              "<style scoped>\n",
              "    .dataframe tbody tr th:only-of-type {\n",
              "        vertical-align: middle;\n",
              "    }\n",
              "\n",
              "    .dataframe tbody tr th {\n",
              "        vertical-align: top;\n",
              "    }\n",
              "\n",
              "    .dataframe thead th {\n",
              "        text-align: right;\n",
              "    }\n",
              "</style>\n",
              "<table border=\"1\" class=\"dataframe\">\n",
              "  <thead>\n",
              "    <tr style=\"text-align: right;\">\n",
              "      <th></th>\n",
              "      <th>total_films</th>\n",
              "      <th>films_with_box_office</th>\n",
              "      <th>box_office_share</th>\n",
              "    </tr>\n",
              "    <tr>\n",
              "      <th>year</th>\n",
              "      <th></th>\n",
              "      <th></th>\n",
              "      <th></th>\n",
              "    </tr>\n",
              "  </thead>\n",
              "  <tbody>\n",
              "    <tr>\n",
              "      <th>2010</th>\n",
              "      <td>976</td>\n",
              "      <td>105.0</td>\n",
              "      <td>0.107582</td>\n",
              "    </tr>\n",
              "    <tr>\n",
              "      <th>2011</th>\n",
              "      <td>620</td>\n",
              "      <td>109.0</td>\n",
              "      <td>0.175806</td>\n",
              "    </tr>\n",
              "    <tr>\n",
              "      <th>2012</th>\n",
              "      <td>592</td>\n",
              "      <td>127.0</td>\n",
              "      <td>0.214527</td>\n",
              "    </tr>\n",
              "    <tr>\n",
              "      <th>2013</th>\n",
              "      <td>629</td>\n",
              "      <td>184.0</td>\n",
              "      <td>0.292528</td>\n",
              "    </tr>\n",
              "    <tr>\n",
              "      <th>2014</th>\n",
              "      <td>804</td>\n",
              "      <td>278.0</td>\n",
              "      <td>0.345771</td>\n",
              "    </tr>\n",
              "    <tr>\n",
              "      <th>2015</th>\n",
              "      <td>700</td>\n",
              "      <td>460.0</td>\n",
              "      <td>0.657143</td>\n",
              "    </tr>\n",
              "    <tr>\n",
              "      <th>2016</th>\n",
              "      <td>814</td>\n",
              "      <td>522.0</td>\n",
              "      <td>0.641278</td>\n",
              "    </tr>\n",
              "    <tr>\n",
              "      <th>2017</th>\n",
              "      <td>503</td>\n",
              "      <td>355.0</td>\n",
              "      <td>0.705765</td>\n",
              "    </tr>\n",
              "    <tr>\n",
              "      <th>2018</th>\n",
              "      <td>875</td>\n",
              "      <td>470.0</td>\n",
              "      <td>0.537143</td>\n",
              "    </tr>\n",
              "    <tr>\n",
              "      <th>2019</th>\n",
              "      <td>925</td>\n",
              "      <td>529.0</td>\n",
              "      <td>0.571892</td>\n",
              "    </tr>\n",
              "  </tbody>\n",
              "</table>\n",
              "</div>"
            ],
            "text/plain": [
              "      total_films  films_with_box_office  box_office_share\n",
              "year                                                      \n",
              "2010          976                  105.0          0.107582\n",
              "2011          620                  109.0          0.175806\n",
              "2012          592                  127.0          0.214527\n",
              "2013          629                  184.0          0.292528\n",
              "2014          804                  278.0          0.345771\n",
              "2015          700                  460.0          0.657143\n",
              "2016          814                  522.0          0.641278\n",
              "2017          503                  355.0          0.705765\n",
              "2018          875                  470.0          0.537143\n",
              "2019          925                  529.0          0.571892"
            ]
          },
          "metadata": {},
          "output_type": "display_data"
        },
        {
          "name": "stdout",
          "output_type": "stream",
          "text": [
            "Год с наибольшей долей фильмов с данными о прокате: 2017 (70.58%)\n"
          ]
        }
      ],
      "source": [
        "# Группируем данные по годам\n",
        "grouped = data.groupby('year').agg(\n",
        "    total_films=('title', 'count'),  # Общее количество фильмов\n",
        "    films_with_box_office=('box_office', lambda x: x.notnull().sum())  # Количество фильмов с данными о прокате\n",
        ")\n",
        "\n",
        "# Рассчитываем долю фильмов с информацией о прокате\n",
        "grouped['box_office_share'] = grouped['films_with_box_office'] / grouped['total_films']\n",
        "\n",
        "\n",
        "display(grouped)\n",
        "\n",
        "# Анализируем период с наибольшей полнотой данных\n",
        "max_share_year = grouped['box_office_share'].idxmax()\n",
        "max_share_value = grouped['box_office_share'].max()\n",
        "\n",
        "print(f\"Год с наибольшей долей фильмов с данными о прокате: {max_share_year} ({max_share_value:.2%})\")\n"
      ]
    },
    {
      "cell_type": "code",
      "execution_count": null,
      "metadata": {
        "id": "3lXaYF1V3DsH",
        "outputId": "53a04835-fdcb-49bd-b3a8-d9477095f2a0"
      },
      "outputs": [
        {
          "data": {
            "text/plain": [
              "count     10.000000\n",
              "mean     743.800000\n",
              "std      157.750718\n",
              "min      503.000000\n",
              "25%      622.250000\n",
              "50%      752.000000\n",
              "75%      859.750000\n",
              "max      976.000000\n",
              "Name: total_films, dtype: float64"
            ]
          },
          "execution_count": 55,
          "metadata": {},
          "output_type": "execute_result"
        }
      ],
      "source": [
        "grouped['total_films'].describe()"
      ]
    },
    {
      "cell_type": "markdown",
      "metadata": {
        "id": "AcVukJKp3DsH"
      },
      "source": [
        "Наиболее полными представлены годы 2015-2017, где все фильмы имели данные о прокате (70% полнота). В эти годы информация о прокате была собрана почти полностью.\n",
        "\n",
        "В то же время, год 2010 имеет наименьшую долю фильмов с данными о прокате (10%), что может указывать на недостаток информации или на то, что не все фильмы были учтены в отчетах о прокате."
      ]
    },
    {
      "cell_type": "markdown",
      "metadata": {
        "id": "BEOdcIrIgFyW"
      },
      "source": [
        "- Изучите, как менялась динамика проката по годам. В каком году сумма сборов была минимальной? А максимальной?"
      ]
    },
    {
      "cell_type": "code",
      "execution_count": null,
      "metadata": {
        "id": "tfEhofYvgFyX",
        "scrolled": true,
        "outputId": "ba09a954-702f-4f68-a41e-e578f4a3ec18"
      },
      "outputs": [
        {
          "name": "stdout",
          "output_type": "stream",
          "text": [
            "Минимальные сборы в 2010.0 году: 2428654.0\n",
            "Максимальные сборы в 2018.0 году: 49251950180.19999\n"
          ]
        }
      ],
      "source": [
        "# Группируем данные по годам и суммируем сборы\n",
        "annual_box_office = data.groupby('year')['box_office'].sum().reset_index()\n",
        "\n",
        "# Находим год с минимальными и максимальными сборами\n",
        "min_year = annual_box_office.loc[annual_box_office['box_office'].idxmin()]\n",
        "max_year = annual_box_office.loc[annual_box_office['box_office'].idxmax()]\n",
        "\n",
        "print(f\"Минимальные сборы в {min_year['year']} году: {min_year['box_office']}\")\n",
        "print(f\"Максимальные сборы в {max_year['year']} году: {max_year['box_office']}\")"
      ]
    },
    {
      "cell_type": "code",
      "execution_count": null,
      "metadata": {
        "id": "2JSZEOF43DsH",
        "outputId": "d9b8f17c-f233-427b-c349-35b1dcc4fcc0"
      },
      "outputs": [
        {
          "data": {
            "image/png": "[encoded data removed]",
            "text/plain": [
              "<Figure size 720x432 with 1 Axes>"
            ]
          },
          "metadata": {
            "needs_background": "light"
          },
          "output_type": "display_data"
        }
      ],
      "source": [
        "# Визуализация\n",
        "plt.figure(figsize=(10, 6))\n",
        "plt.plot(annual_box_office['year'], annual_box_office['box_office'], marker='o')\n",
        "plt.title('Динамика проката по годам')\n",
        "plt.xlabel('Год')\n",
        "plt.ylabel('Сборы (в миллионах)')\n",
        "plt.grid(True)\n",
        "plt.xticks(annual_box_office['year'])  # Убедитесь, что все годы отображаются на оси X\n",
        "plt.show()"
      ]
    },
    {
      "cell_type": "code",
      "execution_count": null,
      "metadata": {
        "id": "x4kn8gM73DsI",
        "outputId": "50bc6819-9790-421b-8861-b2be60d38fb1"
      },
      "outputs": [
        {
          "data": {
            "text/plain": [
              "year\n",
              "2010    976\n",
              "2011    620\n",
              "2012    592\n",
              "2013    629\n",
              "2014    804\n",
              "2015    700\n",
              "2016    814\n",
              "2017    503\n",
              "2018    875\n",
              "2019    925\n",
              "Name: title, dtype: int64"
            ]
          },
          "execution_count": 58,
          "metadata": {},
          "output_type": "execute_result"
        }
      ],
      "source": [
        "data.groupby('year')['title'].count()"
      ]
    },
    {
      "cell_type": "markdown",
      "metadata": {
        "id": "G-7qS-N-gFyY"
      },
      "source": [
        "- С помощью сводной таблицы посчитайте среднюю и медианную сумму сборов для каждого года."
      ]
    },
    {
      "cell_type": "code",
      "execution_count": null,
      "metadata": {
        "id": "jmp-rgg9gFyY",
        "outputId": "fad67bb3-ce87-4dbb-eb53-e283cb97c6aa"
      },
      "outputs": [
        {
          "data": {
            "text/html": [
              "<div>\n",
              "<style scoped>\n",
              "    .dataframe tbody tr th:only-of-type {\n",
              "        vertical-align: middle;\n",
              "    }\n",
              "\n",
              "    .dataframe tbody tr th {\n",
              "        vertical-align: top;\n",
              "    }\n",
              "\n",
              "    .dataframe thead th {\n",
              "        text-align: right;\n",
              "    }\n",
              "</style>\n",
              "<table border=\"1\" class=\"dataframe\">\n",
              "  <thead>\n",
              "    <tr style=\"text-align: right;\">\n",
              "      <th></th>\n",
              "      <th>year</th>\n",
              "      <th>Average Box Office</th>\n",
              "      <th>Median Box Office</th>\n",
              "    </tr>\n",
              "  </thead>\n",
              "  <tbody>\n",
              "    <tr>\n",
              "      <th>0</th>\n",
              "      <td>2010</td>\n",
              "      <td>2.313004e+04</td>\n",
              "      <td>1700.00</td>\n",
              "    </tr>\n",
              "    <tr>\n",
              "      <th>1</th>\n",
              "      <td>2011</td>\n",
              "      <td>1.293832e+05</td>\n",
              "      <td>3000.00</td>\n",
              "    </tr>\n",
              "    <tr>\n",
              "      <th>2</th>\n",
              "      <td>2012</td>\n",
              "      <td>5.441790e+04</td>\n",
              "      <td>5560.00</td>\n",
              "    </tr>\n",
              "    <tr>\n",
              "      <th>3</th>\n",
              "      <td>2013</td>\n",
              "      <td>1.619549e+05</td>\n",
              "      <td>3522.50</td>\n",
              "    </tr>\n",
              "    <tr>\n",
              "      <th>4</th>\n",
              "      <td>2014</td>\n",
              "      <td>2.674359e+07</td>\n",
              "      <td>18137.50</td>\n",
              "    </tr>\n",
              "    <tr>\n",
              "      <th>5</th>\n",
              "      <td>2015</td>\n",
              "      <td>8.390271e+07</td>\n",
              "      <td>4796668.30</td>\n",
              "    </tr>\n",
              "    <tr>\n",
              "      <th>6</th>\n",
              "      <td>2016</td>\n",
              "      <td>8.954429e+07</td>\n",
              "      <td>3777202.68</td>\n",
              "    </tr>\n",
              "    <tr>\n",
              "      <th>7</th>\n",
              "      <td>2017</td>\n",
              "      <td>1.365018e+08</td>\n",
              "      <td>9919415.00</td>\n",
              "    </tr>\n",
              "    <tr>\n",
              "      <th>8</th>\n",
              "      <td>2018</td>\n",
              "      <td>1.047914e+08</td>\n",
              "      <td>8821498.98</td>\n",
              "    </tr>\n",
              "    <tr>\n",
              "      <th>9</th>\n",
              "      <td>2019</td>\n",
              "      <td>9.126295e+07</td>\n",
              "      <td>4601033.60</td>\n",
              "    </tr>\n",
              "  </tbody>\n",
              "</table>\n",
              "</div>"
            ],
            "text/plain": [
              "   year  Average Box Office  Median Box Office\n",
              "0  2010        2.313004e+04            1700.00\n",
              "1  2011        1.293832e+05            3000.00\n",
              "2  2012        5.441790e+04            5560.00\n",
              "3  2013        1.619549e+05            3522.50\n",
              "4  2014        2.674359e+07           18137.50\n",
              "5  2015        8.390271e+07         4796668.30\n",
              "6  2016        8.954429e+07         3777202.68\n",
              "7  2017        1.365018e+08         9919415.00\n",
              "8  2018        1.047914e+08         8821498.98\n",
              "9  2019        9.126295e+07         4601033.60"
            ]
          },
          "metadata": {},
          "output_type": "display_data"
        }
      ],
      "source": [
        "# Создаем сводную таблицу\n",
        "pivot_table = data.pivot_table(values='box_office', index='year', aggfunc=['mean', 'median'])\n",
        "\n",
        "pivot_table.columns = ['Average Box Office', 'Median Box Office']\n",
        "\n",
        "# Сбрасываем индексы для более удобного отображения\n",
        "pivot_table = pivot_table.reset_index()\n",
        "\n",
        "display(pivot_table)"
      ]
    },
    {
      "cell_type": "markdown",
      "metadata": {
        "id": "l3iXG_1s3DsI"
      },
      "source": [
        "\n",
        " </font><font color='Blue'><b>Комментарий студента</b></font><br>\n",
        "\n",
        "\n",
        "# Вывод\n",
        "\n",
        "1. **Определение среднего и медианного значений**:\n",
        "   - **Среднее значение** (Average Box Office) показывает общую тенденцию сбора фильмов за год и может быть искажено очень высокими значениями (высокобюджетные блокбастеры).\n",
        "   - **Медиана** (Median Box Office) — это значение, которое делит данные пополам, и менее подвержено влиянию выбросов.\n",
        "\n",
        "2. **Анализ данных**:\n",
        "   - В 2010 году средний сбор составляет 23,130.04, а медиана — 1,700.00. Разница значительная, что может указывать на наличие фильмов с высокими сборами.\n",
        "   - В 2011 и 2012 годах также наблюдается большая разница между средним и медианой, что подтверждает наличие высоких сборов.\n",
        "   - Начиная с 2014 года, средние значения значительно возрастают, что может указывать на рост популярности фильмов или увеличение бюджетов.\n",
        "   - В 2015 и 2016 годах медиана значительно ниже среднего, что говорит о том, что есть несколько фильмов с очень высокими сборами, которые влияют на среднее значение.\n",
        "   - В 2017 и 2018 годах медиана начинает приближаться к среднему значению, что может указывать на более равномерное распределение сборов среди фильмов.\n",
        "\n",
        "3. **Выводы**:\n",
        "   - Разница между средней и медианной суммой сбора фильмов указывает на наличие выбросов в данных (фильмы с очень высокими сборами).\n",
        "   - Высокие средние значения в последние годы могут свидетельствовать о росте индустрии кино и увеличении бюджетов на производство фильмов.\n",
        "   - Медиана показывает более реалистичное представление о сборах большинства фильмов, в то время как среднее значение может вводить в заблуждение из-за влияния нескольких успешных картин."
      ]
    },
    {
      "cell_type": "markdown",
      "metadata": {
        "id": "Ok89WFwJgFyZ"
      },
      "source": [
        "- Определите, влияет ли возрастное ограничение аудитории («6+», «12+», «16+», «18+» и т. д.) на сборы фильма в прокате в период с 2015 по 2019 год? Фильмы с каким возрастным ограничением собрали больше всего денег в прокате? Меняется ли картина в зависимости от года? Если да, предположите, с чем это может быть связано."
      ]
    },
    {
      "cell_type": "code",
      "execution_count": null,
      "metadata": {
        "id": "jsSbEqfjgFya",
        "outputId": "ac3ddad3-b8ff-4ded-9380-aa48aaf9ecc8"
      },
      "outputs": [
        {
          "data": {
            "text/html": [
              "<div>\n",
              "<style scoped>\n",
              "    .dataframe tbody tr th:only-of-type {\n",
              "        vertical-align: middle;\n",
              "    }\n",
              "\n",
              "    .dataframe tbody tr th {\n",
              "        vertical-align: top;\n",
              "    }\n",
              "\n",
              "    .dataframe thead th {\n",
              "        text-align: right;\n",
              "    }\n",
              "</style>\n",
              "<table border=\"1\" class=\"dataframe\">\n",
              "  <thead>\n",
              "    <tr style=\"text-align: right;\">\n",
              "      <th>year</th>\n",
              "      <th>2015</th>\n",
              "      <th>2016</th>\n",
              "      <th>2017</th>\n",
              "      <th>2018</th>\n",
              "      <th>2019</th>\n",
              "    </tr>\n",
              "    <tr>\n",
              "      <th>age_restriction</th>\n",
              "      <th></th>\n",
              "      <th></th>\n",
              "      <th></th>\n",
              "      <th></th>\n",
              "      <th></th>\n",
              "    </tr>\n",
              "  </thead>\n",
              "  <tbody>\n",
              "    <tr>\n",
              "      <th>0+ - для любой зрительской аудитории</th>\n",
              "      <td>3.790546e+08</td>\n",
              "      <td>1.500343e+08</td>\n",
              "      <td>2.295989e+08</td>\n",
              "      <td>3.244900e+07</td>\n",
              "      <td>1.774607e+07</td>\n",
              "    </tr>\n",
              "    <tr>\n",
              "      <th>12+ - для детей старше 12 лет</th>\n",
              "      <td>1.341951e+10</td>\n",
              "      <td>1.115076e+10</td>\n",
              "      <td>7.851428e+09</td>\n",
              "      <td>1.426725e+10</td>\n",
              "      <td>1.268020e+10</td>\n",
              "    </tr>\n",
              "    <tr>\n",
              "      <th>16+ - для детей старше 16 лет</th>\n",
              "      <td>1.084902e+10</td>\n",
              "      <td>1.659425e+10</td>\n",
              "      <td>1.869459e+10</td>\n",
              "      <td>1.627841e+10</td>\n",
              "      <td>1.275342e+10</td>\n",
              "    </tr>\n",
              "    <tr>\n",
              "      <th>18+ - запрещено для детей</th>\n",
              "      <td>5.430351e+09</td>\n",
              "      <td>6.793930e+09</td>\n",
              "      <td>9.651496e+09</td>\n",
              "      <td>8.760086e+09</td>\n",
              "      <td>1.012180e+10</td>\n",
              "    </tr>\n",
              "    <tr>\n",
              "      <th>6+ - для детей старше 6 лет</th>\n",
              "      <td>8.517312e+09</td>\n",
              "      <td>1.205315e+10</td>\n",
              "      <td>1.203103e+10</td>\n",
              "      <td>9.913759e+09</td>\n",
              "      <td>1.270494e+10</td>\n",
              "    </tr>\n",
              "  </tbody>\n",
              "</table>\n",
              "</div>"
            ],
            "text/plain": [
              "year                                          2015          2016  \\\n",
              "age_restriction                                                    \n",
              "0+ - для любой зрительской аудитории  3.790546e+08  1.500343e+08   \n",
              "12+ - для детей старше 12 лет         1.341951e+10  1.115076e+10   \n",
              "16+ - для детей старше 16 лет         1.084902e+10  1.659425e+10   \n",
              "18+ - запрещено для детей             5.430351e+09  6.793930e+09   \n",
              "6+ - для детей старше 6 лет           8.517312e+09  1.205315e+10   \n",
              "\n",
              "year                                          2017          2018          2019  \n",
              "age_restriction                                                                 \n",
              "0+ - для любой зрительской аудитории  2.295989e+08  3.244900e+07  1.774607e+07  \n",
              "12+ - для детей старше 12 лет         7.851428e+09  1.426725e+10  1.268020e+10  \n",
              "16+ - для детей старше 16 лет         1.869459e+10  1.627841e+10  1.275342e+10  \n",
              "18+ - запрещено для детей             9.651496e+09  8.760086e+09  1.012180e+10  \n",
              "6+ - для детей старше 6 лет           1.203103e+10  9.913759e+09  1.270494e+10  "
            ]
          },
          "metadata": {},
          "output_type": "display_data"
        }
      ],
      "source": [
        "pivot_table = data[data['year']>=2015].pivot_table(values='box_office', index='age_restriction', columns='year', aggfunc='sum', fill_value=0)\n",
        "display(pivot_table)"
      ]
    },
    {
      "cell_type": "code",
      "execution_count": null,
      "metadata": {
        "id": "L06MZl8Q3DsJ",
        "outputId": "27983462-f44a-4dfa-ca1f-d20c59074841"
      },
      "outputs": [
        {
          "data": {
            "image/png": "[encoded data removed]",
            "text/plain": [
              "<Figure size 864x504 with 1 Axes>"
            ]
          },
          "metadata": {
            "needs_background": "light"
          },
          "output_type": "display_data"
        }
      ],
      "source": [
        "# Группировка данных по возрастному ограничению и году, суммирование сборов\n",
        "total_box_office = data[data['year']>=2015].groupby(['year', 'age_restriction'])['box_office'].sum().unstack()\n",
        "\n",
        "# Построение гистограммы\n",
        "total_box_office.plot(kind='bar', stacked=True, figsize=(12, 7), color=['lightblue', 'lightgreen', 'salmon', 'orange', 'purple'])\n",
        "plt.title('Сборы фильмов по возрастным ограничениям (2015-2019)')\n",
        "plt.xlabel('Год')\n",
        "plt.ylabel('Сборы (в миллионах)')\n",
        "plt.xticks(rotation=45)\n",
        "plt.legend(title='Возрастное ограничение')\n",
        "plt.grid(axis='y')\n",
        "\n",
        "# Показать график\n",
        "plt.tight_layout()\n",
        "plt.show()"
      ]
    },
    {
      "cell_type": "code",
      "execution_count": null,
      "metadata": {
        "id": "_FfXLO2z3DsJ",
        "outputId": "aef507c9-ac10-4e97-adaa-d868ee7cc447"
      },
      "outputs": [
        {
          "data": {
            "image/png": "[encoded data removed]",
            "text/plain": [
              "<Figure size 1440x720 with 1 Axes>"
            ]
          },
          "metadata": {
            "needs_background": "light"
          },
          "output_type": "display_data"
        }
      ],
      "source": [
        "# Построение диаграммы размаха\n",
        "plt.figure(figsize=(20, 10))\n",
        "sns.boxplot(x='age_restriction', y='box_office', data=data)\n",
        "plt.title('Диаграмма размаха сборов в прокате по возрастным категориям')\n",
        "plt.xlabel('Возрастная категория')\n",
        "plt.ylabel('Сборы')\n",
        "plt.grid(axis='y')\n",
        "plt.show()"
      ]
    },
    {
      "cell_type": "code",
      "execution_count": null,
      "metadata": {
        "id": "E2RSBqb73DsJ",
        "outputId": "5640f29a-0cba-4aff-98ad-e394268e68e6"
      },
      "outputs": [
        {
          "data": {
            "image/png": "[encoded data removed]",
            "text/plain": [
              "<Figure size 576x576 with 1 Axes>"
            ]
          },
          "metadata": {
            "needs_background": "light"
          },
          "output_type": "display_data"
        }
      ],
      "source": [
        "# Комментарий ревьюера 3\n",
        "import seaborn as sns\n",
        "temp = data.copy()\n",
        "# для удобства укоротим названия категорий\n",
        "def get_first_value(s, sep = ','):  # Функция для выбора первого элемента из перечисления\n",
        "    value_lst = s.split(sep=sep)\n",
        "    return value_lst[0]\n",
        "\n",
        "temp['age_restriction'] = temp['age_restriction'].apply(lambda x: get_first_value(x, sep='-'))\n",
        "# сохраним маску для среза по годам\n",
        "year_mask = temp['year'] >= 2015\n",
        "\n",
        "plt.figure(figsize=(8, 8))\n",
        "(sns.boxplot(data = temp.loc[year_mask], y = 'box_office', x='age_restriction', showfliers=False, showmeans=True)\n",
        "    .set(title = 'Кассовые сборы в зависимости от возрастной категории',\n",
        "         xlabel = 'Возрастные категории', ylabel = 'Кассовый сбор'))\n",
        "plt.text(0, 3.2e8,'Треугольник показывает среднее значение')\n",
        "plt.show()"
      ]
    },
    {
      "cell_type": "markdown",
      "metadata": {
        "id": "k4tiEZRC3DsJ"
      },
      "source": [
        "# Вывод\n",
        "\n",
        "1.Возрастное ограничение «16+»:\n",
        "   - Это возрастное ограничение демонстрирует наибольшие сборы на протяжении всех лет, особенно заметно в 2015-2018 годах.\n",
        "\n",
        "2. Возрастное ограничение «6+»:\n",
        "   - Сборы фильмов с этой маркировкой также высоки, особенно в 2015-2017 годах, где сборы превышают 1 миллиарда.\n",
        "\n",
        "3. Возрастное ограничение «12+»:\n",
        "   - Сборы фильмов с этим ограничением значительно ниже по сравнению с «16+», но все же показывают положительную динамику, особенно в 2018 и 2019 годах, когда сборы превышают 1 миллиарда.\n",
        "\n",
        "4. Возрастное ограничение «18+»:\n",
        "   - Сборы для этого ограничения остаются относительно низкими, с максимальным значением около 200 миллионов в 2019 году. Это может указывать на меньшую аудиторию для фильмов с таким ограничением.\n",
        "\n",
        "5. Возрастное ограничение «0+»:\n",
        "   - Снижение интереса к фильмам для самой широкой аудитории.\n",
        "\n",
        "Возрастные ограничения «16+» и «12+» явно являются наиболее успешными по сборам, что может говорить о том, что такие фильмы пользуются большим спросом среди зрителей.\n",
        "Наблюдается общий рост сборов в период с 2015 по 2018 год, что может быть связано с увеличением производства высококачественного контента.\n",
        "Данные показывают, что рынок фильмов ориентирован на более широкую аудиторию (фильмы для детей и подростков).\n"
      ]
    },
    {
      "cell_type": "markdown",
      "metadata": {
        "id": "4PzQIMTi3DsJ"
      },
      "source": [
        " </font><font color='Blue'><b>Комментарий студента</b></font><br>\n",
        " # Вывод\n",
        "     Был проведен исследовательский анализ данных.  Наиболее полными представлены годы 2015-2017, где все фильмы имели данные о прокате (70% полнота). В эти годы информация о прокате была собрана почти полностью.В то же время, год 2010 имеет наименьшую долю фильмов с данными о прокате (10%), что может указывать на недостаток информации или на то, что не все фильмы были учтены в отчетах о прокате. Минимальные сборы по фильмам были в 2010.0 году:2 428 654.0. Максимальные сборы были  в 2018.0 году: 49 251 950 180.19999. Посчитали среднюю и медианную сумму сборов для каждого года. А также выяснили, что возрастные ограничения «16+» и «12+» явно являются наиболее успешными по сборам, что может говорить о том, что такие фильмы пользуются большим спросом среди зрителей."
      ]
    },
    {
      "cell_type": "markdown",
      "metadata": {
        "id": "l_Kg6Ku4gFya"
      },
      "source": [
        "### Шаг 4. Исследуйте фильмы, которые получили государственную поддержку\n",
        "\n",
        "На этом этапе нет конкретных инструкций и заданий — поищите интересные закономерности в данных. Посмотрите, сколько выделяют средств на поддержку кино. Проверьте, хорошо ли окупаются такие фильмы, какой у них рейтинг."
      ]
    },
    {
      "cell_type": "markdown",
      "metadata": {
        "id": "VhiTfWpl3DsK"
      },
      "source": [
        "Отфильтруем фильмы, оставим только те, которые получили гос. поддержку."
      ]
    },
    {
      "cell_type": "code",
      "execution_count": null,
      "metadata": {
        "id": "GQP6ZwGq3DsK",
        "outputId": "2f6e3150-e73b-4118-f496-7041bb91ed26"
      },
      "outputs": [
        {
          "name": "stdout",
          "output_type": "stream",
          "text": [
            "<class 'pandas.core.frame.DataFrame'>\n",
            "Int64Index: 316 entries, 1281 to 7477\n",
            "Data columns (total 23 columns):\n",
            " #   Column                   Non-Null Count  Dtype              \n",
            "---  ------                   --------------  -----              \n",
            " 0   title                    316 non-null    object             \n",
            " 1   puNumber                 316 non-null    int64              \n",
            " 2   show_start_date          316 non-null    datetime64[ns, UTC]\n",
            " 3   type                     316 non-null    object             \n",
            " 4   film_studio              316 non-null    object             \n",
            " 5   production_country       316 non-null    object             \n",
            " 6   director                 316 non-null    object             \n",
            " 7   producer                 314 non-null    object             \n",
            " 8   age_restriction          316 non-null    object             \n",
            " 9   refundable_support       316 non-null    float64            \n",
            " 10  nonrefundable_support    316 non-null    float64            \n",
            " 11  budget                   316 non-null    float64            \n",
            " 12  financing_source         316 non-null    object             \n",
            " 13  ratings                  299 non-null    float64            \n",
            " 14  genres                   301 non-null    object             \n",
            " 15  box_office               302 non-null    float64            \n",
            " 16  year                     316 non-null    int64              \n",
            " 17  director_first           316 non-null    object             \n",
            " 18  genres_first             301 non-null    object             \n",
            " 19  total_support            316 non-null    float64            \n",
            " 20  %_total_support          316 non-null    float64            \n",
            " 21  %_refundable_support     316 non-null    float64            \n",
            " 22  %_nonrefundable_support  315 non-null    float64            \n",
            "dtypes: datetime64[ns, UTC](1), float64(9), int64(2), object(11)\n",
            "memory usage: 59.2+ KB\n"
          ]
        }
      ],
      "source": [
        "data = data[data['refundable_support']+data['nonrefundable_support'] > 0]\n",
        "data.info()"
      ]
    },
    {
      "cell_type": "markdown",
      "metadata": {
        "id": "ekuqbF983DsK"
      },
      "source": [
        "Посмотрим, сколько средств выделяется на поддержку кино."
      ]
    },
    {
      "cell_type": "code",
      "execution_count": null,
      "metadata": {
        "id": "W9QKpjUdgFyb",
        "outputId": "2cc5d461-f425-41a3-c153-2cd1de1d5fdd"
      },
      "outputs": [
        {
          "name": "stdout",
          "output_type": "stream",
          "text": [
            "Общая сумма поддержки: 18828718847.0\n",
            "Средняя сумма поддержки на фильм: 59584553.31329114\n"
          ]
        }
      ],
      "source": [
        "total_support = data['total_support'].sum()\n",
        "average_support = data['total_support'].mean()\n",
        "\n",
        "print(f\"Общая сумма поддержки: {total_support}\")\n",
        "print(f\"Средняя сумма поддержки на фильм: {average_support}\")"
      ]
    },
    {
      "cell_type": "markdown",
      "metadata": {
        "id": "q-eM6hnF3DsK"
      },
      "source": [
        "Проведем анализ окупаемости фильмов."
      ]
    },
    {
      "cell_type": "code",
      "execution_count": null,
      "metadata": {
        "id": "7F298E2_3DsK"
      },
      "outputs": [],
      "source": [
        "data = data[((~data['box_office'].isna())&(~data['total_support'].isna()))] #почистили данные, оставили фильмы с государственной поддержкой"
      ]
    },
    {
      "cell_type": "code",
      "execution_count": null,
      "metadata": {
        "id": "gyjAAYWK3DsK",
        "outputId": "fd268952-62dd-47d0-adf0-8f64aea8c5a2"
      },
      "outputs": [
        {
          "name": "stdout",
          "output_type": "stream",
          "text": [
            "count    301.000000\n",
            "mean       0.763310\n",
            "std        1.672880\n",
            "min        0.000017\n",
            "25%        0.022548\n",
            "50%        0.148664\n",
            "75%        0.783883\n",
            "max       19.209804\n",
            "Name: profitability, dtype: float64\n"
          ]
        }
      ],
      "source": [
        "data_buget_not_null = data[~data['budget'].isna() & data['budget']>0].copy()\n",
        "data_buget_not_null['profitability'] = data_buget_not_null['box_office'] / data_buget_not_null['budget']\n",
        "\n",
        "print(data_buget_not_null['profitability'].describe())\n"
      ]
    },
    {
      "cell_type": "code",
      "execution_count": null,
      "metadata": {
        "id": "lr4ZHfmW3DsL",
        "outputId": "0e4cdc9d-9550-4576-845a-de100af00276"
      },
      "outputs": [
        {
          "data": {
            "image/png": "[encoded data removed]",
            "text/plain": [
              "<Figure size 720x432 with 1 Axes>"
            ]
          },
          "metadata": {
            "needs_background": "light"
          },
          "output_type": "display_data"
        }
      ],
      "source": [
        "plt.figure(figsize=(10, 6))\n",
        "sns.scatterplot(x='budget', y='profitability', data=data_buget_not_null)\n",
        "plt.title('Зависимость окупаемости от суммы государственной поддержки')\n",
        "plt.xlabel('Бюджет')\n",
        "plt.ylabel('Окупаемость')\n",
        "plt.show()\n"
      ]
    },
    {
      "cell_type": "code",
      "execution_count": null,
      "metadata": {
        "id": "x9f-iltR3DsL",
        "outputId": "2a3876b2-af93-4ee1-ced6-4fe540cdbdfe"
      },
      "outputs": [
        {
          "data": {
            "image/png": "[encoded data removed]",
            "text/plain": [
              "<Figure size 864x432 with 1 Axes>"
            ]
          },
          "metadata": {
            "needs_background": "light"
          },
          "output_type": "display_data"
        }
      ],
      "source": [
        "# Группировка по рейтингам и средняя сумма поддержки\n",
        "ratings_support = data.groupby('ratings')['total_support'].mean().reset_index()\n",
        "\n",
        "plt.figure(figsize=(12, 6))\n",
        "sns.barplot(x='ratings', y='total_support', data=ratings_support)\n",
        "plt.title('Средняя сумма государственной поддержки по рейтингам')\n",
        "plt.xlabel('Рейтинг')\n",
        "plt.ylabel('Средняя сумма поддержки')\n",
        "plt.xticks(rotation=45)\n",
        "plt.show()\n"
      ]
    },
    {
      "cell_type": "code",
      "execution_count": null,
      "metadata": {
        "id": "tGgyGnwQ3DsL",
        "outputId": "99f62569-d473-40e4-ed98-c13b2620efae"
      },
      "outputs": [
        {
          "data": {
            "text/html": [
              "<div>\n",
              "<style scoped>\n",
              "    .dataframe tbody tr th:only-of-type {\n",
              "        vertical-align: middle;\n",
              "    }\n",
              "\n",
              "    .dataframe tbody tr th {\n",
              "        vertical-align: top;\n",
              "    }\n",
              "\n",
              "    .dataframe thead th {\n",
              "        text-align: right;\n",
              "    }\n",
              "</style>\n",
              "<table border=\"1\" class=\"dataframe\">\n",
              "  <thead>\n",
              "    <tr style=\"text-align: right;\">\n",
              "      <th></th>\n",
              "      <th>Title</th>\n",
              "      <th>Ratings</th>\n",
              "      <th>Total Support</th>\n",
              "    </tr>\n",
              "  </thead>\n",
              "  <tbody>\n",
              "    <tr>\n",
              "      <th>32</th>\n",
              "      <td>А зори здесь тихие...</td>\n",
              "      <td>8.5</td>\n",
              "      <td>150000000.0</td>\n",
              "    </tr>\n",
              "    <tr>\n",
              "      <th>33</th>\n",
              "      <td>БОЛЬШОЙ</td>\n",
              "      <td>8.5</td>\n",
              "      <td>210000000.0</td>\n",
              "    </tr>\n",
              "    <tr>\n",
              "      <th>285</th>\n",
              "      <td>Миллиард</td>\n",
              "      <td>8.2</td>\n",
              "      <td>140000000.0</td>\n",
              "    </tr>\n",
              "    <tr>\n",
              "      <th>0</th>\n",
              "      <td>Пока еще жива</td>\n",
              "      <td>8.1</td>\n",
              "      <td>26500000.0</td>\n",
              "    </tr>\n",
              "    <tr>\n",
              "      <th>277</th>\n",
              "      <td>Мотылк.</td>\n",
              "      <td>8.0</td>\n",
              "      <td>37346881.0</td>\n",
              "    </tr>\n",
              "    <tr>\n",
              "      <th>...</th>\n",
              "      <td>...</td>\n",
              "      <td>...</td>\n",
              "      <td>...</td>\n",
              "    </tr>\n",
              "    <tr>\n",
              "      <th>266</th>\n",
              "      <td>Спасти Пушкина</td>\n",
              "      <td>2.9</td>\n",
              "      <td>40000000.0</td>\n",
              "    </tr>\n",
              "    <tr>\n",
              "      <th>265</th>\n",
              "      <td>Крым (2017)</td>\n",
              "      <td>2.9</td>\n",
              "      <td>50123915.0</td>\n",
              "    </tr>\n",
              "    <tr>\n",
              "      <th>247</th>\n",
              "      <td>Богатырша</td>\n",
              "      <td>2.8</td>\n",
              "      <td>30000000.0</td>\n",
              "    </tr>\n",
              "    <tr>\n",
              "      <th>284</th>\n",
              "      <td>Крымский мост. Сделано с любовью</td>\n",
              "      <td>2.5</td>\n",
              "      <td>100000000.0</td>\n",
              "    </tr>\n",
              "    <tr>\n",
              "      <th>271</th>\n",
              "      <td>Взломать блогеров</td>\n",
              "      <td>1.0</td>\n",
              "      <td>25000000.0</td>\n",
              "    </tr>\n",
              "  </tbody>\n",
              "</table>\n",
              "<p>286 rows × 3 columns</p>\n",
              "</div>"
            ],
            "text/plain": [
              "                                Title  Ratings  Total Support\n",
              "32              А зори здесь тихие...      8.5    150000000.0\n",
              "33                            БОЛЬШОЙ      8.5    210000000.0\n",
              "285                          Миллиард      8.2    140000000.0\n",
              "0                       Пока еще жива      8.1     26500000.0\n",
              "277                           Мотылк.      8.0     37346881.0\n",
              "..                                ...      ...            ...\n",
              "266                    Спасти Пушкина      2.9     40000000.0\n",
              "265                       Крым (2017)      2.9     50123915.0\n",
              "247                         Богатырша      2.8     30000000.0\n",
              "284  Крымский мост. Сделано с любовью      2.5    100000000.0\n",
              "271                 Взломать блогеров      1.0     25000000.0\n",
              "\n",
              "[286 rows x 3 columns]"
            ]
          },
          "metadata": {},
          "output_type": "display_data"
        }
      ],
      "source": [
        "ratings_support.rename(columns={'total_support': 'mean_support'}, inplace=True)\n",
        "\n",
        "# Объединяем с исходным DataFrame\n",
        "merged_data = pd.merge(data, ratings_support, on='ratings')\n",
        "\n",
        "result = pd.DataFrame({\n",
        "    'Title': merged_data['title'],\n",
        "    'Ratings': merged_data['ratings'],\n",
        "    'Total Support': merged_data['total_support']\n",
        "})\n",
        "\n",
        "# Сортируем по столбцу 'Ratings' в порядке убывания\n",
        "sorted_result = result.sort_values(by='Ratings', ascending=False)\n",
        "\n",
        "\n",
        "display(sorted_result)"
      ]
    },
    {
      "cell_type": "markdown",
      "metadata": {
        "id": "9v9GWHhl3DsL"
      },
      "source": [
        "Есть  фильмы, которые окупились по рейтингам. Однако есть и фильмы, которые совсем не понравились зрителям, хоть и на них потратили много средств."
      ]
    },
    {
      "cell_type": "code",
      "execution_count": null,
      "metadata": {
        "id": "AnPWVgnI3DsL",
        "outputId": "55f30839-9a4c-497b-c7c7-8c712340a158"
      },
      "outputs": [
        {
          "data": {
            "text/plain": [
              "<AxesSubplot:ylabel='age_restriction'>"
            ]
          },
          "metadata": {},
          "output_type": "display_data"
        },
        {
          "data": {
            "text/plain": [
              "count      5.000000\n",
              "mean      60.400000\n",
              "std       45.823575\n",
              "min        5.000000\n",
              "25%       27.000000\n",
              "50%       59.000000\n",
              "75%       97.000000\n",
              "max      114.000000\n",
              "Name: age_restriction, dtype: float64"
            ]
          },
          "execution_count": 71,
          "metadata": {},
          "output_type": "execute_result"
        },
        {
          "data": {
            "image/png": "[encoded data removed]",
            "text/plain": [
              "<Figure size 576x576 with 1 Axes>"
            ]
          },
          "metadata": {},
          "output_type": "display_data"
        }
      ],
      "source": [
        "# Посмотрим, для каких возрастных категорий снимают фильмы с гос.поддержкой:\n",
        "display(data['age_restriction'].value_counts().plot(y='count', kind='pie', figsize=(8, 8),autopct='%1.1f%%'))\n",
        "plt.title('Распределение возрастных категорий фильмов с гос.поддержкой')\n",
        "data['age_restriction'].value_counts().describe()"
      ]
    },
    {
      "cell_type": "markdown",
      "metadata": {
        "id": "Txs9L7tm3DsL"
      },
      "source": [
        "Большинство фильмов были сняты для аудитории 16+."
      ]
    },
    {
      "cell_type": "code",
      "execution_count": null,
      "metadata": {
        "id": "TKDGr32E3DsL"
      },
      "outputs": [],
      "source": [
        "# Разделение жанров и создание нового DataFrame\n",
        "genre_exploded = data['genres'].str.split(', ').explode()\n",
        "\n",
        "# Подсчет количества фильмов по каждому жанру\n",
        "genre_counts = genre_exploded.value_counts()"
      ]
    },
    {
      "cell_type": "code",
      "execution_count": null,
      "metadata": {
        "id": "g_TR53us3DsL",
        "outputId": "4168ba3c-58f3-42db-fd7c-67c4951a4f46"
      },
      "outputs": [
        {
          "data": {
            "image/png": "[encoded data removed]",
            "text/plain": [
              "<Figure size 864x432 with 1 Axes>"
            ]
          },
          "metadata": {
            "needs_background": "light"
          },
          "output_type": "display_data"
        }
      ],
      "source": [
        "top_genres = genre_counts.head(10)\n",
        "\n",
        "plt.figure(figsize=(12, 6))\n",
        "sns.barplot(x=top_genres.index, y=top_genres.values)\n",
        "plt.title('Топ-10 жанров по количеству фильмов с государственной поддержкой')\n",
        "plt.xlabel('Жанр')\n",
        "plt.ylabel('Количество фильмов')\n",
        "plt.xticks(rotation=45)\n",
        "plt.show()\n",
        "\n"
      ]
    },
    {
      "cell_type": "markdown",
      "metadata": {
        "id": "QcsA9zAO3DsL"
      },
      "source": [
        "Наиболее популярный жанр с гос. поддержкой это драмы."
      ]
    },
    {
      "cell_type": "code",
      "execution_count": null,
      "metadata": {
        "scrolled": true,
        "id": "XAMn71Ui3DsL",
        "outputId": "bbfb2fdc-e341-4fe0-b28d-9207e6d12e3e"
      },
      "outputs": [
        {
          "name": "stdout",
          "output_type": "stream",
          "text": [
            "Количество успешных фильмов: 54\n",
            "Количество неуспешных фильмов: 247\n"
          ]
        },
        {
          "data": {
            "text/html": [
              "<div>\n",
              "<style scoped>\n",
              "    .dataframe tbody tr th:only-of-type {\n",
              "        vertical-align: middle;\n",
              "    }\n",
              "\n",
              "    .dataframe tbody tr th {\n",
              "        vertical-align: top;\n",
              "    }\n",
              "\n",
              "    .dataframe thead th {\n",
              "        text-align: right;\n",
              "    }\n",
              "</style>\n",
              "<table border=\"1\" class=\"dataframe\">\n",
              "  <thead>\n",
              "    <tr style=\"text-align: right;\">\n",
              "      <th></th>\n",
              "      <th>title</th>\n",
              "      <th>puNumber</th>\n",
              "      <th>show_start_date</th>\n",
              "      <th>type</th>\n",
              "      <th>film_studio</th>\n",
              "      <th>production_country</th>\n",
              "      <th>director</th>\n",
              "      <th>producer</th>\n",
              "      <th>age_restriction</th>\n",
              "      <th>refundable_support</th>\n",
              "      <th>...</th>\n",
              "      <th>genres</th>\n",
              "      <th>box_office</th>\n",
              "      <th>year</th>\n",
              "      <th>director_first</th>\n",
              "      <th>genres_first</th>\n",
              "      <th>total_support</th>\n",
              "      <th>%_total_support</th>\n",
              "      <th>%_refundable_support</th>\n",
              "      <th>%_nonrefundable_support</th>\n",
              "      <th>profitability</th>\n",
              "    </tr>\n",
              "  </thead>\n",
              "  <tbody>\n",
              "    <tr>\n",
              "      <th>1902</th>\n",
              "      <td>Призрак.</td>\n",
              "      <td>111001815</td>\n",
              "      <td>2015-03-02 12:00:00+00:00</td>\n",
              "      <td>Художественный</td>\n",
              "      <td>ООО Водород 2011</td>\n",
              "      <td>Россия</td>\n",
              "      <td>А.Войтинский</td>\n",
              "      <td>С.Сельянов</td>\n",
              "      <td>6+ - для детей старше 6 лет</td>\n",
              "      <td>0.0</td>\n",
              "      <td>...</td>\n",
              "      <td>триллер,боевик,приключения</td>\n",
              "      <td>352804320.4</td>\n",
              "      <td>2015</td>\n",
              "      <td>А.Войтинский</td>\n",
              "      <td>триллер</td>\n",
              "      <td>75000000.0</td>\n",
              "      <td>0.537436</td>\n",
              "      <td>0.000000</td>\n",
              "      <td>0.537436</td>\n",
              "      <td>2.528130</td>\n",
              "    </tr>\n",
              "    <tr>\n",
              "      <th>1986</th>\n",
              "      <td>Елки Лохматые</td>\n",
              "      <td>111023114</td>\n",
              "      <td>2014-12-10 12:00:00+00:00</td>\n",
              "      <td>Художественный</td>\n",
              "      <td>ООО ТаББаК</td>\n",
              "      <td>Россия</td>\n",
              "      <td>Максим Свешников</td>\n",
              "      <td>Тимур Бекмамбетов, Евгения Аронова</td>\n",
              "      <td>6+ - для детей старше 6 лет</td>\n",
              "      <td>26000000.0</td>\n",
              "      <td>...</td>\n",
              "      <td>семейный,комедия</td>\n",
              "      <td>121225633.8</td>\n",
              "      <td>2014</td>\n",
              "      <td>Максим Свешников</td>\n",
              "      <td>семейный</td>\n",
              "      <td>56000000.0</td>\n",
              "      <td>0.700000</td>\n",
              "      <td>0.325000</td>\n",
              "      <td>0.375000</td>\n",
              "      <td>1.515320</td>\n",
              "    </tr>\n",
              "    <tr>\n",
              "      <th>2004</th>\n",
              "      <td>Снежная Королева 2 Перезаморозка</td>\n",
              "      <td>114000214</td>\n",
              "      <td>2014-11-13 12:00:00+00:00</td>\n",
              "      <td>Анимационный</td>\n",
              "      <td>ООО ВИЗАРТ ФИЛЬМ</td>\n",
              "      <td>Россия</td>\n",
              "      <td>А.Цицилин</td>\n",
              "      <td>ООО ВИЗАРТ ФИЛЬМ, ООО ТаББаК</td>\n",
              "      <td>0+ - для любой зрительской аудитории</td>\n",
              "      <td>30000000.0</td>\n",
              "      <td>...</td>\n",
              "      <td>мультфильм,фэнтези,приключения</td>\n",
              "      <td>313489846.5</td>\n",
              "      <td>2014</td>\n",
              "      <td>А.Цицилин</td>\n",
              "      <td>мультфильм</td>\n",
              "      <td>70000000.0</td>\n",
              "      <td>0.277239</td>\n",
              "      <td>0.118817</td>\n",
              "      <td>0.158422</td>\n",
              "      <td>1.241595</td>\n",
              "    </tr>\n",
              "    <tr>\n",
              "      <th>2131</th>\n",
              "      <td>Битва за Севастополь</td>\n",
              "      <td>111001415</td>\n",
              "      <td>2015-02-20 12:00:00+00:00</td>\n",
              "      <td>Художественный</td>\n",
              "      <td>ООО Кинокомпания Новые люди, ООО Студия Кинодел</td>\n",
              "      <td>Россия-Украина</td>\n",
              "      <td>С.Мокрицкий</td>\n",
              "      <td>Н.Мокрицкая, Е.Олесов</td>\n",
              "      <td>12+ - для детей старше 12 лет</td>\n",
              "      <td>0.0</td>\n",
              "      <td>...</td>\n",
              "      <td>биография,военный,драма</td>\n",
              "      <td>401804461.9</td>\n",
              "      <td>2015</td>\n",
              "      <td>С.Мокрицкий</td>\n",
              "      <td>биография</td>\n",
              "      <td>27510000.0</td>\n",
              "      <td>0.210000</td>\n",
              "      <td>0.000000</td>\n",
              "      <td>0.210000</td>\n",
              "      <td>3.067210</td>\n",
              "    </tr>\n",
              "    <tr>\n",
              "      <th>2204</th>\n",
              "      <td>8 новых свиданий</td>\n",
              "      <td>111014914</td>\n",
              "      <td>2014-10-30 12:00:00+00:00</td>\n",
              "      <td>Художественный</td>\n",
              "      <td>ООО Смарт ТВ Продакшн</td>\n",
              "      <td>Россия</td>\n",
              "      <td>М.Бальчюнас</td>\n",
              "      <td>ООО Грин Филмс, ООО ПЦ Горад</td>\n",
              "      <td>12+ - для детей старше 12 лет</td>\n",
              "      <td>0.0</td>\n",
              "      <td>...</td>\n",
              "      <td>комедия</td>\n",
              "      <td>393344626.3</td>\n",
              "      <td>2014</td>\n",
              "      <td>М.Бальчюнас</td>\n",
              "      <td>комедия</td>\n",
              "      <td>30000000.0</td>\n",
              "      <td>0.387588</td>\n",
              "      <td>0.000000</td>\n",
              "      <td>0.387588</td>\n",
              "      <td>5.081857</td>\n",
              "    </tr>\n",
              "  </tbody>\n",
              "</table>\n",
              "<p>5 rows × 24 columns</p>\n",
              "</div>"
            ],
            "text/plain": [
              "                                 title   puNumber           show_start_date  \\\n",
              "1902                          Призрак.  111001815 2015-03-02 12:00:00+00:00   \n",
              "1986                     Елки Лохматые  111023114 2014-12-10 12:00:00+00:00   \n",
              "2004  Снежная Королева 2 Перезаморозка  114000214 2014-11-13 12:00:00+00:00   \n",
              "2131              Битва за Севастополь  111001415 2015-02-20 12:00:00+00:00   \n",
              "2204                  8 новых свиданий  111014914 2014-10-30 12:00:00+00:00   \n",
              "\n",
              "                type                                      film_studio  \\\n",
              "1902  Художественный                                 ООО Водород 2011   \n",
              "1986  Художественный                                       ООО ТаББаК   \n",
              "2004    Анимационный                                 ООО ВИЗАРТ ФИЛЬМ   \n",
              "2131  Художественный  ООО Кинокомпания Новые люди, ООО Студия Кинодел   \n",
              "2204  Художественный                            ООО Смарт ТВ Продакшн   \n",
              "\n",
              "     production_country          director                            producer  \\\n",
              "1902             Россия      А.Войтинский                          С.Сельянов   \n",
              "1986             Россия  Максим Свешников  Тимур Бекмамбетов, Евгения Аронова   \n",
              "2004             Россия         А.Цицилин        ООО ВИЗАРТ ФИЛЬМ, ООО ТаББаК   \n",
              "2131     Россия-Украина       С.Мокрицкий               Н.Мокрицкая, Е.Олесов   \n",
              "2204             Россия       М.Бальчюнас        ООО Грин Филмс, ООО ПЦ Горад   \n",
              "\n",
              "                           age_restriction  refundable_support  ...  \\\n",
              "1902           6+ - для детей старше 6 лет                 0.0  ...   \n",
              "1986           6+ - для детей старше 6 лет          26000000.0  ...   \n",
              "2004  0+ - для любой зрительской аудитории          30000000.0  ...   \n",
              "2131         12+ - для детей старше 12 лет                 0.0  ...   \n",
              "2204         12+ - для детей старше 12 лет                 0.0  ...   \n",
              "\n",
              "                              genres   box_office  year    director_first  \\\n",
              "1902      триллер,боевик,приключения  352804320.4  2015      А.Войтинский   \n",
              "1986                семейный,комедия  121225633.8  2014  Максим Свешников   \n",
              "2004  мультфильм,фэнтези,приключения  313489846.5  2014         А.Цицилин   \n",
              "2131         биография,военный,драма  401804461.9  2015       С.Мокрицкий   \n",
              "2204                         комедия  393344626.3  2014       М.Бальчюнас   \n",
              "\n",
              "     genres_first  total_support  %_total_support %_refundable_support  \\\n",
              "1902      триллер     75000000.0         0.537436             0.000000   \n",
              "1986     семейный     56000000.0         0.700000             0.325000   \n",
              "2004   мультфильм     70000000.0         0.277239             0.118817   \n",
              "2131    биография     27510000.0         0.210000             0.000000   \n",
              "2204      комедия     30000000.0         0.387588             0.000000   \n",
              "\n",
              "     %_nonrefundable_support  profitability  \n",
              "1902                0.537436       2.528130  \n",
              "1986                0.375000       1.515320  \n",
              "2004                0.158422       1.241595  \n",
              "2131                0.210000       3.067210  \n",
              "2204                0.387588       5.081857  \n",
              "\n",
              "[5 rows x 24 columns]"
            ]
          },
          "execution_count": 74,
          "metadata": {},
          "output_type": "execute_result"
        }
      ],
      "source": [
        "successful_films = data_buget_not_null[data_buget_not_null['profitability'] > 1.2] # более 1.2, так как окупаемость в хорошем случае должна быть больше 20%.\n",
        "unsuccessful_films = data_buget_not_null[data_buget_not_null['profitability'] <= 1.2]\n",
        "\n",
        "print(f\"Количество успешных фильмов: {len(successful_films)}\")\n",
        "print(f\"Количество неуспешных фильмов: {len(unsuccessful_films)}\")\n",
        "successful_films.head()"
      ]
    },
    {
      "cell_type": "code",
      "execution_count": null,
      "metadata": {
        "id": "GuBtud3D3DsM",
        "outputId": "e6f6d1da-f846-42a0-a1f4-7bb96ea55301"
      },
      "outputs": [
        {
          "data": {
            "text/plain": [
              "комедия                            14\n",
              "комедия,мелодрама                   5\n",
              "драма                               4\n",
              "мультфильм,приключения,семейный     4\n",
              "семейный,комедия                    2\n",
              "военный,драма,история               2\n",
              "спорт,драма                         2\n",
              "мультфильм,приключения,комедия      1\n",
              "драма,боевик                        1\n",
              "комедия,семейный,фантастика         1\n",
              "Name: genres, dtype: int64"
            ]
          },
          "execution_count": 75,
          "metadata": {},
          "output_type": "execute_result"
        }
      ],
      "source": [
        "successful_films['genres'].value_counts()[:10]"
      ]
    },
    {
      "cell_type": "markdown",
      "metadata": {
        "id": "CwZKXb4L3DsM"
      },
      "source": [
        "# Вывод\n",
        "Исследовали фильмы, которые получили государственную поддержку. Общая сумма гос. поддержки: 18 828 718 847.0\n",
        "Средняя сумма поддержки на фильм: 59 584 553.31329114. Провели анализ окупаемости фильмов.Большинство фильмов  с гос. поддержкой были сняты для аудитории 16+. Наиболее популярный жанр с гос. поддержкой это драмы. Количество успешных фильмов: 54 из 316, у которых окупаемость была более 20 %."
      ]
    },
    {
      "cell_type": "markdown",
      "metadata": {
        "id": "V2gYwMcPgFyd"
      },
      "source": [
        "### Шаг 5. Напишите общий вывод"
      ]
    },
    {
      "cell_type": "markdown",
      "metadata": {
        "id": "AYRg3dzXgFye"
      },
      "source": [
        "### Выводы о прокатных удостоверениях, сборах и государственной поддержке фильмов\n",
        "\n",
        "Данные о фильмах были представлены в двух файлах. Объединили два файла по столбцу puNumber. Заполнили пропущенные значение в refundable_support и nonrefundable_support 0. Удалили строки с неизвестными значениями в столбцах  film_studio, production_country, director. Остальные столбцы оставили без изменений. Удалили явные дубликаты. А также дубликаты, у которых был одинаковый puNumber.  Также были добавлены новые столбцы с годом,с именем главного режиссера и с долью государственной поддержки от общего бюджета фильма. Были удалены лишние пробелы в столбцах с категориальнами признаками. Были удалены фильмы, у которых бюджет был равен 0, когда refundable_support был больше 0, так как в бюджет уже входит это сумма. В среднем за год в прокат выходило около  678 фильмов за период 2010-2019 год. Минимальное количество фильмов было зафиксировано в 2011 году 475, а максимальное – в 2019 году (914 фильмов). Из этих фильмов -316 фильмов получили гос. поддержку.  Минимальные сборы  были в 2010.0 году: 2 428 654. Максимальные сборы в 2018.0 году: 49 251 950 180.\n",
        "\n",
        "\n",
        "Был проведен исследовательский анализ данных.  Наиболее полными представлены годы 2015-2017, где все фильмы имели данные о прокате (70% полнота). В эти годы информация о прокате была собрана почти полностью.В то же время, год 2010 имеет наименьшую долю фильмов с данными о прокате (10%), что может указывать на недостаток информации или на то, что не все фильмы были учтены в отчетах о прокате. Посчитали среднюю и медианную сумму сборов для каждого года. А также выяснили, что возрастные ограничения «16+» и «12+» явно являются наиболее успешными по сборам, что может говорить о том, что такие фильмы пользуются большим спросом среди зрителей.\n",
        "\n",
        "\n",
        "Существует связь между возрастной категорией фильмов и их кассовыми сборами. Фильмы категории 0+ почти не достигают значительных сборов, а фильмы с рейтингом 18+ обычно собирают меньше, чем картины категорий 6+/12+/16+. Это может быть связано с тем, что фильмы для более младшей аудитории смотрят вместе с родителями, тогда как фильмы для взрослых ориентированы только на совершеннолетних зрителей. Общая сумма гос. поддержки: 18 828 718 847. Средняя сумма гос. поддержки на фильм: 59 584 553. Большинство фильмов с гос.поддержкой были сняты для аудитории 16+. Наиболее большая окупаемость фильма равна 19, то есть фильм окупился в 19 раз.  Количество успешных фильмов - 54, это фильмы с окупаемостью более 20%. Наиболее популярный жанр с гос. поддержкой это драмы. Фильмы с рейтингом больше 8.0, у которых была гос. поддержка: А зори здесь тихие...,БОЛЬШОЙ, Миллиард, Пока еще жива.\n"
      ]
    }
  ],
  "metadata": {
    "ExecuteTimeLog": [
      {
        "duration": 537,
        "start_time": "2021-07-07T10:12:08.634Z"
      },
      {
        "duration": 206,
        "start_time": "2021-07-07T10:12:30.191Z"
      },
      {
        "duration": 227,
        "start_time": "2021-07-07T10:12:33.078Z"
      },
      {
        "duration": 153,
        "start_time": "2021-07-07T10:13:42.146Z"
      },
      {
        "duration": 233,
        "start_time": "2021-07-07T10:30:09.252Z"
      },
      {
        "duration": 19,
        "start_time": "2021-07-07T10:30:15.577Z"
      },
      {
        "duration": 18,
        "start_time": "2021-07-07T10:30:57.348Z"
      },
      {
        "duration": 19,
        "start_time": "2021-07-07T10:31:17.452Z"
      },
      {
        "duration": 21,
        "start_time": "2021-07-07T10:31:32.227Z"
      },
      {
        "duration": 27,
        "start_time": "2021-07-07T10:32:06.588Z"
      },
      {
        "duration": 23,
        "start_time": "2021-07-07T10:32:43.645Z"
      },
      {
        "duration": 24,
        "start_time": "2021-07-07T10:33:06.948Z"
      },
      {
        "duration": 7,
        "start_time": "2021-07-07T10:33:28.558Z"
      },
      {
        "duration": 23,
        "start_time": "2021-07-07T10:33:43.761Z"
      },
      {
        "duration": 28,
        "start_time": "2021-07-07T10:34:13.466Z"
      },
      {
        "duration": 23,
        "start_time": "2021-07-07T10:35:56.187Z"
      },
      {
        "duration": 6,
        "start_time": "2021-07-07T10:36:48.182Z"
      },
      {
        "duration": 14,
        "start_time": "2021-07-07T10:37:49.641Z"
      },
      {
        "duration": 6,
        "start_time": "2021-07-07T10:38:06.694Z"
      },
      {
        "duration": 6,
        "start_time": "2021-07-07T10:38:13.493Z"
      },
      {
        "duration": 19,
        "start_time": "2021-07-07T10:38:44.056Z"
      },
      {
        "duration": 186,
        "start_time": "2021-07-07T10:48:35.618Z"
      },
      {
        "duration": 24,
        "start_time": "2021-07-07T10:48:51.498Z"
      },
      {
        "duration": 20,
        "start_time": "2021-07-07T10:48:59.415Z"
      },
      {
        "duration": 20,
        "start_time": "2021-07-07T10:53:02.195Z"
      },
      {
        "duration": 188,
        "start_time": "2021-07-07T10:54:40.486Z"
      },
      {
        "duration": 115,
        "start_time": "2021-07-07T10:54:52.552Z"
      },
      {
        "duration": 214,
        "start_time": "2021-07-07T10:54:56.354Z"
      },
      {
        "duration": 47,
        "start_time": "2021-07-07T10:54:58.282Z"
      },
      {
        "duration": 217,
        "start_time": "2021-07-07T10:59:16.075Z"
      },
      {
        "duration": 51,
        "start_time": "2021-07-07T10:59:16.243Z"
      },
      {
        "duration": 578,
        "start_time": "2021-07-07T10:59:18.774Z"
      },
      {
        "duration": 161,
        "start_time": "2021-07-07T10:59:21.238Z"
      },
      {
        "duration": 59,
        "start_time": "2021-07-07T10:59:21.453Z"
      },
      {
        "duration": 3,
        "start_time": "2021-07-07T11:02:10.786Z"
      },
      {
        "duration": 13,
        "start_time": "2021-07-07T11:07:07.722Z"
      },
      {
        "duration": 26,
        "start_time": "2021-07-07T11:07:17.958Z"
      },
      {
        "duration": 22,
        "start_time": "2021-07-07T11:08:17.939Z"
      },
      {
        "duration": 212,
        "start_time": "2021-07-07T11:08:19.665Z"
      },
      {
        "duration": 21,
        "start_time": "2021-07-07T11:08:29.945Z"
      },
      {
        "duration": 31,
        "start_time": "2021-07-07T11:08:38.899Z"
      },
      {
        "duration": 23,
        "start_time": "2021-07-07T11:08:54.527Z"
      },
      {
        "duration": 8,
        "start_time": "2021-07-07T11:18:55.974Z"
      },
      {
        "duration": 7,
        "start_time": "2021-07-07T11:19:03.639Z"
      },
      {
        "duration": 7,
        "start_time": "2021-07-07T11:19:06.444Z"
      },
      {
        "duration": 578,
        "start_time": "2021-07-07T12:09:59.576Z"
      },
      {
        "duration": 195,
        "start_time": "2021-07-07T12:10:00.156Z"
      },
      {
        "duration": 115,
        "start_time": "2021-07-07T12:10:00.353Z"
      },
      {
        "duration": 3,
        "start_time": "2021-07-07T12:10:00.470Z"
      },
      {
        "duration": 32,
        "start_time": "2021-07-07T12:10:00.474Z"
      },
      {
        "duration": 23,
        "start_time": "2021-07-07T12:10:00.508Z"
      },
      {
        "duration": 19,
        "start_time": "2021-07-07T12:10:00.533Z"
      },
      {
        "duration": 44,
        "start_time": "2021-07-07T12:10:00.553Z"
      },
      {
        "duration": 7,
        "start_time": "2021-07-07T12:10:00.600Z"
      },
      {
        "duration": 7,
        "start_time": "2021-07-07T12:19:45.761Z"
      },
      {
        "duration": 21,
        "start_time": "2021-07-07T12:21:35.482Z"
      },
      {
        "duration": 21,
        "start_time": "2021-07-07T12:29:23.569Z"
      },
      {
        "duration": 525,
        "start_time": "2021-07-07T12:29:44.542Z"
      },
      {
        "duration": 214,
        "start_time": "2021-07-07T12:29:45.069Z"
      },
      {
        "duration": 92,
        "start_time": "2021-07-07T12:29:45.285Z"
      },
      {
        "duration": 3,
        "start_time": "2021-07-07T12:29:45.379Z"
      },
      {
        "duration": 28,
        "start_time": "2021-07-07T12:29:45.384Z"
      },
      {
        "duration": 23,
        "start_time": "2021-07-07T12:29:45.413Z"
      },
      {
        "duration": 21,
        "start_time": "2021-07-07T12:29:45.437Z"
      },
      {
        "duration": 41,
        "start_time": "2021-07-07T12:29:45.460Z"
      },
      {
        "duration": 7,
        "start_time": "2021-07-07T12:29:45.502Z"
      },
      {
        "duration": 20,
        "start_time": "2021-07-07T12:29:45.511Z"
      },
      {
        "duration": 12,
        "start_time": "2021-07-07T12:34:02.800Z"
      },
      {
        "duration": 7,
        "start_time": "2021-07-07T12:35:10.479Z"
      },
      {
        "duration": 8,
        "start_time": "2021-07-07T12:35:22.440Z"
      },
      {
        "duration": 6,
        "start_time": "2021-07-07T12:35:35.649Z"
      },
      {
        "duration": 6,
        "start_time": "2021-07-07T12:35:43.107Z"
      },
      {
        "duration": 22,
        "start_time": "2021-07-07T12:38:03.029Z"
      },
      {
        "duration": 10,
        "start_time": "2021-07-07T12:38:06.592Z"
      },
      {
        "duration": 563,
        "start_time": "2021-07-07T12:38:46.493Z"
      },
      {
        "duration": 265,
        "start_time": "2021-07-07T12:38:47.058Z"
      },
      {
        "duration": 94,
        "start_time": "2021-07-07T12:38:47.325Z"
      },
      {
        "duration": 3,
        "start_time": "2021-07-07T12:38:47.422Z"
      },
      {
        "duration": 30,
        "start_time": "2021-07-07T12:38:47.427Z"
      },
      {
        "duration": 16,
        "start_time": "2021-07-07T12:38:53.305Z"
      },
      {
        "duration": 10,
        "start_time": "2021-07-07T12:38:53.499Z"
      },
      {
        "duration": 8,
        "start_time": "2021-07-07T12:39:48.161Z"
      },
      {
        "duration": 27,
        "start_time": "2021-07-07T12:41:17.629Z"
      },
      {
        "duration": 17,
        "start_time": "2021-07-07T12:41:17.867Z"
      },
      {
        "duration": 21,
        "start_time": "2021-07-07T12:41:19.310Z"
      },
      {
        "duration": 7,
        "start_time": "2021-07-07T12:41:19.544Z"
      },
      {
        "duration": 20,
        "start_time": "2021-07-07T12:41:20.504Z"
      },
      {
        "duration": 554,
        "start_time": "2021-07-07T12:56:23.696Z"
      },
      {
        "duration": 200,
        "start_time": "2021-07-07T12:56:25.234Z"
      },
      {
        "duration": 119,
        "start_time": "2021-07-07T12:56:25.480Z"
      },
      {
        "duration": 4,
        "start_time": "2021-07-07T12:56:25.762Z"
      },
      {
        "duration": 26,
        "start_time": "2021-07-07T12:56:27.172Z"
      },
      {
        "duration": 12,
        "start_time": "2021-07-07T12:56:29.051Z"
      },
      {
        "duration": 10,
        "start_time": "2021-07-07T12:56:29.291Z"
      },
      {
        "duration": 8,
        "start_time": "2021-07-07T12:56:29.623Z"
      },
      {
        "duration": 28,
        "start_time": "2021-07-07T12:56:32.137Z"
      },
      {
        "duration": 19,
        "start_time": "2021-07-07T12:56:39.785Z"
      },
      {
        "duration": 20,
        "start_time": "2021-07-07T12:56:44.297Z"
      },
      {
        "duration": 7,
        "start_time": "2021-07-07T12:56:45.392Z"
      },
      {
        "duration": 23,
        "start_time": "2021-07-07T12:56:46.615Z"
      },
      {
        "duration": 4,
        "start_time": "2021-07-07T12:57:06.625Z"
      },
      {
        "duration": 32,
        "start_time": "2021-07-07T12:57:36.690Z"
      },
      {
        "duration": 18,
        "start_time": "2021-07-07T12:58:00.149Z"
      },
      {
        "duration": 15,
        "start_time": "2021-07-07T12:59:16.793Z"
      },
      {
        "duration": 7,
        "start_time": "2021-07-07T13:19:22.624Z"
      },
      {
        "duration": 6,
        "start_time": "2021-07-07T14:17:33.527Z"
      },
      {
        "duration": 9,
        "start_time": "2021-07-07T14:17:48.409Z"
      },
      {
        "duration": 8,
        "start_time": "2021-07-07T14:20:13.060Z"
      },
      {
        "duration": 8,
        "start_time": "2021-07-07T14:20:37.957Z"
      },
      {
        "duration": 8,
        "start_time": "2021-07-07T14:20:47.470Z"
      },
      {
        "duration": 9,
        "start_time": "2021-07-07T14:20:54.503Z"
      },
      {
        "duration": 10,
        "start_time": "2021-07-07T14:28:57.763Z"
      },
      {
        "duration": 3,
        "start_time": "2021-07-07T14:30:23.377Z"
      },
      {
        "duration": 3,
        "start_time": "2021-07-07T14:30:36.489Z"
      },
      {
        "duration": 103,
        "start_time": "2021-07-07T14:30:52.351Z"
      },
      {
        "duration": 8,
        "start_time": "2021-07-07T14:30:54.763Z"
      },
      {
        "duration": 8,
        "start_time": "2021-07-07T14:31:29.301Z"
      },
      {
        "duration": 13,
        "start_time": "2021-07-07T14:31:44.516Z"
      },
      {
        "duration": 7,
        "start_time": "2021-07-07T14:33:10.972Z"
      },
      {
        "duration": 11,
        "start_time": "2021-07-07T14:33:27.780Z"
      },
      {
        "duration": 8,
        "start_time": "2021-07-07T14:34:44.588Z"
      },
      {
        "duration": 57,
        "start_time": "2021-07-07T14:35:59.042Z"
      },
      {
        "duration": 3,
        "start_time": "2021-07-07T14:36:28.168Z"
      },
      {
        "duration": 5,
        "start_time": "2021-07-07T14:36:46.254Z"
      },
      {
        "duration": 4,
        "start_time": "2021-07-07T14:36:52.714Z"
      },
      {
        "duration": 3,
        "start_time": "2021-07-07T14:36:56.612Z"
      },
      {
        "duration": 4,
        "start_time": "2021-07-07T14:36:57.049Z"
      },
      {
        "duration": 3,
        "start_time": "2021-07-07T14:39:21.214Z"
      },
      {
        "duration": 7,
        "start_time": "2021-07-07T14:39:52.406Z"
      },
      {
        "duration": 11,
        "start_time": "2021-07-07T14:39:58.576Z"
      },
      {
        "duration": 9,
        "start_time": "2021-07-07T14:40:26.301Z"
      },
      {
        "duration": 10,
        "start_time": "2021-07-07T14:40:31.704Z"
      },
      {
        "duration": 11,
        "start_time": "2021-07-07T14:40:36.249Z"
      },
      {
        "duration": 10,
        "start_time": "2021-07-07T14:40:39.783Z"
      },
      {
        "duration": 9,
        "start_time": "2021-07-07T14:40:48.558Z"
      },
      {
        "duration": 10,
        "start_time": "2021-07-07T14:40:57.143Z"
      },
      {
        "duration": 9,
        "start_time": "2021-07-07T14:41:06.074Z"
      },
      {
        "duration": 4324,
        "start_time": "2021-07-07T14:41:22.004Z"
      },
      {
        "duration": 11,
        "start_time": "2021-07-07T14:41:33.392Z"
      },
      {
        "duration": 9,
        "start_time": "2021-07-07T14:41:39.288Z"
      },
      {
        "duration": 569,
        "start_time": "2021-07-07T14:42:14.387Z"
      },
      {
        "duration": 197,
        "start_time": "2021-07-07T14:42:14.959Z"
      },
      {
        "duration": 84,
        "start_time": "2021-07-07T14:42:16.052Z"
      },
      {
        "duration": 4,
        "start_time": "2021-07-07T14:42:16.900Z"
      },
      {
        "duration": 27,
        "start_time": "2021-07-07T14:42:19.898Z"
      },
      {
        "duration": 12,
        "start_time": "2021-07-07T14:42:21.577Z"
      },
      {
        "duration": 9,
        "start_time": "2021-07-07T14:42:21.813Z"
      },
      {
        "duration": 9,
        "start_time": "2021-07-07T14:42:22.569Z"
      },
      {
        "duration": 29,
        "start_time": "2021-07-07T14:42:25.837Z"
      },
      {
        "duration": 20,
        "start_time": "2021-07-07T14:42:27.003Z"
      },
      {
        "duration": 21,
        "start_time": "2021-07-07T14:42:28.767Z"
      },
      {
        "duration": 7,
        "start_time": "2021-07-07T14:42:29.838Z"
      },
      {
        "duration": 4,
        "start_time": "2021-07-07T14:43:25.493Z"
      },
      {
        "duration": 7,
        "start_time": "2021-07-07T14:43:26.573Z"
      },
      {
        "duration": 10,
        "start_time": "2021-07-07T14:43:31.639Z"
      },
      {
        "duration": 9,
        "start_time": "2021-07-07T14:43:32.046Z"
      },
      {
        "duration": 10,
        "start_time": "2021-07-07T14:43:33.301Z"
      },
      {
        "duration": 12,
        "start_time": "2021-07-07T14:43:33.658Z"
      },
      {
        "duration": 8,
        "start_time": "2021-07-07T14:43:34.552Z"
      },
      {
        "duration": 9,
        "start_time": "2021-07-07T14:43:35.058Z"
      },
      {
        "duration": 12,
        "start_time": "2021-07-07T14:43:35.914Z"
      },
      {
        "duration": 17,
        "start_time": "2021-07-07T14:45:34.368Z"
      },
      {
        "duration": 512,
        "start_time": "2021-07-07T14:51:58.236Z"
      },
      {
        "duration": 223,
        "start_time": "2021-07-07T14:51:58.750Z"
      },
      {
        "duration": 93,
        "start_time": "2021-07-07T14:51:58.977Z"
      },
      {
        "duration": 4,
        "start_time": "2021-07-07T14:51:59.071Z"
      },
      {
        "duration": 37,
        "start_time": "2021-07-07T14:51:59.077Z"
      },
      {
        "duration": 18,
        "start_time": "2021-07-07T14:51:59.116Z"
      },
      {
        "duration": 10,
        "start_time": "2021-07-07T14:51:59.137Z"
      },
      {
        "duration": 8,
        "start_time": "2021-07-07T14:51:59.149Z"
      },
      {
        "duration": 54,
        "start_time": "2021-07-07T14:51:59.158Z"
      },
      {
        "duration": 18,
        "start_time": "2021-07-07T14:51:59.213Z"
      },
      {
        "duration": 22,
        "start_time": "2021-07-07T14:51:59.232Z"
      },
      {
        "duration": 36,
        "start_time": "2021-07-07T14:51:59.255Z"
      },
      {
        "duration": 7,
        "start_time": "2021-07-07T14:51:59.293Z"
      },
      {
        "duration": 10,
        "start_time": "2021-07-07T14:51:59.302Z"
      },
      {
        "duration": 9,
        "start_time": "2021-07-07T14:51:59.313Z"
      },
      {
        "duration": 11,
        "start_time": "2021-07-07T14:51:59.324Z"
      },
      {
        "duration": 8,
        "start_time": "2021-07-07T14:51:59.337Z"
      },
      {
        "duration": 46,
        "start_time": "2021-07-07T14:51:59.347Z"
      },
      {
        "duration": 22,
        "start_time": "2021-07-07T14:51:59.395Z"
      },
      {
        "duration": 24,
        "start_time": "2021-07-07T14:57:32.911Z"
      },
      {
        "duration": 7,
        "start_time": "2021-07-07T14:58:22.070Z"
      },
      {
        "duration": 4,
        "start_time": "2021-07-07T14:59:11.239Z"
      },
      {
        "duration": 25,
        "start_time": "2021-07-07T15:07:22.208Z"
      },
      {
        "duration": 16,
        "start_time": "2021-07-07T15:08:25.560Z"
      },
      {
        "duration": 15,
        "start_time": "2021-07-07T15:08:40.647Z"
      },
      {
        "duration": 14,
        "start_time": "2021-07-07T15:08:46.669Z"
      },
      {
        "duration": 533,
        "start_time": "2021-07-07T15:18:07.440Z"
      },
      {
        "duration": 173,
        "start_time": "2021-07-07T15:18:07.974Z"
      },
      {
        "duration": 84,
        "start_time": "2021-07-07T15:18:08.149Z"
      },
      {
        "duration": 3,
        "start_time": "2021-07-07T15:18:08.235Z"
      },
      {
        "duration": 30,
        "start_time": "2021-07-07T15:18:08.240Z"
      },
      {
        "duration": 22,
        "start_time": "2021-07-07T15:18:08.272Z"
      },
      {
        "duration": 11,
        "start_time": "2021-07-07T15:18:08.295Z"
      },
      {
        "duration": 11,
        "start_time": "2021-07-07T15:18:08.309Z"
      },
      {
        "duration": 40,
        "start_time": "2021-07-07T15:18:08.322Z"
      },
      {
        "duration": 42,
        "start_time": "2021-07-07T15:18:08.364Z"
      },
      {
        "duration": 22,
        "start_time": "2021-07-07T15:18:08.408Z"
      },
      {
        "duration": 5,
        "start_time": "2021-07-07T15:18:08.432Z"
      },
      {
        "duration": 13,
        "start_time": "2021-07-07T15:18:08.439Z"
      },
      {
        "duration": 9,
        "start_time": "2021-07-07T15:18:08.454Z"
      },
      {
        "duration": 32,
        "start_time": "2021-07-07T15:18:08.465Z"
      },
      {
        "duration": 10,
        "start_time": "2021-07-07T15:18:08.501Z"
      },
      {
        "duration": 7,
        "start_time": "2021-07-07T15:18:08.513Z"
      },
      {
        "duration": 11,
        "start_time": "2021-07-07T15:18:08.521Z"
      },
      {
        "duration": 17,
        "start_time": "2021-07-07T15:18:08.534Z"
      },
      {
        "duration": 44,
        "start_time": "2021-07-07T15:18:08.553Z"
      },
      {
        "duration": 22,
        "start_time": "2021-07-07T15:18:08.599Z"
      },
      {
        "duration": 61,
        "start_time": "2021-07-07T15:18:08.622Z"
      },
      {
        "duration": 7,
        "start_time": "2021-07-07T15:18:39.457Z"
      },
      {
        "duration": 5,
        "start_time": "2021-07-07T16:05:17.020Z"
      },
      {
        "duration": 5,
        "start_time": "2021-07-07T16:51:28.794Z"
      },
      {
        "duration": 546,
        "start_time": "2021-07-07T16:52:26.306Z"
      },
      {
        "duration": 203,
        "start_time": "2021-07-07T16:52:27.523Z"
      },
      {
        "duration": 85,
        "start_time": "2021-07-07T16:52:27.736Z"
      },
      {
        "duration": 4,
        "start_time": "2021-07-07T16:52:27.899Z"
      },
      {
        "duration": 25,
        "start_time": "2021-07-07T16:52:28.674Z"
      },
      {
        "duration": 8,
        "start_time": "2021-07-07T16:52:32.956Z"
      },
      {
        "duration": 18,
        "start_time": "2021-07-07T16:52:35.616Z"
      },
      {
        "duration": 6,
        "start_time": "2021-07-07T16:52:36.913Z"
      },
      {
        "duration": 11,
        "start_time": "2021-07-07T16:52:40.258Z"
      },
      {
        "duration": 10,
        "start_time": "2021-07-07T16:52:46.251Z"
      },
      {
        "duration": 8,
        "start_time": "2021-07-07T16:52:47.182Z"
      },
      {
        "duration": 27,
        "start_time": "2021-07-07T16:53:20.391Z"
      },
      {
        "duration": 20,
        "start_time": "2021-07-07T16:53:22.022Z"
      },
      {
        "duration": 23,
        "start_time": "2021-07-07T16:53:23.690Z"
      },
      {
        "duration": 8,
        "start_time": "2021-07-07T16:53:24.261Z"
      },
      {
        "duration": 4,
        "start_time": "2021-07-07T16:53:38.733Z"
      },
      {
        "duration": 7,
        "start_time": "2021-07-07T16:53:40.445Z"
      },
      {
        "duration": 11,
        "start_time": "2021-07-07T16:53:41.348Z"
      },
      {
        "duration": 13,
        "start_time": "2021-07-07T16:53:45.250Z"
      },
      {
        "duration": 12,
        "start_time": "2021-07-07T16:53:45.467Z"
      },
      {
        "duration": 4,
        "start_time": "2021-07-07T16:55:32.704Z"
      },
      {
        "duration": 12,
        "start_time": "2021-07-07T16:55:49.012Z"
      },
      {
        "duration": 18,
        "start_time": "2021-07-07T16:55:49.547Z"
      },
      {
        "duration": 611,
        "start_time": "2021-07-07T16:58:35.156Z"
      },
      {
        "duration": 200,
        "start_time": "2021-07-07T16:58:35.770Z"
      },
      {
        "duration": 86,
        "start_time": "2021-07-07T16:58:35.972Z"
      },
      {
        "duration": 3,
        "start_time": "2021-07-07T16:58:36.060Z"
      },
      {
        "duration": 27,
        "start_time": "2021-07-07T16:58:36.065Z"
      },
      {
        "duration": 8,
        "start_time": "2021-07-07T16:58:36.094Z"
      },
      {
        "duration": 17,
        "start_time": "2021-07-07T16:58:36.103Z"
      },
      {
        "duration": 5,
        "start_time": "2021-07-07T16:58:36.123Z"
      },
      {
        "duration": 11,
        "start_time": "2021-07-07T16:58:36.130Z"
      },
      {
        "duration": 7,
        "start_time": "2021-07-07T16:58:36.143Z"
      },
      {
        "duration": 37,
        "start_time": "2021-07-07T16:58:36.152Z"
      },
      {
        "duration": 27,
        "start_time": "2021-07-07T16:58:36.191Z"
      },
      {
        "duration": 19,
        "start_time": "2021-07-07T16:58:36.219Z"
      },
      {
        "duration": 49,
        "start_time": "2021-07-07T16:58:36.240Z"
      },
      {
        "duration": 6,
        "start_time": "2021-07-07T16:58:36.291Z"
      },
      {
        "duration": 3,
        "start_time": "2021-07-07T16:58:36.299Z"
      },
      {
        "duration": 13,
        "start_time": "2021-07-07T16:58:36.304Z"
      },
      {
        "duration": 10,
        "start_time": "2021-07-07T16:58:36.319Z"
      },
      {
        "duration": 10,
        "start_time": "2021-07-07T16:58:36.331Z"
      },
      {
        "duration": 44,
        "start_time": "2021-07-07T16:58:36.343Z"
      },
      {
        "duration": 4,
        "start_time": "2021-07-07T16:58:36.388Z"
      },
      {
        "duration": 13,
        "start_time": "2021-07-07T16:58:36.394Z"
      },
      {
        "duration": 16,
        "start_time": "2021-07-07T16:58:36.410Z"
      },
      {
        "duration": 8,
        "start_time": "2021-07-07T17:02:31.629Z"
      },
      {
        "duration": 8,
        "start_time": "2021-07-07T17:02:34.308Z"
      },
      {
        "duration": 6,
        "start_time": "2021-07-07T17:05:13.483Z"
      },
      {
        "duration": 17,
        "start_time": "2021-07-07T17:05:20.606Z"
      },
      {
        "duration": 7,
        "start_time": "2021-07-07T17:05:34.638Z"
      },
      {
        "duration": 3,
        "start_time": "2021-07-07T17:06:31.883Z"
      },
      {
        "duration": 570,
        "start_time": "2021-07-07T17:06:37.165Z"
      },
      {
        "duration": 174,
        "start_time": "2021-07-07T17:06:37.737Z"
      },
      {
        "duration": 47,
        "start_time": "2021-07-07T17:06:37.913Z"
      },
      {
        "duration": 3,
        "start_time": "2021-07-07T17:06:37.962Z"
      },
      {
        "duration": 27,
        "start_time": "2021-07-07T17:06:37.967Z"
      },
      {
        "duration": 7,
        "start_time": "2021-07-07T17:06:37.996Z"
      },
      {
        "duration": 16,
        "start_time": "2021-07-07T17:06:38.005Z"
      },
      {
        "duration": 6,
        "start_time": "2021-07-07T17:06:38.024Z"
      },
      {
        "duration": 12,
        "start_time": "2021-07-07T17:06:38.031Z"
      },
      {
        "duration": 41,
        "start_time": "2021-07-07T17:06:38.045Z"
      },
      {
        "duration": 8,
        "start_time": "2021-07-07T17:06:38.088Z"
      },
      {
        "duration": 26,
        "start_time": "2021-07-07T17:06:38.098Z"
      },
      {
        "duration": 17,
        "start_time": "2021-07-07T17:06:38.126Z"
      },
      {
        "duration": 43,
        "start_time": "2021-07-07T17:06:38.144Z"
      },
      {
        "duration": 6,
        "start_time": "2021-07-07T17:06:38.188Z"
      },
      {
        "duration": 5,
        "start_time": "2021-07-07T17:06:38.195Z"
      },
      {
        "duration": 9,
        "start_time": "2021-07-07T17:06:38.201Z"
      },
      {
        "duration": 12,
        "start_time": "2021-07-07T17:06:38.212Z"
      },
      {
        "duration": 11,
        "start_time": "2021-07-07T17:06:38.226Z"
      },
      {
        "duration": 47,
        "start_time": "2021-07-07T17:06:38.239Z"
      },
      {
        "duration": 4,
        "start_time": "2021-07-07T17:06:38.288Z"
      },
      {
        "duration": 13,
        "start_time": "2021-07-07T17:06:38.293Z"
      },
      {
        "duration": 5,
        "start_time": "2021-07-07T17:06:38.309Z"
      },
      {
        "duration": 18,
        "start_time": "2021-07-07T17:06:38.325Z"
      },
      {
        "duration": 20,
        "start_time": "2021-07-07T17:07:02.805Z"
      },
      {
        "duration": 19,
        "start_time": "2021-07-07T17:07:08.527Z"
      },
      {
        "duration": 19,
        "start_time": "2021-07-07T17:07:12.758Z"
      },
      {
        "duration": 22,
        "start_time": "2021-07-07T17:07:17.497Z"
      },
      {
        "duration": 19,
        "start_time": "2021-07-07T17:07:19.645Z"
      },
      {
        "duration": 10,
        "start_time": "2021-07-07T17:07:34.239Z"
      },
      {
        "duration": 17,
        "start_time": "2021-07-07T17:07:54.144Z"
      },
      {
        "duration": 14,
        "start_time": "2021-07-07T17:08:14.357Z"
      },
      {
        "duration": 616,
        "start_time": "2021-07-07T17:08:45.254Z"
      },
      {
        "duration": 178,
        "start_time": "2021-07-07T17:08:45.872Z"
      },
      {
        "duration": 60,
        "start_time": "2021-07-07T17:08:46.054Z"
      },
      {
        "duration": 3,
        "start_time": "2021-07-07T17:08:46.116Z"
      },
      {
        "duration": 26,
        "start_time": "2021-07-07T17:08:46.121Z"
      },
      {
        "duration": 7,
        "start_time": "2021-07-07T17:08:46.149Z"
      },
      {
        "duration": 17,
        "start_time": "2021-07-07T17:08:46.158Z"
      },
      {
        "duration": 14,
        "start_time": "2021-07-07T17:08:46.176Z"
      },
      {
        "duration": 17,
        "start_time": "2021-07-07T17:08:46.193Z"
      },
      {
        "duration": 9,
        "start_time": "2021-07-07T17:08:46.211Z"
      },
      {
        "duration": 21,
        "start_time": "2021-07-07T17:08:46.221Z"
      },
      {
        "duration": 49,
        "start_time": "2021-07-07T17:08:46.244Z"
      },
      {
        "duration": 24,
        "start_time": "2021-07-07T17:08:46.295Z"
      },
      {
        "duration": 22,
        "start_time": "2021-07-07T17:08:46.321Z"
      },
      {
        "duration": 6,
        "start_time": "2021-07-07T17:08:46.345Z"
      },
      {
        "duration": 5,
        "start_time": "2021-07-07T17:08:46.353Z"
      },
      {
        "duration": 13,
        "start_time": "2021-07-07T17:08:46.386Z"
      },
      {
        "duration": 12,
        "start_time": "2021-07-07T17:08:46.402Z"
      },
      {
        "duration": 10,
        "start_time": "2021-07-07T17:08:46.415Z"
      },
      {
        "duration": 7,
        "start_time": "2021-07-07T17:08:46.427Z"
      },
      {
        "duration": 8,
        "start_time": "2021-07-07T17:08:46.435Z"
      },
      {
        "duration": 68,
        "start_time": "2021-07-07T17:08:46.446Z"
      },
      {
        "duration": 13,
        "start_time": "2021-07-07T17:08:46.516Z"
      },
      {
        "duration": 78,
        "start_time": "2021-07-07T17:08:46.530Z"
      },
      {
        "duration": 40,
        "start_time": "2021-07-07T17:09:08.185Z"
      },
      {
        "duration": 16,
        "start_time": "2021-07-07T17:09:19.324Z"
      },
      {
        "duration": 21,
        "start_time": "2021-07-07T17:09:23.290Z"
      },
      {
        "duration": 13,
        "start_time": "2021-07-07T17:09:54.812Z"
      },
      {
        "duration": 13,
        "start_time": "2021-07-07T17:10:02.039Z"
      },
      {
        "duration": 10,
        "start_time": "2021-07-07T17:10:29.632Z"
      },
      {
        "duration": 13,
        "start_time": "2021-07-07T17:10:52.372Z"
      },
      {
        "duration": 13,
        "start_time": "2021-07-07T17:11:17.270Z"
      },
      {
        "duration": 13,
        "start_time": "2021-07-07T17:14:59.284Z"
      },
      {
        "duration": 547,
        "start_time": "2021-07-07T17:18:52.403Z"
      },
      {
        "duration": 163,
        "start_time": "2021-07-07T17:18:52.952Z"
      },
      {
        "duration": 44,
        "start_time": "2021-07-07T17:18:53.117Z"
      },
      {
        "duration": 3,
        "start_time": "2021-07-07T17:18:53.162Z"
      },
      {
        "duration": 26,
        "start_time": "2021-07-07T17:18:53.167Z"
      },
      {
        "duration": 6,
        "start_time": "2021-07-07T17:18:53.195Z"
      },
      {
        "duration": 15,
        "start_time": "2021-07-07T17:18:53.203Z"
      },
      {
        "duration": 5,
        "start_time": "2021-07-07T17:18:53.220Z"
      },
      {
        "duration": 11,
        "start_time": "2021-07-07T17:18:53.228Z"
      },
      {
        "duration": 9,
        "start_time": "2021-07-07T17:18:53.241Z"
      },
      {
        "duration": 41,
        "start_time": "2021-07-07T17:18:53.252Z"
      },
      {
        "duration": 33,
        "start_time": "2021-07-07T17:18:53.295Z"
      },
      {
        "duration": 19,
        "start_time": "2021-07-07T17:18:53.330Z"
      },
      {
        "duration": 49,
        "start_time": "2021-07-07T17:18:53.350Z"
      },
      {
        "duration": 5,
        "start_time": "2021-07-07T17:18:53.401Z"
      },
      {
        "duration": 5,
        "start_time": "2021-07-07T17:18:53.408Z"
      },
      {
        "duration": 11,
        "start_time": "2021-07-07T17:18:53.414Z"
      },
      {
        "duration": 9,
        "start_time": "2021-07-07T17:18:53.427Z"
      },
      {
        "duration": 10,
        "start_time": "2021-07-07T17:18:53.437Z"
      },
      {
        "duration": 39,
        "start_time": "2021-07-07T17:18:53.448Z"
      },
      {
        "duration": 26,
        "start_time": "2021-07-07T17:18:55.799Z"
      },
      {
        "duration": 598,
        "start_time": "2021-07-07T17:20:17.862Z"
      },
      {
        "duration": 161,
        "start_time": "2021-07-07T17:20:18.462Z"
      },
      {
        "duration": 45,
        "start_time": "2021-07-07T17:20:18.626Z"
      },
      {
        "duration": 4,
        "start_time": "2021-07-07T17:20:18.673Z"
      },
      {
        "duration": 38,
        "start_time": "2021-07-07T17:20:26.877Z"
      },
      {
        "duration": 7,
        "start_time": "2021-07-07T17:20:37.405Z"
      },
      {
        "duration": 19,
        "start_time": "2021-07-07T17:20:51.534Z"
      },
      {
        "duration": 5,
        "start_time": "2021-07-07T17:20:57.228Z"
      },
      {
        "duration": 7,
        "start_time": "2021-07-07T17:21:08.235Z"
      },
      {
        "duration": 19,
        "start_time": "2021-07-07T17:21:42.158Z"
      },
      {
        "duration": 14,
        "start_time": "2021-07-07T17:21:50.225Z"
      },
      {
        "duration": 22,
        "start_time": "2021-07-07T17:22:54.104Z"
      },
      {
        "duration": 5,
        "start_time": "2021-07-07T17:22:56.371Z"
      },
      {
        "duration": 14,
        "start_time": "2021-07-07T17:22:58.316Z"
      },
      {
        "duration": 5,
        "start_time": "2021-07-07T17:22:58.493Z"
      },
      {
        "duration": 35,
        "start_time": "2021-07-07T17:22:59.666Z"
      },
      {
        "duration": 6,
        "start_time": "2021-07-07T17:23:02.410Z"
      },
      {
        "duration": 611,
        "start_time": "2021-07-07T17:24:59.664Z"
      },
      {
        "duration": 178,
        "start_time": "2021-07-07T17:25:01.945Z"
      },
      {
        "duration": 47,
        "start_time": "2021-07-07T17:25:02.125Z"
      },
      {
        "duration": 2,
        "start_time": "2021-07-07T17:25:07.903Z"
      },
      {
        "duration": 254,
        "start_time": "2021-07-07T17:25:08.232Z"
      },
      {
        "duration": 182,
        "start_time": "2021-07-07T17:25:08.671Z"
      },
      {
        "duration": 6,
        "start_time": "2021-07-07T17:25:13.104Z"
      },
      {
        "duration": 36,
        "start_time": "2021-07-07T17:25:13.662Z"
      },
      {
        "duration": 7,
        "start_time": "2021-07-07T17:25:14.528Z"
      },
      {
        "duration": 24,
        "start_time": "2021-07-07T17:25:27.982Z"
      },
      {
        "duration": 3,
        "start_time": "2021-07-07T17:25:48.982Z"
      },
      {
        "duration": 165,
        "start_time": "2021-07-07T17:25:48.987Z"
      },
      {
        "duration": 50,
        "start_time": "2021-07-07T17:25:49.154Z"
      },
      {
        "duration": 4,
        "start_time": "2021-07-07T17:25:49.206Z"
      },
      {
        "duration": 26,
        "start_time": "2021-07-07T17:25:49.212Z"
      },
      {
        "duration": 7,
        "start_time": "2021-07-07T17:25:49.240Z"
      },
      {
        "duration": 16,
        "start_time": "2021-07-07T17:25:49.249Z"
      },
      {
        "duration": 22,
        "start_time": "2021-07-07T17:25:49.266Z"
      },
      {
        "duration": 16,
        "start_time": "2021-07-07T17:25:49.291Z"
      },
      {
        "duration": 9,
        "start_time": "2021-07-07T17:25:49.309Z"
      },
      {
        "duration": 7,
        "start_time": "2021-07-07T17:25:49.319Z"
      },
      {
        "duration": 28,
        "start_time": "2021-07-07T17:25:49.328Z"
      },
      {
        "duration": 44,
        "start_time": "2021-07-07T17:25:49.357Z"
      },
      {
        "duration": 22,
        "start_time": "2021-07-07T17:25:49.403Z"
      },
      {
        "duration": 7,
        "start_time": "2021-07-07T17:25:49.427Z"
      },
      {
        "duration": 3,
        "start_time": "2021-07-07T17:25:49.436Z"
      },
      {
        "duration": 44,
        "start_time": "2021-07-07T17:25:49.441Z"
      },
      {
        "duration": 12,
        "start_time": "2021-07-07T17:25:49.488Z"
      },
      {
        "duration": 13,
        "start_time": "2021-07-07T17:25:49.502Z"
      },
      {
        "duration": 10,
        "start_time": "2021-07-07T17:25:49.516Z"
      },
      {
        "duration": 62,
        "start_time": "2021-07-07T17:25:49.527Z"
      },
      {
        "duration": 26,
        "start_time": "2021-07-07T17:26:51.809Z"
      },
      {
        "duration": 26,
        "start_time": "2021-07-07T17:26:55.759Z"
      },
      {
        "duration": 26,
        "start_time": "2021-07-07T17:27:04.501Z"
      },
      {
        "duration": 25,
        "start_time": "2021-07-07T17:28:24.859Z"
      },
      {
        "duration": 21,
        "start_time": "2021-07-07T17:28:55.250Z"
      },
      {
        "duration": 21,
        "start_time": "2021-07-07T17:28:58.885Z"
      },
      {
        "duration": 7,
        "start_time": "2021-07-07T17:45:40.972Z"
      },
      {
        "duration": 13,
        "start_time": "2021-07-07T17:45:42.529Z"
      },
      {
        "duration": 27,
        "start_time": "2021-07-07T17:45:51.026Z"
      },
      {
        "duration": 518,
        "start_time": "2021-07-07T17:46:15.532Z"
      },
      {
        "duration": 235,
        "start_time": "2021-07-07T17:46:16.053Z"
      },
      {
        "duration": 80,
        "start_time": "2021-07-07T17:46:16.292Z"
      },
      {
        "duration": 5,
        "start_time": "2021-07-07T17:46:16.373Z"
      },
      {
        "duration": 26,
        "start_time": "2021-07-07T17:46:16.380Z"
      },
      {
        "duration": 7,
        "start_time": "2021-07-07T17:46:16.408Z"
      },
      {
        "duration": 16,
        "start_time": "2021-07-07T17:46:16.418Z"
      },
      {
        "duration": 5,
        "start_time": "2021-07-07T17:46:16.436Z"
      },
      {
        "duration": 13,
        "start_time": "2021-07-07T17:46:16.442Z"
      },
      {
        "duration": 35,
        "start_time": "2021-07-07T17:46:16.456Z"
      },
      {
        "duration": 8,
        "start_time": "2021-07-07T17:46:16.493Z"
      },
      {
        "duration": 28,
        "start_time": "2021-07-07T17:46:16.502Z"
      },
      {
        "duration": 17,
        "start_time": "2021-07-07T17:46:16.532Z"
      },
      {
        "duration": 44,
        "start_time": "2021-07-07T17:46:16.551Z"
      },
      {
        "duration": 6,
        "start_time": "2021-07-07T17:46:16.597Z"
      },
      {
        "duration": 4,
        "start_time": "2021-07-07T17:46:16.605Z"
      },
      {
        "duration": 9,
        "start_time": "2021-07-07T17:46:16.610Z"
      },
      {
        "duration": 9,
        "start_time": "2021-07-07T17:46:16.621Z"
      },
      {
        "duration": 10,
        "start_time": "2021-07-07T17:46:16.632Z"
      },
      {
        "duration": 43,
        "start_time": "2021-07-07T17:46:16.644Z"
      },
      {
        "duration": 26,
        "start_time": "2021-07-07T17:46:16.689Z"
      },
      {
        "duration": 19,
        "start_time": "2021-07-07T17:46:16.718Z"
      },
      {
        "duration": 8,
        "start_time": "2021-07-07T17:46:16.738Z"
      },
      {
        "duration": 43,
        "start_time": "2021-07-07T17:46:16.747Z"
      },
      {
        "duration": 19,
        "start_time": "2021-07-07T17:46:16.791Z"
      },
      {
        "duration": 9,
        "start_time": "2021-07-07T17:46:16.812Z"
      },
      {
        "duration": 60,
        "start_time": "2021-07-07T17:46:16.822Z"
      },
      {
        "duration": -8,
        "start_time": "2021-07-07T17:46:16.892Z"
      },
      {
        "duration": 12,
        "start_time": "2021-07-07T17:48:47.707Z"
      },
      {
        "duration": 553,
        "start_time": "2021-07-07T18:10:09.350Z"
      },
      {
        "duration": 230,
        "start_time": "2021-07-07T18:10:09.905Z"
      },
      {
        "duration": 97,
        "start_time": "2021-07-07T18:10:10.137Z"
      },
      {
        "duration": 5,
        "start_time": "2021-07-07T18:10:10.236Z"
      },
      {
        "duration": 29,
        "start_time": "2021-07-07T18:10:10.242Z"
      },
      {
        "duration": 7,
        "start_time": "2021-07-07T18:10:10.272Z"
      },
      {
        "duration": 15,
        "start_time": "2021-07-07T18:10:10.281Z"
      },
      {
        "duration": 4,
        "start_time": "2021-07-07T18:10:10.299Z"
      },
      {
        "duration": 14,
        "start_time": "2021-07-07T18:10:10.305Z"
      },
      {
        "duration": 8,
        "start_time": "2021-07-07T18:10:10.321Z"
      },
      {
        "duration": 8,
        "start_time": "2021-07-07T18:10:10.331Z"
      },
      {
        "duration": 56,
        "start_time": "2021-07-07T18:10:10.341Z"
      },
      {
        "duration": 19,
        "start_time": "2021-07-07T18:10:10.399Z"
      },
      {
        "duration": 23,
        "start_time": "2021-07-07T18:10:10.419Z"
      },
      {
        "duration": 6,
        "start_time": "2021-07-07T18:10:10.444Z"
      },
      {
        "duration": 9,
        "start_time": "2021-07-07T18:10:10.451Z"
      },
      {
        "duration": 30,
        "start_time": "2021-07-07T18:10:10.462Z"
      },
      {
        "duration": 9,
        "start_time": "2021-07-07T18:10:10.494Z"
      },
      {
        "duration": 14,
        "start_time": "2021-07-07T18:10:10.505Z"
      },
      {
        "duration": 7,
        "start_time": "2021-07-07T18:10:10.521Z"
      },
      {
        "duration": 26,
        "start_time": "2021-07-07T18:10:10.530Z"
      },
      {
        "duration": 44,
        "start_time": "2021-07-07T18:10:10.558Z"
      },
      {
        "duration": 7,
        "start_time": "2021-07-07T18:10:10.605Z"
      },
      {
        "duration": 11,
        "start_time": "2021-07-07T18:10:10.614Z"
      },
      {
        "duration": 19,
        "start_time": "2021-07-07T18:10:10.626Z"
      },
      {
        "duration": 44,
        "start_time": "2021-07-07T18:10:10.646Z"
      },
      {
        "duration": 516,
        "start_time": "2021-07-07T18:14:00.826Z"
      },
      {
        "duration": 230,
        "start_time": "2021-07-07T18:14:01.344Z"
      },
      {
        "duration": 105,
        "start_time": "2021-07-07T18:14:01.576Z"
      },
      {
        "duration": 5,
        "start_time": "2021-07-07T18:14:01.683Z"
      },
      {
        "duration": 46,
        "start_time": "2021-07-07T18:14:01.690Z"
      },
      {
        "duration": 7,
        "start_time": "2021-07-07T18:14:01.738Z"
      },
      {
        "duration": 20,
        "start_time": "2021-07-07T18:14:01.747Z"
      },
      {
        "duration": 16,
        "start_time": "2021-07-07T18:14:01.769Z"
      },
      {
        "duration": 14,
        "start_time": "2021-07-07T18:14:01.787Z"
      },
      {
        "duration": 15,
        "start_time": "2021-07-07T18:14:01.803Z"
      },
      {
        "duration": 12,
        "start_time": "2021-07-07T18:14:01.820Z"
      },
      {
        "duration": 35,
        "start_time": "2021-07-07T18:14:01.833Z"
      },
      {
        "duration": 31,
        "start_time": "2021-07-07T18:14:01.869Z"
      },
      {
        "duration": 37,
        "start_time": "2021-07-07T18:14:01.902Z"
      },
      {
        "duration": 8,
        "start_time": "2021-07-07T18:14:01.942Z"
      },
      {
        "duration": 16,
        "start_time": "2021-07-07T18:14:01.952Z"
      },
      {
        "duration": 13,
        "start_time": "2021-07-07T18:14:01.970Z"
      },
      {
        "duration": 32,
        "start_time": "2021-07-07T18:14:01.985Z"
      },
      {
        "duration": 11,
        "start_time": "2021-07-07T18:14:02.019Z"
      },
      {
        "duration": 22,
        "start_time": "2021-07-07T18:14:02.031Z"
      },
      {
        "duration": 27,
        "start_time": "2021-07-07T18:14:02.055Z"
      },
      {
        "duration": 18,
        "start_time": "2021-07-07T18:14:02.084Z"
      },
      {
        "duration": 18,
        "start_time": "2021-07-07T18:14:02.106Z"
      },
      {
        "duration": 11,
        "start_time": "2021-07-07T18:14:02.126Z"
      },
      {
        "duration": 21,
        "start_time": "2021-07-07T18:14:02.138Z"
      },
      {
        "duration": 32,
        "start_time": "2021-07-07T18:14:02.161Z"
      },
      {
        "duration": 28,
        "start_time": "2021-07-07T18:14:44.295Z"
      },
      {
        "duration": 6,
        "start_time": "2021-07-07T18:15:05.834Z"
      },
      {
        "duration": 511,
        "start_time": "2021-07-07T18:15:41.541Z"
      },
      {
        "duration": 183,
        "start_time": "2021-07-07T18:15:42.054Z"
      },
      {
        "duration": 50,
        "start_time": "2021-07-07T18:15:42.239Z"
      },
      {
        "duration": 5,
        "start_time": "2021-07-07T18:15:42.291Z"
      },
      {
        "duration": 48,
        "start_time": "2021-07-07T18:15:42.297Z"
      },
      {
        "duration": 8,
        "start_time": "2021-07-07T18:15:42.346Z"
      },
      {
        "duration": 17,
        "start_time": "2021-07-07T18:15:42.356Z"
      },
      {
        "duration": 15,
        "start_time": "2021-07-07T18:15:42.375Z"
      },
      {
        "duration": 12,
        "start_time": "2021-07-07T18:15:42.392Z"
      },
      {
        "duration": 7,
        "start_time": "2021-07-07T18:15:42.406Z"
      },
      {
        "duration": 7,
        "start_time": "2021-07-07T18:15:42.415Z"
      },
      {
        "duration": 29,
        "start_time": "2021-07-07T18:15:42.423Z"
      },
      {
        "duration": 43,
        "start_time": "2021-07-07T18:15:42.453Z"
      },
      {
        "duration": 18,
        "start_time": "2021-07-07T18:15:42.497Z"
      },
      {
        "duration": 6,
        "start_time": "2021-07-07T18:15:42.516Z"
      },
      {
        "duration": 3,
        "start_time": "2021-07-07T18:15:42.523Z"
      },
      {
        "duration": 18,
        "start_time": "2021-07-07T18:15:42.528Z"
      },
      {
        "duration": 10,
        "start_time": "2021-07-07T18:15:42.547Z"
      },
      {
        "duration": 36,
        "start_time": "2021-07-07T18:15:42.559Z"
      },
      {
        "duration": 8,
        "start_time": "2021-07-07T18:15:42.597Z"
      },
      {
        "duration": 28,
        "start_time": "2021-07-07T18:15:42.606Z"
      },
      {
        "duration": 52,
        "start_time": "2021-07-07T18:15:42.635Z"
      },
      {
        "duration": 7,
        "start_time": "2021-07-07T18:15:42.690Z"
      },
      {
        "duration": 10,
        "start_time": "2021-07-07T18:15:42.699Z"
      },
      {
        "duration": 19,
        "start_time": "2021-07-07T18:15:42.711Z"
      },
      {
        "duration": 9,
        "start_time": "2021-07-07T18:15:42.732Z"
      },
      {
        "duration": 5,
        "start_time": "2021-07-07T18:15:42.743Z"
      },
      {
        "duration": 1450,
        "start_time": "2021-07-07T18:15:51.984Z"
      },
      {
        "duration": 161,
        "start_time": "2021-07-07T18:15:53.435Z"
      },
      {
        "duration": 124,
        "start_time": "2021-07-07T18:15:53.598Z"
      },
      {
        "duration": 5,
        "start_time": "2021-07-07T18:15:53.724Z"
      },
      {
        "duration": 34,
        "start_time": "2021-07-07T18:15:53.730Z"
      },
      {
        "duration": 7,
        "start_time": "2021-07-07T18:15:53.765Z"
      },
      {
        "duration": 15,
        "start_time": "2021-07-07T18:15:53.773Z"
      },
      {
        "duration": 5,
        "start_time": "2021-07-07T18:15:53.791Z"
      },
      {
        "duration": 19,
        "start_time": "2021-07-07T18:15:53.798Z"
      },
      {
        "duration": 9,
        "start_time": "2021-07-07T18:15:53.818Z"
      },
      {
        "duration": 19,
        "start_time": "2021-07-07T18:15:53.828Z"
      },
      {
        "duration": 27,
        "start_time": "2021-07-07T18:15:53.848Z"
      },
      {
        "duration": 16,
        "start_time": "2021-07-07T18:15:53.884Z"
      },
      {
        "duration": 29,
        "start_time": "2021-07-07T18:15:53.901Z"
      },
      {
        "duration": 5,
        "start_time": "2021-07-07T18:15:53.932Z"
      },
      {
        "duration": 15,
        "start_time": "2021-07-07T18:15:53.939Z"
      },
      {
        "duration": 13,
        "start_time": "2021-07-07T18:15:53.956Z"
      },
      {
        "duration": 20,
        "start_time": "2021-07-07T18:15:53.971Z"
      },
      {
        "duration": 14,
        "start_time": "2021-07-07T18:15:53.992Z"
      },
      {
        "duration": 9,
        "start_time": "2021-07-07T18:15:54.009Z"
      },
      {
        "duration": 28,
        "start_time": "2021-07-07T18:15:54.020Z"
      },
      {
        "duration": 50,
        "start_time": "2021-07-07T18:15:54.051Z"
      },
      {
        "duration": 8,
        "start_time": "2021-07-07T18:15:54.105Z"
      },
      {
        "duration": 11,
        "start_time": "2021-07-07T18:15:54.115Z"
      },
      {
        "duration": 20,
        "start_time": "2021-07-07T18:15:54.128Z"
      },
      {
        "duration": 13,
        "start_time": "2021-07-07T18:15:54.184Z"
      },
      {
        "duration": 7,
        "start_time": "2021-07-07T18:15:54.199Z"
      },
      {
        "duration": 7,
        "start_time": "2021-07-07T18:17:08.042Z"
      },
      {
        "duration": 8,
        "start_time": "2021-07-07T18:17:21.008Z"
      },
      {
        "duration": 7,
        "start_time": "2021-07-07T18:17:29.003Z"
      },
      {
        "duration": 8,
        "start_time": "2021-07-07T18:17:32.492Z"
      },
      {
        "duration": 9,
        "start_time": "2021-07-07T18:17:41.758Z"
      },
      {
        "duration": 255,
        "start_time": "2021-07-07T18:20:20.897Z"
      },
      {
        "duration": 173,
        "start_time": "2021-07-07T18:20:26.636Z"
      },
      {
        "duration": 7,
        "start_time": "2021-07-07T18:21:47.164Z"
      },
      {
        "duration": 254,
        "start_time": "2021-07-07T18:23:08.703Z"
      },
      {
        "duration": 21,
        "start_time": "2021-07-07T18:23:22.506Z"
      },
      {
        "duration": 315,
        "start_time": "2021-07-07T18:25:54.801Z"
      },
      {
        "duration": 34,
        "start_time": "2021-07-07T18:26:51.817Z"
      },
      {
        "duration": 327,
        "start_time": "2021-07-07T18:26:56.147Z"
      },
      {
        "duration": 342,
        "start_time": "2021-07-07T18:27:15.887Z"
      },
      {
        "duration": 302,
        "start_time": "2021-07-07T18:28:18.569Z"
      },
      {
        "duration": 226,
        "start_time": "2021-07-07T18:29:20.879Z"
      },
      {
        "duration": 207,
        "start_time": "2021-07-07T18:29:58.114Z"
      },
      {
        "duration": 140,
        "start_time": "2021-07-07T18:32:04.372Z"
      },
      {
        "duration": 158,
        "start_time": "2021-07-07T18:32:32.508Z"
      },
      {
        "duration": 145,
        "start_time": "2021-07-07T18:32:41.365Z"
      },
      {
        "duration": 132,
        "start_time": "2021-07-07T18:32:45.199Z"
      },
      {
        "duration": 11,
        "start_time": "2021-07-07T18:35:24.679Z"
      },
      {
        "duration": 268,
        "start_time": "2021-07-07T18:36:16.145Z"
      },
      {
        "duration": 227,
        "start_time": "2021-07-07T18:37:04.918Z"
      },
      {
        "duration": 3,
        "start_time": "2021-07-07T18:37:33.012Z"
      },
      {
        "duration": 671,
        "start_time": "2021-07-07T18:37:38.295Z"
      },
      {
        "duration": 54,
        "start_time": "2021-07-07T18:37:53.406Z"
      },
      {
        "duration": 631,
        "start_time": "2021-07-07T18:37:56.463Z"
      },
      {
        "duration": 19,
        "start_time": "2021-07-07T18:39:40.535Z"
      },
      {
        "duration": 20,
        "start_time": "2021-07-07T18:40:12.236Z"
      },
      {
        "duration": 633,
        "start_time": "2021-07-07T18:42:00.398Z"
      },
      {
        "duration": 218,
        "start_time": "2021-07-07T18:42:01.033Z"
      },
      {
        "duration": 49,
        "start_time": "2021-07-07T18:42:01.253Z"
      },
      {
        "duration": 5,
        "start_time": "2021-07-07T18:42:01.303Z"
      },
      {
        "duration": 27,
        "start_time": "2021-07-07T18:42:01.310Z"
      },
      {
        "duration": 8,
        "start_time": "2021-07-07T18:42:01.339Z"
      },
      {
        "duration": 20,
        "start_time": "2021-07-07T18:42:01.348Z"
      },
      {
        "duration": 6,
        "start_time": "2021-07-07T18:42:01.386Z"
      },
      {
        "duration": 16,
        "start_time": "2021-07-07T18:42:01.394Z"
      },
      {
        "duration": 9,
        "start_time": "2021-07-07T18:42:01.411Z"
      },
      {
        "duration": 11,
        "start_time": "2021-07-07T18:42:01.421Z"
      },
      {
        "duration": 31,
        "start_time": "2021-07-07T18:42:01.434Z"
      },
      {
        "duration": 18,
        "start_time": "2021-07-07T18:42:01.485Z"
      },
      {
        "duration": 23,
        "start_time": "2021-07-07T18:42:01.505Z"
      },
      {
        "duration": 6,
        "start_time": "2021-07-07T18:42:01.530Z"
      },
      {
        "duration": 10,
        "start_time": "2021-07-07T18:42:01.538Z"
      },
      {
        "duration": 13,
        "start_time": "2021-07-07T18:42:01.550Z"
      },
      {
        "duration": 24,
        "start_time": "2021-07-07T18:42:01.564Z"
      },
      {
        "duration": 20,
        "start_time": "2021-07-07T18:42:01.590Z"
      },
      {
        "duration": 8,
        "start_time": "2021-07-07T18:42:01.611Z"
      },
      {
        "duration": 31,
        "start_time": "2021-07-07T18:42:01.620Z"
      },
      {
        "duration": 39,
        "start_time": "2021-07-07T18:42:01.653Z"
      },
      {
        "duration": 8,
        "start_time": "2021-07-07T18:42:01.696Z"
      },
      {
        "duration": 13,
        "start_time": "2021-07-07T18:42:01.705Z"
      },
      {
        "duration": 20,
        "start_time": "2021-07-07T18:42:01.720Z"
      },
      {
        "duration": 12,
        "start_time": "2021-07-07T18:42:01.741Z"
      },
      {
        "duration": 35,
        "start_time": "2021-07-07T18:42:01.755Z"
      },
      {
        "duration": 14,
        "start_time": "2021-07-07T18:42:01.792Z"
      },
      {
        "duration": 188,
        "start_time": "2021-07-07T18:42:01.808Z"
      },
      {
        "duration": 19,
        "start_time": "2021-07-07T18:42:01.998Z"
      },
      {
        "duration": 175,
        "start_time": "2021-07-07T18:42:02.019Z"
      },
      {
        "duration": 134,
        "start_time": "2021-07-07T18:42:02.196Z"
      },
      {
        "duration": 10,
        "start_time": "2021-07-07T18:42:02.331Z"
      },
      {
        "duration": 19,
        "start_time": "2021-07-07T18:42:02.343Z"
      },
      {
        "duration": 628,
        "start_time": "2021-07-07T18:46:30.701Z"
      },
      {
        "duration": 183,
        "start_time": "2021-07-07T18:46:31.331Z"
      },
      {
        "duration": 48,
        "start_time": "2021-07-07T18:46:31.516Z"
      },
      {
        "duration": 5,
        "start_time": "2021-07-07T18:46:31.566Z"
      },
      {
        "duration": 28,
        "start_time": "2021-07-07T18:46:31.572Z"
      },
      {
        "duration": 8,
        "start_time": "2021-07-07T18:46:31.602Z"
      },
      {
        "duration": 19,
        "start_time": "2021-07-07T18:46:31.611Z"
      },
      {
        "duration": 6,
        "start_time": "2021-07-07T18:46:31.633Z"
      },
      {
        "duration": 17,
        "start_time": "2021-07-07T18:46:31.642Z"
      },
      {
        "duration": 10,
        "start_time": "2021-07-07T18:46:31.684Z"
      },
      {
        "duration": 9,
        "start_time": "2021-07-07T18:46:31.695Z"
      },
      {
        "duration": 28,
        "start_time": "2021-07-07T18:46:31.705Z"
      },
      {
        "duration": 18,
        "start_time": "2021-07-07T18:46:31.735Z"
      },
      {
        "duration": 48,
        "start_time": "2021-07-07T18:46:31.755Z"
      },
      {
        "duration": 6,
        "start_time": "2021-07-07T18:46:31.804Z"
      },
      {
        "duration": 4,
        "start_time": "2021-07-07T18:46:31.812Z"
      },
      {
        "duration": 9,
        "start_time": "2021-07-07T18:46:31.817Z"
      },
      {
        "duration": 10,
        "start_time": "2021-07-07T18:46:31.827Z"
      },
      {
        "duration": 12,
        "start_time": "2021-07-07T18:46:31.838Z"
      },
      {
        "duration": 39,
        "start_time": "2021-07-07T18:46:31.851Z"
      },
      {
        "duration": 24,
        "start_time": "2021-07-07T18:46:31.892Z"
      },
      {
        "duration": 15,
        "start_time": "2021-07-07T18:46:31.918Z"
      },
      {
        "duration": 7,
        "start_time": "2021-07-07T18:46:31.936Z"
      },
      {
        "duration": 8,
        "start_time": "2021-07-07T18:46:31.944Z"
      },
      {
        "duration": 19,
        "start_time": "2021-07-07T18:46:31.984Z"
      },
      {
        "duration": 10,
        "start_time": "2021-07-07T18:46:32.004Z"
      },
      {
        "duration": 5,
        "start_time": "2021-07-07T18:46:32.016Z"
      },
      {
        "duration": 9,
        "start_time": "2021-07-07T18:46:32.023Z"
      },
      {
        "duration": 199,
        "start_time": "2021-07-07T18:46:32.033Z"
      },
      {
        "duration": 19,
        "start_time": "2021-07-07T18:46:32.234Z"
      },
      {
        "duration": 159,
        "start_time": "2021-07-07T18:46:32.255Z"
      },
      {
        "duration": 134,
        "start_time": "2021-07-07T18:46:32.416Z"
      },
      {
        "duration": 10,
        "start_time": "2021-07-07T18:46:32.552Z"
      },
      {
        "duration": 34,
        "start_time": "2021-07-07T18:46:32.563Z"
      },
      {
        "duration": 1039,
        "start_time": "2021-07-08T08:41:09.419Z"
      },
      {
        "duration": 333,
        "start_time": "2021-07-08T08:41:10.459Z"
      },
      {
        "duration": 173,
        "start_time": "2021-07-08T08:41:10.794Z"
      },
      {
        "duration": 5,
        "start_time": "2021-07-08T08:41:10.968Z"
      },
      {
        "duration": 25,
        "start_time": "2021-07-08T08:41:10.975Z"
      },
      {
        "duration": 9,
        "start_time": "2021-07-08T08:41:11.002Z"
      },
      {
        "duration": 18,
        "start_time": "2021-07-08T08:41:11.013Z"
      },
      {
        "duration": 6,
        "start_time": "2021-07-08T08:41:11.033Z"
      },
      {
        "duration": 44,
        "start_time": "2021-07-08T08:41:11.042Z"
      },
      {
        "duration": 10,
        "start_time": "2021-07-08T08:41:11.088Z"
      },
      {
        "duration": 9,
        "start_time": "2021-07-08T08:41:11.100Z"
      },
      {
        "duration": 27,
        "start_time": "2021-07-08T08:41:11.111Z"
      },
      {
        "duration": 46,
        "start_time": "2021-07-08T08:41:11.140Z"
      },
      {
        "duration": 17,
        "start_time": "2021-07-08T08:41:11.187Z"
      },
      {
        "duration": 6,
        "start_time": "2021-07-08T08:41:11.206Z"
      },
      {
        "duration": 5,
        "start_time": "2021-07-08T08:41:11.213Z"
      },
      {
        "duration": 10,
        "start_time": "2021-07-08T08:41:11.219Z"
      },
      {
        "duration": 9,
        "start_time": "2021-07-08T08:41:11.230Z"
      },
      {
        "duration": 45,
        "start_time": "2021-07-08T08:41:11.241Z"
      },
      {
        "duration": 7,
        "start_time": "2021-07-08T08:41:11.287Z"
      },
      {
        "duration": 24,
        "start_time": "2021-07-08T08:41:11.296Z"
      },
      {
        "duration": 16,
        "start_time": "2021-07-08T08:41:11.322Z"
      },
      {
        "duration": 7,
        "start_time": "2021-07-08T08:41:11.341Z"
      },
      {
        "duration": 41,
        "start_time": "2021-07-08T08:41:11.349Z"
      },
      {
        "duration": 17,
        "start_time": "2021-07-08T08:41:11.391Z"
      },
      {
        "duration": 9,
        "start_time": "2021-07-08T08:41:11.410Z"
      },
      {
        "duration": 5,
        "start_time": "2021-07-08T08:41:11.421Z"
      },
      {
        "duration": 6,
        "start_time": "2021-07-08T08:41:11.428Z"
      },
      {
        "duration": 198,
        "start_time": "2021-07-08T08:41:11.435Z"
      },
      {
        "duration": 18,
        "start_time": "2021-07-08T08:41:11.635Z"
      },
      {
        "duration": 155,
        "start_time": "2021-07-08T08:41:11.655Z"
      },
      {
        "duration": 138,
        "start_time": "2021-07-08T08:41:11.811Z"
      },
      {
        "duration": 10,
        "start_time": "2021-07-08T08:41:11.950Z"
      },
      {
        "duration": 29,
        "start_time": "2021-07-08T08:41:11.961Z"
      },
      {
        "duration": 171,
        "start_time": "2021-07-08T08:47:44.522Z"
      },
      {
        "duration": 124,
        "start_time": "2021-07-08T08:47:46.872Z"
      },
      {
        "duration": 191,
        "start_time": "2021-07-08T08:47:58.148Z"
      },
      {
        "duration": 191,
        "start_time": "2021-07-08T08:48:07.412Z"
      },
      {
        "duration": 261,
        "start_time": "2021-07-08T08:48:10.385Z"
      },
      {
        "duration": 255,
        "start_time": "2021-07-08T08:48:14.494Z"
      },
      {
        "duration": 219,
        "start_time": "2021-07-08T08:48:22.752Z"
      },
      {
        "duration": 173,
        "start_time": "2021-07-08T08:49:06.395Z"
      },
      {
        "duration": 180,
        "start_time": "2021-07-08T08:49:21.011Z"
      },
      {
        "duration": 6,
        "start_time": "2021-07-08T08:50:31.697Z"
      },
      {
        "duration": 10,
        "start_time": "2021-07-08T08:50:47.394Z"
      },
      {
        "duration": 11,
        "start_time": "2021-07-08T08:53:49.332Z"
      },
      {
        "duration": 171,
        "start_time": "2021-07-08T08:54:28.408Z"
      },
      {
        "duration": 636,
        "start_time": "2021-07-08T09:02:48.385Z"
      },
      {
        "duration": 227,
        "start_time": "2021-07-08T09:02:49.023Z"
      },
      {
        "duration": 104,
        "start_time": "2021-07-08T09:02:49.252Z"
      },
      {
        "duration": 5,
        "start_time": "2021-07-08T09:02:49.358Z"
      },
      {
        "duration": 27,
        "start_time": "2021-07-08T09:02:49.365Z"
      },
      {
        "duration": 8,
        "start_time": "2021-07-08T09:02:49.394Z"
      },
      {
        "duration": 18,
        "start_time": "2021-07-08T09:02:49.404Z"
      },
      {
        "duration": 6,
        "start_time": "2021-07-08T09:02:49.424Z"
      },
      {
        "duration": 11,
        "start_time": "2021-07-08T09:02:49.433Z"
      },
      {
        "duration": 13,
        "start_time": "2021-07-08T09:02:49.485Z"
      },
      {
        "duration": 9,
        "start_time": "2021-07-08T09:02:49.500Z"
      },
      {
        "duration": 38,
        "start_time": "2021-07-08T09:02:49.511Z"
      },
      {
        "duration": 42,
        "start_time": "2021-07-08T09:02:49.551Z"
      },
      {
        "duration": 21,
        "start_time": "2021-07-08T09:02:49.594Z"
      },
      {
        "duration": 6,
        "start_time": "2021-07-08T09:02:49.616Z"
      },
      {
        "duration": 3,
        "start_time": "2021-07-08T09:02:49.623Z"
      },
      {
        "duration": 9,
        "start_time": "2021-07-08T09:02:49.628Z"
      },
      {
        "duration": 52,
        "start_time": "2021-07-08T09:02:49.638Z"
      },
      {
        "duration": 11,
        "start_time": "2021-07-08T09:02:49.692Z"
      },
      {
        "duration": 8,
        "start_time": "2021-07-08T09:02:49.704Z"
      },
      {
        "duration": 27,
        "start_time": "2021-07-08T09:02:49.713Z"
      },
      {
        "duration": 59,
        "start_time": "2021-07-08T09:02:49.741Z"
      },
      {
        "duration": 8,
        "start_time": "2021-07-08T09:02:49.803Z"
      },
      {
        "duration": 14,
        "start_time": "2021-07-08T09:02:49.813Z"
      },
      {
        "duration": 20,
        "start_time": "2021-07-08T09:02:49.829Z"
      },
      {
        "duration": 44,
        "start_time": "2021-07-08T09:02:49.851Z"
      },
      {
        "duration": 14,
        "start_time": "2021-07-08T09:02:49.896Z"
      },
      {
        "duration": 221,
        "start_time": "2021-07-08T09:02:49.912Z"
      },
      {
        "duration": 6,
        "start_time": "2021-07-08T09:02:50.134Z"
      },
      {
        "duration": 206,
        "start_time": "2021-07-08T09:02:50.142Z"
      },
      {
        "duration": 19,
        "start_time": "2021-07-08T09:02:50.350Z"
      },
      {
        "duration": 21,
        "start_time": "2021-07-08T09:02:50.370Z"
      },
      {
        "duration": 20,
        "start_time": "2021-07-08T09:02:50.393Z"
      },
      {
        "duration": 5,
        "start_time": "2021-07-08T09:02:50.414Z"
      },
      {
        "duration": 5,
        "start_time": "2021-07-08T09:03:34.173Z"
      },
      {
        "duration": 6,
        "start_time": "2021-07-08T09:04:49.062Z"
      },
      {
        "duration": 9,
        "start_time": "2021-07-08T09:04:50.118Z"
      },
      {
        "duration": 14,
        "start_time": "2021-07-08T09:04:58.512Z"
      },
      {
        "duration": 9,
        "start_time": "2021-07-08T09:05:10.988Z"
      },
      {
        "duration": 11,
        "start_time": "2021-07-08T09:05:11.743Z"
      },
      {
        "duration": 7,
        "start_time": "2021-07-08T09:05:25.677Z"
      },
      {
        "duration": 13,
        "start_time": "2021-07-08T09:05:47.189Z"
      },
      {
        "duration": 13,
        "start_time": "2021-07-08T09:05:54.755Z"
      },
      {
        "duration": 4,
        "start_time": "2021-07-08T09:06:29.189Z"
      },
      {
        "duration": 244,
        "start_time": "2021-07-08T09:06:29.195Z"
      },
      {
        "duration": 91,
        "start_time": "2021-07-08T09:06:29.441Z"
      },
      {
        "duration": 4,
        "start_time": "2021-07-08T09:06:29.534Z"
      },
      {
        "duration": 28,
        "start_time": "2021-07-08T09:06:29.540Z"
      },
      {
        "duration": 6,
        "start_time": "2021-07-08T09:06:29.570Z"
      },
      {
        "duration": 18,
        "start_time": "2021-07-08T09:06:29.578Z"
      },
      {
        "duration": 5,
        "start_time": "2021-07-08T09:06:29.597Z"
      },
      {
        "duration": 13,
        "start_time": "2021-07-08T09:06:29.605Z"
      },
      {
        "duration": 8,
        "start_time": "2021-07-08T09:06:29.620Z"
      },
      {
        "duration": 7,
        "start_time": "2021-07-08T09:06:29.630Z"
      },
      {
        "duration": 63,
        "start_time": "2021-07-08T09:06:29.639Z"
      },
      {
        "duration": 17,
        "start_time": "2021-07-08T09:06:29.704Z"
      },
      {
        "duration": 20,
        "start_time": "2021-07-08T09:06:29.723Z"
      },
      {
        "duration": 6,
        "start_time": "2021-07-08T09:06:29.745Z"
      },
      {
        "duration": 3,
        "start_time": "2021-07-08T09:06:29.752Z"
      },
      {
        "duration": 7,
        "start_time": "2021-07-08T09:06:29.785Z"
      },
      {
        "duration": 11,
        "start_time": "2021-07-08T09:06:29.794Z"
      },
      {
        "duration": 15,
        "start_time": "2021-07-08T09:06:29.807Z"
      },
      {
        "duration": 8,
        "start_time": "2021-07-08T09:06:29.823Z"
      },
      {
        "duration": 70,
        "start_time": "2021-07-08T09:06:29.832Z"
      },
      {
        "duration": 17,
        "start_time": "2021-07-08T09:06:29.903Z"
      },
      {
        "duration": 9,
        "start_time": "2021-07-08T09:06:29.921Z"
      },
      {
        "duration": 9,
        "start_time": "2021-07-08T09:06:29.932Z"
      },
      {
        "duration": 57,
        "start_time": "2021-07-08T09:06:29.942Z"
      },
      {
        "duration": 11,
        "start_time": "2021-07-08T09:06:30.001Z"
      },
      {
        "duration": 19,
        "start_time": "2021-07-08T09:06:30.016Z"
      },
      {
        "duration": 217,
        "start_time": "2021-07-08T09:06:30.037Z"
      },
      {
        "duration": 6,
        "start_time": "2021-07-08T09:06:30.255Z"
      },
      {
        "duration": 205,
        "start_time": "2021-07-08T09:06:30.263Z"
      },
      {
        "duration": 27,
        "start_time": "2021-07-08T09:06:30.470Z"
      },
      {
        "duration": 11,
        "start_time": "2021-07-08T09:06:30.500Z"
      },
      {
        "duration": 31,
        "start_time": "2021-07-08T09:06:30.513Z"
      },
      {
        "duration": 18,
        "start_time": "2021-07-08T09:06:30.546Z"
      },
      {
        "duration": 11,
        "start_time": "2021-07-08T09:06:30.566Z"
      },
      {
        "duration": 19,
        "start_time": "2021-07-08T09:06:30.579Z"
      },
      {
        "duration": 20,
        "start_time": "2021-07-08T09:06:49.466Z"
      },
      {
        "duration": 9,
        "start_time": "2021-07-08T09:06:51.994Z"
      },
      {
        "duration": 20,
        "start_time": "2021-07-08T09:06:52.273Z"
      },
      {
        "duration": 246,
        "start_time": "2021-07-08T09:10:21.272Z"
      },
      {
        "duration": 84,
        "start_time": "2021-07-08T09:10:21.436Z"
      },
      {
        "duration": 7,
        "start_time": "2021-07-08T09:10:37.608Z"
      },
      {
        "duration": 189,
        "start_time": "2021-07-08T09:10:38.573Z"
      },
      {
        "duration": 185,
        "start_time": "2021-07-08T09:10:53.181Z"
      },
      {
        "duration": 11,
        "start_time": "2021-07-08T09:10:59.549Z"
      },
      {
        "duration": 42,
        "start_time": "2021-07-08T09:10:59.709Z"
      },
      {
        "duration": 12,
        "start_time": "2021-07-08T09:11:02.857Z"
      },
      {
        "duration": 28,
        "start_time": "2021-07-08T09:11:10.062Z"
      },
      {
        "duration": 249,
        "start_time": "2021-07-08T09:11:37.388Z"
      },
      {
        "duration": 232,
        "start_time": "2021-07-08T09:11:49.485Z"
      },
      {
        "duration": 453,
        "start_time": "2021-07-08T09:12:01.546Z"
      },
      {
        "duration": 440,
        "start_time": "2021-07-08T09:12:12.347Z"
      },
      {
        "duration": 213,
        "start_time": "2021-07-08T09:13:32.196Z"
      },
      {
        "duration": 172,
        "start_time": "2021-07-08T09:14:07.400Z"
      },
      {
        "duration": 185,
        "start_time": "2021-07-08T09:14:14.905Z"
      },
      {
        "duration": 209,
        "start_time": "2021-07-08T09:14:40.109Z"
      },
      {
        "duration": 201,
        "start_time": "2021-07-08T09:14:54.506Z"
      },
      {
        "duration": 622,
        "start_time": "2021-07-08T09:18:14.497Z"
      },
      {
        "duration": 220,
        "start_time": "2021-07-08T09:18:15.121Z"
      },
      {
        "duration": 79,
        "start_time": "2021-07-08T09:18:15.343Z"
      },
      {
        "duration": 4,
        "start_time": "2021-07-08T09:18:15.425Z"
      },
      {
        "duration": 24,
        "start_time": "2021-07-08T09:18:15.431Z"
      },
      {
        "duration": 8,
        "start_time": "2021-07-08T09:18:15.457Z"
      },
      {
        "duration": 16,
        "start_time": "2021-07-08T09:18:15.466Z"
      },
      {
        "duration": 5,
        "start_time": "2021-07-08T09:18:15.484Z"
      },
      {
        "duration": 10,
        "start_time": "2021-07-08T09:18:15.493Z"
      },
      {
        "duration": 8,
        "start_time": "2021-07-08T09:18:15.504Z"
      },
      {
        "duration": 7,
        "start_time": "2021-07-08T09:18:15.513Z"
      },
      {
        "duration": 26,
        "start_time": "2021-07-08T09:18:15.522Z"
      },
      {
        "duration": 49,
        "start_time": "2021-07-08T09:18:15.550Z"
      },
      {
        "duration": 21,
        "start_time": "2021-07-08T09:18:15.601Z"
      },
      {
        "duration": 8,
        "start_time": "2021-07-08T09:18:15.624Z"
      },
      {
        "duration": 3,
        "start_time": "2021-07-08T09:18:15.634Z"
      },
      {
        "duration": 8,
        "start_time": "2021-07-08T09:18:15.639Z"
      },
      {
        "duration": 45,
        "start_time": "2021-07-08T09:18:15.649Z"
      },
      {
        "duration": 13,
        "start_time": "2021-07-08T09:18:15.696Z"
      },
      {
        "duration": 10,
        "start_time": "2021-07-08T09:18:15.711Z"
      },
      {
        "duration": 64,
        "start_time": "2021-07-08T09:18:15.722Z"
      },
      {
        "duration": 19,
        "start_time": "2021-07-08T09:18:15.788Z"
      },
      {
        "duration": 9,
        "start_time": "2021-07-08T09:18:15.809Z"
      },
      {
        "duration": 9,
        "start_time": "2021-07-08T09:18:15.820Z"
      },
      {
        "duration": 18,
        "start_time": "2021-07-08T09:18:15.831Z"
      },
      {
        "duration": 43,
        "start_time": "2021-07-08T09:18:15.851Z"
      },
      {
        "duration": 12,
        "start_time": "2021-07-08T09:18:15.897Z"
      },
      {
        "duration": 219,
        "start_time": "2021-07-08T09:18:15.911Z"
      },
      {
        "duration": 8,
        "start_time": "2021-07-08T09:18:16.132Z"
      },
      {
        "duration": 199,
        "start_time": "2021-07-08T09:18:16.141Z"
      },
      {
        "duration": 18,
        "start_time": "2021-07-08T09:18:16.341Z"
      },
      {
        "duration": 24,
        "start_time": "2021-07-08T09:18:16.361Z"
      },
      {
        "duration": 24,
        "start_time": "2021-07-08T09:18:16.387Z"
      },
      {
        "duration": 211,
        "start_time": "2021-07-08T09:18:16.413Z"
      },
      {
        "duration": 18,
        "start_time": "2021-07-08T09:18:16.626Z"
      },
      {
        "duration": 596,
        "start_time": "2021-07-08T10:06:33.623Z"
      },
      {
        "duration": 181,
        "start_time": "2021-07-08T10:06:34.221Z"
      },
      {
        "duration": 176,
        "start_time": "2021-07-08T10:06:34.635Z"
      },
      {
        "duration": 239,
        "start_time": "2021-07-08T10:06:55.572Z"
      },
      {
        "duration": 6,
        "start_time": "2021-07-08T10:06:57.687Z"
      },
      {
        "duration": 4,
        "start_time": "2021-07-08T10:07:03.956Z"
      },
      {
        "duration": 4,
        "start_time": "2021-07-08T10:07:10.376Z"
      },
      {
        "duration": 4,
        "start_time": "2021-07-08T10:17:19.889Z"
      },
      {
        "duration": 3,
        "start_time": "2021-07-08T10:19:19.407Z"
      },
      {
        "duration": 197,
        "start_time": "2021-07-08T10:19:19.412Z"
      },
      {
        "duration": 127,
        "start_time": "2021-07-08T10:19:19.611Z"
      },
      {
        "duration": 4,
        "start_time": "2021-07-08T10:19:19.740Z"
      },
      {
        "duration": 27,
        "start_time": "2021-07-08T10:19:19.746Z"
      },
      {
        "duration": 7,
        "start_time": "2021-07-08T10:19:19.775Z"
      },
      {
        "duration": 30,
        "start_time": "2021-07-08T10:19:19.784Z"
      },
      {
        "duration": 7,
        "start_time": "2021-07-08T10:19:19.817Z"
      },
      {
        "duration": 26,
        "start_time": "2021-07-08T10:19:19.826Z"
      },
      {
        "duration": 18,
        "start_time": "2021-07-08T10:19:19.854Z"
      },
      {
        "duration": 14,
        "start_time": "2021-07-08T10:19:19.874Z"
      },
      {
        "duration": 48,
        "start_time": "2021-07-08T10:19:19.890Z"
      },
      {
        "duration": 17,
        "start_time": "2021-07-08T10:19:19.940Z"
      },
      {
        "duration": 38,
        "start_time": "2021-07-08T10:19:19.959Z"
      },
      {
        "duration": 8,
        "start_time": "2021-07-08T10:19:19.999Z"
      },
      {
        "duration": 15,
        "start_time": "2021-07-08T10:19:20.009Z"
      },
      {
        "duration": 22,
        "start_time": "2021-07-08T10:19:20.026Z"
      },
      {
        "duration": 10,
        "start_time": "2021-07-08T10:19:20.050Z"
      },
      {
        "duration": 10,
        "start_time": "2021-07-08T10:19:20.062Z"
      },
      {
        "duration": 20,
        "start_time": "2021-07-08T10:19:20.073Z"
      },
      {
        "duration": 29,
        "start_time": "2021-07-08T10:19:20.095Z"
      },
      {
        "duration": 17,
        "start_time": "2021-07-08T10:19:20.126Z"
      },
      {
        "duration": 40,
        "start_time": "2021-07-08T10:19:20.146Z"
      },
      {
        "duration": 15,
        "start_time": "2021-07-08T10:19:20.189Z"
      },
      {
        "duration": 19,
        "start_time": "2021-07-08T10:19:20.206Z"
      },
      {
        "duration": 10,
        "start_time": "2021-07-08T10:19:20.226Z"
      },
      {
        "duration": 11,
        "start_time": "2021-07-08T10:19:20.238Z"
      },
      {
        "duration": 297,
        "start_time": "2021-07-08T10:19:20.250Z"
      },
      {
        "duration": 6,
        "start_time": "2021-07-08T10:19:20.549Z"
      },
      {
        "duration": 191,
        "start_time": "2021-07-08T10:19:20.557Z"
      },
      {
        "duration": 19,
        "start_time": "2021-07-08T10:19:20.750Z"
      },
      {
        "duration": 20,
        "start_time": "2021-07-08T10:19:20.771Z"
      },
      {
        "duration": 15,
        "start_time": "2021-07-08T10:19:20.793Z"
      },
      {
        "duration": 222,
        "start_time": "2021-07-08T10:19:20.809Z"
      },
      {
        "duration": 20,
        "start_time": "2021-07-08T10:19:21.033Z"
      },
      {
        "duration": 27,
        "start_time": "2021-07-08T10:45:04.055Z"
      },
      {
        "duration": 8,
        "start_time": "2021-07-08T10:45:08.478Z"
      },
      {
        "duration": 8,
        "start_time": "2021-07-08T10:45:31.982Z"
      },
      {
        "duration": 10,
        "start_time": "2021-07-08T10:46:01.221Z"
      },
      {
        "duration": 17,
        "start_time": "2021-07-08T10:46:40.011Z"
      },
      {
        "duration": 193,
        "start_time": "2021-07-08T10:48:19.471Z"
      },
      {
        "duration": 225,
        "start_time": "2021-07-08T10:49:26.480Z"
      },
      {
        "duration": 204,
        "start_time": "2021-07-08T10:49:59.992Z"
      },
      {
        "duration": 435,
        "start_time": "2021-07-08T10:50:06.779Z"
      },
      {
        "duration": 199,
        "start_time": "2021-07-08T10:50:14.891Z"
      },
      {
        "duration": 204,
        "start_time": "2021-07-08T10:50:18.501Z"
      },
      {
        "duration": 244,
        "start_time": "2021-07-08T10:50:23.359Z"
      },
      {
        "duration": 192,
        "start_time": "2021-07-08T10:50:29.135Z"
      },
      {
        "duration": 218,
        "start_time": "2021-07-08T10:50:33.092Z"
      },
      {
        "duration": 207,
        "start_time": "2021-07-08T10:52:45.381Z"
      },
      {
        "duration": 5,
        "start_time": "2021-07-08T10:53:34.641Z"
      },
      {
        "duration": 196,
        "start_time": "2021-07-08T10:53:41.478Z"
      },
      {
        "duration": 43,
        "start_time": "2021-07-08T10:53:50.335Z"
      },
      {
        "duration": 32,
        "start_time": "2021-07-08T10:53:55.294Z"
      },
      {
        "duration": 55,
        "start_time": "2021-07-08T10:54:09.675Z"
      },
      {
        "duration": 16,
        "start_time": "2021-07-08T10:54:12.260Z"
      },
      {
        "duration": 15,
        "start_time": "2021-07-08T10:54:49.150Z"
      },
      {
        "duration": 20,
        "start_time": "2021-07-08T10:56:07.596Z"
      },
      {
        "duration": 16,
        "start_time": "2021-07-08T10:58:26.276Z"
      },
      {
        "duration": 22,
        "start_time": "2021-07-08T10:59:00.486Z"
      },
      {
        "duration": 18,
        "start_time": "2021-07-08T11:02:09.653Z"
      },
      {
        "duration": 10,
        "start_time": "2021-07-08T11:03:44.331Z"
      },
      {
        "duration": 10,
        "start_time": "2021-07-08T11:03:54.055Z"
      },
      {
        "duration": 12,
        "start_time": "2021-07-08T11:04:41.967Z"
      },
      {
        "duration": 24,
        "start_time": "2021-07-08T11:07:30.732Z"
      },
      {
        "duration": 6,
        "start_time": "2021-07-08T11:07:37.364Z"
      },
      {
        "duration": 16,
        "start_time": "2021-07-08T11:08:01.819Z"
      },
      {
        "duration": 17,
        "start_time": "2021-07-08T11:09:47.488Z"
      },
      {
        "duration": 246,
        "start_time": "2021-07-08T11:10:00.830Z"
      },
      {
        "duration": 18,
        "start_time": "2021-07-08T11:13:55.195Z"
      },
      {
        "duration": 204,
        "start_time": "2021-07-08T11:14:04.951Z"
      },
      {
        "duration": 19,
        "start_time": "2021-07-08T11:15:10.613Z"
      },
      {
        "duration": 680,
        "start_time": "2021-07-08T11:16:25.793Z"
      },
      {
        "duration": 451,
        "start_time": "2021-07-08T11:16:40.313Z"
      },
      {
        "duration": 469,
        "start_time": "2021-07-08T11:17:21.286Z"
      },
      {
        "duration": 20,
        "start_time": "2021-07-08T11:19:12.554Z"
      },
      {
        "duration": 35,
        "start_time": "2021-07-08T11:20:05.484Z"
      },
      {
        "duration": 53,
        "start_time": "2021-07-08T11:21:40.050Z"
      },
      {
        "duration": 13,
        "start_time": "2021-07-08T11:22:26.059Z"
      },
      {
        "duration": 19,
        "start_time": "2021-07-08T11:22:47.419Z"
      },
      {
        "duration": 25,
        "start_time": "2021-07-08T11:23:19.958Z"
      },
      {
        "duration": 29,
        "start_time": "2021-07-08T11:23:25.415Z"
      },
      {
        "duration": 10,
        "start_time": "2021-07-08T11:24:45.138Z"
      },
      {
        "duration": 19,
        "start_time": "2021-07-08T11:24:54.498Z"
      },
      {
        "duration": 12,
        "start_time": "2021-07-08T11:25:32.225Z"
      },
      {
        "duration": 19,
        "start_time": "2021-07-08T11:25:37.092Z"
      },
      {
        "duration": 17,
        "start_time": "2021-07-08T11:25:58.116Z"
      },
      {
        "duration": 15,
        "start_time": "2021-07-08T11:26:02.258Z"
      },
      {
        "duration": 8,
        "start_time": "2021-07-08T11:26:59.682Z"
      },
      {
        "duration": 184,
        "start_time": "2021-07-08T11:27:21.894Z"
      },
      {
        "duration": 8,
        "start_time": "2021-07-08T11:27:23.824Z"
      },
      {
        "duration": 202,
        "start_time": "2021-07-08T11:27:23.962Z"
      },
      {
        "duration": 360,
        "start_time": "2021-07-08T11:28:33.215Z"
      },
      {
        "duration": 231,
        "start_time": "2021-07-08T11:32:05.542Z"
      },
      {
        "duration": 607,
        "start_time": "2021-07-08T11:36:27.854Z"
      },
      {
        "duration": 241,
        "start_time": "2021-07-08T11:36:28.463Z"
      },
      {
        "duration": 67,
        "start_time": "2021-07-08T11:36:28.709Z"
      },
      {
        "duration": 5,
        "start_time": "2021-07-08T11:36:28.778Z"
      },
      {
        "duration": 32,
        "start_time": "2021-07-08T11:36:28.784Z"
      },
      {
        "duration": 11,
        "start_time": "2021-07-08T11:36:28.819Z"
      },
      {
        "duration": 20,
        "start_time": "2021-07-08T11:36:28.834Z"
      },
      {
        "duration": 36,
        "start_time": "2021-07-08T11:36:28.857Z"
      },
      {
        "duration": 16,
        "start_time": "2021-07-08T11:36:28.895Z"
      },
      {
        "duration": 14,
        "start_time": "2021-07-08T11:36:28.913Z"
      },
      {
        "duration": 9,
        "start_time": "2021-07-08T11:36:28.930Z"
      },
      {
        "duration": 55,
        "start_time": "2021-07-08T11:36:28.941Z"
      },
      {
        "duration": 27,
        "start_time": "2021-07-08T11:36:28.999Z"
      },
      {
        "duration": 30,
        "start_time": "2021-07-08T11:36:29.028Z"
      },
      {
        "duration": 31,
        "start_time": "2021-07-08T11:36:29.060Z"
      },
      {
        "duration": 3,
        "start_time": "2021-07-08T11:36:29.093Z"
      },
      {
        "duration": 12,
        "start_time": "2021-07-08T11:36:29.099Z"
      },
      {
        "duration": 11,
        "start_time": "2021-07-08T11:36:29.112Z"
      },
      {
        "duration": 12,
        "start_time": "2021-07-08T11:36:29.125Z"
      },
      {
        "duration": 9,
        "start_time": "2021-07-08T11:36:29.139Z"
      },
      {
        "duration": 31,
        "start_time": "2021-07-08T11:36:29.191Z"
      },
      {
        "duration": 17,
        "start_time": "2021-07-08T11:36:29.226Z"
      },
      {
        "duration": 7,
        "start_time": "2021-07-08T11:36:29.245Z"
      },
      {
        "duration": 10,
        "start_time": "2021-07-08T11:36:29.254Z"
      },
      {
        "duration": 30,
        "start_time": "2021-07-08T11:36:29.292Z"
      },
      {
        "duration": 11,
        "start_time": "2021-07-08T11:36:29.324Z"
      },
      {
        "duration": 11,
        "start_time": "2021-07-08T11:36:29.337Z"
      },
      {
        "duration": 230,
        "start_time": "2021-07-08T11:36:29.349Z"
      },
      {
        "duration": 13,
        "start_time": "2021-07-08T11:36:29.588Z"
      },
      {
        "duration": 205,
        "start_time": "2021-07-08T11:36:29.603Z"
      },
      {
        "duration": 20,
        "start_time": "2021-07-08T11:36:29.810Z"
      },
      {
        "duration": 9,
        "start_time": "2021-07-08T11:36:29.832Z"
      },
      {
        "duration": 16,
        "start_time": "2021-07-08T11:36:29.843Z"
      },
      {
        "duration": 283,
        "start_time": "2021-07-08T11:36:29.861Z"
      },
      {
        "duration": 50,
        "start_time": "2021-07-08T11:36:30.146Z"
      },
      {
        "duration": 14,
        "start_time": "2021-07-08T11:36:30.198Z"
      },
      {
        "duration": 11,
        "start_time": "2021-07-08T11:36:30.214Z"
      },
      {
        "duration": 245,
        "start_time": "2021-07-08T11:36:30.227Z"
      },
      {
        "duration": 439,
        "start_time": "2021-07-08T11:36:30.474Z"
      },
      {
        "duration": 210,
        "start_time": "2021-07-08T11:36:30.915Z"
      },
      {
        "duration": 15,
        "start_time": "2021-07-08T11:36:31.127Z"
      },
      {
        "duration": 17,
        "start_time": "2021-07-08T11:38:20.451Z"
      },
      {
        "duration": 642,
        "start_time": "2021-07-08T11:46:17.881Z"
      },
      {
        "duration": 210,
        "start_time": "2021-07-08T11:46:18.525Z"
      },
      {
        "duration": 104,
        "start_time": "2021-07-08T11:46:18.741Z"
      },
      {
        "duration": 8,
        "start_time": "2021-07-08T11:46:18.847Z"
      },
      {
        "duration": 25,
        "start_time": "2021-07-08T11:46:18.857Z"
      },
      {
        "duration": 14,
        "start_time": "2021-07-08T11:46:18.884Z"
      },
      {
        "duration": 22,
        "start_time": "2021-07-08T11:46:18.900Z"
      },
      {
        "duration": 5,
        "start_time": "2021-07-08T11:46:18.924Z"
      },
      {
        "duration": 13,
        "start_time": "2021-07-08T11:46:18.931Z"
      },
      {
        "duration": 45,
        "start_time": "2021-07-08T11:46:18.946Z"
      },
      {
        "duration": 12,
        "start_time": "2021-07-08T11:46:18.993Z"
      },
      {
        "duration": 38,
        "start_time": "2021-07-08T11:46:19.006Z"
      },
      {
        "duration": 50,
        "start_time": "2021-07-08T11:46:19.046Z"
      },
      {
        "duration": 29,
        "start_time": "2021-07-08T11:46:19.099Z"
      },
      {
        "duration": 7,
        "start_time": "2021-07-08T11:46:19.130Z"
      },
      {
        "duration": 3,
        "start_time": "2021-07-08T11:46:19.139Z"
      },
      {
        "duration": 11,
        "start_time": "2021-07-08T11:46:19.144Z"
      },
      {
        "duration": 40,
        "start_time": "2021-07-08T11:46:19.157Z"
      },
      {
        "duration": 15,
        "start_time": "2021-07-08T11:46:19.199Z"
      },
      {
        "duration": 10,
        "start_time": "2021-07-08T11:46:19.217Z"
      },
      {
        "duration": 68,
        "start_time": "2021-07-08T11:46:19.230Z"
      },
      {
        "duration": 17,
        "start_time": "2021-07-08T11:46:19.301Z"
      },
      {
        "duration": 7,
        "start_time": "2021-07-08T11:46:19.321Z"
      },
      {
        "duration": 11,
        "start_time": "2021-07-08T11:46:19.330Z"
      },
      {
        "duration": 59,
        "start_time": "2021-07-08T11:46:19.343Z"
      },
      {
        "duration": 17,
        "start_time": "2021-07-08T11:46:19.405Z"
      },
      {
        "duration": 16,
        "start_time": "2021-07-08T11:46:19.424Z"
      },
      {
        "duration": 252,
        "start_time": "2021-07-08T11:46:19.443Z"
      },
      {
        "duration": 9,
        "start_time": "2021-07-08T11:46:19.697Z"
      },
      {
        "duration": 224,
        "start_time": "2021-07-08T11:46:19.708Z"
      },
      {
        "duration": 21,
        "start_time": "2021-07-08T11:46:19.934Z"
      },
      {
        "duration": 9,
        "start_time": "2021-07-08T11:46:19.956Z"
      },
      {
        "duration": 32,
        "start_time": "2021-07-08T11:46:19.967Z"
      },
      {
        "duration": 288,
        "start_time": "2021-07-08T11:46:20.004Z"
      },
      {
        "duration": 23,
        "start_time": "2021-07-08T11:46:20.300Z"
      },
      {
        "duration": 11,
        "start_time": "2021-07-08T11:46:20.325Z"
      },
      {
        "duration": 11,
        "start_time": "2021-07-08T11:46:20.339Z"
      },
      {
        "duration": 259,
        "start_time": "2021-07-08T11:46:20.352Z"
      },
      {
        "duration": 438,
        "start_time": "2021-07-08T11:46:20.613Z"
      },
      {
        "duration": 207,
        "start_time": "2021-07-08T11:46:21.054Z"
      },
      {
        "duration": 27,
        "start_time": "2021-07-08T11:46:21.262Z"
      },
      {
        "duration": 19,
        "start_time": "2021-07-08T11:46:21.291Z"
      },
      {
        "duration": 820,
        "start_time": "2021-07-08T11:49:01.655Z"
      },
      {
        "duration": 372,
        "start_time": "2021-07-08T11:49:02.478Z"
      },
      {
        "duration": 98,
        "start_time": "2021-07-08T11:49:02.853Z"
      },
      {
        "duration": 6,
        "start_time": "2021-07-08T11:49:02.953Z"
      },
      {
        "duration": 39,
        "start_time": "2021-07-08T11:49:02.960Z"
      },
      {
        "duration": 9,
        "start_time": "2021-07-08T11:49:03.003Z"
      },
      {
        "duration": 23,
        "start_time": "2021-07-08T11:49:03.014Z"
      },
      {
        "duration": 6,
        "start_time": "2021-07-08T11:49:03.041Z"
      },
      {
        "duration": 20,
        "start_time": "2021-07-08T11:49:03.049Z"
      },
      {
        "duration": 18,
        "start_time": "2021-07-08T11:49:03.084Z"
      },
      {
        "duration": 14,
        "start_time": "2021-07-08T11:49:03.104Z"
      },
      {
        "duration": 39,
        "start_time": "2021-07-08T11:49:03.119Z"
      },
      {
        "duration": 38,
        "start_time": "2021-07-08T11:49:03.160Z"
      },
      {
        "duration": 26,
        "start_time": "2021-07-08T11:49:03.200Z"
      },
      {
        "duration": 7,
        "start_time": "2021-07-08T11:49:03.227Z"
      },
      {
        "duration": 4,
        "start_time": "2021-07-08T11:49:03.236Z"
      },
      {
        "duration": 15,
        "start_time": "2021-07-08T11:49:03.243Z"
      },
      {
        "duration": 21,
        "start_time": "2021-07-08T11:49:03.285Z"
      },
      {
        "duration": 17,
        "start_time": "2021-07-08T11:49:03.309Z"
      },
      {
        "duration": 10,
        "start_time": "2021-07-08T11:49:03.328Z"
      },
      {
        "duration": 65,
        "start_time": "2021-07-08T11:49:03.340Z"
      },
      {
        "duration": 18,
        "start_time": "2021-07-08T11:49:03.407Z"
      },
      {
        "duration": 8,
        "start_time": "2021-07-08T11:49:03.428Z"
      },
      {
        "duration": 15,
        "start_time": "2021-07-08T11:49:03.438Z"
      },
      {
        "duration": 40,
        "start_time": "2021-07-08T11:49:03.455Z"
      },
      {
        "duration": 12,
        "start_time": "2021-07-08T11:49:03.497Z"
      },
      {
        "duration": 29,
        "start_time": "2021-07-08T11:49:03.511Z"
      },
      {
        "duration": 285,
        "start_time": "2021-07-08T11:49:03.542Z"
      },
      {
        "duration": 8,
        "start_time": "2021-07-08T11:49:03.829Z"
      },
      {
        "duration": 227,
        "start_time": "2021-07-08T11:49:03.838Z"
      },
      {
        "duration": 40,
        "start_time": "2021-07-08T11:49:04.066Z"
      },
      {
        "duration": 10,
        "start_time": "2021-07-08T11:49:04.108Z"
      },
      {
        "duration": 26,
        "start_time": "2021-07-08T11:49:04.121Z"
      },
      {
        "duration": 290,
        "start_time": "2021-07-08T11:49:04.149Z"
      },
      {
        "duration": 26,
        "start_time": "2021-07-08T11:49:04.441Z"
      },
      {
        "duration": 31,
        "start_time": "2021-07-08T11:49:04.470Z"
      },
      {
        "duration": 14,
        "start_time": "2021-07-08T11:49:04.503Z"
      },
      {
        "duration": 259,
        "start_time": "2021-07-08T11:49:04.521Z"
      },
      {
        "duration": 480,
        "start_time": "2021-07-08T11:49:04.782Z"
      },
      {
        "duration": 225,
        "start_time": "2021-07-08T11:49:05.264Z"
      },
      {
        "duration": 22,
        "start_time": "2021-07-08T11:49:05.491Z"
      },
      {
        "duration": 24,
        "start_time": "2021-07-08T11:49:05.515Z"
      },
      {
        "duration": 634,
        "start_time": "2021-07-08T11:52:24.960Z"
      },
      {
        "duration": 199,
        "start_time": "2021-07-08T11:52:25.599Z"
      },
      {
        "duration": 106,
        "start_time": "2021-07-08T11:52:25.803Z"
      },
      {
        "duration": 7,
        "start_time": "2021-07-08T11:52:25.911Z"
      },
      {
        "duration": 29,
        "start_time": "2021-07-08T11:52:25.920Z"
      },
      {
        "duration": 7,
        "start_time": "2021-07-08T11:52:25.951Z"
      },
      {
        "duration": 26,
        "start_time": "2021-07-08T11:52:25.961Z"
      },
      {
        "duration": 11,
        "start_time": "2021-07-08T11:52:25.990Z"
      },
      {
        "duration": 29,
        "start_time": "2021-07-08T11:52:26.005Z"
      },
      {
        "duration": 9,
        "start_time": "2021-07-08T11:52:26.036Z"
      },
      {
        "duration": 8,
        "start_time": "2021-07-08T11:52:26.047Z"
      },
      {
        "duration": 63,
        "start_time": "2021-07-08T11:52:26.057Z"
      },
      {
        "duration": 17,
        "start_time": "2021-07-08T11:52:26.122Z"
      },
      {
        "duration": 43,
        "start_time": "2021-07-08T11:52:26.142Z"
      },
      {
        "duration": 17,
        "start_time": "2021-07-08T11:52:26.187Z"
      },
      {
        "duration": 5,
        "start_time": "2021-07-08T11:52:26.206Z"
      },
      {
        "duration": 12,
        "start_time": "2021-07-08T11:52:26.212Z"
      },
      {
        "duration": 11,
        "start_time": "2021-07-08T11:52:26.226Z"
      },
      {
        "duration": 12,
        "start_time": "2021-07-08T11:52:26.238Z"
      },
      {
        "duration": 38,
        "start_time": "2021-07-08T11:52:26.252Z"
      },
      {
        "duration": 40,
        "start_time": "2021-07-08T11:52:26.292Z"
      },
      {
        "duration": 17,
        "start_time": "2021-07-08T11:52:26.336Z"
      },
      {
        "duration": 39,
        "start_time": "2021-07-08T11:52:26.355Z"
      },
      {
        "duration": 11,
        "start_time": "2021-07-08T11:52:26.395Z"
      },
      {
        "duration": 23,
        "start_time": "2021-07-08T11:52:26.408Z"
      },
      {
        "duration": 12,
        "start_time": "2021-07-08T11:52:26.432Z"
      },
      {
        "duration": 41,
        "start_time": "2021-07-08T11:52:26.446Z"
      },
      {
        "duration": 215,
        "start_time": "2021-07-08T11:52:26.493Z"
      },
      {
        "duration": 8,
        "start_time": "2021-07-08T11:52:26.710Z"
      },
      {
        "duration": 228,
        "start_time": "2021-07-08T11:52:26.720Z"
      },
      {
        "duration": 18,
        "start_time": "2021-07-08T11:52:26.950Z"
      },
      {
        "duration": 35,
        "start_time": "2021-07-08T11:52:26.969Z"
      },
      {
        "duration": 23,
        "start_time": "2021-07-08T11:52:27.006Z"
      },
      {
        "duration": 258,
        "start_time": "2021-07-08T11:52:27.030Z"
      },
      {
        "duration": 24,
        "start_time": "2021-07-08T11:52:27.290Z"
      },
      {
        "duration": 12,
        "start_time": "2021-07-08T11:52:27.316Z"
      },
      {
        "duration": 10,
        "start_time": "2021-07-08T11:52:27.329Z"
      },
      {
        "duration": 298,
        "start_time": "2021-07-08T11:52:27.341Z"
      },
      {
        "duration": 436,
        "start_time": "2021-07-08T11:52:27.641Z"
      },
      {
        "duration": 216,
        "start_time": "2021-07-08T11:52:28.079Z"
      },
      {
        "duration": 20,
        "start_time": "2021-07-08T11:52:28.297Z"
      },
      {
        "duration": 17,
        "start_time": "2021-07-08T11:52:28.319Z"
      },
      {
        "duration": 3,
        "start_time": "2024-08-16T11:34:04.263Z"
      },
      {
        "duration": 1472,
        "start_time": "2024-08-16T11:38:43.256Z"
      },
      {
        "duration": 133,
        "start_time": "2024-08-16T11:39:52.241Z"
      },
      {
        "duration": 139,
        "start_time": "2024-08-16T11:40:09.403Z"
      },
      {
        "duration": 128,
        "start_time": "2024-08-16T11:41:11.698Z"
      },
      {
        "duration": 357,
        "start_time": "2024-08-16T11:52:27.909Z"
      },
      {
        "duration": 65,
        "start_time": "2024-08-16T12:04:05.470Z"
      },
      {
        "duration": 89,
        "start_time": "2024-08-16T12:18:04.913Z"
      },
      {
        "duration": 7,
        "start_time": "2024-08-16T12:18:09.820Z"
      },
      {
        "duration": 5,
        "start_time": "2024-08-16T12:18:18.601Z"
      },
      {
        "duration": 4,
        "start_time": "2024-08-16T12:18:32.024Z"
      },
      {
        "duration": 5,
        "start_time": "2024-08-16T12:18:52.008Z"
      },
      {
        "duration": 7,
        "start_time": "2024-08-16T12:43:08.538Z"
      },
      {
        "duration": 3,
        "start_time": "2024-08-16T12:43:23.047Z"
      },
      {
        "duration": 14,
        "start_time": "2024-08-16T12:43:50.554Z"
      },
      {
        "duration": 14,
        "start_time": "2024-08-16T12:44:10.970Z"
      },
      {
        "duration": 7,
        "start_time": "2024-08-16T12:46:12.714Z"
      },
      {
        "duration": 12,
        "start_time": "2024-08-16T12:46:58.682Z"
      },
      {
        "duration": 20,
        "start_time": "2024-08-16T12:47:16.738Z"
      },
      {
        "duration": 7,
        "start_time": "2024-08-16T12:53:44.629Z"
      },
      {
        "duration": 12,
        "start_time": "2024-08-16T12:54:01.217Z"
      },
      {
        "duration": 13,
        "start_time": "2024-08-16T13:05:23.837Z"
      },
      {
        "duration": 19,
        "start_time": "2024-08-16T13:05:38.008Z"
      },
      {
        "duration": 7,
        "start_time": "2024-08-16T13:07:44.132Z"
      },
      {
        "duration": 19,
        "start_time": "2024-08-16T13:09:06.884Z"
      },
      {
        "duration": 24,
        "start_time": "2024-08-16T13:11:52.952Z"
      },
      {
        "duration": 6,
        "start_time": "2024-08-16T13:45:24.386Z"
      },
      {
        "duration": 8,
        "start_time": "2024-08-16T13:45:42.222Z"
      },
      {
        "duration": 8,
        "start_time": "2024-08-16T13:46:47.674Z"
      },
      {
        "duration": 12,
        "start_time": "2024-08-16T13:46:53.935Z"
      },
      {
        "duration": 8,
        "start_time": "2024-08-16T13:47:15.074Z"
      },
      {
        "duration": 138,
        "start_time": "2024-08-16T13:53:38.825Z"
      },
      {
        "duration": 13,
        "start_time": "2024-08-16T13:53:38.965Z"
      },
      {
        "duration": 24,
        "start_time": "2024-08-16T13:53:38.980Z"
      },
      {
        "duration": 13,
        "start_time": "2024-08-16T13:53:39.005Z"
      },
      {
        "duration": 16,
        "start_time": "2024-08-16T13:53:39.019Z"
      },
      {
        "duration": 33,
        "start_time": "2024-08-16T13:53:39.036Z"
      },
      {
        "duration": 8,
        "start_time": "2024-08-16T13:53:39.071Z"
      },
      {
        "duration": 23,
        "start_time": "2024-08-16T13:53:39.081Z"
      },
      {
        "duration": 11,
        "start_time": "2024-08-16T13:53:39.106Z"
      },
      {
        "duration": 20,
        "start_time": "2024-08-16T13:53:39.118Z"
      },
      {
        "duration": 11,
        "start_time": "2024-08-16T13:53:39.140Z"
      },
      {
        "duration": 11,
        "start_time": "2024-08-16T13:54:11.905Z"
      },
      {
        "duration": 8,
        "start_time": "2024-08-16T13:56:14.146Z"
      },
      {
        "duration": 9,
        "start_time": "2024-08-16T14:03:04.305Z"
      },
      {
        "duration": 20,
        "start_time": "2024-08-16T14:07:30.510Z"
      },
      {
        "duration": 5,
        "start_time": "2024-08-16T14:08:00.053Z"
      },
      {
        "duration": 5,
        "start_time": "2024-08-16T14:11:28.990Z"
      },
      {
        "duration": 22,
        "start_time": "2024-08-16T14:12:24.338Z"
      },
      {
        "duration": 23,
        "start_time": "2024-08-16T14:13:30.978Z"
      },
      {
        "duration": 14,
        "start_time": "2024-08-16T14:13:47.162Z"
      },
      {
        "duration": 4,
        "start_time": "2024-08-16T14:17:59.209Z"
      },
      {
        "duration": 872,
        "start_time": "2024-08-16T14:18:08.525Z"
      },
      {
        "duration": 135,
        "start_time": "2024-08-16T14:18:56.880Z"
      },
      {
        "duration": 11,
        "start_time": "2024-08-16T14:18:57.017Z"
      },
      {
        "duration": 31,
        "start_time": "2024-08-16T14:18:57.029Z"
      },
      {
        "duration": 17,
        "start_time": "2024-08-16T14:18:57.061Z"
      },
      {
        "duration": 21,
        "start_time": "2024-08-16T14:18:57.080Z"
      },
      {
        "duration": 19,
        "start_time": "2024-08-16T14:18:57.103Z"
      },
      {
        "duration": 7,
        "start_time": "2024-08-16T14:18:57.123Z"
      },
      {
        "duration": 24,
        "start_time": "2024-08-16T14:18:57.131Z"
      },
      {
        "duration": 19,
        "start_time": "2024-08-16T14:18:57.156Z"
      },
      {
        "duration": 10,
        "start_time": "2024-08-16T14:18:57.176Z"
      },
      {
        "duration": 35,
        "start_time": "2024-08-16T14:18:57.187Z"
      },
      {
        "duration": 19,
        "start_time": "2024-08-16T14:18:57.223Z"
      },
      {
        "duration": 23,
        "start_time": "2024-08-16T14:18:57.243Z"
      },
      {
        "duration": 4,
        "start_time": "2024-08-16T14:18:57.268Z"
      },
      {
        "duration": 22,
        "start_time": "2024-08-16T14:18:57.273Z"
      },
      {
        "duration": 8,
        "start_time": "2024-08-16T14:18:57.296Z"
      },
      {
        "duration": 29,
        "start_time": "2024-08-16T14:18:57.305Z"
      },
      {
        "duration": 33,
        "start_time": "2024-08-16T14:18:57.335Z"
      },
      {
        "duration": 14,
        "start_time": "2024-08-16T14:20:03.488Z"
      },
      {
        "duration": 5,
        "start_time": "2024-08-16T14:20:57.890Z"
      },
      {
        "duration": 134,
        "start_time": "2024-08-16T14:21:01.288Z"
      },
      {
        "duration": 12,
        "start_time": "2024-08-16T14:21:01.423Z"
      },
      {
        "duration": 19,
        "start_time": "2024-08-16T14:21:01.436Z"
      },
      {
        "duration": 11,
        "start_time": "2024-08-16T14:21:01.457Z"
      },
      {
        "duration": 39,
        "start_time": "2024-08-16T14:21:01.469Z"
      },
      {
        "duration": 19,
        "start_time": "2024-08-16T14:21:01.509Z"
      },
      {
        "duration": 22,
        "start_time": "2024-08-16T14:21:01.530Z"
      },
      {
        "duration": 9,
        "start_time": "2024-08-16T14:21:01.554Z"
      },
      {
        "duration": 11,
        "start_time": "2024-08-16T14:21:01.565Z"
      },
      {
        "duration": 9,
        "start_time": "2024-08-16T14:21:01.577Z"
      },
      {
        "duration": 22,
        "start_time": "2024-08-16T14:21:01.587Z"
      },
      {
        "duration": 7,
        "start_time": "2024-08-16T14:21:01.610Z"
      },
      {
        "duration": 22,
        "start_time": "2024-08-16T14:21:01.618Z"
      },
      {
        "duration": 4,
        "start_time": "2024-08-16T14:21:01.642Z"
      },
      {
        "duration": 144,
        "start_time": "2024-08-16T14:21:01.648Z"
      },
      {
        "duration": 50,
        "start_time": "2024-08-16T14:21:01.793Z"
      },
      {
        "duration": 44,
        "start_time": "2024-08-16T14:21:01.845Z"
      },
      {
        "duration": 136,
        "start_time": "2024-08-16T14:21:01.890Z"
      },
      {
        "duration": 58,
        "start_time": "2024-08-16T14:21:02.028Z"
      },
      {
        "duration": 7,
        "start_time": "2024-08-16T14:23:36.022Z"
      },
      {
        "duration": 9,
        "start_time": "2024-08-16T14:23:37.601Z"
      },
      {
        "duration": 19,
        "start_time": "2024-08-16T17:37:54.025Z"
      },
      {
        "duration": 21,
        "start_time": "2024-08-16T17:42:37.573Z"
      },
      {
        "duration": 12,
        "start_time": "2024-08-16T17:42:54.718Z"
      },
      {
        "duration": 135,
        "start_time": "2024-08-16T17:43:38.990Z"
      },
      {
        "duration": 13,
        "start_time": "2024-08-16T17:43:39.126Z"
      },
      {
        "duration": 18,
        "start_time": "2024-08-16T17:43:39.140Z"
      },
      {
        "duration": 13,
        "start_time": "2024-08-16T17:43:39.160Z"
      },
      {
        "duration": 16,
        "start_time": "2024-08-16T17:43:39.202Z"
      },
      {
        "duration": 7,
        "start_time": "2024-08-16T17:43:39.219Z"
      },
      {
        "duration": 15,
        "start_time": "2024-08-16T17:43:39.228Z"
      },
      {
        "duration": 10,
        "start_time": "2024-08-16T17:43:39.244Z"
      },
      {
        "duration": 10,
        "start_time": "2024-08-16T17:43:39.255Z"
      },
      {
        "duration": 38,
        "start_time": "2024-08-16T17:43:39.266Z"
      },
      {
        "duration": 6,
        "start_time": "2024-08-16T17:43:39.306Z"
      },
      {
        "duration": 34,
        "start_time": "2024-08-16T17:43:39.313Z"
      },
      {
        "duration": 3,
        "start_time": "2024-08-16T17:43:39.348Z"
      },
      {
        "duration": 20,
        "start_time": "2024-08-16T17:43:39.353Z"
      },
      {
        "duration": 5,
        "start_time": "2024-08-16T17:43:39.375Z"
      },
      {
        "duration": 8,
        "start_time": "2024-08-16T17:43:39.382Z"
      },
      {
        "duration": 12,
        "start_time": "2024-08-16T17:43:39.391Z"
      },
      {
        "duration": 22,
        "start_time": "2024-08-16T17:43:39.404Z"
      },
      {
        "duration": 18,
        "start_time": "2024-08-16T17:45:46.599Z"
      },
      {
        "duration": 18,
        "start_time": "2024-08-16T17:46:07.527Z"
      },
      {
        "duration": 148,
        "start_time": "2024-08-16T17:46:12.528Z"
      },
      {
        "duration": 11,
        "start_time": "2024-08-16T17:46:12.677Z"
      },
      {
        "duration": 81,
        "start_time": "2024-08-16T17:46:12.689Z"
      },
      {
        "duration": 15,
        "start_time": "2024-08-16T17:46:12.772Z"
      },
      {
        "duration": 18,
        "start_time": "2024-08-16T17:46:12.788Z"
      },
      {
        "duration": 16,
        "start_time": "2024-08-16T17:46:12.807Z"
      },
      {
        "duration": 14,
        "start_time": "2024-08-16T17:46:12.824Z"
      },
      {
        "duration": 9,
        "start_time": "2024-08-16T17:46:12.839Z"
      },
      {
        "duration": 39,
        "start_time": "2024-08-16T17:46:12.849Z"
      },
      {
        "duration": 10,
        "start_time": "2024-08-16T17:46:12.889Z"
      },
      {
        "duration": 6,
        "start_time": "2024-08-16T17:46:12.901Z"
      },
      {
        "duration": 35,
        "start_time": "2024-08-16T17:46:12.908Z"
      },
      {
        "duration": 8,
        "start_time": "2024-08-16T17:46:12.944Z"
      },
      {
        "duration": 20,
        "start_time": "2024-08-16T17:46:12.953Z"
      },
      {
        "duration": 13,
        "start_time": "2024-08-16T17:46:12.974Z"
      },
      {
        "duration": 82,
        "start_time": "2024-08-16T17:46:12.988Z"
      },
      {
        "duration": 31,
        "start_time": "2024-08-16T17:46:13.071Z"
      },
      {
        "duration": 32,
        "start_time": "2024-08-16T17:46:13.103Z"
      },
      {
        "duration": 8,
        "start_time": "2024-08-16T17:47:33.862Z"
      },
      {
        "duration": 12,
        "start_time": "2024-08-16T17:47:51.970Z"
      },
      {
        "duration": 1109,
        "start_time": "2024-08-16T17:48:48.678Z"
      },
      {
        "duration": 0,
        "start_time": "2024-08-16T17:48:49.788Z"
      },
      {
        "duration": 10,
        "start_time": "2024-08-16T17:48:56.863Z"
      },
      {
        "duration": 13,
        "start_time": "2024-08-16T17:49:04.183Z"
      },
      {
        "duration": 9,
        "start_time": "2024-08-16T17:49:11.405Z"
      },
      {
        "duration": 12,
        "start_time": "2024-08-16T17:49:17.246Z"
      },
      {
        "duration": 11,
        "start_time": "2024-08-16T17:52:34.814Z"
      },
      {
        "duration": 136,
        "start_time": "2024-08-16T17:53:12.162Z"
      },
      {
        "duration": 10,
        "start_time": "2024-08-16T17:53:44.779Z"
      },
      {
        "duration": 8,
        "start_time": "2024-08-16T17:54:02.198Z"
      },
      {
        "duration": 19,
        "start_time": "2024-08-16T17:54:17.755Z"
      },
      {
        "duration": 20,
        "start_time": "2024-08-16T17:54:22.294Z"
      },
      {
        "duration": 19,
        "start_time": "2024-08-16T17:54:30.890Z"
      },
      {
        "duration": 12,
        "start_time": "2024-08-16T17:54:37.143Z"
      },
      {
        "duration": 10,
        "start_time": "2024-08-16T17:55:50.038Z"
      },
      {
        "duration": 11,
        "start_time": "2024-08-16T17:55:57.786Z"
      },
      {
        "duration": 12,
        "start_time": "2024-08-16T17:56:03.322Z"
      },
      {
        "duration": 18,
        "start_time": "2024-08-16T17:56:20.471Z"
      },
      {
        "duration": 11,
        "start_time": "2024-08-16T17:56:39.316Z"
      },
      {
        "duration": 12,
        "start_time": "2024-08-16T17:56:59.163Z"
      },
      {
        "duration": 12,
        "start_time": "2024-08-16T17:57:26.034Z"
      },
      {
        "duration": 11,
        "start_time": "2024-08-16T17:57:43.483Z"
      },
      {
        "duration": 11,
        "start_time": "2024-08-16T17:57:45.522Z"
      },
      {
        "duration": 12,
        "start_time": "2024-08-16T17:57:59.863Z"
      },
      {
        "duration": 12,
        "start_time": "2024-08-16T18:00:26.216Z"
      },
      {
        "duration": 9,
        "start_time": "2024-08-16T18:00:40.092Z"
      },
      {
        "duration": 18,
        "start_time": "2024-08-16T18:00:52.168Z"
      },
      {
        "duration": 17,
        "start_time": "2024-08-16T18:01:00.310Z"
      },
      {
        "duration": 10,
        "start_time": "2024-08-16T18:01:19.715Z"
      },
      {
        "duration": 25,
        "start_time": "2024-08-16T18:01:58.115Z"
      },
      {
        "duration": 12,
        "start_time": "2024-08-16T18:02:01.060Z"
      },
      {
        "duration": 146,
        "start_time": "2024-08-16T18:02:30.506Z"
      },
      {
        "duration": 12,
        "start_time": "2024-08-16T18:02:32.426Z"
      },
      {
        "duration": 9,
        "start_time": "2024-08-16T18:02:32.659Z"
      },
      {
        "duration": 11,
        "start_time": "2024-08-16T18:02:32.920Z"
      },
      {
        "duration": 18,
        "start_time": "2024-08-16T18:02:33.325Z"
      },
      {
        "duration": 11,
        "start_time": "2024-08-16T18:02:33.593Z"
      },
      {
        "duration": 11,
        "start_time": "2024-08-16T18:02:34.751Z"
      },
      {
        "duration": 17,
        "start_time": "2024-08-16T18:02:35.522Z"
      },
      {
        "duration": 8,
        "start_time": "2024-08-16T18:02:35.836Z"
      },
      {
        "duration": 17,
        "start_time": "2024-08-16T18:02:35.973Z"
      },
      {
        "duration": 14,
        "start_time": "2024-08-16T18:02:36.152Z"
      },
      {
        "duration": 10,
        "start_time": "2024-08-16T18:02:36.338Z"
      },
      {
        "duration": 15,
        "start_time": "2024-08-16T18:02:36.466Z"
      },
      {
        "duration": 7,
        "start_time": "2024-08-16T18:02:36.844Z"
      },
      {
        "duration": 22,
        "start_time": "2024-08-16T18:02:37.375Z"
      },
      {
        "duration": 4,
        "start_time": "2024-08-16T18:02:37.629Z"
      },
      {
        "duration": 14,
        "start_time": "2024-08-16T18:02:38.143Z"
      },
      {
        "duration": 7,
        "start_time": "2024-08-16T18:02:38.535Z"
      },
      {
        "duration": 14,
        "start_time": "2024-08-16T18:02:39.041Z"
      },
      {
        "duration": 5,
        "start_time": "2024-08-16T18:02:39.382Z"
      },
      {
        "duration": 24,
        "start_time": "2024-08-16T18:02:57.147Z"
      },
      {
        "duration": 7,
        "start_time": "2024-08-16T18:03:06.862Z"
      },
      {
        "duration": 12,
        "start_time": "2024-08-16T18:41:05.643Z"
      },
      {
        "duration": 138,
        "start_time": "2024-08-16T18:41:10.353Z"
      },
      {
        "duration": 10,
        "start_time": "2024-08-16T18:41:10.493Z"
      },
      {
        "duration": 88,
        "start_time": "2024-08-16T18:41:10.504Z"
      },
      {
        "duration": 78,
        "start_time": "2024-08-16T18:41:10.594Z"
      },
      {
        "duration": 61,
        "start_time": "2024-08-16T18:41:10.674Z"
      },
      {
        "duration": 86,
        "start_time": "2024-08-16T18:41:10.736Z"
      },
      {
        "duration": 148,
        "start_time": "2024-08-16T18:41:10.824Z"
      },
      {
        "duration": 18,
        "start_time": "2024-08-16T18:41:10.974Z"
      },
      {
        "duration": 8,
        "start_time": "2024-08-16T18:41:10.993Z"
      },
      {
        "duration": 12,
        "start_time": "2024-08-16T18:41:11.003Z"
      },
      {
        "duration": 10,
        "start_time": "2024-08-16T18:41:11.016Z"
      },
      {
        "duration": 12,
        "start_time": "2024-08-16T18:41:11.028Z"
      },
      {
        "duration": 11,
        "start_time": "2024-08-16T18:41:11.041Z"
      },
      {
        "duration": 6,
        "start_time": "2024-08-16T18:41:11.055Z"
      },
      {
        "duration": 46,
        "start_time": "2024-08-16T18:41:11.063Z"
      },
      {
        "duration": 5,
        "start_time": "2024-08-16T18:41:11.111Z"
      },
      {
        "duration": 22,
        "start_time": "2024-08-16T18:41:11.117Z"
      },
      {
        "duration": 7,
        "start_time": "2024-08-16T18:41:11.140Z"
      },
      {
        "duration": 25,
        "start_time": "2024-08-16T18:41:11.148Z"
      },
      {
        "duration": 8,
        "start_time": "2024-08-16T18:41:11.175Z"
      },
      {
        "duration": 70,
        "start_time": "2024-08-16T18:41:11.184Z"
      },
      {
        "duration": 5,
        "start_time": "2024-08-16T18:41:26.366Z"
      },
      {
        "duration": 13,
        "start_time": "2024-08-16T18:41:28.625Z"
      },
      {
        "duration": 138,
        "start_time": "2024-08-16T18:41:36.928Z"
      },
      {
        "duration": 11,
        "start_time": "2024-08-16T18:41:37.068Z"
      },
      {
        "duration": 9,
        "start_time": "2024-08-16T18:41:37.080Z"
      },
      {
        "duration": 9,
        "start_time": "2024-08-16T18:41:37.091Z"
      },
      {
        "duration": 17,
        "start_time": "2024-08-16T18:41:37.102Z"
      },
      {
        "duration": 12,
        "start_time": "2024-08-16T18:41:37.120Z"
      },
      {
        "duration": 11,
        "start_time": "2024-08-16T18:41:37.133Z"
      },
      {
        "duration": 15,
        "start_time": "2024-08-16T18:41:37.145Z"
      },
      {
        "duration": 11,
        "start_time": "2024-08-16T18:41:37.162Z"
      },
      {
        "duration": 33,
        "start_time": "2024-08-16T18:41:37.175Z"
      },
      {
        "duration": 31,
        "start_time": "2024-08-16T18:41:37.209Z"
      },
      {
        "duration": 17,
        "start_time": "2024-08-16T18:41:37.242Z"
      },
      {
        "duration": 11,
        "start_time": "2024-08-16T18:41:37.260Z"
      },
      {
        "duration": 7,
        "start_time": "2024-08-16T18:41:37.273Z"
      },
      {
        "duration": 27,
        "start_time": "2024-08-16T18:41:37.281Z"
      },
      {
        "duration": 4,
        "start_time": "2024-08-16T18:41:37.309Z"
      },
      {
        "duration": 23,
        "start_time": "2024-08-16T18:41:37.314Z"
      },
      {
        "duration": 6,
        "start_time": "2024-08-16T18:41:37.338Z"
      },
      {
        "duration": 40,
        "start_time": "2024-08-16T18:41:37.345Z"
      },
      {
        "duration": 5,
        "start_time": "2024-08-16T18:41:37.386Z"
      },
      {
        "duration": 8,
        "start_time": "2024-08-16T18:41:37.392Z"
      },
      {
        "duration": 5,
        "start_time": "2024-08-16T18:42:21.686Z"
      },
      {
        "duration": 9,
        "start_time": "2024-08-16T18:42:22.882Z"
      },
      {
        "duration": 4,
        "start_time": "2024-08-16T18:42:28.508Z"
      },
      {
        "duration": 4,
        "start_time": "2024-08-16T18:42:35.285Z"
      },
      {
        "duration": 22,
        "start_time": "2024-08-16T18:42:43.686Z"
      },
      {
        "duration": 135,
        "start_time": "2024-08-16T18:43:03.256Z"
      },
      {
        "duration": 10,
        "start_time": "2024-08-16T18:43:03.393Z"
      },
      {
        "duration": 7,
        "start_time": "2024-08-16T18:43:03.405Z"
      },
      {
        "duration": 13,
        "start_time": "2024-08-16T18:43:03.414Z"
      },
      {
        "duration": 24,
        "start_time": "2024-08-16T18:43:03.428Z"
      },
      {
        "duration": 11,
        "start_time": "2024-08-16T18:43:03.453Z"
      },
      {
        "duration": 15,
        "start_time": "2024-08-16T18:43:03.465Z"
      },
      {
        "duration": 21,
        "start_time": "2024-08-16T18:43:03.482Z"
      },
      {
        "duration": 7,
        "start_time": "2024-08-16T18:43:03.505Z"
      },
      {
        "duration": 10,
        "start_time": "2024-08-16T18:43:03.514Z"
      },
      {
        "duration": 13,
        "start_time": "2024-08-16T18:43:03.525Z"
      },
      {
        "duration": 9,
        "start_time": "2024-08-16T18:43:03.540Z"
      },
      {
        "duration": 11,
        "start_time": "2024-08-16T18:43:03.550Z"
      },
      {
        "duration": 11,
        "start_time": "2024-08-16T18:43:03.563Z"
      },
      {
        "duration": 43,
        "start_time": "2024-08-16T18:43:03.575Z"
      },
      {
        "duration": 4,
        "start_time": "2024-08-16T18:43:03.619Z"
      },
      {
        "duration": 14,
        "start_time": "2024-08-16T18:43:03.624Z"
      },
      {
        "duration": 5,
        "start_time": "2024-08-16T18:43:03.639Z"
      },
      {
        "duration": 10,
        "start_time": "2024-08-16T18:43:03.645Z"
      },
      {
        "duration": 12,
        "start_time": "2024-08-16T18:43:03.656Z"
      },
      {
        "duration": 41,
        "start_time": "2024-08-16T18:43:03.669Z"
      },
      {
        "duration": 65,
        "start_time": "2024-08-16T18:46:53.363Z"
      },
      {
        "duration": 65,
        "start_time": "2024-08-16T18:47:22.611Z"
      },
      {
        "duration": 65,
        "start_time": "2024-08-16T18:47:29.710Z"
      },
      {
        "duration": 90,
        "start_time": "2024-08-16T18:47:57.062Z"
      },
      {
        "duration": 86,
        "start_time": "2024-08-16T18:48:12.091Z"
      },
      {
        "duration": 6,
        "start_time": "2024-08-16T18:48:21.678Z"
      },
      {
        "duration": 9,
        "start_time": "2024-08-16T18:48:26.749Z"
      },
      {
        "duration": 23,
        "start_time": "2024-08-16T18:49:09.244Z"
      },
      {
        "duration": 5,
        "start_time": "2024-08-16T18:50:20.958Z"
      },
      {
        "duration": 160,
        "start_time": "2024-08-16T18:50:27.144Z"
      },
      {
        "duration": 13,
        "start_time": "2024-08-16T18:50:27.306Z"
      },
      {
        "duration": 9,
        "start_time": "2024-08-16T18:50:27.320Z"
      },
      {
        "duration": 19,
        "start_time": "2024-08-16T18:50:27.331Z"
      },
      {
        "duration": 25,
        "start_time": "2024-08-16T18:50:27.352Z"
      },
      {
        "duration": 29,
        "start_time": "2024-08-16T18:50:27.379Z"
      },
      {
        "duration": 20,
        "start_time": "2024-08-16T18:50:27.410Z"
      },
      {
        "duration": 17,
        "start_time": "2024-08-16T18:50:27.431Z"
      },
      {
        "duration": 9,
        "start_time": "2024-08-16T18:50:27.449Z"
      },
      {
        "duration": 11,
        "start_time": "2024-08-16T18:50:27.459Z"
      },
      {
        "duration": 37,
        "start_time": "2024-08-16T18:50:27.472Z"
      },
      {
        "duration": 10,
        "start_time": "2024-08-16T18:50:27.511Z"
      },
      {
        "duration": 9,
        "start_time": "2024-08-16T18:50:27.523Z"
      },
      {
        "duration": 7,
        "start_time": "2024-08-16T18:50:27.534Z"
      },
      {
        "duration": 19,
        "start_time": "2024-08-16T18:50:27.542Z"
      },
      {
        "duration": 4,
        "start_time": "2024-08-16T18:50:27.562Z"
      },
      {
        "duration": 45,
        "start_time": "2024-08-16T18:50:27.567Z"
      },
      {
        "duration": 87,
        "start_time": "2024-08-16T18:50:27.613Z"
      },
      {
        "duration": 9,
        "start_time": "2024-08-16T18:50:27.702Z"
      },
      {
        "duration": 4,
        "start_time": "2024-08-16T18:50:27.712Z"
      },
      {
        "duration": 14,
        "start_time": "2024-08-16T18:50:27.717Z"
      },
      {
        "duration": 23,
        "start_time": "2024-08-16T18:50:27.732Z"
      },
      {
        "duration": 4,
        "start_time": "2024-08-16T18:50:27.756Z"
      },
      {
        "duration": 11,
        "start_time": "2024-08-16T18:52:32.830Z"
      },
      {
        "duration": 97,
        "start_time": "2024-08-16T18:53:24.334Z"
      },
      {
        "duration": 5,
        "start_time": "2024-08-16T18:55:46.270Z"
      },
      {
        "duration": 9,
        "start_time": "2024-08-16T18:59:29.150Z"
      },
      {
        "duration": 22,
        "start_time": "2024-08-16T19:00:37.202Z"
      },
      {
        "duration": 5,
        "start_time": "2024-08-16T19:04:30.137Z"
      },
      {
        "duration": 6,
        "start_time": "2024-08-16T19:12:25.518Z"
      },
      {
        "duration": 5,
        "start_time": "2024-08-16T19:12:33.838Z"
      },
      {
        "duration": 4,
        "start_time": "2024-08-16T19:17:18.769Z"
      },
      {
        "duration": 4,
        "start_time": "2024-08-16T19:18:03.306Z"
      },
      {
        "duration": 7,
        "start_time": "2024-08-16T19:18:13.212Z"
      },
      {
        "duration": 136,
        "start_time": "2024-08-16T19:18:19.697Z"
      },
      {
        "duration": 11,
        "start_time": "2024-08-16T19:18:19.834Z"
      },
      {
        "duration": 14,
        "start_time": "2024-08-16T19:18:19.846Z"
      },
      {
        "duration": 16,
        "start_time": "2024-08-16T19:18:19.861Z"
      },
      {
        "duration": 23,
        "start_time": "2024-08-16T19:18:19.879Z"
      },
      {
        "duration": 13,
        "start_time": "2024-08-16T19:18:19.903Z"
      },
      {
        "duration": 26,
        "start_time": "2024-08-16T19:18:19.917Z"
      },
      {
        "duration": 15,
        "start_time": "2024-08-16T19:18:19.944Z"
      },
      {
        "duration": 6,
        "start_time": "2024-08-16T19:18:19.961Z"
      },
      {
        "duration": 13,
        "start_time": "2024-08-16T19:18:19.969Z"
      },
      {
        "duration": 54,
        "start_time": "2024-08-16T19:18:19.983Z"
      },
      {
        "duration": 23,
        "start_time": "2024-08-16T19:18:20.039Z"
      },
      {
        "duration": 16,
        "start_time": "2024-08-16T19:18:20.063Z"
      },
      {
        "duration": 16,
        "start_time": "2024-08-16T19:18:20.080Z"
      },
      {
        "duration": 3,
        "start_time": "2024-08-16T19:18:20.098Z"
      },
      {
        "duration": 8,
        "start_time": "2024-08-16T19:18:20.103Z"
      },
      {
        "duration": 20,
        "start_time": "2024-08-16T19:18:20.113Z"
      },
      {
        "duration": 8,
        "start_time": "2024-08-16T19:18:20.134Z"
      },
      {
        "duration": 24,
        "start_time": "2024-08-16T19:18:20.143Z"
      },
      {
        "duration": 5,
        "start_time": "2024-08-16T19:18:20.168Z"
      },
      {
        "duration": 15,
        "start_time": "2024-08-16T19:18:20.174Z"
      },
      {
        "duration": 13,
        "start_time": "2024-08-16T19:18:20.190Z"
      },
      {
        "duration": 13,
        "start_time": "2024-08-16T19:18:20.204Z"
      },
      {
        "duration": 23,
        "start_time": "2024-08-16T19:18:20.218Z"
      },
      {
        "duration": 5,
        "start_time": "2024-08-16T19:18:20.242Z"
      },
      {
        "duration": 11,
        "start_time": "2024-08-16T19:18:20.248Z"
      },
      {
        "duration": 4,
        "start_time": "2024-08-16T19:18:20.261Z"
      },
      {
        "duration": 40,
        "start_time": "2024-08-16T19:18:20.269Z"
      },
      {
        "duration": 22,
        "start_time": "2024-08-16T19:18:20.310Z"
      },
      {
        "duration": 6,
        "start_time": "2024-08-16T19:18:20.333Z"
      },
      {
        "duration": 8,
        "start_time": "2024-08-16T19:18:20.340Z"
      },
      {
        "duration": 137,
        "start_time": "2024-08-16T19:21:07.906Z"
      },
      {
        "duration": 11,
        "start_time": "2024-08-16T19:21:08.044Z"
      },
      {
        "duration": 8,
        "start_time": "2024-08-16T19:21:08.056Z"
      },
      {
        "duration": 14,
        "start_time": "2024-08-16T19:21:08.066Z"
      },
      {
        "duration": 20,
        "start_time": "2024-08-16T19:21:08.082Z"
      },
      {
        "duration": 12,
        "start_time": "2024-08-16T19:21:08.103Z"
      },
      {
        "duration": 12,
        "start_time": "2024-08-16T19:21:08.116Z"
      },
      {
        "duration": 25,
        "start_time": "2024-08-16T19:21:08.129Z"
      },
      {
        "duration": 7,
        "start_time": "2024-08-16T19:21:08.156Z"
      },
      {
        "duration": 13,
        "start_time": "2024-08-16T19:21:08.165Z"
      },
      {
        "duration": 28,
        "start_time": "2024-08-16T19:21:08.179Z"
      },
      {
        "duration": 21,
        "start_time": "2024-08-16T19:21:08.208Z"
      },
      {
        "duration": 14,
        "start_time": "2024-08-16T19:21:08.230Z"
      },
      {
        "duration": 6,
        "start_time": "2024-08-16T19:21:08.246Z"
      },
      {
        "duration": 9,
        "start_time": "2024-08-16T19:21:08.253Z"
      },
      {
        "duration": 32,
        "start_time": "2024-08-16T19:21:08.263Z"
      },
      {
        "duration": 21,
        "start_time": "2024-08-16T19:21:08.296Z"
      },
      {
        "duration": 15,
        "start_time": "2024-08-16T19:21:08.318Z"
      },
      {
        "duration": 5,
        "start_time": "2024-08-16T19:21:08.334Z"
      },
      {
        "duration": 8,
        "start_time": "2024-08-16T19:21:08.340Z"
      },
      {
        "duration": 17,
        "start_time": "2024-08-16T19:21:08.349Z"
      },
      {
        "duration": 23,
        "start_time": "2024-08-16T19:21:08.367Z"
      },
      {
        "duration": 23,
        "start_time": "2024-08-16T19:21:08.392Z"
      },
      {
        "duration": 4,
        "start_time": "2024-08-16T19:21:08.416Z"
      },
      {
        "duration": 11,
        "start_time": "2024-08-16T19:21:08.421Z"
      },
      {
        "duration": 4,
        "start_time": "2024-08-16T19:21:08.433Z"
      },
      {
        "duration": 13,
        "start_time": "2024-08-16T19:21:08.439Z"
      },
      {
        "duration": 27,
        "start_time": "2024-08-16T19:21:08.454Z"
      },
      {
        "duration": 4,
        "start_time": "2024-08-16T19:21:08.482Z"
      },
      {
        "duration": 5,
        "start_time": "2024-08-16T19:21:08.501Z"
      },
      {
        "duration": 148,
        "start_time": "2024-08-16T19:21:21.700Z"
      },
      {
        "duration": 11,
        "start_time": "2024-08-16T19:21:21.849Z"
      },
      {
        "duration": 13,
        "start_time": "2024-08-16T19:21:21.862Z"
      },
      {
        "duration": 19,
        "start_time": "2024-08-16T19:21:21.877Z"
      },
      {
        "duration": 28,
        "start_time": "2024-08-16T19:21:21.897Z"
      },
      {
        "duration": 12,
        "start_time": "2024-08-16T19:21:21.926Z"
      },
      {
        "duration": 10,
        "start_time": "2024-08-16T19:21:21.939Z"
      },
      {
        "duration": 18,
        "start_time": "2024-08-16T19:21:21.950Z"
      },
      {
        "duration": 7,
        "start_time": "2024-08-16T19:21:21.969Z"
      },
      {
        "duration": 25,
        "start_time": "2024-08-16T19:21:21.978Z"
      },
      {
        "duration": 10,
        "start_time": "2024-08-16T19:21:22.004Z"
      },
      {
        "duration": 11,
        "start_time": "2024-08-16T19:21:22.015Z"
      },
      {
        "duration": 17,
        "start_time": "2024-08-16T19:21:22.028Z"
      },
      {
        "duration": 7,
        "start_time": "2024-08-16T19:21:22.046Z"
      },
      {
        "duration": 14,
        "start_time": "2024-08-16T19:21:22.054Z"
      },
      {
        "duration": 9,
        "start_time": "2024-08-16T19:21:22.069Z"
      },
      {
        "duration": 11,
        "start_time": "2024-08-16T19:21:22.080Z"
      },
      {
        "duration": 19,
        "start_time": "2024-08-16T19:21:22.092Z"
      },
      {
        "duration": 11,
        "start_time": "2024-08-16T19:21:22.112Z"
      },
      {
        "duration": 20,
        "start_time": "2024-08-16T19:21:22.125Z"
      },
      {
        "duration": 11,
        "start_time": "2024-08-16T19:21:22.146Z"
      },
      {
        "duration": 23,
        "start_time": "2024-08-16T19:21:22.158Z"
      },
      {
        "duration": 27,
        "start_time": "2024-08-16T19:21:22.183Z"
      },
      {
        "duration": 4,
        "start_time": "2024-08-16T19:21:22.211Z"
      },
      {
        "duration": 30,
        "start_time": "2024-08-16T19:21:22.216Z"
      },
      {
        "duration": 6,
        "start_time": "2024-08-16T19:21:22.247Z"
      },
      {
        "duration": 29,
        "start_time": "2024-08-16T19:21:22.255Z"
      },
      {
        "duration": 33,
        "start_time": "2024-08-16T19:21:22.286Z"
      },
      {
        "duration": 4,
        "start_time": "2024-08-16T19:21:22.320Z"
      },
      {
        "duration": 19,
        "start_time": "2024-08-16T19:21:22.325Z"
      },
      {
        "duration": 3,
        "start_time": "2024-08-16T19:22:30.674Z"
      },
      {
        "duration": 7,
        "start_time": "2024-08-16T19:22:32.601Z"
      },
      {
        "duration": 3,
        "start_time": "2024-08-16T19:25:24.230Z"
      },
      {
        "duration": 8,
        "start_time": "2024-08-16T19:26:08.576Z"
      },
      {
        "duration": 17,
        "start_time": "2024-08-16T19:26:12.522Z"
      },
      {
        "duration": 9,
        "start_time": "2024-08-16T19:27:58.962Z"
      },
      {
        "duration": 11,
        "start_time": "2024-08-16T19:28:09.588Z"
      },
      {
        "duration": 12,
        "start_time": "2024-08-16T19:28:18.505Z"
      },
      {
        "duration": 13,
        "start_time": "2024-08-16T19:28:23.483Z"
      },
      {
        "duration": 13,
        "start_time": "2024-08-16T19:29:58.313Z"
      },
      {
        "duration": 22,
        "start_time": "2024-08-16T19:33:37.794Z"
      },
      {
        "duration": 11,
        "start_time": "2024-08-16T19:37:48.186Z"
      },
      {
        "duration": 10,
        "start_time": "2024-08-16T19:38:13.502Z"
      },
      {
        "duration": 48,
        "start_time": "2024-08-18T15:09:46.198Z"
      },
      {
        "duration": 1766,
        "start_time": "2024-08-18T15:09:50.514Z"
      },
      {
        "duration": 12,
        "start_time": "2024-08-18T15:09:52.282Z"
      },
      {
        "duration": 73,
        "start_time": "2024-08-18T15:09:52.295Z"
      },
      {
        "duration": 55,
        "start_time": "2024-08-18T15:09:52.370Z"
      },
      {
        "duration": 62,
        "start_time": "2024-08-18T15:09:52.427Z"
      },
      {
        "duration": 13,
        "start_time": "2024-08-18T15:09:52.491Z"
      },
      {
        "duration": 63,
        "start_time": "2024-08-18T15:09:52.506Z"
      },
      {
        "duration": 34,
        "start_time": "2024-08-18T15:09:52.570Z"
      },
      {
        "duration": 10,
        "start_time": "2024-08-18T15:09:52.606Z"
      },
      {
        "duration": 14,
        "start_time": "2024-08-18T15:09:52.618Z"
      },
      {
        "duration": 16,
        "start_time": "2024-08-18T15:09:52.634Z"
      },
      {
        "duration": 24,
        "start_time": "2024-08-18T15:09:52.651Z"
      },
      {
        "duration": 36,
        "start_time": "2024-08-18T15:09:52.676Z"
      },
      {
        "duration": 26,
        "start_time": "2024-08-18T15:09:52.715Z"
      },
      {
        "duration": 18,
        "start_time": "2024-08-18T15:09:52.743Z"
      },
      {
        "duration": 18,
        "start_time": "2024-08-18T15:09:52.762Z"
      },
      {
        "duration": 25,
        "start_time": "2024-08-18T15:09:52.782Z"
      },
      {
        "duration": 37,
        "start_time": "2024-08-18T15:09:52.809Z"
      },
      {
        "duration": 11,
        "start_time": "2024-08-18T15:09:52.847Z"
      },
      {
        "duration": 14,
        "start_time": "2024-08-18T15:09:52.859Z"
      },
      {
        "duration": 31,
        "start_time": "2024-08-18T15:09:52.874Z"
      },
      {
        "duration": 30,
        "start_time": "2024-08-18T15:09:52.907Z"
      },
      {
        "duration": 59,
        "start_time": "2024-08-18T15:09:52.939Z"
      },
      {
        "duration": 5,
        "start_time": "2024-08-18T15:09:53.000Z"
      },
      {
        "duration": 16,
        "start_time": "2024-08-18T15:09:53.006Z"
      },
      {
        "duration": 5,
        "start_time": "2024-08-18T15:09:53.024Z"
      },
      {
        "duration": 36,
        "start_time": "2024-08-18T15:09:53.030Z"
      },
      {
        "duration": 45,
        "start_time": "2024-08-18T15:09:53.068Z"
      },
      {
        "duration": 15,
        "start_time": "2024-08-18T15:09:53.115Z"
      },
      {
        "duration": 22,
        "start_time": "2024-08-18T15:09:53.132Z"
      },
      {
        "duration": 55,
        "start_time": "2024-08-18T15:09:53.156Z"
      },
      {
        "duration": 43,
        "start_time": "2024-08-18T15:09:53.212Z"
      },
      {
        "duration": 48,
        "start_time": "2024-08-18T15:09:53.257Z"
      },
      {
        "duration": 37,
        "start_time": "2024-08-18T15:09:53.307Z"
      },
      {
        "duration": 74,
        "start_time": "2024-08-18T15:09:53.346Z"
      },
      {
        "duration": 18,
        "start_time": "2024-08-18T15:15:28.887Z"
      },
      {
        "duration": 19,
        "start_time": "2024-08-18T15:19:22.195Z"
      },
      {
        "duration": 60,
        "start_time": "2024-08-18T15:24:05.114Z"
      },
      {
        "duration": 7,
        "start_time": "2024-08-18T15:24:13.669Z"
      },
      {
        "duration": 141,
        "start_time": "2024-08-18T15:25:07.773Z"
      },
      {
        "duration": 9,
        "start_time": "2024-08-18T15:27:31.822Z"
      },
      {
        "duration": 18,
        "start_time": "2024-08-18T15:27:37.946Z"
      },
      {
        "duration": 9,
        "start_time": "2024-08-18T15:28:09.059Z"
      },
      {
        "duration": 15,
        "start_time": "2024-08-18T15:28:13.805Z"
      },
      {
        "duration": 19,
        "start_time": "2024-08-18T15:28:50.300Z"
      },
      {
        "duration": 22,
        "start_time": "2024-08-18T15:29:00.126Z"
      },
      {
        "duration": 10,
        "start_time": "2024-08-18T15:34:12.410Z"
      },
      {
        "duration": 11,
        "start_time": "2024-08-18T15:34:38.363Z"
      },
      {
        "duration": 182,
        "start_time": "2024-08-18T15:34:57.112Z"
      },
      {
        "duration": 185,
        "start_time": "2024-08-18T15:37:26.869Z"
      },
      {
        "duration": 457,
        "start_time": "2024-08-18T15:39:21.943Z"
      },
      {
        "duration": 23,
        "start_time": "2024-08-18T15:47:12.798Z"
      },
      {
        "duration": 21,
        "start_time": "2024-08-18T15:47:44.230Z"
      },
      {
        "duration": 24,
        "start_time": "2024-08-18T15:48:04.198Z"
      },
      {
        "duration": 33,
        "start_time": "2024-08-18T15:48:22.985Z"
      },
      {
        "duration": 49,
        "start_time": "2024-08-18T15:48:35.436Z"
      },
      {
        "duration": 5,
        "start_time": "2024-08-18T15:52:59.415Z"
      },
      {
        "duration": 7,
        "start_time": "2024-08-18T15:53:48.211Z"
      },
      {
        "duration": 7,
        "start_time": "2024-08-18T15:53:58.496Z"
      },
      {
        "duration": 149,
        "start_time": "2024-08-18T15:54:14.723Z"
      },
      {
        "duration": 773,
        "start_time": "2024-08-18T15:54:34.315Z"
      },
      {
        "duration": 2970,
        "start_time": "2024-08-18T15:54:54.006Z"
      },
      {
        "duration": 146,
        "start_time": "2024-08-18T15:57:38.289Z"
      },
      {
        "duration": 135,
        "start_time": "2024-08-18T15:57:49.173Z"
      },
      {
        "duration": 2961,
        "start_time": "2024-08-18T16:05:16.548Z"
      },
      {
        "duration": 5,
        "start_time": "2024-08-18T16:09:57.957Z"
      },
      {
        "duration": 2922,
        "start_time": "2024-08-18T16:10:07.621Z"
      },
      {
        "duration": 236,
        "start_time": "2024-08-18T16:10:38.142Z"
      },
      {
        "duration": 906,
        "start_time": "2024-08-18T16:12:51.068Z"
      },
      {
        "duration": 215,
        "start_time": "2024-08-18T16:14:22.729Z"
      },
      {
        "duration": 403,
        "start_time": "2024-08-18T16:14:46.773Z"
      },
      {
        "duration": 14,
        "start_time": "2024-08-18T16:15:37.073Z"
      },
      {
        "duration": 178,
        "start_time": "2024-08-18T17:41:22.764Z"
      },
      {
        "duration": 20,
        "start_time": "2024-08-18T17:54:59.469Z"
      },
      {
        "duration": 183,
        "start_time": "2024-08-18T17:55:06.229Z"
      },
      {
        "duration": 13,
        "start_time": "2024-08-18T17:55:06.414Z"
      },
      {
        "duration": 10,
        "start_time": "2024-08-18T17:55:06.428Z"
      },
      {
        "duration": 17,
        "start_time": "2024-08-18T17:55:06.440Z"
      },
      {
        "duration": 50,
        "start_time": "2024-08-18T17:55:06.459Z"
      },
      {
        "duration": 16,
        "start_time": "2024-08-18T17:55:06.511Z"
      },
      {
        "duration": 15,
        "start_time": "2024-08-18T17:55:06.528Z"
      },
      {
        "duration": 26,
        "start_time": "2024-08-18T17:55:06.545Z"
      },
      {
        "duration": 10,
        "start_time": "2024-08-18T17:55:06.595Z"
      },
      {
        "duration": 13,
        "start_time": "2024-08-18T17:55:06.608Z"
      },
      {
        "duration": 13,
        "start_time": "2024-08-18T17:55:06.623Z"
      },
      {
        "duration": 12,
        "start_time": "2024-08-18T17:55:06.637Z"
      },
      {
        "duration": 50,
        "start_time": "2024-08-18T17:55:06.651Z"
      },
      {
        "duration": 31,
        "start_time": "2024-08-18T17:55:06.703Z"
      },
      {
        "duration": 3,
        "start_time": "2024-08-18T17:55:06.736Z"
      },
      {
        "duration": 9,
        "start_time": "2024-08-18T17:55:06.740Z"
      },
      {
        "duration": 5,
        "start_time": "2024-08-18T17:55:06.750Z"
      },
      {
        "duration": 49,
        "start_time": "2024-08-18T17:55:06.756Z"
      },
      {
        "duration": 8,
        "start_time": "2024-08-18T17:55:06.807Z"
      },
      {
        "duration": 12,
        "start_time": "2024-08-18T17:55:06.817Z"
      },
      {
        "duration": 4,
        "start_time": "2024-08-18T17:55:06.831Z"
      },
      {
        "duration": 20,
        "start_time": "2024-08-18T17:55:06.837Z"
      },
      {
        "duration": 57,
        "start_time": "2024-08-18T17:55:06.858Z"
      },
      {
        "duration": 6,
        "start_time": "2024-08-18T17:55:06.916Z"
      },
      {
        "duration": 21,
        "start_time": "2024-08-18T17:55:06.923Z"
      },
      {
        "duration": 37,
        "start_time": "2024-08-18T17:55:06.946Z"
      },
      {
        "duration": 54,
        "start_time": "2024-08-18T17:55:06.984Z"
      },
      {
        "duration": 28,
        "start_time": "2024-08-18T17:55:07.042Z"
      },
      {
        "duration": 7,
        "start_time": "2024-08-18T17:55:07.072Z"
      },
      {
        "duration": 6,
        "start_time": "2024-08-18T17:55:07.080Z"
      },
      {
        "duration": 7,
        "start_time": "2024-08-18T17:55:07.087Z"
      },
      {
        "duration": 18,
        "start_time": "2024-08-18T17:55:07.095Z"
      },
      {
        "duration": 48,
        "start_time": "2024-08-18T17:55:07.115Z"
      },
      {
        "duration": 29,
        "start_time": "2024-08-18T17:55:07.164Z"
      },
      {
        "duration": 19,
        "start_time": "2024-08-18T17:55:07.195Z"
      },
      {
        "duration": 19,
        "start_time": "2024-08-18T17:55:07.215Z"
      },
      {
        "duration": 154,
        "start_time": "2024-08-18T17:55:07.236Z"
      },
      {
        "duration": 20,
        "start_time": "2024-08-18T17:55:07.396Z"
      },
      {
        "duration": 39,
        "start_time": "2024-08-18T17:55:07.417Z"
      },
      {
        "duration": 426,
        "start_time": "2024-08-18T17:55:07.457Z"
      },
      {
        "duration": 4,
        "start_time": "2024-08-18T17:55:07.885Z"
      },
      {
        "duration": 9,
        "start_time": "2024-08-18T17:55:07.890Z"
      },
      {
        "duration": 174,
        "start_time": "2024-08-18T17:55:07.901Z"
      },
      {
        "duration": 903,
        "start_time": "2024-08-18T17:55:08.077Z"
      },
      {
        "duration": 161,
        "start_time": "2024-08-18T17:55:08.981Z"
      },
      {
        "duration": 5,
        "start_time": "2024-08-18T17:55:09.144Z"
      },
      {
        "duration": 238,
        "start_time": "2024-08-18T17:55:09.151Z"
      },
      {
        "duration": 429,
        "start_time": "2024-08-18T17:55:09.391Z"
      },
      {
        "duration": 21,
        "start_time": "2024-08-18T17:56:28.144Z"
      },
      {
        "duration": 24,
        "start_time": "2024-08-18T17:56:38.813Z"
      },
      {
        "duration": 14,
        "start_time": "2024-08-18T18:01:53.382Z"
      },
      {
        "duration": 6,
        "start_time": "2024-08-18T18:03:50.050Z"
      },
      {
        "duration": 124,
        "start_time": "2024-08-18T18:04:13.623Z"
      },
      {
        "duration": 13,
        "start_time": "2024-08-18T18:04:40.790Z"
      },
      {
        "duration": 108,
        "start_time": "2024-08-18T18:04:51.130Z"
      },
      {
        "duration": 151,
        "start_time": "2024-08-18T18:05:00.210Z"
      },
      {
        "duration": 7,
        "start_time": "2024-08-18T18:05:08.381Z"
      },
      {
        "duration": 6,
        "start_time": "2024-08-18T18:05:40.432Z"
      },
      {
        "duration": 6,
        "start_time": "2024-08-18T18:05:42.125Z"
      },
      {
        "duration": 6,
        "start_time": "2024-08-18T18:06:58.077Z"
      },
      {
        "duration": 28,
        "start_time": "2024-08-18T18:08:42.382Z"
      },
      {
        "duration": 12,
        "start_time": "2024-08-18T18:09:49.864Z"
      },
      {
        "duration": 26,
        "start_time": "2024-08-18T18:09:56.363Z"
      },
      {
        "duration": 34,
        "start_time": "2024-08-18T18:10:13.602Z"
      },
      {
        "duration": 30,
        "start_time": "2024-08-18T18:10:35.824Z"
      },
      {
        "duration": 4,
        "start_time": "2024-08-18T18:13:12.464Z"
      },
      {
        "duration": 7,
        "start_time": "2024-08-18T18:13:14.560Z"
      },
      {
        "duration": 4,
        "start_time": "2024-08-18T18:13:46.728Z"
      },
      {
        "duration": 8,
        "start_time": "2024-08-18T18:13:48.452Z"
      },
      {
        "duration": 5,
        "start_time": "2024-08-18T18:16:44.369Z"
      },
      {
        "duration": 27,
        "start_time": "2024-08-18T18:30:34.629Z"
      },
      {
        "duration": 189,
        "start_time": "2024-08-18T18:30:40.944Z"
      },
      {
        "duration": 14,
        "start_time": "2024-08-18T18:30:41.135Z"
      },
      {
        "duration": 40,
        "start_time": "2024-08-18T18:30:41.150Z"
      },
      {
        "duration": 17,
        "start_time": "2024-08-18T18:30:41.191Z"
      },
      {
        "duration": 53,
        "start_time": "2024-08-18T18:30:41.212Z"
      },
      {
        "duration": 17,
        "start_time": "2024-08-18T18:30:41.266Z"
      },
      {
        "duration": 18,
        "start_time": "2024-08-18T18:30:41.285Z"
      },
      {
        "duration": 32,
        "start_time": "2024-08-18T18:30:41.305Z"
      },
      {
        "duration": 10,
        "start_time": "2024-08-18T18:30:41.339Z"
      },
      {
        "duration": 15,
        "start_time": "2024-08-18T18:30:41.350Z"
      },
      {
        "duration": 33,
        "start_time": "2024-08-18T18:30:41.367Z"
      },
      {
        "duration": 20,
        "start_time": "2024-08-18T18:30:41.402Z"
      },
      {
        "duration": 16,
        "start_time": "2024-08-18T18:30:41.424Z"
      },
      {
        "duration": 9,
        "start_time": "2024-08-18T18:30:41.443Z"
      },
      {
        "duration": 3,
        "start_time": "2024-08-18T18:30:41.454Z"
      },
      {
        "duration": 47,
        "start_time": "2024-08-18T18:30:41.459Z"
      },
      {
        "duration": 7,
        "start_time": "2024-08-18T18:30:41.509Z"
      },
      {
        "duration": 41,
        "start_time": "2024-08-18T18:30:41.518Z"
      },
      {
        "duration": 15,
        "start_time": "2024-08-18T18:30:41.560Z"
      },
      {
        "duration": 22,
        "start_time": "2024-08-18T18:30:41.577Z"
      },
      {
        "duration": 10,
        "start_time": "2024-08-18T18:30:41.601Z"
      },
      {
        "duration": 27,
        "start_time": "2024-08-18T18:30:41.621Z"
      },
      {
        "duration": 34,
        "start_time": "2024-08-18T18:30:41.651Z"
      },
      {
        "duration": 12,
        "start_time": "2024-08-18T18:30:41.687Z"
      },
      {
        "duration": 19,
        "start_time": "2024-08-18T18:30:41.701Z"
      },
      {
        "duration": 10,
        "start_time": "2024-08-18T18:30:41.722Z"
      },
      {
        "duration": 21,
        "start_time": "2024-08-18T18:30:41.734Z"
      },
      {
        "duration": 45,
        "start_time": "2024-08-18T18:30:41.757Z"
      },
      {
        "duration": 8,
        "start_time": "2024-08-18T18:30:41.804Z"
      },
      {
        "duration": 5,
        "start_time": "2024-08-18T18:30:41.816Z"
      },
      {
        "duration": 12,
        "start_time": "2024-08-18T18:30:41.823Z"
      },
      {
        "duration": 18,
        "start_time": "2024-08-18T18:30:41.836Z"
      },
      {
        "duration": 61,
        "start_time": "2024-08-18T18:30:41.856Z"
      },
      {
        "duration": 30,
        "start_time": "2024-08-18T18:30:41.919Z"
      },
      {
        "duration": 19,
        "start_time": "2024-08-18T18:30:41.952Z"
      },
      {
        "duration": 10,
        "start_time": "2024-08-18T18:30:41.997Z"
      },
      {
        "duration": 182,
        "start_time": "2024-08-18T18:30:42.009Z"
      },
      {
        "duration": 23,
        "start_time": "2024-08-18T18:30:42.197Z"
      },
      {
        "duration": 26,
        "start_time": "2024-08-18T18:30:42.222Z"
      },
      {
        "duration": 451,
        "start_time": "2024-08-18T18:30:42.250Z"
      },
      {
        "duration": 5,
        "start_time": "2024-08-18T18:30:42.704Z"
      },
      {
        "duration": 5,
        "start_time": "2024-08-18T18:30:42.712Z"
      },
      {
        "duration": 20,
        "start_time": "2024-08-18T18:30:42.720Z"
      },
      {
        "duration": 280,
        "start_time": "2024-08-18T18:30:42.742Z"
      },
      {
        "duration": 849,
        "start_time": "2024-08-18T18:30:43.024Z"
      },
      {
        "duration": 162,
        "start_time": "2024-08-18T18:30:43.875Z"
      },
      {
        "duration": 257,
        "start_time": "2024-08-18T18:30:44.039Z"
      },
      {
        "duration": 28,
        "start_time": "2024-08-18T18:30:44.297Z"
      },
      {
        "duration": 6,
        "start_time": "2024-08-18T18:30:44.326Z"
      },
      {
        "duration": 9,
        "start_time": "2024-08-18T18:35:45.878Z"
      },
      {
        "duration": 7,
        "start_time": "2024-08-18T18:38:28.281Z"
      },
      {
        "duration": 22,
        "start_time": "2024-08-18T20:12:08.036Z"
      },
      {
        "duration": 20,
        "start_time": "2024-08-18T20:12:55.960Z"
      },
      {
        "duration": 419,
        "start_time": "2024-08-18T20:13:48.640Z"
      },
      {
        "duration": 33,
        "start_time": "2024-08-18T20:21:38.484Z"
      },
      {
        "duration": 7,
        "start_time": "2024-08-18T20:21:57.595Z"
      },
      {
        "duration": 8,
        "start_time": "2024-08-18T20:31:24.194Z"
      },
      {
        "duration": 186,
        "start_time": "2024-08-18T20:31:47.945Z"
      },
      {
        "duration": 13,
        "start_time": "2024-08-18T20:31:48.133Z"
      },
      {
        "duration": 9,
        "start_time": "2024-08-18T20:31:48.148Z"
      },
      {
        "duration": 39,
        "start_time": "2024-08-18T20:31:48.159Z"
      },
      {
        "duration": 23,
        "start_time": "2024-08-18T20:31:48.200Z"
      },
      {
        "duration": 16,
        "start_time": "2024-08-18T20:31:48.225Z"
      },
      {
        "duration": 14,
        "start_time": "2024-08-18T20:31:48.243Z"
      },
      {
        "duration": 55,
        "start_time": "2024-08-18T20:31:48.258Z"
      },
      {
        "duration": 12,
        "start_time": "2024-08-18T20:31:48.315Z"
      },
      {
        "duration": 20,
        "start_time": "2024-08-18T20:31:48.330Z"
      },
      {
        "duration": 23,
        "start_time": "2024-08-18T20:31:48.352Z"
      },
      {
        "duration": 31,
        "start_time": "2024-08-18T20:31:48.377Z"
      },
      {
        "duration": 19,
        "start_time": "2024-08-18T20:31:48.410Z"
      },
      {
        "duration": 9,
        "start_time": "2024-08-18T20:31:48.431Z"
      },
      {
        "duration": 4,
        "start_time": "2024-08-18T20:31:48.441Z"
      },
      {
        "duration": 20,
        "start_time": "2024-08-18T20:31:48.446Z"
      },
      {
        "duration": 18,
        "start_time": "2024-08-18T20:31:48.467Z"
      },
      {
        "duration": 35,
        "start_time": "2024-08-18T20:31:48.496Z"
      },
      {
        "duration": 10,
        "start_time": "2024-08-18T20:31:48.533Z"
      },
      {
        "duration": 13,
        "start_time": "2024-08-18T20:31:48.544Z"
      },
      {
        "duration": 5,
        "start_time": "2024-08-18T20:31:48.558Z"
      },
      {
        "duration": 18,
        "start_time": "2024-08-18T20:31:48.565Z"
      },
      {
        "duration": 43,
        "start_time": "2024-08-18T20:31:48.584Z"
      },
      {
        "duration": 5,
        "start_time": "2024-08-18T20:31:48.628Z"
      },
      {
        "duration": 58,
        "start_time": "2024-08-18T20:31:48.635Z"
      },
      {
        "duration": 8,
        "start_time": "2024-08-18T20:31:48.695Z"
      },
      {
        "duration": 23,
        "start_time": "2024-08-18T20:31:48.705Z"
      },
      {
        "duration": 25,
        "start_time": "2024-08-18T20:31:48.731Z"
      },
      {
        "duration": 6,
        "start_time": "2024-08-18T20:31:48.757Z"
      },
      {
        "duration": 21,
        "start_time": "2024-08-18T20:31:48.764Z"
      },
      {
        "duration": 11,
        "start_time": "2024-08-18T20:31:48.786Z"
      },
      {
        "duration": 28,
        "start_time": "2024-08-18T20:31:48.799Z"
      },
      {
        "duration": 49,
        "start_time": "2024-08-18T20:31:48.828Z"
      },
      {
        "duration": 57,
        "start_time": "2024-08-18T20:31:48.879Z"
      },
      {
        "duration": 7,
        "start_time": "2024-08-18T20:31:48.938Z"
      },
      {
        "duration": 31,
        "start_time": "2024-08-18T20:31:48.946Z"
      },
      {
        "duration": 12,
        "start_time": "2024-08-18T20:31:48.979Z"
      },
      {
        "duration": 154,
        "start_time": "2024-08-18T20:31:48.993Z"
      },
      {
        "duration": 6,
        "start_time": "2024-08-18T20:31:49.148Z"
      },
      {
        "duration": 26,
        "start_time": "2024-08-18T20:31:49.155Z"
      },
      {
        "duration": 40,
        "start_time": "2024-08-18T20:31:49.183Z"
      },
      {
        "duration": 438,
        "start_time": "2024-08-18T20:31:49.224Z"
      },
      {
        "duration": 4,
        "start_time": "2024-08-18T20:31:49.663Z"
      },
      {
        "duration": 9,
        "start_time": "2024-08-18T20:31:49.668Z"
      },
      {
        "duration": 18,
        "start_time": "2024-08-18T20:31:49.678Z"
      },
      {
        "duration": 177,
        "start_time": "2024-08-18T20:31:49.698Z"
      },
      {
        "duration": 934,
        "start_time": "2024-08-18T20:31:49.876Z"
      },
      {
        "duration": 160,
        "start_time": "2024-08-18T20:31:50.811Z"
      },
      {
        "duration": 240,
        "start_time": "2024-08-18T20:31:50.973Z"
      },
      {
        "duration": 26,
        "start_time": "2024-08-18T20:31:51.216Z"
      },
      {
        "duration": 8,
        "start_time": "2024-08-18T20:31:51.244Z"
      },
      {
        "duration": 199,
        "start_time": "2024-08-18T20:32:32.438Z"
      },
      {
        "duration": 12,
        "start_time": "2024-08-18T20:32:32.639Z"
      },
      {
        "duration": 42,
        "start_time": "2024-08-18T20:32:32.653Z"
      },
      {
        "duration": 27,
        "start_time": "2024-08-18T20:32:32.697Z"
      },
      {
        "duration": 23,
        "start_time": "2024-08-18T20:32:32.726Z"
      },
      {
        "duration": 16,
        "start_time": "2024-08-18T20:32:32.751Z"
      },
      {
        "duration": 29,
        "start_time": "2024-08-18T20:32:32.769Z"
      },
      {
        "duration": 39,
        "start_time": "2024-08-18T20:32:32.801Z"
      },
      {
        "duration": 10,
        "start_time": "2024-08-18T20:32:32.841Z"
      },
      {
        "duration": 20,
        "start_time": "2024-08-18T20:32:32.853Z"
      },
      {
        "duration": 16,
        "start_time": "2024-08-18T20:32:32.874Z"
      },
      {
        "duration": 24,
        "start_time": "2024-08-18T20:32:32.896Z"
      },
      {
        "duration": 19,
        "start_time": "2024-08-18T20:32:32.921Z"
      },
      {
        "duration": 38,
        "start_time": "2024-08-18T20:32:32.943Z"
      },
      {
        "duration": 67,
        "start_time": "2024-08-18T20:32:32.983Z"
      },
      {
        "duration": 58,
        "start_time": "2024-08-18T20:32:33.051Z"
      },
      {
        "duration": 12,
        "start_time": "2024-08-18T20:32:33.113Z"
      },
      {
        "duration": 34,
        "start_time": "2024-08-18T20:32:33.127Z"
      },
      {
        "duration": 8,
        "start_time": "2024-08-18T20:32:33.163Z"
      },
      {
        "duration": 12,
        "start_time": "2024-08-18T20:32:33.172Z"
      },
      {
        "duration": 27,
        "start_time": "2024-08-18T20:32:33.185Z"
      },
      {
        "duration": 26,
        "start_time": "2024-08-18T20:32:33.214Z"
      },
      {
        "duration": 35,
        "start_time": "2024-08-18T20:32:33.241Z"
      },
      {
        "duration": 5,
        "start_time": "2024-08-18T20:32:33.277Z"
      },
      {
        "duration": 35,
        "start_time": "2024-08-18T20:32:33.284Z"
      },
      {
        "duration": 6,
        "start_time": "2024-08-18T20:32:33.321Z"
      },
      {
        "duration": 72,
        "start_time": "2024-08-18T20:32:33.328Z"
      },
      {
        "duration": 31,
        "start_time": "2024-08-18T20:32:33.402Z"
      },
      {
        "duration": 6,
        "start_time": "2024-08-18T20:32:33.435Z"
      },
      {
        "duration": 5,
        "start_time": "2024-08-18T20:32:33.443Z"
      },
      {
        "duration": 17,
        "start_time": "2024-08-18T20:32:33.450Z"
      },
      {
        "duration": 36,
        "start_time": "2024-08-18T20:32:33.469Z"
      },
      {
        "duration": 25,
        "start_time": "2024-08-18T20:32:33.507Z"
      },
      {
        "duration": 30,
        "start_time": "2024-08-18T20:32:33.533Z"
      },
      {
        "duration": 7,
        "start_time": "2024-08-18T20:32:33.565Z"
      },
      {
        "duration": 32,
        "start_time": "2024-08-18T20:32:33.597Z"
      },
      {
        "duration": 41,
        "start_time": "2024-08-18T20:32:33.631Z"
      },
      {
        "duration": 144,
        "start_time": "2024-08-18T20:32:33.673Z"
      },
      {
        "duration": 6,
        "start_time": "2024-08-18T20:32:33.820Z"
      },
      {
        "duration": 38,
        "start_time": "2024-08-18T20:32:33.827Z"
      },
      {
        "duration": 22,
        "start_time": "2024-08-18T20:32:33.869Z"
      },
      {
        "duration": 432,
        "start_time": "2024-08-18T20:32:33.896Z"
      },
      {
        "duration": 4,
        "start_time": "2024-08-18T20:32:34.330Z"
      },
      {
        "duration": 9,
        "start_time": "2024-08-18T20:32:34.336Z"
      },
      {
        "duration": 13,
        "start_time": "2024-08-18T20:32:34.346Z"
      },
      {
        "duration": 157,
        "start_time": "2024-08-18T20:32:34.361Z"
      },
      {
        "duration": 829,
        "start_time": "2024-08-18T20:32:34.520Z"
      },
      {
        "duration": 207,
        "start_time": "2024-08-18T20:32:35.351Z"
      },
      {
        "duration": 357,
        "start_time": "2024-08-18T20:32:35.560Z"
      },
      {
        "duration": 26,
        "start_time": "2024-08-18T20:32:35.919Z"
      },
      {
        "duration": 5,
        "start_time": "2024-08-18T20:32:35.947Z"
      },
      {
        "duration": 194,
        "start_time": "2024-08-18T20:33:57.131Z"
      },
      {
        "duration": 13,
        "start_time": "2024-08-18T20:33:57.327Z"
      },
      {
        "duration": 52,
        "start_time": "2024-08-18T20:33:57.341Z"
      },
      {
        "duration": 24,
        "start_time": "2024-08-18T20:33:57.395Z"
      },
      {
        "duration": 22,
        "start_time": "2024-08-18T20:33:57.422Z"
      },
      {
        "duration": 16,
        "start_time": "2024-08-18T20:33:57.445Z"
      },
      {
        "duration": 39,
        "start_time": "2024-08-18T20:33:57.462Z"
      },
      {
        "duration": 30,
        "start_time": "2024-08-18T20:33:57.503Z"
      },
      {
        "duration": 9,
        "start_time": "2024-08-18T20:33:57.535Z"
      },
      {
        "duration": 14,
        "start_time": "2024-08-18T20:33:57.546Z"
      },
      {
        "duration": 47,
        "start_time": "2024-08-18T20:33:57.562Z"
      },
      {
        "duration": 16,
        "start_time": "2024-08-18T20:33:57.611Z"
      },
      {
        "duration": 47,
        "start_time": "2024-08-18T20:33:57.628Z"
      },
      {
        "duration": 9,
        "start_time": "2024-08-18T20:33:57.677Z"
      },
      {
        "duration": 3,
        "start_time": "2024-08-18T20:33:57.688Z"
      },
      {
        "duration": 15,
        "start_time": "2024-08-18T20:33:57.692Z"
      },
      {
        "duration": 7,
        "start_time": "2024-08-18T20:33:57.711Z"
      },
      {
        "duration": 35,
        "start_time": "2024-08-18T20:33:57.720Z"
      },
      {
        "duration": 8,
        "start_time": "2024-08-18T20:33:57.756Z"
      },
      {
        "duration": 15,
        "start_time": "2024-08-18T20:33:57.765Z"
      },
      {
        "duration": 16,
        "start_time": "2024-08-18T20:33:57.781Z"
      },
      {
        "duration": 18,
        "start_time": "2024-08-18T20:33:57.801Z"
      },
      {
        "duration": 27,
        "start_time": "2024-08-18T20:33:57.821Z"
      },
      {
        "duration": 11,
        "start_time": "2024-08-18T20:33:57.849Z"
      },
      {
        "duration": 40,
        "start_time": "2024-08-18T20:33:57.861Z"
      },
      {
        "duration": 11,
        "start_time": "2024-08-18T20:33:57.903Z"
      },
      {
        "duration": 17,
        "start_time": "2024-08-18T20:33:57.917Z"
      },
      {
        "duration": 27,
        "start_time": "2024-08-18T20:33:57.938Z"
      },
      {
        "duration": 30,
        "start_time": "2024-08-18T20:33:57.967Z"
      },
      {
        "duration": 21,
        "start_time": "2024-08-18T20:33:57.999Z"
      },
      {
        "duration": 49,
        "start_time": "2024-08-18T20:33:58.021Z"
      },
      {
        "duration": 56,
        "start_time": "2024-08-18T20:33:58.071Z"
      },
      {
        "duration": 48,
        "start_time": "2024-08-18T20:33:58.129Z"
      },
      {
        "duration": 25,
        "start_time": "2024-08-18T20:33:58.178Z"
      },
      {
        "duration": 9,
        "start_time": "2024-08-18T20:33:58.204Z"
      },
      {
        "duration": 174,
        "start_time": "2024-08-18T20:33:58.215Z"
      },
      {
        "duration": 10,
        "start_time": "2024-08-18T20:33:58.390Z"
      },
      {
        "duration": 21,
        "start_time": "2024-08-18T20:33:58.402Z"
      },
      {
        "duration": 21,
        "start_time": "2024-08-18T20:33:58.424Z"
      },
      {
        "duration": 445,
        "start_time": "2024-08-18T20:33:58.446Z"
      },
      {
        "duration": 5,
        "start_time": "2024-08-18T20:33:58.892Z"
      },
      {
        "duration": 9,
        "start_time": "2024-08-18T20:33:58.900Z"
      },
      {
        "duration": 11,
        "start_time": "2024-08-18T20:33:58.911Z"
      },
      {
        "duration": 189,
        "start_time": "2024-08-18T20:33:58.924Z"
      },
      {
        "duration": 1095,
        "start_time": "2024-08-18T20:33:59.115Z"
      },
      {
        "duration": 170,
        "start_time": "2024-08-18T20:34:00.212Z"
      },
      {
        "duration": 497,
        "start_time": "2024-08-18T20:34:00.383Z"
      },
      {
        "duration": 47,
        "start_time": "2024-08-18T20:34:00.881Z"
      },
      {
        "duration": 6,
        "start_time": "2024-08-18T20:34:00.930Z"
      },
      {
        "duration": 11,
        "start_time": "2024-08-18T20:35:50.502Z"
      },
      {
        "duration": 3,
        "start_time": "2024-08-18T20:36:45.716Z"
      },
      {
        "duration": 11,
        "start_time": "2024-08-18T20:37:27.315Z"
      },
      {
        "duration": 9,
        "start_time": "2024-08-18T20:38:40.427Z"
      },
      {
        "duration": 1639,
        "start_time": "2024-08-19T16:46:30.190Z"
      },
      {
        "duration": 14,
        "start_time": "2024-08-19T16:46:31.831Z"
      },
      {
        "duration": 23,
        "start_time": "2024-08-19T16:46:31.847Z"
      },
      {
        "duration": 26,
        "start_time": "2024-08-19T16:46:31.871Z"
      },
      {
        "duration": 59,
        "start_time": "2024-08-19T16:46:31.899Z"
      },
      {
        "duration": 19,
        "start_time": "2024-08-19T16:46:31.960Z"
      },
      {
        "duration": 31,
        "start_time": "2024-08-19T16:46:31.980Z"
      },
      {
        "duration": 29,
        "start_time": "2024-08-19T16:46:32.012Z"
      },
      {
        "duration": 11,
        "start_time": "2024-08-19T16:46:32.042Z"
      },
      {
        "duration": 41,
        "start_time": "2024-08-19T16:46:32.054Z"
      },
      {
        "duration": 25,
        "start_time": "2024-08-19T16:46:32.097Z"
      },
      {
        "duration": 19,
        "start_time": "2024-08-19T16:46:32.123Z"
      },
      {
        "duration": 30,
        "start_time": "2024-08-19T16:46:32.144Z"
      },
      {
        "duration": 10,
        "start_time": "2024-08-19T16:46:32.177Z"
      },
      {
        "duration": 12,
        "start_time": "2024-08-19T16:46:32.188Z"
      },
      {
        "duration": 28,
        "start_time": "2024-08-19T16:46:32.201Z"
      },
      {
        "duration": 10,
        "start_time": "2024-08-19T16:46:32.231Z"
      },
      {
        "duration": 24,
        "start_time": "2024-08-19T16:46:32.242Z"
      },
      {
        "duration": 9,
        "start_time": "2024-08-19T16:46:32.268Z"
      },
      {
        "duration": 12,
        "start_time": "2024-08-19T16:46:32.278Z"
      },
      {
        "duration": 6,
        "start_time": "2024-08-19T16:46:32.292Z"
      },
      {
        "duration": 36,
        "start_time": "2024-08-19T16:46:32.300Z"
      },
      {
        "duration": 32,
        "start_time": "2024-08-19T16:46:32.337Z"
      },
      {
        "duration": 6,
        "start_time": "2024-08-19T16:46:32.370Z"
      },
      {
        "duration": 20,
        "start_time": "2024-08-19T16:46:32.377Z"
      },
      {
        "duration": 8,
        "start_time": "2024-08-19T16:46:32.399Z"
      },
      {
        "duration": 33,
        "start_time": "2024-08-19T16:46:32.409Z"
      },
      {
        "duration": 58,
        "start_time": "2024-08-19T16:46:32.445Z"
      },
      {
        "duration": 5,
        "start_time": "2024-08-19T16:46:32.505Z"
      },
      {
        "duration": 23,
        "start_time": "2024-08-19T16:46:32.511Z"
      },
      {
        "duration": 67,
        "start_time": "2024-08-19T16:46:32.536Z"
      },
      {
        "duration": 83,
        "start_time": "2024-08-19T16:46:32.604Z"
      },
      {
        "duration": 7,
        "start_time": "2024-08-19T16:46:32.689Z"
      },
      {
        "duration": 42,
        "start_time": "2024-08-19T16:46:32.698Z"
      },
      {
        "duration": 8,
        "start_time": "2024-08-19T16:46:32.741Z"
      },
      {
        "duration": 18,
        "start_time": "2024-08-19T16:46:32.750Z"
      },
      {
        "duration": 190,
        "start_time": "2024-08-19T16:46:32.770Z"
      },
      {
        "duration": 8,
        "start_time": "2024-08-19T16:46:32.962Z"
      },
      {
        "duration": 27,
        "start_time": "2024-08-19T16:46:32.971Z"
      },
      {
        "duration": 26,
        "start_time": "2024-08-19T16:46:33.000Z"
      },
      {
        "duration": 528,
        "start_time": "2024-08-19T16:46:33.030Z"
      },
      {
        "duration": 4,
        "start_time": "2024-08-19T16:46:33.565Z"
      },
      {
        "duration": 28,
        "start_time": "2024-08-19T16:46:33.571Z"
      },
      {
        "duration": 11,
        "start_time": "2024-08-19T16:46:33.601Z"
      },
      {
        "duration": 266,
        "start_time": "2024-08-19T16:46:33.613Z"
      },
      {
        "duration": 1178,
        "start_time": "2024-08-19T16:46:33.881Z"
      },
      {
        "duration": 155,
        "start_time": "2024-08-19T16:46:35.060Z"
      },
      {
        "duration": 119,
        "start_time": "2024-08-19T16:46:35.217Z"
      },
      {
        "duration": 0,
        "start_time": "2024-08-19T16:46:35.338Z"
      },
      {
        "duration": 0,
        "start_time": "2024-08-19T16:46:35.339Z"
      },
      {
        "duration": 37,
        "start_time": "2024-08-19T16:47:56.634Z"
      },
      {
        "duration": 12,
        "start_time": "2024-08-19T16:49:49.757Z"
      },
      {
        "duration": 172,
        "start_time": "2024-08-19T16:50:58.547Z"
      },
      {
        "duration": 14,
        "start_time": "2024-08-19T16:50:58.720Z"
      },
      {
        "duration": 39,
        "start_time": "2024-08-19T16:50:58.736Z"
      },
      {
        "duration": 24,
        "start_time": "2024-08-19T16:50:58.777Z"
      },
      {
        "duration": 24,
        "start_time": "2024-08-19T16:50:58.802Z"
      },
      {
        "duration": 17,
        "start_time": "2024-08-19T16:50:58.827Z"
      },
      {
        "duration": 29,
        "start_time": "2024-08-19T16:50:58.846Z"
      },
      {
        "duration": 21,
        "start_time": "2024-08-19T16:50:58.876Z"
      },
      {
        "duration": 9,
        "start_time": "2024-08-19T16:50:58.900Z"
      },
      {
        "duration": 21,
        "start_time": "2024-08-19T16:50:58.911Z"
      },
      {
        "duration": 34,
        "start_time": "2024-08-19T16:50:58.933Z"
      },
      {
        "duration": 34,
        "start_time": "2024-08-19T16:50:58.968Z"
      },
      {
        "duration": 50,
        "start_time": "2024-08-19T16:50:59.004Z"
      },
      {
        "duration": 14,
        "start_time": "2024-08-19T16:50:59.056Z"
      },
      {
        "duration": 6,
        "start_time": "2024-08-19T16:50:59.072Z"
      },
      {
        "duration": 24,
        "start_time": "2024-08-19T16:50:59.080Z"
      },
      {
        "duration": 25,
        "start_time": "2024-08-19T16:50:59.106Z"
      },
      {
        "duration": 31,
        "start_time": "2024-08-19T16:50:59.133Z"
      },
      {
        "duration": 17,
        "start_time": "2024-08-19T16:50:59.166Z"
      },
      {
        "duration": 55,
        "start_time": "2024-08-19T16:50:59.184Z"
      },
      {
        "duration": 11,
        "start_time": "2024-08-19T16:50:59.241Z"
      },
      {
        "duration": 26,
        "start_time": "2024-08-19T16:50:59.254Z"
      },
      {
        "duration": 40,
        "start_time": "2024-08-19T16:50:59.282Z"
      },
      {
        "duration": 5,
        "start_time": "2024-08-19T16:50:59.323Z"
      },
      {
        "duration": 24,
        "start_time": "2024-08-19T16:50:59.329Z"
      },
      {
        "duration": 27,
        "start_time": "2024-08-19T16:50:59.355Z"
      },
      {
        "duration": 27,
        "start_time": "2024-08-19T16:50:59.386Z"
      },
      {
        "duration": 54,
        "start_time": "2024-08-19T16:50:59.415Z"
      },
      {
        "duration": 24,
        "start_time": "2024-08-19T16:50:59.470Z"
      },
      {
        "duration": 40,
        "start_time": "2024-08-19T16:50:59.495Z"
      },
      {
        "duration": 27892,
        "start_time": "2024-08-19T16:50:59.536Z"
      },
      {
        "duration": 37,
        "start_time": "2024-08-19T16:51:27.430Z"
      },
      {
        "duration": 65,
        "start_time": "2024-08-19T16:51:27.469Z"
      },
      {
        "duration": 50,
        "start_time": "2024-08-19T16:51:27.536Z"
      },
      {
        "duration": 9,
        "start_time": "2024-08-19T16:51:27.588Z"
      },
      {
        "duration": 25,
        "start_time": "2024-08-19T16:51:27.598Z"
      },
      {
        "duration": 8,
        "start_time": "2024-08-19T16:51:27.625Z"
      },
      {
        "duration": 80,
        "start_time": "2024-08-19T16:51:27.634Z"
      },
      {
        "duration": 164,
        "start_time": "2024-08-19T16:51:27.716Z"
      },
      {
        "duration": 7,
        "start_time": "2024-08-19T16:51:27.881Z"
      },
      {
        "duration": 24,
        "start_time": "2024-08-19T16:51:27.890Z"
      },
      {
        "duration": 24,
        "start_time": "2024-08-19T16:51:27.915Z"
      },
      {
        "duration": 457,
        "start_time": "2024-08-19T16:51:27.941Z"
      },
      {
        "duration": 6,
        "start_time": "2024-08-19T16:51:28.399Z"
      },
      {
        "duration": 9,
        "start_time": "2024-08-19T16:51:28.407Z"
      },
      {
        "duration": 9,
        "start_time": "2024-08-19T16:51:28.418Z"
      },
      {
        "duration": 191,
        "start_time": "2024-08-19T16:51:28.429Z"
      },
      {
        "duration": 1110,
        "start_time": "2024-08-19T16:51:28.622Z"
      },
      {
        "duration": 170,
        "start_time": "2024-08-19T16:51:29.734Z"
      },
      {
        "duration": 9,
        "start_time": "2024-08-19T16:51:29.906Z"
      },
      {
        "duration": 0,
        "start_time": "2024-08-19T16:51:29.916Z"
      },
      {
        "duration": 0,
        "start_time": "2024-08-19T16:51:29.918Z"
      },
      {
        "duration": 9,
        "start_time": "2024-08-19T16:54:04.061Z"
      },
      {
        "duration": 31,
        "start_time": "2024-08-19T16:54:18.986Z"
      },
      {
        "duration": 31,
        "start_time": "2024-08-19T16:54:42.438Z"
      },
      {
        "duration": 5,
        "start_time": "2024-08-19T16:56:42.808Z"
      },
      {
        "duration": 161,
        "start_time": "2024-08-19T16:57:29.545Z"
      },
      {
        "duration": 15,
        "start_time": "2024-08-19T16:57:29.708Z"
      },
      {
        "duration": 16,
        "start_time": "2024-08-19T16:57:29.724Z"
      },
      {
        "duration": 34,
        "start_time": "2024-08-19T16:57:29.741Z"
      },
      {
        "duration": 30,
        "start_time": "2024-08-19T16:57:29.778Z"
      },
      {
        "duration": 25,
        "start_time": "2024-08-19T16:57:29.811Z"
      },
      {
        "duration": 42,
        "start_time": "2024-08-19T16:57:29.838Z"
      },
      {
        "duration": 21,
        "start_time": "2024-08-19T16:57:29.882Z"
      },
      {
        "duration": 14,
        "start_time": "2024-08-19T16:57:29.906Z"
      },
      {
        "duration": 45,
        "start_time": "2024-08-19T16:57:29.922Z"
      },
      {
        "duration": 20,
        "start_time": "2024-08-19T16:57:29.968Z"
      },
      {
        "duration": 15,
        "start_time": "2024-08-19T16:57:29.990Z"
      },
      {
        "duration": 16,
        "start_time": "2024-08-19T16:57:30.007Z"
      },
      {
        "duration": 39,
        "start_time": "2024-08-19T16:57:30.026Z"
      },
      {
        "duration": 14,
        "start_time": "2024-08-19T16:57:30.067Z"
      },
      {
        "duration": 25,
        "start_time": "2024-08-19T16:57:30.083Z"
      },
      {
        "duration": 40,
        "start_time": "2024-08-19T16:57:30.109Z"
      },
      {
        "duration": 44,
        "start_time": "2024-08-19T16:57:30.150Z"
      },
      {
        "duration": 9,
        "start_time": "2024-08-19T16:57:30.196Z"
      },
      {
        "duration": 32,
        "start_time": "2024-08-19T16:57:30.207Z"
      },
      {
        "duration": 42,
        "start_time": "2024-08-19T16:57:30.240Z"
      },
      {
        "duration": 23,
        "start_time": "2024-08-19T16:57:30.284Z"
      },
      {
        "duration": 51,
        "start_time": "2024-08-19T16:57:30.308Z"
      },
      {
        "duration": 5,
        "start_time": "2024-08-19T16:57:30.361Z"
      },
      {
        "duration": 31,
        "start_time": "2024-08-19T16:57:30.368Z"
      },
      {
        "duration": 17,
        "start_time": "2024-08-19T16:57:30.401Z"
      },
      {
        "duration": 58,
        "start_time": "2024-08-19T16:57:30.420Z"
      },
      {
        "duration": 34,
        "start_time": "2024-08-19T16:57:30.480Z"
      },
      {
        "duration": 25,
        "start_time": "2024-08-19T16:57:30.515Z"
      },
      {
        "duration": 77,
        "start_time": "2024-08-19T16:57:30.541Z"
      },
      {
        "duration": 0,
        "start_time": "2024-08-19T16:57:30.620Z"
      },
      {
        "duration": 0,
        "start_time": "2024-08-19T16:57:30.621Z"
      },
      {
        "duration": 0,
        "start_time": "2024-08-19T16:57:30.622Z"
      },
      {
        "duration": 0,
        "start_time": "2024-08-19T16:57:30.623Z"
      },
      {
        "duration": 0,
        "start_time": "2024-08-19T16:57:30.624Z"
      },
      {
        "duration": 0,
        "start_time": "2024-08-19T16:57:30.625Z"
      },
      {
        "duration": 0,
        "start_time": "2024-08-19T16:57:30.626Z"
      },
      {
        "duration": 0,
        "start_time": "2024-08-19T16:57:30.627Z"
      },
      {
        "duration": 0,
        "start_time": "2024-08-19T16:57:30.628Z"
      },
      {
        "duration": 0,
        "start_time": "2024-08-19T16:57:30.629Z"
      },
      {
        "duration": 0,
        "start_time": "2024-08-19T16:57:30.630Z"
      },
      {
        "duration": 0,
        "start_time": "2024-08-19T16:57:30.631Z"
      },
      {
        "duration": 0,
        "start_time": "2024-08-19T16:57:30.632Z"
      },
      {
        "duration": 0,
        "start_time": "2024-08-19T16:57:30.634Z"
      },
      {
        "duration": 0,
        "start_time": "2024-08-19T16:57:30.635Z"
      },
      {
        "duration": 0,
        "start_time": "2024-08-19T16:57:30.636Z"
      },
      {
        "duration": 0,
        "start_time": "2024-08-19T16:57:30.637Z"
      },
      {
        "duration": 0,
        "start_time": "2024-08-19T16:57:30.639Z"
      },
      {
        "duration": 0,
        "start_time": "2024-08-19T16:57:30.640Z"
      },
      {
        "duration": 0,
        "start_time": "2024-08-19T16:57:30.641Z"
      },
      {
        "duration": 0,
        "start_time": "2024-08-19T16:57:30.642Z"
      },
      {
        "duration": 0,
        "start_time": "2024-08-19T16:57:30.644Z"
      },
      {
        "duration": 7,
        "start_time": "2024-08-19T16:59:18.772Z"
      },
      {
        "duration": 19,
        "start_time": "2024-08-19T16:59:23.649Z"
      },
      {
        "duration": 26,
        "start_time": "2024-08-19T16:59:27.281Z"
      },
      {
        "duration": 28,
        "start_time": "2024-08-19T16:59:29.997Z"
      },
      {
        "duration": 9,
        "start_time": "2024-08-19T16:59:30.961Z"
      },
      {
        "duration": 22,
        "start_time": "2024-08-19T16:59:58.833Z"
      },
      {
        "duration": 9,
        "start_time": "2024-08-19T17:00:01.233Z"
      },
      {
        "duration": 8,
        "start_time": "2024-08-19T17:01:34.873Z"
      },
      {
        "duration": 152,
        "start_time": "2024-08-19T17:01:36.434Z"
      },
      {
        "duration": 6,
        "start_time": "2024-08-19T17:01:51.157Z"
      },
      {
        "duration": 6,
        "start_time": "2024-08-19T17:02:23.729Z"
      },
      {
        "duration": 180,
        "start_time": "2024-08-19T17:02:25.876Z"
      },
      {
        "duration": 14,
        "start_time": "2024-08-19T17:02:26.058Z"
      },
      {
        "duration": 30,
        "start_time": "2024-08-19T17:02:26.074Z"
      },
      {
        "duration": 18,
        "start_time": "2024-08-19T17:02:26.107Z"
      },
      {
        "duration": 23,
        "start_time": "2024-08-19T17:02:26.127Z"
      },
      {
        "duration": 31,
        "start_time": "2024-08-19T17:02:26.152Z"
      },
      {
        "duration": 24,
        "start_time": "2024-08-19T17:02:26.185Z"
      },
      {
        "duration": 21,
        "start_time": "2024-08-19T17:02:26.210Z"
      },
      {
        "duration": 32,
        "start_time": "2024-08-19T17:02:26.233Z"
      },
      {
        "duration": 21,
        "start_time": "2024-08-19T17:02:26.267Z"
      },
      {
        "duration": 18,
        "start_time": "2024-08-19T17:02:26.289Z"
      },
      {
        "duration": 14,
        "start_time": "2024-08-19T17:02:26.309Z"
      },
      {
        "duration": 15,
        "start_time": "2024-08-19T17:02:26.325Z"
      },
      {
        "duration": 26,
        "start_time": "2024-08-19T17:02:26.366Z"
      },
      {
        "duration": 5,
        "start_time": "2024-08-19T17:02:26.395Z"
      },
      {
        "duration": 15,
        "start_time": "2024-08-19T17:02:26.402Z"
      },
      {
        "duration": 16,
        "start_time": "2024-08-19T17:02:26.419Z"
      },
      {
        "duration": 0,
        "start_time": "2024-08-19T17:02:26.437Z"
      },
      {
        "duration": 0,
        "start_time": "2024-08-19T17:02:26.440Z"
      },
      {
        "duration": 0,
        "start_time": "2024-08-19T17:02:26.441Z"
      },
      {
        "duration": 0,
        "start_time": "2024-08-19T17:02:26.443Z"
      },
      {
        "duration": 0,
        "start_time": "2024-08-19T17:02:26.444Z"
      },
      {
        "duration": 0,
        "start_time": "2024-08-19T17:02:26.446Z"
      },
      {
        "duration": 0,
        "start_time": "2024-08-19T17:02:26.465Z"
      },
      {
        "duration": 0,
        "start_time": "2024-08-19T17:02:26.468Z"
      },
      {
        "duration": 0,
        "start_time": "2024-08-19T17:02:26.469Z"
      },
      {
        "duration": 0,
        "start_time": "2024-08-19T17:02:26.474Z"
      },
      {
        "duration": 0,
        "start_time": "2024-08-19T17:02:26.475Z"
      },
      {
        "duration": 0,
        "start_time": "2024-08-19T17:02:26.476Z"
      },
      {
        "duration": 0,
        "start_time": "2024-08-19T17:02:26.478Z"
      },
      {
        "duration": 0,
        "start_time": "2024-08-19T17:02:26.479Z"
      },
      {
        "duration": 0,
        "start_time": "2024-08-19T17:02:26.482Z"
      },
      {
        "duration": 0,
        "start_time": "2024-08-19T17:02:26.483Z"
      },
      {
        "duration": 0,
        "start_time": "2024-08-19T17:02:26.484Z"
      },
      {
        "duration": 0,
        "start_time": "2024-08-19T17:02:26.486Z"
      },
      {
        "duration": 0,
        "start_time": "2024-08-19T17:02:26.487Z"
      },
      {
        "duration": 0,
        "start_time": "2024-08-19T17:02:26.489Z"
      },
      {
        "duration": 0,
        "start_time": "2024-08-19T17:02:26.490Z"
      },
      {
        "duration": 0,
        "start_time": "2024-08-19T17:02:26.492Z"
      },
      {
        "duration": 0,
        "start_time": "2024-08-19T17:02:26.494Z"
      },
      {
        "duration": 0,
        "start_time": "2024-08-19T17:02:26.495Z"
      },
      {
        "duration": 0,
        "start_time": "2024-08-19T17:02:26.496Z"
      },
      {
        "duration": 0,
        "start_time": "2024-08-19T17:02:26.498Z"
      },
      {
        "duration": 0,
        "start_time": "2024-08-19T17:02:26.500Z"
      },
      {
        "duration": 0,
        "start_time": "2024-08-19T17:02:26.502Z"
      },
      {
        "duration": 0,
        "start_time": "2024-08-19T17:02:26.503Z"
      },
      {
        "duration": 0,
        "start_time": "2024-08-19T17:02:26.504Z"
      },
      {
        "duration": 0,
        "start_time": "2024-08-19T17:02:26.506Z"
      },
      {
        "duration": 0,
        "start_time": "2024-08-19T17:02:26.507Z"
      },
      {
        "duration": 0,
        "start_time": "2024-08-19T17:02:26.565Z"
      },
      {
        "duration": 0,
        "start_time": "2024-08-19T17:02:26.567Z"
      },
      {
        "duration": 0,
        "start_time": "2024-08-19T17:02:26.568Z"
      },
      {
        "duration": 20,
        "start_time": "2024-08-19T17:06:36.197Z"
      },
      {
        "duration": 7,
        "start_time": "2024-08-19T17:06:39.901Z"
      },
      {
        "duration": 81,
        "start_time": "2024-08-19T17:07:18.072Z"
      },
      {
        "duration": 168,
        "start_time": "2024-08-19T17:07:25.897Z"
      },
      {
        "duration": 15,
        "start_time": "2024-08-19T17:07:26.067Z"
      },
      {
        "duration": 10,
        "start_time": "2024-08-19T17:07:26.084Z"
      },
      {
        "duration": 14,
        "start_time": "2024-08-19T17:07:26.096Z"
      },
      {
        "duration": 24,
        "start_time": "2024-08-19T17:07:26.112Z"
      },
      {
        "duration": 19,
        "start_time": "2024-08-19T17:07:26.165Z"
      },
      {
        "duration": 30,
        "start_time": "2024-08-19T17:07:26.185Z"
      },
      {
        "duration": 22,
        "start_time": "2024-08-19T17:07:26.217Z"
      },
      {
        "duration": 25,
        "start_time": "2024-08-19T17:07:26.240Z"
      },
      {
        "duration": 17,
        "start_time": "2024-08-19T17:07:26.268Z"
      },
      {
        "duration": 24,
        "start_time": "2024-08-19T17:07:26.287Z"
      },
      {
        "duration": 15,
        "start_time": "2024-08-19T17:07:26.313Z"
      },
      {
        "duration": 42,
        "start_time": "2024-08-19T17:07:26.329Z"
      },
      {
        "duration": 13,
        "start_time": "2024-08-19T17:07:26.372Z"
      },
      {
        "duration": 4,
        "start_time": "2024-08-19T17:07:26.387Z"
      },
      {
        "duration": 15,
        "start_time": "2024-08-19T17:07:26.392Z"
      },
      {
        "duration": 7,
        "start_time": "2024-08-19T17:07:26.409Z"
      },
      {
        "duration": 20,
        "start_time": "2024-08-19T17:07:26.417Z"
      },
      {
        "duration": 32,
        "start_time": "2024-08-19T17:07:26.439Z"
      },
      {
        "duration": 11,
        "start_time": "2024-08-19T17:07:26.472Z"
      },
      {
        "duration": 5,
        "start_time": "2024-08-19T17:07:26.485Z"
      },
      {
        "duration": 28,
        "start_time": "2024-08-19T17:07:26.491Z"
      },
      {
        "duration": 30,
        "start_time": "2024-08-19T17:07:26.521Z"
      },
      {
        "duration": 5,
        "start_time": "2024-08-19T17:07:26.565Z"
      },
      {
        "duration": 19,
        "start_time": "2024-08-19T17:07:26.572Z"
      },
      {
        "duration": 5,
        "start_time": "2024-08-19T17:07:26.592Z"
      },
      {
        "duration": 16,
        "start_time": "2024-08-19T17:07:26.598Z"
      },
      {
        "duration": 47,
        "start_time": "2024-08-19T17:07:26.618Z"
      },
      {
        "duration": 18,
        "start_time": "2024-08-19T17:07:26.666Z"
      },
      {
        "duration": 33,
        "start_time": "2024-08-19T17:07:26.686Z"
      },
      {
        "duration": 42,
        "start_time": "2024-08-19T17:07:26.720Z"
      },
      {
        "duration": 5,
        "start_time": "2024-08-19T17:07:26.763Z"
      },
      {
        "duration": 20,
        "start_time": "2024-08-19T17:07:26.770Z"
      },
      {
        "duration": 24,
        "start_time": "2024-08-19T17:07:26.792Z"
      },
      {
        "duration": 53,
        "start_time": "2024-08-19T17:07:26.818Z"
      },
      {
        "duration": 7,
        "start_time": "2024-08-19T17:07:26.873Z"
      },
      {
        "duration": 21,
        "start_time": "2024-08-19T17:07:26.882Z"
      },
      {
        "duration": 6,
        "start_time": "2024-08-19T17:07:26.905Z"
      },
      {
        "duration": 6,
        "start_time": "2024-08-19T17:07:26.913Z"
      },
      {
        "duration": 172,
        "start_time": "2024-08-19T17:07:26.921Z"
      },
      {
        "duration": 5,
        "start_time": "2024-08-19T17:07:27.095Z"
      },
      {
        "duration": 29,
        "start_time": "2024-08-19T17:07:27.102Z"
      },
      {
        "duration": 20,
        "start_time": "2024-08-19T17:07:27.133Z"
      },
      {
        "duration": 397,
        "start_time": "2024-08-19T17:07:27.155Z"
      },
      {
        "duration": 4,
        "start_time": "2024-08-19T17:07:27.553Z"
      },
      {
        "duration": 5,
        "start_time": "2024-08-19T17:07:27.564Z"
      },
      {
        "duration": 20,
        "start_time": "2024-08-19T17:07:27.571Z"
      },
      {
        "duration": 165,
        "start_time": "2024-08-19T17:07:27.593Z"
      },
      {
        "duration": 938,
        "start_time": "2024-08-19T17:07:27.760Z"
      },
      {
        "duration": 157,
        "start_time": "2024-08-19T17:07:28.700Z"
      },
      {
        "duration": 13,
        "start_time": "2024-08-19T17:07:28.859Z"
      },
      {
        "duration": 0,
        "start_time": "2024-08-19T17:07:28.874Z"
      },
      {
        "duration": 0,
        "start_time": "2024-08-19T17:07:28.876Z"
      },
      {
        "duration": 14,
        "start_time": "2024-08-19T17:15:44.198Z"
      },
      {
        "duration": 7,
        "start_time": "2024-08-19T17:16:01.745Z"
      },
      {
        "duration": 3079,
        "start_time": "2024-08-19T17:16:03.333Z"
      },
      {
        "duration": 275,
        "start_time": "2024-08-19T17:16:15.724Z"
      },
      {
        "duration": 219,
        "start_time": "2024-08-19T17:16:27.650Z"
      },
      {
        "duration": 210,
        "start_time": "2024-08-19T17:16:46.465Z"
      },
      {
        "duration": 27,
        "start_time": "2024-08-19T17:16:48.471Z"
      },
      {
        "duration": 7,
        "start_time": "2024-08-19T17:16:49.517Z"
      },
      {
        "duration": 29,
        "start_time": "2024-08-19T17:18:05.812Z"
      },
      {
        "duration": 168,
        "start_time": "2024-08-19T17:18:46.689Z"
      },
      {
        "duration": 15,
        "start_time": "2024-08-19T17:18:46.860Z"
      },
      {
        "duration": 11,
        "start_time": "2024-08-19T17:18:46.876Z"
      },
      {
        "duration": 14,
        "start_time": "2024-08-19T17:18:46.889Z"
      },
      {
        "duration": 33,
        "start_time": "2024-08-19T17:18:46.905Z"
      },
      {
        "duration": 25,
        "start_time": "2024-08-19T17:18:46.965Z"
      },
      {
        "duration": 20,
        "start_time": "2024-08-19T17:18:46.993Z"
      },
      {
        "duration": 22,
        "start_time": "2024-08-19T17:18:47.014Z"
      },
      {
        "duration": 12,
        "start_time": "2024-08-19T17:18:47.065Z"
      },
      {
        "duration": 28,
        "start_time": "2024-08-19T17:18:47.079Z"
      },
      {
        "duration": 13,
        "start_time": "2024-08-19T17:18:47.109Z"
      },
      {
        "duration": 13,
        "start_time": "2024-08-19T17:18:47.124Z"
      },
      {
        "duration": 45,
        "start_time": "2024-08-19T17:18:47.139Z"
      },
      {
        "duration": 13,
        "start_time": "2024-08-19T17:18:47.188Z"
      },
      {
        "duration": 18,
        "start_time": "2024-08-19T17:18:47.203Z"
      },
      {
        "duration": 15,
        "start_time": "2024-08-19T17:18:47.223Z"
      },
      {
        "duration": 10,
        "start_time": "2024-08-19T17:18:47.239Z"
      },
      {
        "duration": 32,
        "start_time": "2024-08-19T17:18:47.251Z"
      },
      {
        "duration": 8,
        "start_time": "2024-08-19T17:18:47.284Z"
      },
      {
        "duration": 11,
        "start_time": "2024-08-19T17:18:47.294Z"
      },
      {
        "duration": 52,
        "start_time": "2024-08-19T17:18:47.307Z"
      },
      {
        "duration": 14,
        "start_time": "2024-08-19T17:18:47.360Z"
      },
      {
        "duration": 39,
        "start_time": "2024-08-19T17:18:47.376Z"
      },
      {
        "duration": 7,
        "start_time": "2024-08-19T17:18:47.416Z"
      },
      {
        "duration": 40,
        "start_time": "2024-08-19T17:18:47.425Z"
      },
      {
        "duration": 6,
        "start_time": "2024-08-19T17:18:47.467Z"
      },
      {
        "duration": 12,
        "start_time": "2024-08-19T17:18:47.474Z"
      },
      {
        "duration": 28,
        "start_time": "2024-08-19T17:18:47.488Z"
      },
      {
        "duration": 18,
        "start_time": "2024-08-19T17:18:47.518Z"
      },
      {
        "duration": 7,
        "start_time": "2024-08-19T17:18:47.565Z"
      },
      {
        "duration": 28,
        "start_time": "2024-08-19T17:18:47.574Z"
      },
      {
        "duration": 28,
        "start_time": "2024-08-19T17:18:47.603Z"
      },
      {
        "duration": 34,
        "start_time": "2024-08-19T17:18:47.633Z"
      },
      {
        "duration": 21,
        "start_time": "2024-08-19T17:18:47.669Z"
      },
      {
        "duration": 27,
        "start_time": "2024-08-19T17:18:47.692Z"
      },
      {
        "duration": 54,
        "start_time": "2024-08-19T17:18:47.720Z"
      },
      {
        "duration": 97,
        "start_time": "2024-08-19T17:18:47.775Z"
      },
      {
        "duration": 31,
        "start_time": "2024-08-19T17:18:47.874Z"
      },
      {
        "duration": 9,
        "start_time": "2024-08-19T17:18:47.907Z"
      },
      {
        "duration": 10,
        "start_time": "2024-08-19T17:18:47.918Z"
      },
      {
        "duration": 185,
        "start_time": "2024-08-19T17:18:47.932Z"
      },
      {
        "duration": 6,
        "start_time": "2024-08-19T17:18:48.118Z"
      },
      {
        "duration": 32,
        "start_time": "2024-08-19T17:18:48.126Z"
      },
      {
        "duration": 25,
        "start_time": "2024-08-19T17:18:48.159Z"
      },
      {
        "duration": 450,
        "start_time": "2024-08-19T17:18:48.186Z"
      },
      {
        "duration": 6,
        "start_time": "2024-08-19T17:18:48.638Z"
      },
      {
        "duration": 21,
        "start_time": "2024-08-19T17:18:48.646Z"
      },
      {
        "duration": 10,
        "start_time": "2024-08-19T17:18:48.669Z"
      },
      {
        "duration": 190,
        "start_time": "2024-08-19T17:18:48.682Z"
      },
      {
        "duration": 994,
        "start_time": "2024-08-19T17:18:48.874Z"
      },
      {
        "duration": 162,
        "start_time": "2024-08-19T17:18:49.870Z"
      },
      {
        "duration": 6,
        "start_time": "2024-08-19T17:18:50.034Z"
      },
      {
        "duration": 245,
        "start_time": "2024-08-19T17:18:50.042Z"
      },
      {
        "duration": 28,
        "start_time": "2024-08-19T17:18:50.289Z"
      },
      {
        "duration": 6,
        "start_time": "2024-08-19T17:18:50.318Z"
      },
      {
        "duration": 7,
        "start_time": "2024-08-19T17:21:03.759Z"
      },
      {
        "duration": 13,
        "start_time": "2024-08-19T17:21:34.753Z"
      },
      {
        "duration": 175,
        "start_time": "2024-08-19T17:21:48.046Z"
      },
      {
        "duration": 13,
        "start_time": "2024-08-19T17:21:48.223Z"
      },
      {
        "duration": 10,
        "start_time": "2024-08-19T17:21:48.237Z"
      },
      {
        "duration": 33,
        "start_time": "2024-08-19T17:21:48.249Z"
      },
      {
        "duration": 23,
        "start_time": "2024-08-19T17:21:48.284Z"
      },
      {
        "duration": 17,
        "start_time": "2024-08-19T17:21:48.309Z"
      },
      {
        "duration": 13,
        "start_time": "2024-08-19T17:21:48.328Z"
      },
      {
        "duration": 24,
        "start_time": "2024-08-19T17:21:48.371Z"
      },
      {
        "duration": 10,
        "start_time": "2024-08-19T17:21:48.396Z"
      },
      {
        "duration": 13,
        "start_time": "2024-08-19T17:21:48.408Z"
      },
      {
        "duration": 14,
        "start_time": "2024-08-19T17:21:48.423Z"
      },
      {
        "duration": 42,
        "start_time": "2024-08-19T17:21:48.439Z"
      },
      {
        "duration": 24,
        "start_time": "2024-08-19T17:21:48.483Z"
      },
      {
        "duration": 9,
        "start_time": "2024-08-19T17:21:48.510Z"
      },
      {
        "duration": 8,
        "start_time": "2024-08-19T17:21:48.521Z"
      },
      {
        "duration": 13,
        "start_time": "2024-08-19T17:21:48.530Z"
      },
      {
        "duration": 8,
        "start_time": "2024-08-19T17:21:48.545Z"
      },
      {
        "duration": 29,
        "start_time": "2024-08-19T17:21:48.555Z"
      },
      {
        "duration": 7,
        "start_time": "2024-08-19T17:21:48.586Z"
      },
      {
        "duration": 12,
        "start_time": "2024-08-19T17:21:48.594Z"
      },
      {
        "duration": 5,
        "start_time": "2024-08-19T17:21:48.608Z"
      },
      {
        "duration": 12,
        "start_time": "2024-08-19T17:21:48.615Z"
      },
      {
        "duration": 73,
        "start_time": "2024-08-19T17:21:48.629Z"
      },
      {
        "duration": 7,
        "start_time": "2024-08-19T17:21:48.704Z"
      },
      {
        "duration": 15,
        "start_time": "2024-08-19T17:21:48.713Z"
      },
      {
        "duration": 7,
        "start_time": "2024-08-19T17:21:48.729Z"
      },
      {
        "duration": 37,
        "start_time": "2024-08-19T17:21:48.737Z"
      },
      {
        "duration": 42,
        "start_time": "2024-08-19T17:21:48.778Z"
      },
      {
        "duration": 18,
        "start_time": "2024-08-19T17:21:48.821Z"
      },
      {
        "duration": 6,
        "start_time": "2024-08-19T17:21:48.840Z"
      },
      {
        "duration": 10,
        "start_time": "2024-08-19T17:21:48.848Z"
      },
      {
        "duration": 0,
        "start_time": "2024-08-19T17:21:48.865Z"
      },
      {
        "duration": 0,
        "start_time": "2024-08-19T17:21:48.866Z"
      },
      {
        "duration": 0,
        "start_time": "2024-08-19T17:21:48.868Z"
      },
      {
        "duration": 0,
        "start_time": "2024-08-19T17:21:48.869Z"
      },
      {
        "duration": 0,
        "start_time": "2024-08-19T17:21:48.872Z"
      },
      {
        "duration": 0,
        "start_time": "2024-08-19T17:21:48.873Z"
      },
      {
        "duration": 0,
        "start_time": "2024-08-19T17:21:48.874Z"
      },
      {
        "duration": 0,
        "start_time": "2024-08-19T17:21:48.875Z"
      },
      {
        "duration": 0,
        "start_time": "2024-08-19T17:21:48.876Z"
      },
      {
        "duration": 0,
        "start_time": "2024-08-19T17:21:48.877Z"
      },
      {
        "duration": 0,
        "start_time": "2024-08-19T17:21:48.878Z"
      },
      {
        "duration": 0,
        "start_time": "2024-08-19T17:21:48.881Z"
      },
      {
        "duration": 0,
        "start_time": "2024-08-19T17:21:48.883Z"
      },
      {
        "duration": 0,
        "start_time": "2024-08-19T17:21:48.883Z"
      },
      {
        "duration": 0,
        "start_time": "2024-08-19T17:21:48.884Z"
      },
      {
        "duration": 0,
        "start_time": "2024-08-19T17:21:48.885Z"
      },
      {
        "duration": 0,
        "start_time": "2024-08-19T17:21:48.886Z"
      },
      {
        "duration": 0,
        "start_time": "2024-08-19T17:21:48.888Z"
      },
      {
        "duration": 0,
        "start_time": "2024-08-19T17:21:48.889Z"
      },
      {
        "duration": 0,
        "start_time": "2024-08-19T17:21:48.890Z"
      },
      {
        "duration": 0,
        "start_time": "2024-08-19T17:21:48.890Z"
      },
      {
        "duration": 0,
        "start_time": "2024-08-19T17:21:48.891Z"
      },
      {
        "duration": 0,
        "start_time": "2024-08-19T17:21:48.892Z"
      },
      {
        "duration": 0,
        "start_time": "2024-08-19T17:21:48.893Z"
      },
      {
        "duration": 0,
        "start_time": "2024-08-19T17:21:48.894Z"
      },
      {
        "duration": 14,
        "start_time": "2024-08-19T17:22:51.266Z"
      },
      {
        "duration": 14,
        "start_time": "2024-08-19T17:24:06.210Z"
      },
      {
        "duration": 63,
        "start_time": "2024-08-19T17:24:41.980Z"
      },
      {
        "duration": 8,
        "start_time": "2024-08-19T17:24:47.880Z"
      },
      {
        "duration": 8,
        "start_time": "2024-08-19T17:24:56.864Z"
      },
      {
        "duration": 31,
        "start_time": "2024-08-19T17:25:13.627Z"
      },
      {
        "duration": 165,
        "start_time": "2024-08-19T17:25:33.396Z"
      },
      {
        "duration": 27,
        "start_time": "2024-08-19T17:25:33.563Z"
      },
      {
        "duration": 14,
        "start_time": "2024-08-19T17:25:33.592Z"
      },
      {
        "duration": 22,
        "start_time": "2024-08-19T17:25:33.608Z"
      },
      {
        "duration": 29,
        "start_time": "2024-08-19T17:25:33.632Z"
      },
      {
        "duration": 30,
        "start_time": "2024-08-19T17:25:33.663Z"
      },
      {
        "duration": 14,
        "start_time": "2024-08-19T17:25:33.695Z"
      },
      {
        "duration": 22,
        "start_time": "2024-08-19T17:25:33.711Z"
      },
      {
        "duration": 35,
        "start_time": "2024-08-19T17:25:33.735Z"
      },
      {
        "duration": 35,
        "start_time": "2024-08-19T17:25:33.778Z"
      },
      {
        "duration": 19,
        "start_time": "2024-08-19T17:25:33.815Z"
      },
      {
        "duration": 72,
        "start_time": "2024-08-19T17:25:33.836Z"
      },
      {
        "duration": 20,
        "start_time": "2024-08-19T17:25:33.909Z"
      },
      {
        "duration": 12,
        "start_time": "2024-08-19T17:25:33.932Z"
      },
      {
        "duration": 16,
        "start_time": "2024-08-19T17:25:33.946Z"
      },
      {
        "duration": 17,
        "start_time": "2024-08-19T17:25:33.966Z"
      },
      {
        "duration": 7,
        "start_time": "2024-08-19T17:25:33.984Z"
      },
      {
        "duration": 28,
        "start_time": "2024-08-19T17:25:33.993Z"
      },
      {
        "duration": 8,
        "start_time": "2024-08-19T17:25:34.023Z"
      },
      {
        "duration": 12,
        "start_time": "2024-08-19T17:25:34.032Z"
      },
      {
        "duration": 15,
        "start_time": "2024-08-19T17:25:34.065Z"
      },
      {
        "duration": 12,
        "start_time": "2024-08-19T17:25:34.083Z"
      },
      {
        "duration": 28,
        "start_time": "2024-08-19T17:25:34.097Z"
      },
      {
        "duration": 4,
        "start_time": "2024-08-19T17:25:34.127Z"
      },
      {
        "duration": 41,
        "start_time": "2024-08-19T17:25:34.133Z"
      },
      {
        "duration": 7,
        "start_time": "2024-08-19T17:25:34.179Z"
      },
      {
        "duration": 12,
        "start_time": "2024-08-19T17:25:34.188Z"
      },
      {
        "duration": 29,
        "start_time": "2024-08-19T17:25:34.204Z"
      },
      {
        "duration": 34,
        "start_time": "2024-08-19T17:25:34.234Z"
      },
      {
        "duration": 13,
        "start_time": "2024-08-19T17:25:34.269Z"
      },
      {
        "duration": 7,
        "start_time": "2024-08-19T17:25:34.284Z"
      },
      {
        "duration": 27,
        "start_time": "2024-08-19T17:25:34.293Z"
      },
      {
        "duration": 63,
        "start_time": "2024-08-19T17:25:34.322Z"
      },
      {
        "duration": 5,
        "start_time": "2024-08-19T17:25:34.386Z"
      },
      {
        "duration": 25,
        "start_time": "2024-08-19T17:25:34.393Z"
      },
      {
        "duration": 27,
        "start_time": "2024-08-19T17:25:34.420Z"
      },
      {
        "duration": 51,
        "start_time": "2024-08-19T17:25:34.449Z"
      },
      {
        "duration": 8,
        "start_time": "2024-08-19T17:25:34.502Z"
      },
      {
        "duration": 34,
        "start_time": "2024-08-19T17:25:34.512Z"
      },
      {
        "duration": 24,
        "start_time": "2024-08-19T17:25:34.548Z"
      },
      {
        "duration": 13,
        "start_time": "2024-08-19T17:25:34.575Z"
      },
      {
        "duration": 209,
        "start_time": "2024-08-19T17:25:34.590Z"
      },
      {
        "duration": 6,
        "start_time": "2024-08-19T17:25:34.801Z"
      },
      {
        "duration": 140,
        "start_time": "2024-08-19T17:25:34.808Z"
      },
      {
        "duration": 36,
        "start_time": "2024-08-19T17:25:34.949Z"
      },
      {
        "duration": 443,
        "start_time": "2024-08-19T17:25:34.986Z"
      },
      {
        "duration": 4,
        "start_time": "2024-08-19T17:25:35.430Z"
      },
      {
        "duration": 22,
        "start_time": "2024-08-19T17:25:35.436Z"
      },
      {
        "duration": 25,
        "start_time": "2024-08-19T17:25:35.460Z"
      },
      {
        "duration": 199,
        "start_time": "2024-08-19T17:25:35.487Z"
      },
      {
        "duration": 920,
        "start_time": "2024-08-19T17:25:35.688Z"
      },
      {
        "duration": 179,
        "start_time": "2024-08-19T17:25:36.609Z"
      },
      {
        "duration": 6,
        "start_time": "2024-08-19T17:25:36.791Z"
      },
      {
        "duration": 320,
        "start_time": "2024-08-19T17:25:36.799Z"
      },
      {
        "duration": 28,
        "start_time": "2024-08-19T17:25:37.121Z"
      },
      {
        "duration": 32,
        "start_time": "2024-08-19T17:25:37.151Z"
      },
      {
        "duration": 30,
        "start_time": "2024-08-19T17:43:41.648Z"
      },
      {
        "duration": 159,
        "start_time": "2024-08-19T17:43:46.886Z"
      },
      {
        "duration": 14,
        "start_time": "2024-08-19T17:43:47.047Z"
      },
      {
        "duration": 19,
        "start_time": "2024-08-19T17:43:47.063Z"
      },
      {
        "duration": 33,
        "start_time": "2024-08-19T17:43:47.084Z"
      },
      {
        "duration": 24,
        "start_time": "2024-08-19T17:43:47.120Z"
      },
      {
        "duration": 16,
        "start_time": "2024-08-19T17:43:47.146Z"
      },
      {
        "duration": 20,
        "start_time": "2024-08-19T17:43:47.163Z"
      },
      {
        "duration": 19,
        "start_time": "2024-08-19T17:43:47.185Z"
      },
      {
        "duration": 9,
        "start_time": "2024-08-19T17:43:47.206Z"
      },
      {
        "duration": 13,
        "start_time": "2024-08-19T17:43:47.216Z"
      },
      {
        "duration": 49,
        "start_time": "2024-08-19T17:43:47.231Z"
      },
      {
        "duration": 14,
        "start_time": "2024-08-19T17:43:47.282Z"
      },
      {
        "duration": 13,
        "start_time": "2024-08-19T17:43:47.298Z"
      },
      {
        "duration": 9,
        "start_time": "2024-08-19T17:43:47.314Z"
      },
      {
        "duration": 4,
        "start_time": "2024-08-19T17:43:47.324Z"
      },
      {
        "duration": 44,
        "start_time": "2024-08-19T17:43:47.330Z"
      },
      {
        "duration": 6,
        "start_time": "2024-08-19T17:43:47.376Z"
      },
      {
        "duration": 65,
        "start_time": "2024-08-19T17:43:47.383Z"
      },
      {
        "duration": 7,
        "start_time": "2024-08-19T17:43:47.450Z"
      },
      {
        "duration": 21,
        "start_time": "2024-08-19T17:43:47.458Z"
      },
      {
        "duration": 7,
        "start_time": "2024-08-19T17:43:47.481Z"
      },
      {
        "duration": 24,
        "start_time": "2024-08-19T17:43:47.490Z"
      },
      {
        "duration": 35,
        "start_time": "2024-08-19T17:43:47.516Z"
      },
      {
        "duration": 5,
        "start_time": "2024-08-19T17:43:47.552Z"
      },
      {
        "duration": 15,
        "start_time": "2024-08-19T17:43:47.574Z"
      },
      {
        "duration": 5,
        "start_time": "2024-08-19T17:43:47.591Z"
      },
      {
        "duration": 16,
        "start_time": "2024-08-19T17:43:47.598Z"
      },
      {
        "duration": 27,
        "start_time": "2024-08-19T17:43:47.616Z"
      },
      {
        "duration": 36,
        "start_time": "2024-08-19T17:43:47.645Z"
      },
      {
        "duration": 6,
        "start_time": "2024-08-19T17:43:47.684Z"
      },
      {
        "duration": 7,
        "start_time": "2024-08-19T17:43:47.692Z"
      },
      {
        "duration": 47,
        "start_time": "2024-08-19T17:43:47.700Z"
      },
      {
        "duration": 48,
        "start_time": "2024-08-19T17:43:47.748Z"
      },
      {
        "duration": 6,
        "start_time": "2024-08-19T17:43:47.797Z"
      },
      {
        "duration": 22,
        "start_time": "2024-08-19T17:43:47.805Z"
      },
      {
        "duration": 51,
        "start_time": "2024-08-19T17:43:47.829Z"
      },
      {
        "duration": 37,
        "start_time": "2024-08-19T17:43:47.883Z"
      },
      {
        "duration": 9,
        "start_time": "2024-08-19T17:43:47.922Z"
      },
      {
        "duration": 93,
        "start_time": "2024-08-19T17:43:47.932Z"
      },
      {
        "duration": 9,
        "start_time": "2024-08-19T17:43:48.030Z"
      },
      {
        "duration": 13,
        "start_time": "2024-08-19T17:43:48.044Z"
      },
      {
        "duration": 160,
        "start_time": "2024-08-19T17:43:48.058Z"
      },
      {
        "duration": 5,
        "start_time": "2024-08-19T17:43:48.220Z"
      },
      {
        "duration": 22,
        "start_time": "2024-08-19T17:43:48.227Z"
      },
      {
        "duration": 27,
        "start_time": "2024-08-19T17:43:48.271Z"
      },
      {
        "duration": 427,
        "start_time": "2024-08-19T17:43:48.299Z"
      },
      {
        "duration": 5,
        "start_time": "2024-08-19T17:43:48.727Z"
      },
      {
        "duration": 5,
        "start_time": "2024-08-19T17:43:48.733Z"
      },
      {
        "duration": 8,
        "start_time": "2024-08-19T17:43:48.739Z"
      },
      {
        "duration": 169,
        "start_time": "2024-08-19T17:43:48.765Z"
      },
      {
        "duration": 950,
        "start_time": "2024-08-19T17:43:48.935Z"
      },
      {
        "duration": 2419,
        "start_time": "2024-08-19T17:43:49.886Z"
      },
      {
        "duration": 6,
        "start_time": "2024-08-19T17:43:52.307Z"
      },
      {
        "duration": 235,
        "start_time": "2024-08-19T17:43:52.314Z"
      },
      {
        "duration": 38,
        "start_time": "2024-08-19T17:43:52.551Z"
      },
      {
        "duration": 6,
        "start_time": "2024-08-19T17:43:52.590Z"
      },
      {
        "duration": 169,
        "start_time": "2024-08-19T17:50:50.153Z"
      },
      {
        "duration": 15,
        "start_time": "2024-08-19T17:50:50.324Z"
      },
      {
        "duration": 12,
        "start_time": "2024-08-19T17:50:50.341Z"
      },
      {
        "duration": 28,
        "start_time": "2024-08-19T17:50:50.355Z"
      },
      {
        "duration": 26,
        "start_time": "2024-08-19T17:50:50.384Z"
      },
      {
        "duration": 15,
        "start_time": "2024-08-19T17:50:50.412Z"
      },
      {
        "duration": 14,
        "start_time": "2024-08-19T17:50:50.429Z"
      },
      {
        "duration": 43,
        "start_time": "2024-08-19T17:50:50.445Z"
      },
      {
        "duration": 14,
        "start_time": "2024-08-19T17:50:50.490Z"
      },
      {
        "duration": 17,
        "start_time": "2024-08-19T17:50:50.508Z"
      },
      {
        "duration": 50,
        "start_time": "2024-08-19T17:50:50.526Z"
      },
      {
        "duration": 13,
        "start_time": "2024-08-19T17:50:50.582Z"
      },
      {
        "duration": 15,
        "start_time": "2024-08-19T17:50:50.597Z"
      },
      {
        "duration": 13,
        "start_time": "2024-08-19T17:50:50.614Z"
      },
      {
        "duration": 12,
        "start_time": "2024-08-19T17:50:50.628Z"
      },
      {
        "duration": 54,
        "start_time": "2024-08-19T17:50:50.641Z"
      },
      {
        "duration": 27,
        "start_time": "2024-08-19T17:50:50.698Z"
      },
      {
        "duration": 47,
        "start_time": "2024-08-19T17:50:50.727Z"
      },
      {
        "duration": 18,
        "start_time": "2024-08-19T17:50:50.776Z"
      },
      {
        "duration": 17,
        "start_time": "2024-08-19T17:50:50.796Z"
      },
      {
        "duration": 15,
        "start_time": "2024-08-19T17:50:50.815Z"
      },
      {
        "duration": 24,
        "start_time": "2024-08-19T17:50:50.832Z"
      },
      {
        "duration": 35,
        "start_time": "2024-08-19T17:50:50.857Z"
      },
      {
        "duration": 6,
        "start_time": "2024-08-19T17:50:50.894Z"
      },
      {
        "duration": 77,
        "start_time": "2024-08-19T17:50:50.901Z"
      },
      {
        "duration": 8,
        "start_time": "2024-08-19T17:50:50.980Z"
      },
      {
        "duration": 42,
        "start_time": "2024-08-19T17:50:50.990Z"
      },
      {
        "duration": 44,
        "start_time": "2024-08-19T17:50:51.036Z"
      },
      {
        "duration": 19,
        "start_time": "2024-08-19T17:50:51.082Z"
      },
      {
        "duration": 6,
        "start_time": "2024-08-19T17:50:51.103Z"
      },
      {
        "duration": 9,
        "start_time": "2024-08-19T17:50:51.110Z"
      },
      {
        "duration": 57,
        "start_time": "2024-08-19T17:50:51.120Z"
      },
      {
        "duration": 27,
        "start_time": "2024-08-19T17:50:51.179Z"
      },
      {
        "duration": 5,
        "start_time": "2024-08-19T17:50:51.208Z"
      },
      {
        "duration": 24,
        "start_time": "2024-08-19T17:50:51.214Z"
      },
      {
        "duration": 41,
        "start_time": "2024-08-19T17:50:51.240Z"
      },
      {
        "duration": 29,
        "start_time": "2024-08-19T17:50:51.282Z"
      },
      {
        "duration": 8,
        "start_time": "2024-08-19T17:50:51.312Z"
      },
      {
        "duration": 48,
        "start_time": "2024-08-19T17:50:51.321Z"
      },
      {
        "duration": 60,
        "start_time": "2024-08-19T17:50:51.371Z"
      },
      {
        "duration": 29,
        "start_time": "2024-08-19T17:50:51.432Z"
      },
      {
        "duration": 172,
        "start_time": "2024-08-19T17:50:51.463Z"
      },
      {
        "duration": 8,
        "start_time": "2024-08-19T17:50:51.637Z"
      },
      {
        "duration": 45,
        "start_time": "2024-08-19T17:50:51.646Z"
      },
      {
        "duration": 84,
        "start_time": "2024-08-19T17:50:51.693Z"
      },
      {
        "duration": 469,
        "start_time": "2024-08-19T17:50:51.780Z"
      },
      {
        "duration": 5,
        "start_time": "2024-08-19T17:50:52.250Z"
      },
      {
        "duration": 13,
        "start_time": "2024-08-19T17:50:52.265Z"
      },
      {
        "duration": 26,
        "start_time": "2024-08-19T17:50:52.284Z"
      },
      {
        "duration": 184,
        "start_time": "2024-08-19T17:50:52.312Z"
      },
      {
        "duration": 901,
        "start_time": "2024-08-19T17:50:52.498Z"
      },
      {
        "duration": 173,
        "start_time": "2024-08-19T17:50:53.401Z"
      },
      {
        "duration": 9,
        "start_time": "2024-08-19T17:50:53.581Z"
      },
      {
        "duration": 237,
        "start_time": "2024-08-19T17:50:53.593Z"
      },
      {
        "duration": 39,
        "start_time": "2024-08-19T17:50:53.831Z"
      },
      {
        "duration": 5,
        "start_time": "2024-08-19T17:50:53.875Z"
      },
      {
        "duration": 159,
        "start_time": "2024-08-19T17:51:30.973Z"
      },
      {
        "duration": 13,
        "start_time": "2024-08-19T17:51:31.134Z"
      },
      {
        "duration": 20,
        "start_time": "2024-08-19T17:51:31.149Z"
      },
      {
        "duration": 21,
        "start_time": "2024-08-19T17:51:31.171Z"
      },
      {
        "duration": 23,
        "start_time": "2024-08-19T17:51:31.193Z"
      },
      {
        "duration": 16,
        "start_time": "2024-08-19T17:51:31.218Z"
      },
      {
        "duration": 13,
        "start_time": "2024-08-19T17:51:31.235Z"
      },
      {
        "duration": 46,
        "start_time": "2024-08-19T17:51:31.250Z"
      },
      {
        "duration": 10,
        "start_time": "2024-08-19T17:51:31.298Z"
      },
      {
        "duration": 30,
        "start_time": "2024-08-19T17:51:31.310Z"
      },
      {
        "duration": 13,
        "start_time": "2024-08-19T17:51:31.341Z"
      },
      {
        "duration": 25,
        "start_time": "2024-08-19T17:51:31.356Z"
      },
      {
        "duration": 14,
        "start_time": "2024-08-19T17:51:31.383Z"
      },
      {
        "duration": 50,
        "start_time": "2024-08-19T17:51:31.400Z"
      },
      {
        "duration": 10,
        "start_time": "2024-08-19T17:51:31.452Z"
      },
      {
        "duration": 24,
        "start_time": "2024-08-19T17:51:31.463Z"
      },
      {
        "duration": 4,
        "start_time": "2024-08-19T17:51:31.488Z"
      },
      {
        "duration": 24,
        "start_time": "2024-08-19T17:51:31.494Z"
      },
      {
        "duration": 17,
        "start_time": "2024-08-19T17:51:31.520Z"
      },
      {
        "duration": 17,
        "start_time": "2024-08-19T17:51:31.538Z"
      },
      {
        "duration": 26,
        "start_time": "2024-08-19T17:51:31.556Z"
      },
      {
        "duration": 26,
        "start_time": "2024-08-19T17:51:31.585Z"
      },
      {
        "duration": 41,
        "start_time": "2024-08-19T17:51:31.613Z"
      },
      {
        "duration": 6,
        "start_time": "2024-08-19T17:51:31.655Z"
      },
      {
        "duration": 36,
        "start_time": "2024-08-19T17:51:31.663Z"
      },
      {
        "duration": 21,
        "start_time": "2024-08-19T17:51:31.702Z"
      },
      {
        "duration": 39,
        "start_time": "2024-08-19T17:51:31.724Z"
      },
      {
        "duration": 57,
        "start_time": "2024-08-19T17:51:31.765Z"
      },
      {
        "duration": 19,
        "start_time": "2024-08-19T17:51:31.824Z"
      },
      {
        "duration": 14,
        "start_time": "2024-08-19T17:51:31.845Z"
      },
      {
        "duration": 24,
        "start_time": "2024-08-19T17:51:31.860Z"
      },
      {
        "duration": 53,
        "start_time": "2024-08-19T17:51:31.885Z"
      },
      {
        "duration": 41,
        "start_time": "2024-08-19T17:51:31.940Z"
      },
      {
        "duration": 47,
        "start_time": "2024-08-19T17:51:31.984Z"
      },
      {
        "duration": 83,
        "start_time": "2024-08-19T17:51:32.033Z"
      },
      {
        "duration": 59,
        "start_time": "2024-08-19T17:51:32.118Z"
      },
      {
        "duration": 31,
        "start_time": "2024-08-19T17:51:32.181Z"
      },
      {
        "duration": 12,
        "start_time": "2024-08-19T17:51:32.213Z"
      },
      {
        "duration": 40,
        "start_time": "2024-08-19T17:51:32.227Z"
      },
      {
        "duration": 73,
        "start_time": "2024-08-19T17:51:32.269Z"
      },
      {
        "duration": 35,
        "start_time": "2024-08-19T17:51:32.346Z"
      },
      {
        "duration": 170,
        "start_time": "2024-08-19T17:51:32.384Z"
      },
      {
        "duration": 22,
        "start_time": "2024-08-19T17:51:32.555Z"
      },
      {
        "duration": 21,
        "start_time": "2024-08-19T17:51:32.579Z"
      },
      {
        "duration": 36,
        "start_time": "2024-08-19T17:51:32.602Z"
      },
      {
        "duration": 499,
        "start_time": "2024-08-19T17:51:32.640Z"
      },
      {
        "duration": 4,
        "start_time": "2024-08-19T17:51:33.141Z"
      },
      {
        "duration": 23,
        "start_time": "2024-08-19T17:51:33.147Z"
      },
      {
        "duration": 13,
        "start_time": "2024-08-19T17:51:33.172Z"
      },
      {
        "duration": 161,
        "start_time": "2024-08-19T17:51:33.187Z"
      },
      {
        "duration": 965,
        "start_time": "2024-08-19T17:51:33.350Z"
      },
      {
        "duration": 172,
        "start_time": "2024-08-19T17:51:34.317Z"
      },
      {
        "duration": 5,
        "start_time": "2024-08-19T17:51:34.490Z"
      },
      {
        "duration": 230,
        "start_time": "2024-08-19T17:51:34.497Z"
      },
      {
        "duration": 25,
        "start_time": "2024-08-19T17:51:34.729Z"
      },
      {
        "duration": 11,
        "start_time": "2024-08-19T17:51:34.756Z"
      },
      {
        "duration": 1042,
        "start_time": "2024-08-19T18:05:12.653Z"
      },
      {
        "duration": 13,
        "start_time": "2024-08-19T18:05:13.696Z"
      },
      {
        "duration": 9,
        "start_time": "2024-08-19T18:05:13.711Z"
      },
      {
        "duration": 13,
        "start_time": "2024-08-19T18:05:13.722Z"
      },
      {
        "duration": 22,
        "start_time": "2024-08-19T18:05:13.737Z"
      },
      {
        "duration": 38,
        "start_time": "2024-08-19T18:05:13.760Z"
      },
      {
        "duration": 14,
        "start_time": "2024-08-19T18:05:13.799Z"
      },
      {
        "duration": 22,
        "start_time": "2024-08-19T18:05:13.814Z"
      },
      {
        "duration": 10,
        "start_time": "2024-08-19T18:05:13.837Z"
      },
      {
        "duration": 26,
        "start_time": "2024-08-19T18:05:13.848Z"
      },
      {
        "duration": 72,
        "start_time": "2024-08-19T18:05:13.875Z"
      },
      {
        "duration": 75,
        "start_time": "2024-08-19T18:05:13.948Z"
      },
      {
        "duration": 13,
        "start_time": "2024-08-19T18:05:14.024Z"
      },
      {
        "duration": 9,
        "start_time": "2024-08-19T18:05:14.039Z"
      },
      {
        "duration": 4,
        "start_time": "2024-08-19T18:05:14.049Z"
      },
      {
        "duration": 14,
        "start_time": "2024-08-19T18:05:14.054Z"
      },
      {
        "duration": 5,
        "start_time": "2024-08-19T18:05:14.070Z"
      },
      {
        "duration": 21,
        "start_time": "2024-08-19T18:05:14.076Z"
      },
      {
        "duration": 7,
        "start_time": "2024-08-19T18:05:14.098Z"
      },
      {
        "duration": 13,
        "start_time": "2024-08-19T18:05:14.106Z"
      },
      {
        "duration": 4,
        "start_time": "2024-08-19T18:05:14.121Z"
      },
      {
        "duration": 18,
        "start_time": "2024-08-19T18:05:14.127Z"
      },
      {
        "duration": 25,
        "start_time": "2024-08-19T18:05:14.146Z"
      },
      {
        "duration": 4,
        "start_time": "2024-08-19T18:05:14.173Z"
      },
      {
        "duration": 13,
        "start_time": "2024-08-19T18:05:14.196Z"
      },
      {
        "duration": 5,
        "start_time": "2024-08-19T18:05:14.210Z"
      },
      {
        "duration": 16,
        "start_time": "2024-08-19T18:05:14.216Z"
      },
      {
        "duration": 26,
        "start_time": "2024-08-19T18:05:14.233Z"
      },
      {
        "duration": 42,
        "start_time": "2024-08-19T18:05:14.260Z"
      },
      {
        "duration": 6,
        "start_time": "2024-08-19T18:05:14.303Z"
      },
      {
        "duration": 7,
        "start_time": "2024-08-19T18:05:14.310Z"
      },
      {
        "duration": 26,
        "start_time": "2024-08-19T18:05:14.319Z"
      },
      {
        "duration": 51,
        "start_time": "2024-08-19T18:05:14.346Z"
      },
      {
        "duration": 5,
        "start_time": "2024-08-19T18:05:14.399Z"
      },
      {
        "duration": 17,
        "start_time": "2024-08-19T18:05:14.405Z"
      },
      {
        "duration": 90,
        "start_time": "2024-08-19T18:05:14.424Z"
      },
      {
        "duration": 27,
        "start_time": "2024-08-19T18:05:14.516Z"
      },
      {
        "duration": 7,
        "start_time": "2024-08-19T18:05:14.545Z"
      },
      {
        "duration": 44,
        "start_time": "2024-08-19T18:05:14.554Z"
      },
      {
        "duration": 7,
        "start_time": "2024-08-19T18:05:14.600Z"
      },
      {
        "duration": 10,
        "start_time": "2024-08-19T18:05:14.610Z"
      },
      {
        "duration": 157,
        "start_time": "2024-08-19T18:05:14.621Z"
      },
      {
        "duration": 6,
        "start_time": "2024-08-19T18:05:14.779Z"
      },
      {
        "duration": 28,
        "start_time": "2024-08-19T18:05:14.786Z"
      },
      {
        "duration": 28,
        "start_time": "2024-08-19T18:05:14.815Z"
      },
      {
        "duration": 395,
        "start_time": "2024-08-19T18:05:14.845Z"
      },
      {
        "duration": 5,
        "start_time": "2024-08-19T18:05:15.241Z"
      },
      {
        "duration": 29,
        "start_time": "2024-08-19T18:05:15.247Z"
      },
      {
        "duration": 29,
        "start_time": "2024-08-19T18:05:15.278Z"
      },
      {
        "duration": 104,
        "start_time": "2024-08-19T18:05:15.308Z"
      },
      {
        "duration": 0,
        "start_time": "2024-08-19T18:05:15.413Z"
      },
      {
        "duration": 0,
        "start_time": "2024-08-19T18:05:15.415Z"
      },
      {
        "duration": 0,
        "start_time": "2024-08-19T18:05:15.416Z"
      },
      {
        "duration": 0,
        "start_time": "2024-08-19T18:05:15.417Z"
      },
      {
        "duration": 0,
        "start_time": "2024-08-19T18:05:15.418Z"
      },
      {
        "duration": 0,
        "start_time": "2024-08-19T18:05:15.419Z"
      },
      {
        "duration": 5,
        "start_time": "2024-08-19T18:36:02.937Z"
      },
      {
        "duration": 787,
        "start_time": "2024-08-19T18:36:38.489Z"
      },
      {
        "duration": 13,
        "start_time": "2024-08-19T18:36:39.278Z"
      },
      {
        "duration": 17,
        "start_time": "2024-08-19T18:36:39.293Z"
      },
      {
        "duration": 13,
        "start_time": "2024-08-19T18:36:39.311Z"
      },
      {
        "duration": 33,
        "start_time": "2024-08-19T18:36:39.326Z"
      },
      {
        "duration": 15,
        "start_time": "2024-08-19T18:36:39.360Z"
      },
      {
        "duration": 23,
        "start_time": "2024-08-19T18:36:39.376Z"
      },
      {
        "duration": 24,
        "start_time": "2024-08-19T18:36:39.402Z"
      },
      {
        "duration": 9,
        "start_time": "2024-08-19T18:36:39.427Z"
      },
      {
        "duration": 10,
        "start_time": "2024-08-19T18:36:39.437Z"
      },
      {
        "duration": 14,
        "start_time": "2024-08-19T18:36:39.448Z"
      },
      {
        "duration": 38,
        "start_time": "2024-08-19T18:36:39.463Z"
      },
      {
        "duration": 15,
        "start_time": "2024-08-19T18:36:39.503Z"
      },
      {
        "duration": 19,
        "start_time": "2024-08-19T18:36:39.520Z"
      },
      {
        "duration": 8,
        "start_time": "2024-08-19T18:36:39.540Z"
      },
      {
        "duration": 4,
        "start_time": "2024-08-19T18:36:39.550Z"
      },
      {
        "duration": 11,
        "start_time": "2024-08-19T18:36:39.556Z"
      },
      {
        "duration": 33,
        "start_time": "2024-08-19T18:36:39.568Z"
      },
      {
        "duration": 17,
        "start_time": "2024-08-19T18:36:39.611Z"
      },
      {
        "duration": 7,
        "start_time": "2024-08-19T18:36:39.629Z"
      },
      {
        "duration": 11,
        "start_time": "2024-08-19T18:36:39.638Z"
      },
      {
        "duration": 4,
        "start_time": "2024-08-19T18:36:39.651Z"
      },
      {
        "duration": 11,
        "start_time": "2024-08-19T18:36:39.657Z"
      },
      {
        "duration": 55,
        "start_time": "2024-08-19T18:36:39.670Z"
      },
      {
        "duration": 6,
        "start_time": "2024-08-19T18:36:39.726Z"
      },
      {
        "duration": 15,
        "start_time": "2024-08-19T18:36:39.734Z"
      },
      {
        "duration": 19,
        "start_time": "2024-08-19T18:36:39.750Z"
      },
      {
        "duration": 13,
        "start_time": "2024-08-19T18:36:39.771Z"
      },
      {
        "duration": 40,
        "start_time": "2024-08-19T18:36:39.785Z"
      },
      {
        "duration": 17,
        "start_time": "2024-08-19T18:36:39.827Z"
      },
      {
        "duration": 6,
        "start_time": "2024-08-19T18:36:39.845Z"
      },
      {
        "duration": 6,
        "start_time": "2024-08-19T18:36:39.852Z"
      },
      {
        "duration": 52,
        "start_time": "2024-08-19T18:36:39.859Z"
      },
      {
        "duration": 23,
        "start_time": "2024-08-19T18:36:39.912Z"
      },
      {
        "duration": 6,
        "start_time": "2024-08-19T18:36:39.937Z"
      },
      {
        "duration": 18,
        "start_time": "2024-08-19T18:36:39.944Z"
      },
      {
        "duration": 52,
        "start_time": "2024-08-19T18:36:39.964Z"
      },
      {
        "duration": 42,
        "start_time": "2024-08-19T18:36:40.017Z"
      },
      {
        "duration": 10,
        "start_time": "2024-08-19T18:36:40.060Z"
      },
      {
        "duration": 87,
        "start_time": "2024-08-19T18:36:40.072Z"
      },
      {
        "duration": 23,
        "start_time": "2024-08-19T18:36:40.162Z"
      },
      {
        "duration": 22,
        "start_time": "2024-08-19T18:36:40.188Z"
      },
      {
        "duration": 154,
        "start_time": "2024-08-19T18:36:40.212Z"
      },
      {
        "duration": 5,
        "start_time": "2024-08-19T18:36:40.368Z"
      },
      {
        "duration": 31,
        "start_time": "2024-08-19T18:36:40.374Z"
      },
      {
        "duration": 22,
        "start_time": "2024-08-19T18:36:40.407Z"
      },
      {
        "duration": 425,
        "start_time": "2024-08-19T18:36:40.430Z"
      },
      {
        "duration": 4,
        "start_time": "2024-08-19T18:36:40.857Z"
      },
      {
        "duration": 5,
        "start_time": "2024-08-19T18:36:40.862Z"
      },
      {
        "duration": 15,
        "start_time": "2024-08-19T18:36:40.868Z"
      },
      {
        "duration": 80,
        "start_time": "2024-08-19T18:36:40.885Z"
      },
      {
        "duration": 0,
        "start_time": "2024-08-19T18:36:40.967Z"
      },
      {
        "duration": 0,
        "start_time": "2024-08-19T18:36:40.996Z"
      },
      {
        "duration": 0,
        "start_time": "2024-08-19T18:36:40.997Z"
      },
      {
        "duration": 0,
        "start_time": "2024-08-19T18:36:40.999Z"
      },
      {
        "duration": 0,
        "start_time": "2024-08-19T18:36:41.000Z"
      },
      {
        "duration": 0,
        "start_time": "2024-08-19T18:36:41.001Z"
      },
      {
        "duration": 16,
        "start_time": "2024-08-19T18:49:21.972Z"
      },
      {
        "duration": 886,
        "start_time": "2024-08-19T18:49:31.250Z"
      },
      {
        "duration": 65,
        "start_time": "2024-08-19T18:49:32.137Z"
      },
      {
        "duration": 92,
        "start_time": "2024-08-19T18:49:32.204Z"
      },
      {
        "duration": 14,
        "start_time": "2024-08-19T18:49:32.297Z"
      },
      {
        "duration": 84,
        "start_time": "2024-08-19T18:49:32.313Z"
      },
      {
        "duration": 15,
        "start_time": "2024-08-19T18:49:32.398Z"
      },
      {
        "duration": 21,
        "start_time": "2024-08-19T18:49:32.415Z"
      },
      {
        "duration": 70,
        "start_time": "2024-08-19T18:49:32.437Z"
      },
      {
        "duration": 5,
        "start_time": "2024-08-19T18:49:32.509Z"
      },
      {
        "duration": 28,
        "start_time": "2024-08-19T18:49:32.515Z"
      },
      {
        "duration": 64,
        "start_time": "2024-08-19T18:49:32.545Z"
      },
      {
        "duration": 16,
        "start_time": "2024-08-19T18:49:32.611Z"
      },
      {
        "duration": 76,
        "start_time": "2024-08-19T18:49:32.629Z"
      },
      {
        "duration": 13,
        "start_time": "2024-08-19T18:49:32.708Z"
      },
      {
        "duration": 12,
        "start_time": "2024-08-19T18:49:32.723Z"
      },
      {
        "duration": 60,
        "start_time": "2024-08-19T18:49:32.736Z"
      },
      {
        "duration": 10,
        "start_time": "2024-08-19T18:49:32.797Z"
      },
      {
        "duration": 12,
        "start_time": "2024-08-19T18:49:32.808Z"
      },
      {
        "duration": 78,
        "start_time": "2024-08-19T18:49:32.821Z"
      },
      {
        "duration": 7,
        "start_time": "2024-08-19T18:49:32.900Z"
      },
      {
        "duration": 40,
        "start_time": "2024-08-19T18:49:32.908Z"
      },
      {
        "duration": 48,
        "start_time": "2024-08-19T18:49:32.949Z"
      },
      {
        "duration": 12,
        "start_time": "2024-08-19T18:49:32.998Z"
      },
      {
        "duration": 19,
        "start_time": "2024-08-19T18:49:33.011Z"
      },
      {
        "duration": 85,
        "start_time": "2024-08-19T18:49:33.031Z"
      },
      {
        "duration": 5,
        "start_time": "2024-08-19T18:49:33.118Z"
      },
      {
        "duration": 26,
        "start_time": "2024-08-19T18:49:33.124Z"
      },
      {
        "duration": 24,
        "start_time": "2024-08-19T18:49:33.152Z"
      },
      {
        "duration": 31,
        "start_time": "2024-08-19T18:49:33.178Z"
      },
      {
        "duration": 49,
        "start_time": "2024-08-19T18:49:33.210Z"
      },
      {
        "duration": 17,
        "start_time": "2024-08-19T18:49:33.260Z"
      },
      {
        "duration": 12,
        "start_time": "2024-08-19T18:49:33.278Z"
      },
      {
        "duration": 16,
        "start_time": "2024-08-19T18:49:33.292Z"
      },
      {
        "duration": 28,
        "start_time": "2024-08-19T18:49:33.309Z"
      },
      {
        "duration": 25,
        "start_time": "2024-08-19T18:49:33.339Z"
      },
      {
        "duration": 5,
        "start_time": "2024-08-19T18:49:33.365Z"
      },
      {
        "duration": 173,
        "start_time": "2024-08-19T18:49:33.371Z"
      },
      {
        "duration": 40,
        "start_time": "2024-08-19T18:49:33.545Z"
      },
      {
        "duration": 32,
        "start_time": "2024-08-19T18:49:33.586Z"
      },
      {
        "duration": 7,
        "start_time": "2024-08-19T18:49:33.619Z"
      },
      {
        "duration": 24,
        "start_time": "2024-08-19T18:49:33.630Z"
      },
      {
        "duration": 22,
        "start_time": "2024-08-19T18:49:33.656Z"
      },
      {
        "duration": 20,
        "start_time": "2024-08-19T18:49:33.680Z"
      },
      {
        "duration": 156,
        "start_time": "2024-08-19T18:49:33.701Z"
      },
      {
        "duration": 6,
        "start_time": "2024-08-19T18:49:33.858Z"
      },
      {
        "duration": 31,
        "start_time": "2024-08-19T18:49:33.865Z"
      },
      {
        "duration": 26,
        "start_time": "2024-08-19T18:49:33.897Z"
      },
      {
        "duration": 405,
        "start_time": "2024-08-19T18:49:33.925Z"
      },
      {
        "duration": 5,
        "start_time": "2024-08-19T18:49:34.332Z"
      },
      {
        "duration": 28,
        "start_time": "2024-08-19T18:49:34.339Z"
      },
      {
        "duration": 12,
        "start_time": "2024-08-19T18:49:34.369Z"
      },
      {
        "duration": 73,
        "start_time": "2024-08-19T18:49:34.383Z"
      },
      {
        "duration": 0,
        "start_time": "2024-08-19T18:49:34.458Z"
      },
      {
        "duration": 0,
        "start_time": "2024-08-19T18:49:34.460Z"
      },
      {
        "duration": 0,
        "start_time": "2024-08-19T18:49:34.461Z"
      },
      {
        "duration": 0,
        "start_time": "2024-08-19T18:49:34.463Z"
      },
      {
        "duration": 0,
        "start_time": "2024-08-19T18:49:34.464Z"
      },
      {
        "duration": 0,
        "start_time": "2024-08-19T18:49:34.465Z"
      },
      {
        "duration": 9,
        "start_time": "2024-08-19T18:50:24.744Z"
      },
      {
        "duration": 806,
        "start_time": "2024-08-19T18:50:35.034Z"
      },
      {
        "duration": 15,
        "start_time": "2024-08-19T18:50:35.842Z"
      },
      {
        "duration": 52,
        "start_time": "2024-08-19T18:50:35.859Z"
      },
      {
        "duration": 18,
        "start_time": "2024-08-19T18:50:35.913Z"
      },
      {
        "duration": 72,
        "start_time": "2024-08-19T18:50:35.933Z"
      },
      {
        "duration": 13,
        "start_time": "2024-08-19T18:50:36.007Z"
      },
      {
        "duration": 82,
        "start_time": "2024-08-19T18:50:36.022Z"
      },
      {
        "duration": 19,
        "start_time": "2024-08-19T18:50:36.106Z"
      },
      {
        "duration": 17,
        "start_time": "2024-08-19T18:50:36.126Z"
      },
      {
        "duration": 82,
        "start_time": "2024-08-19T18:50:36.144Z"
      },
      {
        "duration": 16,
        "start_time": "2024-08-19T18:50:36.228Z"
      },
      {
        "duration": 61,
        "start_time": "2024-08-19T18:50:36.245Z"
      },
      {
        "duration": 35,
        "start_time": "2024-08-19T18:50:36.307Z"
      },
      {
        "duration": 62,
        "start_time": "2024-08-19T18:50:36.345Z"
      },
      {
        "duration": 104,
        "start_time": "2024-08-19T18:50:36.408Z"
      },
      {
        "duration": 16,
        "start_time": "2024-08-19T18:50:36.514Z"
      },
      {
        "duration": 8,
        "start_time": "2024-08-19T18:50:36.532Z"
      },
      {
        "duration": 5,
        "start_time": "2024-08-19T18:50:36.541Z"
      },
      {
        "duration": 61,
        "start_time": "2024-08-19T18:50:36.547Z"
      },
      {
        "duration": 7,
        "start_time": "2024-08-19T18:50:36.610Z"
      },
      {
        "duration": 35,
        "start_time": "2024-08-19T18:50:36.618Z"
      },
      {
        "duration": 46,
        "start_time": "2024-08-19T18:50:36.654Z"
      },
      {
        "duration": 15,
        "start_time": "2024-08-19T18:50:36.702Z"
      },
      {
        "duration": 32,
        "start_time": "2024-08-19T18:50:36.718Z"
      },
      {
        "duration": 50,
        "start_time": "2024-08-19T18:50:36.751Z"
      },
      {
        "duration": 37,
        "start_time": "2024-08-19T18:50:36.803Z"
      },
      {
        "duration": 5,
        "start_time": "2024-08-19T18:50:36.841Z"
      },
      {
        "duration": 14,
        "start_time": "2024-08-19T18:50:36.896Z"
      },
      {
        "duration": 14,
        "start_time": "2024-08-19T18:50:36.911Z"
      },
      {
        "duration": 12,
        "start_time": "2024-08-19T18:50:36.926Z"
      },
      {
        "duration": 76,
        "start_time": "2024-08-19T18:50:36.939Z"
      },
      {
        "duration": 17,
        "start_time": "2024-08-19T18:50:37.017Z"
      },
      {
        "duration": 6,
        "start_time": "2024-08-19T18:50:37.035Z"
      },
      {
        "duration": 7,
        "start_time": "2024-08-19T18:50:37.095Z"
      },
      {
        "duration": 25,
        "start_time": "2024-08-19T18:50:37.103Z"
      },
      {
        "duration": 72,
        "start_time": "2024-08-19T18:50:37.130Z"
      },
      {
        "duration": 5,
        "start_time": "2024-08-19T18:50:37.203Z"
      },
      {
        "duration": 20,
        "start_time": "2024-08-19T18:50:37.209Z"
      },
      {
        "duration": 24,
        "start_time": "2024-08-19T18:50:37.231Z"
      },
      {
        "duration": 63,
        "start_time": "2024-08-19T18:50:37.256Z"
      },
      {
        "duration": 6,
        "start_time": "2024-08-19T18:50:37.323Z"
      },
      {
        "duration": 21,
        "start_time": "2024-08-19T18:50:37.331Z"
      },
      {
        "duration": 21,
        "start_time": "2024-08-19T18:50:37.353Z"
      },
      {
        "duration": 56,
        "start_time": "2024-08-19T18:50:37.375Z"
      },
      {
        "duration": 191,
        "start_time": "2024-08-19T18:50:37.432Z"
      },
      {
        "duration": 6,
        "start_time": "2024-08-19T18:50:37.625Z"
      },
      {
        "duration": 19,
        "start_time": "2024-08-19T18:50:37.632Z"
      },
      {
        "duration": 47,
        "start_time": "2024-08-19T18:50:37.653Z"
      },
      {
        "duration": 418,
        "start_time": "2024-08-19T18:50:37.702Z"
      },
      {
        "duration": 4,
        "start_time": "2024-08-19T18:50:38.122Z"
      },
      {
        "duration": 4,
        "start_time": "2024-08-19T18:50:38.128Z"
      },
      {
        "duration": 9,
        "start_time": "2024-08-19T18:50:38.134Z"
      },
      {
        "duration": 131,
        "start_time": "2024-08-19T18:50:38.144Z"
      },
      {
        "duration": 0,
        "start_time": "2024-08-19T18:50:38.276Z"
      },
      {
        "duration": 0,
        "start_time": "2024-08-19T18:50:38.277Z"
      },
      {
        "duration": 0,
        "start_time": "2024-08-19T18:50:38.278Z"
      },
      {
        "duration": 0,
        "start_time": "2024-08-19T18:50:38.280Z"
      },
      {
        "duration": 0,
        "start_time": "2024-08-19T18:50:38.281Z"
      },
      {
        "duration": 0,
        "start_time": "2024-08-19T18:50:38.282Z"
      },
      {
        "duration": 5,
        "start_time": "2024-08-19T19:28:15.807Z"
      },
      {
        "duration": 857,
        "start_time": "2024-08-19T19:28:30.676Z"
      },
      {
        "duration": 15,
        "start_time": "2024-08-19T19:28:31.535Z"
      },
      {
        "duration": 52,
        "start_time": "2024-08-19T19:28:31.552Z"
      },
      {
        "duration": 42,
        "start_time": "2024-08-19T19:28:31.605Z"
      },
      {
        "duration": 161,
        "start_time": "2024-08-19T19:28:31.649Z"
      },
      {
        "duration": 16,
        "start_time": "2024-08-19T19:28:31.812Z"
      },
      {
        "duration": 43,
        "start_time": "2024-08-19T19:28:31.829Z"
      },
      {
        "duration": 43,
        "start_time": "2024-08-19T19:28:31.873Z"
      },
      {
        "duration": 29,
        "start_time": "2024-08-19T19:28:31.918Z"
      },
      {
        "duration": 40,
        "start_time": "2024-08-19T19:28:31.948Z"
      },
      {
        "duration": 33,
        "start_time": "2024-08-19T19:28:31.990Z"
      },
      {
        "duration": 30,
        "start_time": "2024-08-19T19:28:32.024Z"
      },
      {
        "duration": 36,
        "start_time": "2024-08-19T19:28:32.056Z"
      },
      {
        "duration": 80,
        "start_time": "2024-08-19T19:28:32.095Z"
      },
      {
        "duration": 66,
        "start_time": "2024-08-19T19:28:32.177Z"
      },
      {
        "duration": 28,
        "start_time": "2024-08-19T19:28:32.244Z"
      },
      {
        "duration": 42,
        "start_time": "2024-08-19T19:28:32.274Z"
      },
      {
        "duration": 74,
        "start_time": "2024-08-19T19:28:32.317Z"
      },
      {
        "duration": 38,
        "start_time": "2024-08-19T19:28:32.393Z"
      },
      {
        "duration": 7,
        "start_time": "2024-08-19T19:28:32.432Z"
      },
      {
        "duration": 64,
        "start_time": "2024-08-19T19:28:32.440Z"
      },
      {
        "duration": 5,
        "start_time": "2024-08-19T19:28:32.505Z"
      },
      {
        "duration": 25,
        "start_time": "2024-08-19T19:28:32.511Z"
      },
      {
        "duration": 26,
        "start_time": "2024-08-19T19:28:32.537Z"
      },
      {
        "duration": 70,
        "start_time": "2024-08-19T19:28:32.565Z"
      },
      {
        "duration": 30,
        "start_time": "2024-08-19T19:28:32.637Z"
      },
      {
        "duration": 188,
        "start_time": "2024-08-19T19:28:32.669Z"
      },
      {
        "duration": 57,
        "start_time": "2024-08-19T19:28:32.859Z"
      },
      {
        "duration": 13,
        "start_time": "2024-08-19T19:28:32.917Z"
      },
      {
        "duration": 89,
        "start_time": "2024-08-19T19:28:32.931Z"
      },
      {
        "duration": 17,
        "start_time": "2024-08-19T19:28:33.021Z"
      },
      {
        "duration": 7,
        "start_time": "2024-08-19T19:28:33.039Z"
      },
      {
        "duration": 38,
        "start_time": "2024-08-19T19:28:33.048Z"
      },
      {
        "duration": 31,
        "start_time": "2024-08-19T19:28:33.088Z"
      },
      {
        "duration": 26,
        "start_time": "2024-08-19T19:28:33.121Z"
      },
      {
        "duration": 5,
        "start_time": "2024-08-19T19:28:33.148Z"
      },
      {
        "duration": 60,
        "start_time": "2024-08-19T19:28:33.154Z"
      },
      {
        "duration": 36,
        "start_time": "2024-08-19T19:28:33.216Z"
      },
      {
        "duration": 33,
        "start_time": "2024-08-19T19:28:33.253Z"
      },
      {
        "duration": 43,
        "start_time": "2024-08-19T19:28:33.287Z"
      },
      {
        "duration": 7,
        "start_time": "2024-08-19T19:28:33.334Z"
      },
      {
        "duration": 46,
        "start_time": "2024-08-19T19:28:33.342Z"
      },
      {
        "duration": 21,
        "start_time": "2024-08-19T19:28:33.389Z"
      },
      {
        "duration": 46,
        "start_time": "2024-08-19T19:28:33.411Z"
      },
      {
        "duration": 172,
        "start_time": "2024-08-19T19:28:33.459Z"
      },
      {
        "duration": 6,
        "start_time": "2024-08-19T19:28:33.632Z"
      },
      {
        "duration": 117,
        "start_time": "2024-08-19T19:28:33.639Z"
      },
      {
        "duration": 29,
        "start_time": "2024-08-19T19:28:33.757Z"
      },
      {
        "duration": 386,
        "start_time": "2024-08-19T19:28:33.787Z"
      },
      {
        "duration": 5,
        "start_time": "2024-08-19T19:28:34.175Z"
      },
      {
        "duration": 66,
        "start_time": "2024-08-19T19:28:34.181Z"
      },
      {
        "duration": 16,
        "start_time": "2024-08-19T19:28:34.248Z"
      },
      {
        "duration": 96,
        "start_time": "2024-08-19T19:28:34.266Z"
      },
      {
        "duration": 0,
        "start_time": "2024-08-19T19:28:34.364Z"
      },
      {
        "duration": 0,
        "start_time": "2024-08-19T19:28:34.365Z"
      },
      {
        "duration": 0,
        "start_time": "2024-08-19T19:28:34.366Z"
      },
      {
        "duration": 0,
        "start_time": "2024-08-19T19:28:34.367Z"
      },
      {
        "duration": 0,
        "start_time": "2024-08-19T19:28:34.368Z"
      },
      {
        "duration": 0,
        "start_time": "2024-08-19T19:28:34.369Z"
      },
      {
        "duration": 808,
        "start_time": "2024-08-19T19:29:26.271Z"
      },
      {
        "duration": 13,
        "start_time": "2024-08-19T19:29:27.081Z"
      },
      {
        "duration": 9,
        "start_time": "2024-08-19T19:29:27.096Z"
      },
      {
        "duration": 13,
        "start_time": "2024-08-19T19:29:27.107Z"
      },
      {
        "duration": 45,
        "start_time": "2024-08-19T19:29:27.122Z"
      },
      {
        "duration": 42,
        "start_time": "2024-08-19T19:29:27.168Z"
      },
      {
        "duration": 13,
        "start_time": "2024-08-19T19:29:27.212Z"
      },
      {
        "duration": 18,
        "start_time": "2024-08-19T19:29:27.227Z"
      },
      {
        "duration": 5,
        "start_time": "2024-08-19T19:29:27.247Z"
      },
      {
        "duration": 14,
        "start_time": "2024-08-19T19:29:27.253Z"
      },
      {
        "duration": 39,
        "start_time": "2024-08-19T19:29:27.269Z"
      },
      {
        "duration": 12,
        "start_time": "2024-08-19T19:29:27.310Z"
      },
      {
        "duration": 23,
        "start_time": "2024-08-19T19:29:27.323Z"
      },
      {
        "duration": 22,
        "start_time": "2024-08-19T19:29:27.348Z"
      },
      {
        "duration": 8,
        "start_time": "2024-08-19T19:29:27.372Z"
      },
      {
        "duration": 23,
        "start_time": "2024-08-19T19:29:27.381Z"
      },
      {
        "duration": 27,
        "start_time": "2024-08-19T19:29:27.405Z"
      },
      {
        "duration": 6,
        "start_time": "2024-08-19T19:29:27.433Z"
      },
      {
        "duration": 23,
        "start_time": "2024-08-19T19:29:27.441Z"
      },
      {
        "duration": 7,
        "start_time": "2024-08-19T19:29:27.466Z"
      },
      {
        "duration": 10,
        "start_time": "2024-08-19T19:29:27.475Z"
      },
      {
        "duration": 10,
        "start_time": "2024-08-19T19:29:27.487Z"
      },
      {
        "duration": 10,
        "start_time": "2024-08-19T19:29:27.498Z"
      },
      {
        "duration": 8,
        "start_time": "2024-08-19T19:29:27.510Z"
      },
      {
        "duration": 26,
        "start_time": "2024-08-19T19:29:27.519Z"
      },
      {
        "duration": 5,
        "start_time": "2024-08-19T19:29:27.546Z"
      },
      {
        "duration": 15,
        "start_time": "2024-08-19T19:29:27.553Z"
      },
      {
        "duration": 6,
        "start_time": "2024-08-19T19:29:27.597Z"
      },
      {
        "duration": 17,
        "start_time": "2024-08-19T19:29:27.605Z"
      },
      {
        "duration": 27,
        "start_time": "2024-08-19T19:29:27.623Z"
      },
      {
        "duration": 29,
        "start_time": "2024-08-19T19:29:27.652Z"
      },
      {
        "duration": 64,
        "start_time": "2024-08-19T19:29:27.683Z"
      },
      {
        "duration": 7,
        "start_time": "2024-08-19T19:29:27.749Z"
      },
      {
        "duration": 24,
        "start_time": "2024-08-19T19:29:27.758Z"
      },
      {
        "duration": 25,
        "start_time": "2024-08-19T19:29:27.783Z"
      },
      {
        "duration": 18,
        "start_time": "2024-08-19T19:29:27.809Z"
      },
      {
        "duration": 6,
        "start_time": "2024-08-19T19:29:27.829Z"
      },
      {
        "duration": 20,
        "start_time": "2024-08-19T19:29:27.836Z"
      },
      {
        "duration": 18,
        "start_time": "2024-08-19T19:29:27.858Z"
      },
      {
        "duration": 23,
        "start_time": "2024-08-19T19:29:27.877Z"
      },
      {
        "duration": 32,
        "start_time": "2024-08-19T19:29:27.904Z"
      },
      {
        "duration": 7,
        "start_time": "2024-08-19T19:29:27.937Z"
      },
      {
        "duration": 23,
        "start_time": "2024-08-19T19:29:27.945Z"
      },
      {
        "duration": 29,
        "start_time": "2024-08-19T19:29:27.969Z"
      },
      {
        "duration": 14,
        "start_time": "2024-08-19T19:29:28.000Z"
      },
      {
        "duration": 150,
        "start_time": "2024-08-19T19:29:28.016Z"
      },
      {
        "duration": 6,
        "start_time": "2024-08-19T19:29:28.168Z"
      },
      {
        "duration": 89,
        "start_time": "2024-08-19T19:29:28.175Z"
      },
      {
        "duration": 28,
        "start_time": "2024-08-19T19:29:28.265Z"
      },
      {
        "duration": 432,
        "start_time": "2024-08-19T19:29:28.294Z"
      },
      {
        "duration": 4,
        "start_time": "2024-08-19T19:29:28.727Z"
      },
      {
        "duration": 39,
        "start_time": "2024-08-19T19:29:28.732Z"
      },
      {
        "duration": 19,
        "start_time": "2024-08-19T19:29:28.773Z"
      },
      {
        "duration": 75,
        "start_time": "2024-08-19T19:29:28.793Z"
      },
      {
        "duration": 1,
        "start_time": "2024-08-19T19:29:28.869Z"
      },
      {
        "duration": 0,
        "start_time": "2024-08-19T19:29:28.870Z"
      },
      {
        "duration": 0,
        "start_time": "2024-08-19T19:29:28.872Z"
      },
      {
        "duration": 0,
        "start_time": "2024-08-19T19:29:28.872Z"
      },
      {
        "duration": 0,
        "start_time": "2024-08-19T19:29:28.873Z"
      },
      {
        "duration": 0,
        "start_time": "2024-08-19T19:29:28.874Z"
      },
      {
        "duration": 66,
        "start_time": "2024-08-19T19:50:39.975Z"
      },
      {
        "duration": 41,
        "start_time": "2024-08-19T19:52:24.736Z"
      },
      {
        "duration": 1361,
        "start_time": "2024-08-19T19:52:28.680Z"
      },
      {
        "duration": 13,
        "start_time": "2024-08-19T19:52:30.043Z"
      },
      {
        "duration": 43,
        "start_time": "2024-08-19T19:52:30.057Z"
      },
      {
        "duration": 37,
        "start_time": "2024-08-19T19:52:30.102Z"
      },
      {
        "duration": 55,
        "start_time": "2024-08-19T19:52:30.141Z"
      },
      {
        "duration": 18,
        "start_time": "2024-08-19T19:52:30.198Z"
      },
      {
        "duration": 55,
        "start_time": "2024-08-19T19:52:30.217Z"
      },
      {
        "duration": 0,
        "start_time": "2024-08-19T19:52:30.274Z"
      },
      {
        "duration": 0,
        "start_time": "2024-08-19T19:52:30.276Z"
      },
      {
        "duration": 0,
        "start_time": "2024-08-19T19:52:30.277Z"
      },
      {
        "duration": 0,
        "start_time": "2024-08-19T19:52:30.278Z"
      },
      {
        "duration": 0,
        "start_time": "2024-08-19T19:52:30.279Z"
      },
      {
        "duration": 0,
        "start_time": "2024-08-19T19:52:30.280Z"
      },
      {
        "duration": 0,
        "start_time": "2024-08-19T19:52:30.281Z"
      },
      {
        "duration": 0,
        "start_time": "2024-08-19T19:52:30.282Z"
      },
      {
        "duration": 0,
        "start_time": "2024-08-19T19:52:30.283Z"
      },
      {
        "duration": 0,
        "start_time": "2024-08-19T19:52:30.284Z"
      },
      {
        "duration": 0,
        "start_time": "2024-08-19T19:52:30.285Z"
      },
      {
        "duration": 0,
        "start_time": "2024-08-19T19:52:30.287Z"
      },
      {
        "duration": 0,
        "start_time": "2024-08-19T19:52:30.288Z"
      },
      {
        "duration": 0,
        "start_time": "2024-08-19T19:52:30.289Z"
      },
      {
        "duration": 0,
        "start_time": "2024-08-19T19:52:30.295Z"
      },
      {
        "duration": 0,
        "start_time": "2024-08-19T19:52:30.296Z"
      },
      {
        "duration": 0,
        "start_time": "2024-08-19T19:52:30.297Z"
      },
      {
        "duration": 0,
        "start_time": "2024-08-19T19:52:30.298Z"
      },
      {
        "duration": 0,
        "start_time": "2024-08-19T19:52:30.299Z"
      },
      {
        "duration": 0,
        "start_time": "2024-08-19T19:52:30.300Z"
      },
      {
        "duration": 0,
        "start_time": "2024-08-19T19:52:30.301Z"
      },
      {
        "duration": 0,
        "start_time": "2024-08-19T19:52:30.302Z"
      },
      {
        "duration": 0,
        "start_time": "2024-08-19T19:52:30.304Z"
      },
      {
        "duration": 0,
        "start_time": "2024-08-19T19:52:30.305Z"
      },
      {
        "duration": 0,
        "start_time": "2024-08-19T19:52:30.305Z"
      },
      {
        "duration": 0,
        "start_time": "2024-08-19T19:52:30.306Z"
      },
      {
        "duration": 0,
        "start_time": "2024-08-19T19:52:30.308Z"
      },
      {
        "duration": 0,
        "start_time": "2024-08-19T19:52:30.309Z"
      },
      {
        "duration": 0,
        "start_time": "2024-08-19T19:52:30.310Z"
      },
      {
        "duration": 0,
        "start_time": "2024-08-19T19:52:30.311Z"
      },
      {
        "duration": 0,
        "start_time": "2024-08-19T19:52:30.312Z"
      },
      {
        "duration": 0,
        "start_time": "2024-08-19T19:52:30.313Z"
      },
      {
        "duration": 0,
        "start_time": "2024-08-19T19:52:30.314Z"
      },
      {
        "duration": 0,
        "start_time": "2024-08-19T19:52:30.315Z"
      },
      {
        "duration": 0,
        "start_time": "2024-08-19T19:52:30.316Z"
      },
      {
        "duration": 0,
        "start_time": "2024-08-19T19:52:30.317Z"
      },
      {
        "duration": 0,
        "start_time": "2024-08-19T19:52:30.318Z"
      },
      {
        "duration": 1,
        "start_time": "2024-08-19T19:52:30.319Z"
      },
      {
        "duration": 0,
        "start_time": "2024-08-19T19:52:30.321Z"
      },
      {
        "duration": 0,
        "start_time": "2024-08-19T19:52:30.322Z"
      },
      {
        "duration": 0,
        "start_time": "2024-08-19T19:52:30.323Z"
      },
      {
        "duration": 0,
        "start_time": "2024-08-19T19:52:30.324Z"
      },
      {
        "duration": 0,
        "start_time": "2024-08-19T19:52:30.328Z"
      },
      {
        "duration": 0,
        "start_time": "2024-08-19T19:52:30.329Z"
      },
      {
        "duration": 0,
        "start_time": "2024-08-19T19:52:30.330Z"
      },
      {
        "duration": 0,
        "start_time": "2024-08-19T19:52:30.332Z"
      },
      {
        "duration": 0,
        "start_time": "2024-08-19T19:52:30.333Z"
      },
      {
        "duration": 0,
        "start_time": "2024-08-19T19:52:30.334Z"
      },
      {
        "duration": 0,
        "start_time": "2024-08-19T19:52:30.396Z"
      },
      {
        "duration": 0,
        "start_time": "2024-08-19T19:52:30.398Z"
      },
      {
        "duration": 0,
        "start_time": "2024-08-19T19:52:30.399Z"
      },
      {
        "duration": 0,
        "start_time": "2024-08-19T19:52:30.401Z"
      },
      {
        "duration": 0,
        "start_time": "2024-08-19T19:52:30.402Z"
      },
      {
        "duration": 1,
        "start_time": "2024-08-19T19:52:30.403Z"
      },
      {
        "duration": 7,
        "start_time": "2024-08-19T19:52:54.727Z"
      },
      {
        "duration": 4,
        "start_time": "2024-08-19T19:53:07.011Z"
      },
      {
        "duration": 3,
        "start_time": "2024-08-19T19:53:18.362Z"
      },
      {
        "duration": 4,
        "start_time": "2024-08-19T19:53:50.129Z"
      },
      {
        "duration": 3,
        "start_time": "2024-08-19T19:58:01.010Z"
      },
      {
        "duration": 6,
        "start_time": "2024-08-19T20:03:25.965Z"
      },
      {
        "duration": 5,
        "start_time": "2024-08-19T20:04:16.393Z"
      },
      {
        "duration": 17,
        "start_time": "2024-08-19T20:04:18.125Z"
      },
      {
        "duration": 15,
        "start_time": "2024-08-19T20:04:20.077Z"
      },
      {
        "duration": 12,
        "start_time": "2024-08-19T20:04:22.692Z"
      },
      {
        "duration": 13,
        "start_time": "2024-08-19T20:04:26.606Z"
      },
      {
        "duration": 14,
        "start_time": "2024-08-19T20:04:28.200Z"
      },
      {
        "duration": 9,
        "start_time": "2024-08-19T20:04:30.804Z"
      },
      {
        "duration": 4,
        "start_time": "2024-08-19T20:04:31.621Z"
      },
      {
        "duration": 5,
        "start_time": "2024-08-19T20:05:52.573Z"
      },
      {
        "duration": 17,
        "start_time": "2024-08-19T20:05:53.462Z"
      },
      {
        "duration": 7,
        "start_time": "2024-08-19T20:06:52.397Z"
      },
      {
        "duration": 11,
        "start_time": "2024-08-19T20:06:52.805Z"
      },
      {
        "duration": 6,
        "start_time": "2024-08-19T20:06:53.629Z"
      },
      {
        "duration": 11,
        "start_time": "2024-08-19T20:07:00.496Z"
      },
      {
        "duration": 10,
        "start_time": "2024-08-19T20:08:15.808Z"
      },
      {
        "duration": 25,
        "start_time": "2024-08-19T20:08:22.037Z"
      },
      {
        "duration": 5,
        "start_time": "2024-08-19T20:08:27.494Z"
      },
      {
        "duration": 15,
        "start_time": "2024-08-19T20:08:28.981Z"
      },
      {
        "duration": 171,
        "start_time": "2024-08-19T20:09:10.723Z"
      },
      {
        "duration": 15,
        "start_time": "2024-08-19T20:09:10.896Z"
      },
      {
        "duration": 15,
        "start_time": "2024-08-19T20:09:10.912Z"
      },
      {
        "duration": 13,
        "start_time": "2024-08-19T20:09:10.929Z"
      },
      {
        "duration": 27,
        "start_time": "2024-08-19T20:09:10.944Z"
      },
      {
        "duration": 26,
        "start_time": "2024-08-19T20:09:10.973Z"
      },
      {
        "duration": 3,
        "start_time": "2024-08-19T20:09:11.001Z"
      },
      {
        "duration": 4,
        "start_time": "2024-08-19T20:09:11.006Z"
      },
      {
        "duration": 4,
        "start_time": "2024-08-19T20:09:11.011Z"
      },
      {
        "duration": 6,
        "start_time": "2024-08-19T20:09:11.018Z"
      },
      {
        "duration": 14,
        "start_time": "2024-08-19T20:09:11.025Z"
      },
      {
        "duration": 59,
        "start_time": "2024-08-19T20:09:11.040Z"
      },
      {
        "duration": 7,
        "start_time": "2024-08-19T20:09:11.101Z"
      },
      {
        "duration": 15,
        "start_time": "2024-08-19T20:09:11.110Z"
      },
      {
        "duration": 17,
        "start_time": "2024-08-19T20:09:11.127Z"
      },
      {
        "duration": 11,
        "start_time": "2024-08-19T20:09:11.146Z"
      },
      {
        "duration": 38,
        "start_time": "2024-08-19T20:09:11.158Z"
      },
      {
        "duration": 13,
        "start_time": "2024-08-19T20:09:11.198Z"
      },
      {
        "duration": 10,
        "start_time": "2024-08-19T20:09:11.213Z"
      },
      {
        "duration": 5,
        "start_time": "2024-08-19T20:09:11.224Z"
      },
      {
        "duration": 9,
        "start_time": "2024-08-19T20:09:11.230Z"
      },
      {
        "duration": 4,
        "start_time": "2024-08-19T20:09:11.240Z"
      },
      {
        "duration": 51,
        "start_time": "2024-08-19T20:09:11.246Z"
      },
      {
        "duration": 6,
        "start_time": "2024-08-19T20:09:11.299Z"
      },
      {
        "duration": 10,
        "start_time": "2024-08-19T20:09:11.307Z"
      },
      {
        "duration": 2,
        "start_time": "2024-08-19T20:09:11.318Z"
      },
      {
        "duration": 3,
        "start_time": "2024-08-19T20:09:11.322Z"
      },
      {
        "duration": 11,
        "start_time": "2024-08-19T20:09:11.329Z"
      },
      {
        "duration": 58,
        "start_time": "2024-08-19T20:09:11.341Z"
      },
      {
        "duration": 6,
        "start_time": "2024-08-19T20:09:11.400Z"
      },
      {
        "duration": 12,
        "start_time": "2024-08-19T20:09:11.407Z"
      },
      {
        "duration": 5,
        "start_time": "2024-08-19T20:09:11.421Z"
      },
      {
        "duration": 11,
        "start_time": "2024-08-19T20:09:11.427Z"
      },
      {
        "duration": 31,
        "start_time": "2024-08-19T20:09:11.439Z"
      },
      {
        "duration": 38,
        "start_time": "2024-08-19T20:09:11.472Z"
      },
      {
        "duration": 6,
        "start_time": "2024-08-19T20:09:11.511Z"
      },
      {
        "duration": 8,
        "start_time": "2024-08-19T20:09:11.518Z"
      },
      {
        "duration": 27,
        "start_time": "2024-08-19T20:09:11.528Z"
      },
      {
        "duration": 55,
        "start_time": "2024-08-19T20:09:11.556Z"
      },
      {
        "duration": 4,
        "start_time": "2024-08-19T20:09:11.612Z"
      },
      {
        "duration": 7,
        "start_time": "2024-08-19T20:09:11.618Z"
      },
      {
        "duration": 3,
        "start_time": "2024-08-19T20:09:11.626Z"
      },
      {
        "duration": 18,
        "start_time": "2024-08-19T20:09:11.630Z"
      },
      {
        "duration": 22,
        "start_time": "2024-08-19T20:09:11.649Z"
      },
      {
        "duration": 27,
        "start_time": "2024-08-19T20:09:11.696Z"
      },
      {
        "duration": 7,
        "start_time": "2024-08-19T20:09:11.725Z"
      },
      {
        "duration": 20,
        "start_time": "2024-08-19T20:09:11.733Z"
      },
      {
        "duration": 8,
        "start_time": "2024-08-19T20:09:11.755Z"
      },
      {
        "duration": 37,
        "start_time": "2024-08-19T20:09:11.764Z"
      },
      {
        "duration": 161,
        "start_time": "2024-08-19T20:09:11.802Z"
      },
      {
        "duration": 5,
        "start_time": "2024-08-19T20:09:11.964Z"
      },
      {
        "duration": 33,
        "start_time": "2024-08-19T20:09:11.971Z"
      },
      {
        "duration": 23,
        "start_time": "2024-08-19T20:09:12.005Z"
      },
      {
        "duration": 456,
        "start_time": "2024-08-19T20:09:12.029Z"
      },
      {
        "duration": 9,
        "start_time": "2024-08-19T20:09:12.487Z"
      },
      {
        "duration": 4,
        "start_time": "2024-08-19T20:09:12.498Z"
      },
      {
        "duration": 9,
        "start_time": "2024-08-19T20:09:12.504Z"
      },
      {
        "duration": 19,
        "start_time": "2024-08-19T20:09:12.515Z"
      },
      {
        "duration": 0,
        "start_time": "2024-08-19T20:09:12.536Z"
      },
      {
        "duration": 0,
        "start_time": "2024-08-19T20:09:12.537Z"
      },
      {
        "duration": 0,
        "start_time": "2024-08-19T20:09:12.538Z"
      },
      {
        "duration": 0,
        "start_time": "2024-08-19T20:09:12.539Z"
      },
      {
        "duration": 0,
        "start_time": "2024-08-19T20:09:12.540Z"
      },
      {
        "duration": 0,
        "start_time": "2024-08-19T20:09:12.540Z"
      },
      {
        "duration": 48,
        "start_time": "2024-08-19T20:10:24.582Z"
      },
      {
        "duration": 45,
        "start_time": "2024-08-19T20:10:26.647Z"
      },
      {
        "duration": 43,
        "start_time": "2024-08-19T20:10:29.284Z"
      },
      {
        "duration": 47,
        "start_time": "2024-08-19T20:11:44.560Z"
      },
      {
        "duration": 2,
        "start_time": "2024-08-19T20:11:52.841Z"
      },
      {
        "duration": 4,
        "start_time": "2024-08-19T20:11:56.024Z"
      },
      {
        "duration": 177,
        "start_time": "2024-08-19T20:12:00.011Z"
      },
      {
        "duration": 13,
        "start_time": "2024-08-19T20:12:00.190Z"
      },
      {
        "duration": 39,
        "start_time": "2024-08-19T20:12:00.205Z"
      },
      {
        "duration": 95,
        "start_time": "2024-08-19T20:12:00.246Z"
      },
      {
        "duration": 107,
        "start_time": "2024-08-19T20:12:00.342Z"
      },
      {
        "duration": 24,
        "start_time": "2024-08-19T20:12:00.450Z"
      },
      {
        "duration": 86,
        "start_time": "2024-08-19T20:12:00.476Z"
      },
      {
        "duration": 109,
        "start_time": "2024-08-19T20:12:00.564Z"
      },
      {
        "duration": 42,
        "start_time": "2024-08-19T20:12:00.675Z"
      },
      {
        "duration": 41,
        "start_time": "2024-08-19T20:12:00.719Z"
      },
      {
        "duration": 62,
        "start_time": "2024-08-19T20:12:00.761Z"
      },
      {
        "duration": 123,
        "start_time": "2024-08-19T20:12:00.825Z"
      },
      {
        "duration": 45,
        "start_time": "2024-08-19T20:12:00.949Z"
      },
      {
        "duration": 47,
        "start_time": "2024-08-19T20:12:00.995Z"
      },
      {
        "duration": 56,
        "start_time": "2024-08-19T20:12:01.044Z"
      },
      {
        "duration": 39,
        "start_time": "2024-08-19T20:12:01.102Z"
      },
      {
        "duration": 27,
        "start_time": "2024-08-19T20:12:01.142Z"
      },
      {
        "duration": 43,
        "start_time": "2024-08-19T20:12:01.172Z"
      },
      {
        "duration": 29,
        "start_time": "2024-08-19T20:12:01.216Z"
      },
      {
        "duration": 23,
        "start_time": "2024-08-19T20:12:01.247Z"
      },
      {
        "duration": 36,
        "start_time": "2024-08-19T20:12:01.272Z"
      },
      {
        "duration": 34,
        "start_time": "2024-08-19T20:12:01.310Z"
      },
      {
        "duration": 44,
        "start_time": "2024-08-19T20:12:01.346Z"
      },
      {
        "duration": 17,
        "start_time": "2024-08-19T20:12:01.391Z"
      },
      {
        "duration": 29,
        "start_time": "2024-08-19T20:12:01.409Z"
      },
      {
        "duration": 26,
        "start_time": "2024-08-19T20:12:01.440Z"
      },
      {
        "duration": 27,
        "start_time": "2024-08-19T20:12:01.467Z"
      },
      {
        "duration": 26,
        "start_time": "2024-08-19T20:12:01.497Z"
      },
      {
        "duration": 114,
        "start_time": "2024-08-19T20:12:01.525Z"
      },
      {
        "duration": 80,
        "start_time": "2024-08-19T20:12:01.640Z"
      },
      {
        "duration": 64,
        "start_time": "2024-08-19T20:12:01.721Z"
      },
      {
        "duration": 163,
        "start_time": "2024-08-19T20:12:01.787Z"
      },
      {
        "duration": 150,
        "start_time": "2024-08-19T20:12:01.952Z"
      },
      {
        "duration": 54,
        "start_time": "2024-08-19T20:12:02.103Z"
      },
      {
        "duration": 32,
        "start_time": "2024-08-19T20:12:02.158Z"
      },
      {
        "duration": 47,
        "start_time": "2024-08-19T20:12:02.191Z"
      },
      {
        "duration": 16,
        "start_time": "2024-08-19T20:12:02.240Z"
      },
      {
        "duration": 54,
        "start_time": "2024-08-19T20:12:02.258Z"
      },
      {
        "duration": 23,
        "start_time": "2024-08-19T20:12:02.314Z"
      },
      {
        "duration": 12,
        "start_time": "2024-08-19T20:12:02.339Z"
      },
      {
        "duration": 76,
        "start_time": "2024-08-19T20:12:02.352Z"
      },
      {
        "duration": 10,
        "start_time": "2024-08-19T20:12:02.430Z"
      },
      {
        "duration": 23,
        "start_time": "2024-08-19T20:12:02.442Z"
      },
      {
        "duration": 29,
        "start_time": "2024-08-19T20:12:02.466Z"
      },
      {
        "duration": 30,
        "start_time": "2024-08-19T20:12:02.496Z"
      },
      {
        "duration": 12,
        "start_time": "2024-08-19T20:12:02.528Z"
      },
      {
        "duration": 108,
        "start_time": "2024-08-19T20:12:02.541Z"
      },
      {
        "duration": 6,
        "start_time": "2024-08-19T20:12:02.651Z"
      },
      {
        "duration": 7,
        "start_time": "2024-08-19T20:12:02.659Z"
      },
      {
        "duration": 143,
        "start_time": "2024-08-19T20:12:02.668Z"
      },
      {
        "duration": 5,
        "start_time": "2024-08-19T20:12:02.813Z"
      },
      {
        "duration": 36,
        "start_time": "2024-08-19T20:12:02.820Z"
      },
      {
        "duration": 25,
        "start_time": "2024-08-19T20:12:02.858Z"
      },
      {
        "duration": 444,
        "start_time": "2024-08-19T20:12:02.885Z"
      },
      {
        "duration": 4,
        "start_time": "2024-08-19T20:12:03.331Z"
      },
      {
        "duration": 5,
        "start_time": "2024-08-19T20:12:03.337Z"
      },
      {
        "duration": 7,
        "start_time": "2024-08-19T20:12:03.343Z"
      },
      {
        "duration": 10,
        "start_time": "2024-08-19T20:12:03.351Z"
      },
      {
        "duration": 0,
        "start_time": "2024-08-19T20:12:03.362Z"
      },
      {
        "duration": 0,
        "start_time": "2024-08-19T20:12:03.363Z"
      },
      {
        "duration": 0,
        "start_time": "2024-08-19T20:12:03.364Z"
      },
      {
        "duration": 0,
        "start_time": "2024-08-19T20:12:03.365Z"
      },
      {
        "duration": 0,
        "start_time": "2024-08-19T20:12:03.366Z"
      },
      {
        "duration": 0,
        "start_time": "2024-08-19T20:12:03.396Z"
      },
      {
        "duration": 884,
        "start_time": "2024-08-19T20:12:59.795Z"
      },
      {
        "duration": 4,
        "start_time": "2024-08-19T20:13:13.994Z"
      },
      {
        "duration": 170,
        "start_time": "2024-08-19T20:13:17.131Z"
      },
      {
        "duration": 12,
        "start_time": "2024-08-19T20:13:17.303Z"
      },
      {
        "duration": 10,
        "start_time": "2024-08-19T20:13:17.316Z"
      },
      {
        "duration": 15,
        "start_time": "2024-08-19T20:13:17.327Z"
      },
      {
        "duration": 25,
        "start_time": "2024-08-19T20:13:17.343Z"
      },
      {
        "duration": 36,
        "start_time": "2024-08-19T20:13:17.370Z"
      },
      {
        "duration": 5,
        "start_time": "2024-08-19T20:13:17.407Z"
      },
      {
        "duration": 8,
        "start_time": "2024-08-19T20:13:17.413Z"
      },
      {
        "duration": 4,
        "start_time": "2024-08-19T20:13:17.422Z"
      },
      {
        "duration": 6,
        "start_time": "2024-08-19T20:13:17.428Z"
      },
      {
        "duration": 15,
        "start_time": "2024-08-19T20:13:17.435Z"
      },
      {
        "duration": 53,
        "start_time": "2024-08-19T20:13:17.451Z"
      },
      {
        "duration": 5,
        "start_time": "2024-08-19T20:13:17.505Z"
      },
      {
        "duration": 10,
        "start_time": "2024-08-19T20:13:17.511Z"
      },
      {
        "duration": 13,
        "start_time": "2024-08-19T20:13:17.522Z"
      },
      {
        "duration": 11,
        "start_time": "2024-08-19T20:13:17.537Z"
      },
      {
        "duration": 12,
        "start_time": "2024-08-19T20:13:17.550Z"
      },
      {
        "duration": 45,
        "start_time": "2024-08-19T20:13:17.563Z"
      },
      {
        "duration": 9,
        "start_time": "2024-08-19T20:13:17.609Z"
      },
      {
        "duration": 3,
        "start_time": "2024-08-19T20:13:17.619Z"
      },
      {
        "duration": 11,
        "start_time": "2024-08-19T20:13:17.624Z"
      },
      {
        "duration": 4,
        "start_time": "2024-08-19T20:13:17.636Z"
      },
      {
        "duration": 18,
        "start_time": "2024-08-19T20:13:17.641Z"
      },
      {
        "duration": 36,
        "start_time": "2024-08-19T20:13:17.660Z"
      },
      {
        "duration": 10,
        "start_time": "2024-08-19T20:13:17.698Z"
      },
      {
        "duration": 4,
        "start_time": "2024-08-19T20:13:17.710Z"
      },
      {
        "duration": 12,
        "start_time": "2024-08-19T20:13:17.716Z"
      },
      {
        "duration": 8,
        "start_time": "2024-08-19T20:13:17.731Z"
      },
      {
        "duration": 55,
        "start_time": "2024-08-19T20:13:17.741Z"
      },
      {
        "duration": 5,
        "start_time": "2024-08-19T20:13:17.798Z"
      },
      {
        "duration": 14,
        "start_time": "2024-08-19T20:13:17.805Z"
      },
      {
        "duration": 6,
        "start_time": "2024-08-19T20:13:17.820Z"
      },
      {
        "duration": 11,
        "start_time": "2024-08-19T20:13:17.827Z"
      },
      {
        "duration": 25,
        "start_time": "2024-08-19T20:13:17.840Z"
      },
      {
        "duration": 41,
        "start_time": "2024-08-19T20:13:17.867Z"
      },
      {
        "duration": 6,
        "start_time": "2024-08-19T20:13:17.910Z"
      },
      {
        "duration": 32,
        "start_time": "2024-08-19T20:13:17.917Z"
      },
      {
        "duration": 39,
        "start_time": "2024-08-19T20:13:17.950Z"
      },
      {
        "duration": 23,
        "start_time": "2024-08-19T20:13:17.991Z"
      },
      {
        "duration": 5,
        "start_time": "2024-08-19T20:13:18.016Z"
      },
      {
        "duration": 6,
        "start_time": "2024-08-19T20:13:18.022Z"
      },
      {
        "duration": 5,
        "start_time": "2024-08-19T20:13:18.029Z"
      },
      {
        "duration": 20,
        "start_time": "2024-08-19T20:13:18.036Z"
      },
      {
        "duration": 38,
        "start_time": "2024-08-19T20:13:18.058Z"
      },
      {
        "duration": 27,
        "start_time": "2024-08-19T20:13:18.098Z"
      },
      {
        "duration": 7,
        "start_time": "2024-08-19T20:13:18.126Z"
      },
      {
        "duration": 27,
        "start_time": "2024-08-19T20:13:18.134Z"
      },
      {
        "duration": 7,
        "start_time": "2024-08-19T20:13:18.163Z"
      },
      {
        "duration": 30,
        "start_time": "2024-08-19T20:13:18.171Z"
      },
      {
        "duration": 145,
        "start_time": "2024-08-19T20:13:18.202Z"
      },
      {
        "duration": 5,
        "start_time": "2024-08-19T20:13:18.349Z"
      },
      {
        "duration": 19,
        "start_time": "2024-08-19T20:13:18.355Z"
      },
      {
        "duration": 76,
        "start_time": "2024-08-19T20:13:18.376Z"
      },
      {
        "duration": 406,
        "start_time": "2024-08-19T20:13:18.454Z"
      },
      {
        "duration": 4,
        "start_time": "2024-08-19T20:13:18.862Z"
      },
      {
        "duration": 57,
        "start_time": "2024-08-19T20:13:18.867Z"
      },
      {
        "duration": 7,
        "start_time": "2024-08-19T20:13:18.926Z"
      },
      {
        "duration": 9,
        "start_time": "2024-08-19T20:13:18.935Z"
      },
      {
        "duration": 0,
        "start_time": "2024-08-19T20:13:18.945Z"
      },
      {
        "duration": 0,
        "start_time": "2024-08-19T20:13:18.946Z"
      },
      {
        "duration": 0,
        "start_time": "2024-08-19T20:13:18.947Z"
      },
      {
        "duration": 0,
        "start_time": "2024-08-19T20:13:18.948Z"
      },
      {
        "duration": 0,
        "start_time": "2024-08-19T20:13:18.949Z"
      },
      {
        "duration": 0,
        "start_time": "2024-08-19T20:13:18.950Z"
      },
      {
        "duration": 166,
        "start_time": "2024-08-19T20:14:05.797Z"
      },
      {
        "duration": 12,
        "start_time": "2024-08-19T20:14:05.965Z"
      },
      {
        "duration": 20,
        "start_time": "2024-08-19T20:14:05.979Z"
      },
      {
        "duration": 22,
        "start_time": "2024-08-19T20:14:06.001Z"
      },
      {
        "duration": 37,
        "start_time": "2024-08-19T20:14:06.025Z"
      },
      {
        "duration": 14,
        "start_time": "2024-08-19T20:14:06.065Z"
      },
      {
        "duration": 4,
        "start_time": "2024-08-19T20:14:06.081Z"
      },
      {
        "duration": 10,
        "start_time": "2024-08-19T20:14:06.087Z"
      },
      {
        "duration": 12,
        "start_time": "2024-08-19T20:14:06.099Z"
      },
      {
        "duration": 15,
        "start_time": "2024-08-19T20:14:06.114Z"
      },
      {
        "duration": 20,
        "start_time": "2024-08-19T20:14:06.130Z"
      },
      {
        "duration": 19,
        "start_time": "2024-08-19T20:14:06.152Z"
      },
      {
        "duration": 10,
        "start_time": "2024-08-19T20:14:06.173Z"
      },
      {
        "duration": 18,
        "start_time": "2024-08-19T20:14:06.184Z"
      },
      {
        "duration": 17,
        "start_time": "2024-08-19T20:14:06.204Z"
      },
      {
        "duration": 19,
        "start_time": "2024-08-19T20:14:06.222Z"
      },
      {
        "duration": 14,
        "start_time": "2024-08-19T20:14:06.242Z"
      },
      {
        "duration": 13,
        "start_time": "2024-08-19T20:14:06.257Z"
      },
      {
        "duration": 26,
        "start_time": "2024-08-19T20:14:06.271Z"
      },
      {
        "duration": 8,
        "start_time": "2024-08-19T20:14:06.298Z"
      },
      {
        "duration": 20,
        "start_time": "2024-08-19T20:14:06.307Z"
      },
      {
        "duration": 19,
        "start_time": "2024-08-19T20:14:06.329Z"
      },
      {
        "duration": 23,
        "start_time": "2024-08-19T20:14:06.350Z"
      },
      {
        "duration": 18,
        "start_time": "2024-08-19T20:14:06.375Z"
      },
      {
        "duration": 39,
        "start_time": "2024-08-19T20:14:06.394Z"
      },
      {
        "duration": 3,
        "start_time": "2024-08-19T20:14:06.435Z"
      },
      {
        "duration": 9,
        "start_time": "2024-08-19T20:14:06.439Z"
      },
      {
        "duration": 9,
        "start_time": "2024-08-19T20:14:06.453Z"
      },
      {
        "duration": 46,
        "start_time": "2024-08-19T20:14:06.463Z"
      },
      {
        "duration": 6,
        "start_time": "2024-08-19T20:14:06.511Z"
      },
      {
        "duration": 15,
        "start_time": "2024-08-19T20:14:06.519Z"
      },
      {
        "duration": 5,
        "start_time": "2024-08-19T20:14:06.537Z"
      },
      {
        "duration": 11,
        "start_time": "2024-08-19T20:14:06.544Z"
      },
      {
        "duration": 91,
        "start_time": "2024-08-19T20:14:06.556Z"
      },
      {
        "duration": 17,
        "start_time": "2024-08-19T20:14:06.649Z"
      },
      {
        "duration": 17,
        "start_time": "2024-08-19T20:14:06.668Z"
      },
      {
        "duration": 13,
        "start_time": "2024-08-19T20:14:06.687Z"
      },
      {
        "duration": 44,
        "start_time": "2024-08-19T20:14:06.702Z"
      },
      {
        "duration": 24,
        "start_time": "2024-08-19T20:14:06.747Z"
      },
      {
        "duration": 4,
        "start_time": "2024-08-19T20:14:06.773Z"
      },
      {
        "duration": 15,
        "start_time": "2024-08-19T20:14:06.779Z"
      },
      {
        "duration": 15,
        "start_time": "2024-08-19T20:14:06.795Z"
      },
      {
        "duration": 19,
        "start_time": "2024-08-19T20:14:06.812Z"
      },
      {
        "duration": 41,
        "start_time": "2024-08-19T20:14:06.833Z"
      },
      {
        "duration": 100,
        "start_time": "2024-08-19T20:14:06.877Z"
      },
      {
        "duration": 9,
        "start_time": "2024-08-19T20:14:06.978Z"
      },
      {
        "duration": 21,
        "start_time": "2024-08-19T20:14:06.989Z"
      },
      {
        "duration": 19,
        "start_time": "2024-08-19T20:14:07.012Z"
      },
      {
        "duration": 9,
        "start_time": "2024-08-19T20:14:07.033Z"
      },
      {
        "duration": 146,
        "start_time": "2024-08-19T20:14:07.043Z"
      },
      {
        "duration": 10,
        "start_time": "2024-08-19T20:14:07.191Z"
      },
      {
        "duration": 30,
        "start_time": "2024-08-19T20:14:07.202Z"
      },
      {
        "duration": 23,
        "start_time": "2024-08-19T20:14:07.233Z"
      },
      {
        "duration": 389,
        "start_time": "2024-08-19T20:14:07.257Z"
      },
      {
        "duration": 5,
        "start_time": "2024-08-19T20:14:07.647Z"
      },
      {
        "duration": 32,
        "start_time": "2024-08-19T20:14:07.653Z"
      },
      {
        "duration": 10,
        "start_time": "2024-08-19T20:14:07.686Z"
      },
      {
        "duration": 10,
        "start_time": "2024-08-19T20:14:07.698Z"
      },
      {
        "duration": 0,
        "start_time": "2024-08-19T20:14:07.710Z"
      },
      {
        "duration": 0,
        "start_time": "2024-08-19T20:14:07.712Z"
      },
      {
        "duration": 0,
        "start_time": "2024-08-19T20:14:07.713Z"
      },
      {
        "duration": 0,
        "start_time": "2024-08-19T20:14:07.715Z"
      },
      {
        "duration": 0,
        "start_time": "2024-08-19T20:14:07.716Z"
      },
      {
        "duration": 0,
        "start_time": "2024-08-19T20:14:07.718Z"
      },
      {
        "duration": 11,
        "start_time": "2024-08-19T20:14:56.695Z"
      },
      {
        "duration": 167,
        "start_time": "2024-08-19T20:15:04.415Z"
      },
      {
        "duration": 12,
        "start_time": "2024-08-19T20:15:04.583Z"
      },
      {
        "duration": 41,
        "start_time": "2024-08-19T20:15:04.597Z"
      },
      {
        "duration": 13,
        "start_time": "2024-08-19T20:15:04.640Z"
      },
      {
        "duration": 21,
        "start_time": "2024-08-19T20:15:04.655Z"
      },
      {
        "duration": 16,
        "start_time": "2024-08-19T20:15:04.677Z"
      },
      {
        "duration": 4,
        "start_time": "2024-08-19T20:15:04.694Z"
      },
      {
        "duration": 3,
        "start_time": "2024-08-19T20:15:04.700Z"
      },
      {
        "duration": 5,
        "start_time": "2024-08-19T20:15:04.704Z"
      },
      {
        "duration": 6,
        "start_time": "2024-08-19T20:15:04.712Z"
      },
      {
        "duration": 13,
        "start_time": "2024-08-19T20:15:04.720Z"
      },
      {
        "duration": 19,
        "start_time": "2024-08-19T20:15:04.735Z"
      },
      {
        "duration": 5,
        "start_time": "2024-08-19T20:15:04.755Z"
      },
      {
        "duration": 43,
        "start_time": "2024-08-19T20:15:04.761Z"
      },
      {
        "duration": 13,
        "start_time": "2024-08-19T20:15:04.806Z"
      },
      {
        "duration": 11,
        "start_time": "2024-08-19T20:15:04.820Z"
      },
      {
        "duration": 12,
        "start_time": "2024-08-19T20:15:04.832Z"
      },
      {
        "duration": 12,
        "start_time": "2024-08-19T20:15:04.846Z"
      },
      {
        "duration": 40,
        "start_time": "2024-08-19T20:15:04.859Z"
      },
      {
        "duration": 37,
        "start_time": "2024-08-19T20:15:04.900Z"
      },
      {
        "duration": 17,
        "start_time": "2024-08-19T20:15:04.938Z"
      },
      {
        "duration": 6,
        "start_time": "2024-08-19T20:15:04.956Z"
      },
      {
        "duration": 22,
        "start_time": "2024-08-19T20:15:04.963Z"
      },
      {
        "duration": 7,
        "start_time": "2024-08-19T20:15:04.986Z"
      },
      {
        "duration": 10,
        "start_time": "2024-08-19T20:15:04.994Z"
      },
      {
        "duration": 2,
        "start_time": "2024-08-19T20:15:05.006Z"
      },
      {
        "duration": 4,
        "start_time": "2024-08-19T20:15:05.009Z"
      },
      {
        "duration": 8,
        "start_time": "2024-08-19T20:15:05.017Z"
      },
      {
        "duration": 29,
        "start_time": "2024-08-19T20:15:05.026Z"
      },
      {
        "duration": 5,
        "start_time": "2024-08-19T20:15:05.056Z"
      },
      {
        "duration": 45,
        "start_time": "2024-08-19T20:15:05.062Z"
      },
      {
        "duration": 58,
        "start_time": "2024-08-19T20:15:05.108Z"
      },
      {
        "duration": 25,
        "start_time": "2024-08-19T20:15:05.168Z"
      },
      {
        "duration": 16,
        "start_time": "2024-08-19T20:15:05.195Z"
      },
      {
        "duration": 28,
        "start_time": "2024-08-19T20:15:05.213Z"
      },
      {
        "duration": 15,
        "start_time": "2024-08-19T20:15:05.243Z"
      },
      {
        "duration": 5,
        "start_time": "2024-08-19T20:15:05.260Z"
      },
      {
        "duration": 8,
        "start_time": "2024-08-19T20:15:05.267Z"
      },
      {
        "duration": 45,
        "start_time": "2024-08-19T20:15:05.276Z"
      },
      {
        "duration": 32,
        "start_time": "2024-08-19T20:15:05.323Z"
      },
      {
        "duration": 4,
        "start_time": "2024-08-19T20:15:05.357Z"
      },
      {
        "duration": 7,
        "start_time": "2024-08-19T20:15:05.363Z"
      },
      {
        "duration": 3,
        "start_time": "2024-08-19T20:15:05.397Z"
      },
      {
        "duration": 43,
        "start_time": "2024-08-19T20:15:05.401Z"
      },
      {
        "duration": 50,
        "start_time": "2024-08-19T20:15:05.446Z"
      },
      {
        "duration": 47,
        "start_time": "2024-08-19T20:15:05.498Z"
      },
      {
        "duration": 7,
        "start_time": "2024-08-19T20:15:05.547Z"
      },
      {
        "duration": 23,
        "start_time": "2024-08-19T20:15:05.556Z"
      },
      {
        "duration": 19,
        "start_time": "2024-08-19T20:15:05.580Z"
      },
      {
        "duration": 8,
        "start_time": "2024-08-19T20:15:05.601Z"
      },
      {
        "duration": 147,
        "start_time": "2024-08-19T20:15:05.610Z"
      },
      {
        "duration": 6,
        "start_time": "2024-08-19T20:15:05.758Z"
      },
      {
        "duration": 51,
        "start_time": "2024-08-19T20:15:05.766Z"
      },
      {
        "duration": 52,
        "start_time": "2024-08-19T20:15:05.818Z"
      },
      {
        "duration": 377,
        "start_time": "2024-08-19T20:15:05.872Z"
      },
      {
        "duration": 4,
        "start_time": "2024-08-19T20:15:06.250Z"
      },
      {
        "duration": 23,
        "start_time": "2024-08-19T20:15:06.255Z"
      },
      {
        "duration": 27,
        "start_time": "2024-08-19T20:15:06.279Z"
      },
      {
        "duration": 10,
        "start_time": "2024-08-19T20:15:06.308Z"
      },
      {
        "duration": 0,
        "start_time": "2024-08-19T20:15:06.319Z"
      },
      {
        "duration": 0,
        "start_time": "2024-08-19T20:15:06.321Z"
      },
      {
        "duration": 0,
        "start_time": "2024-08-19T20:15:06.321Z"
      },
      {
        "duration": 0,
        "start_time": "2024-08-19T20:15:06.323Z"
      },
      {
        "duration": 0,
        "start_time": "2024-08-19T20:15:06.324Z"
      },
      {
        "duration": 0,
        "start_time": "2024-08-19T20:15:06.325Z"
      },
      {
        "duration": 8,
        "start_time": "2024-08-19T20:15:39.076Z"
      },
      {
        "duration": 39,
        "start_time": "2024-08-19T20:17:59.981Z"
      },
      {
        "duration": 93,
        "start_time": "2024-08-19T20:19:12.841Z"
      },
      {
        "duration": 168,
        "start_time": "2024-08-19T20:19:52.202Z"
      },
      {
        "duration": 12,
        "start_time": "2024-08-19T20:19:52.371Z"
      },
      {
        "duration": 75,
        "start_time": "2024-08-19T20:19:52.384Z"
      },
      {
        "duration": 14,
        "start_time": "2024-08-19T20:19:52.461Z"
      },
      {
        "duration": 33,
        "start_time": "2024-08-19T20:19:52.476Z"
      },
      {
        "duration": 15,
        "start_time": "2024-08-19T20:19:52.511Z"
      },
      {
        "duration": 10,
        "start_time": "2024-08-19T20:19:52.527Z"
      },
      {
        "duration": 16,
        "start_time": "2024-08-19T20:19:52.538Z"
      },
      {
        "duration": 11,
        "start_time": "2024-08-19T20:19:52.555Z"
      },
      {
        "duration": 42,
        "start_time": "2024-08-19T20:19:52.568Z"
      },
      {
        "duration": 72,
        "start_time": "2024-08-19T20:19:52.611Z"
      },
      {
        "duration": 49,
        "start_time": "2024-08-19T20:19:52.685Z"
      },
      {
        "duration": 13,
        "start_time": "2024-08-19T20:19:52.736Z"
      },
      {
        "duration": 25,
        "start_time": "2024-08-19T20:19:52.751Z"
      },
      {
        "duration": 20,
        "start_time": "2024-08-19T20:19:52.778Z"
      },
      {
        "duration": 36,
        "start_time": "2024-08-19T20:19:52.800Z"
      },
      {
        "duration": 51,
        "start_time": "2024-08-19T20:19:52.838Z"
      },
      {
        "duration": 30,
        "start_time": "2024-08-19T20:19:52.891Z"
      },
      {
        "duration": 37,
        "start_time": "2024-08-19T20:19:52.923Z"
      },
      {
        "duration": 7,
        "start_time": "2024-08-19T20:19:52.962Z"
      },
      {
        "duration": 21,
        "start_time": "2024-08-19T20:19:52.971Z"
      },
      {
        "duration": 14,
        "start_time": "2024-08-19T20:19:52.994Z"
      },
      {
        "duration": 47,
        "start_time": "2024-08-19T20:19:53.010Z"
      },
      {
        "duration": 7,
        "start_time": "2024-08-19T20:19:53.059Z"
      },
      {
        "duration": 48,
        "start_time": "2024-08-19T20:19:53.068Z"
      },
      {
        "duration": 20,
        "start_time": "2024-08-19T20:19:53.117Z"
      },
      {
        "duration": 37,
        "start_time": "2024-08-19T20:19:53.139Z"
      },
      {
        "duration": 19,
        "start_time": "2024-08-19T20:19:53.180Z"
      },
      {
        "duration": 36,
        "start_time": "2024-08-19T20:19:53.201Z"
      },
      {
        "duration": 12,
        "start_time": "2024-08-19T20:19:53.239Z"
      },
      {
        "duration": 5,
        "start_time": "2024-08-19T20:19:53.253Z"
      },
      {
        "duration": 62,
        "start_time": "2024-08-19T20:19:53.260Z"
      },
      {
        "duration": 11,
        "start_time": "2024-08-19T20:19:53.323Z"
      },
      {
        "duration": 55,
        "start_time": "2024-08-19T20:19:53.335Z"
      },
      {
        "duration": 17,
        "start_time": "2024-08-19T20:19:53.392Z"
      },
      {
        "duration": 9,
        "start_time": "2024-08-19T20:19:53.410Z"
      },
      {
        "duration": 18,
        "start_time": "2024-08-19T20:19:53.421Z"
      },
      {
        "duration": 35,
        "start_time": "2024-08-19T20:19:53.440Z"
      },
      {
        "duration": 37,
        "start_time": "2024-08-19T20:19:53.476Z"
      },
      {
        "duration": 3,
        "start_time": "2024-08-19T20:19:53.514Z"
      },
      {
        "duration": 23,
        "start_time": "2024-08-19T20:19:53.519Z"
      },
      {
        "duration": 16,
        "start_time": "2024-08-19T20:19:53.543Z"
      },
      {
        "duration": 29,
        "start_time": "2024-08-19T20:19:53.560Z"
      },
      {
        "duration": 32,
        "start_time": "2024-08-19T20:19:53.591Z"
      },
      {
        "duration": 46,
        "start_time": "2024-08-19T20:19:53.625Z"
      },
      {
        "duration": 7,
        "start_time": "2024-08-19T20:19:53.672Z"
      },
      {
        "duration": 43,
        "start_time": "2024-08-19T20:19:53.680Z"
      },
      {
        "duration": 21,
        "start_time": "2024-08-19T20:19:53.725Z"
      },
      {
        "duration": 11,
        "start_time": "2024-08-19T20:19:53.747Z"
      },
      {
        "duration": 149,
        "start_time": "2024-08-19T20:19:53.759Z"
      },
      {
        "duration": 6,
        "start_time": "2024-08-19T20:19:53.910Z"
      },
      {
        "duration": 133,
        "start_time": "2024-08-19T20:19:53.917Z"
      },
      {
        "duration": 32,
        "start_time": "2024-08-19T20:19:54.051Z"
      },
      {
        "duration": 360,
        "start_time": "2024-08-19T20:19:54.084Z"
      },
      {
        "duration": 4,
        "start_time": "2024-08-19T20:19:54.446Z"
      },
      {
        "duration": 10,
        "start_time": "2024-08-19T20:19:54.451Z"
      },
      {
        "duration": 8,
        "start_time": "2024-08-19T20:19:54.463Z"
      },
      {
        "duration": 25,
        "start_time": "2024-08-19T20:19:54.472Z"
      },
      {
        "duration": 0,
        "start_time": "2024-08-19T20:19:54.498Z"
      },
      {
        "duration": 0,
        "start_time": "2024-08-19T20:19:54.499Z"
      },
      {
        "duration": 0,
        "start_time": "2024-08-19T20:19:54.500Z"
      },
      {
        "duration": 1,
        "start_time": "2024-08-19T20:19:54.501Z"
      },
      {
        "duration": 0,
        "start_time": "2024-08-19T20:19:54.503Z"
      },
      {
        "duration": 0,
        "start_time": "2024-08-19T20:19:54.504Z"
      },
      {
        "duration": 938,
        "start_time": "2024-08-19T20:25:03.644Z"
      },
      {
        "duration": 11,
        "start_time": "2024-08-19T20:25:24.203Z"
      },
      {
        "duration": 10,
        "start_time": "2024-08-19T20:29:21.768Z"
      },
      {
        "duration": 8,
        "start_time": "2024-08-19T20:29:23.259Z"
      },
      {
        "duration": 49,
        "start_time": "2024-08-19T20:31:54.356Z"
      },
      {
        "duration": 10,
        "start_time": "2024-08-19T20:32:28.506Z"
      },
      {
        "duration": 9,
        "start_time": "2024-08-19T20:32:29.009Z"
      },
      {
        "duration": 167,
        "start_time": "2024-08-19T20:38:41.119Z"
      },
      {
        "duration": 14,
        "start_time": "2024-08-19T20:38:41.288Z"
      },
      {
        "duration": 10,
        "start_time": "2024-08-19T20:38:41.303Z"
      },
      {
        "duration": 18,
        "start_time": "2024-08-19T20:38:41.314Z"
      },
      {
        "duration": 21,
        "start_time": "2024-08-19T20:38:41.334Z"
      },
      {
        "duration": 41,
        "start_time": "2024-08-19T20:38:41.356Z"
      },
      {
        "duration": 4,
        "start_time": "2024-08-19T20:38:41.398Z"
      },
      {
        "duration": 8,
        "start_time": "2024-08-19T20:38:41.403Z"
      },
      {
        "duration": 17,
        "start_time": "2024-08-19T20:38:41.412Z"
      },
      {
        "duration": 6,
        "start_time": "2024-08-19T20:38:41.431Z"
      },
      {
        "duration": 15,
        "start_time": "2024-08-19T20:38:41.439Z"
      },
      {
        "duration": 52,
        "start_time": "2024-08-19T20:38:41.455Z"
      },
      {
        "duration": 5,
        "start_time": "2024-08-19T20:38:41.509Z"
      },
      {
        "duration": 10,
        "start_time": "2024-08-19T20:38:41.515Z"
      },
      {
        "duration": 14,
        "start_time": "2024-08-19T20:38:41.526Z"
      },
      {
        "duration": 13,
        "start_time": "2024-08-19T20:38:41.541Z"
      },
      {
        "duration": 52,
        "start_time": "2024-08-19T20:38:41.555Z"
      },
      {
        "duration": 14,
        "start_time": "2024-08-19T20:38:41.608Z"
      },
      {
        "duration": 9,
        "start_time": "2024-08-19T20:38:41.624Z"
      },
      {
        "duration": 4,
        "start_time": "2024-08-19T20:38:41.635Z"
      },
      {
        "duration": 10,
        "start_time": "2024-08-19T20:38:41.641Z"
      },
      {
        "duration": 5,
        "start_time": "2024-08-19T20:38:41.652Z"
      },
      {
        "duration": 53,
        "start_time": "2024-08-19T20:38:41.658Z"
      },
      {
        "duration": 7,
        "start_time": "2024-08-19T20:38:41.712Z"
      },
      {
        "duration": 10,
        "start_time": "2024-08-19T20:38:41.721Z"
      },
      {
        "duration": 2,
        "start_time": "2024-08-19T20:38:41.732Z"
      },
      {
        "duration": 4,
        "start_time": "2024-08-19T20:38:41.735Z"
      },
      {
        "duration": 17,
        "start_time": "2024-08-19T20:38:41.742Z"
      },
      {
        "duration": 53,
        "start_time": "2024-08-19T20:38:41.760Z"
      },
      {
        "duration": 14,
        "start_time": "2024-08-19T20:38:41.814Z"
      },
      {
        "duration": 6,
        "start_time": "2024-08-19T20:38:41.830Z"
      },
      {
        "duration": 59,
        "start_time": "2024-08-19T20:38:41.838Z"
      },
      {
        "duration": 11,
        "start_time": "2024-08-19T20:38:41.900Z"
      },
      {
        "duration": 96,
        "start_time": "2024-08-19T20:38:41.913Z"
      },
      {
        "duration": 66,
        "start_time": "2024-08-19T20:38:42.010Z"
      },
      {
        "duration": 41,
        "start_time": "2024-08-19T20:38:42.077Z"
      },
      {
        "duration": 17,
        "start_time": "2024-08-19T20:38:42.119Z"
      },
      {
        "duration": 6,
        "start_time": "2024-08-19T20:38:42.137Z"
      },
      {
        "duration": 6,
        "start_time": "2024-08-19T20:38:42.145Z"
      },
      {
        "duration": 55,
        "start_time": "2024-08-19T20:38:42.152Z"
      },
      {
        "duration": 27,
        "start_time": "2024-08-19T20:38:42.209Z"
      },
      {
        "duration": 4,
        "start_time": "2024-08-19T20:38:42.237Z"
      },
      {
        "duration": 7,
        "start_time": "2024-08-19T20:38:42.242Z"
      },
      {
        "duration": 10,
        "start_time": "2024-08-19T20:38:42.250Z"
      },
      {
        "duration": 35,
        "start_time": "2024-08-19T20:38:42.261Z"
      },
      {
        "duration": 16,
        "start_time": "2024-08-19T20:38:42.298Z"
      },
      {
        "duration": 42,
        "start_time": "2024-08-19T20:38:42.315Z"
      },
      {
        "duration": 41,
        "start_time": "2024-08-19T20:38:42.359Z"
      },
      {
        "duration": 7,
        "start_time": "2024-08-19T20:38:42.401Z"
      },
      {
        "duration": 19,
        "start_time": "2024-08-19T20:38:42.410Z"
      },
      {
        "duration": 7,
        "start_time": "2024-08-19T20:38:42.430Z"
      },
      {
        "duration": 7,
        "start_time": "2024-08-19T20:38:42.438Z"
      },
      {
        "duration": 184,
        "start_time": "2024-08-19T20:38:42.446Z"
      },
      {
        "duration": 6,
        "start_time": "2024-08-19T20:38:42.631Z"
      },
      {
        "duration": 20,
        "start_time": "2024-08-19T20:38:42.638Z"
      },
      {
        "duration": 88,
        "start_time": "2024-08-19T20:38:42.659Z"
      },
      {
        "duration": 410,
        "start_time": "2024-08-19T20:38:42.749Z"
      },
      {
        "duration": 4,
        "start_time": "2024-08-19T20:38:43.161Z"
      },
      {
        "duration": 8,
        "start_time": "2024-08-19T20:38:43.167Z"
      },
      {
        "duration": 21,
        "start_time": "2024-08-19T20:38:43.177Z"
      },
      {
        "duration": 14,
        "start_time": "2024-08-19T20:38:43.200Z"
      },
      {
        "duration": 0,
        "start_time": "2024-08-19T20:38:43.216Z"
      },
      {
        "duration": 0,
        "start_time": "2024-08-19T20:38:43.217Z"
      },
      {
        "duration": 0,
        "start_time": "2024-08-19T20:38:43.219Z"
      },
      {
        "duration": 0,
        "start_time": "2024-08-19T20:38:43.220Z"
      },
      {
        "duration": 0,
        "start_time": "2024-08-19T20:38:43.221Z"
      },
      {
        "duration": 0,
        "start_time": "2024-08-19T20:38:43.223Z"
      },
      {
        "duration": 166,
        "start_time": "2024-08-19T20:40:43.598Z"
      },
      {
        "duration": 18,
        "start_time": "2024-08-19T20:40:43.766Z"
      },
      {
        "duration": 16,
        "start_time": "2024-08-19T20:40:43.786Z"
      },
      {
        "duration": 41,
        "start_time": "2024-08-19T20:40:43.804Z"
      },
      {
        "duration": 24,
        "start_time": "2024-08-19T20:40:43.847Z"
      },
      {
        "duration": 16,
        "start_time": "2024-08-19T20:40:43.873Z"
      },
      {
        "duration": 22,
        "start_time": "2024-08-19T20:40:43.890Z"
      },
      {
        "duration": 4,
        "start_time": "2024-08-19T20:40:43.914Z"
      },
      {
        "duration": 5,
        "start_time": "2024-08-19T20:40:43.920Z"
      },
      {
        "duration": 6,
        "start_time": "2024-08-19T20:40:43.928Z"
      },
      {
        "duration": 19,
        "start_time": "2024-08-19T20:40:43.935Z"
      },
      {
        "duration": 21,
        "start_time": "2024-08-19T20:40:43.955Z"
      },
      {
        "duration": 24,
        "start_time": "2024-08-19T20:40:43.977Z"
      },
      {
        "duration": 11,
        "start_time": "2024-08-19T20:40:44.003Z"
      },
      {
        "duration": 14,
        "start_time": "2024-08-19T20:40:44.015Z"
      },
      {
        "duration": 13,
        "start_time": "2024-08-19T20:40:44.030Z"
      },
      {
        "duration": 14,
        "start_time": "2024-08-19T20:40:44.044Z"
      },
      {
        "duration": 43,
        "start_time": "2024-08-19T20:40:44.060Z"
      },
      {
        "duration": 9,
        "start_time": "2024-08-19T20:40:44.104Z"
      },
      {
        "duration": 8,
        "start_time": "2024-08-19T20:40:44.115Z"
      },
      {
        "duration": 11,
        "start_time": "2024-08-19T20:40:44.125Z"
      },
      {
        "duration": 4,
        "start_time": "2024-08-19T20:40:44.138Z"
      },
      {
        "duration": 25,
        "start_time": "2024-08-19T20:40:44.143Z"
      },
      {
        "duration": 27,
        "start_time": "2024-08-19T20:40:44.169Z"
      },
      {
        "duration": 20,
        "start_time": "2024-08-19T20:40:44.197Z"
      },
      {
        "duration": 2,
        "start_time": "2024-08-19T20:40:44.219Z"
      },
      {
        "duration": 11,
        "start_time": "2024-08-19T20:40:44.222Z"
      },
      {
        "duration": 10,
        "start_time": "2024-08-19T20:40:44.237Z"
      },
      {
        "duration": 49,
        "start_time": "2024-08-19T20:40:44.248Z"
      },
      {
        "duration": 14,
        "start_time": "2024-08-19T20:40:44.299Z"
      },
      {
        "duration": 12,
        "start_time": "2024-08-19T20:40:44.314Z"
      },
      {
        "duration": 39,
        "start_time": "2024-08-19T20:40:44.327Z"
      },
      {
        "duration": 28,
        "start_time": "2024-08-19T20:40:44.368Z"
      },
      {
        "duration": 101,
        "start_time": "2024-08-19T20:40:44.398Z"
      },
      {
        "duration": 67,
        "start_time": "2024-08-19T20:40:44.501Z"
      },
      {
        "duration": 43,
        "start_time": "2024-08-19T20:40:44.569Z"
      },
      {
        "duration": 16,
        "start_time": "2024-08-19T20:40:44.613Z"
      },
      {
        "duration": 6,
        "start_time": "2024-08-19T20:40:44.631Z"
      },
      {
        "duration": 9,
        "start_time": "2024-08-19T20:40:44.638Z"
      },
      {
        "duration": 48,
        "start_time": "2024-08-19T20:40:44.648Z"
      },
      {
        "duration": 24,
        "start_time": "2024-08-19T20:40:44.698Z"
      },
      {
        "duration": 38,
        "start_time": "2024-08-19T20:40:44.723Z"
      },
      {
        "duration": 5,
        "start_time": "2024-08-19T20:40:44.762Z"
      },
      {
        "duration": 6,
        "start_time": "2024-08-19T20:40:44.768Z"
      },
      {
        "duration": 5,
        "start_time": "2024-08-19T20:40:44.775Z"
      },
      {
        "duration": 15,
        "start_time": "2024-08-19T20:40:44.782Z"
      },
      {
        "duration": 21,
        "start_time": "2024-08-19T20:40:44.799Z"
      },
      {
        "duration": 27,
        "start_time": "2024-08-19T20:40:44.822Z"
      },
      {
        "duration": 7,
        "start_time": "2024-08-19T20:40:44.851Z"
      },
      {
        "duration": 53,
        "start_time": "2024-08-19T20:40:44.859Z"
      },
      {
        "duration": 20,
        "start_time": "2024-08-19T20:40:44.913Z"
      },
      {
        "duration": 15,
        "start_time": "2024-08-19T20:40:44.934Z"
      },
      {
        "duration": 149,
        "start_time": "2024-08-19T20:40:44.950Z"
      },
      {
        "duration": 6,
        "start_time": "2024-08-19T20:40:45.101Z"
      },
      {
        "duration": 45,
        "start_time": "2024-08-19T20:40:45.108Z"
      },
      {
        "duration": 36,
        "start_time": "2024-08-19T20:40:45.155Z"
      },
      {
        "duration": 462,
        "start_time": "2024-08-19T20:40:45.193Z"
      },
      {
        "duration": 6,
        "start_time": "2024-08-19T20:40:45.657Z"
      },
      {
        "duration": 5,
        "start_time": "2024-08-19T20:40:45.664Z"
      },
      {
        "duration": 26,
        "start_time": "2024-08-19T20:40:45.670Z"
      },
      {
        "duration": 11,
        "start_time": "2024-08-19T20:40:45.697Z"
      },
      {
        "duration": 0,
        "start_time": "2024-08-19T20:40:45.710Z"
      },
      {
        "duration": 0,
        "start_time": "2024-08-19T20:40:45.712Z"
      },
      {
        "duration": 0,
        "start_time": "2024-08-19T20:40:45.713Z"
      },
      {
        "duration": 0,
        "start_time": "2024-08-19T20:40:45.714Z"
      },
      {
        "duration": 0,
        "start_time": "2024-08-19T20:40:45.715Z"
      },
      {
        "duration": 0,
        "start_time": "2024-08-19T20:40:45.716Z"
      },
      {
        "duration": 165,
        "start_time": "2024-08-19T20:42:41.598Z"
      },
      {
        "duration": 13,
        "start_time": "2024-08-19T20:42:41.765Z"
      },
      {
        "duration": 9,
        "start_time": "2024-08-19T20:42:41.780Z"
      },
      {
        "duration": 20,
        "start_time": "2024-08-19T20:42:41.791Z"
      },
      {
        "duration": 25,
        "start_time": "2024-08-19T20:42:41.813Z"
      },
      {
        "duration": 13,
        "start_time": "2024-08-19T20:42:41.840Z"
      },
      {
        "duration": 4,
        "start_time": "2024-08-19T20:42:41.855Z"
      },
      {
        "duration": 3,
        "start_time": "2024-08-19T20:42:41.861Z"
      },
      {
        "duration": 4,
        "start_time": "2024-08-19T20:42:41.866Z"
      },
      {
        "duration": 7,
        "start_time": "2024-08-19T20:42:41.899Z"
      },
      {
        "duration": 17,
        "start_time": "2024-08-19T20:42:41.909Z"
      },
      {
        "duration": 20,
        "start_time": "2024-08-19T20:42:41.927Z"
      },
      {
        "duration": 5,
        "start_time": "2024-08-19T20:42:41.948Z"
      },
      {
        "duration": 42,
        "start_time": "2024-08-19T20:42:41.954Z"
      },
      {
        "duration": 19,
        "start_time": "2024-08-19T20:42:41.998Z"
      },
      {
        "duration": 13,
        "start_time": "2024-08-19T20:42:42.019Z"
      },
      {
        "duration": 13,
        "start_time": "2024-08-19T20:42:42.033Z"
      },
      {
        "duration": 12,
        "start_time": "2024-08-19T20:42:42.048Z"
      },
      {
        "duration": 39,
        "start_time": "2024-08-19T20:42:42.062Z"
      },
      {
        "duration": 8,
        "start_time": "2024-08-19T20:42:42.102Z"
      },
      {
        "duration": 14,
        "start_time": "2024-08-19T20:42:42.112Z"
      },
      {
        "duration": 9,
        "start_time": "2024-08-19T20:42:42.127Z"
      },
      {
        "duration": 18,
        "start_time": "2024-08-19T20:42:42.137Z"
      },
      {
        "duration": 6,
        "start_time": "2024-08-19T20:42:42.156Z"
      },
      {
        "duration": 35,
        "start_time": "2024-08-19T20:42:42.164Z"
      },
      {
        "duration": 3,
        "start_time": "2024-08-19T20:42:42.201Z"
      },
      {
        "duration": 5,
        "start_time": "2024-08-19T20:42:42.206Z"
      },
      {
        "duration": 10,
        "start_time": "2024-08-19T20:42:42.217Z"
      },
      {
        "duration": 33,
        "start_time": "2024-08-19T20:42:42.229Z"
      },
      {
        "duration": 15,
        "start_time": "2024-08-19T20:42:42.295Z"
      },
      {
        "duration": 8,
        "start_time": "2024-08-19T20:42:42.312Z"
      },
      {
        "duration": 51,
        "start_time": "2024-08-19T20:42:42.322Z"
      },
      {
        "duration": 29,
        "start_time": "2024-08-19T20:42:42.375Z"
      },
      {
        "duration": 97,
        "start_time": "2024-08-19T20:42:42.405Z"
      },
      {
        "duration": 88,
        "start_time": "2024-08-19T20:42:42.504Z"
      },
      {
        "duration": 31,
        "start_time": "2024-08-19T20:42:42.593Z"
      },
      {
        "duration": 15,
        "start_time": "2024-08-19T20:42:42.626Z"
      },
      {
        "duration": 5,
        "start_time": "2024-08-19T20:42:42.643Z"
      },
      {
        "duration": 21,
        "start_time": "2024-08-19T20:42:42.649Z"
      },
      {
        "duration": 44,
        "start_time": "2024-08-19T20:42:42.671Z"
      },
      {
        "duration": 45,
        "start_time": "2024-08-19T20:42:42.716Z"
      },
      {
        "duration": 21,
        "start_time": "2024-08-19T20:42:42.763Z"
      },
      {
        "duration": 10,
        "start_time": "2024-08-19T20:42:42.785Z"
      },
      {
        "duration": 27,
        "start_time": "2024-08-19T20:42:42.796Z"
      },
      {
        "duration": 38,
        "start_time": "2024-08-19T20:42:42.824Z"
      },
      {
        "duration": 43,
        "start_time": "2024-08-19T20:42:42.864Z"
      },
      {
        "duration": 54,
        "start_time": "2024-08-19T20:42:42.910Z"
      },
      {
        "duration": 8,
        "start_time": "2024-08-19T20:42:42.966Z"
      },
      {
        "duration": 95,
        "start_time": "2024-08-19T20:42:42.976Z"
      },
      {
        "duration": 12,
        "start_time": "2024-08-19T20:42:43.072Z"
      },
      {
        "duration": 9,
        "start_time": "2024-08-19T20:42:43.085Z"
      },
      {
        "duration": 160,
        "start_time": "2024-08-19T20:42:43.096Z"
      },
      {
        "duration": 6,
        "start_time": "2024-08-19T20:42:43.258Z"
      },
      {
        "duration": 56,
        "start_time": "2024-08-19T20:42:43.266Z"
      },
      {
        "duration": 21,
        "start_time": "2024-08-19T20:42:43.324Z"
      },
      {
        "duration": 417,
        "start_time": "2024-08-19T20:42:43.346Z"
      },
      {
        "duration": 5,
        "start_time": "2024-08-19T20:42:43.764Z"
      },
      {
        "duration": 8,
        "start_time": "2024-08-19T20:42:43.770Z"
      },
      {
        "duration": 49,
        "start_time": "2024-08-19T20:42:43.780Z"
      },
      {
        "duration": 41,
        "start_time": "2024-08-19T20:42:43.831Z"
      },
      {
        "duration": 0,
        "start_time": "2024-08-19T20:42:43.873Z"
      },
      {
        "duration": 0,
        "start_time": "2024-08-19T20:42:43.874Z"
      },
      {
        "duration": 0,
        "start_time": "2024-08-19T20:42:43.875Z"
      },
      {
        "duration": 0,
        "start_time": "2024-08-19T20:42:43.876Z"
      },
      {
        "duration": 0,
        "start_time": "2024-08-19T20:42:43.877Z"
      },
      {
        "duration": 0,
        "start_time": "2024-08-19T20:42:43.878Z"
      },
      {
        "duration": 180,
        "start_time": "2024-08-19T20:46:14.778Z"
      },
      {
        "duration": 13,
        "start_time": "2024-08-19T20:46:14.960Z"
      },
      {
        "duration": 10,
        "start_time": "2024-08-19T20:46:14.974Z"
      },
      {
        "duration": 18,
        "start_time": "2024-08-19T20:46:14.986Z"
      },
      {
        "duration": 34,
        "start_time": "2024-08-19T20:46:15.006Z"
      },
      {
        "duration": 93,
        "start_time": "2024-08-19T20:46:15.041Z"
      },
      {
        "duration": 25,
        "start_time": "2024-08-19T20:46:15.136Z"
      },
      {
        "duration": 56,
        "start_time": "2024-08-19T20:46:15.162Z"
      },
      {
        "duration": 106,
        "start_time": "2024-08-19T20:46:15.220Z"
      },
      {
        "duration": 34,
        "start_time": "2024-08-19T20:46:15.329Z"
      },
      {
        "duration": 36,
        "start_time": "2024-08-19T20:46:15.365Z"
      },
      {
        "duration": 50,
        "start_time": "2024-08-19T20:46:15.408Z"
      },
      {
        "duration": 7,
        "start_time": "2024-08-19T20:46:15.460Z"
      },
      {
        "duration": 30,
        "start_time": "2024-08-19T20:46:15.470Z"
      },
      {
        "duration": 40,
        "start_time": "2024-08-19T20:46:15.503Z"
      },
      {
        "duration": 19,
        "start_time": "2024-08-19T20:46:15.545Z"
      },
      {
        "duration": 18,
        "start_time": "2024-08-19T20:46:15.566Z"
      },
      {
        "duration": 26,
        "start_time": "2024-08-19T20:46:15.586Z"
      },
      {
        "duration": 9,
        "start_time": "2024-08-19T20:46:15.622Z"
      },
      {
        "duration": 5,
        "start_time": "2024-08-19T20:46:15.632Z"
      },
      {
        "duration": 10,
        "start_time": "2024-08-19T20:46:15.639Z"
      },
      {
        "duration": 15,
        "start_time": "2024-08-19T20:46:15.651Z"
      },
      {
        "duration": 68,
        "start_time": "2024-08-19T20:46:15.668Z"
      },
      {
        "duration": 7,
        "start_time": "2024-08-19T20:46:15.738Z"
      },
      {
        "duration": 21,
        "start_time": "2024-08-19T20:46:15.746Z"
      },
      {
        "duration": 2,
        "start_time": "2024-08-19T20:46:15.769Z"
      },
      {
        "duration": 4,
        "start_time": "2024-08-19T20:46:15.773Z"
      },
      {
        "duration": 10,
        "start_time": "2024-08-19T20:46:15.781Z"
      },
      {
        "duration": 49,
        "start_time": "2024-08-19T20:46:15.794Z"
      },
      {
        "duration": 14,
        "start_time": "2024-08-19T20:46:15.845Z"
      },
      {
        "duration": 5,
        "start_time": "2024-08-19T20:46:15.861Z"
      },
      {
        "duration": 54,
        "start_time": "2024-08-19T20:46:15.867Z"
      },
      {
        "duration": 13,
        "start_time": "2024-08-19T20:46:15.923Z"
      },
      {
        "duration": 109,
        "start_time": "2024-08-19T20:46:15.938Z"
      },
      {
        "duration": 71,
        "start_time": "2024-08-19T20:46:16.049Z"
      },
      {
        "duration": 25,
        "start_time": "2024-08-19T20:46:16.122Z"
      },
      {
        "duration": 80,
        "start_time": "2024-08-19T20:46:16.148Z"
      },
      {
        "duration": 23,
        "start_time": "2024-08-19T20:46:16.230Z"
      },
      {
        "duration": 17,
        "start_time": "2024-08-19T20:46:16.255Z"
      },
      {
        "duration": 28,
        "start_time": "2024-08-19T20:46:16.274Z"
      },
      {
        "duration": 10,
        "start_time": "2024-08-19T20:46:16.304Z"
      },
      {
        "duration": 5,
        "start_time": "2024-08-19T20:46:16.322Z"
      },
      {
        "duration": 7,
        "start_time": "2024-08-19T20:46:16.329Z"
      },
      {
        "duration": 6,
        "start_time": "2024-08-19T20:46:16.337Z"
      },
      {
        "duration": 7,
        "start_time": "2024-08-19T20:46:16.344Z"
      },
      {
        "duration": 59,
        "start_time": "2024-08-19T20:46:16.352Z"
      },
      {
        "duration": 23,
        "start_time": "2024-08-19T20:46:16.421Z"
      },
      {
        "duration": 30,
        "start_time": "2024-08-19T20:46:16.446Z"
      },
      {
        "duration": 7,
        "start_time": "2024-08-19T20:46:16.478Z"
      },
      {
        "duration": 64,
        "start_time": "2024-08-19T20:46:16.486Z"
      },
      {
        "duration": 7,
        "start_time": "2024-08-19T20:46:16.551Z"
      },
      {
        "duration": 17,
        "start_time": "2024-08-19T20:46:16.560Z"
      },
      {
        "duration": 160,
        "start_time": "2024-08-19T20:46:16.578Z"
      },
      {
        "duration": 6,
        "start_time": "2024-08-19T20:46:16.740Z"
      },
      {
        "duration": 60,
        "start_time": "2024-08-19T20:46:16.747Z"
      },
      {
        "duration": 27,
        "start_time": "2024-08-19T20:46:16.809Z"
      },
      {
        "duration": 441,
        "start_time": "2024-08-19T20:46:16.837Z"
      },
      {
        "duration": 4,
        "start_time": "2024-08-19T20:46:17.280Z"
      },
      {
        "duration": 34,
        "start_time": "2024-08-19T20:46:17.286Z"
      },
      {
        "duration": 15,
        "start_time": "2024-08-19T20:46:17.322Z"
      },
      {
        "duration": 11,
        "start_time": "2024-08-19T20:46:17.339Z"
      },
      {
        "duration": 0,
        "start_time": "2024-08-19T20:46:17.351Z"
      },
      {
        "duration": 0,
        "start_time": "2024-08-19T20:46:17.352Z"
      },
      {
        "duration": 0,
        "start_time": "2024-08-19T20:46:17.353Z"
      },
      {
        "duration": 0,
        "start_time": "2024-08-19T20:46:17.354Z"
      },
      {
        "duration": 0,
        "start_time": "2024-08-19T20:46:17.355Z"
      },
      {
        "duration": 0,
        "start_time": "2024-08-19T20:46:17.356Z"
      },
      {
        "duration": 168,
        "start_time": "2024-08-19T20:47:08.791Z"
      },
      {
        "duration": 12,
        "start_time": "2024-08-19T20:47:08.961Z"
      },
      {
        "duration": 10,
        "start_time": "2024-08-19T20:47:08.975Z"
      },
      {
        "duration": 17,
        "start_time": "2024-08-19T20:47:08.987Z"
      },
      {
        "duration": 24,
        "start_time": "2024-08-19T20:47:09.007Z"
      },
      {
        "duration": 64,
        "start_time": "2024-08-19T20:47:09.032Z"
      },
      {
        "duration": 5,
        "start_time": "2024-08-19T20:47:09.097Z"
      },
      {
        "duration": 12,
        "start_time": "2024-08-19T20:47:09.103Z"
      },
      {
        "duration": 15,
        "start_time": "2024-08-19T20:47:09.118Z"
      },
      {
        "duration": 5,
        "start_time": "2024-08-19T20:47:09.136Z"
      },
      {
        "duration": 14,
        "start_time": "2024-08-19T20:47:09.143Z"
      },
      {
        "duration": 25,
        "start_time": "2024-08-19T20:47:09.159Z"
      },
      {
        "duration": 12,
        "start_time": "2024-08-19T20:47:09.185Z"
      },
      {
        "duration": 18,
        "start_time": "2024-08-19T20:47:09.199Z"
      },
      {
        "duration": 14,
        "start_time": "2024-08-19T20:47:09.219Z"
      },
      {
        "duration": 12,
        "start_time": "2024-08-19T20:47:09.235Z"
      },
      {
        "duration": 12,
        "start_time": "2024-08-19T20:47:09.249Z"
      },
      {
        "duration": 47,
        "start_time": "2024-08-19T20:47:09.263Z"
      },
      {
        "duration": 11,
        "start_time": "2024-08-19T20:47:09.312Z"
      },
      {
        "duration": 4,
        "start_time": "2024-08-19T20:47:09.324Z"
      },
      {
        "duration": 10,
        "start_time": "2024-08-19T20:47:09.329Z"
      },
      {
        "duration": 17,
        "start_time": "2024-08-19T20:47:09.340Z"
      },
      {
        "duration": 18,
        "start_time": "2024-08-19T20:47:09.359Z"
      },
      {
        "duration": 9,
        "start_time": "2024-08-19T20:47:09.396Z"
      },
      {
        "duration": 11,
        "start_time": "2024-08-19T20:47:09.407Z"
      },
      {
        "duration": 3,
        "start_time": "2024-08-19T20:47:09.419Z"
      },
      {
        "duration": 3,
        "start_time": "2024-08-19T20:47:09.424Z"
      },
      {
        "duration": 9,
        "start_time": "2024-08-19T20:47:09.430Z"
      },
      {
        "duration": 63,
        "start_time": "2024-08-19T20:47:09.441Z"
      },
      {
        "duration": 18,
        "start_time": "2024-08-19T20:47:09.505Z"
      },
      {
        "duration": 9,
        "start_time": "2024-08-19T20:47:09.524Z"
      },
      {
        "duration": 50,
        "start_time": "2024-08-19T20:47:09.534Z"
      },
      {
        "duration": 22,
        "start_time": "2024-08-19T20:47:09.585Z"
      },
      {
        "duration": 120,
        "start_time": "2024-08-19T20:47:09.609Z"
      },
      {
        "duration": 50,
        "start_time": "2024-08-19T20:47:09.731Z"
      },
      {
        "duration": 42,
        "start_time": "2024-08-19T20:47:09.783Z"
      },
      {
        "duration": 18,
        "start_time": "2024-08-19T20:47:09.827Z"
      },
      {
        "duration": 6,
        "start_time": "2024-08-19T20:47:09.847Z"
      },
      {
        "duration": 7,
        "start_time": "2024-08-19T20:47:09.855Z"
      },
      {
        "duration": 65,
        "start_time": "2024-08-19T20:47:09.864Z"
      },
      {
        "duration": 5,
        "start_time": "2024-08-19T20:47:09.930Z"
      },
      {
        "duration": 6,
        "start_time": "2024-08-19T20:47:09.937Z"
      },
      {
        "duration": 18,
        "start_time": "2024-08-19T20:47:09.944Z"
      },
      {
        "duration": 6,
        "start_time": "2024-08-19T20:47:09.963Z"
      },
      {
        "duration": 4,
        "start_time": "2024-08-19T20:47:09.970Z"
      },
      {
        "duration": 31,
        "start_time": "2024-08-19T20:47:09.975Z"
      },
      {
        "duration": 50,
        "start_time": "2024-08-19T20:47:10.008Z"
      },
      {
        "duration": 27,
        "start_time": "2024-08-19T20:47:10.060Z"
      },
      {
        "duration": 6,
        "start_time": "2024-08-19T20:47:10.089Z"
      },
      {
        "duration": 24,
        "start_time": "2024-08-19T20:47:10.097Z"
      },
      {
        "duration": 7,
        "start_time": "2024-08-19T20:47:10.122Z"
      },
      {
        "duration": 7,
        "start_time": "2024-08-19T20:47:10.130Z"
      },
      {
        "duration": 268,
        "start_time": "2024-08-19T20:47:10.138Z"
      },
      {
        "duration": 6,
        "start_time": "2024-08-19T20:47:10.408Z"
      },
      {
        "duration": 18,
        "start_time": "2024-08-19T20:47:10.416Z"
      },
      {
        "duration": 20,
        "start_time": "2024-08-19T20:47:10.436Z"
      },
      {
        "duration": 414,
        "start_time": "2024-08-19T20:47:10.457Z"
      },
      {
        "duration": 4,
        "start_time": "2024-08-19T20:47:10.873Z"
      },
      {
        "duration": 8,
        "start_time": "2024-08-19T20:47:10.878Z"
      },
      {
        "duration": 14,
        "start_time": "2024-08-19T20:47:10.887Z"
      },
      {
        "duration": 13,
        "start_time": "2024-08-19T20:47:10.903Z"
      },
      {
        "duration": 0,
        "start_time": "2024-08-19T20:47:10.918Z"
      },
      {
        "duration": 0,
        "start_time": "2024-08-19T20:47:10.919Z"
      },
      {
        "duration": 0,
        "start_time": "2024-08-19T20:47:10.920Z"
      },
      {
        "duration": 0,
        "start_time": "2024-08-19T20:47:10.921Z"
      },
      {
        "duration": 0,
        "start_time": "2024-08-19T20:47:10.923Z"
      },
      {
        "duration": 0,
        "start_time": "2024-08-19T20:47:10.924Z"
      },
      {
        "duration": 7,
        "start_time": "2024-08-19T20:50:19.760Z"
      },
      {
        "duration": 178,
        "start_time": "2024-08-19T20:50:27.138Z"
      },
      {
        "duration": 14,
        "start_time": "2024-08-19T20:50:27.318Z"
      },
      {
        "duration": 10,
        "start_time": "2024-08-19T20:50:27.334Z"
      },
      {
        "duration": 15,
        "start_time": "2024-08-19T20:50:27.346Z"
      },
      {
        "duration": 48,
        "start_time": "2024-08-19T20:50:27.362Z"
      },
      {
        "duration": 16,
        "start_time": "2024-08-19T20:50:27.412Z"
      },
      {
        "duration": 5,
        "start_time": "2024-08-19T20:50:27.429Z"
      },
      {
        "duration": 5,
        "start_time": "2024-08-19T20:50:27.435Z"
      },
      {
        "duration": 4,
        "start_time": "2024-08-19T20:50:27.441Z"
      },
      {
        "duration": 6,
        "start_time": "2024-08-19T20:50:27.448Z"
      },
      {
        "duration": 50,
        "start_time": "2024-08-19T20:50:27.455Z"
      },
      {
        "duration": 24,
        "start_time": "2024-08-19T20:50:27.508Z"
      },
      {
        "duration": 5,
        "start_time": "2024-08-19T20:50:27.533Z"
      },
      {
        "duration": 12,
        "start_time": "2024-08-19T20:50:27.540Z"
      },
      {
        "duration": 13,
        "start_time": "2024-08-19T20:50:27.554Z"
      },
      {
        "duration": 18,
        "start_time": "2024-08-19T20:50:27.596Z"
      },
      {
        "duration": 13,
        "start_time": "2024-08-19T20:50:27.616Z"
      },
      {
        "duration": 13,
        "start_time": "2024-08-19T20:50:27.630Z"
      },
      {
        "duration": 9,
        "start_time": "2024-08-19T20:50:27.645Z"
      },
      {
        "duration": 6,
        "start_time": "2024-08-19T20:50:27.655Z"
      },
      {
        "duration": 40,
        "start_time": "2024-08-19T20:50:27.662Z"
      },
      {
        "duration": 5,
        "start_time": "2024-08-19T20:50:27.706Z"
      },
      {
        "duration": 19,
        "start_time": "2024-08-19T20:50:27.713Z"
      },
      {
        "duration": 7,
        "start_time": "2024-08-19T20:50:27.733Z"
      },
      {
        "duration": 10,
        "start_time": "2024-08-19T20:50:27.741Z"
      },
      {
        "duration": 3,
        "start_time": "2024-08-19T20:50:27.753Z"
      },
      {
        "duration": 6,
        "start_time": "2024-08-19T20:50:27.757Z"
      },
      {
        "duration": 11,
        "start_time": "2024-08-19T20:50:27.801Z"
      },
      {
        "duration": 30,
        "start_time": "2024-08-19T20:50:27.814Z"
      },
      {
        "duration": 14,
        "start_time": "2024-08-19T20:50:27.845Z"
      },
      {
        "duration": 36,
        "start_time": "2024-08-19T20:50:27.860Z"
      },
      {
        "duration": 45,
        "start_time": "2024-08-19T20:50:27.898Z"
      },
      {
        "duration": 10,
        "start_time": "2024-08-19T20:50:27.945Z"
      },
      {
        "duration": 113,
        "start_time": "2024-08-19T20:50:27.957Z"
      },
      {
        "duration": 63,
        "start_time": "2024-08-19T20:50:28.072Z"
      },
      {
        "duration": 26,
        "start_time": "2024-08-19T20:50:28.136Z"
      },
      {
        "duration": 35,
        "start_time": "2024-08-19T20:50:28.163Z"
      },
      {
        "duration": 59,
        "start_time": "2024-08-19T20:50:28.199Z"
      },
      {
        "duration": 9,
        "start_time": "2024-08-19T20:50:28.260Z"
      },
      {
        "duration": 28,
        "start_time": "2024-08-19T20:50:28.270Z"
      },
      {
        "duration": 7,
        "start_time": "2024-08-19T20:50:28.301Z"
      },
      {
        "duration": 4,
        "start_time": "2024-08-19T20:50:28.310Z"
      },
      {
        "duration": 6,
        "start_time": "2024-08-19T20:50:28.315Z"
      },
      {
        "duration": 6,
        "start_time": "2024-08-19T20:50:28.322Z"
      },
      {
        "duration": 5,
        "start_time": "2024-08-19T20:50:28.330Z"
      },
      {
        "duration": 16,
        "start_time": "2024-08-19T20:50:28.336Z"
      },
      {
        "duration": 65,
        "start_time": "2024-08-19T20:50:28.354Z"
      },
      {
        "duration": 36,
        "start_time": "2024-08-19T20:50:28.421Z"
      },
      {
        "duration": 7,
        "start_time": "2024-08-19T20:50:28.458Z"
      },
      {
        "duration": 32,
        "start_time": "2024-08-19T20:50:28.467Z"
      },
      {
        "duration": 60,
        "start_time": "2024-08-19T20:50:28.501Z"
      },
      {
        "duration": 13,
        "start_time": "2024-08-19T20:50:28.562Z"
      },
      {
        "duration": 159,
        "start_time": "2024-08-19T20:50:28.576Z"
      },
      {
        "duration": 5,
        "start_time": "2024-08-19T20:50:28.737Z"
      },
      {
        "duration": 67,
        "start_time": "2024-08-19T20:50:28.743Z"
      },
      {
        "duration": 23,
        "start_time": "2024-08-19T20:50:28.812Z"
      },
      {
        "duration": 425,
        "start_time": "2024-08-19T20:50:28.836Z"
      },
      {
        "duration": 4,
        "start_time": "2024-08-19T20:50:29.263Z"
      },
      {
        "duration": 5,
        "start_time": "2024-08-19T20:50:29.268Z"
      },
      {
        "duration": 21,
        "start_time": "2024-08-19T20:50:29.275Z"
      },
      {
        "duration": 10,
        "start_time": "2024-08-19T20:50:29.298Z"
      },
      {
        "duration": 0,
        "start_time": "2024-08-19T20:50:29.310Z"
      },
      {
        "duration": 0,
        "start_time": "2024-08-19T20:50:29.311Z"
      },
      {
        "duration": 0,
        "start_time": "2024-08-19T20:50:29.311Z"
      },
      {
        "duration": 0,
        "start_time": "2024-08-19T20:50:29.312Z"
      },
      {
        "duration": 0,
        "start_time": "2024-08-19T20:50:29.313Z"
      },
      {
        "duration": 0,
        "start_time": "2024-08-19T20:50:29.314Z"
      },
      {
        "duration": 5,
        "start_time": "2024-08-19T20:51:34.630Z"
      },
      {
        "duration": 4,
        "start_time": "2024-08-19T20:53:41.344Z"
      },
      {
        "duration": 166,
        "start_time": "2024-08-19T20:53:47.442Z"
      },
      {
        "duration": 15,
        "start_time": "2024-08-19T20:53:47.610Z"
      },
      {
        "duration": 11,
        "start_time": "2024-08-19T20:53:47.626Z"
      },
      {
        "duration": 28,
        "start_time": "2024-08-19T20:53:47.638Z"
      },
      {
        "duration": 40,
        "start_time": "2024-08-19T20:53:47.668Z"
      },
      {
        "duration": 19,
        "start_time": "2024-08-19T20:53:47.710Z"
      },
      {
        "duration": 13,
        "start_time": "2024-08-19T20:53:47.730Z"
      },
      {
        "duration": 56,
        "start_time": "2024-08-19T20:53:47.745Z"
      },
      {
        "duration": 7,
        "start_time": "2024-08-19T20:53:47.803Z"
      },
      {
        "duration": 11,
        "start_time": "2024-08-19T20:53:47.813Z"
      },
      {
        "duration": 15,
        "start_time": "2024-08-19T20:53:47.825Z"
      },
      {
        "duration": 19,
        "start_time": "2024-08-19T20:53:47.841Z"
      },
      {
        "duration": 9,
        "start_time": "2024-08-19T20:53:47.862Z"
      },
      {
        "duration": 33,
        "start_time": "2024-08-19T20:53:47.873Z"
      },
      {
        "duration": 14,
        "start_time": "2024-08-19T20:53:47.910Z"
      },
      {
        "duration": 13,
        "start_time": "2024-08-19T20:53:47.926Z"
      },
      {
        "duration": 29,
        "start_time": "2024-08-19T20:53:47.940Z"
      },
      {
        "duration": 22,
        "start_time": "2024-08-19T20:53:47.971Z"
      },
      {
        "duration": 19,
        "start_time": "2024-08-19T20:53:48.004Z"
      },
      {
        "duration": 4,
        "start_time": "2024-08-19T20:53:48.024Z"
      },
      {
        "duration": 10,
        "start_time": "2024-08-19T20:53:48.030Z"
      },
      {
        "duration": 4,
        "start_time": "2024-08-19T20:53:48.041Z"
      },
      {
        "duration": 23,
        "start_time": "2024-08-19T20:53:48.046Z"
      },
      {
        "duration": 7,
        "start_time": "2024-08-19T20:53:48.070Z"
      },
      {
        "duration": 21,
        "start_time": "2024-08-19T20:53:48.078Z"
      },
      {
        "duration": 2,
        "start_time": "2024-08-19T20:53:48.101Z"
      },
      {
        "duration": 25,
        "start_time": "2024-08-19T20:53:48.105Z"
      },
      {
        "duration": 15,
        "start_time": "2024-08-19T20:53:48.134Z"
      },
      {
        "duration": 27,
        "start_time": "2024-08-19T20:53:48.150Z"
      },
      {
        "duration": 12,
        "start_time": "2024-08-19T20:53:48.179Z"
      },
      {
        "duration": 10,
        "start_time": "2024-08-19T20:53:48.196Z"
      },
      {
        "duration": 87,
        "start_time": "2024-08-19T20:53:48.208Z"
      },
      {
        "duration": 17,
        "start_time": "2024-08-19T20:53:48.297Z"
      },
      {
        "duration": 109,
        "start_time": "2024-08-19T20:53:48.316Z"
      },
      {
        "duration": 44,
        "start_time": "2024-08-19T20:53:48.426Z"
      },
      {
        "duration": 39,
        "start_time": "2024-08-19T20:53:48.472Z"
      },
      {
        "duration": 17,
        "start_time": "2024-08-19T20:53:48.513Z"
      },
      {
        "duration": 17,
        "start_time": "2024-08-19T20:53:48.531Z"
      },
      {
        "duration": 20,
        "start_time": "2024-08-19T20:53:48.550Z"
      },
      {
        "duration": 30,
        "start_time": "2024-08-19T20:53:48.571Z"
      },
      {
        "duration": 6,
        "start_time": "2024-08-19T20:53:48.604Z"
      },
      {
        "duration": 7,
        "start_time": "2024-08-19T20:53:48.612Z"
      },
      {
        "duration": 10,
        "start_time": "2024-08-19T20:53:48.621Z"
      },
      {
        "duration": 7,
        "start_time": "2024-08-19T20:53:48.633Z"
      },
      {
        "duration": 6,
        "start_time": "2024-08-19T20:53:48.642Z"
      },
      {
        "duration": 20,
        "start_time": "2024-08-19T20:53:48.650Z"
      },
      {
        "duration": 137,
        "start_time": "2024-08-19T20:53:48.696Z"
      },
      {
        "duration": 29,
        "start_time": "2024-08-19T20:53:48.835Z"
      },
      {
        "duration": 8,
        "start_time": "2024-08-19T20:53:48.865Z"
      },
      {
        "duration": 54,
        "start_time": "2024-08-19T20:53:48.874Z"
      },
      {
        "duration": 22,
        "start_time": "2024-08-19T20:53:48.930Z"
      },
      {
        "duration": 26,
        "start_time": "2024-08-19T20:53:48.954Z"
      },
      {
        "duration": 153,
        "start_time": "2024-08-19T20:53:48.982Z"
      },
      {
        "duration": 6,
        "start_time": "2024-08-19T20:53:49.137Z"
      },
      {
        "duration": 60,
        "start_time": "2024-08-19T20:53:49.145Z"
      },
      {
        "duration": 25,
        "start_time": "2024-08-19T20:53:49.208Z"
      },
      {
        "duration": 420,
        "start_time": "2024-08-19T20:53:49.234Z"
      },
      {
        "duration": 4,
        "start_time": "2024-08-19T20:53:49.655Z"
      },
      {
        "duration": 19,
        "start_time": "2024-08-19T20:53:49.661Z"
      },
      {
        "duration": 9,
        "start_time": "2024-08-19T20:53:49.682Z"
      },
      {
        "duration": 38,
        "start_time": "2024-08-19T20:53:49.696Z"
      },
      {
        "duration": 0,
        "start_time": "2024-08-19T20:53:49.736Z"
      },
      {
        "duration": 0,
        "start_time": "2024-08-19T20:53:49.737Z"
      },
      {
        "duration": 0,
        "start_time": "2024-08-19T20:53:49.739Z"
      },
      {
        "duration": 0,
        "start_time": "2024-08-19T20:53:49.740Z"
      },
      {
        "duration": 0,
        "start_time": "2024-08-19T20:53:49.741Z"
      },
      {
        "duration": 0,
        "start_time": "2024-08-19T20:53:49.743Z"
      },
      {
        "duration": 41,
        "start_time": "2024-08-19T20:55:28.196Z"
      },
      {
        "duration": 6,
        "start_time": "2024-08-19T20:56:57.130Z"
      },
      {
        "duration": 171,
        "start_time": "2024-08-19T20:57:02.988Z"
      },
      {
        "duration": 13,
        "start_time": "2024-08-19T20:57:03.161Z"
      },
      {
        "duration": 28,
        "start_time": "2024-08-19T20:57:03.175Z"
      },
      {
        "duration": 55,
        "start_time": "2024-08-19T20:57:03.207Z"
      },
      {
        "duration": 75,
        "start_time": "2024-08-19T20:57:03.263Z"
      },
      {
        "duration": 15,
        "start_time": "2024-08-19T20:57:03.339Z"
      },
      {
        "duration": 21,
        "start_time": "2024-08-19T20:57:03.355Z"
      },
      {
        "duration": 21,
        "start_time": "2024-08-19T20:57:03.377Z"
      },
      {
        "duration": 7,
        "start_time": "2024-08-19T20:57:03.402Z"
      },
      {
        "duration": 27,
        "start_time": "2024-08-19T20:57:03.412Z"
      },
      {
        "duration": 31,
        "start_time": "2024-08-19T20:57:03.441Z"
      },
      {
        "duration": 28,
        "start_time": "2024-08-19T20:57:03.474Z"
      },
      {
        "duration": 5,
        "start_time": "2024-08-19T20:57:03.504Z"
      },
      {
        "duration": 10,
        "start_time": "2024-08-19T20:57:03.511Z"
      },
      {
        "duration": 26,
        "start_time": "2024-08-19T20:57:03.522Z"
      },
      {
        "duration": 28,
        "start_time": "2024-08-19T20:57:03.549Z"
      },
      {
        "duration": 20,
        "start_time": "2024-08-19T20:57:03.579Z"
      },
      {
        "duration": 17,
        "start_time": "2024-08-19T20:57:03.601Z"
      },
      {
        "duration": 23,
        "start_time": "2024-08-19T20:57:03.620Z"
      },
      {
        "duration": 17,
        "start_time": "2024-08-19T20:57:03.645Z"
      },
      {
        "duration": 27,
        "start_time": "2024-08-19T20:57:03.663Z"
      },
      {
        "duration": 17,
        "start_time": "2024-08-19T20:57:03.691Z"
      },
      {
        "duration": 20,
        "start_time": "2024-08-19T20:57:03.709Z"
      },
      {
        "duration": 22,
        "start_time": "2024-08-19T20:57:03.730Z"
      },
      {
        "duration": 12,
        "start_time": "2024-08-19T20:57:03.754Z"
      },
      {
        "duration": 3,
        "start_time": "2024-08-19T20:57:03.768Z"
      },
      {
        "duration": 32,
        "start_time": "2024-08-19T20:57:03.772Z"
      },
      {
        "duration": 19,
        "start_time": "2024-08-19T20:57:03.810Z"
      },
      {
        "duration": 34,
        "start_time": "2024-08-19T20:57:03.831Z"
      },
      {
        "duration": 13,
        "start_time": "2024-08-19T20:57:03.867Z"
      },
      {
        "duration": 16,
        "start_time": "2024-08-19T20:57:03.882Z"
      },
      {
        "duration": 59,
        "start_time": "2024-08-19T20:57:03.901Z"
      },
      {
        "duration": 11,
        "start_time": "2024-08-19T20:57:03.961Z"
      },
      {
        "duration": 104,
        "start_time": "2024-08-19T20:57:03.973Z"
      },
      {
        "duration": 57,
        "start_time": "2024-08-19T20:57:04.079Z"
      },
      {
        "duration": 26,
        "start_time": "2024-08-19T20:57:04.137Z"
      },
      {
        "duration": 32,
        "start_time": "2024-08-19T20:57:04.164Z"
      },
      {
        "duration": 9,
        "start_time": "2024-08-19T20:57:04.198Z"
      },
      {
        "duration": 10,
        "start_time": "2024-08-19T20:57:04.211Z"
      },
      {
        "duration": 105,
        "start_time": "2024-08-19T20:57:04.223Z"
      },
      {
        "duration": 6,
        "start_time": "2024-08-19T20:57:04.330Z"
      },
      {
        "duration": 10,
        "start_time": "2024-08-19T20:57:04.337Z"
      },
      {
        "duration": 5,
        "start_time": "2024-08-19T20:57:04.348Z"
      },
      {
        "duration": 15,
        "start_time": "2024-08-19T20:57:04.355Z"
      },
      {
        "duration": 3,
        "start_time": "2024-08-19T20:57:04.372Z"
      },
      {
        "duration": 22,
        "start_time": "2024-08-19T20:57:04.397Z"
      },
      {
        "duration": 53,
        "start_time": "2024-08-19T20:57:04.421Z"
      },
      {
        "duration": 48,
        "start_time": "2024-08-19T20:57:04.475Z"
      },
      {
        "duration": 7,
        "start_time": "2024-08-19T20:57:04.525Z"
      },
      {
        "duration": 52,
        "start_time": "2024-08-19T20:57:04.534Z"
      },
      {
        "duration": 6,
        "start_time": "2024-08-19T20:57:04.588Z"
      },
      {
        "duration": 9,
        "start_time": "2024-08-19T20:57:04.600Z"
      },
      {
        "duration": 160,
        "start_time": "2024-08-19T20:57:04.610Z"
      },
      {
        "duration": 6,
        "start_time": "2024-08-19T20:57:04.772Z"
      },
      {
        "duration": 60,
        "start_time": "2024-08-19T20:57:04.779Z"
      },
      {
        "duration": 21,
        "start_time": "2024-08-19T20:57:04.841Z"
      },
      {
        "duration": 412,
        "start_time": "2024-08-19T20:57:04.863Z"
      },
      {
        "duration": 5,
        "start_time": "2024-08-19T20:57:05.276Z"
      },
      {
        "duration": 48,
        "start_time": "2024-08-19T20:57:05.282Z"
      },
      {
        "duration": 13,
        "start_time": "2024-08-19T20:57:05.331Z"
      },
      {
        "duration": 23,
        "start_time": "2024-08-19T20:57:05.347Z"
      },
      {
        "duration": 0,
        "start_time": "2024-08-19T20:57:05.372Z"
      },
      {
        "duration": 0,
        "start_time": "2024-08-19T20:57:05.373Z"
      },
      {
        "duration": 0,
        "start_time": "2024-08-19T20:57:05.374Z"
      },
      {
        "duration": 0,
        "start_time": "2024-08-19T20:57:05.375Z"
      },
      {
        "duration": 0,
        "start_time": "2024-08-19T20:57:05.377Z"
      },
      {
        "duration": 0,
        "start_time": "2024-08-19T20:57:05.378Z"
      },
      {
        "duration": 173,
        "start_time": "2024-08-19T20:58:01.440Z"
      },
      {
        "duration": 13,
        "start_time": "2024-08-19T20:58:01.616Z"
      },
      {
        "duration": 18,
        "start_time": "2024-08-19T20:58:01.631Z"
      },
      {
        "duration": 30,
        "start_time": "2024-08-19T20:58:01.651Z"
      },
      {
        "duration": 53,
        "start_time": "2024-08-19T20:58:01.683Z"
      },
      {
        "duration": 19,
        "start_time": "2024-08-19T20:58:01.737Z"
      },
      {
        "duration": 28,
        "start_time": "2024-08-19T20:58:01.758Z"
      },
      {
        "duration": 24,
        "start_time": "2024-08-19T20:58:01.787Z"
      },
      {
        "duration": 28,
        "start_time": "2024-08-19T20:58:01.813Z"
      },
      {
        "duration": 6,
        "start_time": "2024-08-19T20:58:01.844Z"
      },
      {
        "duration": 15,
        "start_time": "2024-08-19T20:58:01.851Z"
      },
      {
        "duration": 35,
        "start_time": "2024-08-19T20:58:01.868Z"
      },
      {
        "duration": 9,
        "start_time": "2024-08-19T20:58:01.906Z"
      },
      {
        "duration": 49,
        "start_time": "2024-08-19T20:58:01.917Z"
      },
      {
        "duration": 20,
        "start_time": "2024-08-19T20:58:01.968Z"
      },
      {
        "duration": 42,
        "start_time": "2024-08-19T20:58:01.990Z"
      },
      {
        "duration": 13,
        "start_time": "2024-08-19T20:58:02.034Z"
      },
      {
        "duration": 13,
        "start_time": "2024-08-19T20:58:02.049Z"
      },
      {
        "duration": 13,
        "start_time": "2024-08-19T20:58:02.064Z"
      },
      {
        "duration": 33,
        "start_time": "2024-08-19T20:58:02.079Z"
      },
      {
        "duration": 21,
        "start_time": "2024-08-19T20:58:02.115Z"
      },
      {
        "duration": 5,
        "start_time": "2024-08-19T20:58:02.138Z"
      },
      {
        "duration": 22,
        "start_time": "2024-08-19T20:58:02.144Z"
      },
      {
        "duration": 7,
        "start_time": "2024-08-19T20:58:02.167Z"
      },
      {
        "duration": 34,
        "start_time": "2024-08-19T20:58:02.175Z"
      },
      {
        "duration": 14,
        "start_time": "2024-08-19T20:58:02.212Z"
      },
      {
        "duration": 113,
        "start_time": "2024-08-19T20:58:02.228Z"
      },
      {
        "duration": 14,
        "start_time": "2024-08-19T20:58:02.345Z"
      },
      {
        "duration": 30,
        "start_time": "2024-08-19T20:58:02.360Z"
      },
      {
        "duration": 20,
        "start_time": "2024-08-19T20:58:02.391Z"
      },
      {
        "duration": 7,
        "start_time": "2024-08-19T20:58:02.414Z"
      },
      {
        "duration": 53,
        "start_time": "2024-08-19T20:58:02.422Z"
      },
      {
        "duration": 27,
        "start_time": "2024-08-19T20:58:02.477Z"
      },
      {
        "duration": 142,
        "start_time": "2024-08-19T20:58:02.505Z"
      },
      {
        "duration": 51,
        "start_time": "2024-08-19T20:58:02.649Z"
      },
      {
        "duration": 78,
        "start_time": "2024-08-19T20:58:02.702Z"
      },
      {
        "duration": 89,
        "start_time": "2024-08-19T20:58:02.782Z"
      },
      {
        "duration": 44,
        "start_time": "2024-08-19T20:58:02.873Z"
      },
      {
        "duration": 128,
        "start_time": "2024-08-19T20:58:02.919Z"
      },
      {
        "duration": 16,
        "start_time": "2024-08-19T20:58:03.049Z"
      },
      {
        "duration": 43,
        "start_time": "2024-08-19T20:58:03.067Z"
      },
      {
        "duration": 60,
        "start_time": "2024-08-19T20:58:03.112Z"
      },
      {
        "duration": 147,
        "start_time": "2024-08-19T20:58:03.173Z"
      },
      {
        "duration": 30,
        "start_time": "2024-08-19T20:58:03.322Z"
      },
      {
        "duration": 16,
        "start_time": "2024-08-19T20:58:03.353Z"
      },
      {
        "duration": 73,
        "start_time": "2024-08-19T20:58:03.371Z"
      },
      {
        "duration": 39,
        "start_time": "2024-08-19T20:58:03.445Z"
      },
      {
        "duration": 65,
        "start_time": "2024-08-19T20:58:03.486Z"
      },
      {
        "duration": 43,
        "start_time": "2024-08-19T20:58:03.553Z"
      },
      {
        "duration": 11,
        "start_time": "2024-08-19T20:58:03.598Z"
      },
      {
        "duration": 157,
        "start_time": "2024-08-19T20:58:03.611Z"
      },
      {
        "duration": 32,
        "start_time": "2024-08-19T20:58:03.770Z"
      },
      {
        "duration": 73,
        "start_time": "2024-08-19T20:58:03.803Z"
      },
      {
        "duration": 166,
        "start_time": "2024-08-19T20:58:03.878Z"
      },
      {
        "duration": 6,
        "start_time": "2024-08-19T20:58:04.046Z"
      },
      {
        "duration": 46,
        "start_time": "2024-08-19T20:58:04.053Z"
      },
      {
        "duration": 28,
        "start_time": "2024-08-19T20:58:04.101Z"
      },
      {
        "duration": 697,
        "start_time": "2024-08-19T20:58:04.130Z"
      },
      {
        "duration": 4,
        "start_time": "2024-08-19T20:58:04.828Z"
      },
      {
        "duration": 7,
        "start_time": "2024-08-19T20:58:04.834Z"
      },
      {
        "duration": 15,
        "start_time": "2024-08-19T20:58:04.842Z"
      },
      {
        "duration": 14,
        "start_time": "2024-08-19T20:58:04.859Z"
      },
      {
        "duration": 0,
        "start_time": "2024-08-19T20:58:04.874Z"
      },
      {
        "duration": 0,
        "start_time": "2024-08-19T20:58:04.875Z"
      },
      {
        "duration": 0,
        "start_time": "2024-08-19T20:58:04.876Z"
      },
      {
        "duration": 0,
        "start_time": "2024-08-19T20:58:04.877Z"
      },
      {
        "duration": 0,
        "start_time": "2024-08-19T20:58:04.878Z"
      },
      {
        "duration": 0,
        "start_time": "2024-08-19T20:58:04.879Z"
      },
      {
        "duration": 3,
        "start_time": "2024-08-19T21:00:50.963Z"
      },
      {
        "duration": 19,
        "start_time": "2024-08-19T21:01:17.199Z"
      },
      {
        "duration": 172,
        "start_time": "2024-08-19T21:01:28.010Z"
      },
      {
        "duration": 14,
        "start_time": "2024-08-19T21:01:28.184Z"
      },
      {
        "duration": 13,
        "start_time": "2024-08-19T21:01:28.200Z"
      },
      {
        "duration": 15,
        "start_time": "2024-08-19T21:01:28.215Z"
      },
      {
        "duration": 23,
        "start_time": "2024-08-19T21:01:28.231Z"
      },
      {
        "duration": 48,
        "start_time": "2024-08-19T21:01:28.256Z"
      },
      {
        "duration": 4,
        "start_time": "2024-08-19T21:01:28.306Z"
      },
      {
        "duration": 9,
        "start_time": "2024-08-19T21:01:28.312Z"
      },
      {
        "duration": 4,
        "start_time": "2024-08-19T21:01:28.323Z"
      },
      {
        "duration": 13,
        "start_time": "2024-08-19T21:01:28.329Z"
      },
      {
        "duration": 21,
        "start_time": "2024-08-19T21:01:28.344Z"
      },
      {
        "duration": 39,
        "start_time": "2024-08-19T21:01:28.367Z"
      },
      {
        "duration": 6,
        "start_time": "2024-08-19T21:01:28.408Z"
      },
      {
        "duration": 17,
        "start_time": "2024-08-19T21:01:28.416Z"
      },
      {
        "duration": 16,
        "start_time": "2024-08-19T21:01:28.434Z"
      },
      {
        "duration": 13,
        "start_time": "2024-08-19T21:01:28.452Z"
      },
      {
        "duration": 43,
        "start_time": "2024-08-19T21:01:28.467Z"
      },
      {
        "duration": 16,
        "start_time": "2024-08-19T21:01:28.512Z"
      },
      {
        "duration": 48,
        "start_time": "2024-08-19T21:01:28.530Z"
      },
      {
        "duration": 3,
        "start_time": "2024-08-19T21:01:28.580Z"
      },
      {
        "duration": 8,
        "start_time": "2024-08-19T21:01:28.585Z"
      },
      {
        "duration": 6,
        "start_time": "2024-08-19T21:01:28.595Z"
      },
      {
        "duration": 20,
        "start_time": "2024-08-19T21:01:28.602Z"
      },
      {
        "duration": 7,
        "start_time": "2024-08-19T21:01:28.623Z"
      },
      {
        "duration": 24,
        "start_time": "2024-08-19T21:01:28.631Z"
      },
      {
        "duration": 8,
        "start_time": "2024-08-19T21:01:28.656Z"
      },
      {
        "duration": 7,
        "start_time": "2024-08-19T21:01:28.665Z"
      },
      {
        "duration": 9,
        "start_time": "2024-08-19T21:01:28.676Z"
      },
      {
        "duration": 30,
        "start_time": "2024-08-19T21:01:28.696Z"
      },
      {
        "duration": 13,
        "start_time": "2024-08-19T21:01:28.728Z"
      },
      {
        "duration": 12,
        "start_time": "2024-08-19T21:01:28.743Z"
      },
      {
        "duration": 58,
        "start_time": "2024-08-19T21:01:28.756Z"
      },
      {
        "duration": 11,
        "start_time": "2024-08-19T21:01:28.816Z"
      },
      {
        "duration": 54,
        "start_time": "2024-08-19T21:01:28.828Z"
      },
      {
        "duration": 0,
        "start_time": "2024-08-19T21:01:28.884Z"
      },
      {
        "duration": 0,
        "start_time": "2024-08-19T21:01:28.886Z"
      },
      {
        "duration": 0,
        "start_time": "2024-08-19T21:01:28.887Z"
      },
      {
        "duration": 0,
        "start_time": "2024-08-19T21:01:28.888Z"
      },
      {
        "duration": 0,
        "start_time": "2024-08-19T21:01:28.889Z"
      },
      {
        "duration": 0,
        "start_time": "2024-08-19T21:01:28.890Z"
      },
      {
        "duration": 0,
        "start_time": "2024-08-19T21:01:28.891Z"
      },
      {
        "duration": 0,
        "start_time": "2024-08-19T21:01:28.892Z"
      },
      {
        "duration": 0,
        "start_time": "2024-08-19T21:01:28.893Z"
      },
      {
        "duration": 0,
        "start_time": "2024-08-19T21:01:28.895Z"
      },
      {
        "duration": 0,
        "start_time": "2024-08-19T21:01:28.896Z"
      },
      {
        "duration": 0,
        "start_time": "2024-08-19T21:01:28.898Z"
      },
      {
        "duration": 0,
        "start_time": "2024-08-19T21:01:28.900Z"
      },
      {
        "duration": 0,
        "start_time": "2024-08-19T21:01:28.901Z"
      },
      {
        "duration": 0,
        "start_time": "2024-08-19T21:01:28.902Z"
      },
      {
        "duration": 0,
        "start_time": "2024-08-19T21:01:28.904Z"
      },
      {
        "duration": 0,
        "start_time": "2024-08-19T21:01:28.906Z"
      },
      {
        "duration": 0,
        "start_time": "2024-08-19T21:01:28.907Z"
      },
      {
        "duration": 0,
        "start_time": "2024-08-19T21:01:28.908Z"
      },
      {
        "duration": 0,
        "start_time": "2024-08-19T21:01:28.909Z"
      },
      {
        "duration": 0,
        "start_time": "2024-08-19T21:01:28.910Z"
      },
      {
        "duration": 0,
        "start_time": "2024-08-19T21:01:28.911Z"
      },
      {
        "duration": 0,
        "start_time": "2024-08-19T21:01:28.913Z"
      },
      {
        "duration": 0,
        "start_time": "2024-08-19T21:01:28.914Z"
      },
      {
        "duration": 0,
        "start_time": "2024-08-19T21:01:28.915Z"
      },
      {
        "duration": 1,
        "start_time": "2024-08-19T21:01:28.917Z"
      },
      {
        "duration": 0,
        "start_time": "2024-08-19T21:01:28.920Z"
      },
      {
        "duration": 0,
        "start_time": "2024-08-19T21:01:28.922Z"
      },
      {
        "duration": 0,
        "start_time": "2024-08-19T21:01:28.924Z"
      },
      {
        "duration": 0,
        "start_time": "2024-08-19T21:01:28.925Z"
      },
      {
        "duration": 0,
        "start_time": "2024-08-19T21:01:28.926Z"
      },
      {
        "duration": 0,
        "start_time": "2024-08-19T21:01:28.927Z"
      },
      {
        "duration": 0,
        "start_time": "2024-08-19T21:01:28.928Z"
      },
      {
        "duration": 16,
        "start_time": "2024-08-19T21:02:08.744Z"
      },
      {
        "duration": 65,
        "start_time": "2024-08-19T21:02:17.706Z"
      },
      {
        "duration": 181,
        "start_time": "2024-08-19T21:02:21.558Z"
      },
      {
        "duration": 13,
        "start_time": "2024-08-19T21:02:21.740Z"
      },
      {
        "duration": 18,
        "start_time": "2024-08-19T21:02:21.755Z"
      },
      {
        "duration": 23,
        "start_time": "2024-08-19T21:02:21.775Z"
      },
      {
        "duration": 29,
        "start_time": "2024-08-19T21:02:21.799Z"
      },
      {
        "duration": 16,
        "start_time": "2024-08-19T21:02:21.829Z"
      },
      {
        "duration": 10,
        "start_time": "2024-08-19T21:02:21.847Z"
      },
      {
        "duration": 18,
        "start_time": "2024-08-19T21:02:21.859Z"
      },
      {
        "duration": 26,
        "start_time": "2024-08-19T21:02:21.879Z"
      },
      {
        "duration": 16,
        "start_time": "2024-08-19T21:02:21.909Z"
      },
      {
        "duration": 68,
        "start_time": "2024-08-19T21:02:21.927Z"
      },
      {
        "duration": 34,
        "start_time": "2024-08-19T21:02:21.997Z"
      },
      {
        "duration": 7,
        "start_time": "2024-08-19T21:02:22.032Z"
      },
      {
        "duration": 25,
        "start_time": "2024-08-19T21:02:22.041Z"
      },
      {
        "duration": 18,
        "start_time": "2024-08-19T21:02:22.068Z"
      },
      {
        "duration": 48,
        "start_time": "2024-08-19T21:02:22.088Z"
      },
      {
        "duration": 53,
        "start_time": "2024-08-19T21:02:22.138Z"
      },
      {
        "duration": 43,
        "start_time": "2024-08-19T21:02:22.193Z"
      },
      {
        "duration": 55,
        "start_time": "2024-08-19T21:02:22.237Z"
      },
      {
        "duration": 38,
        "start_time": "2024-08-19T21:02:22.293Z"
      },
      {
        "duration": 34,
        "start_time": "2024-08-19T21:02:22.333Z"
      },
      {
        "duration": 7,
        "start_time": "2024-08-19T21:02:22.368Z"
      },
      {
        "duration": 36,
        "start_time": "2024-08-19T21:02:22.377Z"
      },
      {
        "duration": 29,
        "start_time": "2024-08-19T21:02:22.414Z"
      },
      {
        "duration": 13,
        "start_time": "2024-08-19T21:02:22.445Z"
      },
      {
        "duration": 3,
        "start_time": "2024-08-19T21:02:22.459Z"
      },
      {
        "duration": 10,
        "start_time": "2024-08-19T21:02:22.463Z"
      },
      {
        "duration": 29,
        "start_time": "2024-08-19T21:02:22.477Z"
      },
      {
        "duration": 69,
        "start_time": "2024-08-19T21:02:22.508Z"
      },
      {
        "duration": 22,
        "start_time": "2024-08-19T21:02:22.578Z"
      },
      {
        "duration": 10,
        "start_time": "2024-08-19T21:02:22.602Z"
      },
      {
        "duration": 45,
        "start_time": "2024-08-19T21:02:22.614Z"
      },
      {
        "duration": 11,
        "start_time": "2024-08-19T21:02:22.661Z"
      },
      {
        "duration": 88,
        "start_time": "2024-08-19T21:02:22.673Z"
      },
      {
        "duration": 37,
        "start_time": "2024-08-19T21:02:22.762Z"
      },
      {
        "duration": 21,
        "start_time": "2024-08-19T21:02:22.801Z"
      },
      {
        "duration": 38,
        "start_time": "2024-08-19T21:02:22.824Z"
      },
      {
        "duration": 20,
        "start_time": "2024-08-19T21:02:22.864Z"
      },
      {
        "duration": 26,
        "start_time": "2024-08-19T21:02:22.886Z"
      },
      {
        "duration": 29,
        "start_time": "2024-08-19T21:02:22.914Z"
      },
      {
        "duration": 7,
        "start_time": "2024-08-19T21:02:22.945Z"
      },
      {
        "duration": 26,
        "start_time": "2024-08-19T21:02:22.953Z"
      },
      {
        "duration": 16,
        "start_time": "2024-08-19T21:02:22.980Z"
      },
      {
        "duration": 38,
        "start_time": "2024-08-19T21:02:22.998Z"
      },
      {
        "duration": 5,
        "start_time": "2024-08-19T21:02:23.038Z"
      },
      {
        "duration": 44,
        "start_time": "2024-08-19T21:02:23.044Z"
      },
      {
        "duration": 58,
        "start_time": "2024-08-19T21:02:23.090Z"
      },
      {
        "duration": 42,
        "start_time": "2024-08-19T21:02:23.150Z"
      },
      {
        "duration": 9,
        "start_time": "2024-08-19T21:02:23.194Z"
      },
      {
        "duration": 37,
        "start_time": "2024-08-19T21:02:23.205Z"
      },
      {
        "duration": 8,
        "start_time": "2024-08-19T21:02:23.244Z"
      },
      {
        "duration": 15,
        "start_time": "2024-08-19T21:02:23.254Z"
      },
      {
        "duration": 163,
        "start_time": "2024-08-19T21:02:23.270Z"
      },
      {
        "duration": 7,
        "start_time": "2024-08-19T21:02:23.435Z"
      },
      {
        "duration": 31,
        "start_time": "2024-08-19T21:02:23.443Z"
      },
      {
        "duration": 41,
        "start_time": "2024-08-19T21:02:23.476Z"
      },
      {
        "duration": 451,
        "start_time": "2024-08-19T21:02:23.519Z"
      },
      {
        "duration": 4,
        "start_time": "2024-08-19T21:02:23.971Z"
      },
      {
        "duration": 26,
        "start_time": "2024-08-19T21:02:23.977Z"
      },
      {
        "duration": 37,
        "start_time": "2024-08-19T21:02:24.005Z"
      },
      {
        "duration": 30,
        "start_time": "2024-08-19T21:02:24.043Z"
      },
      {
        "duration": 0,
        "start_time": "2024-08-19T21:02:24.075Z"
      },
      {
        "duration": 0,
        "start_time": "2024-08-19T21:02:24.076Z"
      },
      {
        "duration": 0,
        "start_time": "2024-08-19T21:02:24.077Z"
      },
      {
        "duration": 0,
        "start_time": "2024-08-19T21:02:24.078Z"
      },
      {
        "duration": 0,
        "start_time": "2024-08-19T21:02:24.079Z"
      },
      {
        "duration": 0,
        "start_time": "2024-08-19T21:02:24.080Z"
      },
      {
        "duration": 52,
        "start_time": "2024-08-20T10:28:38.054Z"
      },
      {
        "duration": 1004,
        "start_time": "2024-08-20T10:28:40.831Z"
      },
      {
        "duration": 11,
        "start_time": "2024-08-20T10:28:41.837Z"
      },
      {
        "duration": 16,
        "start_time": "2024-08-20T10:28:41.850Z"
      },
      {
        "duration": 24,
        "start_time": "2024-08-20T10:28:41.867Z"
      },
      {
        "duration": 28,
        "start_time": "2024-08-20T10:28:41.893Z"
      },
      {
        "duration": 12,
        "start_time": "2024-08-20T10:28:41.922Z"
      },
      {
        "duration": 11,
        "start_time": "2024-08-20T10:28:41.935Z"
      },
      {
        "duration": 11,
        "start_time": "2024-08-20T10:28:41.947Z"
      },
      {
        "duration": 13,
        "start_time": "2024-08-20T10:28:41.960Z"
      },
      {
        "duration": 5,
        "start_time": "2024-08-20T10:28:41.975Z"
      },
      {
        "duration": 13,
        "start_time": "2024-08-20T10:28:41.981Z"
      },
      {
        "duration": 22,
        "start_time": "2024-08-20T10:28:41.996Z"
      },
      {
        "duration": 4,
        "start_time": "2024-08-20T10:28:42.019Z"
      },
      {
        "duration": 23,
        "start_time": "2024-08-20T10:28:42.025Z"
      },
      {
        "duration": 12,
        "start_time": "2024-08-20T10:28:42.049Z"
      },
      {
        "duration": 29,
        "start_time": "2024-08-20T10:28:42.062Z"
      },
      {
        "duration": 13,
        "start_time": "2024-08-20T10:28:42.092Z"
      },
      {
        "duration": 10,
        "start_time": "2024-08-20T10:28:42.107Z"
      },
      {
        "duration": 7,
        "start_time": "2024-08-20T10:28:42.119Z"
      },
      {
        "duration": 4,
        "start_time": "2024-08-20T10:28:42.127Z"
      },
      {
        "duration": 13,
        "start_time": "2024-08-20T10:28:42.132Z"
      },
      {
        "duration": 3,
        "start_time": "2024-08-20T10:28:42.146Z"
      },
      {
        "duration": 18,
        "start_time": "2024-08-20T10:28:42.150Z"
      },
      {
        "duration": 5,
        "start_time": "2024-08-20T10:28:42.170Z"
      },
      {
        "duration": 32,
        "start_time": "2024-08-20T10:28:42.176Z"
      },
      {
        "duration": 3,
        "start_time": "2024-08-20T10:28:42.209Z"
      },
      {
        "duration": 30,
        "start_time": "2024-08-20T10:28:42.213Z"
      },
      {
        "duration": 15,
        "start_time": "2024-08-20T10:28:42.246Z"
      },
      {
        "duration": 39,
        "start_time": "2024-08-20T10:28:42.262Z"
      },
      {
        "duration": 11,
        "start_time": "2024-08-20T10:28:42.302Z"
      },
      {
        "duration": 5,
        "start_time": "2024-08-20T10:28:42.314Z"
      },
      {
        "duration": 35,
        "start_time": "2024-08-20T10:28:42.321Z"
      },
      {
        "duration": 11,
        "start_time": "2024-08-20T10:28:42.358Z"
      },
      {
        "duration": 73,
        "start_time": "2024-08-20T10:28:42.370Z"
      },
      {
        "duration": 22,
        "start_time": "2024-08-20T10:28:42.444Z"
      },
      {
        "duration": 13,
        "start_time": "2024-08-20T10:28:42.468Z"
      },
      {
        "duration": 22,
        "start_time": "2024-08-20T10:28:42.482Z"
      },
      {
        "duration": 3,
        "start_time": "2024-08-20T10:28:42.505Z"
      },
      {
        "duration": 9,
        "start_time": "2024-08-20T10:28:42.509Z"
      },
      {
        "duration": 24,
        "start_time": "2024-08-20T10:28:42.519Z"
      },
      {
        "duration": 4,
        "start_time": "2024-08-20T10:28:42.545Z"
      },
      {
        "duration": 12,
        "start_time": "2024-08-20T10:28:42.551Z"
      },
      {
        "duration": 14,
        "start_time": "2024-08-20T10:28:42.564Z"
      },
      {
        "duration": 34,
        "start_time": "2024-08-20T10:28:42.580Z"
      },
      {
        "duration": 60,
        "start_time": "2024-08-20T10:28:42.615Z"
      },
      {
        "duration": 23,
        "start_time": "2024-08-20T10:28:42.676Z"
      },
      {
        "duration": 45,
        "start_time": "2024-08-20T10:28:42.701Z"
      },
      {
        "duration": 26,
        "start_time": "2024-08-20T10:28:42.747Z"
      },
      {
        "duration": 7,
        "start_time": "2024-08-20T10:28:42.774Z"
      },
      {
        "duration": 78,
        "start_time": "2024-08-20T10:28:42.782Z"
      },
      {
        "duration": 117,
        "start_time": "2024-08-20T10:28:42.861Z"
      },
      {
        "duration": 32,
        "start_time": "2024-08-20T10:28:42.979Z"
      },
      {
        "duration": 146,
        "start_time": "2024-08-20T10:28:43.012Z"
      },
      {
        "duration": 7,
        "start_time": "2024-08-20T10:28:43.159Z"
      },
      {
        "duration": 41,
        "start_time": "2024-08-20T10:28:43.167Z"
      },
      {
        "duration": 73,
        "start_time": "2024-08-20T10:28:43.210Z"
      },
      {
        "duration": 460,
        "start_time": "2024-08-20T10:28:43.284Z"
      },
      {
        "duration": 4,
        "start_time": "2024-08-20T10:28:43.746Z"
      },
      {
        "duration": 7,
        "start_time": "2024-08-20T10:28:43.751Z"
      },
      {
        "duration": 11,
        "start_time": "2024-08-20T10:28:43.760Z"
      },
      {
        "duration": 46,
        "start_time": "2024-08-20T10:28:43.773Z"
      },
      {
        "duration": 0,
        "start_time": "2024-08-20T10:28:43.820Z"
      },
      {
        "duration": 0,
        "start_time": "2024-08-20T10:28:43.821Z"
      },
      {
        "duration": 0,
        "start_time": "2024-08-20T10:28:43.822Z"
      },
      {
        "duration": 0,
        "start_time": "2024-08-20T10:28:43.823Z"
      },
      {
        "duration": 0,
        "start_time": "2024-08-20T10:28:43.824Z"
      },
      {
        "duration": 0,
        "start_time": "2024-08-20T10:28:43.826Z"
      },
      {
        "duration": 2,
        "start_time": "2024-08-20T10:33:03.961Z"
      },
      {
        "duration": 463,
        "start_time": "2024-08-20T10:33:03.964Z"
      },
      {
        "duration": 151,
        "start_time": "2024-08-20T10:33:04.429Z"
      },
      {
        "duration": 11,
        "start_time": "2024-08-20T10:33:04.581Z"
      },
      {
        "duration": 9,
        "start_time": "2024-08-20T10:33:04.593Z"
      },
      {
        "duration": 23,
        "start_time": "2024-08-20T10:33:04.603Z"
      },
      {
        "duration": 111,
        "start_time": "2024-08-20T10:33:04.628Z"
      },
      {
        "duration": 15,
        "start_time": "2024-08-20T10:33:04.741Z"
      },
      {
        "duration": 3,
        "start_time": "2024-08-20T10:33:04.758Z"
      },
      {
        "duration": 103,
        "start_time": "2024-08-20T10:33:04.762Z"
      },
      {
        "duration": 11,
        "start_time": "2024-08-20T10:33:04.866Z"
      },
      {
        "duration": 136,
        "start_time": "2024-08-20T10:33:04.878Z"
      },
      {
        "duration": 36,
        "start_time": "2024-08-20T10:33:05.016Z"
      },
      {
        "duration": 28,
        "start_time": "2024-08-20T10:33:05.054Z"
      },
      {
        "duration": 7,
        "start_time": "2024-08-20T10:33:05.083Z"
      },
      {
        "duration": 11,
        "start_time": "2024-08-20T10:33:05.092Z"
      },
      {
        "duration": 21,
        "start_time": "2024-08-20T10:33:05.105Z"
      },
      {
        "duration": 15,
        "start_time": "2024-08-20T10:33:05.127Z"
      },
      {
        "duration": 12,
        "start_time": "2024-08-20T10:33:05.144Z"
      },
      {
        "duration": 25,
        "start_time": "2024-08-20T10:33:05.157Z"
      },
      {
        "duration": 12,
        "start_time": "2024-08-20T10:33:05.184Z"
      },
      {
        "duration": 5,
        "start_time": "2024-08-20T10:33:05.198Z"
      },
      {
        "duration": 88,
        "start_time": "2024-08-20T10:33:05.205Z"
      },
      {
        "duration": 5,
        "start_time": "2024-08-20T10:33:05.296Z"
      },
      {
        "duration": 22,
        "start_time": "2024-08-20T10:33:05.302Z"
      },
      {
        "duration": 10,
        "start_time": "2024-08-20T10:33:05.326Z"
      },
      {
        "duration": 10,
        "start_time": "2024-08-20T10:33:05.338Z"
      },
      {
        "duration": 2,
        "start_time": "2024-08-20T10:33:05.350Z"
      },
      {
        "duration": 16,
        "start_time": "2024-08-20T10:33:05.354Z"
      },
      {
        "duration": 27,
        "start_time": "2024-08-20T10:33:05.372Z"
      },
      {
        "duration": 23,
        "start_time": "2024-08-20T10:33:05.400Z"
      },
      {
        "duration": 10,
        "start_time": "2024-08-20T10:33:05.424Z"
      },
      {
        "duration": 5,
        "start_time": "2024-08-20T10:33:05.435Z"
      },
      {
        "duration": 59,
        "start_time": "2024-08-20T10:33:05.441Z"
      },
      {
        "duration": 9,
        "start_time": "2024-08-20T10:33:05.502Z"
      },
      {
        "duration": 82,
        "start_time": "2024-08-20T10:33:05.513Z"
      },
      {
        "duration": 54,
        "start_time": "2024-08-20T10:33:05.596Z"
      },
      {
        "duration": 27,
        "start_time": "2024-08-20T10:33:05.651Z"
      },
      {
        "duration": 14,
        "start_time": "2024-08-20T10:33:05.679Z"
      },
      {
        "duration": 8,
        "start_time": "2024-08-20T10:33:05.695Z"
      },
      {
        "duration": 29,
        "start_time": "2024-08-20T10:33:05.704Z"
      },
      {
        "duration": 27,
        "start_time": "2024-08-20T10:33:05.735Z"
      },
      {
        "duration": 6,
        "start_time": "2024-08-20T10:33:05.764Z"
      },
      {
        "duration": 28,
        "start_time": "2024-08-20T10:33:05.771Z"
      },
      {
        "duration": 40,
        "start_time": "2024-08-20T10:33:05.801Z"
      },
      {
        "duration": 29,
        "start_time": "2024-08-20T10:33:05.842Z"
      },
      {
        "duration": 9,
        "start_time": "2024-08-20T10:33:05.872Z"
      },
      {
        "duration": 17,
        "start_time": "2024-08-20T10:33:05.882Z"
      },
      {
        "duration": 115,
        "start_time": "2024-08-20T10:33:05.900Z"
      },
      {
        "duration": 25,
        "start_time": "2024-08-20T10:33:06.016Z"
      },
      {
        "duration": 6,
        "start_time": "2024-08-20T10:33:06.043Z"
      },
      {
        "duration": 43,
        "start_time": "2024-08-20T10:33:06.050Z"
      },
      {
        "duration": 11,
        "start_time": "2024-08-20T10:33:06.094Z"
      },
      {
        "duration": 6,
        "start_time": "2024-08-20T10:33:06.106Z"
      },
      {
        "duration": 149,
        "start_time": "2024-08-20T10:33:06.114Z"
      },
      {
        "duration": 5,
        "start_time": "2024-08-20T10:33:06.265Z"
      },
      {
        "duration": 30,
        "start_time": "2024-08-20T10:33:06.272Z"
      },
      {
        "duration": 20,
        "start_time": "2024-08-20T10:33:06.304Z"
      },
      {
        "duration": 411,
        "start_time": "2024-08-20T10:33:06.325Z"
      },
      {
        "duration": 4,
        "start_time": "2024-08-20T10:33:06.737Z"
      },
      {
        "duration": 6,
        "start_time": "2024-08-20T10:33:06.742Z"
      },
      {
        "duration": 9,
        "start_time": "2024-08-20T10:33:06.750Z"
      },
      {
        "duration": 144,
        "start_time": "2024-08-20T10:33:06.760Z"
      },
      {
        "duration": 939,
        "start_time": "2024-08-20T10:33:06.906Z"
      },
      {
        "duration": 258,
        "start_time": "2024-08-20T10:33:07.846Z"
      },
      {
        "duration": 10,
        "start_time": "2024-08-20T10:33:08.105Z"
      },
      {
        "duration": 250,
        "start_time": "2024-08-20T10:33:08.116Z"
      },
      {
        "duration": 23,
        "start_time": "2024-08-20T10:33:08.367Z"
      },
      {
        "duration": 5,
        "start_time": "2024-08-20T10:33:08.404Z"
      },
      {
        "duration": 73,
        "start_time": "2024-08-20T10:37:15.524Z"
      },
      {
        "duration": 2,
        "start_time": "2024-08-20T10:38:16.546Z"
      },
      {
        "duration": 18,
        "start_time": "2024-08-20T10:38:16.550Z"
      },
      {
        "duration": 163,
        "start_time": "2024-08-20T10:38:16.570Z"
      },
      {
        "duration": 11,
        "start_time": "2024-08-20T10:38:16.734Z"
      },
      {
        "duration": 36,
        "start_time": "2024-08-20T10:38:16.747Z"
      },
      {
        "duration": 11,
        "start_time": "2024-08-20T10:38:16.784Z"
      },
      {
        "duration": 80,
        "start_time": "2024-08-20T10:38:16.797Z"
      },
      {
        "duration": 13,
        "start_time": "2024-08-20T10:38:16.878Z"
      },
      {
        "duration": 4,
        "start_time": "2024-08-20T10:38:16.892Z"
      },
      {
        "duration": 140,
        "start_time": "2024-08-20T10:38:16.897Z"
      },
      {
        "duration": 6,
        "start_time": "2024-08-20T10:38:17.039Z"
      },
      {
        "duration": 7,
        "start_time": "2024-08-20T10:38:17.046Z"
      },
      {
        "duration": 10,
        "start_time": "2024-08-20T10:38:17.054Z"
      },
      {
        "duration": 16,
        "start_time": "2024-08-20T10:38:17.065Z"
      },
      {
        "duration": 4,
        "start_time": "2024-08-20T10:38:17.082Z"
      },
      {
        "duration": 9,
        "start_time": "2024-08-20T10:38:17.087Z"
      },
      {
        "duration": 12,
        "start_time": "2024-08-20T10:38:17.098Z"
      },
      {
        "duration": 12,
        "start_time": "2024-08-20T10:38:17.112Z"
      },
      {
        "duration": 27,
        "start_time": "2024-08-20T10:38:17.126Z"
      },
      {
        "duration": 12,
        "start_time": "2024-08-20T10:38:17.155Z"
      },
      {
        "duration": 11,
        "start_time": "2024-08-20T10:38:17.168Z"
      },
      {
        "duration": 12,
        "start_time": "2024-08-20T10:38:17.181Z"
      },
      {
        "duration": 11,
        "start_time": "2024-08-20T10:38:17.195Z"
      },
      {
        "duration": 47,
        "start_time": "2024-08-20T10:38:17.209Z"
      },
      {
        "duration": 76,
        "start_time": "2024-08-20T10:38:17.258Z"
      },
      {
        "duration": 23,
        "start_time": "2024-08-20T10:38:17.335Z"
      },
      {
        "duration": 9,
        "start_time": "2024-08-20T10:38:17.359Z"
      },
      {
        "duration": 11,
        "start_time": "2024-08-20T10:38:17.370Z"
      },
      {
        "duration": 2,
        "start_time": "2024-08-20T10:38:17.384Z"
      },
      {
        "duration": 4,
        "start_time": "2024-08-20T10:38:17.387Z"
      },
      {
        "duration": 10,
        "start_time": "2024-08-20T10:38:17.392Z"
      },
      {
        "duration": 22,
        "start_time": "2024-08-20T10:38:17.404Z"
      },
      {
        "duration": 10,
        "start_time": "2024-08-20T10:38:17.427Z"
      },
      {
        "duration": 12,
        "start_time": "2024-08-20T10:38:17.438Z"
      },
      {
        "duration": 68,
        "start_time": "2024-08-20T10:38:17.452Z"
      },
      {
        "duration": 10,
        "start_time": "2024-08-20T10:38:17.521Z"
      },
      {
        "duration": 48,
        "start_time": "2024-08-20T10:38:17.532Z"
      },
      {
        "duration": 32,
        "start_time": "2024-08-20T10:38:17.581Z"
      },
      {
        "duration": 14,
        "start_time": "2024-08-20T10:38:17.614Z"
      },
      {
        "duration": 6,
        "start_time": "2024-08-20T10:38:17.629Z"
      },
      {
        "duration": 17,
        "start_time": "2024-08-20T10:38:17.636Z"
      },
      {
        "duration": 12,
        "start_time": "2024-08-20T10:38:17.654Z"
      },
      {
        "duration": 47,
        "start_time": "2024-08-20T10:38:17.668Z"
      },
      {
        "duration": 6,
        "start_time": "2024-08-20T10:38:17.716Z"
      },
      {
        "duration": 12,
        "start_time": "2024-08-20T10:38:17.723Z"
      },
      {
        "duration": 29,
        "start_time": "2024-08-20T10:38:17.736Z"
      },
      {
        "duration": 6,
        "start_time": "2024-08-20T10:38:17.766Z"
      },
      {
        "duration": 4,
        "start_time": "2024-08-20T10:38:17.773Z"
      },
      {
        "duration": 15,
        "start_time": "2024-08-20T10:38:17.778Z"
      },
      {
        "duration": 108,
        "start_time": "2024-08-20T10:38:17.795Z"
      },
      {
        "duration": 67,
        "start_time": "2024-08-20T10:38:17.904Z"
      },
      {
        "duration": 65,
        "start_time": "2024-08-20T10:38:17.973Z"
      },
      {
        "duration": 31,
        "start_time": "2024-08-20T10:38:18.040Z"
      },
      {
        "duration": 6,
        "start_time": "2024-08-20T10:38:18.073Z"
      },
      {
        "duration": 13,
        "start_time": "2024-08-20T10:38:18.080Z"
      },
      {
        "duration": 132,
        "start_time": "2024-08-20T10:38:18.095Z"
      },
      {
        "duration": 5,
        "start_time": "2024-08-20T10:38:18.229Z"
      },
      {
        "duration": 16,
        "start_time": "2024-08-20T10:38:18.235Z"
      },
      {
        "duration": 18,
        "start_time": "2024-08-20T10:38:18.253Z"
      },
      {
        "duration": 361,
        "start_time": "2024-08-20T10:38:18.272Z"
      },
      {
        "duration": 4,
        "start_time": "2024-08-20T10:38:18.634Z"
      },
      {
        "duration": 8,
        "start_time": "2024-08-20T10:38:18.639Z"
      },
      {
        "duration": 84,
        "start_time": "2024-08-20T10:38:18.648Z"
      },
      {
        "duration": 135,
        "start_time": "2024-08-20T10:38:18.734Z"
      },
      {
        "duration": 867,
        "start_time": "2024-08-20T10:38:18.871Z"
      },
      {
        "duration": 151,
        "start_time": "2024-08-20T10:38:19.739Z"
      },
      {
        "duration": 16,
        "start_time": "2024-08-20T10:38:19.891Z"
      },
      {
        "duration": 197,
        "start_time": "2024-08-20T10:38:19.908Z"
      },
      {
        "duration": 22,
        "start_time": "2024-08-20T10:38:20.107Z"
      },
      {
        "duration": 6,
        "start_time": "2024-08-20T10:38:20.130Z"
      },
      {
        "duration": 72,
        "start_time": "2024-08-20T10:41:57.535Z"
      },
      {
        "duration": 2,
        "start_time": "2024-08-20T11:01:36.409Z"
      },
      {
        "duration": 11,
        "start_time": "2024-08-20T11:01:36.414Z"
      },
      {
        "duration": 150,
        "start_time": "2024-08-20T11:01:36.426Z"
      },
      {
        "duration": 11,
        "start_time": "2024-08-20T11:01:36.577Z"
      },
      {
        "duration": 8,
        "start_time": "2024-08-20T11:01:36.590Z"
      },
      {
        "duration": 12,
        "start_time": "2024-08-20T11:01:36.599Z"
      },
      {
        "duration": 19,
        "start_time": "2024-08-20T11:01:36.612Z"
      },
      {
        "duration": 95,
        "start_time": "2024-08-20T11:01:36.633Z"
      },
      {
        "duration": 4,
        "start_time": "2024-08-20T11:01:36.729Z"
      },
      {
        "duration": 5,
        "start_time": "2024-08-20T11:01:36.734Z"
      },
      {
        "duration": 59,
        "start_time": "2024-08-20T11:01:36.742Z"
      },
      {
        "duration": 6,
        "start_time": "2024-08-20T11:01:36.802Z"
      },
      {
        "duration": 12,
        "start_time": "2024-08-20T11:01:36.809Z"
      },
      {
        "duration": 18,
        "start_time": "2024-08-20T11:01:36.822Z"
      },
      {
        "duration": 106,
        "start_time": "2024-08-20T11:01:36.842Z"
      },
      {
        "duration": 234,
        "start_time": "2024-08-20T11:01:36.950Z"
      },
      {
        "duration": 20,
        "start_time": "2024-08-20T11:01:37.185Z"
      },
      {
        "duration": 11,
        "start_time": "2024-08-20T11:01:37.207Z"
      },
      {
        "duration": 11,
        "start_time": "2024-08-20T11:01:37.219Z"
      },
      {
        "duration": 23,
        "start_time": "2024-08-20T11:01:37.232Z"
      },
      {
        "duration": 8,
        "start_time": "2024-08-20T11:01:37.257Z"
      },
      {
        "duration": 7,
        "start_time": "2024-08-20T11:01:37.266Z"
      },
      {
        "duration": 31,
        "start_time": "2024-08-20T11:01:37.275Z"
      },
      {
        "duration": 39,
        "start_time": "2024-08-20T11:01:37.307Z"
      },
      {
        "duration": 108,
        "start_time": "2024-08-20T11:01:37.347Z"
      },
      {
        "duration": 54,
        "start_time": "2024-08-20T11:01:37.456Z"
      },
      {
        "duration": 6,
        "start_time": "2024-08-20T11:01:37.511Z"
      },
      {
        "duration": 24,
        "start_time": "2024-08-20T11:01:37.519Z"
      },
      {
        "duration": 2,
        "start_time": "2024-08-20T11:01:37.547Z"
      },
      {
        "duration": 29,
        "start_time": "2024-08-20T11:01:37.550Z"
      },
      {
        "duration": 13,
        "start_time": "2024-08-20T11:01:37.580Z"
      },
      {
        "duration": 29,
        "start_time": "2024-08-20T11:01:37.594Z"
      },
      {
        "duration": 15,
        "start_time": "2024-08-20T11:01:37.624Z"
      },
      {
        "duration": 22,
        "start_time": "2024-08-20T11:01:37.640Z"
      },
      {
        "duration": 46,
        "start_time": "2024-08-20T11:01:37.664Z"
      },
      {
        "duration": 10,
        "start_time": "2024-08-20T11:01:37.711Z"
      },
      {
        "duration": 61,
        "start_time": "2024-08-20T11:01:37.722Z"
      },
      {
        "duration": 21,
        "start_time": "2024-08-20T11:01:37.784Z"
      },
      {
        "duration": 24,
        "start_time": "2024-08-20T11:01:37.806Z"
      },
      {
        "duration": 16,
        "start_time": "2024-08-20T11:01:37.832Z"
      },
      {
        "duration": 5,
        "start_time": "2024-08-20T11:01:37.850Z"
      },
      {
        "duration": 28,
        "start_time": "2024-08-20T11:01:37.857Z"
      },
      {
        "duration": 64,
        "start_time": "2024-08-20T11:01:37.886Z"
      },
      {
        "duration": 5,
        "start_time": "2024-08-20T11:01:37.951Z"
      },
      {
        "duration": 21,
        "start_time": "2024-08-20T11:01:37.957Z"
      },
      {
        "duration": 13,
        "start_time": "2024-08-20T11:01:37.979Z"
      },
      {
        "duration": 27,
        "start_time": "2024-08-20T11:01:37.993Z"
      },
      {
        "duration": 22,
        "start_time": "2024-08-20T11:01:38.021Z"
      },
      {
        "duration": 47,
        "start_time": "2024-08-20T11:01:38.045Z"
      },
      {
        "duration": 47,
        "start_time": "2024-08-20T11:01:38.093Z"
      },
      {
        "duration": 25,
        "start_time": "2024-08-20T11:01:38.141Z"
      },
      {
        "duration": 17,
        "start_time": "2024-08-20T11:01:38.167Z"
      },
      {
        "duration": 144,
        "start_time": "2024-08-20T11:01:38.186Z"
      },
      {
        "duration": 156,
        "start_time": "2024-08-20T11:01:38.331Z"
      },
      {
        "duration": 86,
        "start_time": "2024-08-20T11:01:38.489Z"
      },
      {
        "duration": 180,
        "start_time": "2024-08-20T11:01:38.577Z"
      },
      {
        "duration": 6,
        "start_time": "2024-08-20T11:01:38.759Z"
      },
      {
        "duration": 80,
        "start_time": "2024-08-20T11:01:38.766Z"
      },
      {
        "duration": 82,
        "start_time": "2024-08-20T11:01:38.847Z"
      },
      {
        "duration": 388,
        "start_time": "2024-08-20T11:01:38.931Z"
      },
      {
        "duration": 5,
        "start_time": "2024-08-20T11:01:39.320Z"
      },
      {
        "duration": 15,
        "start_time": "2024-08-20T11:01:39.326Z"
      },
      {
        "duration": 14,
        "start_time": "2024-08-20T11:01:39.343Z"
      },
      {
        "duration": 128,
        "start_time": "2024-08-20T11:01:39.359Z"
      },
      {
        "duration": 156,
        "start_time": "2024-08-20T11:01:39.488Z"
      },
      {
        "duration": 793,
        "start_time": "2024-08-20T11:01:39.646Z"
      },
      {
        "duration": 198,
        "start_time": "2024-08-20T11:01:40.441Z"
      },
      {
        "duration": 5,
        "start_time": "2024-08-20T11:01:40.640Z"
      },
      {
        "duration": 230,
        "start_time": "2024-08-20T11:01:40.646Z"
      },
      {
        "duration": 27,
        "start_time": "2024-08-20T11:01:40.877Z"
      },
      {
        "duration": 42,
        "start_time": "2024-08-20T11:01:40.905Z"
      },
      {
        "duration": 3,
        "start_time": "2024-08-20T11:22:36.511Z"
      },
      {
        "duration": 7,
        "start_time": "2024-08-20T11:22:36.517Z"
      },
      {
        "duration": 170,
        "start_time": "2024-08-20T11:22:36.526Z"
      },
      {
        "duration": 18,
        "start_time": "2024-08-20T11:22:36.697Z"
      },
      {
        "duration": 12,
        "start_time": "2024-08-20T11:22:36.717Z"
      },
      {
        "duration": 17,
        "start_time": "2024-08-20T11:22:36.730Z"
      },
      {
        "duration": 28,
        "start_time": "2024-08-20T11:22:36.748Z"
      },
      {
        "duration": 44,
        "start_time": "2024-08-20T11:22:36.778Z"
      },
      {
        "duration": 4,
        "start_time": "2024-08-20T11:22:36.825Z"
      },
      {
        "duration": 86,
        "start_time": "2024-08-20T11:22:36.830Z"
      },
      {
        "duration": 7,
        "start_time": "2024-08-20T11:22:36.918Z"
      },
      {
        "duration": 60,
        "start_time": "2024-08-20T11:22:36.927Z"
      },
      {
        "duration": 13,
        "start_time": "2024-08-20T11:22:36.988Z"
      },
      {
        "duration": 27,
        "start_time": "2024-08-20T11:22:37.003Z"
      },
      {
        "duration": 5,
        "start_time": "2024-08-20T11:22:37.031Z"
      },
      {
        "duration": 137,
        "start_time": "2024-08-20T11:22:37.037Z"
      },
      {
        "duration": 20,
        "start_time": "2024-08-20T11:22:37.175Z"
      },
      {
        "duration": 13,
        "start_time": "2024-08-20T11:22:37.196Z"
      },
      {
        "duration": 14,
        "start_time": "2024-08-20T11:22:37.211Z"
      },
      {
        "duration": 38,
        "start_time": "2024-08-20T11:22:37.226Z"
      },
      {
        "duration": 12,
        "start_time": "2024-08-20T11:22:37.266Z"
      },
      {
        "duration": 5,
        "start_time": "2024-08-20T11:22:37.279Z"
      },
      {
        "duration": 9,
        "start_time": "2024-08-20T11:22:37.285Z"
      },
      {
        "duration": 29,
        "start_time": "2024-08-20T11:22:37.301Z"
      },
      {
        "duration": 5,
        "start_time": "2024-08-20T11:22:37.333Z"
      },
      {
        "duration": 39,
        "start_time": "2024-08-20T11:22:37.340Z"
      },
      {
        "duration": 7,
        "start_time": "2024-08-20T11:22:37.381Z"
      },
      {
        "duration": 21,
        "start_time": "2024-08-20T11:22:37.390Z"
      },
      {
        "duration": 3,
        "start_time": "2024-08-20T11:22:37.413Z"
      },
      {
        "duration": 16,
        "start_time": "2024-08-20T11:22:37.418Z"
      },
      {
        "duration": 16,
        "start_time": "2024-08-20T11:22:37.436Z"
      },
      {
        "duration": 97,
        "start_time": "2024-08-20T11:22:37.453Z"
      },
      {
        "duration": 28,
        "start_time": "2024-08-20T11:22:37.551Z"
      },
      {
        "duration": 24,
        "start_time": "2024-08-20T11:22:37.581Z"
      },
      {
        "duration": 51,
        "start_time": "2024-08-20T11:22:37.607Z"
      },
      {
        "duration": 17,
        "start_time": "2024-08-20T11:22:37.660Z"
      },
      {
        "duration": 73,
        "start_time": "2024-08-20T11:22:37.678Z"
      },
      {
        "duration": 22,
        "start_time": "2024-08-20T11:22:37.752Z"
      },
      {
        "duration": 14,
        "start_time": "2024-08-20T11:22:37.776Z"
      },
      {
        "duration": 18,
        "start_time": "2024-08-20T11:22:37.791Z"
      },
      {
        "duration": 14,
        "start_time": "2024-08-20T11:22:37.811Z"
      },
      {
        "duration": 8,
        "start_time": "2024-08-20T11:22:37.827Z"
      },
      {
        "duration": 24,
        "start_time": "2024-08-20T11:22:37.836Z"
      },
      {
        "duration": 6,
        "start_time": "2024-08-20T11:22:37.861Z"
      },
      {
        "duration": 38,
        "start_time": "2024-08-20T11:22:37.868Z"
      },
      {
        "duration": 9,
        "start_time": "2024-08-20T11:22:37.908Z"
      },
      {
        "duration": 9,
        "start_time": "2024-08-20T11:22:37.920Z"
      },
      {
        "duration": 3,
        "start_time": "2024-08-20T11:22:37.930Z"
      },
      {
        "duration": 13,
        "start_time": "2024-08-20T11:22:37.935Z"
      },
      {
        "duration": 134,
        "start_time": "2024-08-20T11:22:37.950Z"
      },
      {
        "duration": 41,
        "start_time": "2024-08-20T11:22:38.086Z"
      },
      {
        "duration": 9,
        "start_time": "2024-08-20T11:22:38.129Z"
      },
      {
        "duration": 28,
        "start_time": "2024-08-20T11:22:38.140Z"
      },
      {
        "duration": 37,
        "start_time": "2024-08-20T11:22:38.169Z"
      },
      {
        "duration": 20,
        "start_time": "2024-08-20T11:22:38.208Z"
      },
      {
        "duration": 146,
        "start_time": "2024-08-20T11:22:38.230Z"
      },
      {
        "duration": 7,
        "start_time": "2024-08-20T11:22:38.378Z"
      },
      {
        "duration": 40,
        "start_time": "2024-08-20T11:22:38.387Z"
      },
      {
        "duration": 28,
        "start_time": "2024-08-20T11:22:38.429Z"
      },
      {
        "duration": 404,
        "start_time": "2024-08-20T11:22:38.458Z"
      },
      {
        "duration": 5,
        "start_time": "2024-08-20T11:22:38.864Z"
      },
      {
        "duration": 43,
        "start_time": "2024-08-20T11:22:38.870Z"
      },
      {
        "duration": 62,
        "start_time": "2024-08-20T11:22:38.915Z"
      },
      {
        "duration": 21,
        "start_time": "2024-08-20T11:22:38.978Z"
      },
      {
        "duration": 180,
        "start_time": "2024-08-20T11:22:39.001Z"
      },
      {
        "duration": 811,
        "start_time": "2024-08-20T11:22:39.182Z"
      },
      {
        "duration": 169,
        "start_time": "2024-08-20T11:22:39.995Z"
      },
      {
        "duration": 4,
        "start_time": "2024-08-20T11:22:40.166Z"
      },
      {
        "duration": 220,
        "start_time": "2024-08-20T11:22:40.175Z"
      },
      {
        "duration": 45,
        "start_time": "2024-08-20T11:22:40.397Z"
      },
      {
        "duration": 6,
        "start_time": "2024-08-20T11:22:40.443Z"
      },
      {
        "duration": 4,
        "start_time": "2024-08-20T16:09:50.437Z"
      },
      {
        "duration": 1474,
        "start_time": "2024-08-20T16:09:50.444Z"
      },
      {
        "duration": 308,
        "start_time": "2024-08-20T16:09:51.920Z"
      },
      {
        "duration": 14,
        "start_time": "2024-08-20T16:09:52.230Z"
      },
      {
        "duration": 44,
        "start_time": "2024-08-20T16:09:52.247Z"
      },
      {
        "duration": 43,
        "start_time": "2024-08-20T16:09:52.293Z"
      },
      {
        "duration": 32,
        "start_time": "2024-08-20T16:09:52.337Z"
      },
      {
        "duration": 48,
        "start_time": "2024-08-20T16:09:52.371Z"
      },
      {
        "duration": 65,
        "start_time": "2024-08-20T16:09:52.421Z"
      },
      {
        "duration": 39,
        "start_time": "2024-08-20T16:09:52.488Z"
      },
      {
        "duration": 20,
        "start_time": "2024-08-20T16:09:52.529Z"
      },
      {
        "duration": 43,
        "start_time": "2024-08-20T16:09:52.551Z"
      },
      {
        "duration": 29,
        "start_time": "2024-08-20T16:09:52.596Z"
      },
      {
        "duration": 34,
        "start_time": "2024-08-20T16:09:52.629Z"
      },
      {
        "duration": 53,
        "start_time": "2024-08-20T16:09:52.665Z"
      },
      {
        "duration": 17,
        "start_time": "2024-08-20T16:09:52.719Z"
      },
      {
        "duration": 16,
        "start_time": "2024-08-20T16:09:52.738Z"
      },
      {
        "duration": 113,
        "start_time": "2024-08-20T16:09:52.756Z"
      },
      {
        "duration": 39,
        "start_time": "2024-08-20T16:09:52.870Z"
      },
      {
        "duration": 26,
        "start_time": "2024-08-20T16:09:52.911Z"
      },
      {
        "duration": 10,
        "start_time": "2024-08-20T16:09:52.938Z"
      },
      {
        "duration": 29,
        "start_time": "2024-08-20T16:09:52.950Z"
      },
      {
        "duration": 10,
        "start_time": "2024-08-20T16:09:52.980Z"
      },
      {
        "duration": 76,
        "start_time": "2024-08-20T16:09:52.992Z"
      },
      {
        "duration": 6,
        "start_time": "2024-08-20T16:09:53.069Z"
      },
      {
        "duration": 26,
        "start_time": "2024-08-20T16:09:53.077Z"
      },
      {
        "duration": 8,
        "start_time": "2024-08-20T16:09:53.104Z"
      },
      {
        "duration": 34,
        "start_time": "2024-08-20T16:09:53.114Z"
      },
      {
        "duration": 2,
        "start_time": "2024-08-20T16:09:53.150Z"
      },
      {
        "duration": 12,
        "start_time": "2024-08-20T16:09:53.154Z"
      },
      {
        "duration": 9,
        "start_time": "2024-08-20T16:09:53.168Z"
      },
      {
        "duration": 46,
        "start_time": "2024-08-20T16:09:53.179Z"
      },
      {
        "duration": 29,
        "start_time": "2024-08-20T16:09:53.227Z"
      },
      {
        "duration": 6,
        "start_time": "2024-08-20T16:09:53.258Z"
      },
      {
        "duration": 47,
        "start_time": "2024-08-20T16:09:53.266Z"
      },
      {
        "duration": 35,
        "start_time": "2024-08-20T16:09:53.315Z"
      },
      {
        "duration": 59,
        "start_time": "2024-08-20T16:09:53.351Z"
      },
      {
        "duration": 48,
        "start_time": "2024-08-20T16:09:53.412Z"
      },
      {
        "duration": 20,
        "start_time": "2024-08-20T16:09:53.462Z"
      },
      {
        "duration": 6,
        "start_time": "2024-08-20T16:09:53.484Z"
      },
      {
        "duration": 8,
        "start_time": "2024-08-20T16:09:53.497Z"
      },
      {
        "duration": 20,
        "start_time": "2024-08-20T16:09:53.507Z"
      },
      {
        "duration": 46,
        "start_time": "2024-08-20T16:09:53.545Z"
      },
      {
        "duration": 8,
        "start_time": "2024-08-20T16:09:53.593Z"
      },
      {
        "duration": 10,
        "start_time": "2024-08-20T16:09:53.603Z"
      },
      {
        "duration": 35,
        "start_time": "2024-08-20T16:09:53.614Z"
      },
      {
        "duration": 28,
        "start_time": "2024-08-20T16:09:53.651Z"
      },
      {
        "duration": 14,
        "start_time": "2024-08-20T16:09:53.680Z"
      },
      {
        "duration": 27,
        "start_time": "2024-08-20T16:09:53.696Z"
      },
      {
        "duration": 99,
        "start_time": "2024-08-20T16:09:53.726Z"
      },
      {
        "duration": 45,
        "start_time": "2024-08-20T16:09:53.827Z"
      },
      {
        "duration": 10,
        "start_time": "2024-08-20T16:09:53.874Z"
      },
      {
        "duration": 28,
        "start_time": "2024-08-20T16:09:53.885Z"
      },
      {
        "duration": 33,
        "start_time": "2024-08-20T16:09:53.914Z"
      },
      {
        "duration": 9,
        "start_time": "2024-08-20T16:09:53.948Z"
      },
      {
        "duration": 227,
        "start_time": "2024-08-20T16:09:53.958Z"
      },
      {
        "duration": 7,
        "start_time": "2024-08-20T16:09:54.187Z"
      },
      {
        "duration": 29,
        "start_time": "2024-08-20T16:09:54.195Z"
      },
      {
        "duration": 86,
        "start_time": "2024-08-20T16:09:54.226Z"
      },
      {
        "duration": 500,
        "start_time": "2024-08-20T16:09:54.314Z"
      },
      {
        "duration": 6,
        "start_time": "2024-08-20T16:09:54.816Z"
      },
      {
        "duration": 17,
        "start_time": "2024-08-20T16:09:54.824Z"
      },
      {
        "duration": 9,
        "start_time": "2024-08-20T16:09:54.846Z"
      },
      {
        "duration": 12,
        "start_time": "2024-08-20T16:09:54.856Z"
      },
      {
        "duration": 166,
        "start_time": "2024-08-20T16:09:54.870Z"
      },
      {
        "duration": 961,
        "start_time": "2024-08-20T16:09:55.038Z"
      },
      {
        "duration": 194,
        "start_time": "2024-08-20T16:09:56.001Z"
      },
      {
        "duration": 7,
        "start_time": "2024-08-20T16:09:56.197Z"
      },
      {
        "duration": 247,
        "start_time": "2024-08-20T16:09:56.205Z"
      },
      {
        "duration": 26,
        "start_time": "2024-08-20T16:09:56.454Z"
      },
      {
        "duration": 14,
        "start_time": "2024-08-20T16:09:56.482Z"
      },
      {
        "duration": 5,
        "start_time": "2024-08-20T16:19:07.471Z"
      },
      {
        "duration": 4,
        "start_time": "2024-08-20T16:19:17.108Z"
      },
      {
        "duration": 1246,
        "start_time": "2024-08-20T16:19:17.114Z"
      },
      {
        "duration": 181,
        "start_time": "2024-08-20T16:19:18.362Z"
      },
      {
        "duration": 16,
        "start_time": "2024-08-20T16:19:18.545Z"
      },
      {
        "duration": 10,
        "start_time": "2024-08-20T16:19:18.563Z"
      },
      {
        "duration": 21,
        "start_time": "2024-08-20T16:19:18.575Z"
      },
      {
        "duration": 51,
        "start_time": "2024-08-20T16:19:18.599Z"
      },
      {
        "duration": 22,
        "start_time": "2024-08-20T16:19:18.652Z"
      },
      {
        "duration": 4,
        "start_time": "2024-08-20T16:19:18.676Z"
      },
      {
        "duration": 3,
        "start_time": "2024-08-20T16:19:18.681Z"
      },
      {
        "duration": 3,
        "start_time": "2024-08-20T16:19:18.686Z"
      },
      {
        "duration": 6,
        "start_time": "2024-08-20T16:19:18.690Z"
      },
      {
        "duration": 53,
        "start_time": "2024-08-20T16:19:18.698Z"
      },
      {
        "duration": 20,
        "start_time": "2024-08-20T16:19:18.753Z"
      },
      {
        "duration": 5,
        "start_time": "2024-08-20T16:19:18.774Z"
      },
      {
        "duration": 10,
        "start_time": "2024-08-20T16:19:18.781Z"
      },
      {
        "duration": 15,
        "start_time": "2024-08-20T16:19:18.793Z"
      },
      {
        "duration": 46,
        "start_time": "2024-08-20T16:19:18.809Z"
      },
      {
        "duration": 13,
        "start_time": "2024-08-20T16:19:18.856Z"
      },
      {
        "duration": 15,
        "start_time": "2024-08-20T16:19:18.871Z"
      },
      {
        "duration": 10,
        "start_time": "2024-08-20T16:19:18.888Z"
      },
      {
        "duration": 4,
        "start_time": "2024-08-20T16:19:18.900Z"
      },
      {
        "duration": 47,
        "start_time": "2024-08-20T16:19:18.906Z"
      },
      {
        "duration": 25,
        "start_time": "2024-08-20T16:19:18.957Z"
      },
      {
        "duration": 5,
        "start_time": "2024-08-20T16:19:18.984Z"
      },
      {
        "duration": 23,
        "start_time": "2024-08-20T16:19:18.991Z"
      },
      {
        "duration": 32,
        "start_time": "2024-08-20T16:19:19.016Z"
      },
      {
        "duration": 13,
        "start_time": "2024-08-20T16:19:19.050Z"
      },
      {
        "duration": 2,
        "start_time": "2024-08-20T16:19:19.065Z"
      },
      {
        "duration": 13,
        "start_time": "2024-08-20T16:19:19.069Z"
      },
      {
        "duration": 9,
        "start_time": "2024-08-20T16:19:19.084Z"
      },
      {
        "duration": 67,
        "start_time": "2024-08-20T16:19:19.095Z"
      },
      {
        "duration": 21,
        "start_time": "2024-08-20T16:19:19.164Z"
      },
      {
        "duration": 9,
        "start_time": "2024-08-20T16:19:19.187Z"
      },
      {
        "duration": 78,
        "start_time": "2024-08-20T16:19:19.198Z"
      },
      {
        "duration": 19,
        "start_time": "2024-08-20T16:19:19.278Z"
      },
      {
        "duration": 91,
        "start_time": "2024-08-20T16:19:19.299Z"
      },
      {
        "duration": 33,
        "start_time": "2024-08-20T16:19:19.392Z"
      },
      {
        "duration": 29,
        "start_time": "2024-08-20T16:19:19.427Z"
      },
      {
        "duration": 14,
        "start_time": "2024-08-20T16:19:19.458Z"
      },
      {
        "duration": 13,
        "start_time": "2024-08-20T16:19:19.474Z"
      },
      {
        "duration": 12,
        "start_time": "2024-08-20T16:19:19.489Z"
      },
      {
        "duration": 57,
        "start_time": "2024-08-20T16:19:19.503Z"
      },
      {
        "duration": 8,
        "start_time": "2024-08-20T16:19:19.562Z"
      },
      {
        "duration": 15,
        "start_time": "2024-08-20T16:19:19.571Z"
      },
      {
        "duration": 4,
        "start_time": "2024-08-20T16:19:19.588Z"
      },
      {
        "duration": 12,
        "start_time": "2024-08-20T16:19:19.594Z"
      },
      {
        "duration": 4,
        "start_time": "2024-08-20T16:19:19.609Z"
      },
      {
        "duration": 50,
        "start_time": "2024-08-20T16:19:19.615Z"
      },
      {
        "duration": 63,
        "start_time": "2024-08-20T16:19:19.667Z"
      },
      {
        "duration": 35,
        "start_time": "2024-08-20T16:19:19.745Z"
      },
      {
        "duration": 8,
        "start_time": "2024-08-20T16:19:19.782Z"
      },
      {
        "duration": 4,
        "start_time": "2024-08-20T16:19:19.791Z"
      },
      {
        "duration": 52,
        "start_time": "2024-08-20T16:19:19.797Z"
      },
      {
        "duration": 7,
        "start_time": "2024-08-20T16:19:19.851Z"
      },
      {
        "duration": 8,
        "start_time": "2024-08-20T16:19:19.860Z"
      },
      {
        "duration": 192,
        "start_time": "2024-08-20T16:19:19.869Z"
      },
      {
        "duration": 7,
        "start_time": "2024-08-20T16:19:20.063Z"
      },
      {
        "duration": 22,
        "start_time": "2024-08-20T16:19:20.072Z"
      },
      {
        "duration": 24,
        "start_time": "2024-08-20T16:19:20.096Z"
      },
      {
        "duration": 648,
        "start_time": "2024-08-20T16:19:20.121Z"
      },
      {
        "duration": 6,
        "start_time": "2024-08-20T16:19:20.771Z"
      },
      {
        "duration": 6,
        "start_time": "2024-08-20T16:19:20.779Z"
      },
      {
        "duration": 10,
        "start_time": "2024-08-20T16:19:20.787Z"
      },
      {
        "duration": 29,
        "start_time": "2024-08-20T16:19:20.847Z"
      },
      {
        "duration": 386,
        "start_time": "2024-08-20T16:19:20.878Z"
      },
      {
        "duration": 1348,
        "start_time": "2024-08-20T16:19:21.266Z"
      },
      {
        "duration": 167,
        "start_time": "2024-08-20T16:19:22.616Z"
      },
      {
        "duration": 5,
        "start_time": "2024-08-20T16:19:22.788Z"
      },
      {
        "duration": 241,
        "start_time": "2024-08-20T16:19:22.795Z"
      },
      {
        "duration": 30,
        "start_time": "2024-08-20T16:19:23.038Z"
      },
      {
        "duration": 6,
        "start_time": "2024-08-20T16:19:23.070Z"
      },
      {
        "duration": 86,
        "start_time": "2024-08-20T18:24:39.732Z"
      },
      {
        "duration": 48,
        "start_time": "2024-08-20T19:10:41.425Z"
      },
      {
        "duration": 3,
        "start_time": "2024-08-20T19:10:44.798Z"
      },
      {
        "duration": 1446,
        "start_time": "2024-08-20T19:10:44.804Z"
      },
      {
        "duration": 267,
        "start_time": "2024-08-20T19:10:46.252Z"
      },
      {
        "duration": 11,
        "start_time": "2024-08-20T19:10:46.521Z"
      },
      {
        "duration": 12,
        "start_time": "2024-08-20T19:10:46.534Z"
      },
      {
        "duration": 20,
        "start_time": "2024-08-20T19:10:46.549Z"
      },
      {
        "duration": 31,
        "start_time": "2024-08-20T19:10:46.570Z"
      },
      {
        "duration": 24,
        "start_time": "2024-08-20T19:10:46.603Z"
      },
      {
        "duration": 3,
        "start_time": "2024-08-20T19:10:46.628Z"
      },
      {
        "duration": 10,
        "start_time": "2024-08-20T19:10:46.633Z"
      },
      {
        "duration": 4,
        "start_time": "2024-08-20T19:10:46.644Z"
      },
      {
        "duration": 11,
        "start_time": "2024-08-20T19:10:46.650Z"
      },
      {
        "duration": 29,
        "start_time": "2024-08-20T19:10:46.662Z"
      },
      {
        "duration": 22,
        "start_time": "2024-08-20T19:10:46.693Z"
      },
      {
        "duration": 5,
        "start_time": "2024-08-20T19:10:46.718Z"
      },
      {
        "duration": 15,
        "start_time": "2024-08-20T19:10:46.739Z"
      },
      {
        "duration": 17,
        "start_time": "2024-08-20T19:10:46.756Z"
      },
      {
        "duration": 11,
        "start_time": "2024-08-20T19:10:46.775Z"
      },
      {
        "duration": 26,
        "start_time": "2024-08-20T19:10:46.787Z"
      },
      {
        "duration": 36,
        "start_time": "2024-08-20T19:10:46.815Z"
      },
      {
        "duration": 18,
        "start_time": "2024-08-20T19:10:46.856Z"
      },
      {
        "duration": 17,
        "start_time": "2024-08-20T19:10:46.876Z"
      },
      {
        "duration": 24,
        "start_time": "2024-08-20T19:10:46.895Z"
      },
      {
        "duration": 50,
        "start_time": "2024-08-20T19:10:46.920Z"
      },
      {
        "duration": 4,
        "start_time": "2024-08-20T19:10:46.972Z"
      },
      {
        "duration": 23,
        "start_time": "2024-08-20T19:10:46.978Z"
      },
      {
        "duration": 18,
        "start_time": "2024-08-20T19:10:47.003Z"
      },
      {
        "duration": 43,
        "start_time": "2024-08-20T19:10:47.023Z"
      },
      {
        "duration": 31,
        "start_time": "2024-08-20T19:10:47.067Z"
      },
      {
        "duration": 26,
        "start_time": "2024-08-20T19:10:47.099Z"
      },
      {
        "duration": 27,
        "start_time": "2024-08-20T19:10:47.126Z"
      },
      {
        "duration": 57,
        "start_time": "2024-08-20T19:10:47.155Z"
      },
      {
        "duration": 69,
        "start_time": "2024-08-20T19:10:47.213Z"
      },
      {
        "duration": 16,
        "start_time": "2024-08-20T19:10:47.284Z"
      },
      {
        "duration": 47,
        "start_time": "2024-08-20T19:10:47.301Z"
      },
      {
        "duration": 11,
        "start_time": "2024-08-20T19:10:47.351Z"
      },
      {
        "duration": 105,
        "start_time": "2024-08-20T19:10:47.363Z"
      },
      {
        "duration": 27,
        "start_time": "2024-08-20T19:10:47.469Z"
      },
      {
        "duration": 17,
        "start_time": "2024-08-20T19:10:47.498Z"
      },
      {
        "duration": 22,
        "start_time": "2024-08-20T19:10:47.517Z"
      },
      {
        "duration": 7,
        "start_time": "2024-08-20T19:10:47.542Z"
      },
      {
        "duration": 7,
        "start_time": "2024-08-20T19:10:47.553Z"
      },
      {
        "duration": 26,
        "start_time": "2024-08-20T19:10:47.561Z"
      },
      {
        "duration": 6,
        "start_time": "2024-08-20T19:10:47.589Z"
      },
      {
        "duration": 60,
        "start_time": "2024-08-20T19:10:47.596Z"
      },
      {
        "duration": 3,
        "start_time": "2024-08-20T19:10:47.658Z"
      },
      {
        "duration": 8,
        "start_time": "2024-08-20T19:10:47.663Z"
      },
      {
        "duration": 9,
        "start_time": "2024-08-20T19:10:47.672Z"
      },
      {
        "duration": 41,
        "start_time": "2024-08-20T19:10:47.683Z"
      },
      {
        "duration": 54,
        "start_time": "2024-08-20T19:10:47.725Z"
      },
      {
        "duration": 30,
        "start_time": "2024-08-20T19:10:47.781Z"
      },
      {
        "duration": 29,
        "start_time": "2024-08-20T19:10:47.813Z"
      },
      {
        "duration": 4,
        "start_time": "2024-08-20T19:10:47.845Z"
      },
      {
        "duration": 27,
        "start_time": "2024-08-20T19:10:47.852Z"
      },
      {
        "duration": 7,
        "start_time": "2024-08-20T19:10:47.880Z"
      },
      {
        "duration": 8,
        "start_time": "2024-08-20T19:10:47.888Z"
      },
      {
        "duration": 204,
        "start_time": "2024-08-20T19:10:47.897Z"
      },
      {
        "duration": 6,
        "start_time": "2024-08-20T19:10:48.103Z"
      },
      {
        "duration": 43,
        "start_time": "2024-08-20T19:10:48.110Z"
      },
      {
        "duration": 97,
        "start_time": "2024-08-20T19:10:48.155Z"
      },
      {
        "duration": 499,
        "start_time": "2024-08-20T19:10:48.254Z"
      },
      {
        "duration": 5,
        "start_time": "2024-08-20T19:10:48.755Z"
      },
      {
        "duration": 21,
        "start_time": "2024-08-20T19:10:48.761Z"
      },
      {
        "duration": 5,
        "start_time": "2024-08-20T19:10:48.784Z"
      },
      {
        "duration": 8,
        "start_time": "2024-08-20T19:10:48.790Z"
      },
      {
        "duration": 173,
        "start_time": "2024-08-20T19:10:48.799Z"
      },
      {
        "duration": 900,
        "start_time": "2024-08-20T19:10:48.974Z"
      },
      {
        "duration": 148,
        "start_time": "2024-08-20T19:10:49.875Z"
      },
      {
        "duration": 23,
        "start_time": "2024-08-20T19:10:50.024Z"
      },
      {
        "duration": 222,
        "start_time": "2024-08-20T19:10:50.048Z"
      },
      {
        "duration": 23,
        "start_time": "2024-08-20T19:10:50.272Z"
      },
      {
        "duration": 29,
        "start_time": "2024-08-20T19:10:50.297Z"
      },
      {
        "duration": 9,
        "start_time": "2024-08-20T19:15:40.275Z"
      },
      {
        "duration": 9,
        "start_time": "2024-08-20T19:15:57.228Z"
      },
      {
        "duration": 9,
        "start_time": "2024-08-20T19:16:20.070Z"
      },
      {
        "duration": 9,
        "start_time": "2024-08-20T19:16:36.638Z"
      },
      {
        "duration": 2,
        "start_time": "2024-08-20T19:17:21.377Z"
      },
      {
        "duration": 29,
        "start_time": "2024-08-20T19:17:21.381Z"
      },
      {
        "duration": 160,
        "start_time": "2024-08-20T19:17:21.412Z"
      },
      {
        "duration": 18,
        "start_time": "2024-08-20T19:17:21.578Z"
      },
      {
        "duration": 75,
        "start_time": "2024-08-20T19:17:21.598Z"
      },
      {
        "duration": 42,
        "start_time": "2024-08-20T19:17:21.675Z"
      },
      {
        "duration": 56,
        "start_time": "2024-08-20T19:17:21.718Z"
      },
      {
        "duration": 20,
        "start_time": "2024-08-20T19:17:21.775Z"
      },
      {
        "duration": 21,
        "start_time": "2024-08-20T19:17:21.797Z"
      },
      {
        "duration": 29,
        "start_time": "2024-08-20T19:17:21.819Z"
      },
      {
        "duration": 36,
        "start_time": "2024-08-20T19:17:21.850Z"
      },
      {
        "duration": 25,
        "start_time": "2024-08-20T19:17:21.888Z"
      },
      {
        "duration": 57,
        "start_time": "2024-08-20T19:17:21.914Z"
      },
      {
        "duration": 34,
        "start_time": "2024-08-20T19:17:21.973Z"
      },
      {
        "duration": 23,
        "start_time": "2024-08-20T19:17:22.009Z"
      },
      {
        "duration": 56,
        "start_time": "2024-08-20T19:17:22.034Z"
      },
      {
        "duration": 55,
        "start_time": "2024-08-20T19:17:22.091Z"
      },
      {
        "duration": 97,
        "start_time": "2024-08-20T19:17:22.148Z"
      },
      {
        "duration": 44,
        "start_time": "2024-08-20T19:17:22.247Z"
      },
      {
        "duration": 24,
        "start_time": "2024-08-20T19:17:22.292Z"
      },
      {
        "duration": 29,
        "start_time": "2024-08-20T19:17:22.317Z"
      },
      {
        "duration": 24,
        "start_time": "2024-08-20T19:17:22.347Z"
      },
      {
        "duration": 37,
        "start_time": "2024-08-20T19:17:22.372Z"
      },
      {
        "duration": 44,
        "start_time": "2024-08-20T19:17:22.411Z"
      },
      {
        "duration": 8,
        "start_time": "2024-08-20T19:17:22.456Z"
      },
      {
        "duration": 35,
        "start_time": "2024-08-20T19:17:22.465Z"
      },
      {
        "duration": 8,
        "start_time": "2024-08-20T19:17:22.501Z"
      },
      {
        "duration": 22,
        "start_time": "2024-08-20T19:17:22.510Z"
      },
      {
        "duration": 27,
        "start_time": "2024-08-20T19:17:22.535Z"
      },
      {
        "duration": 19,
        "start_time": "2024-08-20T19:17:22.564Z"
      },
      {
        "duration": 33,
        "start_time": "2024-08-20T19:17:22.585Z"
      },
      {
        "duration": 68,
        "start_time": "2024-08-20T19:17:22.619Z"
      },
      {
        "duration": 12,
        "start_time": "2024-08-20T19:17:22.688Z"
      },
      {
        "duration": 39,
        "start_time": "2024-08-20T19:17:22.701Z"
      },
      {
        "duration": 71,
        "start_time": "2024-08-20T19:17:22.741Z"
      },
      {
        "duration": 10,
        "start_time": "2024-08-20T19:17:22.814Z"
      },
      {
        "duration": 84,
        "start_time": "2024-08-20T19:17:22.825Z"
      },
      {
        "duration": 25,
        "start_time": "2024-08-20T19:17:22.911Z"
      },
      {
        "duration": 16,
        "start_time": "2024-08-20T19:17:22.938Z"
      },
      {
        "duration": 6,
        "start_time": "2024-08-20T19:17:22.955Z"
      },
      {
        "duration": 11,
        "start_time": "2024-08-20T19:17:22.962Z"
      },
      {
        "duration": 12,
        "start_time": "2024-08-20T19:17:22.974Z"
      },
      {
        "duration": 48,
        "start_time": "2024-08-20T19:17:22.988Z"
      },
      {
        "duration": 6,
        "start_time": "2024-08-20T19:17:23.038Z"
      },
      {
        "duration": 10,
        "start_time": "2024-08-20T19:17:23.045Z"
      },
      {
        "duration": 30,
        "start_time": "2024-08-20T19:17:23.057Z"
      },
      {
        "duration": 25,
        "start_time": "2024-08-20T19:17:23.088Z"
      },
      {
        "duration": 4,
        "start_time": "2024-08-20T19:17:23.114Z"
      },
      {
        "duration": 22,
        "start_time": "2024-08-20T19:17:23.120Z"
      },
      {
        "duration": 55,
        "start_time": "2024-08-20T19:17:23.143Z"
      },
      {
        "duration": 39,
        "start_time": "2024-08-20T19:17:23.200Z"
      },
      {
        "duration": 22,
        "start_time": "2024-08-20T19:17:23.240Z"
      },
      {
        "duration": 4,
        "start_time": "2024-08-20T19:17:23.263Z"
      },
      {
        "duration": 24,
        "start_time": "2024-08-20T19:17:23.269Z"
      },
      {
        "duration": 7,
        "start_time": "2024-08-20T19:17:23.294Z"
      },
      {
        "duration": 14,
        "start_time": "2024-08-20T19:17:23.303Z"
      },
      {
        "duration": 173,
        "start_time": "2024-08-20T19:17:23.319Z"
      },
      {
        "duration": 8,
        "start_time": "2024-08-20T19:17:23.494Z"
      },
      {
        "duration": 40,
        "start_time": "2024-08-20T19:17:23.504Z"
      },
      {
        "duration": 22,
        "start_time": "2024-08-20T19:17:23.546Z"
      },
      {
        "duration": 401,
        "start_time": "2024-08-20T19:17:23.570Z"
      },
      {
        "duration": 4,
        "start_time": "2024-08-20T19:17:23.973Z"
      },
      {
        "duration": 7,
        "start_time": "2024-08-20T19:17:23.978Z"
      },
      {
        "duration": 5,
        "start_time": "2024-08-20T19:17:23.986Z"
      },
      {
        "duration": 15,
        "start_time": "2024-08-20T19:17:23.992Z"
      },
      {
        "duration": 77,
        "start_time": "2024-08-20T19:17:24.008Z"
      },
      {
        "duration": 0,
        "start_time": "2024-08-20T19:17:24.086Z"
      },
      {
        "duration": 0,
        "start_time": "2024-08-20T19:17:24.087Z"
      },
      {
        "duration": 0,
        "start_time": "2024-08-20T19:17:24.088Z"
      },
      {
        "duration": 0,
        "start_time": "2024-08-20T19:17:24.089Z"
      },
      {
        "duration": 0,
        "start_time": "2024-08-20T19:17:24.090Z"
      },
      {
        "duration": 0,
        "start_time": "2024-08-20T19:17:24.091Z"
      },
      {
        "duration": 157,
        "start_time": "2024-08-20T19:18:22.125Z"
      },
      {
        "duration": 152,
        "start_time": "2024-08-20T19:18:40.282Z"
      },
      {
        "duration": 871,
        "start_time": "2024-08-20T19:18:46.894Z"
      },
      {
        "duration": 165,
        "start_time": "2024-08-20T19:18:48.022Z"
      },
      {
        "duration": 78,
        "start_time": "2024-08-20T19:19:31.278Z"
      },
      {
        "duration": 147,
        "start_time": "2024-08-20T19:19:46.362Z"
      },
      {
        "duration": 1222,
        "start_time": "2024-08-20T19:20:08.938Z"
      },
      {
        "duration": 2,
        "start_time": "2024-08-20T19:20:20.239Z"
      },
      {
        "duration": 26,
        "start_time": "2024-08-20T19:20:20.243Z"
      },
      {
        "duration": 157,
        "start_time": "2024-08-20T19:20:20.271Z"
      },
      {
        "duration": 13,
        "start_time": "2024-08-20T19:20:20.430Z"
      },
      {
        "duration": 13,
        "start_time": "2024-08-20T19:20:20.445Z"
      },
      {
        "duration": 15,
        "start_time": "2024-08-20T19:20:20.460Z"
      },
      {
        "duration": 21,
        "start_time": "2024-08-20T19:20:20.476Z"
      },
      {
        "duration": 38,
        "start_time": "2024-08-20T19:20:20.499Z"
      },
      {
        "duration": 3,
        "start_time": "2024-08-20T19:20:20.539Z"
      },
      {
        "duration": 21,
        "start_time": "2024-08-20T19:20:20.543Z"
      },
      {
        "duration": 23,
        "start_time": "2024-08-20T19:20:20.567Z"
      },
      {
        "duration": 6,
        "start_time": "2024-08-20T19:20:20.591Z"
      },
      {
        "duration": 12,
        "start_time": "2024-08-20T19:20:20.599Z"
      },
      {
        "duration": 29,
        "start_time": "2024-08-20T19:20:20.613Z"
      },
      {
        "duration": 6,
        "start_time": "2024-08-20T19:20:20.643Z"
      },
      {
        "duration": 16,
        "start_time": "2024-08-20T19:20:20.650Z"
      },
      {
        "duration": 13,
        "start_time": "2024-08-20T19:20:20.668Z"
      },
      {
        "duration": 15,
        "start_time": "2024-08-20T19:20:20.683Z"
      },
      {
        "duration": 37,
        "start_time": "2024-08-20T19:20:20.700Z"
      },
      {
        "duration": 18,
        "start_time": "2024-08-20T19:20:20.739Z"
      },
      {
        "duration": 12,
        "start_time": "2024-08-20T19:20:20.759Z"
      },
      {
        "duration": 12,
        "start_time": "2024-08-20T19:20:20.773Z"
      },
      {
        "duration": 20,
        "start_time": "2024-08-20T19:20:20.787Z"
      },
      {
        "duration": 32,
        "start_time": "2024-08-20T19:20:20.808Z"
      },
      {
        "duration": 5,
        "start_time": "2024-08-20T19:20:20.841Z"
      },
      {
        "duration": 38,
        "start_time": "2024-08-20T19:20:20.854Z"
      },
      {
        "duration": 6,
        "start_time": "2024-08-20T19:20:20.894Z"
      },
      {
        "duration": 16,
        "start_time": "2024-08-20T19:20:20.902Z"
      },
      {
        "duration": 4,
        "start_time": "2024-08-20T19:20:20.922Z"
      },
      {
        "duration": 8,
        "start_time": "2024-08-20T19:20:20.927Z"
      },
      {
        "duration": 9,
        "start_time": "2024-08-20T19:20:20.936Z"
      },
      {
        "duration": 26,
        "start_time": "2024-08-20T19:20:20.946Z"
      },
      {
        "duration": 12,
        "start_time": "2024-08-20T19:20:20.973Z"
      },
      {
        "duration": 9,
        "start_time": "2024-08-20T19:20:20.986Z"
      },
      {
        "duration": 60,
        "start_time": "2024-08-20T19:20:20.996Z"
      },
      {
        "duration": 10,
        "start_time": "2024-08-20T19:20:21.057Z"
      },
      {
        "duration": 56,
        "start_time": "2024-08-20T19:20:21.069Z"
      },
      {
        "duration": 31,
        "start_time": "2024-08-20T19:20:21.126Z"
      },
      {
        "duration": 16,
        "start_time": "2024-08-20T19:20:21.158Z"
      },
      {
        "duration": 5,
        "start_time": "2024-08-20T19:20:21.176Z"
      },
      {
        "duration": 7,
        "start_time": "2024-08-20T19:20:21.183Z"
      },
      {
        "duration": 84,
        "start_time": "2024-08-20T19:20:21.192Z"
      },
      {
        "duration": 29,
        "start_time": "2024-08-20T19:20:21.277Z"
      },
      {
        "duration": 6,
        "start_time": "2024-08-20T19:20:21.307Z"
      },
      {
        "duration": 8,
        "start_time": "2024-08-20T19:20:21.314Z"
      },
      {
        "duration": 10,
        "start_time": "2024-08-20T19:20:21.324Z"
      },
      {
        "duration": 15,
        "start_time": "2024-08-20T19:20:21.335Z"
      },
      {
        "duration": 5,
        "start_time": "2024-08-20T19:20:21.352Z"
      },
      {
        "duration": 20,
        "start_time": "2024-08-20T19:20:21.359Z"
      },
      {
        "duration": 67,
        "start_time": "2024-08-20T19:20:21.381Z"
      },
      {
        "duration": 34,
        "start_time": "2024-08-20T19:20:21.450Z"
      },
      {
        "duration": 9,
        "start_time": "2024-08-20T19:20:21.485Z"
      },
      {
        "duration": 14,
        "start_time": "2024-08-20T19:20:21.496Z"
      },
      {
        "duration": 33,
        "start_time": "2024-08-20T19:20:21.511Z"
      },
      {
        "duration": 6,
        "start_time": "2024-08-20T19:20:21.546Z"
      },
      {
        "duration": 7,
        "start_time": "2024-08-20T19:20:21.554Z"
      },
      {
        "duration": 163,
        "start_time": "2024-08-20T19:20:21.562Z"
      },
      {
        "duration": 12,
        "start_time": "2024-08-20T19:20:21.726Z"
      },
      {
        "duration": 18,
        "start_time": "2024-08-20T19:20:21.739Z"
      },
      {
        "duration": 21,
        "start_time": "2024-08-20T19:20:21.758Z"
      },
      {
        "duration": 423,
        "start_time": "2024-08-20T19:20:21.780Z"
      },
      {
        "duration": 5,
        "start_time": "2024-08-20T19:20:22.205Z"
      },
      {
        "duration": 20,
        "start_time": "2024-08-20T19:20:22.212Z"
      },
      {
        "duration": 5,
        "start_time": "2024-08-20T19:20:22.234Z"
      },
      {
        "duration": 12,
        "start_time": "2024-08-20T19:20:22.241Z"
      },
      {
        "duration": 187,
        "start_time": "2024-08-20T19:20:22.254Z"
      },
      {
        "duration": 869,
        "start_time": "2024-08-20T19:20:22.443Z"
      },
      {
        "duration": 152,
        "start_time": "2024-08-20T19:20:23.315Z"
      },
      {
        "duration": 5,
        "start_time": "2024-08-20T19:20:23.468Z"
      },
      {
        "duration": 199,
        "start_time": "2024-08-20T19:20:23.474Z"
      },
      {
        "duration": 1180,
        "start_time": "2024-08-20T19:20:23.674Z"
      },
      {
        "duration": 0,
        "start_time": "2024-08-20T19:20:24.856Z"
      },
      {
        "duration": 30,
        "start_time": "2024-08-20T19:22:06.979Z"
      },
      {
        "duration": 31,
        "start_time": "2024-08-20T19:22:42.588Z"
      },
      {
        "duration": 7,
        "start_time": "2024-08-20T19:22:45.037Z"
      },
      {
        "duration": 7,
        "start_time": "2024-08-20T19:22:48.036Z"
      },
      {
        "duration": 94,
        "start_time": "2024-08-21T09:42:11.003Z"
      },
      {
        "duration": 4,
        "start_time": "2024-08-21T10:40:40.958Z"
      },
      {
        "duration": 1422,
        "start_time": "2024-08-21T10:40:40.964Z"
      },
      {
        "duration": 283,
        "start_time": "2024-08-21T10:40:42.387Z"
      },
      {
        "duration": 14,
        "start_time": "2024-08-21T10:40:42.672Z"
      },
      {
        "duration": 14,
        "start_time": "2024-08-21T10:40:42.688Z"
      },
      {
        "duration": 32,
        "start_time": "2024-08-21T10:40:42.703Z"
      },
      {
        "duration": 54,
        "start_time": "2024-08-21T10:40:42.737Z"
      },
      {
        "duration": 18,
        "start_time": "2024-08-21T10:40:42.793Z"
      },
      {
        "duration": 38,
        "start_time": "2024-08-21T10:40:42.813Z"
      },
      {
        "duration": 17,
        "start_time": "2024-08-21T10:40:42.855Z"
      },
      {
        "duration": 50,
        "start_time": "2024-08-21T10:40:42.874Z"
      },
      {
        "duration": 21,
        "start_time": "2024-08-21T10:40:42.926Z"
      },
      {
        "duration": 33,
        "start_time": "2024-08-21T10:40:42.948Z"
      },
      {
        "duration": 39,
        "start_time": "2024-08-21T10:40:42.983Z"
      },
      {
        "duration": 11,
        "start_time": "2024-08-21T10:40:43.024Z"
      },
      {
        "duration": 35,
        "start_time": "2024-08-21T10:40:43.037Z"
      },
      {
        "duration": 53,
        "start_time": "2024-08-21T10:40:43.075Z"
      },
      {
        "duration": 18,
        "start_time": "2024-08-21T10:40:43.131Z"
      },
      {
        "duration": 23,
        "start_time": "2024-08-21T10:40:43.152Z"
      },
      {
        "duration": 17,
        "start_time": "2024-08-21T10:40:43.177Z"
      },
      {
        "duration": 31,
        "start_time": "2024-08-21T10:40:43.196Z"
      },
      {
        "duration": 29,
        "start_time": "2024-08-21T10:40:43.229Z"
      },
      {
        "duration": 25,
        "start_time": "2024-08-21T10:40:43.260Z"
      },
      {
        "duration": 55,
        "start_time": "2024-08-21T10:40:43.287Z"
      },
      {
        "duration": 5,
        "start_time": "2024-08-21T10:40:43.345Z"
      },
      {
        "duration": 43,
        "start_time": "2024-08-21T10:40:43.352Z"
      },
      {
        "duration": 17,
        "start_time": "2024-08-21T10:40:43.397Z"
      },
      {
        "duration": 14,
        "start_time": "2024-08-21T10:40:43.420Z"
      },
      {
        "duration": 19,
        "start_time": "2024-08-21T10:40:43.436Z"
      },
      {
        "duration": 21,
        "start_time": "2024-08-21T10:40:43.457Z"
      },
      {
        "duration": 30,
        "start_time": "2024-08-21T10:40:43.480Z"
      },
      {
        "duration": 104,
        "start_time": "2024-08-21T10:40:43.512Z"
      },
      {
        "duration": 42,
        "start_time": "2024-08-21T10:40:43.618Z"
      },
      {
        "duration": 44,
        "start_time": "2024-08-21T10:40:43.661Z"
      },
      {
        "duration": 73,
        "start_time": "2024-08-21T10:40:43.706Z"
      },
      {
        "duration": 12,
        "start_time": "2024-08-21T10:40:43.781Z"
      },
      {
        "duration": 71,
        "start_time": "2024-08-21T10:40:43.795Z"
      },
      {
        "duration": 66,
        "start_time": "2024-08-21T10:40:43.868Z"
      },
      {
        "duration": 17,
        "start_time": "2024-08-21T10:40:43.936Z"
      },
      {
        "duration": 8,
        "start_time": "2024-08-21T10:40:43.955Z"
      },
      {
        "duration": 34,
        "start_time": "2024-08-21T10:40:43.965Z"
      },
      {
        "duration": 46,
        "start_time": "2024-08-21T10:40:44.001Z"
      },
      {
        "duration": 62,
        "start_time": "2024-08-21T10:40:44.049Z"
      },
      {
        "duration": 9,
        "start_time": "2024-08-21T10:40:44.112Z"
      },
      {
        "duration": 29,
        "start_time": "2024-08-21T10:40:44.123Z"
      },
      {
        "duration": 18,
        "start_time": "2024-08-21T10:40:44.154Z"
      },
      {
        "duration": 56,
        "start_time": "2024-08-21T10:40:44.173Z"
      },
      {
        "duration": 18,
        "start_time": "2024-08-21T10:40:44.230Z"
      },
      {
        "duration": 38,
        "start_time": "2024-08-21T10:40:44.250Z"
      },
      {
        "duration": 77,
        "start_time": "2024-08-21T10:40:44.290Z"
      },
      {
        "duration": 36,
        "start_time": "2024-08-21T10:40:44.368Z"
      },
      {
        "duration": 8,
        "start_time": "2024-08-21T10:40:44.406Z"
      },
      {
        "duration": 14,
        "start_time": "2024-08-21T10:40:44.416Z"
      },
      {
        "duration": 46,
        "start_time": "2024-08-21T10:40:44.431Z"
      },
      {
        "duration": 28,
        "start_time": "2024-08-21T10:40:44.479Z"
      },
      {
        "duration": 30,
        "start_time": "2024-08-21T10:40:44.509Z"
      },
      {
        "duration": 176,
        "start_time": "2024-08-21T10:40:44.541Z"
      },
      {
        "duration": 8,
        "start_time": "2024-08-21T10:40:44.719Z"
      },
      {
        "duration": 36,
        "start_time": "2024-08-21T10:40:44.729Z"
      },
      {
        "duration": 26,
        "start_time": "2024-08-21T10:40:44.766Z"
      },
      {
        "duration": 470,
        "start_time": "2024-08-21T10:40:44.794Z"
      },
      {
        "duration": 7,
        "start_time": "2024-08-21T10:40:45.266Z"
      },
      {
        "duration": 37,
        "start_time": "2024-08-21T10:40:45.275Z"
      },
      {
        "duration": 11,
        "start_time": "2024-08-21T10:40:45.314Z"
      },
      {
        "duration": 44,
        "start_time": "2024-08-21T10:40:45.327Z"
      },
      {
        "duration": 204,
        "start_time": "2024-08-21T10:40:45.373Z"
      },
      {
        "duration": 947,
        "start_time": "2024-08-21T10:40:45.579Z"
      },
      {
        "duration": 186,
        "start_time": "2024-08-21T10:40:46.528Z"
      },
      {
        "duration": 6,
        "start_time": "2024-08-21T10:40:46.715Z"
      },
      {
        "duration": 225,
        "start_time": "2024-08-21T10:40:46.723Z"
      },
      {
        "duration": 34,
        "start_time": "2024-08-21T10:40:46.950Z"
      },
      {
        "duration": 6,
        "start_time": "2024-08-21T10:40:46.985Z"
      },
      {
        "duration": 3,
        "start_time": "2024-08-21T11:06:28.629Z"
      },
      {
        "duration": 19,
        "start_time": "2024-08-21T11:06:28.635Z"
      },
      {
        "duration": 169,
        "start_time": "2024-08-21T11:06:28.656Z"
      },
      {
        "duration": 14,
        "start_time": "2024-08-21T11:06:28.826Z"
      },
      {
        "duration": 19,
        "start_time": "2024-08-21T11:06:28.842Z"
      },
      {
        "duration": 16,
        "start_time": "2024-08-21T11:06:28.862Z"
      },
      {
        "duration": 35,
        "start_time": "2024-08-21T11:06:28.880Z"
      },
      {
        "duration": 18,
        "start_time": "2024-08-21T11:06:28.919Z"
      },
      {
        "duration": 4,
        "start_time": "2024-08-21T11:06:28.960Z"
      },
      {
        "duration": 9,
        "start_time": "2024-08-21T11:06:28.966Z"
      },
      {
        "duration": 24,
        "start_time": "2024-08-21T11:06:28.977Z"
      },
      {
        "duration": 10,
        "start_time": "2024-08-21T11:06:29.002Z"
      },
      {
        "duration": 15,
        "start_time": "2024-08-21T11:06:29.014Z"
      },
      {
        "duration": 38,
        "start_time": "2024-08-21T11:06:29.031Z"
      },
      {
        "duration": 5,
        "start_time": "2024-08-21T11:06:29.071Z"
      },
      {
        "duration": 17,
        "start_time": "2024-08-21T11:06:29.078Z"
      },
      {
        "duration": 16,
        "start_time": "2024-08-21T11:06:29.096Z"
      },
      {
        "duration": 12,
        "start_time": "2024-08-21T11:06:29.114Z"
      },
      {
        "duration": 40,
        "start_time": "2024-08-21T11:06:29.127Z"
      },
      {
        "duration": 14,
        "start_time": "2024-08-21T11:06:29.168Z"
      },
      {
        "duration": 10,
        "start_time": "2024-08-21T11:06:29.183Z"
      },
      {
        "duration": 36,
        "start_time": "2024-08-21T11:06:29.194Z"
      },
      {
        "duration": 29,
        "start_time": "2024-08-21T11:06:29.232Z"
      },
      {
        "duration": 41,
        "start_time": "2024-08-21T11:06:29.265Z"
      },
      {
        "duration": 4,
        "start_time": "2024-08-21T11:06:29.308Z"
      },
      {
        "duration": 22,
        "start_time": "2024-08-21T11:06:29.314Z"
      },
      {
        "duration": 8,
        "start_time": "2024-08-21T11:06:29.337Z"
      },
      {
        "duration": 49,
        "start_time": "2024-08-21T11:06:29.346Z"
      },
      {
        "duration": 13,
        "start_time": "2024-08-21T11:06:29.397Z"
      },
      {
        "duration": 11,
        "start_time": "2024-08-21T11:06:29.412Z"
      },
      {
        "duration": 10,
        "start_time": "2024-08-21T11:06:29.424Z"
      },
      {
        "duration": 40,
        "start_time": "2024-08-21T11:06:29.435Z"
      },
      {
        "duration": 14,
        "start_time": "2024-08-21T11:06:29.477Z"
      },
      {
        "duration": 33,
        "start_time": "2024-08-21T11:06:29.493Z"
      },
      {
        "duration": 62,
        "start_time": "2024-08-21T11:06:29.527Z"
      },
      {
        "duration": 11,
        "start_time": "2024-08-21T11:06:29.591Z"
      },
      {
        "duration": 65,
        "start_time": "2024-08-21T11:06:29.604Z"
      },
      {
        "duration": 26,
        "start_time": "2024-08-21T11:06:29.671Z"
      },
      {
        "duration": 17,
        "start_time": "2024-08-21T11:06:29.699Z"
      },
      {
        "duration": 8,
        "start_time": "2024-08-21T11:06:29.718Z"
      },
      {
        "duration": 34,
        "start_time": "2024-08-21T11:06:29.727Z"
      },
      {
        "duration": 8,
        "start_time": "2024-08-21T11:06:29.762Z"
      },
      {
        "duration": 32,
        "start_time": "2024-08-21T11:06:29.772Z"
      },
      {
        "duration": 9,
        "start_time": "2024-08-21T11:06:29.808Z"
      },
      {
        "duration": 24,
        "start_time": "2024-08-21T11:06:29.819Z"
      },
      {
        "duration": 4,
        "start_time": "2024-08-21T11:06:29.861Z"
      },
      {
        "duration": 15,
        "start_time": "2024-08-21T11:06:29.867Z"
      },
      {
        "duration": 7,
        "start_time": "2024-08-21T11:06:29.884Z"
      },
      {
        "duration": 19,
        "start_time": "2024-08-21T11:06:29.893Z"
      },
      {
        "duration": 71,
        "start_time": "2024-08-21T11:06:29.914Z"
      },
      {
        "duration": 31,
        "start_time": "2024-08-21T11:06:29.987Z"
      },
      {
        "duration": 8,
        "start_time": "2024-08-21T11:06:30.020Z"
      },
      {
        "duration": 38,
        "start_time": "2024-08-21T11:06:30.029Z"
      },
      {
        "duration": 38,
        "start_time": "2024-08-21T11:06:30.068Z"
      },
      {
        "duration": 7,
        "start_time": "2024-08-21T11:06:30.108Z"
      },
      {
        "duration": 29,
        "start_time": "2024-08-21T11:06:30.116Z"
      },
      {
        "duration": 160,
        "start_time": "2024-08-21T11:06:30.147Z"
      },
      {
        "duration": 7,
        "start_time": "2024-08-21T11:06:30.308Z"
      },
      {
        "duration": 39,
        "start_time": "2024-08-21T11:06:30.317Z"
      },
      {
        "duration": 23,
        "start_time": "2024-08-21T11:06:30.360Z"
      },
      {
        "duration": 463,
        "start_time": "2024-08-21T11:06:30.385Z"
      },
      {
        "duration": 24,
        "start_time": "2024-08-21T11:06:30.849Z"
      },
      {
        "duration": 12,
        "start_time": "2024-08-21T11:06:30.875Z"
      },
      {
        "duration": 40,
        "start_time": "2024-08-21T11:06:30.889Z"
      },
      {
        "duration": 19,
        "start_time": "2024-08-21T11:06:30.931Z"
      },
      {
        "duration": 169,
        "start_time": "2024-08-21T11:06:30.952Z"
      },
      {
        "duration": 867,
        "start_time": "2024-08-21T11:06:31.122Z"
      },
      {
        "duration": 270,
        "start_time": "2024-08-21T11:06:31.991Z"
      },
      {
        "duration": 5,
        "start_time": "2024-08-21T11:06:32.266Z"
      },
      {
        "duration": 209,
        "start_time": "2024-08-21T11:06:32.272Z"
      },
      {
        "duration": 31,
        "start_time": "2024-08-21T11:06:32.483Z"
      },
      {
        "duration": 16,
        "start_time": "2024-08-21T11:06:32.516Z"
      },
      {
        "duration": 26,
        "start_time": "2024-08-21T11:33:52.209Z"
      },
      {
        "duration": 43,
        "start_time": "2024-08-21T11:34:00.741Z"
      },
      {
        "duration": 13,
        "start_time": "2024-08-21T11:34:39.666Z"
      },
      {
        "duration": 15,
        "start_time": "2024-08-21T11:35:17.069Z"
      },
      {
        "duration": 1226,
        "start_time": "2024-08-21T11:39:08.505Z"
      },
      {
        "duration": 1082,
        "start_time": "2024-08-21T11:39:17.097Z"
      },
      {
        "duration": 14,
        "start_time": "2024-08-21T11:39:27.658Z"
      },
      {
        "duration": 17,
        "start_time": "2024-08-21T11:39:55.392Z"
      },
      {
        "duration": 17,
        "start_time": "2024-08-21T11:59:51.480Z"
      },
      {
        "duration": 18,
        "start_time": "2024-08-21T12:00:10.995Z"
      },
      {
        "duration": 20,
        "start_time": "2024-08-21T12:01:00.529Z"
      },
      {
        "duration": 3,
        "start_time": "2024-08-21T12:01:32.717Z"
      },
      {
        "duration": 8,
        "start_time": "2024-08-21T12:01:32.722Z"
      },
      {
        "duration": 176,
        "start_time": "2024-08-21T12:01:32.732Z"
      },
      {
        "duration": 14,
        "start_time": "2024-08-21T12:01:32.911Z"
      },
      {
        "duration": 10,
        "start_time": "2024-08-21T12:01:32.927Z"
      },
      {
        "duration": 15,
        "start_time": "2024-08-21T12:01:32.962Z"
      },
      {
        "duration": 25,
        "start_time": "2024-08-21T12:01:32.979Z"
      },
      {
        "duration": 19,
        "start_time": "2024-08-21T12:01:33.006Z"
      },
      {
        "duration": 3,
        "start_time": "2024-08-21T12:01:33.027Z"
      },
      {
        "duration": 31,
        "start_time": "2024-08-21T12:01:33.032Z"
      },
      {
        "duration": 13,
        "start_time": "2024-08-21T12:01:33.065Z"
      },
      {
        "duration": 7,
        "start_time": "2024-08-21T12:01:33.081Z"
      },
      {
        "duration": 20,
        "start_time": "2024-08-21T12:01:33.092Z"
      },
      {
        "duration": 51,
        "start_time": "2024-08-21T12:01:33.114Z"
      },
      {
        "duration": 7,
        "start_time": "2024-08-21T12:01:33.166Z"
      },
      {
        "duration": 19,
        "start_time": "2024-08-21T12:01:33.175Z"
      },
      {
        "duration": 25,
        "start_time": "2024-08-21T12:01:33.196Z"
      },
      {
        "duration": 13,
        "start_time": "2024-08-21T12:01:33.223Z"
      },
      {
        "duration": 29,
        "start_time": "2024-08-21T12:01:33.238Z"
      },
      {
        "duration": 14,
        "start_time": "2024-08-21T12:01:33.269Z"
      },
      {
        "duration": 12,
        "start_time": "2024-08-21T12:01:33.285Z"
      },
      {
        "duration": 16,
        "start_time": "2024-08-21T12:01:33.299Z"
      },
      {
        "duration": 9,
        "start_time": "2024-08-21T12:01:33.317Z"
      },
      {
        "duration": 39,
        "start_time": "2024-08-21T12:01:33.328Z"
      },
      {
        "duration": 4,
        "start_time": "2024-08-21T12:01:33.369Z"
      },
      {
        "duration": 34,
        "start_time": "2024-08-21T12:01:33.375Z"
      },
      {
        "duration": 25,
        "start_time": "2024-08-21T12:01:33.411Z"
      },
      {
        "duration": 30,
        "start_time": "2024-08-21T12:01:33.438Z"
      },
      {
        "duration": 13,
        "start_time": "2024-08-21T12:01:33.470Z"
      },
      {
        "duration": 6,
        "start_time": "2024-08-21T12:01:33.485Z"
      },
      {
        "duration": 42,
        "start_time": "2024-08-21T12:01:33.493Z"
      },
      {
        "duration": 37,
        "start_time": "2024-08-21T12:01:33.537Z"
      },
      {
        "duration": 16,
        "start_time": "2024-08-21T12:01:33.576Z"
      },
      {
        "duration": 15,
        "start_time": "2024-08-21T12:01:33.593Z"
      },
      {
        "duration": 53,
        "start_time": "2024-08-21T12:01:33.610Z"
      },
      {
        "duration": 11,
        "start_time": "2024-08-21T12:01:33.665Z"
      },
      {
        "duration": 64,
        "start_time": "2024-08-21T12:01:33.681Z"
      },
      {
        "duration": 44,
        "start_time": "2024-08-21T12:01:33.748Z"
      },
      {
        "duration": 45,
        "start_time": "2024-08-21T12:01:33.793Z"
      },
      {
        "duration": 8,
        "start_time": "2024-08-21T12:01:33.840Z"
      },
      {
        "duration": 51,
        "start_time": "2024-08-21T12:01:33.850Z"
      },
      {
        "duration": 37,
        "start_time": "2024-08-21T12:01:33.903Z"
      },
      {
        "duration": 30,
        "start_time": "2024-08-21T12:01:33.942Z"
      },
      {
        "duration": 7,
        "start_time": "2024-08-21T12:01:33.974Z"
      },
      {
        "duration": 32,
        "start_time": "2024-08-21T12:01:33.983Z"
      },
      {
        "duration": 13,
        "start_time": "2024-08-21T12:01:34.017Z"
      },
      {
        "duration": 10,
        "start_time": "2024-08-21T12:01:34.032Z"
      },
      {
        "duration": 5,
        "start_time": "2024-08-21T12:01:34.044Z"
      },
      {
        "duration": 50,
        "start_time": "2024-08-21T12:01:34.051Z"
      },
      {
        "duration": 66,
        "start_time": "2024-08-21T12:01:34.103Z"
      },
      {
        "duration": 33,
        "start_time": "2024-08-21T12:01:34.171Z"
      },
      {
        "duration": 8,
        "start_time": "2024-08-21T12:01:34.206Z"
      },
      {
        "duration": 5,
        "start_time": "2024-08-21T12:01:34.216Z"
      },
      {
        "duration": 54,
        "start_time": "2024-08-21T12:01:34.223Z"
      },
      {
        "duration": 8,
        "start_time": "2024-08-21T12:01:34.279Z"
      },
      {
        "duration": 43,
        "start_time": "2024-08-21T12:01:34.288Z"
      },
      {
        "duration": 204,
        "start_time": "2024-08-21T12:01:34.333Z"
      },
      {
        "duration": 6,
        "start_time": "2024-08-21T12:01:34.539Z"
      },
      {
        "duration": 36,
        "start_time": "2024-08-21T12:01:34.546Z"
      },
      {
        "duration": 24,
        "start_time": "2024-08-21T12:01:34.583Z"
      },
      {
        "duration": 428,
        "start_time": "2024-08-21T12:01:34.609Z"
      },
      {
        "duration": 22,
        "start_time": "2024-08-21T12:01:35.039Z"
      },
      {
        "duration": 25,
        "start_time": "2024-08-21T12:01:35.063Z"
      },
      {
        "duration": 23,
        "start_time": "2024-08-21T12:01:35.090Z"
      },
      {
        "duration": 12,
        "start_time": "2024-08-21T12:01:35.115Z"
      },
      {
        "duration": 174,
        "start_time": "2024-08-21T12:01:35.129Z"
      },
      {
        "duration": 931,
        "start_time": "2024-08-21T12:01:35.304Z"
      },
      {
        "duration": 35,
        "start_time": "2024-08-21T12:01:36.237Z"
      },
      {
        "duration": 179,
        "start_time": "2024-08-21T12:01:36.274Z"
      },
      {
        "duration": 10,
        "start_time": "2024-08-21T12:01:36.454Z"
      },
      {
        "duration": 308,
        "start_time": "2024-08-21T12:01:36.466Z"
      },
      {
        "duration": 28,
        "start_time": "2024-08-21T12:01:36.777Z"
      },
      {
        "duration": 7,
        "start_time": "2024-08-21T12:01:36.807Z"
      },
      {
        "duration": 2,
        "start_time": "2024-08-21T12:06:27.651Z"
      },
      {
        "duration": 7,
        "start_time": "2024-08-21T12:06:27.655Z"
      },
      {
        "duration": 156,
        "start_time": "2024-08-21T12:06:27.664Z"
      },
      {
        "duration": 13,
        "start_time": "2024-08-21T12:06:27.821Z"
      },
      {
        "duration": 34,
        "start_time": "2024-08-21T12:06:27.836Z"
      },
      {
        "duration": 29,
        "start_time": "2024-08-21T12:06:27.872Z"
      },
      {
        "duration": 40,
        "start_time": "2024-08-21T12:06:27.903Z"
      },
      {
        "duration": 21,
        "start_time": "2024-08-21T12:06:27.944Z"
      },
      {
        "duration": 5,
        "start_time": "2024-08-21T12:06:27.970Z"
      },
      {
        "duration": 8,
        "start_time": "2024-08-21T12:06:27.976Z"
      },
      {
        "duration": 7,
        "start_time": "2024-08-21T12:06:27.986Z"
      },
      {
        "duration": 8,
        "start_time": "2024-08-21T12:06:27.995Z"
      },
      {
        "duration": 19,
        "start_time": "2024-08-21T12:06:28.005Z"
      },
      {
        "duration": 61,
        "start_time": "2024-08-21T12:06:28.025Z"
      },
      {
        "duration": 6,
        "start_time": "2024-08-21T12:06:28.087Z"
      },
      {
        "duration": 11,
        "start_time": "2024-08-21T12:06:28.095Z"
      },
      {
        "duration": 14,
        "start_time": "2024-08-21T12:06:28.108Z"
      },
      {
        "duration": 40,
        "start_time": "2024-08-21T12:06:28.124Z"
      },
      {
        "duration": 14,
        "start_time": "2024-08-21T12:06:28.166Z"
      },
      {
        "duration": 15,
        "start_time": "2024-08-21T12:06:28.183Z"
      },
      {
        "duration": 12,
        "start_time": "2024-08-21T12:06:28.200Z"
      },
      {
        "duration": 10,
        "start_time": "2024-08-21T12:06:28.213Z"
      },
      {
        "duration": 50,
        "start_time": "2024-08-21T12:06:28.224Z"
      },
      {
        "duration": 31,
        "start_time": "2024-08-21T12:06:28.278Z"
      },
      {
        "duration": 5,
        "start_time": "2024-08-21T12:06:28.311Z"
      },
      {
        "duration": 56,
        "start_time": "2024-08-21T12:06:28.318Z"
      },
      {
        "duration": 12,
        "start_time": "2024-08-21T12:06:28.376Z"
      },
      {
        "duration": 16,
        "start_time": "2024-08-21T12:06:28.390Z"
      },
      {
        "duration": 3,
        "start_time": "2024-08-21T12:06:28.408Z"
      },
      {
        "duration": 5,
        "start_time": "2024-08-21T12:06:28.412Z"
      },
      {
        "duration": 46,
        "start_time": "2024-08-21T12:06:28.420Z"
      },
      {
        "duration": 42,
        "start_time": "2024-08-21T12:06:28.468Z"
      },
      {
        "duration": 13,
        "start_time": "2024-08-21T12:06:28.512Z"
      },
      {
        "duration": 6,
        "start_time": "2024-08-21T12:06:28.527Z"
      },
      {
        "duration": 55,
        "start_time": "2024-08-21T12:06:28.561Z"
      },
      {
        "duration": 12,
        "start_time": "2024-08-21T12:06:28.617Z"
      },
      {
        "duration": 87,
        "start_time": "2024-08-21T12:06:28.631Z"
      },
      {
        "duration": 28,
        "start_time": "2024-08-21T12:06:28.720Z"
      },
      {
        "duration": 26,
        "start_time": "2024-08-21T12:06:28.749Z"
      },
      {
        "duration": 7,
        "start_time": "2024-08-21T12:06:28.777Z"
      },
      {
        "duration": 14,
        "start_time": "2024-08-21T12:06:28.786Z"
      },
      {
        "duration": 17,
        "start_time": "2024-08-21T12:06:28.802Z"
      },
      {
        "duration": 46,
        "start_time": "2024-08-21T12:06:28.820Z"
      },
      {
        "duration": 7,
        "start_time": "2024-08-21T12:06:28.868Z"
      },
      {
        "duration": 16,
        "start_time": "2024-08-21T12:06:28.876Z"
      },
      {
        "duration": 4,
        "start_time": "2024-08-21T12:06:28.894Z"
      },
      {
        "duration": 11,
        "start_time": "2024-08-21T12:06:28.899Z"
      },
      {
        "duration": 4,
        "start_time": "2024-08-21T12:06:28.912Z"
      },
      {
        "duration": 57,
        "start_time": "2024-08-21T12:06:28.918Z"
      },
      {
        "duration": 72,
        "start_time": "2024-08-21T12:06:28.977Z"
      },
      {
        "duration": 41,
        "start_time": "2024-08-21T12:06:29.051Z"
      },
      {
        "duration": 9,
        "start_time": "2024-08-21T12:06:29.094Z"
      },
      {
        "duration": 4,
        "start_time": "2024-08-21T12:06:29.104Z"
      },
      {
        "duration": 51,
        "start_time": "2024-08-21T12:06:29.109Z"
      },
      {
        "duration": 8,
        "start_time": "2024-08-21T12:06:29.164Z"
      },
      {
        "duration": 11,
        "start_time": "2024-08-21T12:06:29.174Z"
      },
      {
        "duration": 188,
        "start_time": "2024-08-21T12:06:29.186Z"
      },
      {
        "duration": 10,
        "start_time": "2024-08-21T12:06:29.376Z"
      },
      {
        "duration": 22,
        "start_time": "2024-08-21T12:06:29.388Z"
      },
      {
        "duration": 50,
        "start_time": "2024-08-21T12:06:29.411Z"
      },
      {
        "duration": 504,
        "start_time": "2024-08-21T12:06:29.463Z"
      },
      {
        "duration": 14,
        "start_time": "2024-08-21T12:06:29.969Z"
      },
      {
        "duration": 7,
        "start_time": "2024-08-21T12:06:29.985Z"
      },
      {
        "duration": 8,
        "start_time": "2024-08-21T12:06:29.994Z"
      },
      {
        "duration": 78,
        "start_time": "2024-08-21T12:06:30.005Z"
      },
      {
        "duration": 218,
        "start_time": "2024-08-21T12:06:30.085Z"
      },
      {
        "duration": 1096,
        "start_time": "2024-08-21T12:06:30.305Z"
      },
      {
        "duration": 19,
        "start_time": "2024-08-21T12:06:31.403Z"
      },
      {
        "duration": 162,
        "start_time": "2024-08-21T12:06:31.426Z"
      },
      {
        "duration": 5,
        "start_time": "2024-08-21T12:06:31.590Z"
      },
      {
        "duration": 240,
        "start_time": "2024-08-21T12:06:31.596Z"
      },
      {
        "duration": 32,
        "start_time": "2024-08-21T12:06:31.837Z"
      },
      {
        "duration": 6,
        "start_time": "2024-08-21T12:06:31.870Z"
      },
      {
        "duration": 611,
        "start_time": "2024-08-21T12:09:36.573Z"
      },
      {
        "duration": 20,
        "start_time": "2024-08-21T12:10:03.413Z"
      },
      {
        "duration": 2,
        "start_time": "2024-08-21T12:10:07.473Z"
      },
      {
        "duration": 23,
        "start_time": "2024-08-21T12:10:07.476Z"
      },
      {
        "duration": 182,
        "start_time": "2024-08-21T12:10:07.501Z"
      },
      {
        "duration": 14,
        "start_time": "2024-08-21T12:10:07.685Z"
      },
      {
        "duration": 18,
        "start_time": "2024-08-21T12:10:07.700Z"
      },
      {
        "duration": 45,
        "start_time": "2024-08-21T12:10:07.719Z"
      },
      {
        "duration": 39,
        "start_time": "2024-08-21T12:10:07.766Z"
      },
      {
        "duration": 175,
        "start_time": "2024-08-21T12:10:07.807Z"
      },
      {
        "duration": 4,
        "start_time": "2024-08-21T12:10:07.985Z"
      },
      {
        "duration": 50,
        "start_time": "2024-08-21T12:10:07.990Z"
      },
      {
        "duration": 23,
        "start_time": "2024-08-21T12:10:08.042Z"
      },
      {
        "duration": 16,
        "start_time": "2024-08-21T12:10:08.066Z"
      },
      {
        "duration": 39,
        "start_time": "2024-08-21T12:10:08.084Z"
      },
      {
        "duration": 36,
        "start_time": "2024-08-21T12:10:08.125Z"
      },
      {
        "duration": 18,
        "start_time": "2024-08-21T12:10:08.163Z"
      },
      {
        "duration": 33,
        "start_time": "2024-08-21T12:10:08.183Z"
      },
      {
        "duration": 70,
        "start_time": "2024-08-21T12:10:08.218Z"
      },
      {
        "duration": 16,
        "start_time": "2024-08-21T12:10:08.290Z"
      },
      {
        "duration": 38,
        "start_time": "2024-08-21T12:10:08.308Z"
      },
      {
        "duration": 40,
        "start_time": "2024-08-21T12:10:08.348Z"
      },
      {
        "duration": 21,
        "start_time": "2024-08-21T12:10:08.389Z"
      },
      {
        "duration": 26,
        "start_time": "2024-08-21T12:10:08.412Z"
      },
      {
        "duration": 20,
        "start_time": "2024-08-21T12:10:08.440Z"
      },
      {
        "duration": 31,
        "start_time": "2024-08-21T12:10:08.464Z"
      },
      {
        "duration": 7,
        "start_time": "2024-08-21T12:10:08.497Z"
      },
      {
        "duration": 50,
        "start_time": "2024-08-21T12:10:08.506Z"
      },
      {
        "duration": 10,
        "start_time": "2024-08-21T12:10:08.558Z"
      },
      {
        "duration": 25,
        "start_time": "2024-08-21T12:10:08.570Z"
      },
      {
        "duration": 10,
        "start_time": "2024-08-21T12:10:08.597Z"
      },
      {
        "duration": 28,
        "start_time": "2024-08-21T12:10:08.608Z"
      },
      {
        "duration": 28,
        "start_time": "2024-08-21T12:10:08.638Z"
      },
      {
        "duration": 63,
        "start_time": "2024-08-21T12:10:08.669Z"
      },
      {
        "duration": 14,
        "start_time": "2024-08-21T12:10:08.735Z"
      },
      {
        "duration": 15,
        "start_time": "2024-08-21T12:10:08.751Z"
      },
      {
        "duration": 82,
        "start_time": "2024-08-21T12:10:08.768Z"
      },
      {
        "duration": 20,
        "start_time": "2024-08-21T12:10:08.852Z"
      },
      {
        "duration": 57,
        "start_time": "2024-08-21T12:10:08.874Z"
      },
      {
        "duration": 36,
        "start_time": "2024-08-21T12:10:08.933Z"
      },
      {
        "duration": 18,
        "start_time": "2024-08-21T12:10:08.971Z"
      },
      {
        "duration": 45,
        "start_time": "2024-08-21T12:10:08.990Z"
      },
      {
        "duration": 22,
        "start_time": "2024-08-21T12:10:09.037Z"
      },
      {
        "duration": 30,
        "start_time": "2024-08-21T12:10:09.061Z"
      },
      {
        "duration": 49,
        "start_time": "2024-08-21T12:10:09.093Z"
      },
      {
        "duration": 8,
        "start_time": "2024-08-21T12:10:09.144Z"
      },
      {
        "duration": 30,
        "start_time": "2024-08-21T12:10:09.154Z"
      },
      {
        "duration": 28,
        "start_time": "2024-08-21T12:10:09.186Z"
      },
      {
        "duration": 36,
        "start_time": "2024-08-21T12:10:09.216Z"
      },
      {
        "duration": 33,
        "start_time": "2024-08-21T12:10:09.254Z"
      },
      {
        "duration": 39,
        "start_time": "2024-08-21T12:10:09.289Z"
      },
      {
        "duration": 95,
        "start_time": "2024-08-21T12:10:09.330Z"
      },
      {
        "duration": 33,
        "start_time": "2024-08-21T12:10:09.427Z"
      },
      {
        "duration": 39,
        "start_time": "2024-08-21T12:10:09.462Z"
      },
      {
        "duration": 30,
        "start_time": "2024-08-21T12:10:09.502Z"
      },
      {
        "duration": 32,
        "start_time": "2024-08-21T12:10:09.534Z"
      },
      {
        "duration": 17,
        "start_time": "2024-08-21T12:10:09.567Z"
      },
      {
        "duration": 22,
        "start_time": "2024-08-21T12:10:09.585Z"
      },
      {
        "duration": 207,
        "start_time": "2024-08-21T12:10:09.608Z"
      },
      {
        "duration": 9,
        "start_time": "2024-08-21T12:10:09.816Z"
      },
      {
        "duration": 80,
        "start_time": "2024-08-21T12:10:09.827Z"
      },
      {
        "duration": 25,
        "start_time": "2024-08-21T12:10:09.909Z"
      },
      {
        "duration": 410,
        "start_time": "2024-08-21T12:10:09.936Z"
      },
      {
        "duration": 22,
        "start_time": "2024-08-21T12:10:10.348Z"
      },
      {
        "duration": 17,
        "start_time": "2024-08-21T12:10:10.372Z"
      },
      {
        "duration": 5,
        "start_time": "2024-08-21T12:10:10.391Z"
      },
      {
        "duration": 16,
        "start_time": "2024-08-21T12:10:10.398Z"
      },
      {
        "duration": 208,
        "start_time": "2024-08-21T12:10:10.416Z"
      },
      {
        "duration": 835,
        "start_time": "2024-08-21T12:10:10.626Z"
      },
      {
        "duration": 20,
        "start_time": "2024-08-21T12:10:11.463Z"
      },
      {
        "duration": 174,
        "start_time": "2024-08-21T12:10:11.489Z"
      },
      {
        "duration": 5,
        "start_time": "2024-08-21T12:10:11.665Z"
      },
      {
        "duration": 230,
        "start_time": "2024-08-21T12:10:11.672Z"
      },
      {
        "duration": 28,
        "start_time": "2024-08-21T12:10:11.904Z"
      },
      {
        "duration": 35,
        "start_time": "2024-08-21T12:10:11.934Z"
      },
      {
        "duration": 3,
        "start_time": "2024-08-21T12:10:35.136Z"
      },
      {
        "duration": 24,
        "start_time": "2024-08-21T12:10:35.141Z"
      },
      {
        "duration": 175,
        "start_time": "2024-08-21T12:10:35.167Z"
      },
      {
        "duration": 23,
        "start_time": "2024-08-21T12:10:35.345Z"
      },
      {
        "duration": 15,
        "start_time": "2024-08-21T12:10:35.370Z"
      },
      {
        "duration": 16,
        "start_time": "2024-08-21T12:10:35.387Z"
      },
      {
        "duration": 24,
        "start_time": "2024-08-21T12:10:35.405Z"
      },
      {
        "duration": 46,
        "start_time": "2024-08-21T12:10:35.431Z"
      },
      {
        "duration": 4,
        "start_time": "2024-08-21T12:10:35.481Z"
      },
      {
        "duration": 16,
        "start_time": "2024-08-21T12:10:35.487Z"
      },
      {
        "duration": 22,
        "start_time": "2024-08-21T12:10:35.505Z"
      },
      {
        "duration": 30,
        "start_time": "2024-08-21T12:10:35.530Z"
      },
      {
        "duration": 19,
        "start_time": "2024-08-21T12:10:35.561Z"
      },
      {
        "duration": 45,
        "start_time": "2024-08-21T12:10:35.582Z"
      },
      {
        "duration": 6,
        "start_time": "2024-08-21T12:10:35.629Z"
      },
      {
        "duration": 22,
        "start_time": "2024-08-21T12:10:35.637Z"
      },
      {
        "duration": 21,
        "start_time": "2024-08-21T12:10:35.661Z"
      },
      {
        "duration": 13,
        "start_time": "2024-08-21T12:10:35.684Z"
      },
      {
        "duration": 13,
        "start_time": "2024-08-21T12:10:35.698Z"
      },
      {
        "duration": 16,
        "start_time": "2024-08-21T12:10:35.712Z"
      },
      {
        "duration": 9,
        "start_time": "2024-08-21T12:10:35.730Z"
      },
      {
        "duration": 4,
        "start_time": "2024-08-21T12:10:35.761Z"
      },
      {
        "duration": 42,
        "start_time": "2024-08-21T12:10:35.767Z"
      },
      {
        "duration": 88,
        "start_time": "2024-08-21T12:10:35.813Z"
      },
      {
        "duration": 5,
        "start_time": "2024-08-21T12:10:35.903Z"
      },
      {
        "duration": 20,
        "start_time": "2024-08-21T12:10:35.909Z"
      },
      {
        "duration": 33,
        "start_time": "2024-08-21T12:10:35.931Z"
      },
      {
        "duration": 15,
        "start_time": "2024-08-21T12:10:35.966Z"
      },
      {
        "duration": 2,
        "start_time": "2024-08-21T12:10:35.983Z"
      },
      {
        "duration": 8,
        "start_time": "2024-08-21T12:10:35.987Z"
      },
      {
        "duration": 13,
        "start_time": "2024-08-21T12:10:35.997Z"
      },
      {
        "duration": 55,
        "start_time": "2024-08-21T12:10:36.012Z"
      },
      {
        "duration": 14,
        "start_time": "2024-08-21T12:10:36.068Z"
      },
      {
        "duration": 26,
        "start_time": "2024-08-21T12:10:36.084Z"
      },
      {
        "duration": 60,
        "start_time": "2024-08-21T12:10:36.112Z"
      },
      {
        "duration": 11,
        "start_time": "2024-08-21T12:10:36.174Z"
      },
      {
        "duration": 72,
        "start_time": "2024-08-21T12:10:36.187Z"
      },
      {
        "duration": 26,
        "start_time": "2024-08-21T12:10:36.261Z"
      },
      {
        "duration": 18,
        "start_time": "2024-08-21T12:10:36.289Z"
      },
      {
        "duration": 8,
        "start_time": "2024-08-21T12:10:36.308Z"
      },
      {
        "duration": 25,
        "start_time": "2024-08-21T12:10:36.318Z"
      },
      {
        "duration": 26,
        "start_time": "2024-08-21T12:10:36.344Z"
      },
      {
        "duration": 30,
        "start_time": "2024-08-21T12:10:36.372Z"
      },
      {
        "duration": 7,
        "start_time": "2024-08-21T12:10:36.403Z"
      },
      {
        "duration": 21,
        "start_time": "2024-08-21T12:10:36.411Z"
      },
      {
        "duration": 24,
        "start_time": "2024-08-21T12:10:36.434Z"
      },
      {
        "duration": 10,
        "start_time": "2024-08-21T12:10:36.460Z"
      },
      {
        "duration": 8,
        "start_time": "2024-08-21T12:10:36.471Z"
      },
      {
        "duration": 18,
        "start_time": "2024-08-21T12:10:36.480Z"
      },
      {
        "duration": 153,
        "start_time": "2024-08-21T12:10:36.499Z"
      },
      {
        "duration": 44,
        "start_time": "2024-08-21T12:10:36.653Z"
      },
      {
        "duration": 9,
        "start_time": "2024-08-21T12:10:36.699Z"
      },
      {
        "duration": 13,
        "start_time": "2024-08-21T12:10:36.710Z"
      },
      {
        "duration": 38,
        "start_time": "2024-08-21T12:10:36.725Z"
      },
      {
        "duration": 7,
        "start_time": "2024-08-21T12:10:36.765Z"
      },
      {
        "duration": 11,
        "start_time": "2024-08-21T12:10:36.774Z"
      },
      {
        "duration": 174,
        "start_time": "2024-08-21T12:10:36.786Z"
      },
      {
        "duration": 7,
        "start_time": "2024-08-21T12:10:36.962Z"
      },
      {
        "duration": 21,
        "start_time": "2024-08-21T12:10:36.971Z"
      },
      {
        "duration": 23,
        "start_time": "2024-08-21T12:10:36.994Z"
      },
      {
        "duration": 456,
        "start_time": "2024-08-21T12:10:37.018Z"
      },
      {
        "duration": 15,
        "start_time": "2024-08-21T12:10:37.476Z"
      },
      {
        "duration": 16,
        "start_time": "2024-08-21T12:10:37.492Z"
      },
      {
        "duration": 24,
        "start_time": "2024-08-21T12:10:37.510Z"
      },
      {
        "duration": 51,
        "start_time": "2024-08-21T12:10:37.536Z"
      },
      {
        "duration": 171,
        "start_time": "2024-08-21T12:10:37.588Z"
      },
      {
        "duration": 834,
        "start_time": "2024-08-21T12:10:37.760Z"
      },
      {
        "duration": 18,
        "start_time": "2024-08-21T12:10:38.596Z"
      },
      {
        "duration": 174,
        "start_time": "2024-08-21T12:10:38.619Z"
      },
      {
        "duration": 5,
        "start_time": "2024-08-21T12:10:38.794Z"
      },
      {
        "duration": 238,
        "start_time": "2024-08-21T12:10:38.801Z"
      },
      {
        "duration": 36,
        "start_time": "2024-08-21T12:10:39.041Z"
      },
      {
        "duration": 81,
        "start_time": "2024-08-21T12:10:39.079Z"
      },
      {
        "duration": 0,
        "start_time": "2024-08-21T12:10:39.162Z"
      },
      {
        "duration": 6,
        "start_time": "2024-08-21T12:10:51.151Z"
      },
      {
        "duration": 2,
        "start_time": "2024-08-21T12:13:04.021Z"
      },
      {
        "duration": 19,
        "start_time": "2024-08-21T12:13:04.026Z"
      },
      {
        "duration": 167,
        "start_time": "2024-08-21T12:13:04.047Z"
      },
      {
        "duration": 13,
        "start_time": "2024-08-21T12:13:04.216Z"
      },
      {
        "duration": 12,
        "start_time": "2024-08-21T12:13:04.230Z"
      },
      {
        "duration": 28,
        "start_time": "2024-08-21T12:13:04.244Z"
      },
      {
        "duration": 23,
        "start_time": "2024-08-21T12:13:04.274Z"
      },
      {
        "duration": 17,
        "start_time": "2024-08-21T12:13:04.299Z"
      },
      {
        "duration": 5,
        "start_time": "2024-08-21T12:13:04.318Z"
      },
      {
        "duration": 8,
        "start_time": "2024-08-21T12:13:04.325Z"
      },
      {
        "duration": 29,
        "start_time": "2024-08-21T12:13:04.335Z"
      },
      {
        "duration": 28,
        "start_time": "2024-08-21T12:13:04.366Z"
      },
      {
        "duration": 31,
        "start_time": "2024-08-21T12:13:04.395Z"
      },
      {
        "duration": 21,
        "start_time": "2024-08-21T12:13:04.427Z"
      },
      {
        "duration": 5,
        "start_time": "2024-08-21T12:13:04.451Z"
      },
      {
        "duration": 15,
        "start_time": "2024-08-21T12:13:04.458Z"
      },
      {
        "duration": 13,
        "start_time": "2024-08-21T12:13:04.475Z"
      },
      {
        "duration": 15,
        "start_time": "2024-08-21T12:13:04.490Z"
      },
      {
        "duration": 22,
        "start_time": "2024-08-21T12:13:04.507Z"
      },
      {
        "duration": 46,
        "start_time": "2024-08-21T12:13:04.531Z"
      },
      {
        "duration": 11,
        "start_time": "2024-08-21T12:13:04.578Z"
      },
      {
        "duration": 9,
        "start_time": "2024-08-21T12:13:04.591Z"
      },
      {
        "duration": 36,
        "start_time": "2024-08-21T12:13:04.601Z"
      },
      {
        "duration": 34,
        "start_time": "2024-08-21T12:13:04.638Z"
      },
      {
        "duration": 5,
        "start_time": "2024-08-21T12:13:04.674Z"
      },
      {
        "duration": 19,
        "start_time": "2024-08-21T12:13:04.681Z"
      },
      {
        "duration": 7,
        "start_time": "2024-08-21T12:13:04.702Z"
      },
      {
        "duration": 14,
        "start_time": "2024-08-21T12:13:04.711Z"
      },
      {
        "duration": 16,
        "start_time": "2024-08-21T12:13:04.727Z"
      },
      {
        "duration": 3,
        "start_time": "2024-08-21T12:13:04.761Z"
      },
      {
        "duration": 12,
        "start_time": "2024-08-21T12:13:04.765Z"
      },
      {
        "duration": 28,
        "start_time": "2024-08-21T12:13:04.778Z"
      },
      {
        "duration": 13,
        "start_time": "2024-08-21T12:13:04.808Z"
      },
      {
        "duration": 6,
        "start_time": "2024-08-21T12:13:04.823Z"
      },
      {
        "duration": 72,
        "start_time": "2024-08-21T12:13:04.830Z"
      },
      {
        "duration": 11,
        "start_time": "2024-08-21T12:13:04.903Z"
      },
      {
        "duration": 73,
        "start_time": "2024-08-21T12:13:04.916Z"
      },
      {
        "duration": 26,
        "start_time": "2024-08-21T12:13:04.990Z"
      },
      {
        "duration": 18,
        "start_time": "2024-08-21T12:13:05.018Z"
      },
      {
        "duration": 27,
        "start_time": "2024-08-21T12:13:05.037Z"
      },
      {
        "duration": 4,
        "start_time": "2024-08-21T12:13:05.065Z"
      },
      {
        "duration": 7,
        "start_time": "2024-08-21T12:13:05.074Z"
      },
      {
        "duration": 27,
        "start_time": "2024-08-21T12:13:05.082Z"
      },
      {
        "duration": 5,
        "start_time": "2024-08-21T12:13:05.111Z"
      },
      {
        "duration": 8,
        "start_time": "2024-08-21T12:13:05.118Z"
      },
      {
        "duration": 35,
        "start_time": "2024-08-21T12:13:05.127Z"
      },
      {
        "duration": 7,
        "start_time": "2024-08-21T12:13:05.164Z"
      },
      {
        "duration": 5,
        "start_time": "2024-08-21T12:13:05.173Z"
      },
      {
        "duration": 18,
        "start_time": "2024-08-21T12:13:05.179Z"
      },
      {
        "duration": 173,
        "start_time": "2024-08-21T12:13:05.199Z"
      },
      {
        "duration": 30,
        "start_time": "2024-08-21T12:13:05.374Z"
      },
      {
        "duration": 18,
        "start_time": "2024-08-21T12:13:05.405Z"
      },
      {
        "duration": 4,
        "start_time": "2024-08-21T12:13:05.424Z"
      },
      {
        "duration": 42,
        "start_time": "2024-08-21T12:13:05.430Z"
      },
      {
        "duration": 9,
        "start_time": "2024-08-21T12:13:05.474Z"
      },
      {
        "duration": 53,
        "start_time": "2024-08-21T12:13:05.485Z"
      },
      {
        "duration": 182,
        "start_time": "2024-08-21T12:13:05.539Z"
      },
      {
        "duration": 6,
        "start_time": "2024-08-21T12:13:05.723Z"
      },
      {
        "duration": 35,
        "start_time": "2024-08-21T12:13:05.731Z"
      },
      {
        "duration": 24,
        "start_time": "2024-08-21T12:13:05.767Z"
      },
      {
        "duration": 454,
        "start_time": "2024-08-21T12:13:05.793Z"
      },
      {
        "duration": 25,
        "start_time": "2024-08-21T12:13:06.248Z"
      },
      {
        "duration": 6,
        "start_time": "2024-08-21T12:13:06.275Z"
      },
      {
        "duration": 26,
        "start_time": "2024-08-21T12:13:06.282Z"
      },
      {
        "duration": 20,
        "start_time": "2024-08-21T12:13:06.310Z"
      },
      {
        "duration": 184,
        "start_time": "2024-08-21T12:13:06.331Z"
      },
      {
        "duration": 837,
        "start_time": "2024-08-21T12:13:06.517Z"
      },
      {
        "duration": 21,
        "start_time": "2024-08-21T12:13:07.357Z"
      },
      {
        "duration": 184,
        "start_time": "2024-08-21T12:13:07.380Z"
      },
      {
        "duration": 6,
        "start_time": "2024-08-21T12:13:07.565Z"
      },
      {
        "duration": 223,
        "start_time": "2024-08-21T12:13:07.572Z"
      },
      {
        "duration": 29,
        "start_time": "2024-08-21T12:13:07.797Z"
      },
      {
        "duration": 60,
        "start_time": "2024-08-21T12:13:07.828Z"
      },
      {
        "duration": 13,
        "start_time": "2024-08-21T12:15:12.610Z"
      },
      {
        "duration": 3,
        "start_time": "2024-08-21T12:15:22.378Z"
      },
      {
        "duration": 10,
        "start_time": "2024-08-21T12:15:22.382Z"
      },
      {
        "duration": 171,
        "start_time": "2024-08-21T12:15:22.393Z"
      },
      {
        "duration": 15,
        "start_time": "2024-08-21T12:15:22.566Z"
      },
      {
        "duration": 12,
        "start_time": "2024-08-21T12:15:22.582Z"
      },
      {
        "duration": 23,
        "start_time": "2024-08-21T12:15:22.595Z"
      },
      {
        "duration": 49,
        "start_time": "2024-08-21T12:15:22.620Z"
      },
      {
        "duration": 16,
        "start_time": "2024-08-21T12:15:22.670Z"
      },
      {
        "duration": 4,
        "start_time": "2024-08-21T12:15:22.689Z"
      },
      {
        "duration": 9,
        "start_time": "2024-08-21T12:15:22.694Z"
      },
      {
        "duration": 4,
        "start_time": "2024-08-21T12:15:22.704Z"
      },
      {
        "duration": 13,
        "start_time": "2024-08-21T12:15:22.710Z"
      },
      {
        "duration": 41,
        "start_time": "2024-08-21T12:15:22.725Z"
      },
      {
        "duration": 22,
        "start_time": "2024-08-21T12:15:22.768Z"
      },
      {
        "duration": 6,
        "start_time": "2024-08-21T12:15:22.791Z"
      },
      {
        "duration": 14,
        "start_time": "2024-08-21T12:15:22.798Z"
      },
      {
        "duration": 14,
        "start_time": "2024-08-21T12:15:22.814Z"
      },
      {
        "duration": 43,
        "start_time": "2024-08-21T12:15:22.830Z"
      },
      {
        "duration": 15,
        "start_time": "2024-08-21T12:15:22.875Z"
      },
      {
        "duration": 18,
        "start_time": "2024-08-21T12:15:22.892Z"
      },
      {
        "duration": 10,
        "start_time": "2024-08-21T12:15:22.912Z"
      },
      {
        "duration": 9,
        "start_time": "2024-08-21T12:15:22.923Z"
      },
      {
        "duration": 34,
        "start_time": "2024-08-21T12:15:22.933Z"
      },
      {
        "duration": 31,
        "start_time": "2024-08-21T12:15:22.973Z"
      },
      {
        "duration": 5,
        "start_time": "2024-08-21T12:15:23.006Z"
      },
      {
        "duration": 20,
        "start_time": "2024-08-21T12:15:23.012Z"
      },
      {
        "duration": 32,
        "start_time": "2024-08-21T12:15:23.034Z"
      },
      {
        "duration": 12,
        "start_time": "2024-08-21T12:15:23.068Z"
      },
      {
        "duration": 3,
        "start_time": "2024-08-21T12:15:23.082Z"
      },
      {
        "duration": 4,
        "start_time": "2024-08-21T12:15:23.086Z"
      },
      {
        "duration": 11,
        "start_time": "2024-08-21T12:15:23.092Z"
      },
      {
        "duration": 68,
        "start_time": "2024-08-21T12:15:23.106Z"
      },
      {
        "duration": 14,
        "start_time": "2024-08-21T12:15:23.176Z"
      },
      {
        "duration": 6,
        "start_time": "2024-08-21T12:15:23.192Z"
      },
      {
        "duration": 63,
        "start_time": "2024-08-21T12:15:23.199Z"
      },
      {
        "duration": 11,
        "start_time": "2024-08-21T12:15:23.264Z"
      },
      {
        "duration": 57,
        "start_time": "2024-08-21T12:15:23.277Z"
      },
      {
        "duration": 46,
        "start_time": "2024-08-21T12:15:23.336Z"
      },
      {
        "duration": 23,
        "start_time": "2024-08-21T12:15:23.383Z"
      },
      {
        "duration": 8,
        "start_time": "2024-08-21T12:15:23.408Z"
      },
      {
        "duration": 11,
        "start_time": "2024-08-21T12:15:23.418Z"
      },
      {
        "duration": 33,
        "start_time": "2024-08-21T12:15:23.431Z"
      },
      {
        "duration": 36,
        "start_time": "2024-08-21T12:15:23.465Z"
      },
      {
        "duration": 6,
        "start_time": "2024-08-21T12:15:23.503Z"
      },
      {
        "duration": 10,
        "start_time": "2024-08-21T12:15:23.511Z"
      },
      {
        "duration": 4,
        "start_time": "2024-08-21T12:15:23.523Z"
      },
      {
        "duration": 32,
        "start_time": "2024-08-21T12:15:23.529Z"
      },
      {
        "duration": 4,
        "start_time": "2024-08-21T12:15:23.563Z"
      },
      {
        "duration": 17,
        "start_time": "2024-08-21T12:15:23.569Z"
      },
      {
        "duration": 167,
        "start_time": "2024-08-21T12:15:23.588Z"
      },
      {
        "duration": 31,
        "start_time": "2024-08-21T12:15:23.757Z"
      },
      {
        "duration": 9,
        "start_time": "2024-08-21T12:15:23.789Z"
      },
      {
        "duration": 4,
        "start_time": "2024-08-21T12:15:23.799Z"
      },
      {
        "duration": 67,
        "start_time": "2024-08-21T12:15:23.804Z"
      },
      {
        "duration": 8,
        "start_time": "2024-08-21T12:15:23.873Z"
      },
      {
        "duration": 8,
        "start_time": "2024-08-21T12:15:23.883Z"
      },
      {
        "duration": 188,
        "start_time": "2024-08-21T12:15:23.893Z"
      },
      {
        "duration": 7,
        "start_time": "2024-08-21T12:15:24.082Z"
      },
      {
        "duration": 20,
        "start_time": "2024-08-21T12:15:24.091Z"
      },
      {
        "duration": 23,
        "start_time": "2024-08-21T12:15:24.112Z"
      },
      {
        "duration": 425,
        "start_time": "2024-08-21T12:15:24.137Z"
      },
      {
        "duration": 211,
        "start_time": "2024-08-21T12:15:24.564Z"
      },
      {
        "duration": 15,
        "start_time": "2024-08-21T12:15:24.776Z"
      },
      {
        "duration": 5,
        "start_time": "2024-08-21T12:15:24.792Z"
      },
      {
        "duration": 6,
        "start_time": "2024-08-21T12:15:24.799Z"
      },
      {
        "duration": 9,
        "start_time": "2024-08-21T12:15:24.807Z"
      },
      {
        "duration": 189,
        "start_time": "2024-08-21T12:15:24.817Z"
      },
      {
        "duration": 842,
        "start_time": "2024-08-21T12:15:25.008Z"
      },
      {
        "duration": 21,
        "start_time": "2024-08-21T12:15:25.855Z"
      },
      {
        "duration": 191,
        "start_time": "2024-08-21T12:15:25.878Z"
      },
      {
        "duration": 6,
        "start_time": "2024-08-21T12:15:26.071Z"
      },
      {
        "duration": 227,
        "start_time": "2024-08-21T12:15:26.078Z"
      },
      {
        "duration": 28,
        "start_time": "2024-08-21T12:15:26.307Z"
      },
      {
        "duration": 24,
        "start_time": "2024-08-21T12:15:26.337Z"
      },
      {
        "duration": 196,
        "start_time": "2024-08-21T12:15:54.909Z"
      },
      {
        "duration": 219,
        "start_time": "2024-08-21T12:17:28.414Z"
      },
      {
        "duration": 319,
        "start_time": "2024-08-21T12:18:27.099Z"
      },
      {
        "duration": 269,
        "start_time": "2024-08-21T12:18:33.825Z"
      },
      {
        "duration": 242,
        "start_time": "2024-08-21T12:18:44.506Z"
      },
      {
        "duration": 69,
        "start_time": "2024-08-21T12:19:16.546Z"
      },
      {
        "duration": 79,
        "start_time": "2024-08-21T12:19:27.531Z"
      },
      {
        "duration": 2,
        "start_time": "2024-08-21T12:20:12.612Z"
      },
      {
        "duration": 35,
        "start_time": "2024-08-21T12:20:12.616Z"
      },
      {
        "duration": 183,
        "start_time": "2024-08-21T12:20:12.653Z"
      },
      {
        "duration": 13,
        "start_time": "2024-08-21T12:20:12.837Z"
      },
      {
        "duration": 17,
        "start_time": "2024-08-21T12:20:12.852Z"
      },
      {
        "duration": 45,
        "start_time": "2024-08-21T12:20:12.871Z"
      },
      {
        "duration": 44,
        "start_time": "2024-08-21T12:20:12.918Z"
      },
      {
        "duration": 17,
        "start_time": "2024-08-21T12:20:12.963Z"
      },
      {
        "duration": 13,
        "start_time": "2024-08-21T12:20:12.981Z"
      },
      {
        "duration": 30,
        "start_time": "2024-08-21T12:20:12.995Z"
      },
      {
        "duration": 32,
        "start_time": "2024-08-21T12:20:13.027Z"
      },
      {
        "duration": 38,
        "start_time": "2024-08-21T12:20:13.061Z"
      },
      {
        "duration": 61,
        "start_time": "2024-08-21T12:20:13.101Z"
      },
      {
        "duration": 33,
        "start_time": "2024-08-21T12:20:13.164Z"
      },
      {
        "duration": 26,
        "start_time": "2024-08-21T12:20:13.199Z"
      },
      {
        "duration": 35,
        "start_time": "2024-08-21T12:20:13.227Z"
      },
      {
        "duration": 43,
        "start_time": "2024-08-21T12:20:13.264Z"
      },
      {
        "duration": 25,
        "start_time": "2024-08-21T12:20:13.309Z"
      },
      {
        "duration": 39,
        "start_time": "2024-08-21T12:20:13.335Z"
      },
      {
        "duration": 31,
        "start_time": "2024-08-21T12:20:13.375Z"
      },
      {
        "duration": 28,
        "start_time": "2024-08-21T12:20:13.407Z"
      },
      {
        "duration": 29,
        "start_time": "2024-08-21T12:20:13.437Z"
      },
      {
        "duration": 25,
        "start_time": "2024-08-21T12:20:13.468Z"
      },
      {
        "duration": 68,
        "start_time": "2024-08-21T12:20:13.495Z"
      },
      {
        "duration": 15,
        "start_time": "2024-08-21T12:20:13.565Z"
      },
      {
        "duration": 51,
        "start_time": "2024-08-21T12:20:13.582Z"
      },
      {
        "duration": 21,
        "start_time": "2024-08-21T12:20:13.634Z"
      },
      {
        "duration": 31,
        "start_time": "2024-08-21T12:20:13.656Z"
      },
      {
        "duration": 13,
        "start_time": "2024-08-21T12:20:13.692Z"
      },
      {
        "duration": 33,
        "start_time": "2024-08-21T12:20:13.707Z"
      },
      {
        "duration": 36,
        "start_time": "2024-08-21T12:20:13.742Z"
      },
      {
        "duration": 59,
        "start_time": "2024-08-21T12:20:13.780Z"
      },
      {
        "duration": 50,
        "start_time": "2024-08-21T12:20:13.840Z"
      },
      {
        "duration": 18,
        "start_time": "2024-08-21T12:20:13.892Z"
      },
      {
        "duration": 81,
        "start_time": "2024-08-21T12:20:13.911Z"
      },
      {
        "duration": 21,
        "start_time": "2024-08-21T12:20:13.994Z"
      },
      {
        "duration": 63,
        "start_time": "2024-08-21T12:20:14.017Z"
      },
      {
        "duration": 27,
        "start_time": "2024-08-21T12:20:14.081Z"
      },
      {
        "duration": 23,
        "start_time": "2024-08-21T12:20:14.110Z"
      },
      {
        "duration": 6,
        "start_time": "2024-08-21T12:20:14.134Z"
      },
      {
        "duration": 26,
        "start_time": "2024-08-21T12:20:14.142Z"
      },
      {
        "duration": 38,
        "start_time": "2024-08-21T12:20:14.170Z"
      },
      {
        "duration": 59,
        "start_time": "2024-08-21T12:20:14.210Z"
      },
      {
        "duration": 18,
        "start_time": "2024-08-21T12:20:14.271Z"
      },
      {
        "duration": 40,
        "start_time": "2024-08-21T12:20:14.291Z"
      },
      {
        "duration": 38,
        "start_time": "2024-08-21T12:20:14.333Z"
      },
      {
        "duration": 30,
        "start_time": "2024-08-21T12:20:14.373Z"
      },
      {
        "duration": 20,
        "start_time": "2024-08-21T12:20:14.404Z"
      },
      {
        "duration": 43,
        "start_time": "2024-08-21T12:20:14.426Z"
      },
      {
        "duration": 86,
        "start_time": "2024-08-21T12:20:14.470Z"
      },
      {
        "duration": 30,
        "start_time": "2024-08-21T12:20:14.558Z"
      },
      {
        "duration": 26,
        "start_time": "2024-08-21T12:20:14.590Z"
      },
      {
        "duration": 26,
        "start_time": "2024-08-21T12:20:14.617Z"
      },
      {
        "duration": 43,
        "start_time": "2024-08-21T12:20:14.645Z"
      },
      {
        "duration": 20,
        "start_time": "2024-08-21T12:20:14.690Z"
      },
      {
        "duration": 35,
        "start_time": "2024-08-21T12:20:14.711Z"
      },
      {
        "duration": 191,
        "start_time": "2024-08-21T12:20:14.748Z"
      },
      {
        "duration": 8,
        "start_time": "2024-08-21T12:20:14.941Z"
      },
      {
        "duration": 36,
        "start_time": "2024-08-21T12:20:14.962Z"
      },
      {
        "duration": 34,
        "start_time": "2024-08-21T12:20:14.999Z"
      },
      {
        "duration": 411,
        "start_time": "2024-08-21T12:20:15.035Z"
      },
      {
        "duration": 286,
        "start_time": "2024-08-21T12:20:15.447Z"
      },
      {
        "duration": 14,
        "start_time": "2024-08-21T12:20:15.734Z"
      },
      {
        "duration": 8,
        "start_time": "2024-08-21T12:20:15.760Z"
      },
      {
        "duration": 33,
        "start_time": "2024-08-21T12:20:15.769Z"
      },
      {
        "duration": 40,
        "start_time": "2024-08-21T12:20:15.804Z"
      },
      {
        "duration": 213,
        "start_time": "2024-08-21T12:20:15.846Z"
      },
      {
        "duration": 925,
        "start_time": "2024-08-21T12:20:16.060Z"
      },
      {
        "duration": 20,
        "start_time": "2024-08-21T12:20:16.986Z"
      },
      {
        "duration": 182,
        "start_time": "2024-08-21T12:20:17.009Z"
      },
      {
        "duration": 5,
        "start_time": "2024-08-21T12:20:17.193Z"
      },
      {
        "duration": 228,
        "start_time": "2024-08-21T12:20:17.199Z"
      },
      {
        "duration": 38,
        "start_time": "2024-08-21T12:20:17.429Z"
      },
      {
        "duration": 6,
        "start_time": "2024-08-21T12:20:17.468Z"
      },
      {
        "duration": 3,
        "start_time": "2024-08-21T12:22:47.034Z"
      },
      {
        "duration": 4,
        "start_time": "2024-08-21T12:22:47.040Z"
      },
      {
        "duration": 166,
        "start_time": "2024-08-21T12:22:47.046Z"
      },
      {
        "duration": 15,
        "start_time": "2024-08-21T12:22:47.214Z"
      },
      {
        "duration": 12,
        "start_time": "2024-08-21T12:22:47.260Z"
      },
      {
        "duration": 17,
        "start_time": "2024-08-21T12:22:47.274Z"
      },
      {
        "duration": 23,
        "start_time": "2024-08-21T12:22:47.293Z"
      },
      {
        "duration": 43,
        "start_time": "2024-08-21T12:22:47.318Z"
      },
      {
        "duration": 5,
        "start_time": "2024-08-21T12:22:47.363Z"
      },
      {
        "duration": 6,
        "start_time": "2024-08-21T12:22:47.370Z"
      },
      {
        "duration": 4,
        "start_time": "2024-08-21T12:22:47.380Z"
      },
      {
        "duration": 7,
        "start_time": "2024-08-21T12:22:47.386Z"
      },
      {
        "duration": 19,
        "start_time": "2024-08-21T12:22:47.395Z"
      },
      {
        "duration": 62,
        "start_time": "2024-08-21T12:22:47.416Z"
      },
      {
        "duration": 6,
        "start_time": "2024-08-21T12:22:47.480Z"
      },
      {
        "duration": 11,
        "start_time": "2024-08-21T12:22:47.488Z"
      },
      {
        "duration": 22,
        "start_time": "2024-08-21T12:22:47.501Z"
      },
      {
        "duration": 13,
        "start_time": "2024-08-21T12:22:47.525Z"
      },
      {
        "duration": 15,
        "start_time": "2024-08-21T12:22:47.561Z"
      },
      {
        "duration": 14,
        "start_time": "2024-08-21T12:22:47.578Z"
      },
      {
        "duration": 10,
        "start_time": "2024-08-21T12:22:47.594Z"
      },
      {
        "duration": 15,
        "start_time": "2024-08-21T12:22:47.606Z"
      },
      {
        "duration": 20,
        "start_time": "2024-08-21T12:22:47.623Z"
      },
      {
        "duration": 41,
        "start_time": "2024-08-21T12:22:47.644Z"
      },
      {
        "duration": 4,
        "start_time": "2024-08-21T12:22:47.686Z"
      },
      {
        "duration": 31,
        "start_time": "2024-08-21T12:22:47.692Z"
      },
      {
        "duration": 14,
        "start_time": "2024-08-21T12:22:47.725Z"
      },
      {
        "duration": 20,
        "start_time": "2024-08-21T12:22:47.741Z"
      },
      {
        "duration": 2,
        "start_time": "2024-08-21T12:22:47.765Z"
      },
      {
        "duration": 18,
        "start_time": "2024-08-21T12:22:47.768Z"
      },
      {
        "duration": 10,
        "start_time": "2024-08-21T12:22:47.788Z"
      },
      {
        "duration": 45,
        "start_time": "2024-08-21T12:22:47.800Z"
      },
      {
        "duration": 13,
        "start_time": "2024-08-21T12:22:47.846Z"
      },
      {
        "duration": 7,
        "start_time": "2024-08-21T12:22:47.861Z"
      },
      {
        "duration": 52,
        "start_time": "2024-08-21T12:22:47.871Z"
      },
      {
        "duration": 12,
        "start_time": "2024-08-21T12:22:47.924Z"
      },
      {
        "duration": 74,
        "start_time": "2024-08-21T12:22:47.938Z"
      },
      {
        "duration": 47,
        "start_time": "2024-08-21T12:22:48.014Z"
      },
      {
        "duration": 22,
        "start_time": "2024-08-21T12:22:48.063Z"
      },
      {
        "duration": 8,
        "start_time": "2024-08-21T12:22:48.087Z"
      },
      {
        "duration": 4,
        "start_time": "2024-08-21T12:22:48.097Z"
      },
      {
        "duration": 10,
        "start_time": "2024-08-21T12:22:48.103Z"
      },
      {
        "duration": 74,
        "start_time": "2024-08-21T12:22:48.115Z"
      },
      {
        "duration": 8,
        "start_time": "2024-08-21T12:22:48.191Z"
      },
      {
        "duration": 8,
        "start_time": "2024-08-21T12:22:48.201Z"
      },
      {
        "duration": 5,
        "start_time": "2024-08-21T12:22:48.211Z"
      },
      {
        "duration": 30,
        "start_time": "2024-08-21T12:22:48.217Z"
      },
      {
        "duration": 33,
        "start_time": "2024-08-21T12:22:48.260Z"
      },
      {
        "duration": 51,
        "start_time": "2024-08-21T12:22:48.295Z"
      },
      {
        "duration": 106,
        "start_time": "2024-08-21T12:22:48.348Z"
      },
      {
        "duration": 36,
        "start_time": "2024-08-21T12:22:48.456Z"
      },
      {
        "duration": 11,
        "start_time": "2024-08-21T12:22:48.494Z"
      },
      {
        "duration": 24,
        "start_time": "2024-08-21T12:22:48.507Z"
      },
      {
        "duration": 45,
        "start_time": "2024-08-21T12:22:48.533Z"
      },
      {
        "duration": 9,
        "start_time": "2024-08-21T12:22:48.580Z"
      },
      {
        "duration": 9,
        "start_time": "2024-08-21T12:22:48.590Z"
      },
      {
        "duration": 175,
        "start_time": "2024-08-21T12:22:48.601Z"
      },
      {
        "duration": 8,
        "start_time": "2024-08-21T12:22:48.778Z"
      },
      {
        "duration": 23,
        "start_time": "2024-08-21T12:22:48.788Z"
      },
      {
        "duration": 48,
        "start_time": "2024-08-21T12:22:48.813Z"
      },
      {
        "duration": 470,
        "start_time": "2024-08-21T12:22:48.862Z"
      },
      {
        "duration": 270,
        "start_time": "2024-08-21T12:22:49.334Z"
      },
      {
        "duration": 15,
        "start_time": "2024-08-21T12:22:49.606Z"
      },
      {
        "duration": 5,
        "start_time": "2024-08-21T12:22:49.623Z"
      },
      {
        "duration": 4,
        "start_time": "2024-08-21T12:22:49.630Z"
      },
      {
        "duration": 33,
        "start_time": "2024-08-21T12:22:49.636Z"
      },
      {
        "duration": 194,
        "start_time": "2024-08-21T12:22:49.670Z"
      },
      {
        "duration": 1009,
        "start_time": "2024-08-21T12:22:49.866Z"
      },
      {
        "duration": 27,
        "start_time": "2024-08-21T12:22:50.877Z"
      },
      {
        "duration": 189,
        "start_time": "2024-08-21T12:22:50.906Z"
      },
      {
        "duration": 6,
        "start_time": "2024-08-21T12:22:51.096Z"
      },
      {
        "duration": 222,
        "start_time": "2024-08-21T12:22:51.104Z"
      },
      {
        "duration": 33,
        "start_time": "2024-08-21T12:22:51.328Z"
      },
      {
        "duration": 6,
        "start_time": "2024-08-21T12:22:51.363Z"
      },
      {
        "duration": 4,
        "start_time": "2024-08-22T00:26:21.389Z"
      },
      {
        "duration": 1059,
        "start_time": "2024-08-22T00:26:21.394Z"
      },
      {
        "duration": 146,
        "start_time": "2024-08-22T00:26:22.454Z"
      },
      {
        "duration": 13,
        "start_time": "2024-08-22T00:26:22.604Z"
      },
      {
        "duration": 10,
        "start_time": "2024-08-22T00:26:22.619Z"
      },
      {
        "duration": 12,
        "start_time": "2024-08-22T00:26:22.631Z"
      },
      {
        "duration": 23,
        "start_time": "2024-08-22T00:26:22.644Z"
      },
      {
        "duration": 39,
        "start_time": "2024-08-22T00:26:22.668Z"
      },
      {
        "duration": 4,
        "start_time": "2024-08-22T00:26:22.709Z"
      },
      {
        "duration": 3,
        "start_time": "2024-08-22T00:26:22.714Z"
      },
      {
        "duration": 5,
        "start_time": "2024-08-22T00:26:22.718Z"
      },
      {
        "duration": 5,
        "start_time": "2024-08-22T00:26:22.724Z"
      },
      {
        "duration": 15,
        "start_time": "2024-08-22T00:26:22.730Z"
      },
      {
        "duration": 16,
        "start_time": "2024-08-22T00:26:22.746Z"
      },
      {
        "duration": 4,
        "start_time": "2024-08-22T00:26:22.764Z"
      },
      {
        "duration": 40,
        "start_time": "2024-08-22T00:26:22.769Z"
      },
      {
        "duration": 12,
        "start_time": "2024-08-22T00:26:22.810Z"
      },
      {
        "duration": 94,
        "start_time": "2024-08-22T00:26:22.823Z"
      },
      {
        "duration": 12,
        "start_time": "2024-08-22T00:26:22.918Z"
      },
      {
        "duration": 9,
        "start_time": "2024-08-22T00:26:22.932Z"
      },
      {
        "duration": 6,
        "start_time": "2024-08-22T00:26:22.943Z"
      },
      {
        "duration": 6,
        "start_time": "2024-08-22T00:26:22.950Z"
      },
      {
        "duration": 8,
        "start_time": "2024-08-22T00:26:22.957Z"
      },
      {
        "duration": 42,
        "start_time": "2024-08-22T00:26:22.969Z"
      },
      {
        "duration": 4,
        "start_time": "2024-08-22T00:26:23.012Z"
      },
      {
        "duration": 24,
        "start_time": "2024-08-22T00:26:23.017Z"
      },
      {
        "duration": 6,
        "start_time": "2024-08-22T00:26:23.042Z"
      },
      {
        "duration": 8,
        "start_time": "2024-08-22T00:26:23.049Z"
      },
      {
        "duration": 3,
        "start_time": "2024-08-22T00:26:23.058Z"
      },
      {
        "duration": 3,
        "start_time": "2024-08-22T00:26:23.062Z"
      },
      {
        "duration": 8,
        "start_time": "2024-08-22T00:26:23.066Z"
      },
      {
        "duration": 50,
        "start_time": "2024-08-22T00:26:23.075Z"
      },
      {
        "duration": 10,
        "start_time": "2024-08-22T00:26:23.126Z"
      },
      {
        "duration": 8,
        "start_time": "2024-08-22T00:26:23.138Z"
      },
      {
        "duration": 36,
        "start_time": "2024-08-22T00:26:23.148Z"
      },
      {
        "duration": 25,
        "start_time": "2024-08-22T00:26:23.186Z"
      },
      {
        "duration": 55,
        "start_time": "2024-08-22T00:26:23.212Z"
      },
      {
        "duration": 58,
        "start_time": "2024-08-22T00:26:23.268Z"
      },
      {
        "duration": 21,
        "start_time": "2024-08-22T00:26:23.328Z"
      },
      {
        "duration": 8,
        "start_time": "2024-08-22T00:26:23.350Z"
      },
      {
        "duration": 4,
        "start_time": "2024-08-22T00:26:23.359Z"
      },
      {
        "duration": 37,
        "start_time": "2024-08-22T00:26:23.364Z"
      },
      {
        "duration": 40,
        "start_time": "2024-08-22T00:26:23.403Z"
      },
      {
        "duration": 6,
        "start_time": "2024-08-22T00:26:23.444Z"
      },
      {
        "duration": 7,
        "start_time": "2024-08-22T00:26:23.451Z"
      },
      {
        "duration": 5,
        "start_time": "2024-08-22T00:26:23.460Z"
      },
      {
        "duration": 7,
        "start_time": "2024-08-22T00:26:23.466Z"
      },
      {
        "duration": 8,
        "start_time": "2024-08-22T00:26:23.475Z"
      },
      {
        "duration": 25,
        "start_time": "2024-08-22T00:26:23.484Z"
      },
      {
        "duration": 42,
        "start_time": "2024-08-22T00:26:23.511Z"
      },
      {
        "duration": 24,
        "start_time": "2024-08-22T00:26:23.555Z"
      },
      {
        "duration": 29,
        "start_time": "2024-08-22T00:26:23.581Z"
      },
      {
        "duration": 3,
        "start_time": "2024-08-22T00:26:23.611Z"
      },
      {
        "duration": 33,
        "start_time": "2024-08-22T00:26:23.616Z"
      },
      {
        "duration": 6,
        "start_time": "2024-08-22T00:26:23.650Z"
      },
      {
        "duration": 13,
        "start_time": "2024-08-22T00:26:23.658Z"
      },
      {
        "duration": 171,
        "start_time": "2024-08-22T00:26:23.672Z"
      },
      {
        "duration": 7,
        "start_time": "2024-08-22T00:26:23.845Z"
      },
      {
        "duration": 113,
        "start_time": "2024-08-22T00:26:23.854Z"
      },
      {
        "duration": 19,
        "start_time": "2024-08-22T00:26:23.968Z"
      },
      {
        "duration": 344,
        "start_time": "2024-08-22T00:26:23.989Z"
      },
      {
        "duration": 228,
        "start_time": "2024-08-22T00:26:24.334Z"
      },
      {
        "duration": 12,
        "start_time": "2024-08-22T00:26:24.563Z"
      },
      {
        "duration": 4,
        "start_time": "2024-08-22T00:26:24.576Z"
      },
      {
        "duration": 11,
        "start_time": "2024-08-22T00:26:24.581Z"
      },
      {
        "duration": 21,
        "start_time": "2024-08-22T00:26:24.593Z"
      },
      {
        "duration": 140,
        "start_time": "2024-08-22T00:26:24.616Z"
      },
      {
        "duration": 754,
        "start_time": "2024-08-22T00:26:24.757Z"
      },
      {
        "duration": 17,
        "start_time": "2024-08-22T00:26:25.515Z"
      },
      {
        "duration": 155,
        "start_time": "2024-08-22T00:26:25.533Z"
      },
      {
        "duration": 5,
        "start_time": "2024-08-22T00:26:25.689Z"
      },
      {
        "duration": 245,
        "start_time": "2024-08-22T00:26:25.696Z"
      },
      {
        "duration": 21,
        "start_time": "2024-08-22T00:26:25.942Z"
      },
      {
        "duration": 20,
        "start_time": "2024-08-22T00:26:25.965Z"
      },
      {
        "duration": 153,
        "start_time": "2024-08-22T00:36:42.674Z"
      },
      {
        "duration": 3,
        "start_time": "2024-08-22T00:37:06.937Z"
      },
      {
        "duration": 1015,
        "start_time": "2024-08-22T00:37:06.941Z"
      },
      {
        "duration": 149,
        "start_time": "2024-08-22T00:37:07.958Z"
      },
      {
        "duration": 15,
        "start_time": "2024-08-22T00:37:08.110Z"
      },
      {
        "duration": 23,
        "start_time": "2024-08-22T00:37:08.126Z"
      },
      {
        "duration": 19,
        "start_time": "2024-08-22T00:37:08.150Z"
      },
      {
        "duration": 19,
        "start_time": "2024-08-22T00:37:08.171Z"
      },
      {
        "duration": 18,
        "start_time": "2024-08-22T00:37:08.192Z"
      },
      {
        "duration": 16,
        "start_time": "2024-08-22T00:37:08.212Z"
      },
      {
        "duration": 16,
        "start_time": "2024-08-22T00:37:08.229Z"
      },
      {
        "duration": 8,
        "start_time": "2024-08-22T00:37:08.246Z"
      },
      {
        "duration": 23,
        "start_time": "2024-08-22T00:37:08.255Z"
      },
      {
        "duration": 17,
        "start_time": "2024-08-22T00:37:08.279Z"
      },
      {
        "duration": 17,
        "start_time": "2024-08-22T00:37:08.297Z"
      },
      {
        "duration": 6,
        "start_time": "2024-08-22T00:37:08.315Z"
      },
      {
        "duration": 14,
        "start_time": "2024-08-22T00:37:08.323Z"
      },
      {
        "duration": 13,
        "start_time": "2024-08-22T00:37:08.338Z"
      },
      {
        "duration": 10,
        "start_time": "2024-08-22T00:37:08.353Z"
      },
      {
        "duration": 20,
        "start_time": "2024-08-22T00:37:08.364Z"
      },
      {
        "duration": 35,
        "start_time": "2024-08-22T00:37:08.386Z"
      },
      {
        "duration": 12,
        "start_time": "2024-08-22T00:37:08.423Z"
      },
      {
        "duration": 5,
        "start_time": "2024-08-22T00:37:08.437Z"
      },
      {
        "duration": 35,
        "start_time": "2024-08-22T00:37:08.444Z"
      },
      {
        "duration": 40,
        "start_time": "2024-08-22T00:37:08.486Z"
      },
      {
        "duration": 7,
        "start_time": "2024-08-22T00:37:08.528Z"
      },
      {
        "duration": 35,
        "start_time": "2024-08-22T00:37:08.537Z"
      },
      {
        "duration": 7,
        "start_time": "2024-08-22T00:37:08.574Z"
      },
      {
        "duration": 28,
        "start_time": "2024-08-22T00:37:08.582Z"
      },
      {
        "duration": 2,
        "start_time": "2024-08-22T00:37:08.612Z"
      },
      {
        "duration": 23,
        "start_time": "2024-08-22T00:37:08.616Z"
      },
      {
        "duration": 23,
        "start_time": "2024-08-22T00:37:08.640Z"
      },
      {
        "duration": 33,
        "start_time": "2024-08-22T00:37:08.665Z"
      },
      {
        "duration": 11,
        "start_time": "2024-08-22T00:37:08.699Z"
      },
      {
        "duration": 27,
        "start_time": "2024-08-22T00:37:08.711Z"
      },
      {
        "duration": 58,
        "start_time": "2024-08-22T00:37:08.739Z"
      },
      {
        "duration": 10,
        "start_time": "2024-08-22T00:37:08.798Z"
      },
      {
        "duration": 66,
        "start_time": "2024-08-22T00:37:08.810Z"
      },
      {
        "duration": 125,
        "start_time": "2024-08-22T00:37:08.877Z"
      },
      {
        "duration": 15,
        "start_time": "2024-08-22T00:37:09.003Z"
      },
      {
        "duration": 17,
        "start_time": "2024-08-22T00:37:09.019Z"
      },
      {
        "duration": 3,
        "start_time": "2024-08-22T00:37:09.038Z"
      },
      {
        "duration": 13,
        "start_time": "2024-08-22T00:37:09.043Z"
      },
      {
        "duration": 46,
        "start_time": "2024-08-22T00:37:09.058Z"
      },
      {
        "duration": 5,
        "start_time": "2024-08-22T00:37:09.106Z"
      },
      {
        "duration": 10,
        "start_time": "2024-08-22T00:37:09.112Z"
      },
      {
        "duration": 11,
        "start_time": "2024-08-22T00:37:09.123Z"
      },
      {
        "duration": 19,
        "start_time": "2024-08-22T00:37:09.135Z"
      },
      {
        "duration": 13,
        "start_time": "2024-08-22T00:37:09.156Z"
      },
      {
        "duration": 20,
        "start_time": "2024-08-22T00:37:09.171Z"
      },
      {
        "duration": 56,
        "start_time": "2024-08-22T00:37:09.193Z"
      },
      {
        "duration": 24,
        "start_time": "2024-08-22T00:37:09.251Z"
      },
      {
        "duration": 25,
        "start_time": "2024-08-22T00:37:09.277Z"
      },
      {
        "duration": 5,
        "start_time": "2024-08-22T00:37:09.303Z"
      },
      {
        "duration": 26,
        "start_time": "2024-08-22T00:37:09.310Z"
      },
      {
        "duration": 6,
        "start_time": "2024-08-22T00:37:09.337Z"
      },
      {
        "duration": 13,
        "start_time": "2024-08-22T00:37:09.344Z"
      },
      {
        "duration": 153,
        "start_time": "2024-08-22T00:37:09.359Z"
      },
      {
        "duration": 5,
        "start_time": "2024-08-22T00:37:09.513Z"
      },
      {
        "duration": 34,
        "start_time": "2024-08-22T00:37:09.519Z"
      },
      {
        "duration": 20,
        "start_time": "2024-08-22T00:37:09.555Z"
      },
      {
        "duration": 393,
        "start_time": "2024-08-22T00:37:09.577Z"
      },
      {
        "duration": 239,
        "start_time": "2024-08-22T00:37:09.971Z"
      },
      {
        "duration": 335,
        "start_time": "2024-08-22T00:37:10.212Z"
      },
      {
        "duration": 62,
        "start_time": "2024-08-22T00:37:10.548Z"
      },
      {
        "duration": 3,
        "start_time": "2024-08-22T00:37:10.612Z"
      },
      {
        "duration": 30,
        "start_time": "2024-08-22T00:37:10.616Z"
      },
      {
        "duration": 16,
        "start_time": "2024-08-22T00:37:10.647Z"
      },
      {
        "duration": 276,
        "start_time": "2024-08-22T00:37:10.664Z"
      },
      {
        "duration": 970,
        "start_time": "2024-08-22T00:37:10.945Z"
      },
      {
        "duration": 17,
        "start_time": "2024-08-22T00:37:11.916Z"
      },
      {
        "duration": 176,
        "start_time": "2024-08-22T00:37:11.935Z"
      },
      {
        "duration": 5,
        "start_time": "2024-08-22T00:37:12.113Z"
      },
      {
        "duration": 185,
        "start_time": "2024-08-22T00:37:12.119Z"
      },
      {
        "duration": 22,
        "start_time": "2024-08-22T00:37:12.306Z"
      },
      {
        "duration": 19,
        "start_time": "2024-08-22T00:37:12.330Z"
      }
    ],
    "colab": {
      "provenance": [],
      "include_colab_link": true
    },
    "kernelspec": {
      "display_name": "Python 3 (ipykernel)",
      "language": "python",
      "name": "python3"
    },
    "language_info": {
      "codemirror_mode": {
        "name": "ipython",
        "version": 3
      },
      "file_extension": ".py",
      "mimetype": "text/x-python",
      "name": "python",
      "nbconvert_exporter": "python",
      "pygments_lexer": "ipython3",
      "version": "3.9.5"
    },
    "toc": {
      "base_numbering": 1,
      "nav_menu": {},
      "number_sections": true,
      "sideBar": true,
      "skip_h1_title": true,
      "title_cell": "Table of Contents",
      "title_sidebar": "Contents",
      "toc_cell": false,
      "toc_position": {
        "height": "calc(100% - 180px)",
        "left": "10px",
        "top": "150px",
        "width": "165px"
      },
      "toc_section_display": true,
      "toc_window_display": true
    }
  },
  "nbformat": 4,
  "nbformat_minor": 0
}