{
  "cells": [
    {
      "cell_type": "markdown",
      "metadata": {
        "id": "view-in-github",
        "colab_type": "text"
      },
      "source": [
        "<a href=\"https://colab.research.google.com/github/varvara007/yandex/blob/main/%D0%9F%D1%80%D0%BE%D0%B5%D0%BA%D1%82_1_%D0%AF%D0%BD%D0%B4%D0%B5%D0%BA%D1%81_%D0%9C%D1%83%D0%B7%D1%8B%D0%BA%D0%B0.ipynb\" target=\"_parent\"><img src=\"https://colab.research.google.com/assets/colab-badge.svg\" alt=\"Open In Colab\"/></a>"
      ]
    },
    {
      "cell_type": "markdown",
      "metadata": {
        "deletable": false,
        "editable": false,
        "id": "E0vqbgi9ay0H"
      },
      "source": [
        "# Яндекс Музыка"
      ]
    },
    {
      "cell_type": "markdown",
      "metadata": {
        "deletable": false,
        "editable": false,
        "id": "VUC88oWjTJw2"
      },
      "source": [
        "Сравнение Москвы и Петербурга окружено мифами. Например:\n",
        " * Москва — мегаполис, подчинённый жёсткому ритму рабочей недели;\n",
        " * Петербург — культурная столица, со своими вкусами.\n",
        "\n",
        "На данных Яндекс Музыки вы сравните поведение пользователей двух столиц.\n",
        "\n",
        "**Цель исследования** — проверьте три гипотезы:\n",
        "1. Активность пользователей зависит от дня недели. Причём в Москве и Петербурге это проявляется по-разному.\n",
        "2. В понедельник утром в Москве преобладают одни жанры, а в Петербурге — другие. Так же и вечером пятницы преобладают разные жанры — в зависимости от города.\n",
        "3. Москва и Петербург предпочитают разные жанры музыки. В Москве чаще слушают поп-музыку, в Петербурге — русский рэп.\n",
        "\n",
        "**Ход исследования**\n",
        "\n",
        "Данные о поведении пользователей вы получите из файла `yandex_music_project.csv`. О качестве данных ничего не известно. Поэтому перед проверкой гипотез понадобится обзор данных.\n",
        "\n",
        "Вы проверите данные на ошибки и оцените их влияние на исследование. Затем, на этапе предобработки вы поищете возможность исправить самые критичные ошибки данных.\n",
        "\n",
        "Таким образом, исследование пройдёт в три этапа:\n",
        " 1. Обзор данных.\n",
        " 2. Предобработка данных.\n",
        " 3. Проверка гипотез.\n",
        "\n"
      ]
    },
    {
      "cell_type": "markdown",
      "metadata": {
        "deletable": false,
        "editable": false,
        "id": "Ml1hmfXC_Zcs"
      },
      "source": [
        "## Обзор данных\n",
        "\n",
        "Составьте первое представление о данных Яндекс Музыки.\n",
        "\n",
        "\n"
      ]
    },
    {
      "cell_type": "markdown",
      "metadata": {
        "deletable": false,
        "editable": false,
        "id": "57eAOGIz_Zcs",
        "tags": [
          "start_task"
        ]
      },
      "source": [
        "**Задание 1**"
      ]
    },
    {
      "cell_type": "code",
      "execution_count": null,
      "metadata": {
        "deletable": false,
        "id": "AXN7PHPN_Zcs"
      },
      "outputs": [],
      "source": [
        "# импорт библиотеки pandas\n",
        "import pandas as pd"
      ]
    },
    {
      "cell_type": "markdown",
      "metadata": {
        "deletable": false,
        "editable": false,
        "id": "SG23P8tt_Zcs",
        "tags": [
          "start_task"
        ]
      },
      "source": [
        "**Задание 2**"
      ]
    },
    {
      "cell_type": "code",
      "execution_count": null,
      "metadata": {
        "deletable": false,
        "id": "fFVu7vqh_Zct"
      },
      "outputs": [],
      "source": [
        "# чтение файла с данными и сохранение в df\n",
        "df = pd.read_csv('/datasets/yandex_music_project.csv')"
      ]
    },
    {
      "cell_type": "markdown",
      "metadata": {
        "deletable": false,
        "editable": false,
        "id": "rDoOMd3uTqnZ",
        "tags": [
          "start_task"
        ]
      },
      "source": [
        "**Задание 3**"
      ]
    },
    {
      "cell_type": "code",
      "execution_count": null,
      "metadata": {
        "deletable": false,
        "id": "oWTVX3gW_Zct",
        "outputId": "8bbdf95c-6211-4f0f-be75-145340d58943"
      },
      "outputs": [
        {
          "data": {
            "text/html": [
              "<div>\n",
              "<style scoped>\n",
              "    .dataframe tbody tr th:only-of-type {\n",
              "        vertical-align: middle;\n",
              "    }\n",
              "\n",
              "    .dataframe tbody tr th {\n",
              "        vertical-align: top;\n",
              "    }\n",
              "\n",
              "    .dataframe thead th {\n",
              "        text-align: right;\n",
              "    }\n",
              "</style>\n",
              "<table border=\"1\" class=\"dataframe\">\n",
              "  <thead>\n",
              "    <tr style=\"text-align: right;\">\n",
              "      <th></th>\n",
              "      <th>userID</th>\n",
              "      <th>Track</th>\n",
              "      <th>artist</th>\n",
              "      <th>genre</th>\n",
              "      <th>City</th>\n",
              "      <th>time</th>\n",
              "      <th>Day</th>\n",
              "    </tr>\n",
              "  </thead>\n",
              "  <tbody>\n",
              "    <tr>\n",
              "      <th>0</th>\n",
              "      <td>FFB692EC</td>\n",
              "      <td>Kamigata To Boots</td>\n",
              "      <td>The Mass Missile</td>\n",
              "      <td>rock</td>\n",
              "      <td>Saint-Petersburg</td>\n",
              "      <td>20:28:33</td>\n",
              "      <td>Wednesday</td>\n",
              "    </tr>\n",
              "    <tr>\n",
              "      <th>1</th>\n",
              "      <td>55204538</td>\n",
              "      <td>Delayed Because of Accident</td>\n",
              "      <td>Andreas Rönnberg</td>\n",
              "      <td>rock</td>\n",
              "      <td>Moscow</td>\n",
              "      <td>14:07:09</td>\n",
              "      <td>Friday</td>\n",
              "    </tr>\n",
              "    <tr>\n",
              "      <th>2</th>\n",
              "      <td>20EC38</td>\n",
              "      <td>Funiculì funiculà</td>\n",
              "      <td>Mario Lanza</td>\n",
              "      <td>pop</td>\n",
              "      <td>Saint-Petersburg</td>\n",
              "      <td>20:58:07</td>\n",
              "      <td>Wednesday</td>\n",
              "    </tr>\n",
              "    <tr>\n",
              "      <th>3</th>\n",
              "      <td>A3DD03C9</td>\n",
              "      <td>Dragons in the Sunset</td>\n",
              "      <td>Fire + Ice</td>\n",
              "      <td>folk</td>\n",
              "      <td>Saint-Petersburg</td>\n",
              "      <td>08:37:09</td>\n",
              "      <td>Monday</td>\n",
              "    </tr>\n",
              "    <tr>\n",
              "      <th>4</th>\n",
              "      <td>E2DC1FAE</td>\n",
              "      <td>Soul People</td>\n",
              "      <td>Space Echo</td>\n",
              "      <td>dance</td>\n",
              "      <td>Moscow</td>\n",
              "      <td>08:34:34</td>\n",
              "      <td>Monday</td>\n",
              "    </tr>\n",
              "    <tr>\n",
              "      <th>5</th>\n",
              "      <td>842029A1</td>\n",
              "      <td>Преданная</td>\n",
              "      <td>IMPERVTOR</td>\n",
              "      <td>rusrap</td>\n",
              "      <td>Saint-Petersburg</td>\n",
              "      <td>13:09:41</td>\n",
              "      <td>Friday</td>\n",
              "    </tr>\n",
              "    <tr>\n",
              "      <th>6</th>\n",
              "      <td>4CB90AA5</td>\n",
              "      <td>True</td>\n",
              "      <td>Roman Messer</td>\n",
              "      <td>dance</td>\n",
              "      <td>Moscow</td>\n",
              "      <td>13:00:07</td>\n",
              "      <td>Wednesday</td>\n",
              "    </tr>\n",
              "    <tr>\n",
              "      <th>7</th>\n",
              "      <td>F03E1C1F</td>\n",
              "      <td>Feeling This Way</td>\n",
              "      <td>Polina Griffith</td>\n",
              "      <td>dance</td>\n",
              "      <td>Moscow</td>\n",
              "      <td>20:47:49</td>\n",
              "      <td>Wednesday</td>\n",
              "    </tr>\n",
              "    <tr>\n",
              "      <th>8</th>\n",
              "      <td>8FA1D3BE</td>\n",
              "      <td>И вновь продолжается бой</td>\n",
              "      <td>NaN</td>\n",
              "      <td>ruspop</td>\n",
              "      <td>Moscow</td>\n",
              "      <td>09:17:40</td>\n",
              "      <td>Friday</td>\n",
              "    </tr>\n",
              "    <tr>\n",
              "      <th>9</th>\n",
              "      <td>E772D5C0</td>\n",
              "      <td>Pessimist</td>\n",
              "      <td>NaN</td>\n",
              "      <td>dance</td>\n",
              "      <td>Saint-Petersburg</td>\n",
              "      <td>21:20:49</td>\n",
              "      <td>Wednesday</td>\n",
              "    </tr>\n",
              "  </tbody>\n",
              "</table>\n",
              "</div>"
            ],
            "text/plain": [
              "     userID                        Track            artist   genre  \\\n",
              "0  FFB692EC            Kamigata To Boots  The Mass Missile    rock   \n",
              "1  55204538  Delayed Because of Accident  Andreas Rönnberg    rock   \n",
              "2    20EC38            Funiculì funiculà       Mario Lanza     pop   \n",
              "3  A3DD03C9        Dragons in the Sunset        Fire + Ice    folk   \n",
              "4  E2DC1FAE                  Soul People        Space Echo   dance   \n",
              "5  842029A1                    Преданная         IMPERVTOR  rusrap   \n",
              "6  4CB90AA5                         True      Roman Messer   dance   \n",
              "7  F03E1C1F             Feeling This Way   Polina Griffith   dance   \n",
              "8  8FA1D3BE     И вновь продолжается бой               NaN  ruspop   \n",
              "9  E772D5C0                    Pessimist               NaN   dance   \n",
              "\n",
              "             City        time        Day  \n",
              "0  Saint-Petersburg  20:28:33  Wednesday  \n",
              "1            Moscow  14:07:09     Friday  \n",
              "2  Saint-Petersburg  20:58:07  Wednesday  \n",
              "3  Saint-Petersburg  08:37:09     Monday  \n",
              "4            Moscow  08:34:34     Monday  \n",
              "5  Saint-Petersburg  13:09:41     Friday  \n",
              "6            Moscow  13:00:07  Wednesday  \n",
              "7            Moscow  20:47:49  Wednesday  \n",
              "8            Moscow  09:17:40     Friday  \n",
              "9  Saint-Petersburg  21:20:49  Wednesday  "
            ]
          },
          "execution_count": 3,
          "metadata": {},
          "output_type": "execute_result"
        }
      ],
      "source": [
        "# получение первых 10 строк таблицы df\n",
        "df.head(10)"
      ]
    },
    {
      "cell_type": "markdown",
      "metadata": {
        "deletable": false,
        "editable": false,
        "id": "EO73Kwic_Zct",
        "tags": [
          "start_task"
        ]
      },
      "source": [
        "**Задание 4**"
      ]
    },
    {
      "cell_type": "code",
      "execution_count": null,
      "metadata": {
        "deletable": false,
        "id": "DSf2kIb-_Zct",
        "outputId": "bfb69435-b47f-4c86-f85b-f6d1199d9210"
      },
      "outputs": [
        {
          "name": "stdout",
          "output_type": "stream",
          "text": [
            "<class 'pandas.core.frame.DataFrame'>\n",
            "RangeIndex: 65079 entries, 0 to 65078\n",
            "Data columns (total 7 columns):\n",
            " #   Column    Non-Null Count  Dtype \n",
            "---  ------    --------------  ----- \n",
            " 0     userID  65079 non-null  object\n",
            " 1   Track     63848 non-null  object\n",
            " 2   artist    57876 non-null  object\n",
            " 3   genre     63881 non-null  object\n",
            " 4     City    65079 non-null  object\n",
            " 5   time      65079 non-null  object\n",
            " 6   Day       65079 non-null  object\n",
            "dtypes: object(7)\n",
            "memory usage: 3.5+ MB\n"
          ]
        }
      ],
      "source": [
        "# получение общей информации о данных в таблице df\n",
        "df.info()"
      ]
    },
    {
      "cell_type": "markdown",
      "metadata": {
        "deletable": false,
        "editable": false,
        "id": "TaQ2Iwbr_Zct"
      },
      "source": [
        "Количество значений в столбцах различается. Значит, в данных есть пропущенные значения."
      ]
    },
    {
      "cell_type": "markdown",
      "metadata": {
        "deletable": false,
        "editable": false,
        "id": "4P0UCWzswgEm",
        "tags": [
          "start_task"
        ]
      },
      "source": [
        "**Задание 5**"
      ]
    },
    {
      "cell_type": "code",
      "execution_count": null,
      "metadata": {
        "id": "c137-ZstwgEm"
      },
      "outputs": [],
      "source": [
        "# Track, City начинаются с прописной буквы."
      ]
    },
    {
      "cell_type": "markdown",
      "metadata": {
        "deletable": false,
        "editable": false,
        "id": "MCB6-dXG_Zct"
      },
      "source": [
        "**Выводы**\n",
        "\n",
        "В каждой строке таблицы — данные о прослушанном треке. Часть колонок описывает саму композицию: название, исполнителя и жанр. Остальные данные рассказывают о пользователе: из какого он города, когда он слушал музыку.\n",
        "\n",
        "Предварительно можно утверждать, что данных достаточно для проверки гипотез. Но встречаются пропуски в данных, а в названиях колонок — расхождения с хорошим стилем.\n",
        "\n",
        "Чтобы двигаться дальше, нужно устранить проблемы в данных."
      ]
    },
    {
      "cell_type": "markdown",
      "metadata": {
        "deletable": false,
        "editable": false,
        "id": "SjYF6Ub9_Zct"
      },
      "source": [
        "## Предобработка данных"
      ]
    },
    {
      "cell_type": "markdown",
      "metadata": {
        "deletable": false,
        "editable": false,
        "id": "dIaKXr29_Zct",
        "tags": [
          "start_task"
        ]
      },
      "source": [
        "### Переименование столбцов\n",
        "\n",
        "**Задание 6**"
      ]
    },
    {
      "cell_type": "code",
      "execution_count": null,
      "metadata": {
        "deletable": false,
        "id": "oKOTdF_Q_Zct",
        "outputId": "e90fbe0c-99f9-420c-d888-f7724e036c69"
      },
      "outputs": [
        {
          "data": {
            "text/plain": [
              "Index(['  userID', 'Track', 'artist', 'genre', '  City  ', 'time', 'Day'], dtype='object')"
            ]
          },
          "execution_count": 6,
          "metadata": {},
          "output_type": "execute_result"
        }
      ],
      "source": [
        "# перечень названий столбцов таблицы df\n",
        "df.columns"
      ]
    },
    {
      "cell_type": "markdown",
      "metadata": {
        "deletable": false,
        "editable": false,
        "id": "zj5534cv_Zct",
        "tags": [
          "start_task"
        ]
      },
      "source": [
        "**Задание 7**"
      ]
    },
    {
      "cell_type": "code",
      "execution_count": null,
      "metadata": {
        "deletable": false,
        "id": "ISlFqs5y_Zct"
      },
      "outputs": [],
      "source": [
        "# переименование столбцов\n",
        "df = df.rename(columns = {'  userID': 'user_id', 'Track': 'track', '  City  ' : 'city', 'Day': 'day'})"
      ]
    },
    {
      "cell_type": "markdown",
      "metadata": {
        "deletable": false,
        "editable": false,
        "id": "1dqbh00J_Zct",
        "tags": [
          "start_task"
        ]
      },
      "source": [
        "**Задание 8**"
      ]
    },
    {
      "cell_type": "code",
      "execution_count": null,
      "metadata": {
        "deletable": false,
        "id": "d4NOAmTW_Zct",
        "outputId": "7c586a81-faa5-4767-96f1-2310fa44f62f"
      },
      "outputs": [
        {
          "data": {
            "text/plain": [
              "Index(['user_id', 'track', 'artist', 'genre', 'city', 'time', 'day'], dtype='object')"
            ]
          },
          "execution_count": 8,
          "metadata": {},
          "output_type": "execute_result"
        }
      ],
      "source": [
        "# проверка результатов - перечень названий столбцов\n",
        "df.columns"
      ]
    },
    {
      "cell_type": "markdown",
      "metadata": {
        "deletable": false,
        "editable": false,
        "id": "5ISfbcfY_Zct",
        "tags": [
          "start_task"
        ]
      },
      "source": [
        "### Обработка пропущенных значений\n",
        "\n",
        "**Задание 9**"
      ]
    },
    {
      "cell_type": "code",
      "execution_count": null,
      "metadata": {
        "deletable": false,
        "id": "RskX29qr_Zct",
        "outputId": "fd92fda3-213c-44b8-9ea5-046fbd3a21bf"
      },
      "outputs": [
        {
          "data": {
            "text/plain": [
              "user_id       0\n",
              "track      1231\n",
              "artist     7203\n",
              "genre      1198\n",
              "city          0\n",
              "time          0\n",
              "day           0\n",
              "dtype: int64"
            ]
          },
          "execution_count": 9,
          "metadata": {},
          "output_type": "execute_result"
        }
      ],
      "source": [
        "# подсчёт пропусков\n",
        "df.isna().sum()"
      ]
    },
    {
      "cell_type": "markdown",
      "metadata": {
        "deletable": false,
        "editable": false,
        "id": "fSv2laPA_Zct",
        "tags": [
          "start_task"
        ]
      },
      "source": [
        "**Задание 10**"
      ]
    },
    {
      "cell_type": "code",
      "execution_count": null,
      "metadata": {
        "deletable": false,
        "id": "KplB5qWs_Zct"
      },
      "outputs": [],
      "source": [
        "# замена пропущенных значений на 'unknown'\n",
        "columns_to_replace = ['track', 'artist', 'genre']\n",
        "# список со столбцами, в которых нужно заменить значения\n",
        "\n",
        "for column in columns_to_replace:\n",
        "    df[column] = df[column].fillna('unknown')"
      ]
    },
    {
      "cell_type": "markdown",
      "metadata": {
        "deletable": false,
        "editable": false,
        "id": "Ilsm-MZo_Zct",
        "tags": [
          "start_task"
        ]
      },
      "source": [
        "**Задание 11**"
      ]
    },
    {
      "cell_type": "code",
      "execution_count": null,
      "metadata": {
        "deletable": false,
        "id": "Tq4nYRX4_Zct",
        "outputId": "2666131e-4278-4619-9b8c-7627cbeaf0b2"
      },
      "outputs": [
        {
          "data": {
            "text/plain": [
              "user_id    0\n",
              "track      0\n",
              "artist     0\n",
              "genre      0\n",
              "city       0\n",
              "time       0\n",
              "day        0\n",
              "dtype: int64"
            ]
          },
          "execution_count": 11,
          "metadata": {},
          "output_type": "execute_result"
        }
      ],
      "source": [
        "# проверка на отсутствие пропусков\n",
        "df.isna().sum()"
      ]
    },
    {
      "cell_type": "markdown",
      "metadata": {
        "deletable": false,
        "editable": false,
        "id": "BWKRtBJ3_Zct",
        "tags": [
          "start_task"
        ]
      },
      "source": [
        "### Обработка дубликатов\n",
        "\n",
        "**Задание 12**"
      ]
    },
    {
      "cell_type": "code",
      "execution_count": null,
      "metadata": {
        "deletable": false,
        "id": "36eES_S0_Zct",
        "outputId": "27127372-e0f8-4e5d-a025-94b8eb9aa643"
      },
      "outputs": [
        {
          "data": {
            "text/plain": [
              "3826"
            ]
          },
          "execution_count": 12,
          "metadata": {},
          "output_type": "execute_result"
        }
      ],
      "source": [
        "# подсчёт явных дубликатов\n",
        "df.duplicated().sum()"
      ]
    },
    {
      "cell_type": "markdown",
      "metadata": {
        "deletable": false,
        "editable": false,
        "id": "Ot25h6XR_Zct",
        "tags": [
          "start_task"
        ]
      },
      "source": [
        "**Задание 13**"
      ]
    },
    {
      "cell_type": "code",
      "execution_count": null,
      "metadata": {
        "deletable": false,
        "id": "exFHq6tt_Zct",
        "scrolled": false
      },
      "outputs": [],
      "source": [
        "# удаление явных дубликатов, создание новых индексов и удаление старых\n",
        "df = df.drop_duplicates().reset_index(drop=True)"
      ]
    },
    {
      "cell_type": "markdown",
      "metadata": {
        "deletable": false,
        "editable": false,
        "id": "Im2YwBEG_Zct",
        "tags": [
          "start_task"
        ]
      },
      "source": [
        "**Задание 14**"
      ]
    },
    {
      "cell_type": "code",
      "execution_count": null,
      "metadata": {
        "deletable": false,
        "id": "-8PuNWQ0_Zct",
        "outputId": "3288e5b1-b675-4664-c5d9-2b6cb5b2a87c"
      },
      "outputs": [
        {
          "data": {
            "text/plain": [
              "0"
            ]
          },
          "execution_count": 14,
          "metadata": {},
          "output_type": "execute_result"
        }
      ],
      "source": [
        "# проверка на отсутствие явных дубликатов\n",
        "df.duplicated().sum()"
      ]
    },
    {
      "cell_type": "markdown",
      "metadata": {
        "deletable": false,
        "editable": false,
        "id": "eSjWwsOh_Zct",
        "tags": [
          "start_task"
        ]
      },
      "source": [
        "**Задание 15**"
      ]
    },
    {
      "cell_type": "code",
      "execution_count": null,
      "metadata": {
        "deletable": false,
        "id": "JIUcqzZN_Zct",
        "outputId": "8a8a640c-7144-4e90-fba8-c4e74a744aaf"
      },
      "outputs": [
        {
          "data": {
            "text/plain": [
              "array(['acid', 'acoustic', 'action', 'adult', 'africa', 'afrikaans',\n",
              "       'alternative', 'alternativepunk', 'ambient', 'americana',\n",
              "       'animated', 'anime', 'arabesk', 'arabic', 'arena',\n",
              "       'argentinetango', 'art', 'audiobook', 'author', 'avantgarde',\n",
              "       'axé', 'baile', 'balkan', 'beats', 'bigroom', 'black', 'bluegrass',\n",
              "       'blues', 'bollywood', 'bossa', 'brazilian', 'breakbeat', 'breaks',\n",
              "       'broadway', 'cantautori', 'cantopop', 'canzone', 'caribbean',\n",
              "       'caucasian', 'celtic', 'chamber', 'chanson', 'children', 'chill',\n",
              "       'chinese', 'choral', 'christian', 'christmas', 'classical',\n",
              "       'classicmetal', 'club', 'colombian', 'comedy', 'conjazz',\n",
              "       'contemporary', 'country', 'cuban', 'dance', 'dancehall',\n",
              "       'dancepop', 'dark', 'death', 'deep', 'deutschrock', 'deutschspr',\n",
              "       'dirty', 'disco', 'dnb', 'documentary', 'downbeat', 'downtempo',\n",
              "       'drum', 'dub', 'dubstep', 'eastern', 'easy', 'electronic',\n",
              "       'electropop', 'emo', 'entehno', 'epicmetal', 'estrada', 'ethnic',\n",
              "       'eurofolk', 'european', 'experimental', 'extrememetal', 'fado',\n",
              "       'fairytail', 'film', 'fitness', 'flamenco', 'folk', 'folklore',\n",
              "       'folkmetal', 'folkrock', 'folktronica', 'forró', 'frankreich',\n",
              "       'französisch', 'french', 'funk', 'future', 'gangsta', 'garage',\n",
              "       'german', 'ghazal', 'gitarre', 'glitch', 'gospel', 'gothic',\n",
              "       'grime', 'grunge', 'gypsy', 'handsup', \"hard'n'heavy\", 'hardcore',\n",
              "       'hardstyle', 'hardtechno', 'hip', 'hip-hop', 'hiphop',\n",
              "       'historisch', 'holiday', 'hop', 'horror', 'house', 'hymn', 'idm',\n",
              "       'independent', 'indian', 'indie', 'indipop', 'industrial',\n",
              "       'inspirational', 'instrumental', 'international', 'irish', 'jam',\n",
              "       'japanese', 'jazz', 'jewish', 'jpop', 'jungle', 'k-pop',\n",
              "       'karadeniz', 'karaoke', 'kayokyoku', 'korean', 'laiko', 'latin',\n",
              "       'latino', 'leftfield', 'local', 'lounge', 'loungeelectronic',\n",
              "       'lovers', 'malaysian', 'mandopop', 'marschmusik', 'meditative',\n",
              "       'mediterranean', 'melodic', 'metal', 'metalcore', 'mexican',\n",
              "       'middle', 'minimal', 'miscellaneous', 'modern', 'mood', 'mpb',\n",
              "       'muslim', 'native', 'neoklassik', 'neue', 'new', 'newage',\n",
              "       'newwave', 'nu', 'nujazz', 'numetal', 'oceania', 'old', 'opera',\n",
              "       'orchestral', 'other', 'piano', 'podcasts', 'pop', 'popdance',\n",
              "       'popelectronic', 'popeurodance', 'poprussian', 'post',\n",
              "       'posthardcore', 'postrock', 'power', 'progmetal', 'progressive',\n",
              "       'psychedelic', 'punjabi', 'punk', 'quebecois', 'ragga', 'ram',\n",
              "       'rancheras', 'rap', 'rave', 'reggae', 'reggaeton', 'regional',\n",
              "       'relax', 'religious', 'retro', 'rhythm', 'rnb', 'rnr', 'rock',\n",
              "       'rockabilly', 'rockalternative', 'rockindie', 'rockother',\n",
              "       'romance', 'roots', 'ruspop', 'rusrap', 'rusrock', 'russian',\n",
              "       'salsa', 'samba', 'scenic', 'schlager', 'self', 'sertanejo',\n",
              "       'shanson', 'shoegazing', 'showtunes', 'singer', 'ska', 'skarock',\n",
              "       'slow', 'smooth', 'soft', 'soul', 'soulful', 'sound', 'soundtrack',\n",
              "       'southern', 'specialty', 'speech', 'spiritual', 'sport',\n",
              "       'stonerrock', 'surf', 'swing', 'synthpop', 'synthrock',\n",
              "       'sängerportrait', 'tango', 'tanzorchester', 'taraftar', 'tatar',\n",
              "       'tech', 'techno', 'teen', 'thrash', 'top', 'traditional',\n",
              "       'tradjazz', 'trance', 'tribal', 'trip', 'triphop', 'tropical',\n",
              "       'türk', 'türkçe', 'ukrrock', 'unknown', 'urban', 'uzbek',\n",
              "       'variété', 'vi', 'videogame', 'vocal', 'western', 'world',\n",
              "       'worldbeat', 'ïîï', 'электроника'], dtype=object)"
            ]
          },
          "execution_count": 15,
          "metadata": {},
          "output_type": "execute_result"
        }
      ],
      "source": [
        "# просмотр уникальных отсортированных названий жанров\n",
        "df['genre'].sort_values().unique()"
      ]
    },
    {
      "cell_type": "markdown",
      "metadata": {
        "deletable": false,
        "editable": false,
        "id": "qej-Qmuo_Zct",
        "tags": [
          "start_task"
        ]
      },
      "source": [
        "**Задание 16**"
      ]
    },
    {
      "cell_type": "code",
      "execution_count": null,
      "metadata": {
        "deletable": false,
        "id": "ErNDkmns_Zct"
      },
      "outputs": [],
      "source": [
        "# устранение неявных дубликатов\n",
        "duplicated = ['hip', 'hop', 'hip-hop']\n",
        "df['genre'] = df['genre'].replace(duplicated, 'hiphop')"
      ]
    },
    {
      "cell_type": "markdown",
      "metadata": {
        "deletable": false,
        "editable": false,
        "id": "zQKF16_RG15m",
        "tags": [
          "start_task"
        ]
      },
      "source": [
        "**Задание 17**"
      ]
    },
    {
      "cell_type": "code",
      "execution_count": null,
      "metadata": {
        "deletable": false,
        "id": "wvixALnFG15m",
        "outputId": "f92579a4-c6ff-4549-bfff-5761ed3c756d"
      },
      "outputs": [
        {
          "data": {
            "text/plain": [
              "array(['acid', 'acoustic', 'action', 'adult', 'africa', 'afrikaans',\n",
              "       'alternative', 'alternativepunk', 'ambient', 'americana',\n",
              "       'animated', 'anime', 'arabesk', 'arabic', 'arena',\n",
              "       'argentinetango', 'art', 'audiobook', 'author', 'avantgarde',\n",
              "       'axé', 'baile', 'balkan', 'beats', 'bigroom', 'black', 'bluegrass',\n",
              "       'blues', 'bollywood', 'bossa', 'brazilian', 'breakbeat', 'breaks',\n",
              "       'broadway', 'cantautori', 'cantopop', 'canzone', 'caribbean',\n",
              "       'caucasian', 'celtic', 'chamber', 'chanson', 'children', 'chill',\n",
              "       'chinese', 'choral', 'christian', 'christmas', 'classical',\n",
              "       'classicmetal', 'club', 'colombian', 'comedy', 'conjazz',\n",
              "       'contemporary', 'country', 'cuban', 'dance', 'dancehall',\n",
              "       'dancepop', 'dark', 'death', 'deep', 'deutschrock', 'deutschspr',\n",
              "       'dirty', 'disco', 'dnb', 'documentary', 'downbeat', 'downtempo',\n",
              "       'drum', 'dub', 'dubstep', 'eastern', 'easy', 'electronic',\n",
              "       'electropop', 'emo', 'entehno', 'epicmetal', 'estrada', 'ethnic',\n",
              "       'eurofolk', 'european', 'experimental', 'extrememetal', 'fado',\n",
              "       'fairytail', 'film', 'fitness', 'flamenco', 'folk', 'folklore',\n",
              "       'folkmetal', 'folkrock', 'folktronica', 'forró', 'frankreich',\n",
              "       'französisch', 'french', 'funk', 'future', 'gangsta', 'garage',\n",
              "       'german', 'ghazal', 'gitarre', 'glitch', 'gospel', 'gothic',\n",
              "       'grime', 'grunge', 'gypsy', 'handsup', \"hard'n'heavy\", 'hardcore',\n",
              "       'hardstyle', 'hardtechno', 'hiphop', 'historisch', 'holiday',\n",
              "       'horror', 'house', 'hymn', 'idm', 'independent', 'indian', 'indie',\n",
              "       'indipop', 'industrial', 'inspirational', 'instrumental',\n",
              "       'international', 'irish', 'jam', 'japanese', 'jazz', 'jewish',\n",
              "       'jpop', 'jungle', 'k-pop', 'karadeniz', 'karaoke', 'kayokyoku',\n",
              "       'korean', 'laiko', 'latin', 'latino', 'leftfield', 'local',\n",
              "       'lounge', 'loungeelectronic', 'lovers', 'malaysian', 'mandopop',\n",
              "       'marschmusik', 'meditative', 'mediterranean', 'melodic', 'metal',\n",
              "       'metalcore', 'mexican', 'middle', 'minimal', 'miscellaneous',\n",
              "       'modern', 'mood', 'mpb', 'muslim', 'native', 'neoklassik', 'neue',\n",
              "       'new', 'newage', 'newwave', 'nu', 'nujazz', 'numetal', 'oceania',\n",
              "       'old', 'opera', 'orchestral', 'other', 'piano', 'podcasts', 'pop',\n",
              "       'popdance', 'popelectronic', 'popeurodance', 'poprussian', 'post',\n",
              "       'posthardcore', 'postrock', 'power', 'progmetal', 'progressive',\n",
              "       'psychedelic', 'punjabi', 'punk', 'quebecois', 'ragga', 'ram',\n",
              "       'rancheras', 'rap', 'rave', 'reggae', 'reggaeton', 'regional',\n",
              "       'relax', 'religious', 'retro', 'rhythm', 'rnb', 'rnr', 'rock',\n",
              "       'rockabilly', 'rockalternative', 'rockindie', 'rockother',\n",
              "       'romance', 'roots', 'ruspop', 'rusrap', 'rusrock', 'russian',\n",
              "       'salsa', 'samba', 'scenic', 'schlager', 'self', 'sertanejo',\n",
              "       'shanson', 'shoegazing', 'showtunes', 'singer', 'ska', 'skarock',\n",
              "       'slow', 'smooth', 'soft', 'soul', 'soulful', 'sound', 'soundtrack',\n",
              "       'southern', 'specialty', 'speech', 'spiritual', 'sport',\n",
              "       'stonerrock', 'surf', 'swing', 'synthpop', 'synthrock',\n",
              "       'sängerportrait', 'tango', 'tanzorchester', 'taraftar', 'tatar',\n",
              "       'tech', 'techno', 'teen', 'thrash', 'top', 'traditional',\n",
              "       'tradjazz', 'trance', 'tribal', 'trip', 'triphop', 'tropical',\n",
              "       'türk', 'türkçe', 'ukrrock', 'unknown', 'urban', 'uzbek',\n",
              "       'variété', 'vi', 'videogame', 'vocal', 'western', 'world',\n",
              "       'worldbeat', 'ïîï', 'электроника'], dtype=object)"
            ]
          },
          "execution_count": 21,
          "metadata": {},
          "output_type": "execute_result"
        }
      ],
      "source": [
        "# проверка на отсутствие неявных дубликатов\n",
        "df['genre'].sort_values().unique()"
      ]
    },
    {
      "cell_type": "markdown",
      "metadata": {
        "deletable": false,
        "editable": false,
        "id": "jz6a9-7HQUDd"
      },
      "source": [
        "**Выводы**\n",
        "\n",
        "Предобработка обнаружила три проблемы в данных:\n",
        "\n",
        "- нарушения в стиле заголовков,\n",
        "- пропущенные значения,\n",
        "- дубликаты — явные и неявные.\n",
        "\n",
        "Вы исправили заголовки, чтобы упростить работу с таблицей. Без дубликатов исследование станет более точным.\n",
        "\n",
        "Пропущенные значения вы заменили на `'unknown'`. Ещё предстоит увидеть, не повредят ли исследованию пропуски в колонке `genre`.\n",
        "\n",
        "Теперь можно перейти к проверке гипотез."
      ]
    },
    {
      "cell_type": "markdown",
      "metadata": {
        "deletable": false,
        "editable": false,
        "id": "WttZHXH0SqKk"
      },
      "source": [
        "## Проверка гипотез"
      ]
    },
    {
      "cell_type": "markdown",
      "metadata": {
        "deletable": false,
        "editable": false,
        "id": "Im936VVi_Zcu"
      },
      "source": [
        "### Сравнение поведения пользователей двух столиц"
      ]
    },
    {
      "cell_type": "markdown",
      "metadata": {
        "deletable": false,
        "editable": false,
        "id": "nwt_MuaL_Zcu"
      },
      "source": [
        "Первая гипотеза утверждает, что пользователи по-разному слушают музыку в Москве и Санкт-Петербурге. Проверим это предположение по данным о трёх днях недели — понедельнике, среде и пятнице. Для этого:\n",
        "\n",
        "* Разделим пользователей Москвы и Санкт-Петербурга.\n",
        "* Сравним, сколько треков послушала каждая группа пользователей в понедельник, среду и пятницу.\n"
      ]
    },
    {
      "cell_type": "markdown",
      "metadata": {
        "deletable": false,
        "id": "8Dw_YMmT_Zcu",
        "tags": [
          "start_task"
        ]
      },
      "source": [
        "**Задание 18**\n",
        "\n"
      ]
    },
    {
      "cell_type": "code",
      "execution_count": null,
      "metadata": {
        "deletable": false,
        "id": "0_Qs96oh_Zcu",
        "outputId": "ab109a5a-ea83-45b2-915a-94a36b7fe86c"
      },
      "outputs": [
        {
          "data": {
            "text/plain": [
              "city\n",
              "Moscow              42741\n",
              "Saint-Petersburg    18512\n",
              "Name: genre, dtype: int64"
            ]
          },
          "execution_count": 28,
          "metadata": {},
          "output_type": "execute_result"
        }
      ],
      "source": [
        "# подсчёт прослушиваний в каждом городе\n",
        "df.groupby('city')['genre'].count()"
      ]
    },
    {
      "cell_type": "markdown",
      "metadata": {
        "id": "dzli3w8o_Zcu",
        "tags": [
          "start_task"
        ]
      },
      "source": [
        "**Задание 19**\n"
      ]
    },
    {
      "cell_type": "code",
      "execution_count": null,
      "metadata": {
        "deletable": false,
        "id": "uZMKjiJz_Zcu",
        "outputId": "dd8951c4-3fe3-4311-f8d9-b4b5ab3548a6"
      },
      "outputs": [
        {
          "data": {
            "text/plain": [
              "day\n",
              "Friday       21840\n",
              "Monday       21354\n",
              "Wednesday    18059\n",
              "Name: genre, dtype: int64"
            ]
          },
          "execution_count": 32,
          "metadata": {},
          "output_type": "execute_result"
        }
      ],
      "source": [
        "# подсчёт прослушиваний в каждый из трёх дней\n",
        "df.groupby('day')['genre'].count()"
      ]
    },
    {
      "cell_type": "markdown",
      "metadata": {
        "deletable": false,
        "editable": false,
        "id": "POzs8bGa_Zcu",
        "tags": [
          "start_task"
        ]
      },
      "source": [
        "**Задание 20**"
      ]
    },
    {
      "cell_type": "code",
      "execution_count": null,
      "metadata": {
        "deletable": false,
        "id": "Nz3GdQB1_Zcu",
        "outputId": "e1375572-dc84-4591-b850-38bb45faa728"
      },
      "outputs": [
        {
          "name": "stdout",
          "output_type": "stream",
          "text": [
            "15740\n"
          ]
        }
      ],
      "source": [
        "def number_tracks(day, city):\n",
        "    track_list = df[df['day']== day]# выберите только строки df со значением переменной day в столбце day\n",
        "    track_list = track_list[track_list['city'] == city] # выберите только строки track_list со значением переменной city в столбце city\n",
        "    track_list_count = track_list['user_id'].count()# вызовите метод подсчета строк для track_list и выберите столбец user_id\n",
        "    return track_list_count\n",
        "print(number_tracks('Monday', 'Moscow'))"
      ]
    },
    {
      "cell_type": "markdown",
      "metadata": {
        "deletable": false,
        "editable": false,
        "id": "ytf7xFrFJQ2r",
        "tags": [
          "start_task"
        ]
      },
      "source": [
        "**Задание 21**"
      ]
    },
    {
      "cell_type": "code",
      "execution_count": null,
      "metadata": {
        "deletable": false,
        "id": "rJcRATNQ_Zcu",
        "outputId": "12f602e0-f75a-425b-8029-28e1df367a80"
      },
      "outputs": [
        {
          "data": {
            "text/plain": [
              "15740"
            ]
          },
          "execution_count": 47,
          "metadata": {},
          "output_type": "execute_result"
        }
      ],
      "source": [
        "# количество прослушиваний в Москве по понедельникам\n",
        "number_tracks('Monday', 'Moscow')"
      ]
    },
    {
      "cell_type": "code",
      "execution_count": null,
      "metadata": {
        "deletable": false,
        "id": "hq_ncZ5T_Zcu",
        "outputId": "37bcf76e-eb28-4f67-ac2e-48d4592c2136"
      },
      "outputs": [
        {
          "data": {
            "text/plain": [
              "5614"
            ]
          },
          "execution_count": 48,
          "metadata": {},
          "output_type": "execute_result"
        }
      ],
      "source": [
        "# количество прослушиваний в Санкт-Петербурге по понедельникам\n",
        "number_tracks('Monday', 'Saint-Petersburg')"
      ]
    },
    {
      "cell_type": "code",
      "execution_count": null,
      "metadata": {
        "deletable": false,
        "id": "_NTy2VPU_Zcu",
        "outputId": "d130ab84-1ea5-4a54-f973-ba47abdeffc7"
      },
      "outputs": [
        {
          "data": {
            "text/plain": [
              "11056"
            ]
          },
          "execution_count": 50,
          "metadata": {},
          "output_type": "execute_result"
        }
      ],
      "source": [
        "# количество прослушиваний в Москве по средам\n",
        "number_tracks('Wednesday', 'Moscow')"
      ]
    },
    {
      "cell_type": "code",
      "execution_count": null,
      "metadata": {
        "deletable": false,
        "id": "j2y3TAwo_Zcu",
        "outputId": "1ba63c84-2988-4a70-87e7-0f940d9016f2"
      },
      "outputs": [
        {
          "data": {
            "text/plain": [
              "7003"
            ]
          },
          "execution_count": 51,
          "metadata": {},
          "output_type": "execute_result"
        }
      ],
      "source": [
        "# количество прослушиваний в Санкт-Петербурге по средам\n",
        "number_tracks('Wednesday', 'Saint-Petersburg')"
      ]
    },
    {
      "cell_type": "code",
      "execution_count": null,
      "metadata": {
        "deletable": false,
        "id": "vYDw5u_K_Zcu",
        "outputId": "779616e1-da67-4e0d-dbaf-5698778c8623"
      },
      "outputs": [
        {
          "data": {
            "text/plain": [
              "15945"
            ]
          },
          "execution_count": 52,
          "metadata": {},
          "output_type": "execute_result"
        }
      ],
      "source": [
        "# количество прослушиваний в Москве по пятницам\n",
        "number_tracks('Friday', 'Moscow')"
      ]
    },
    {
      "cell_type": "code",
      "execution_count": null,
      "metadata": {
        "deletable": false,
        "id": "8_yzFtW3_Zcu",
        "outputId": "92b2bb57-d8e6-4bde-fb27-39f819339d68"
      },
      "outputs": [
        {
          "data": {
            "text/plain": [
              "5895"
            ]
          },
          "execution_count": 53,
          "metadata": {},
          "output_type": "execute_result"
        }
      ],
      "source": [
        "# количество прослушиваний в Санкт-Петербурге по пятницам\n",
        "number_tracks('Friday', 'Saint-Petersburg')"
      ]
    },
    {
      "cell_type": "markdown",
      "metadata": {
        "deletable": false,
        "editable": false,
        "id": "7QXffbO-_Zcu",
        "tags": [
          "start_task"
        ]
      },
      "source": [
        "**Задание 22**"
      ]
    },
    {
      "cell_type": "code",
      "execution_count": null,
      "metadata": {
        "deletable": false,
        "id": "APAcLpOr_Zcu",
        "outputId": "70f760f8-53e2-48bf-83fe-43b082dfb415"
      },
      "outputs": [
        {
          "data": {
            "text/html": [
              "<div>\n",
              "<style scoped>\n",
              "    .dataframe tbody tr th:only-of-type {\n",
              "        vertical-align: middle;\n",
              "    }\n",
              "\n",
              "    .dataframe tbody tr th {\n",
              "        vertical-align: top;\n",
              "    }\n",
              "\n",
              "    .dataframe thead th {\n",
              "        text-align: right;\n",
              "    }\n",
              "</style>\n",
              "<table border=\"1\" class=\"dataframe\">\n",
              "  <thead>\n",
              "    <tr style=\"text-align: right;\">\n",
              "      <th></th>\n",
              "      <th>city</th>\n",
              "      <th>monday</th>\n",
              "      <th>wednesday</th>\n",
              "      <th>friday</th>\n",
              "    </tr>\n",
              "  </thead>\n",
              "  <tbody>\n",
              "    <tr>\n",
              "      <th>0</th>\n",
              "      <td>Москва</td>\n",
              "      <td>15740</td>\n",
              "      <td>11056</td>\n",
              "      <td>15945</td>\n",
              "    </tr>\n",
              "    <tr>\n",
              "      <th>1</th>\n",
              "      <td>Санкт-Петербург</td>\n",
              "      <td>5614</td>\n",
              "      <td>7003</td>\n",
              "      <td>5895</td>\n",
              "    </tr>\n",
              "  </tbody>\n",
              "</table>\n",
              "</div>"
            ],
            "text/plain": [
              "              city  monday  wednesday  friday\n",
              "0           Москва   15740      11056   15945\n",
              "1  Санкт-Петербург    5614       7003    5895"
            ]
          },
          "execution_count": 56,
          "metadata": {},
          "output_type": "execute_result"
        }
      ],
      "source": [
        "# создание таблицы с результатами\n",
        "columns = ['city', 'monday', 'wednesday', 'friday']\n",
        "info = pd.DataFrame(data=[['Москва', 15740, 11056, 15945], ['Санкт-Петербург', 5614, 7003 ,5895 ]], columns=['city', 'monday', 'wednesday', 'friday'])\n",
        "info\n",
        "# вывод таблицы на экран"
      ]
    },
    {
      "cell_type": "markdown",
      "metadata": {
        "deletable": false,
        "editable": false,
        "id": "-EgPIHYu_Zcu"
      },
      "source": [
        "**Выводы**\n",
        "\n",
        "Данные показывают разницу поведения пользователей:\n",
        "\n",
        "- В Москве пик прослушиваний приходится на понедельник и пятницу, а в среду заметен спад.\n",
        "- В Петербурге, наоборот, больше слушают музыку по средам. Активность в понедельник и пятницу здесь почти в равной мере уступает среде.\n",
        "\n",
        "Значит, данные говорят в пользу первой гипотезы."
      ]
    },
    {
      "cell_type": "markdown",
      "metadata": {
        "deletable": false,
        "editable": false,
        "id": "atZAxtq4_Zcu"
      },
      "source": [
        "### Музыка в начале и в конце недели"
      ]
    },
    {
      "cell_type": "markdown",
      "metadata": {
        "deletable": false,
        "editable": false,
        "id": "eXrQqXFH_Zcu"
      },
      "source": [
        "Согласно второй гипотезе, утром в понедельник в Москве преобладают одни жанры, а в Петербурге — другие. Так же и вечером пятницы преобладают разные жанры — в зависимости от города."
      ]
    },
    {
      "cell_type": "markdown",
      "metadata": {
        "deletable": false,
        "editable": false,
        "id": "S8UcW6Hw_Zcu",
        "tags": [
          "start_task"
        ]
      },
      "source": [
        "**Задание 23**"
      ]
    },
    {
      "cell_type": "code",
      "execution_count": null,
      "metadata": {
        "deletable": false,
        "id": "qeaFfM_P_Zcu"
      },
      "outputs": [],
      "source": [
        "# получение таблицы moscow_general из тех строк таблицы df, для которых значение в столбце 'city' равно 'Moscow'\n",
        "moscow_general = df[df['city']== 'Moscow']\n"
      ]
    },
    {
      "cell_type": "code",
      "execution_count": null,
      "metadata": {
        "deletable": false,
        "id": "ORaVRKto_Zcu"
      },
      "outputs": [],
      "source": [
        "# получение таблицы spb_general из тех строк таблицы df, для которых значение в столбце 'city' равно 'Saint-Petersburg'\n",
        "spb_general = df[df['city']== 'Saint-Petersburg']"
      ]
    },
    {
      "cell_type": "markdown",
      "metadata": {
        "deletable": false,
        "editable": false,
        "id": "MEJV-CX2_Zcu",
        "tags": [
          "start_task"
        ]
      },
      "source": [
        "**Задание 24**"
      ]
    },
    {
      "cell_type": "code",
      "execution_count": null,
      "metadata": {
        "deletable": false,
        "id": "laJT9BYl_Zcu",
        "outputId": "a2a07d01-8e76-4dcb-e933-ceb7789a4c76"
      },
      "outputs": [
        {
          "name": "stdout",
          "output_type": "stream",
          "text": [
            "genre\n",
            "pop            1000\n",
            "dance           777\n",
            "electronic      673\n",
            "rock            665\n",
            "hiphop          386\n",
            "classical       257\n",
            "ruspop          252\n",
            "alternative     227\n",
            "world           220\n",
            "rusrap          203\n",
            "Name: genre, dtype: int64\n"
          ]
        }
      ],
      "source": [
        "def genre_weekday(df, day, time1, time2):\n",
        "    # последовательная фильтрация\n",
        "    # оставляем в genre_df только те строки df, у которых день равен day\n",
        "    genre_df = df[df['day']==day]\n",
        "    # оставляем в genre_df только те строки genre_df, у которых время меньше time2\n",
        "    genre_df = genre_df[genre_df['time'] < time2]\n",
        "    # оставляем в genre_df только те строки genre_df, у которых время больше time1\n",
        "    genre_df = genre_df[genre_df['time'] > time1]\n",
        "    # сгруппируем отфильтрованный датафрейм по столбцу с названиями жанров, возьмём столбец genre и посчитаем кол-во строк для каждого жанра методом count()\n",
        "    genre_df_grouped = genre_df.groupby('genre')['genre'].count()\n",
        "    # отсортируем результат по убыванию (чтобы в начале Series оказались самые популярные жанры)\n",
        "    genre_df_sorted = genre_df_grouped.sort_values(ascending=False)\n",
        "    # вернём Series с 10 самыми популярными жанрами в указанный отрезок времени заданного дня\n",
        "    return genre_df_sorted[:10]\n",
        "\n",
        "day = 'Friday'\n",
        "time1 = '07:00'\n",
        "time2 = '11:00'\n",
        "print(genre_weekday(df,day, time1, time2))"
      ]
    },
    {
      "cell_type": "markdown",
      "metadata": {
        "deletable": false,
        "editable": false,
        "id": "la2s2_PF_Zcu",
        "tags": [
          "start_task"
        ]
      },
      "source": [
        "**Задание 25**"
      ]
    },
    {
      "cell_type": "code",
      "execution_count": null,
      "metadata": {
        "deletable": false,
        "id": "yz7itPUQ_Zcu",
        "outputId": "1e84e75b-627b-4ef6-ec84-efead6c5cb8d"
      },
      "outputs": [
        {
          "name": "stdout",
          "output_type": "stream",
          "text": [
            "genre\n",
            "pop            218\n",
            "dance          182\n",
            "rock           162\n",
            "electronic     147\n",
            "hiphop          80\n",
            "ruspop          64\n",
            "alternative     58\n",
            "rusrap          55\n",
            "jazz            44\n",
            "classical       40\n",
            "Name: genre, dtype: int64\n"
          ]
        }
      ],
      "source": [
        "# вызов функции для утра понедельника в Москве (вместо df — таблица moscow_general)\n",
        "time1 = '07:00'\n",
        "time2 = '11:00'\n",
        "print(genre_weekday(moscow_general,'Monday', time1, time2))"
      ]
    },
    {
      "cell_type": "code",
      "execution_count": null,
      "metadata": {
        "deletable": false,
        "id": "kwUcHPdy_Zcu",
        "outputId": "cbcde081-3aab-43d7-c130-f15f1d323a87"
      },
      "outputs": [
        {
          "name": "stdout",
          "output_type": "stream",
          "text": [
            "genre\n",
            "pop            218\n",
            "dance          182\n",
            "rock           162\n",
            "electronic     147\n",
            "hiphop          80\n",
            "ruspop          64\n",
            "alternative     58\n",
            "rusrap          55\n",
            "jazz            44\n",
            "classical       40\n",
            "Name: genre, dtype: int64\n"
          ]
        }
      ],
      "source": [
        "# вызов функции для утра понедельника в Петербурге (вместо df — таблица spb_general)\n",
        "print(genre_weekday(spb_general,'Monday', time1, time2))"
      ]
    },
    {
      "cell_type": "code",
      "execution_count": null,
      "metadata": {
        "deletable": false,
        "id": "EzXVRE1o_Zcu",
        "outputId": "a47cc5ed-13f1-4be4-bac2-eb78be794a4b"
      },
      "outputs": [
        {
          "name": "stdout",
          "output_type": "stream",
          "text": [
            "genre\n",
            "pop            256\n",
            "electronic     216\n",
            "rock           216\n",
            "dance          210\n",
            "hiphop          97\n",
            "alternative     63\n",
            "jazz            61\n",
            "classical       60\n",
            "rusrap          59\n",
            "world           54\n",
            "Name: genre, dtype: int64\n"
          ]
        }
      ],
      "source": [
        "# вызов функции для вечера пятницы в Москве\n",
        "time1 = '17:00'\n",
        "time2 = '23:00'\n",
        "print(genre_weekday(moscow_general,'Friday', time1, time2))"
      ]
    },
    {
      "cell_type": "code",
      "execution_count": null,
      "metadata": {
        "deletable": false,
        "id": "JZaEKu5v_Zcu",
        "outputId": "e43e7ce3-c25f-4a77-9cfc-a79fab650cda"
      },
      "outputs": [
        {
          "name": "stdout",
          "output_type": "stream",
          "text": [
            "genre\n",
            "pop            256\n",
            "electronic     216\n",
            "rock           216\n",
            "dance          210\n",
            "hiphop          97\n",
            "alternative     63\n",
            "jazz            61\n",
            "classical       60\n",
            "rusrap          59\n",
            "world           54\n",
            "Name: genre, dtype: int64\n"
          ]
        }
      ],
      "source": [
        "# вызов функции для вечера пятницы в Петербурге\n",
        "print(genre_weekday(spb_general,'Friday', time1, time2))"
      ]
    },
    {
      "cell_type": "markdown",
      "metadata": {
        "deletable": false,
        "editable": false,
        "id": "wrCe4MNX_Zcu"
      },
      "source": [
        "**Выводы**\n",
        "\n",
        "Если сравнить топ-10 жанров в понедельник утром, можно сделать такие выводы:\n",
        "\n",
        "1. В Москве и Петербурге слушают похожую музыку. Единственное различие — в московский рейтинг вошёл жанр “world”, а в петербургский — джаз и классика.\n",
        "\n",
        "2. В Москве пропущенных значений оказалось так много, что значение `'unknown'` заняло десятое место среди самых популярных жанров. Значит, пропущенные значения занимают существенную долю в данных и угрожают достоверности исследования.\n",
        "\n",
        "Вечер пятницы не меняет эту картину. Некоторые жанры поднимаются немного выше, другие спускаются, но в целом топ-10 остаётся тем же самым.\n",
        "\n",
        "Таким образом, вторая гипотеза подтвердилась лишь частично:\n",
        "* Пользователи слушают похожую музыку в начале недели и в конце.\n",
        "* Разница между Москвой и Петербургом не слишком выражена. В Москве чаще слушают русскую популярную музыку, в Петербурге — джаз.\n",
        "\n",
        "Однако пропуски в данных ставят под сомнение этот результат. В Москве их так много, что рейтинг топ-10 мог бы выглядеть иначе, если бы не утерянные  данные о жанрах."
      ]
    },
    {
      "cell_type": "markdown",
      "metadata": {
        "deletable": false,
        "editable": false,
        "id": "JolODAqr_Zcu"
      },
      "source": [
        "### Жанровые предпочтения в Москве и Петербурге\n",
        "\n",
        "Гипотеза: Петербург — столица рэпа, музыку этого жанра там слушают чаще, чем в Москве.  А Москва — город контрастов, в котором, тем не менее, преобладает поп-музыка."
      ]
    },
    {
      "cell_type": "markdown",
      "metadata": {
        "deletable": false,
        "editable": false,
        "id": "DlegSvaT_Zcu",
        "tags": [
          "start_task"
        ]
      },
      "source": [
        "**Задание 26**"
      ]
    },
    {
      "cell_type": "code",
      "execution_count": null,
      "metadata": {
        "deletable": false,
        "id": "r19lIPke_Zcu"
      },
      "outputs": [],
      "source": [
        "# одной строкой: группировка таблицы moscow_general по столбцу 'genre', выбор столбца `genre`, подсчёт числа значений 'genre' методом count(), сохранение в moscow_genres\n",
        "# сортировка получившегося Series в порядке убывания и сохранение обратно в moscow_genres\n",
        "moscow_genres = moscow_general.groupby('genre')['genre'].count()\n",
        "moscow_genres = moscow_genres.sort_values(ascending=False)"
      ]
    },
    {
      "cell_type": "markdown",
      "metadata": {
        "deletable": false,
        "editable": false,
        "id": "6kMuomxTiIr8",
        "tags": [
          "start_task"
        ]
      },
      "source": [
        "**Задание 27**"
      ]
    },
    {
      "cell_type": "code",
      "execution_count": null,
      "metadata": {
        "deletable": false,
        "id": "WhCSooF8_Zcv",
        "outputId": "69a11700-fe59-4e1a-8ac4-3f43fa4ab705"
      },
      "outputs": [
        {
          "data": {
            "text/plain": [
              "genre\n",
              "pop            2431\n",
              "dance          1932\n",
              "rock           1879\n",
              "electronic     1736\n",
              "hiphop          960\n",
              "alternative     649\n",
              "classical       646\n",
              "rusrap          564\n",
              "ruspop          538\n",
              "world           515\n",
              "Name: genre, dtype: int64"
            ]
          },
          "execution_count": 85,
          "metadata": {},
          "output_type": "execute_result"
        }
      ],
      "source": [
        "# просмотр первых 10 строк moscow_genres\n",
        "moscow_genres.head(10)"
      ]
    },
    {
      "cell_type": "markdown",
      "metadata": {
        "deletable": false,
        "editable": false,
        "id": "cnPG2vnN_Zcv",
        "tags": [
          "start_task"
        ]
      },
      "source": [
        "**Задание 28**"
      ]
    },
    {
      "cell_type": "code",
      "execution_count": null,
      "metadata": {
        "deletable": false,
        "id": "gluLIpE7_Zcv"
      },
      "outputs": [],
      "source": [
        "# одной строкой: группировка таблицы spb_general по столбцу 'genre', выбор столбца `genre`, подсчёт числа значений 'genre' методом count(), сохранение в spb_genres\n",
        "# сортировка получившегося Series в порядке убывания и сохранение обратно в spb_genres\n",
        "spb_genres = spb_general.groupby('genre')['genre'].count()\n",
        "spb_genres = spb_genres.sort_values(ascending=False)"
      ]
    },
    {
      "cell_type": "markdown",
      "metadata": {
        "deletable": false,
        "editable": false,
        "id": "5Doha_ODgyQ8",
        "tags": [
          "start_task"
        ]
      },
      "source": [
        "**Задание 29**"
      ]
    },
    {
      "cell_type": "code",
      "execution_count": null,
      "metadata": {
        "deletable": false,
        "id": "uaGJHjVU_Zcv",
        "outputId": "9a4b5273-81b2-443e-bee2-f76620d587e0"
      },
      "outputs": [
        {
          "data": {
            "text/plain": [
              "genre\n",
              "pop            2431\n",
              "dance          1932\n",
              "rock           1879\n",
              "electronic     1736\n",
              "hiphop          960\n",
              "alternative     649\n",
              "classical       646\n",
              "rusrap          564\n",
              "ruspop          538\n",
              "world           515\n",
              "Name: genre, dtype: int64"
            ]
          },
          "execution_count": 92,
          "metadata": {},
          "output_type": "execute_result"
        }
      ],
      "source": [
        "# просмотр первых 10 строк spb_genres\n",
        "spb_genres.head(10)"
      ]
    },
    {
      "cell_type": "markdown",
      "metadata": {
        "deletable": false,
        "editable": false,
        "id": "RY51YJYu_Zcv"
      },
      "source": [
        "**Выводы**"
      ]
    },
    {
      "cell_type": "markdown",
      "metadata": {
        "deletable": false,
        "editable": false,
        "id": "nVhnJEm__Zcv"
      },
      "source": [
        "Гипотеза частично подтвердилась:\n",
        "* Поп-музыка — самый популярный жанр в Москве, как и предполагала гипотеза. Более того, в топ-10 жанров встречается близкий жанр — русская популярная музыка.\n",
        "* Вопреки ожиданиям, рэп одинаково популярен в Москве и Петербурге.\n"
      ]
    },
    {
      "cell_type": "markdown",
      "metadata": {
        "deletable": false,
        "editable": false,
        "id": "ykKQ0N65_Zcv"
      },
      "source": [
        "## Итоги исследования"
      ]
    },
    {
      "cell_type": "markdown",
      "metadata": {
        "deletable": false,
        "editable": false,
        "id": "tjUwbHb3_Zcv"
      },
      "source": [
        "Вы проверили три гипотезы и установили:\n",
        "\n",
        "1. День недели по-разному влияет на активность пользователей в Москве и Петербурге.\n",
        "\n",
        "Первая гипотеза полностью подтвердилась.\n",
        "\n",
        "2. Музыкальные предпочтения не сильно меняются в течение недели — будь то Москва или Петербург. Небольшие различия заметны в начале недели, по понедельникам:\n",
        "* в Москве слушают музыку жанра “world”,\n",
        "* в Петербурге — джаз и классику.\n",
        "\n",
        "Таким образом, вторая гипотеза подтвердилась лишь отчасти. Этот результат мог оказаться иным, если бы не пропуски в данных.\n",
        "\n",
        "3. Во вкусах пользователей Москвы и Петербурга больше общего, чем различий. Вопреки ожиданиям, предпочтения жанров в Петербурге напоминают московские.\n",
        "\n",
        "Третья гипотеза не подтвердилась. Если различия в предпочтениях и существуют, на основной массе пользователей они незаметны.\n",
        "\n",
        "**На практике исследования содержат проверки статистических гипотез.**\n",
        "Из части данных одного сервиса невозможно сделать какие-то выводы о всех пользователях сервиса без методов статистики.\n",
        "Проверки статистических гипотез покажут, насколько они достоверны, исходя из имеющихся данных."
      ]
    }
  ],
  "metadata": {
    "ExecuteTimeLog": [
      {
        "duration": 55,
        "start_time": "2024-04-21T17:28:01.394Z"
      },
      {
        "duration": 425,
        "start_time": "2024-04-21T17:28:07.370Z"
      },
      {
        "duration": 195,
        "start_time": "2024-04-21T17:28:11.345Z"
      },
      {
        "duration": 18,
        "start_time": "2024-04-21T17:29:36.267Z"
      },
      {
        "duration": 34,
        "start_time": "2024-04-21T17:33:42.797Z"
      },
      {
        "duration": 177,
        "start_time": "2024-04-21T17:38:22.077Z"
      },
      {
        "duration": 28,
        "start_time": "2024-04-21T17:38:59.234Z"
      },
      {
        "duration": 6,
        "start_time": "2024-04-21T17:39:01.791Z"
      },
      {
        "duration": 5,
        "start_time": "2024-04-21T17:39:08.242Z"
      },
      {
        "duration": 1522,
        "start_time": "2024-04-21T17:41:33.940Z"
      },
      {
        "duration": 340,
        "start_time": "2024-04-21T17:41:58.124Z"
      },
      {
        "duration": 2142,
        "start_time": "2024-04-21T17:42:17.037Z"
      },
      {
        "duration": 79,
        "start_time": "2024-04-21T17:43:56.255Z"
      },
      {
        "duration": 12,
        "start_time": "2024-04-21T17:44:05.062Z"
      },
      {
        "duration": 92,
        "start_time": "2024-04-21T17:45:12.596Z"
      },
      {
        "duration": 143,
        "start_time": "2024-04-21T17:45:28.128Z"
      },
      {
        "duration": 14,
        "start_time": "2024-04-21T17:46:04.211Z"
      },
      {
        "duration": 4,
        "start_time": "2024-04-21T17:46:50.434Z"
      },
      {
        "duration": 34,
        "start_time": "2024-04-21T17:47:12.297Z"
      },
      {
        "duration": 28,
        "start_time": "2024-04-21T17:47:25.723Z"
      },
      {
        "duration": 30,
        "start_time": "2024-04-21T17:48:46.710Z"
      },
      {
        "duration": 28,
        "start_time": "2024-04-21T17:48:49.833Z"
      },
      {
        "duration": 28,
        "start_time": "2024-04-21T17:49:32.357Z"
      },
      {
        "duration": 28,
        "start_time": "2024-04-21T17:50:00.466Z"
      },
      {
        "duration": 29,
        "start_time": "2024-04-21T17:50:05.997Z"
      },
      {
        "duration": 21,
        "start_time": "2024-04-21T17:55:29.012Z"
      },
      {
        "duration": 22,
        "start_time": "2024-04-21T17:56:04.855Z"
      },
      {
        "duration": 28,
        "start_time": "2024-04-21T17:56:54.873Z"
      },
      {
        "duration": 66,
        "start_time": "2024-04-21T17:58:23.613Z"
      },
      {
        "duration": 72,
        "start_time": "2024-04-21T18:00:09.267Z"
      },
      {
        "duration": 83,
        "start_time": "2024-04-21T18:00:30.534Z"
      },
      {
        "duration": 88,
        "start_time": "2024-04-21T18:01:27.485Z"
      },
      {
        "duration": 81,
        "start_time": "2024-04-21T18:02:11.317Z"
      },
      {
        "duration": 77,
        "start_time": "2024-04-21T18:04:17.292Z"
      },
      {
        "duration": 397,
        "start_time": "2024-04-21T18:07:29.716Z"
      },
      {
        "duration": 195,
        "start_time": "2024-04-21T18:07:30.115Z"
      },
      {
        "duration": 18,
        "start_time": "2024-04-21T18:07:30.312Z"
      },
      {
        "duration": 140,
        "start_time": "2024-04-21T18:07:30.332Z"
      },
      {
        "duration": 153,
        "start_time": "2024-04-21T18:07:30.474Z"
      },
      {
        "duration": 118,
        "start_time": "2024-04-21T18:07:30.629Z"
      },
      {
        "duration": 115,
        "start_time": "2024-04-21T18:07:30.749Z"
      },
      {
        "duration": 51,
        "start_time": "2024-04-21T18:07:30.865Z"
      },
      {
        "duration": 87,
        "start_time": "2024-04-21T18:07:30.917Z"
      },
      {
        "duration": 112,
        "start_time": "2024-04-21T18:07:31.008Z"
      },
      {
        "duration": 111,
        "start_time": "2024-04-21T18:07:31.122Z"
      },
      {
        "duration": 138,
        "start_time": "2024-04-21T18:07:31.235Z"
      },
      {
        "duration": 116,
        "start_time": "2024-04-21T18:07:31.375Z"
      },
      {
        "duration": 3,
        "start_time": "2024-04-21T18:07:31.492Z"
      },
      {
        "duration": 41,
        "start_time": "2024-04-21T18:07:31.496Z"
      },
      {
        "duration": 79,
        "start_time": "2024-04-21T18:07:31.538Z"
      },
      {
        "duration": 34,
        "start_time": "2024-04-21T18:07:31.618Z"
      },
      {
        "duration": 43,
        "start_time": "2024-04-21T18:07:31.654Z"
      },
      {
        "duration": 27,
        "start_time": "2024-04-21T18:07:31.698Z"
      },
      {
        "duration": 123,
        "start_time": "2024-04-21T18:07:31.727Z"
      },
      {
        "duration": 0,
        "start_time": "2024-04-21T18:07:31.852Z"
      },
      {
        "duration": 0,
        "start_time": "2024-04-21T18:07:31.853Z"
      },
      {
        "duration": 0,
        "start_time": "2024-04-21T18:07:31.854Z"
      },
      {
        "duration": 0,
        "start_time": "2024-04-21T18:07:31.855Z"
      },
      {
        "duration": 0,
        "start_time": "2024-04-21T18:07:31.856Z"
      },
      {
        "duration": 0,
        "start_time": "2024-04-21T18:07:31.857Z"
      },
      {
        "duration": 0,
        "start_time": "2024-04-21T18:07:31.858Z"
      },
      {
        "duration": 0,
        "start_time": "2024-04-21T18:07:31.859Z"
      },
      {
        "duration": 0,
        "start_time": "2024-04-21T18:07:31.860Z"
      },
      {
        "duration": 0,
        "start_time": "2024-04-21T18:07:31.861Z"
      },
      {
        "duration": 0,
        "start_time": "2024-04-21T18:07:31.862Z"
      },
      {
        "duration": 0,
        "start_time": "2024-04-21T18:07:31.863Z"
      },
      {
        "duration": 0,
        "start_time": "2024-04-21T18:07:31.864Z"
      },
      {
        "duration": 0,
        "start_time": "2024-04-21T18:07:31.865Z"
      },
      {
        "duration": 0,
        "start_time": "2024-04-21T18:07:31.866Z"
      },
      {
        "duration": 0,
        "start_time": "2024-04-21T18:07:31.867Z"
      },
      {
        "duration": 0,
        "start_time": "2024-04-21T18:07:31.868Z"
      },
      {
        "duration": 0,
        "start_time": "2024-04-21T18:07:31.869Z"
      },
      {
        "duration": 91,
        "start_time": "2024-04-21T18:07:43.134Z"
      },
      {
        "duration": 87,
        "start_time": "2024-04-21T18:13:32.607Z"
      },
      {
        "duration": 78,
        "start_time": "2024-04-21T18:24:30.423Z"
      },
      {
        "duration": 76,
        "start_time": "2024-04-21T18:24:33.974Z"
      },
      {
        "duration": 67,
        "start_time": "2024-04-21T18:28:51.189Z"
      },
      {
        "duration": 7,
        "start_time": "2024-04-21T18:28:56.606Z"
      },
      {
        "duration": 73,
        "start_time": "2024-04-21T18:29:25.417Z"
      },
      {
        "duration": 64,
        "start_time": "2024-04-21T18:29:57.374Z"
      },
      {
        "duration": 45,
        "start_time": "2024-04-21T18:32:14.540Z"
      },
      {
        "duration": 14,
        "start_time": "2024-04-21T18:40:01.986Z"
      },
      {
        "duration": 14,
        "start_time": "2024-04-21T18:41:09.463Z"
      },
      {
        "duration": 14,
        "start_time": "2024-04-21T18:43:17.302Z"
      },
      {
        "duration": 16,
        "start_time": "2024-04-21T18:43:20.685Z"
      },
      {
        "duration": 10,
        "start_time": "2024-04-21T18:43:49.891Z"
      },
      {
        "duration": 10,
        "start_time": "2024-04-21T18:43:53.134Z"
      },
      {
        "duration": 441,
        "start_time": "2024-04-21T18:44:10.386Z"
      },
      {
        "duration": 198,
        "start_time": "2024-04-21T18:44:10.829Z"
      },
      {
        "duration": 18,
        "start_time": "2024-04-21T18:44:11.029Z"
      },
      {
        "duration": 43,
        "start_time": "2024-04-21T18:44:11.050Z"
      },
      {
        "duration": 3,
        "start_time": "2024-04-21T18:44:11.095Z"
      },
      {
        "duration": 5,
        "start_time": "2024-04-21T18:44:11.100Z"
      },
      {
        "duration": 24,
        "start_time": "2024-04-21T18:44:11.107Z"
      },
      {
        "duration": 18,
        "start_time": "2024-04-21T18:44:11.134Z"
      },
      {
        "duration": 52,
        "start_time": "2024-04-21T18:44:11.155Z"
      },
      {
        "duration": 23,
        "start_time": "2024-04-21T18:44:11.210Z"
      },
      {
        "duration": 42,
        "start_time": "2024-04-21T18:44:11.235Z"
      },
      {
        "duration": 95,
        "start_time": "2024-04-21T18:44:11.278Z"
      },
      {
        "duration": 85,
        "start_time": "2024-04-21T18:44:11.375Z"
      },
      {
        "duration": 73,
        "start_time": "2024-04-21T18:44:11.462Z"
      },
      {
        "duration": 58,
        "start_time": "2024-04-21T18:44:11.537Z"
      },
      {
        "duration": 12,
        "start_time": "2024-04-21T18:44:11.596Z"
      },
      {
        "duration": 3,
        "start_time": "2024-04-21T18:44:11.609Z"
      },
      {
        "duration": 6,
        "start_time": "2024-04-21T18:44:11.613Z"
      },
      {
        "duration": 4,
        "start_time": "2024-04-21T18:44:11.621Z"
      },
      {
        "duration": 70,
        "start_time": "2024-04-21T18:44:11.627Z"
      },
      {
        "duration": 0,
        "start_time": "2024-04-21T18:44:11.699Z"
      },
      {
        "duration": 0,
        "start_time": "2024-04-21T18:44:11.700Z"
      },
      {
        "duration": 0,
        "start_time": "2024-04-21T18:44:11.701Z"
      },
      {
        "duration": 0,
        "start_time": "2024-04-21T18:44:11.702Z"
      },
      {
        "duration": 0,
        "start_time": "2024-04-21T18:44:11.703Z"
      },
      {
        "duration": 0,
        "start_time": "2024-04-21T18:44:11.705Z"
      },
      {
        "duration": 0,
        "start_time": "2024-04-21T18:44:11.706Z"
      },
      {
        "duration": 0,
        "start_time": "2024-04-21T18:44:11.707Z"
      },
      {
        "duration": 0,
        "start_time": "2024-04-21T18:44:11.708Z"
      },
      {
        "duration": 0,
        "start_time": "2024-04-21T18:44:11.709Z"
      },
      {
        "duration": 0,
        "start_time": "2024-04-21T18:44:11.711Z"
      },
      {
        "duration": 0,
        "start_time": "2024-04-21T18:44:11.712Z"
      },
      {
        "duration": 0,
        "start_time": "2024-04-21T18:44:11.713Z"
      },
      {
        "duration": 0,
        "start_time": "2024-04-21T18:44:11.715Z"
      },
      {
        "duration": 0,
        "start_time": "2024-04-21T18:44:11.716Z"
      },
      {
        "duration": 0,
        "start_time": "2024-04-21T18:44:11.717Z"
      },
      {
        "duration": 0,
        "start_time": "2024-04-21T18:44:11.719Z"
      },
      {
        "duration": 0,
        "start_time": "2024-04-21T18:44:11.720Z"
      },
      {
        "duration": 48,
        "start_time": "2024-04-21T18:44:54.630Z"
      },
      {
        "duration": 42,
        "start_time": "2024-04-21T18:49:52.308Z"
      },
      {
        "duration": 37,
        "start_time": "2024-04-21T18:51:08.422Z"
      },
      {
        "duration": 36,
        "start_time": "2024-04-21T18:54:08.492Z"
      },
      {
        "duration": 36,
        "start_time": "2024-04-21T18:54:11.786Z"
      },
      {
        "duration": 46,
        "start_time": "2024-04-21T18:55:11.141Z"
      },
      {
        "duration": 11,
        "start_time": "2024-04-21T18:56:25.733Z"
      },
      {
        "duration": 12,
        "start_time": "2024-04-21T18:56:54.212Z"
      },
      {
        "duration": 38,
        "start_time": "2024-04-21T18:57:49.441Z"
      },
      {
        "duration": 37,
        "start_time": "2024-04-21T18:58:00.780Z"
      },
      {
        "duration": 38,
        "start_time": "2024-04-21T18:58:03.899Z"
      },
      {
        "duration": 12,
        "start_time": "2024-04-21T18:58:23.832Z"
      },
      {
        "duration": 4,
        "start_time": "2024-04-21T19:04:29.457Z"
      },
      {
        "duration": 4,
        "start_time": "2024-04-21T19:05:42.802Z"
      },
      {
        "duration": 90,
        "start_time": "2024-04-21T19:06:28.447Z"
      },
      {
        "duration": 1322,
        "start_time": "2024-04-21T19:06:41.102Z"
      },
      {
        "duration": 1267,
        "start_time": "2024-04-21T19:07:53.076Z"
      },
      {
        "duration": 1378,
        "start_time": "2024-04-21T19:10:16.193Z"
      },
      {
        "duration": 3,
        "start_time": "2024-04-21T19:10:26.866Z"
      },
      {
        "duration": 3,
        "start_time": "2024-04-21T19:11:02.683Z"
      },
      {
        "duration": 3,
        "start_time": "2024-04-21T19:11:05.777Z"
      },
      {
        "duration": 4,
        "start_time": "2024-04-21T19:11:43.541Z"
      },
      {
        "duration": 4,
        "start_time": "2024-04-21T19:11:45.983Z"
      },
      {
        "duration": 1229,
        "start_time": "2024-04-21T19:12:45.874Z"
      },
      {
        "duration": 18,
        "start_time": "2024-04-21T19:14:09.838Z"
      },
      {
        "duration": 3,
        "start_time": "2024-04-21T19:16:20.522Z"
      },
      {
        "duration": 17,
        "start_time": "2024-04-21T19:16:28.241Z"
      },
      {
        "duration": 15,
        "start_time": "2024-04-21T19:16:52.943Z"
      },
      {
        "duration": 80,
        "start_time": "2024-04-21T19:17:53.409Z"
      },
      {
        "duration": 16,
        "start_time": "2024-04-21T19:17:59.844Z"
      },
      {
        "duration": 14,
        "start_time": "2024-04-21T19:18:40.553Z"
      },
      {
        "duration": 18,
        "start_time": "2024-04-21T19:19:53.618Z"
      },
      {
        "duration": 16,
        "start_time": "2024-04-21T19:20:07.164Z"
      },
      {
        "duration": 10,
        "start_time": "2024-04-21T19:29:57.567Z"
      },
      {
        "duration": 8,
        "start_time": "2024-04-21T19:30:20.803Z"
      },
      {
        "duration": 9,
        "start_time": "2024-04-21T19:33:27.424Z"
      },
      {
        "duration": 13,
        "start_time": "2024-04-21T19:47:29.646Z"
      },
      {
        "duration": 12,
        "start_time": "2024-04-21T19:49:20.144Z"
      },
      {
        "duration": 10,
        "start_time": "2024-04-21T19:49:53.264Z"
      },
      {
        "duration": 4,
        "start_time": "2024-04-21T19:58:21.021Z"
      },
      {
        "duration": 5,
        "start_time": "2024-04-21T19:58:25.545Z"
      },
      {
        "duration": 6,
        "start_time": "2024-04-21T20:00:36.371Z"
      },
      {
        "duration": 10,
        "start_time": "2024-04-21T20:00:55.003Z"
      },
      {
        "duration": 1829,
        "start_time": "2024-04-21T20:01:27.004Z"
      },
      {
        "duration": 21,
        "start_time": "2024-04-21T20:02:07.245Z"
      },
      {
        "duration": 16,
        "start_time": "2024-04-21T20:04:20.882Z"
      },
      {
        "duration": 11,
        "start_time": "2024-04-21T20:04:45.407Z"
      },
      {
        "duration": 11,
        "start_time": "2024-04-21T20:05:22.651Z"
      },
      {
        "duration": 11,
        "start_time": "2024-04-21T20:05:34.336Z"
      },
      {
        "duration": 12,
        "start_time": "2024-04-21T20:06:07.423Z"
      },
      {
        "duration": 13,
        "start_time": "2024-04-21T20:06:38.123Z"
      },
      {
        "duration": 86,
        "start_time": "2024-04-21T20:10:58.318Z"
      },
      {
        "duration": 11,
        "start_time": "2024-04-21T20:11:07.014Z"
      },
      {
        "duration": 7,
        "start_time": "2024-04-21T20:14:21.408Z"
      },
      {
        "duration": 8,
        "start_time": "2024-04-21T20:23:00.387Z"
      },
      {
        "duration": 8,
        "start_time": "2024-04-21T20:28:48.520Z"
      },
      {
        "duration": 22,
        "start_time": "2024-04-21T20:37:08.958Z"
      },
      {
        "duration": 15,
        "start_time": "2024-04-21T20:38:59.806Z"
      },
      {
        "duration": 19,
        "start_time": "2024-04-21T20:39:14.050Z"
      },
      {
        "duration": 10,
        "start_time": "2024-04-21T20:40:33.483Z"
      },
      {
        "duration": 92,
        "start_time": "2024-04-21T20:41:26.889Z"
      },
      {
        "duration": 10,
        "start_time": "2024-04-21T20:41:54.499Z"
      },
      {
        "duration": 9,
        "start_time": "2024-04-21T20:42:35.346Z"
      },
      {
        "duration": 6,
        "start_time": "2024-04-21T20:43:00.738Z"
      },
      {
        "duration": 5,
        "start_time": "2024-04-21T20:44:29.042Z"
      },
      {
        "duration": 12,
        "start_time": "2024-04-21T20:45:43.755Z"
      },
      {
        "duration": 11,
        "start_time": "2024-04-21T20:46:09.510Z"
      },
      {
        "duration": 10,
        "start_time": "2024-04-21T20:46:28.954Z"
      },
      {
        "duration": 10,
        "start_time": "2024-04-21T20:46:53.147Z"
      },
      {
        "duration": 7,
        "start_time": "2024-04-21T20:47:00.858Z"
      },
      {
        "duration": 7,
        "start_time": "2024-04-21T20:47:52.954Z"
      },
      {
        "duration": 5,
        "start_time": "2024-04-21T20:48:00.122Z"
      }
    ],
    "celltoolbar": "Отсутствует",
    "colab": {
      "collapsed_sections": [
        "E0vqbgi9ay0H",
        "VUC88oWjTJw2"
      ],
      "provenance": [],
      "include_colab_link": true
    },
    "kernelspec": {
      "display_name": "Python 3 (ipykernel)",
      "language": "python",
      "name": "python3"
    },
    "language_info": {
      "codemirror_mode": {
        "name": "ipython",
        "version": 3
      },
      "file_extension": ".py",
      "mimetype": "text/x-python",
      "name": "python",
      "nbconvert_exporter": "python",
      "pygments_lexer": "ipython3",
      "version": "3.9.5"
    },
    "toc": {
      "base_numbering": 1,
      "nav_menu": {
        "height": "215px",
        "width": "403px"
      },
      "number_sections": true,
      "sideBar": true,
      "skip_h1_title": true,
      "title_cell": "Table of Contents",
      "title_sidebar": "Contents",
      "toc_cell": false,
      "toc_position": {
        "height": "calc(100% - 180px)",
        "left": "10px",
        "top": "150px",
        "width": "285.825px"
      },
      "toc_section_display": true,
      "toc_window_display": false
    }
  },
  "nbformat": 4,
  "nbformat_minor": 0
}